{
 "cells": [
  {
   "cell_type": "code",
   "execution_count": 1,
   "metadata": {
    "collapsed": true
   },
   "outputs": [],
   "source": [
    "from bokeh.io import output_notebook, show\n",
    "from bokeh.plotting import figure"
   ]
  },
  {
   "cell_type": "code",
   "execution_count": 2,
   "metadata": {},
   "outputs": [
    {
     "data": {
      "text/html": [
       "\n",
       "    <div class=\"bk-root\">\n",
       "        <a href=\"https://bokeh.pydata.org\" target=\"_blank\" class=\"bk-logo bk-logo-small bk-logo-notebook\"></a>\n",
       "        <span id=\"48478bcb-b374-479e-8a6b-51d9b1b92843\">Loading BokehJS ...</span>\n",
       "    </div>"
      ]
     },
     "metadata": {},
     "output_type": "display_data"
    },
    {
     "data": {
      "application/javascript": [
       "\n",
       "(function(root) {\n",
       "  function now() {\n",
       "    return new Date();\n",
       "  }\n",
       "\n",
       "  var force = true;\n",
       "\n",
       "  if (typeof (root._bokeh_onload_callbacks) === \"undefined\" || force === true) {\n",
       "    root._bokeh_onload_callbacks = [];\n",
       "    root._bokeh_is_loading = undefined;\n",
       "  }\n",
       "\n",
       "  var JS_MIME_TYPE = 'application/javascript';\n",
       "  var HTML_MIME_TYPE = 'text/html';\n",
       "  var EXEC_MIME_TYPE = 'application/vnd.bokehjs_exec.v0+json';\n",
       "  var CLASS_NAME = 'output_bokeh rendered_html';\n",
       "\n",
       "  /**\n",
       "   * Render data to the DOM node\n",
       "   */\n",
       "  function render(props, node) {\n",
       "    var script = document.createElement(\"script\");\n",
       "    node.appendChild(script);\n",
       "  }\n",
       "\n",
       "  /**\n",
       "   * Handle when an output is cleared or removed\n",
       "   */\n",
       "  function handleClearOutput(event, handle) {\n",
       "    var cell = handle.cell;\n",
       "\n",
       "    var id = cell.output_area._bokeh_element_id;\n",
       "    var server_id = cell.output_area._bokeh_server_id;\n",
       "    // Clean up Bokeh references\n",
       "    if (id !== undefined) {\n",
       "      Bokeh.index[id].model.document.clear();\n",
       "      delete Bokeh.index[id];\n",
       "    }\n",
       "\n",
       "    if (server_id !== undefined) {\n",
       "      // Clean up Bokeh references\n",
       "      var cmd = \"from bokeh.io import _state; print(_state.uuid_to_server['\" + server_id + \"'].get_sessions()[0].document.roots[0]._id)\";\n",
       "      cell.notebook.kernel.execute(cmd, {\n",
       "        iopub: {\n",
       "          output: function(msg) {\n",
       "            var element_id = msg.content.text.trim();\n",
       "            Bokeh.index[element_id].model.document.clear();\n",
       "            delete Bokeh.index[element_id];\n",
       "          }\n",
       "        }\n",
       "      });\n",
       "      // Destroy server and session\n",
       "      var cmd = \"from bokeh import io; io._destroy_server('\" + server_id + \"')\";\n",
       "      cell.notebook.kernel.execute(cmd);\n",
       "    }\n",
       "  }\n",
       "\n",
       "  /**\n",
       "   * Handle when a new output is added\n",
       "   */\n",
       "  function handleAddOutput(event, handle) {\n",
       "    var output_area = handle.output_area;\n",
       "    var output = handle.output;\n",
       "\n",
       "    // limit handleAddOutput to display_data with EXEC_MIME_TYPE content only\n",
       "    if ((output.output_type != \"display_data\") || (!output.data.hasOwnProperty(EXEC_MIME_TYPE))) {\n",
       "      return\n",
       "    }\n",
       "\n",
       "    var toinsert = output_area.element.find(`.${CLASS_NAME.split(' ')[0]}`);\n",
       "\n",
       "    if (output.metadata[EXEC_MIME_TYPE][\"id\"] !== undefined) {\n",
       "      toinsert[0].firstChild.textContent = output.data[JS_MIME_TYPE];\n",
       "      // store reference to embed id on output_area\n",
       "      output_area._bokeh_element_id = output.metadata[EXEC_MIME_TYPE][\"id\"];\n",
       "    }\n",
       "    if (output.metadata[EXEC_MIME_TYPE][\"server_id\"] !== undefined) {\n",
       "      var bk_div = document.createElement(\"div\");\n",
       "      bk_div.innerHTML = output.data[HTML_MIME_TYPE];\n",
       "      var script_attrs = bk_div.children[0].attributes;\n",
       "      for (var i = 0; i < script_attrs.length; i++) {\n",
       "        toinsert[0].firstChild.setAttribute(script_attrs[i].name, script_attrs[i].value);\n",
       "      }\n",
       "      // store reference to server id on output_area\n",
       "      output_area._bokeh_server_id = output.metadata[EXEC_MIME_TYPE][\"server_id\"];\n",
       "    }\n",
       "  }\n",
       "\n",
       "  function register_renderer(events, OutputArea) {\n",
       "\n",
       "    function append_mime(data, metadata, element) {\n",
       "      // create a DOM node to render to\n",
       "      var toinsert = this.create_output_subarea(\n",
       "        metadata,\n",
       "        CLASS_NAME,\n",
       "        EXEC_MIME_TYPE\n",
       "      );\n",
       "      this.keyboard_manager.register_events(toinsert);\n",
       "      // Render to node\n",
       "      var props = {data: data, metadata: metadata[EXEC_MIME_TYPE]};\n",
       "      render(props, toinsert[0]);\n",
       "      element.append(toinsert);\n",
       "      return toinsert\n",
       "    }\n",
       "\n",
       "    /* Handle when an output is cleared or removed */\n",
       "    events.on('clear_output.CodeCell', handleClearOutput);\n",
       "    events.on('delete.Cell', handleClearOutput);\n",
       "\n",
       "    /* Handle when a new output is added */\n",
       "    events.on('output_added.OutputArea', handleAddOutput);\n",
       "\n",
       "    /**\n",
       "     * Register the mime type and append_mime function with output_area\n",
       "     */\n",
       "    OutputArea.prototype.register_mime_type(EXEC_MIME_TYPE, append_mime, {\n",
       "      /* Is output safe? */\n",
       "      safe: true,\n",
       "      /* Index of renderer in `output_area.display_order` */\n",
       "      index: 0\n",
       "    });\n",
       "  }\n",
       "\n",
       "  // register the mime type if in Jupyter Notebook environment and previously unregistered\n",
       "  if (root.Jupyter !== undefined) {\n",
       "    var events = require('base/js/events');\n",
       "    var OutputArea = require('notebook/js/outputarea').OutputArea;\n",
       "\n",
       "    if (OutputArea.prototype.mime_types().indexOf(EXEC_MIME_TYPE) == -1) {\n",
       "      register_renderer(events, OutputArea);\n",
       "    }\n",
       "  }\n",
       "\n",
       "  \n",
       "  if (typeof (root._bokeh_timeout) === \"undefined\" || force === true) {\n",
       "    root._bokeh_timeout = Date.now() + 5000;\n",
       "    root._bokeh_failed_load = false;\n",
       "  }\n",
       "\n",
       "  var NB_LOAD_WARNING = {'data': {'text/html':\n",
       "     \"<div style='background-color: #fdd'>\\n\"+\n",
       "     \"<p>\\n\"+\n",
       "     \"BokehJS does not appear to have successfully loaded. If loading BokehJS from CDN, this \\n\"+\n",
       "     \"may be due to a slow or bad network connection. Possible fixes:\\n\"+\n",
       "     \"</p>\\n\"+\n",
       "     \"<ul>\\n\"+\n",
       "     \"<li>re-rerun `output_notebook()` to attempt to load from CDN again, or</li>\\n\"+\n",
       "     \"<li>use INLINE resources instead, as so:</li>\\n\"+\n",
       "     \"</ul>\\n\"+\n",
       "     \"<code>\\n\"+\n",
       "     \"from bokeh.resources import INLINE\\n\"+\n",
       "     \"output_notebook(resources=INLINE)\\n\"+\n",
       "     \"</code>\\n\"+\n",
       "     \"</div>\"}};\n",
       "\n",
       "  function display_loaded() {\n",
       "    var el = document.getElementById(\"48478bcb-b374-479e-8a6b-51d9b1b92843\");\n",
       "    if (el != null) {\n",
       "      el.textContent = \"BokehJS is loading...\";\n",
       "    }\n",
       "    if (root.Bokeh !== undefined) {\n",
       "      if (el != null) {\n",
       "        el.textContent = \"BokehJS \" + root.Bokeh.version + \" successfully loaded.\";\n",
       "      }\n",
       "    } else if (Date.now() < root._bokeh_timeout) {\n",
       "      setTimeout(display_loaded, 100)\n",
       "    }\n",
       "  }\n",
       "\n",
       "\n",
       "  function run_callbacks() {\n",
       "    try {\n",
       "      root._bokeh_onload_callbacks.forEach(function(callback) { callback() });\n",
       "    }\n",
       "    finally {\n",
       "      delete root._bokeh_onload_callbacks\n",
       "    }\n",
       "    console.info(\"Bokeh: all callbacks have finished\");\n",
       "  }\n",
       "\n",
       "  function load_libs(js_urls, callback) {\n",
       "    root._bokeh_onload_callbacks.push(callback);\n",
       "    if (root._bokeh_is_loading > 0) {\n",
       "      console.log(\"Bokeh: BokehJS is being loaded, scheduling callback at\", now());\n",
       "      return null;\n",
       "    }\n",
       "    if (js_urls == null || js_urls.length === 0) {\n",
       "      run_callbacks();\n",
       "      return null;\n",
       "    }\n",
       "    console.log(\"Bokeh: BokehJS not loaded, scheduling load and callback at\", now());\n",
       "    root._bokeh_is_loading = js_urls.length;\n",
       "    for (var i = 0; i < js_urls.length; i++) {\n",
       "      var url = js_urls[i];\n",
       "      var s = document.createElement('script');\n",
       "      s.src = url;\n",
       "      s.async = false;\n",
       "      s.onreadystatechange = s.onload = function() {\n",
       "        root._bokeh_is_loading--;\n",
       "        if (root._bokeh_is_loading === 0) {\n",
       "          console.log(\"Bokeh: all BokehJS libraries loaded\");\n",
       "          run_callbacks()\n",
       "        }\n",
       "      };\n",
       "      s.onerror = function() {\n",
       "        console.warn(\"failed to load library \" + url);\n",
       "      };\n",
       "      console.log(\"Bokeh: injecting script tag for BokehJS library: \", url);\n",
       "      document.getElementsByTagName(\"head\")[0].appendChild(s);\n",
       "    }\n",
       "  };var element = document.getElementById(\"48478bcb-b374-479e-8a6b-51d9b1b92843\");\n",
       "  if (element == null) {\n",
       "    console.log(\"Bokeh: ERROR: autoload.js configured with elementid '48478bcb-b374-479e-8a6b-51d9b1b92843' but no matching script tag was found. \")\n",
       "    return false;\n",
       "  }\n",
       "\n",
       "  var js_urls = [\"https://cdn.pydata.org/bokeh/release/bokeh-0.12.9.min.js\", \"https://cdn.pydata.org/bokeh/release/bokeh-widgets-0.12.9.min.js\", \"https://cdn.pydata.org/bokeh/release/bokeh-tables-0.12.9.min.js\", \"https://cdn.pydata.org/bokeh/release/bokeh-gl-0.12.9.min.js\"];\n",
       "\n",
       "  var inline_js = [\n",
       "    function(Bokeh) {\n",
       "      Bokeh.set_log_level(\"info\");\n",
       "    },\n",
       "    \n",
       "    function(Bokeh) {\n",
       "      \n",
       "    },\n",
       "    function(Bokeh) {\n",
       "      console.log(\"Bokeh: injecting CSS: https://cdn.pydata.org/bokeh/release/bokeh-0.12.9.min.css\");\n",
       "      Bokeh.embed.inject_css(\"https://cdn.pydata.org/bokeh/release/bokeh-0.12.9.min.css\");\n",
       "      console.log(\"Bokeh: injecting CSS: https://cdn.pydata.org/bokeh/release/bokeh-widgets-0.12.9.min.css\");\n",
       "      Bokeh.embed.inject_css(\"https://cdn.pydata.org/bokeh/release/bokeh-widgets-0.12.9.min.css\");\n",
       "      console.log(\"Bokeh: injecting CSS: https://cdn.pydata.org/bokeh/release/bokeh-tables-0.12.9.min.css\");\n",
       "      Bokeh.embed.inject_css(\"https://cdn.pydata.org/bokeh/release/bokeh-tables-0.12.9.min.css\");\n",
       "    }\n",
       "  ];\n",
       "\n",
       "  function run_inline_js() {\n",
       "    \n",
       "    if ((root.Bokeh !== undefined) || (force === true)) {\n",
       "      for (var i = 0; i < inline_js.length; i++) {\n",
       "        inline_js[i].call(root, root.Bokeh);\n",
       "      }if (force === true) {\n",
       "        display_loaded();\n",
       "      }} else if (Date.now() < root._bokeh_timeout) {\n",
       "      setTimeout(run_inline_js, 100);\n",
       "    } else if (!root._bokeh_failed_load) {\n",
       "      console.log(\"Bokeh: BokehJS failed to load within specified timeout.\");\n",
       "      root._bokeh_failed_load = true;\n",
       "    } else if (force !== true) {\n",
       "      var cell = $(document.getElementById(\"48478bcb-b374-479e-8a6b-51d9b1b92843\")).parents('.cell').data().cell;\n",
       "      cell.output_area.append_execute_result(NB_LOAD_WARNING)\n",
       "    }\n",
       "\n",
       "  }\n",
       "\n",
       "  if (root._bokeh_is_loading === 0) {\n",
       "    console.log(\"Bokeh: BokehJS loaded, going straight to plotting\");\n",
       "    run_inline_js();\n",
       "  } else {\n",
       "    load_libs(js_urls, function() {\n",
       "      console.log(\"Bokeh: BokehJS plotting callback run at\", now());\n",
       "      run_inline_js();\n",
       "    });\n",
       "  }\n",
       "}(window));"
      ],
      "application/vnd.bokehjs_load.v0+json": "\n(function(root) {\n  function now() {\n    return new Date();\n  }\n\n  var force = true;\n\n  if (typeof (root._bokeh_onload_callbacks) === \"undefined\" || force === true) {\n    root._bokeh_onload_callbacks = [];\n    root._bokeh_is_loading = undefined;\n  }\n\n  \n\n  \n  if (typeof (root._bokeh_timeout) === \"undefined\" || force === true) {\n    root._bokeh_timeout = Date.now() + 5000;\n    root._bokeh_failed_load = false;\n  }\n\n  var NB_LOAD_WARNING = {'data': {'text/html':\n     \"<div style='background-color: #fdd'>\\n\"+\n     \"<p>\\n\"+\n     \"BokehJS does not appear to have successfully loaded. If loading BokehJS from CDN, this \\n\"+\n     \"may be due to a slow or bad network connection. Possible fixes:\\n\"+\n     \"</p>\\n\"+\n     \"<ul>\\n\"+\n     \"<li>re-rerun `output_notebook()` to attempt to load from CDN again, or</li>\\n\"+\n     \"<li>use INLINE resources instead, as so:</li>\\n\"+\n     \"</ul>\\n\"+\n     \"<code>\\n\"+\n     \"from bokeh.resources import INLINE\\n\"+\n     \"output_notebook(resources=INLINE)\\n\"+\n     \"</code>\\n\"+\n     \"</div>\"}};\n\n  function display_loaded() {\n    var el = document.getElementById(\"48478bcb-b374-479e-8a6b-51d9b1b92843\");\n    if (el != null) {\n      el.textContent = \"BokehJS is loading...\";\n    }\n    if (root.Bokeh !== undefined) {\n      if (el != null) {\n        el.textContent = \"BokehJS \" + root.Bokeh.version + \" successfully loaded.\";\n      }\n    } else if (Date.now() < root._bokeh_timeout) {\n      setTimeout(display_loaded, 100)\n    }\n  }\n\n\n  function run_callbacks() {\n    try {\n      root._bokeh_onload_callbacks.forEach(function(callback) { callback() });\n    }\n    finally {\n      delete root._bokeh_onload_callbacks\n    }\n    console.info(\"Bokeh: all callbacks have finished\");\n  }\n\n  function load_libs(js_urls, callback) {\n    root._bokeh_onload_callbacks.push(callback);\n    if (root._bokeh_is_loading > 0) {\n      console.log(\"Bokeh: BokehJS is being loaded, scheduling callback at\", now());\n      return null;\n    }\n    if (js_urls == null || js_urls.length === 0) {\n      run_callbacks();\n      return null;\n    }\n    console.log(\"Bokeh: BokehJS not loaded, scheduling load and callback at\", now());\n    root._bokeh_is_loading = js_urls.length;\n    for (var i = 0; i < js_urls.length; i++) {\n      var url = js_urls[i];\n      var s = document.createElement('script');\n      s.src = url;\n      s.async = false;\n      s.onreadystatechange = s.onload = function() {\n        root._bokeh_is_loading--;\n        if (root._bokeh_is_loading === 0) {\n          console.log(\"Bokeh: all BokehJS libraries loaded\");\n          run_callbacks()\n        }\n      };\n      s.onerror = function() {\n        console.warn(\"failed to load library \" + url);\n      };\n      console.log(\"Bokeh: injecting script tag for BokehJS library: \", url);\n      document.getElementsByTagName(\"head\")[0].appendChild(s);\n    }\n  };var element = document.getElementById(\"48478bcb-b374-479e-8a6b-51d9b1b92843\");\n  if (element == null) {\n    console.log(\"Bokeh: ERROR: autoload.js configured with elementid '48478bcb-b374-479e-8a6b-51d9b1b92843' but no matching script tag was found. \")\n    return false;\n  }\n\n  var js_urls = [\"https://cdn.pydata.org/bokeh/release/bokeh-0.12.9.min.js\", \"https://cdn.pydata.org/bokeh/release/bokeh-widgets-0.12.9.min.js\", \"https://cdn.pydata.org/bokeh/release/bokeh-tables-0.12.9.min.js\", \"https://cdn.pydata.org/bokeh/release/bokeh-gl-0.12.9.min.js\"];\n\n  var inline_js = [\n    function(Bokeh) {\n      Bokeh.set_log_level(\"info\");\n    },\n    \n    function(Bokeh) {\n      \n    },\n    function(Bokeh) {\n      console.log(\"Bokeh: injecting CSS: https://cdn.pydata.org/bokeh/release/bokeh-0.12.9.min.css\");\n      Bokeh.embed.inject_css(\"https://cdn.pydata.org/bokeh/release/bokeh-0.12.9.min.css\");\n      console.log(\"Bokeh: injecting CSS: https://cdn.pydata.org/bokeh/release/bokeh-widgets-0.12.9.min.css\");\n      Bokeh.embed.inject_css(\"https://cdn.pydata.org/bokeh/release/bokeh-widgets-0.12.9.min.css\");\n      console.log(\"Bokeh: injecting CSS: https://cdn.pydata.org/bokeh/release/bokeh-tables-0.12.9.min.css\");\n      Bokeh.embed.inject_css(\"https://cdn.pydata.org/bokeh/release/bokeh-tables-0.12.9.min.css\");\n    }\n  ];\n\n  function run_inline_js() {\n    \n    if ((root.Bokeh !== undefined) || (force === true)) {\n      for (var i = 0; i < inline_js.length; i++) {\n        inline_js[i].call(root, root.Bokeh);\n      }if (force === true) {\n        display_loaded();\n      }} else if (Date.now() < root._bokeh_timeout) {\n      setTimeout(run_inline_js, 100);\n    } else if (!root._bokeh_failed_load) {\n      console.log(\"Bokeh: BokehJS failed to load within specified timeout.\");\n      root._bokeh_failed_load = true;\n    } else if (force !== true) {\n      var cell = $(document.getElementById(\"48478bcb-b374-479e-8a6b-51d9b1b92843\")).parents('.cell').data().cell;\n      cell.output_area.append_execute_result(NB_LOAD_WARNING)\n    }\n\n  }\n\n  if (root._bokeh_is_loading === 0) {\n    console.log(\"Bokeh: BokehJS loaded, going straight to plotting\");\n    run_inline_js();\n  } else {\n    load_libs(js_urls, function() {\n      console.log(\"Bokeh: BokehJS plotting callback run at\", now());\n      run_inline_js();\n    });\n  }\n}(window));"
     },
     "metadata": {},
     "output_type": "display_data"
    }
   ],
   "source": [
    "output_notebook()"
   ]
  },
  {
   "cell_type": "code",
   "execution_count": 51,
   "metadata": {
    "collapsed": true
   },
   "outputs": [],
   "source": [
    "import pandas as pd\n",
    "\n",
    "from bokeh.models import LinearAxis, Range1d, LabelSet, ColumnDataSource\n",
    "from bokeh.layouts import gridplot, row"
   ]
  },
  {
   "cell_type": "code",
   "execution_count": 11,
   "metadata": {
    "collapsed": true
   },
   "outputs": [],
   "source": [
    "from math import sqrt"
   ]
  },
  {
   "cell_type": "code",
   "execution_count": 37,
   "metadata": {},
   "outputs": [
    {
     "name": "stdout",
     "output_type": "stream",
     "text": [
      "test-lb-policy.csv   test.csv             visualization.ipynb\r\n"
     ]
    }
   ],
   "source": [
    "%ls"
   ]
  },
  {
   "cell_type": "code",
   "execution_count": 38,
   "metadata": {},
   "outputs": [],
   "source": [
    "df = pd.read_csv('test.csv')\n",
    "df_lb = pd.read_csv('test-lb-policy.csv')"
   ]
  },
  {
   "cell_type": "code",
   "execution_count": 39,
   "metadata": {},
   "outputs": [],
   "source": [
    "df['std_dev'] = df.var_resp_time.apply(sqrt)"
   ]
  },
  {
   "cell_type": "code",
   "execution_count": 40,
   "metadata": {},
   "outputs": [],
   "source": [
    "df['small_load'] = df.small_arrival / 18.73\n",
    "df_lb['small_load'] = df.small_arrival / 18.73"
   ]
  },
  {
   "cell_type": "code",
   "execution_count": 56,
   "metadata": {},
   "outputs": [
    {
     "data": {
      "text/html": [
       "\n",
       "<div class=\"bk-root\">\n",
       "    <div class=\"bk-plotdiv\" id=\"c3dc17e2-cf94-4eb1-83ad-6bfab71ca9eb\"></div>\n",
       "</div>"
      ]
     },
     "metadata": {},
     "output_type": "display_data"
    },
    {
     "data": {
      "application/javascript": [
       "(function(root) {\n",
       "  function embed_document(root) {\n",
       "    var docs_json = {\"5c571e28-23bb-4c8e-b615-2e14c0601c5b\":{\"roots\":{\"references\":[{\"attributes\":{\"label\":{\"value\":\"Constraint\"},\"renderers\":[{\"id\":\"dbe288db-eeac-4d37-a764-1e103ea7a9a8\",\"type\":\"GlyphRenderer\"}]},\"id\":\"de6b1e55-09e2-416b-a22e-9f803934a6d9\",\"type\":\"LegendItem\"},{\"attributes\":{},\"id\":\"cf43b5aa-62e4-4c5a-be79-1189149308bc\",\"type\":\"WheelZoomTool\"},{\"attributes\":{\"axis_label\":\"Small cell load\",\"formatter\":{\"id\":\"d4d6360d-d70a-4bf1-ae1d-8692f9dc3a4a\",\"type\":\"BasicTickFormatter\"},\"plot\":{\"id\":\"1de471c8-cb0c-4de2-9004-73dceeafcfc5\",\"subtype\":\"Figure\",\"type\":\"Plot\"},\"ticker\":{\"id\":\"0dc9bcac-9d76-4e3c-8362-3bab35e93cb6\",\"type\":\"BasicTicker\"}},\"id\":\"ae0a11c3-1807-491a-b8d6-bf768b268d13\",\"type\":\"LinearAxis\"},{\"attributes\":{\"data_source\":{\"id\":\"b24f41ed-cc7a-40d2-aa01-afebefdd9fd2\",\"type\":\"ColumnDataSource\"},\"glyph\":{\"id\":\"09a625ef-3bc8-4f0e-a698-ad54bd40dd21\",\"type\":\"Circle\"},\"hover_glyph\":null,\"muted_glyph\":null,\"nonselection_glyph\":{\"id\":\"a04e1c74-84d8-44e5-b131-83b9b5ba1020\",\"type\":\"Circle\"},\"selection_glyph\":null,\"view\":{\"id\":\"f335ebab-b888-4bac-9837-b8ce0c5def62\",\"type\":\"CDSView\"}},\"id\":\"7047cae9-bff5-49aa-8549-9b21cca4df58\",\"type\":\"GlyphRenderer\"},{\"attributes\":{},\"id\":\"3dc6791c-c859-41ef-ad55-147846111a4f\",\"type\":\"PanTool\"},{\"attributes\":{\"source\":{\"id\":\"7518768f-05fa-4c02-b482-968059d578ac\",\"type\":\"ColumnDataSource\"}},\"id\":\"186df4de-e3f0-4610-8d82-f150a881fefb\",\"type\":\"CDSView\"},{\"attributes\":{\"grid_line_alpha\":{\"value\":0.1},\"grid_line_dash\":[2,2],\"plot\":{\"id\":\"1de471c8-cb0c-4de2-9004-73dceeafcfc5\",\"subtype\":\"Figure\",\"type\":\"Plot\"},\"ticker\":{\"id\":\"0dc9bcac-9d76-4e3c-8362-3bab35e93cb6\",\"type\":\"BasicTicker\"}},\"id\":\"8f11b945-5a4e-4fed-9296-4f8d88dd72fd\",\"type\":\"Grid\"},{\"attributes\":{},\"id\":\"15fbb8ec-792b-406f-84cd-56b7d4515bd1\",\"type\":\"SaveTool\"},{\"attributes\":{\"data_source\":{\"id\":\"939f875b-8b8c-41d6-a570-27c2ef76b9d2\",\"type\":\"ColumnDataSource\"},\"glyph\":{\"id\":\"2c9619ae-24ff-43ce-a3b6-103b9faaeaf5\",\"type\":\"Line\"},\"hover_glyph\":null,\"muted_glyph\":null,\"nonselection_glyph\":{\"id\":\"bb5bda08-fe15-4717-9fc5-166c56f526d0\",\"type\":\"Line\"},\"selection_glyph\":null,\"view\":{\"id\":\"3d01c98c-4270-487b-a7f9-2746904ab735\",\"type\":\"CDSView\"}},\"id\":\"dbe288db-eeac-4d37-a764-1e103ea7a9a8\",\"type\":\"GlyphRenderer\"},{\"attributes\":{\"overlay\":{\"id\":\"22924a94-1285-4a40-a7b6-19be4a9c7152\",\"type\":\"BoxAnnotation\"}},\"id\":\"c9a33659-4fb5-4be7-adc4-23f4562888cb\",\"type\":\"BoxZoomTool\"},{\"attributes\":{},\"id\":\"d790c0f3-d3ef-47c1-9817-68da4add06ab\",\"type\":\"BasicTicker\"},{\"attributes\":{\"callback\":null,\"column_names\":[\"x\",\"y\"],\"data\":{\"x\":{\"__ndarray__\":\"lzuMnvhVuz+XO4ye+FXLP7Is6XZ6gNQ/CsNdsrfA3j+yLOl2eoDkPw==\",\"dtype\":\"float64\",\"shape\":[5]},\"y\":{\"__ndarray__\":\"R/q0iv7Q6D+t4SL3dPXqP2vY74l1qus/NWd9yjFZ7D8AWYgOgSPtPw==\",\"dtype\":\"float64\",\"shape\":[5]}}},\"id\":\"939f875b-8b8c-41d6-a570-27c2ef76b9d2\",\"type\":\"ColumnDataSource\"},{\"attributes\":{\"data_source\":{\"id\":\"7518768f-05fa-4c02-b482-968059d578ac\",\"type\":\"ColumnDataSource\"},\"glyph\":{\"id\":\"541e0545-719f-4df2-beef-86afdaf0aaa4\",\"type\":\"Line\"},\"hover_glyph\":null,\"muted_glyph\":null,\"nonselection_glyph\":{\"id\":\"0442d1d0-190d-45b8-be50-040c70486177\",\"type\":\"Line\"},\"selection_glyph\":null,\"view\":{\"id\":\"186df4de-e3f0-4610-8d82-f150a881fefb\",\"type\":\"CDSView\"}},\"id\":\"1b96ce38-4369-403d-a399-ad4643ed4161\",\"type\":\"GlyphRenderer\"},{\"attributes\":{},\"id\":\"d4d6360d-d70a-4bf1-ae1d-8692f9dc3a4a\",\"type\":\"BasicTickFormatter\"},{\"attributes\":{\"callback\":null,\"column_names\":[\"index\",\"macro_arrival\",\"std_dev\",\"avg_power\",\"small_load\",\"avg_idle_time\",\"small_arrival\",\"avg_resp_time\",\"num_of_jobs\",\"beta\",\"var_resp_time\"],\"data\":{\"avg_idle_time\":{\"__ndarray__\":\"AAAAAAAAAAAAAAAAAAAAAAAAAAAAAAAAAAAAAAAAAAAAAAAAAAAAAA==\",\"dtype\":\"float64\",\"shape\":[5]},\"avg_power\":{\"__ndarray__\":\"bef7qfEMkECHFtnO9yCSQARWDi0ynpJADQIrhxZulUBzaJHt/EyTQA==\",\"dtype\":\"float64\",\"shape\":[5]},\"avg_resp_time\":{\"__ndarray__\":\"q7LviuB/6z996IL6ljnpP1+dY0D2eus/qoJRSZ2A7D9FR3L5D+nsPw==\",\"dtype\":\"float64\",\"shape\":[5]},\"beta\":{\"__ndarray__\":\"wM+4cCAkyz+GcqJdhZSfPz+MEB5tHKE/AAAAAAAAAAAeG4F4Xb+wPw==\",\"dtype\":\"float64\",\"shape\":[5]},\"index\":[0,1,2,3,4],\"macro_arrival\":{\"__ndarray__\":\"AAAAAAAAAEAAAAAAAAAAQAAAAAAAAABAAAAAAAAAAEAAAAAAAAAAQA==\",\"dtype\":\"float64\",\"shape\":[5]},\"num_of_jobs\":[952111,1706755,2469631,360586,4749367],\"small_arrival\":{\"__ndarray__\":\"AAAAAAAAAEAAAAAAAAAQQAAAAAAAABhAAAAAAAAAIkAAAAAAAAAoQA==\",\"dtype\":\"float64\",\"shape\":[5]},\"small_load\":{\"__ndarray__\":\"lzuMnvhVuz+XO4ye+FXLP7Is6XZ6gNQ/CsNdsrfA3j+yLOl2eoDkPw==\",\"dtype\":\"float64\",\"shape\":[5]},\"std_dev\":{\"__ndarray__\":\"Jn4V0aND8D8s3gAUAa3vP+PZSJQogfA/EMJmk4v58D/hWEEKVSvyPw==\",\"dtype\":\"float64\",\"shape\":[5]},\"var_resp_time\":{\"__ndarray__\":\"Dk+vlGWI8D8lAWpq2VrvP0q1T8djBvE/4PjaM0sC8j81JO6x9KH0Pw==\",\"dtype\":\"float64\",\"shape\":[5]}}},\"id\":\"cf46b25c-dc6e-4766-928c-a9bd2d53eec4\",\"type\":\"ColumnDataSource\"},{\"attributes\":{},\"id\":\"ef76433c-a3f5-4209-87ee-e5f660f2b5cb\",\"type\":\"LinearScale\"},{\"attributes\":{\"formatter\":{\"id\":\"6834c899-ffcb-4be7-999a-021d797163b6\",\"type\":\"BasicTickFormatter\"},\"plot\":{\"id\":\"1de471c8-cb0c-4de2-9004-73dceeafcfc5\",\"subtype\":\"Figure\",\"type\":\"Plot\"},\"ticker\":{\"id\":\"d790c0f3-d3ef-47c1-9817-68da4add06ab\",\"type\":\"BasicTicker\"}},\"id\":\"f100faa9-ad54-4fdc-9e12-81d094fc6d8d\",\"type\":\"LinearAxis\"},{\"attributes\":{\"dimension\":1,\"grid_line_alpha\":{\"value\":0.1},\"grid_line_dash\":[2,2],\"plot\":{\"id\":\"1de471c8-cb0c-4de2-9004-73dceeafcfc5\",\"subtype\":\"Figure\",\"type\":\"Plot\"},\"ticker\":{\"id\":\"d790c0f3-d3ef-47c1-9817-68da4add06ab\",\"type\":\"BasicTicker\"}},\"id\":\"bfd0b75c-b586-40c3-8515-28436682aa4c\",\"type\":\"Grid\"},{\"attributes\":{\"bottom_units\":\"screen\",\"fill_alpha\":{\"value\":0.5},\"fill_color\":{\"value\":\"lightgrey\"},\"left_units\":\"screen\",\"level\":\"overlay\",\"line_alpha\":{\"value\":1.0},\"line_color\":{\"value\":\"black\"},\"line_dash\":[4,4],\"line_width\":{\"value\":2},\"plot\":null,\"render_mode\":\"css\",\"right_units\":\"screen\",\"top_units\":\"screen\"},\"id\":\"22924a94-1285-4a40-a7b6-19be4a9c7152\",\"type\":\"BoxAnnotation\"},{\"attributes\":{\"items\":[{\"id\":\"b2a77a8e-3470-431b-869a-295b3ccf6829\",\"type\":\"LegendItem\"},{\"id\":\"de6b1e55-09e2-416b-a22e-9f803934a6d9\",\"type\":\"LegendItem\"}],\"location\":\"bottom_right\",\"plot\":{\"id\":\"1de471c8-cb0c-4de2-9004-73dceeafcfc5\",\"subtype\":\"Figure\",\"type\":\"Plot\"}},\"id\":\"11563f3c-a616-4b64-82d3-4ba36d7e1b17\",\"type\":\"Legend\"},{\"attributes\":{},\"id\":\"0dc9bcac-9d76-4e3c-8362-3bab35e93cb6\",\"type\":\"BasicTicker\"},{\"attributes\":{\"active_drag\":\"auto\",\"active_inspect\":\"auto\",\"active_scroll\":\"auto\",\"active_tap\":\"auto\",\"tools\":[{\"id\":\"3dc6791c-c859-41ef-ad55-147846111a4f\",\"type\":\"PanTool\"},{\"id\":\"cf43b5aa-62e4-4c5a-be79-1189149308bc\",\"type\":\"WheelZoomTool\"},{\"id\":\"c9a33659-4fb5-4be7-adc4-23f4562888cb\",\"type\":\"BoxZoomTool\"},{\"id\":\"15fbb8ec-792b-406f-84cd-56b7d4515bd1\",\"type\":\"SaveTool\"},{\"id\":\"83857cc8-8e66-47af-a7f7-8beb64914929\",\"type\":\"ResetTool\"},{\"id\":\"839a30e0-2bab-4c13-ba22-bcd697731629\",\"type\":\"HelpTool\"}]},\"id\":\"c68288da-6d84-4b3b-9ac8-1be1cb8d8d31\",\"type\":\"Toolbar\"},{\"attributes\":{\"callback\":null,\"column_names\":[\"x\",\"y\"],\"data\":{\"x\":{\"__ndarray__\":\"lzuMnvhVuz+XO4ye+FXLP7Is6XZ6gNQ/CsNdsrfA3j+yLOl2eoDkPw==\",\"dtype\":\"float64\",\"shape\":[5]},\"y\":{\"__ndarray__\":\"q7LviuB/6z996IL6ljnpP1+dY0D2eus/qoJRSZ2A7D9FR3L5D+nsPw==\",\"dtype\":\"float64\",\"shape\":[5]}}},\"id\":\"b24f41ed-cc7a-40d2-aa01-afebefdd9fd2\",\"type\":\"ColumnDataSource\"},{\"attributes\":{\"fill_color\":{\"value\":\"white\"},\"line_color\":{\"value\":\"navy\"},\"size\":{\"units\":\"screen\",\"value\":5},\"x\":{\"field\":\"x\"},\"y\":{\"field\":\"y\"}},\"id\":\"09a625ef-3bc8-4f0e-a698-ad54bd40dd21\",\"type\":\"Circle\"},{\"attributes\":{\"line_color\":{\"value\":\"navy\"},\"line_dash\":[4,4],\"x\":{\"field\":\"x\"},\"y\":{\"field\":\"y\"}},\"id\":\"2250a2e3-7b5c-4150-943b-80d6b7111cf5\",\"type\":\"Line\"},{\"attributes\":{\"source\":{\"id\":\"5ef2fb64-a349-4924-9d7f-2de6a00fb1a4\",\"type\":\"ColumnDataSource\"}},\"id\":\"3babf41b-cf73-41cd-a785-375f1340dfaa\",\"type\":\"CDSView\"},{\"attributes\":{\"source\":{\"id\":\"939f875b-8b8c-41d6-a570-27c2ef76b9d2\",\"type\":\"ColumnDataSource\"}},\"id\":\"3d01c98c-4270-487b-a7f9-2746904ab735\",\"type\":\"CDSView\"},{\"attributes\":{\"plot\":null,\"text\":\"Mean response time\"},\"id\":\"c83d41a9-43cd-47c7-8684-b69799ef6dde\",\"type\":\"Title\"},{\"attributes\":{},\"id\":\"83857cc8-8e66-47af-a7f7-8beb64914929\",\"type\":\"ResetTool\"},{\"attributes\":{\"fill_alpha\":{\"value\":0.1},\"fill_color\":{\"value\":\"#1f77b4\"},\"line_alpha\":{\"value\":0.1},\"line_color\":{\"value\":\"#1f77b4\"},\"size\":{\"units\":\"screen\",\"value\":5},\"x\":{\"field\":\"x\"},\"y\":{\"field\":\"y\"}},\"id\":\"a04e1c74-84d8-44e5-b131-83b9b5ba1020\",\"type\":\"Circle\"},{\"attributes\":{\"callback\":null,\"column_names\":[\"x\",\"y\"],\"data\":{\"x\":{\"__ndarray__\":\"lzuMnvhVuz+XO4ye+FXLP7Is6XZ6gNQ/CsNdsrfA3j+yLOl2eoDkPw==\",\"dtype\":\"float64\",\"shape\":[5]},\"y\":{\"__ndarray__\":\"wcBz7+GS6z/5iJgSSfTtP8xFfCdmve4/Ho8ZqIx/7z9VavZAKzDwPw==\",\"dtype\":\"float64\",\"shape\":[5]}}},\"id\":\"5ef2fb64-a349-4924-9d7f-2de6a00fb1a4\",\"type\":\"ColumnDataSource\"},{\"attributes\":{},\"id\":\"839a30e0-2bab-4c13-ba22-bcd697731629\",\"type\":\"HelpTool\"},{\"attributes\":{\"line_alpha\":{\"value\":0.1},\"line_color\":{\"value\":\"#1f77b4\"},\"line_dash\":[4,4],\"x\":{\"field\":\"x\"},\"y\":{\"field\":\"y\"}},\"id\":\"3b0b60e9-ac55-4e7a-a83f-afe257f4bfae\",\"type\":\"Line\"},{\"attributes\":{\"callback\":null},\"id\":\"6573dc80-7f7e-49de-85ac-a07ae25653a8\",\"type\":\"DataRange1d\"},{\"attributes\":{\"label\":{\"value\":\"LB initial policy\"},\"renderers\":[{\"id\":\"a6a0124e-5e69-4d50-a447-be29e5ad1ac8\",\"type\":\"GlyphRenderer\"}]},\"id\":\"b2a77a8e-3470-431b-869a-295b3ccf6829\",\"type\":\"LegendItem\"},{\"attributes\":{\"data_source\":{\"id\":\"5ef2fb64-a349-4924-9d7f-2de6a00fb1a4\",\"type\":\"ColumnDataSource\"},\"glyph\":{\"id\":\"2250a2e3-7b5c-4150-943b-80d6b7111cf5\",\"type\":\"Line\"},\"hover_glyph\":null,\"muted_glyph\":null,\"nonselection_glyph\":{\"id\":\"3b0b60e9-ac55-4e7a-a83f-afe257f4bfae\",\"type\":\"Line\"},\"selection_glyph\":null,\"view\":{\"id\":\"3babf41b-cf73-41cd-a785-375f1340dfaa\",\"type\":\"CDSView\"}},\"id\":\"a6a0124e-5e69-4d50-a447-be29e5ad1ac8\",\"type\":\"GlyphRenderer\"},{\"attributes\":{\"plot\":{\"id\":\"1de471c8-cb0c-4de2-9004-73dceeafcfc5\",\"subtype\":\"Figure\",\"type\":\"Plot\"},\"source\":{\"id\":\"cf46b25c-dc6e-4766-928c-a9bd2d53eec4\",\"type\":\"ColumnDataSource\"},\"text\":{\"field\":\"beta\"},\"text_align\":\"center\",\"text_color\":{\"value\":\"#555555\"},\"text_font_size\":{\"value\":\"8pt\"},\"x\":{\"field\":\"small_load\"},\"y\":{\"field\":\"avg_resp_time\"},\"y_offset\":{\"value\":8}},\"id\":\"773fbb53-7a2e-40a6-b83f-558511a1a093\",\"type\":\"LabelSet\"},{\"attributes\":{},\"id\":\"6834c899-ffcb-4be7-999a-021d797163b6\",\"type\":\"BasicTickFormatter\"},{\"attributes\":{\"callback\":null,\"column_names\":[\"x\",\"y\"],\"data\":{\"x\":{\"__ndarray__\":\"lzuMnvhVuz+XO4ye+FXLP7Is6XZ6gNQ/CsNdsrfA3j+yLOl2eoDkPw==\",\"dtype\":\"float64\",\"shape\":[5]},\"y\":{\"__ndarray__\":\"q7LviuB/6z996IL6ljnpP1+dY0D2eus/qoJRSZ2A7D9FR3L5D+nsPw==\",\"dtype\":\"float64\",\"shape\":[5]}}},\"id\":\"7518768f-05fa-4c02-b482-968059d578ac\",\"type\":\"ColumnDataSource\"},{\"attributes\":{\"line_color\":{\"value\":\"navy\"},\"x\":{\"field\":\"x\"},\"y\":{\"field\":\"y\"}},\"id\":\"541e0545-719f-4df2-beef-86afdaf0aaa4\",\"type\":\"Line\"},{\"attributes\":{\"below\":[{\"id\":\"ae0a11c3-1807-491a-b8d6-bf768b268d13\",\"type\":\"LinearAxis\"}],\"left\":[{\"id\":\"f100faa9-ad54-4fdc-9e12-81d094fc6d8d\",\"type\":\"LinearAxis\"}],\"plot_height\":400,\"plot_width\":400,\"renderers\":[{\"id\":\"ae0a11c3-1807-491a-b8d6-bf768b268d13\",\"type\":\"LinearAxis\"},{\"id\":\"8f11b945-5a4e-4fed-9296-4f8d88dd72fd\",\"type\":\"Grid\"},{\"id\":\"f100faa9-ad54-4fdc-9e12-81d094fc6d8d\",\"type\":\"LinearAxis\"},{\"id\":\"bfd0b75c-b586-40c3-8515-28436682aa4c\",\"type\":\"Grid\"},{\"id\":\"22924a94-1285-4a40-a7b6-19be4a9c7152\",\"type\":\"BoxAnnotation\"},{\"id\":\"1b96ce38-4369-403d-a399-ad4643ed4161\",\"type\":\"GlyphRenderer\"},{\"id\":\"11563f3c-a616-4b64-82d3-4ba36d7e1b17\",\"type\":\"Legend\"},{\"id\":\"a6a0124e-5e69-4d50-a447-be29e5ad1ac8\",\"type\":\"GlyphRenderer\"},{\"id\":\"dbe288db-eeac-4d37-a764-1e103ea7a9a8\",\"type\":\"GlyphRenderer\"},{\"id\":\"7047cae9-bff5-49aa-8549-9b21cca4df58\",\"type\":\"GlyphRenderer\"},{\"id\":\"773fbb53-7a2e-40a6-b83f-558511a1a093\",\"type\":\"LabelSet\"}],\"title\":{\"id\":\"c83d41a9-43cd-47c7-8684-b69799ef6dde\",\"type\":\"Title\"},\"toolbar\":{\"id\":\"c68288da-6d84-4b3b-9ac8-1be1cb8d8d31\",\"type\":\"Toolbar\"},\"x_range\":{\"id\":\"b4a0f73c-87d0-4762-8706-05448453f14a\",\"type\":\"DataRange1d\"},\"x_scale\":{\"id\":\"14357f6a-9506-43c7-9a68-90c60a40bb57\",\"type\":\"LinearScale\"},\"y_range\":{\"id\":\"6573dc80-7f7e-49de-85ac-a07ae25653a8\",\"type\":\"DataRange1d\"},\"y_scale\":{\"id\":\"ef76433c-a3f5-4209-87ee-e5f660f2b5cb\",\"type\":\"LinearScale\"}},\"id\":\"1de471c8-cb0c-4de2-9004-73dceeafcfc5\",\"subtype\":\"Figure\",\"type\":\"Plot\"},{\"attributes\":{\"line_alpha\":{\"value\":0.1},\"line_color\":{\"value\":\"#1f77b4\"},\"line_dash\":[4,4],\"x\":{\"field\":\"x\"},\"y\":{\"field\":\"y\"}},\"id\":\"bb5bda08-fe15-4717-9fc5-166c56f526d0\",\"type\":\"Line\"},{\"attributes\":{\"line_color\":{\"value\":\"gray\"},\"line_dash\":[4,4],\"x\":{\"field\":\"x\"},\"y\":{\"field\":\"y\"}},\"id\":\"2c9619ae-24ff-43ce-a3b6-103b9faaeaf5\",\"type\":\"Line\"},{\"attributes\":{},\"id\":\"14357f6a-9506-43c7-9a68-90c60a40bb57\",\"type\":\"LinearScale\"},{\"attributes\":{\"line_alpha\":{\"value\":0.1},\"line_color\":{\"value\":\"#1f77b4\"},\"x\":{\"field\":\"x\"},\"y\":{\"field\":\"y\"}},\"id\":\"0442d1d0-190d-45b8-be50-040c70486177\",\"type\":\"Line\"},{\"attributes\":{\"callback\":null},\"id\":\"b4a0f73c-87d0-4762-8706-05448453f14a\",\"type\":\"DataRange1d\"},{\"attributes\":{\"source\":{\"id\":\"b24f41ed-cc7a-40d2-aa01-afebefdd9fd2\",\"type\":\"ColumnDataSource\"}},\"id\":\"f335ebab-b888-4bac-9837-b8ce0c5def62\",\"type\":\"CDSView\"}],\"root_ids\":[\"1de471c8-cb0c-4de2-9004-73dceeafcfc5\"]},\"title\":\"Bokeh Application\",\"version\":\"0.12.9\"}};\n",
       "    var render_items = [{\"docid\":\"5c571e28-23bb-4c8e-b615-2e14c0601c5b\",\"elementid\":\"c3dc17e2-cf94-4eb1-83ad-6bfab71ca9eb\",\"modelid\":\"1de471c8-cb0c-4de2-9004-73dceeafcfc5\"}];\n",
       "\n",
       "    root.Bokeh.embed.embed_items(docs_json, render_items);\n",
       "  }\n",
       "\n",
       "  if (root.Bokeh !== undefined) {\n",
       "    embed_document(root);\n",
       "  } else {\n",
       "    var attempts = 0;\n",
       "    var timer = setInterval(function(root) {\n",
       "      if (root.Bokeh !== undefined) {\n",
       "        embed_document(root);\n",
       "        clearInterval(timer);\n",
       "      }\n",
       "      attempts++;\n",
       "      if (attempts > 100) {\n",
       "        console.log(\"Bokeh: ERROR: Unable to embed document because BokehJS library is missing\")\n",
       "        clearInterval(timer);\n",
       "      }\n",
       "    }, 10, root)\n",
       "  }\n",
       "})(window);"
      ],
      "application/vnd.bokehjs_exec.v0+json": ""
     },
     "metadata": {
      "application/vnd.bokehjs_exec.v0+json": {
       "id": "1de471c8-cb0c-4de2-9004-73dceeafcfc5"
      }
     },
     "output_type": "display_data"
    }
   ],
   "source": [
    "p = figure(plot_width=400, plot_height=400, title=\"Mean response time\")\n",
    "source = ColumnDataSource(df)\n",
    "\n",
    "p.line(df.small_load, df.avg_resp_time, line_color='navy')\n",
    "p.line(df_lb.small_load, df_lb.avg_resp_time, line_color='navy',line_dash=\"4 4\", legend='LB initial policy')\n",
    "p.line(df_lb.small_load, 0.9*df_lb.avg_resp_time, line_color='gray',line_dash=\"4 4\", legend='Constraint')\n",
    "p.circle(df.small_load, df.avg_resp_time, color='white', line_color='navy',size=5)\n",
    "\n",
    "labels = LabelSet(x=\"small_load\", y=\"avg_resp_time\", text=\"beta\", y_offset=8,\n",
    "                  text_font_size=\"8pt\", text_color=\"#555555\",\n",
    "                  source=source, text_align='center')\n",
    "p.add_layout(labels)\n",
    "p.grid.grid_line_dash = [2,2]\n",
    "p.grid.grid_line_alpha = 0.1\n",
    "\n",
    "p.xaxis.axis_label = 'Small cell load'\n",
    "p.legend.location  = 'bottom_right'\n",
    "\n",
    "show(p) # show the results"
   ]
  },
  {
   "cell_type": "code",
   "execution_count": 52,
   "metadata": {},
   "outputs": [
    {
     "data": {
      "text/html": [
       "\n",
       "<div class=\"bk-root\">\n",
       "    <div class=\"bk-plotdiv\" id=\"9abd2109-e968-4297-b205-8554ee0ef8f7\"></div>\n",
       "</div>"
      ]
     },
     "metadata": {},
     "output_type": "display_data"
    },
    {
     "data": {
      "application/javascript": [
       "(function(root) {\n",
       "  function embed_document(root) {\n",
       "    var docs_json = {\"aa6bc27f-de74-4e52-ac15-cff1ee11b5d8\":{\"roots\":{\"references\":[{\"attributes\":{\"source\":{\"id\":\"2328920b-25f3-4219-a55a-22c1b529fdef\",\"type\":\"ColumnDataSource\"}},\"id\":\"cb2f464c-cd03-497a-a0da-615acfb8ec17\",\"type\":\"CDSView\"},{\"attributes\":{\"grid_line_alpha\":{\"value\":0.1},\"grid_line_dash\":[2,2],\"plot\":{\"id\":\"be514a70-eb17-4abb-8a6f-93da86d0a66d\",\"subtype\":\"Figure\",\"type\":\"Plot\"},\"ticker\":{\"id\":\"978aa1e3-1c4d-4767-a8b8-776ba76e516a\",\"type\":\"BasicTicker\"}},\"id\":\"5fe9b849-5415-4477-a271-61f5d1521414\",\"type\":\"Grid\"},{\"attributes\":{\"source\":{\"id\":\"83597d15-8a17-408f-aa33-a534c1574e86\",\"type\":\"ColumnDataSource\"}},\"id\":\"928983a4-0845-4fe7-b6f5-b82c1dbda630\",\"type\":\"CDSView\"},{\"attributes\":{},\"id\":\"036827ff-855d-4e10-8a90-a0b21677c8bb\",\"type\":\"BasicTicker\"},{\"attributes\":{\"data_source\":{\"id\":\"17dd4d26-2b44-4c1f-b80c-915294060557\",\"type\":\"ColumnDataSource\"},\"glyph\":{\"id\":\"da2987cf-e8fc-4781-b363-cbb04af0e41e\",\"type\":\"Line\"},\"hover_glyph\":null,\"muted_glyph\":null,\"nonselection_glyph\":{\"id\":\"f1e78356-2110-4961-bef5-356d1203f6e5\",\"type\":\"Line\"},\"selection_glyph\":null,\"view\":{\"id\":\"39e81519-bb1e-4d86-b335-b69e818facce\",\"type\":\"CDSView\"}},\"id\":\"8637e1d9-03eb-42d3-9db5-81890b2eb20c\",\"type\":\"GlyphRenderer\"},{\"attributes\":{\"callback\":null,\"column_names\":[\"x\",\"y\"],\"data\":{\"x\":{\"__ndarray__\":\"lzuMnvhVuz+XO4ye+FXLP7Is6XZ6gNQ/CsNdsrfA3j+yLOl2eoDkPw==\",\"dtype\":\"float64\",\"shape\":[5]},\"y\":{\"__ndarray__\":\"bef7qfEMkECHFtnO9yCSQARWDi0ynpJADQIrhxZulUBzaJHt/EyTQA==\",\"dtype\":\"float64\",\"shape\":[5]}}},\"id\":\"83597d15-8a17-408f-aa33-a534c1574e86\",\"type\":\"ColumnDataSource\"},{\"attributes\":{\"plot\":null,\"text\":\"Average Power\"},\"id\":\"b364d57c-9c9e-4687-826a-228c62899312\",\"type\":\"Title\"},{\"attributes\":{\"data_source\":{\"id\":\"2328920b-25f3-4219-a55a-22c1b529fdef\",\"type\":\"ColumnDataSource\"},\"glyph\":{\"id\":\"d20282ad-4b8e-4551-8957-c06a07e52d3a\",\"type\":\"Line\"},\"hover_glyph\":null,\"muted_glyph\":null,\"nonselection_glyph\":{\"id\":\"6bdd0805-8e72-4d6a-bb29-cd47068bd609\",\"type\":\"Line\"},\"selection_glyph\":null,\"view\":{\"id\":\"cb2f464c-cd03-497a-a0da-615acfb8ec17\",\"type\":\"CDSView\"}},\"id\":\"b40dc92e-b72b-45dc-b03b-a70a2a8ecd4f\",\"type\":\"GlyphRenderer\"},{\"attributes\":{\"source\":{\"id\":\"17dd4d26-2b44-4c1f-b80c-915294060557\",\"type\":\"ColumnDataSource\"}},\"id\":\"39e81519-bb1e-4d86-b335-b69e818facce\",\"type\":\"CDSView\"},{\"attributes\":{\"axis_label\":\"Small cell load\",\"formatter\":{\"id\":\"c8342bfa-f7d8-44a0-be83-fa0184c5b367\",\"type\":\"BasicTickFormatter\"},\"plot\":{\"id\":\"be514a70-eb17-4abb-8a6f-93da86d0a66d\",\"subtype\":\"Figure\",\"type\":\"Plot\"},\"ticker\":{\"id\":\"978aa1e3-1c4d-4767-a8b8-776ba76e516a\",\"type\":\"BasicTicker\"}},\"id\":\"22b0ec59-421a-4749-a38c-9db70d1764d0\",\"type\":\"LinearAxis\"},{\"attributes\":{\"callback\":null},\"id\":\"df29ab2a-72ea-45bc-9af3-023f121156a9\",\"type\":\"DataRange1d\"},{\"attributes\":{\"line_alpha\":{\"value\":0.1},\"line_color\":{\"value\":\"#1f77b4\"},\"x\":{\"field\":\"x\"},\"y\":{\"field\":\"y\"}},\"id\":\"f1e78356-2110-4961-bef5-356d1203f6e5\",\"type\":\"Line\"},{\"attributes\":{\"items\":[{\"id\":\"ebad0181-1a62-4cab-8544-f843cb9003a5\",\"type\":\"LegendItem\"}],\"location\":\"bottom_right\",\"plot\":{\"id\":\"be514a70-eb17-4abb-8a6f-93da86d0a66d\",\"subtype\":\"Figure\",\"type\":\"Plot\"}},\"id\":\"974c2ce4-d5ec-47d0-b0b6-42634eda5376\",\"type\":\"Legend\"},{\"attributes\":{\"callback\":null,\"column_names\":[\"x\",\"y\"],\"data\":{\"x\":{\"__ndarray__\":\"lzuMnvhVuz+XO4ye+FXLP7Is6XZ6gNQ/CsNdsrfA3j+yLOl2eoDkPw==\",\"dtype\":\"float64\",\"shape\":[5]},\"y\":{\"__ndarray__\":\"RIts53sMkEBBYOXQIhyRQDMzMzOz55FAZmZmZmbakkDJdr6fGqaTQA==\",\"dtype\":\"float64\",\"shape\":[5]}}},\"id\":\"2328920b-25f3-4219-a55a-22c1b529fdef\",\"type\":\"ColumnDataSource\"},{\"attributes\":{\"below\":[{\"id\":\"22b0ec59-421a-4749-a38c-9db70d1764d0\",\"type\":\"LinearAxis\"}],\"left\":[{\"id\":\"82d5f198-3ea9-4eae-bfa7-ad19d3656e23\",\"type\":\"LinearAxis\"}],\"plot_height\":400,\"plot_width\":400,\"renderers\":[{\"id\":\"22b0ec59-421a-4749-a38c-9db70d1764d0\",\"type\":\"LinearAxis\"},{\"id\":\"5fe9b849-5415-4477-a271-61f5d1521414\",\"type\":\"Grid\"},{\"id\":\"82d5f198-3ea9-4eae-bfa7-ad19d3656e23\",\"type\":\"LinearAxis\"},{\"id\":\"0464dd70-a755-4f1f-938e-0a51a336dc8f\",\"type\":\"Grid\"},{\"id\":\"455edf0b-df83-4731-9ecf-0b9eadce1ff5\",\"type\":\"BoxAnnotation\"},{\"id\":\"8637e1d9-03eb-42d3-9db5-81890b2eb20c\",\"type\":\"GlyphRenderer\"},{\"id\":\"974c2ce4-d5ec-47d0-b0b6-42634eda5376\",\"type\":\"Legend\"},{\"id\":\"b40dc92e-b72b-45dc-b03b-a70a2a8ecd4f\",\"type\":\"GlyphRenderer\"},{\"id\":\"a6b19442-4ef4-47b8-984f-f59929e68e4a\",\"type\":\"GlyphRenderer\"},{\"id\":\"5b01c522-4143-4ad1-a59f-9c106d130334\",\"type\":\"LabelSet\"}],\"title\":{\"id\":\"b364d57c-9c9e-4687-826a-228c62899312\",\"type\":\"Title\"},\"toolbar\":{\"id\":\"c6191d54-84f6-4736-be3c-51cd25bb00eb\",\"type\":\"Toolbar\"},\"x_range\":{\"id\":\"df29ab2a-72ea-45bc-9af3-023f121156a9\",\"type\":\"DataRange1d\"},\"x_scale\":{\"id\":\"44a43fd0-1c39-44f5-85c4-56aacc8ddd11\",\"type\":\"LinearScale\"},\"y_range\":{\"id\":\"03af41a7-400b-4d8a-9cda-d974b9938486\",\"type\":\"DataRange1d\"},\"y_scale\":{\"id\":\"b4a02c97-060d-4eb8-b967-1063b34d9d06\",\"type\":\"LinearScale\"}},\"id\":\"be514a70-eb17-4abb-8a6f-93da86d0a66d\",\"subtype\":\"Figure\",\"type\":\"Plot\"},{\"attributes\":{},\"id\":\"978aa1e3-1c4d-4767-a8b8-776ba76e516a\",\"type\":\"BasicTicker\"},{\"attributes\":{},\"id\":\"351f83f8-21a9-4e5a-9b04-c7ba419eafc4\",\"type\":\"PanTool\"},{\"attributes\":{\"bottom_units\":\"screen\",\"fill_alpha\":{\"value\":0.5},\"fill_color\":{\"value\":\"lightgrey\"},\"left_units\":\"screen\",\"level\":\"overlay\",\"line_alpha\":{\"value\":1.0},\"line_color\":{\"value\":\"black\"},\"line_dash\":[4,4],\"line_width\":{\"value\":2},\"plot\":null,\"render_mode\":\"css\",\"right_units\":\"screen\",\"top_units\":\"screen\"},\"id\":\"455edf0b-df83-4731-9ecf-0b9eadce1ff5\",\"type\":\"BoxAnnotation\"},{\"attributes\":{},\"id\":\"c10b365a-0f6d-402a-829d-8a7ad2a31d97\",\"type\":\"HelpTool\"},{\"attributes\":{\"dimension\":1,\"grid_line_alpha\":{\"value\":0.1},\"grid_line_dash\":[2,2],\"plot\":{\"id\":\"be514a70-eb17-4abb-8a6f-93da86d0a66d\",\"subtype\":\"Figure\",\"type\":\"Plot\"},\"ticker\":{\"id\":\"036827ff-855d-4e10-8a90-a0b21677c8bb\",\"type\":\"BasicTicker\"}},\"id\":\"0464dd70-a755-4f1f-938e-0a51a336dc8f\",\"type\":\"Grid\"},{\"attributes\":{},\"id\":\"b4a02c97-060d-4eb8-b967-1063b34d9d06\",\"type\":\"LinearScale\"},{\"attributes\":{\"label\":{\"value\":\"LB initial policy\"},\"renderers\":[{\"id\":\"b40dc92e-b72b-45dc-b03b-a70a2a8ecd4f\",\"type\":\"GlyphRenderer\"}]},\"id\":\"ebad0181-1a62-4cab-8544-f843cb9003a5\",\"type\":\"LegendItem\"},{\"attributes\":{},\"id\":\"0b90617c-afe5-40fd-bcd6-3d213788589d\",\"type\":\"BasicTickFormatter\"},{\"attributes\":{\"active_drag\":\"auto\",\"active_inspect\":\"auto\",\"active_scroll\":\"auto\",\"active_tap\":\"auto\",\"tools\":[{\"id\":\"351f83f8-21a9-4e5a-9b04-c7ba419eafc4\",\"type\":\"PanTool\"},{\"id\":\"37d30eda-c4f5-4c9c-a62e-33e150edca9d\",\"type\":\"WheelZoomTool\"},{\"id\":\"4f9b3992-0207-4cc2-879f-94a3d22773a4\",\"type\":\"BoxZoomTool\"},{\"id\":\"ceb12a15-4db7-49ef-aa00-fc11333352c4\",\"type\":\"SaveTool\"},{\"id\":\"8b337445-ed6d-4714-af3f-c8de1d9138c9\",\"type\":\"ResetTool\"},{\"id\":\"c10b365a-0f6d-402a-829d-8a7ad2a31d97\",\"type\":\"HelpTool\"}]},\"id\":\"c6191d54-84f6-4736-be3c-51cd25bb00eb\",\"type\":\"Toolbar\"},{\"attributes\":{},\"id\":\"8b337445-ed6d-4714-af3f-c8de1d9138c9\",\"type\":\"ResetTool\"},{\"attributes\":{\"callback\":null,\"column_names\":[\"index\",\"macro_arrival\",\"std_dev\",\"avg_power\",\"small_load\",\"avg_idle_time\",\"small_arrival\",\"avg_resp_time\",\"num_of_jobs\",\"beta\",\"var_resp_time\"],\"data\":{\"avg_idle_time\":{\"__ndarray__\":\"AAAAAAAAAAAAAAAAAAAAAAAAAAAAAAAAAAAAAAAAAAAAAAAAAAAAAA==\",\"dtype\":\"float64\",\"shape\":[5]},\"avg_power\":{\"__ndarray__\":\"bef7qfEMkECHFtnO9yCSQARWDi0ynpJADQIrhxZulUBzaJHt/EyTQA==\",\"dtype\":\"float64\",\"shape\":[5]},\"avg_resp_time\":{\"__ndarray__\":\"q7LviuB/6z996IL6ljnpP1+dY0D2eus/qoJRSZ2A7D9FR3L5D+nsPw==\",\"dtype\":\"float64\",\"shape\":[5]},\"beta\":{\"__ndarray__\":\"wM+4cCAkyz+GcqJdhZSfPz+MEB5tHKE/AAAAAAAAAAAeG4F4Xb+wPw==\",\"dtype\":\"float64\",\"shape\":[5]},\"index\":[0,1,2,3,4],\"macro_arrival\":{\"__ndarray__\":\"AAAAAAAAAEAAAAAAAAAAQAAAAAAAAABAAAAAAAAAAEAAAAAAAAAAQA==\",\"dtype\":\"float64\",\"shape\":[5]},\"num_of_jobs\":[952111,1706755,2469631,360586,4749367],\"small_arrival\":{\"__ndarray__\":\"AAAAAAAAAEAAAAAAAAAQQAAAAAAAABhAAAAAAAAAIkAAAAAAAAAoQA==\",\"dtype\":\"float64\",\"shape\":[5]},\"small_load\":{\"__ndarray__\":\"lzuMnvhVuz+XO4ye+FXLP7Is6XZ6gNQ/CsNdsrfA3j+yLOl2eoDkPw==\",\"dtype\":\"float64\",\"shape\":[5]},\"std_dev\":{\"__ndarray__\":\"Jn4V0aND8D8s3gAUAa3vP+PZSJQogfA/EMJmk4v58D/hWEEKVSvyPw==\",\"dtype\":\"float64\",\"shape\":[5]},\"var_resp_time\":{\"__ndarray__\":\"Dk+vlGWI8D8lAWpq2VrvP0q1T8djBvE/4PjaM0sC8j81JO6x9KH0Pw==\",\"dtype\":\"float64\",\"shape\":[5]}}},\"id\":\"f923a2ca-a174-4c35-bed1-5283636ac7e8\",\"type\":\"ColumnDataSource\"},{\"attributes\":{},\"id\":\"37d30eda-c4f5-4c9c-a62e-33e150edca9d\",\"type\":\"WheelZoomTool\"},{\"attributes\":{\"callback\":null},\"id\":\"03af41a7-400b-4d8a-9cda-d974b9938486\",\"type\":\"DataRange1d\"},{\"attributes\":{\"line_alpha\":{\"value\":0.1},\"line_color\":{\"value\":\"#1f77b4\"},\"line_dash\":[4,4],\"x\":{\"field\":\"x\"},\"y\":{\"field\":\"y\"}},\"id\":\"6bdd0805-8e72-4d6a-bb29-cd47068bd609\",\"type\":\"Line\"},{\"attributes\":{\"line_color\":{\"value\":\"firebrick\"},\"x\":{\"field\":\"x\"},\"y\":{\"field\":\"y\"}},\"id\":\"da2987cf-e8fc-4781-b363-cbb04af0e41e\",\"type\":\"Line\"},{\"attributes\":{\"data_source\":{\"id\":\"83597d15-8a17-408f-aa33-a534c1574e86\",\"type\":\"ColumnDataSource\"},\"glyph\":{\"id\":\"d55f2414-360b-41ff-bc4d-db92d8ac5782\",\"type\":\"Circle\"},\"hover_glyph\":null,\"muted_glyph\":null,\"nonselection_glyph\":{\"id\":\"05357603-f52f-48b9-b5c6-d49835e986c5\",\"type\":\"Circle\"},\"selection_glyph\":null,\"view\":{\"id\":\"928983a4-0845-4fe7-b6f5-b82c1dbda630\",\"type\":\"CDSView\"}},\"id\":\"a6b19442-4ef4-47b8-984f-f59929e68e4a\",\"type\":\"GlyphRenderer\"},{\"attributes\":{\"fill_color\":{\"value\":\"white\"},\"line_color\":{\"value\":\"firebrick\"},\"size\":{\"units\":\"screen\",\"value\":5},\"x\":{\"field\":\"x\"},\"y\":{\"field\":\"y\"}},\"id\":\"d55f2414-360b-41ff-bc4d-db92d8ac5782\",\"type\":\"Circle\"},{\"attributes\":{},\"id\":\"ceb12a15-4db7-49ef-aa00-fc11333352c4\",\"type\":\"SaveTool\"},{\"attributes\":{\"plot\":{\"id\":\"be514a70-eb17-4abb-8a6f-93da86d0a66d\",\"subtype\":\"Figure\",\"type\":\"Plot\"},\"source\":{\"id\":\"f923a2ca-a174-4c35-bed1-5283636ac7e8\",\"type\":\"ColumnDataSource\"},\"text\":{\"field\":\"beta\"},\"text_align\":\"center\",\"text_color\":{\"value\":\"#555555\"},\"text_font_size\":{\"value\":\"8pt\"},\"x\":{\"field\":\"small_load\"},\"y\":{\"field\":\"avg_power\"},\"y_offset\":{\"value\":8}},\"id\":\"5b01c522-4143-4ad1-a59f-9c106d130334\",\"type\":\"LabelSet\"},{\"attributes\":{},\"id\":\"44a43fd0-1c39-44f5-85c4-56aacc8ddd11\",\"type\":\"LinearScale\"},{\"attributes\":{\"fill_alpha\":{\"value\":0.1},\"fill_color\":{\"value\":\"#1f77b4\"},\"line_alpha\":{\"value\":0.1},\"line_color\":{\"value\":\"#1f77b4\"},\"size\":{\"units\":\"screen\",\"value\":5},\"x\":{\"field\":\"x\"},\"y\":{\"field\":\"y\"}},\"id\":\"05357603-f52f-48b9-b5c6-d49835e986c5\",\"type\":\"Circle\"},{\"attributes\":{\"callback\":null,\"column_names\":[\"x\",\"y\"],\"data\":{\"x\":{\"__ndarray__\":\"lzuMnvhVuz+XO4ye+FXLP7Is6XZ6gNQ/CsNdsrfA3j+yLOl2eoDkPw==\",\"dtype\":\"float64\",\"shape\":[5]},\"y\":{\"__ndarray__\":\"bef7qfEMkECHFtnO9yCSQARWDi0ynpJADQIrhxZulUBzaJHt/EyTQA==\",\"dtype\":\"float64\",\"shape\":[5]}}},\"id\":\"17dd4d26-2b44-4c1f-b80c-915294060557\",\"type\":\"ColumnDataSource\"},{\"attributes\":{\"overlay\":{\"id\":\"455edf0b-df83-4731-9ecf-0b9eadce1ff5\",\"type\":\"BoxAnnotation\"}},\"id\":\"4f9b3992-0207-4cc2-879f-94a3d22773a4\",\"type\":\"BoxZoomTool\"},{\"attributes\":{\"line_color\":{\"value\":\"firebrick\"},\"line_dash\":[4,4],\"x\":{\"field\":\"x\"},\"y\":{\"field\":\"y\"}},\"id\":\"d20282ad-4b8e-4551-8957-c06a07e52d3a\",\"type\":\"Line\"},{\"attributes\":{},\"id\":\"c8342bfa-f7d8-44a0-be83-fa0184c5b367\",\"type\":\"BasicTickFormatter\"},{\"attributes\":{\"formatter\":{\"id\":\"0b90617c-afe5-40fd-bcd6-3d213788589d\",\"type\":\"BasicTickFormatter\"},\"plot\":{\"id\":\"be514a70-eb17-4abb-8a6f-93da86d0a66d\",\"subtype\":\"Figure\",\"type\":\"Plot\"},\"ticker\":{\"id\":\"036827ff-855d-4e10-8a90-a0b21677c8bb\",\"type\":\"BasicTicker\"}},\"id\":\"82d5f198-3ea9-4eae-bfa7-ad19d3656e23\",\"type\":\"LinearAxis\"}],\"root_ids\":[\"be514a70-eb17-4abb-8a6f-93da86d0a66d\"]},\"title\":\"Bokeh Application\",\"version\":\"0.12.9\"}};\n",
       "    var render_items = [{\"docid\":\"aa6bc27f-de74-4e52-ac15-cff1ee11b5d8\",\"elementid\":\"9abd2109-e968-4297-b205-8554ee0ef8f7\",\"modelid\":\"be514a70-eb17-4abb-8a6f-93da86d0a66d\"}];\n",
       "\n",
       "    root.Bokeh.embed.embed_items(docs_json, render_items);\n",
       "  }\n",
       "\n",
       "  if (root.Bokeh !== undefined) {\n",
       "    embed_document(root);\n",
       "  } else {\n",
       "    var attempts = 0;\n",
       "    var timer = setInterval(function(root) {\n",
       "      if (root.Bokeh !== undefined) {\n",
       "        embed_document(root);\n",
       "        clearInterval(timer);\n",
       "      }\n",
       "      attempts++;\n",
       "      if (attempts > 100) {\n",
       "        console.log(\"Bokeh: ERROR: Unable to embed document because BokehJS library is missing\")\n",
       "        clearInterval(timer);\n",
       "      }\n",
       "    }, 10, root)\n",
       "  }\n",
       "})(window);"
      ],
      "application/vnd.bokehjs_exec.v0+json": ""
     },
     "metadata": {
      "application/vnd.bokehjs_exec.v0+json": {
       "id": "be514a70-eb17-4abb-8a6f-93da86d0a66d"
      }
     },
     "output_type": "display_data"
    }
   ],
   "source": [
    "p2 = figure(plot_width=400, plot_height=400, title=\"Average Power\")\n",
    "\n",
    "p2.line(df.small_load, df.avg_power, line_color='firebrick')\n",
    "p2.line(df_lb.small_load, df_lb.avg_power, line_color='firebrick',line_dash=\"4 4\", legend='LB initial policy')\n",
    "p2.circle(df.small_load, df.avg_power, color='white', line_color='firebrick',size=5)\n",
    "\n",
    "labels = LabelSet(x=\"small_load\", y=\"avg_power\", text=\"beta\", y_offset=8,\n",
    "                  text_font_size=\"8pt\", text_color=\"#555555\",\n",
    "                  source=source, text_align='center')\n",
    "\n",
    "p2.add_layout(labels)\n",
    "p2.grid.grid_line_dash = [2,2]\n",
    "p2.grid.grid_line_alpha = 0.1\n",
    "\n",
    "p2.xaxis.axis_label = 'Small cell load'\n",
    "p2.legend.location  = 'bottom_right'\n",
    "\n",
    "show(p2) # show the results"
   ]
  },
  {
   "cell_type": "code",
   "execution_count": 57,
   "metadata": {},
   "outputs": [
    {
     "data": {
      "text/html": [
       "\n",
       "<div class=\"bk-root\">\n",
       "    <div class=\"bk-plotdiv\" id=\"8b8b135f-a720-4952-a71d-2d021fb1f8b9\"></div>\n",
       "</div>"
      ]
     },
     "metadata": {},
     "output_type": "display_data"
    },
    {
     "data": {
      "application/javascript": [
       "(function(root) {\n",
       "  function embed_document(root) {\n",
       "    var docs_json = {\"732b7603-27e4-47f6-9448-fbe4582c3c4e\":{\"roots\":{\"references\":[{\"attributes\":{\"active_drag\":\"auto\",\"active_inspect\":\"auto\",\"active_scroll\":\"auto\",\"active_tap\":\"auto\",\"tools\":[{\"id\":\"351f83f8-21a9-4e5a-9b04-c7ba419eafc4\",\"type\":\"PanTool\"},{\"id\":\"37d30eda-c4f5-4c9c-a62e-33e150edca9d\",\"type\":\"WheelZoomTool\"},{\"id\":\"4f9b3992-0207-4cc2-879f-94a3d22773a4\",\"type\":\"BoxZoomTool\"},{\"id\":\"ceb12a15-4db7-49ef-aa00-fc11333352c4\",\"type\":\"SaveTool\"},{\"id\":\"8b337445-ed6d-4714-af3f-c8de1d9138c9\",\"type\":\"ResetTool\"},{\"id\":\"c10b365a-0f6d-402a-829d-8a7ad2a31d97\",\"type\":\"HelpTool\"}]},\"id\":\"c6191d54-84f6-4736-be3c-51cd25bb00eb\",\"type\":\"Toolbar\"},{\"attributes\":{\"formatter\":{\"id\":\"6834c899-ffcb-4be7-999a-021d797163b6\",\"type\":\"BasicTickFormatter\"},\"plot\":{\"id\":\"1de471c8-cb0c-4de2-9004-73dceeafcfc5\",\"subtype\":\"Figure\",\"type\":\"Plot\"},\"ticker\":{\"id\":\"d790c0f3-d3ef-47c1-9817-68da4add06ab\",\"type\":\"BasicTicker\"}},\"id\":\"f100faa9-ad54-4fdc-9e12-81d094fc6d8d\",\"type\":\"LinearAxis\"},{\"attributes\":{\"axis_label\":\"Small cell load\",\"formatter\":{\"id\":\"d4d6360d-d70a-4bf1-ae1d-8692f9dc3a4a\",\"type\":\"BasicTickFormatter\"},\"plot\":{\"id\":\"1de471c8-cb0c-4de2-9004-73dceeafcfc5\",\"subtype\":\"Figure\",\"type\":\"Plot\"},\"ticker\":{\"id\":\"0dc9bcac-9d76-4e3c-8362-3bab35e93cb6\",\"type\":\"BasicTicker\"}},\"id\":\"ae0a11c3-1807-491a-b8d6-bf768b268d13\",\"type\":\"LinearAxis\"},{\"attributes\":{\"callback\":null,\"column_names\":[\"x\",\"y\"],\"data\":{\"x\":{\"__ndarray__\":\"lzuMnvhVuz+XO4ye+FXLP7Is6XZ6gNQ/CsNdsrfA3j+yLOl2eoDkPw==\",\"dtype\":\"float64\",\"shape\":[5]},\"y\":{\"__ndarray__\":\"bef7qfEMkECHFtnO9yCSQARWDi0ynpJADQIrhxZulUBzaJHt/EyTQA==\",\"dtype\":\"float64\",\"shape\":[5]}}},\"id\":\"83597d15-8a17-408f-aa33-a534c1574e86\",\"type\":\"ColumnDataSource\"},{\"attributes\":{},\"id\":\"3dc6791c-c859-41ef-ad55-147846111a4f\",\"type\":\"PanTool\"},{\"attributes\":{},\"id\":\"ceb12a15-4db7-49ef-aa00-fc11333352c4\",\"type\":\"SaveTool\"},{\"attributes\":{\"axis_label\":\"Small cell load\",\"formatter\":{\"id\":\"c8342bfa-f7d8-44a0-be83-fa0184c5b367\",\"type\":\"BasicTickFormatter\"},\"plot\":{\"id\":\"be514a70-eb17-4abb-8a6f-93da86d0a66d\",\"subtype\":\"Figure\",\"type\":\"Plot\"},\"ticker\":{\"id\":\"978aa1e3-1c4d-4767-a8b8-776ba76e516a\",\"type\":\"BasicTicker\"}},\"id\":\"22b0ec59-421a-4749-a38c-9db70d1764d0\",\"type\":\"LinearAxis\"},{\"attributes\":{\"line_alpha\":{\"value\":0.1},\"line_color\":{\"value\":\"#1f77b4\"},\"x\":{\"field\":\"x\"},\"y\":{\"field\":\"y\"}},\"id\":\"f1e78356-2110-4961-bef5-356d1203f6e5\",\"type\":\"Line\"},{\"attributes\":{\"sizing_mode\":\"scale_width\",\"toolbar_location\":\"above\",\"tools\":[{\"id\":\"3dc6791c-c859-41ef-ad55-147846111a4f\",\"type\":\"PanTool\"},{\"id\":\"cf43b5aa-62e4-4c5a-be79-1189149308bc\",\"type\":\"WheelZoomTool\"},{\"id\":\"c9a33659-4fb5-4be7-adc4-23f4562888cb\",\"type\":\"BoxZoomTool\"},{\"id\":\"15fbb8ec-792b-406f-84cd-56b7d4515bd1\",\"type\":\"SaveTool\"},{\"id\":\"83857cc8-8e66-47af-a7f7-8beb64914929\",\"type\":\"ResetTool\"},{\"id\":\"839a30e0-2bab-4c13-ba22-bcd697731629\",\"type\":\"HelpTool\"},{\"id\":\"351f83f8-21a9-4e5a-9b04-c7ba419eafc4\",\"type\":\"PanTool\"},{\"id\":\"37d30eda-c4f5-4c9c-a62e-33e150edca9d\",\"type\":\"WheelZoomTool\"},{\"id\":\"4f9b3992-0207-4cc2-879f-94a3d22773a4\",\"type\":\"BoxZoomTool\"},{\"id\":\"ceb12a15-4db7-49ef-aa00-fc11333352c4\",\"type\":\"SaveTool\"},{\"id\":\"8b337445-ed6d-4714-af3f-c8de1d9138c9\",\"type\":\"ResetTool\"},{\"id\":\"c10b365a-0f6d-402a-829d-8a7ad2a31d97\",\"type\":\"HelpTool\"}]},\"id\":\"9c2801ea-c05c-478a-bea4-76c691d1a9d7\",\"type\":\"ToolbarBox\"},{\"attributes\":{\"below\":[{\"id\":\"22b0ec59-421a-4749-a38c-9db70d1764d0\",\"type\":\"LinearAxis\"}],\"left\":[{\"id\":\"82d5f198-3ea9-4eae-bfa7-ad19d3656e23\",\"type\":\"LinearAxis\"}],\"plot_height\":400,\"plot_width\":400,\"renderers\":[{\"id\":\"22b0ec59-421a-4749-a38c-9db70d1764d0\",\"type\":\"LinearAxis\"},{\"id\":\"5fe9b849-5415-4477-a271-61f5d1521414\",\"type\":\"Grid\"},{\"id\":\"82d5f198-3ea9-4eae-bfa7-ad19d3656e23\",\"type\":\"LinearAxis\"},{\"id\":\"0464dd70-a755-4f1f-938e-0a51a336dc8f\",\"type\":\"Grid\"},{\"id\":\"455edf0b-df83-4731-9ecf-0b9eadce1ff5\",\"type\":\"BoxAnnotation\"},{\"id\":\"8637e1d9-03eb-42d3-9db5-81890b2eb20c\",\"type\":\"GlyphRenderer\"},{\"id\":\"974c2ce4-d5ec-47d0-b0b6-42634eda5376\",\"type\":\"Legend\"},{\"id\":\"b40dc92e-b72b-45dc-b03b-a70a2a8ecd4f\",\"type\":\"GlyphRenderer\"},{\"id\":\"a6b19442-4ef4-47b8-984f-f59929e68e4a\",\"type\":\"GlyphRenderer\"},{\"id\":\"5b01c522-4143-4ad1-a59f-9c106d130334\",\"type\":\"LabelSet\"}],\"title\":{\"id\":\"b364d57c-9c9e-4687-826a-228c62899312\",\"type\":\"Title\"},\"toolbar\":{\"id\":\"c6191d54-84f6-4736-be3c-51cd25bb00eb\",\"type\":\"Toolbar\"},\"toolbar_location\":null,\"x_range\":{\"id\":\"df29ab2a-72ea-45bc-9af3-023f121156a9\",\"type\":\"DataRange1d\"},\"x_scale\":{\"id\":\"44a43fd0-1c39-44f5-85c4-56aacc8ddd11\",\"type\":\"LinearScale\"},\"y_range\":{\"id\":\"03af41a7-400b-4d8a-9cda-d974b9938486\",\"type\":\"DataRange1d\"},\"y_scale\":{\"id\":\"b4a02c97-060d-4eb8-b967-1063b34d9d06\",\"type\":\"LinearScale\"}},\"id\":\"be514a70-eb17-4abb-8a6f-93da86d0a66d\",\"subtype\":\"Figure\",\"type\":\"Plot\"},{\"attributes\":{},\"id\":\"978aa1e3-1c4d-4767-a8b8-776ba76e516a\",\"type\":\"BasicTicker\"},{\"attributes\":{\"bottom_units\":\"screen\",\"fill_alpha\":{\"value\":0.5},\"fill_color\":{\"value\":\"lightgrey\"},\"left_units\":\"screen\",\"level\":\"overlay\",\"line_alpha\":{\"value\":1.0},\"line_color\":{\"value\":\"black\"},\"line_dash\":[4,4],\"line_width\":{\"value\":2},\"plot\":null,\"render_mode\":\"css\",\"right_units\":\"screen\",\"top_units\":\"screen\"},\"id\":\"455edf0b-df83-4731-9ecf-0b9eadce1ff5\",\"type\":\"BoxAnnotation\"},{\"attributes\":{\"line_alpha\":{\"value\":0.1},\"line_color\":{\"value\":\"#1f77b4\"},\"line_dash\":[4,4],\"x\":{\"field\":\"x\"},\"y\":{\"field\":\"y\"}},\"id\":\"3b0b60e9-ac55-4e7a-a83f-afe257f4bfae\",\"type\":\"Line\"},{\"attributes\":{\"callback\":null,\"column_names\":[\"x\",\"y\"],\"data\":{\"x\":{\"__ndarray__\":\"lzuMnvhVuz+XO4ye+FXLP7Is6XZ6gNQ/CsNdsrfA3j+yLOl2eoDkPw==\",\"dtype\":\"float64\",\"shape\":[5]},\"y\":{\"__ndarray__\":\"bef7qfEMkECHFtnO9yCSQARWDi0ynpJADQIrhxZulUBzaJHt/EyTQA==\",\"dtype\":\"float64\",\"shape\":[5]}}},\"id\":\"17dd4d26-2b44-4c1f-b80c-915294060557\",\"type\":\"ColumnDataSource\"},{\"attributes\":{\"callback\":null,\"column_names\":[\"index\",\"macro_arrival\",\"std_dev\",\"avg_power\",\"small_load\",\"avg_idle_time\",\"small_arrival\",\"avg_resp_time\",\"num_of_jobs\",\"beta\",\"var_resp_time\"],\"data\":{\"avg_idle_time\":{\"__ndarray__\":\"AAAAAAAAAAAAAAAAAAAAAAAAAAAAAAAAAAAAAAAAAAAAAAAAAAAAAA==\",\"dtype\":\"float64\",\"shape\":[5]},\"avg_power\":{\"__ndarray__\":\"bef7qfEMkECHFtnO9yCSQARWDi0ynpJADQIrhxZulUBzaJHt/EyTQA==\",\"dtype\":\"float64\",\"shape\":[5]},\"avg_resp_time\":{\"__ndarray__\":\"q7LviuB/6z996IL6ljnpP1+dY0D2eus/qoJRSZ2A7D9FR3L5D+nsPw==\",\"dtype\":\"float64\",\"shape\":[5]},\"beta\":{\"__ndarray__\":\"wM+4cCAkyz+GcqJdhZSfPz+MEB5tHKE/AAAAAAAAAAAeG4F4Xb+wPw==\",\"dtype\":\"float64\",\"shape\":[5]},\"index\":[0,1,2,3,4],\"macro_arrival\":{\"__ndarray__\":\"AAAAAAAAAEAAAAAAAAAAQAAAAAAAAABAAAAAAAAAAEAAAAAAAAAAQA==\",\"dtype\":\"float64\",\"shape\":[5]},\"num_of_jobs\":[952111,1706755,2469631,360586,4749367],\"small_arrival\":{\"__ndarray__\":\"AAAAAAAAAEAAAAAAAAAQQAAAAAAAABhAAAAAAAAAIkAAAAAAAAAoQA==\",\"dtype\":\"float64\",\"shape\":[5]},\"small_load\":{\"__ndarray__\":\"lzuMnvhVuz+XO4ye+FXLP7Is6XZ6gNQ/CsNdsrfA3j+yLOl2eoDkPw==\",\"dtype\":\"float64\",\"shape\":[5]},\"std_dev\":{\"__ndarray__\":\"Jn4V0aND8D8s3gAUAa3vP+PZSJQogfA/EMJmk4v58D/hWEEKVSvyPw==\",\"dtype\":\"float64\",\"shape\":[5]},\"var_resp_time\":{\"__ndarray__\":\"Dk+vlGWI8D8lAWpq2VrvP0q1T8djBvE/4PjaM0sC8j81JO6x9KH0Pw==\",\"dtype\":\"float64\",\"shape\":[5]}}},\"id\":\"cf46b25c-dc6e-4766-928c-a9bd2d53eec4\",\"type\":\"ColumnDataSource\"},{\"attributes\":{},\"id\":\"ef76433c-a3f5-4209-87ee-e5f660f2b5cb\",\"type\":\"LinearScale\"},{\"attributes\":{\"dimension\":1,\"grid_line_alpha\":{\"value\":0.1},\"grid_line_dash\":[2,2],\"plot\":{\"id\":\"1de471c8-cb0c-4de2-9004-73dceeafcfc5\",\"subtype\":\"Figure\",\"type\":\"Plot\"},\"ticker\":{\"id\":\"d790c0f3-d3ef-47c1-9817-68da4add06ab\",\"type\":\"BasicTicker\"}},\"id\":\"bfd0b75c-b586-40c3-8515-28436682aa4c\",\"type\":\"Grid\"},{\"attributes\":{\"bottom_units\":\"screen\",\"fill_alpha\":{\"value\":0.5},\"fill_color\":{\"value\":\"lightgrey\"},\"left_units\":\"screen\",\"level\":\"overlay\",\"line_alpha\":{\"value\":1.0},\"line_color\":{\"value\":\"black\"},\"line_dash\":[4,4],\"line_width\":{\"value\":2},\"plot\":null,\"render_mode\":\"css\",\"right_units\":\"screen\",\"top_units\":\"screen\"},\"id\":\"22924a94-1285-4a40-a7b6-19be4a9c7152\",\"type\":\"BoxAnnotation\"},{\"attributes\":{\"line_color\":{\"value\":\"firebrick\"},\"line_dash\":[4,4],\"x\":{\"field\":\"x\"},\"y\":{\"field\":\"y\"}},\"id\":\"d20282ad-4b8e-4551-8957-c06a07e52d3a\",\"type\":\"Line\"},{\"attributes\":{\"fill_alpha\":{\"value\":0.1},\"fill_color\":{\"value\":\"#1f77b4\"},\"line_alpha\":{\"value\":0.1},\"line_color\":{\"value\":\"#1f77b4\"},\"size\":{\"units\":\"screen\",\"value\":5},\"x\":{\"field\":\"x\"},\"y\":{\"field\":\"y\"}},\"id\":\"05357603-f52f-48b9-b5c6-d49835e986c5\",\"type\":\"Circle\"},{\"attributes\":{\"grid_line_alpha\":{\"value\":0.1},\"grid_line_dash\":[2,2],\"plot\":{\"id\":\"1de471c8-cb0c-4de2-9004-73dceeafcfc5\",\"subtype\":\"Figure\",\"type\":\"Plot\"},\"ticker\":{\"id\":\"0dc9bcac-9d76-4e3c-8362-3bab35e93cb6\",\"type\":\"BasicTicker\"}},\"id\":\"8f11b945-5a4e-4fed-9296-4f8d88dd72fd\",\"type\":\"Grid\"},{\"attributes\":{},\"id\":\"b4a02c97-060d-4eb8-b967-1063b34d9d06\",\"type\":\"LinearScale\"},{\"attributes\":{\"source\":{\"id\":\"83597d15-8a17-408f-aa33-a534c1574e86\",\"type\":\"ColumnDataSource\"}},\"id\":\"928983a4-0845-4fe7-b6f5-b82c1dbda630\",\"type\":\"CDSView\"},{\"attributes\":{},\"id\":\"036827ff-855d-4e10-8a90-a0b21677c8bb\",\"type\":\"BasicTicker\"},{\"attributes\":{\"line_color\":{\"value\":\"navy\"},\"line_dash\":[4,4],\"x\":{\"field\":\"x\"},\"y\":{\"field\":\"y\"}},\"id\":\"2250a2e3-7b5c-4150-943b-80d6b7111cf5\",\"type\":\"Line\"},{\"attributes\":{\"children\":[{\"id\":\"1de471c8-cb0c-4de2-9004-73dceeafcfc5\",\"subtype\":\"Figure\",\"type\":\"Plot\"},{\"id\":\"be514a70-eb17-4abb-8a6f-93da86d0a66d\",\"subtype\":\"Figure\",\"type\":\"Plot\"}]},\"id\":\"e706bb1d-65c1-49d9-bfde-d1ea9c4f60d6\",\"type\":\"Row\"},{\"attributes\":{\"source\":{\"id\":\"5ef2fb64-a349-4924-9d7f-2de6a00fb1a4\",\"type\":\"ColumnDataSource\"}},\"id\":\"3babf41b-cf73-41cd-a785-375f1340dfaa\",\"type\":\"CDSView\"},{\"attributes\":{\"data_source\":{\"id\":\"2328920b-25f3-4219-a55a-22c1b529fdef\",\"type\":\"ColumnDataSource\"},\"glyph\":{\"id\":\"d20282ad-4b8e-4551-8957-c06a07e52d3a\",\"type\":\"Line\"},\"hover_glyph\":null,\"muted_glyph\":null,\"nonselection_glyph\":{\"id\":\"6bdd0805-8e72-4d6a-bb29-cd47068bd609\",\"type\":\"Line\"},\"selection_glyph\":null,\"view\":{\"id\":\"cb2f464c-cd03-497a-a0da-615acfb8ec17\",\"type\":\"CDSView\"}},\"id\":\"b40dc92e-b72b-45dc-b03b-a70a2a8ecd4f\",\"type\":\"GlyphRenderer\"},{\"attributes\":{\"source\":{\"id\":\"17dd4d26-2b44-4c1f-b80c-915294060557\",\"type\":\"ColumnDataSource\"}},\"id\":\"39e81519-bb1e-4d86-b335-b69e818facce\",\"type\":\"CDSView\"},{\"attributes\":{},\"id\":\"83857cc8-8e66-47af-a7f7-8beb64914929\",\"type\":\"ResetTool\"},{\"attributes\":{},\"id\":\"0dc9bcac-9d76-4e3c-8362-3bab35e93cb6\",\"type\":\"BasicTicker\"},{\"attributes\":{\"callback\":null,\"column_names\":[\"x\",\"y\"],\"data\":{\"x\":{\"__ndarray__\":\"lzuMnvhVuz+XO4ye+FXLP7Is6XZ6gNQ/CsNdsrfA3j+yLOl2eoDkPw==\",\"dtype\":\"float64\",\"shape\":[5]},\"y\":{\"__ndarray__\":\"wcBz7+GS6z/5iJgSSfTtP8xFfCdmve4/Ho8ZqIx/7z9VavZAKzDwPw==\",\"dtype\":\"float64\",\"shape\":[5]}}},\"id\":\"5ef2fb64-a349-4924-9d7f-2de6a00fb1a4\",\"type\":\"ColumnDataSource\"},{\"attributes\":{\"callback\":null,\"column_names\":[\"x\",\"y\"],\"data\":{\"x\":{\"__ndarray__\":\"lzuMnvhVuz+XO4ye+FXLP7Is6XZ6gNQ/CsNdsrfA3j+yLOl2eoDkPw==\",\"dtype\":\"float64\",\"shape\":[5]},\"y\":{\"__ndarray__\":\"RIts53sMkEBBYOXQIhyRQDMzMzOz55FAZmZmZmbakkDJdr6fGqaTQA==\",\"dtype\":\"float64\",\"shape\":[5]}}},\"id\":\"2328920b-25f3-4219-a55a-22c1b529fdef\",\"type\":\"ColumnDataSource\"},{\"attributes\":{\"dimension\":1,\"grid_line_alpha\":{\"value\":0.1},\"grid_line_dash\":[2,2],\"plot\":{\"id\":\"be514a70-eb17-4abb-8a6f-93da86d0a66d\",\"subtype\":\"Figure\",\"type\":\"Plot\"},\"ticker\":{\"id\":\"036827ff-855d-4e10-8a90-a0b21677c8bb\",\"type\":\"BasicTicker\"}},\"id\":\"0464dd70-a755-4f1f-938e-0a51a336dc8f\",\"type\":\"Grid\"},{\"attributes\":{\"source\":{\"id\":\"2328920b-25f3-4219-a55a-22c1b529fdef\",\"type\":\"ColumnDataSource\"}},\"id\":\"cb2f464c-cd03-497a-a0da-615acfb8ec17\",\"type\":\"CDSView\"},{\"attributes\":{\"source\":{\"id\":\"7518768f-05fa-4c02-b482-968059d578ac\",\"type\":\"ColumnDataSource\"}},\"id\":\"186df4de-e3f0-4610-8d82-f150a881fefb\",\"type\":\"CDSView\"},{\"attributes\":{\"data_source\":{\"id\":\"5ef2fb64-a349-4924-9d7f-2de6a00fb1a4\",\"type\":\"ColumnDataSource\"},\"glyph\":{\"id\":\"2250a2e3-7b5c-4150-943b-80d6b7111cf5\",\"type\":\"Line\"},\"hover_glyph\":null,\"muted_glyph\":null,\"nonselection_glyph\":{\"id\":\"3b0b60e9-ac55-4e7a-a83f-afe257f4bfae\",\"type\":\"Line\"},\"selection_glyph\":null,\"view\":{\"id\":\"3babf41b-cf73-41cd-a785-375f1340dfaa\",\"type\":\"CDSView\"}},\"id\":\"a6a0124e-5e69-4d50-a447-be29e5ad1ac8\",\"type\":\"GlyphRenderer\"},{\"attributes\":{\"label\":{\"value\":\"LB initial policy\"},\"renderers\":[{\"id\":\"b40dc92e-b72b-45dc-b03b-a70a2a8ecd4f\",\"type\":\"GlyphRenderer\"}]},\"id\":\"ebad0181-1a62-4cab-8544-f843cb9003a5\",\"type\":\"LegendItem\"},{\"attributes\":{},\"id\":\"6834c899-ffcb-4be7-999a-021d797163b6\",\"type\":\"BasicTickFormatter\"},{\"attributes\":{\"line_color\":{\"value\":\"firebrick\"},\"x\":{\"field\":\"x\"},\"y\":{\"field\":\"y\"}},\"id\":\"da2987cf-e8fc-4781-b363-cbb04af0e41e\",\"type\":\"Line\"},{\"attributes\":{\"callback\":null,\"column_names\":[\"index\",\"macro_arrival\",\"std_dev\",\"avg_power\",\"small_load\",\"avg_idle_time\",\"small_arrival\",\"avg_resp_time\",\"num_of_jobs\",\"beta\",\"var_resp_time\"],\"data\":{\"avg_idle_time\":{\"__ndarray__\":\"AAAAAAAAAAAAAAAAAAAAAAAAAAAAAAAAAAAAAAAAAAAAAAAAAAAAAA==\",\"dtype\":\"float64\",\"shape\":[5]},\"avg_power\":{\"__ndarray__\":\"bef7qfEMkECHFtnO9yCSQARWDi0ynpJADQIrhxZulUBzaJHt/EyTQA==\",\"dtype\":\"float64\",\"shape\":[5]},\"avg_resp_time\":{\"__ndarray__\":\"q7LviuB/6z996IL6ljnpP1+dY0D2eus/qoJRSZ2A7D9FR3L5D+nsPw==\",\"dtype\":\"float64\",\"shape\":[5]},\"beta\":{\"__ndarray__\":\"wM+4cCAkyz+GcqJdhZSfPz+MEB5tHKE/AAAAAAAAAAAeG4F4Xb+wPw==\",\"dtype\":\"float64\",\"shape\":[5]},\"index\":[0,1,2,3,4],\"macro_arrival\":{\"__ndarray__\":\"AAAAAAAAAEAAAAAAAAAAQAAAAAAAAABAAAAAAAAAAEAAAAAAAAAAQA==\",\"dtype\":\"float64\",\"shape\":[5]},\"num_of_jobs\":[952111,1706755,2469631,360586,4749367],\"small_arrival\":{\"__ndarray__\":\"AAAAAAAAAEAAAAAAAAAQQAAAAAAAABhAAAAAAAAAIkAAAAAAAAAoQA==\",\"dtype\":\"float64\",\"shape\":[5]},\"small_load\":{\"__ndarray__\":\"lzuMnvhVuz+XO4ye+FXLP7Is6XZ6gNQ/CsNdsrfA3j+yLOl2eoDkPw==\",\"dtype\":\"float64\",\"shape\":[5]},\"std_dev\":{\"__ndarray__\":\"Jn4V0aND8D8s3gAUAa3vP+PZSJQogfA/EMJmk4v58D/hWEEKVSvyPw==\",\"dtype\":\"float64\",\"shape\":[5]},\"var_resp_time\":{\"__ndarray__\":\"Dk+vlGWI8D8lAWpq2VrvP0q1T8djBvE/4PjaM0sC8j81JO6x9KH0Pw==\",\"dtype\":\"float64\",\"shape\":[5]}}},\"id\":\"f923a2ca-a174-4c35-bed1-5283636ac7e8\",\"type\":\"ColumnDataSource\"},{\"attributes\":{\"source\":{\"id\":\"939f875b-8b8c-41d6-a570-27c2ef76b9d2\",\"type\":\"ColumnDataSource\"}},\"id\":\"3d01c98c-4270-487b-a7f9-2746904ab735\",\"type\":\"CDSView\"},{\"attributes\":{},\"id\":\"15fbb8ec-792b-406f-84cd-56b7d4515bd1\",\"type\":\"SaveTool\"},{\"attributes\":{\"line_alpha\":{\"value\":0.1},\"line_color\":{\"value\":\"#1f77b4\"},\"line_dash\":[4,4],\"x\":{\"field\":\"x\"},\"y\":{\"field\":\"y\"}},\"id\":\"bb5bda08-fe15-4717-9fc5-166c56f526d0\",\"type\":\"Line\"},{\"attributes\":{},\"id\":\"c8342bfa-f7d8-44a0-be83-fa0184c5b367\",\"type\":\"BasicTickFormatter\"},{\"attributes\":{},\"id\":\"44a43fd0-1c39-44f5-85c4-56aacc8ddd11\",\"type\":\"LinearScale\"},{\"attributes\":{},\"id\":\"14357f6a-9506-43c7-9a68-90c60a40bb57\",\"type\":\"LinearScale\"},{\"attributes\":{\"formatter\":{\"id\":\"0b90617c-afe5-40fd-bcd6-3d213788589d\",\"type\":\"BasicTickFormatter\"},\"plot\":{\"id\":\"be514a70-eb17-4abb-8a6f-93da86d0a66d\",\"subtype\":\"Figure\",\"type\":\"Plot\"},\"ticker\":{\"id\":\"036827ff-855d-4e10-8a90-a0b21677c8bb\",\"type\":\"BasicTicker\"}},\"id\":\"82d5f198-3ea9-4eae-bfa7-ad19d3656e23\",\"type\":\"LinearAxis\"},{\"attributes\":{\"fill_alpha\":{\"value\":0.1},\"fill_color\":{\"value\":\"#1f77b4\"},\"line_alpha\":{\"value\":0.1},\"line_color\":{\"value\":\"#1f77b4\"},\"size\":{\"units\":\"screen\",\"value\":5},\"x\":{\"field\":\"x\"},\"y\":{\"field\":\"y\"}},\"id\":\"a04e1c74-84d8-44e5-b131-83b9b5ba1020\",\"type\":\"Circle\"},{\"attributes\":{\"label\":{\"value\":\"Constraint\"},\"renderers\":[{\"id\":\"dbe288db-eeac-4d37-a764-1e103ea7a9a8\",\"type\":\"GlyphRenderer\"}]},\"id\":\"de6b1e55-09e2-416b-a22e-9f803934a6d9\",\"type\":\"LegendItem\"},{\"attributes\":{},\"id\":\"cf43b5aa-62e4-4c5a-be79-1189149308bc\",\"type\":\"WheelZoomTool\"},{\"attributes\":{\"data_source\":{\"id\":\"17dd4d26-2b44-4c1f-b80c-915294060557\",\"type\":\"ColumnDataSource\"},\"glyph\":{\"id\":\"da2987cf-e8fc-4781-b363-cbb04af0e41e\",\"type\":\"Line\"},\"hover_glyph\":null,\"muted_glyph\":null,\"nonselection_glyph\":{\"id\":\"f1e78356-2110-4961-bef5-356d1203f6e5\",\"type\":\"Line\"},\"selection_glyph\":null,\"view\":{\"id\":\"39e81519-bb1e-4d86-b335-b69e818facce\",\"type\":\"CDSView\"}},\"id\":\"8637e1d9-03eb-42d3-9db5-81890b2eb20c\",\"type\":\"GlyphRenderer\"},{\"attributes\":{\"data_source\":{\"id\":\"b24f41ed-cc7a-40d2-aa01-afebefdd9fd2\",\"type\":\"ColumnDataSource\"},\"glyph\":{\"id\":\"09a625ef-3bc8-4f0e-a698-ad54bd40dd21\",\"type\":\"Circle\"},\"hover_glyph\":null,\"muted_glyph\":null,\"nonselection_glyph\":{\"id\":\"a04e1c74-84d8-44e5-b131-83b9b5ba1020\",\"type\":\"Circle\"},\"selection_glyph\":null,\"view\":{\"id\":\"f335ebab-b888-4bac-9837-b8ce0c5def62\",\"type\":\"CDSView\"}},\"id\":\"7047cae9-bff5-49aa-8549-9b21cca4df58\",\"type\":\"GlyphRenderer\"},{\"attributes\":{\"callback\":null},\"id\":\"6573dc80-7f7e-49de-85ac-a07ae25653a8\",\"type\":\"DataRange1d\"},{\"attributes\":{},\"id\":\"c10b365a-0f6d-402a-829d-8a7ad2a31d97\",\"type\":\"HelpTool\"},{\"attributes\":{\"overlay\":{\"id\":\"22924a94-1285-4a40-a7b6-19be4a9c7152\",\"type\":\"BoxAnnotation\"}},\"id\":\"c9a33659-4fb5-4be7-adc4-23f4562888cb\",\"type\":\"BoxZoomTool\"},{\"attributes\":{\"items\":[{\"id\":\"ebad0181-1a62-4cab-8544-f843cb9003a5\",\"type\":\"LegendItem\"}],\"location\":\"bottom_right\",\"plot\":{\"id\":\"be514a70-eb17-4abb-8a6f-93da86d0a66d\",\"subtype\":\"Figure\",\"type\":\"Plot\"}},\"id\":\"974c2ce4-d5ec-47d0-b0b6-42634eda5376\",\"type\":\"Legend\"},{\"attributes\":{},\"id\":\"d790c0f3-d3ef-47c1-9817-68da4add06ab\",\"type\":\"BasicTicker\"},{\"attributes\":{\"callback\":null,\"column_names\":[\"x\",\"y\"],\"data\":{\"x\":{\"__ndarray__\":\"lzuMnvhVuz+XO4ye+FXLP7Is6XZ6gNQ/CsNdsrfA3j+yLOl2eoDkPw==\",\"dtype\":\"float64\",\"shape\":[5]},\"y\":{\"__ndarray__\":\"R/q0iv7Q6D+t4SL3dPXqP2vY74l1qus/NWd9yjFZ7D8AWYgOgSPtPw==\",\"dtype\":\"float64\",\"shape\":[5]}}},\"id\":\"939f875b-8b8c-41d6-a570-27c2ef76b9d2\",\"type\":\"ColumnDataSource\"},{\"attributes\":{\"data_source\":{\"id\":\"7518768f-05fa-4c02-b482-968059d578ac\",\"type\":\"ColumnDataSource\"},\"glyph\":{\"id\":\"541e0545-719f-4df2-beef-86afdaf0aaa4\",\"type\":\"Line\"},\"hover_glyph\":null,\"muted_glyph\":null,\"nonselection_glyph\":{\"id\":\"0442d1d0-190d-45b8-be50-040c70486177\",\"type\":\"Line\"},\"selection_glyph\":null,\"view\":{\"id\":\"186df4de-e3f0-4610-8d82-f150a881fefb\",\"type\":\"CDSView\"}},\"id\":\"1b96ce38-4369-403d-a399-ad4643ed4161\",\"type\":\"GlyphRenderer\"},{\"attributes\":{},\"id\":\"0b90617c-afe5-40fd-bcd6-3d213788589d\",\"type\":\"BasicTickFormatter\"},{\"attributes\":{\"children\":[{\"id\":\"e706bb1d-65c1-49d9-bfde-d1ea9c4f60d6\",\"type\":\"Row\"}]},\"id\":\"7773f2ad-cb11-4cf4-bfdc-cd45f599841d\",\"type\":\"Column\"},{\"attributes\":{},\"id\":\"37d30eda-c4f5-4c9c-a62e-33e150edca9d\",\"type\":\"WheelZoomTool\"},{\"attributes\":{\"callback\":null},\"id\":\"03af41a7-400b-4d8a-9cda-d974b9938486\",\"type\":\"DataRange1d\"},{\"attributes\":{\"items\":[{\"id\":\"b2a77a8e-3470-431b-869a-295b3ccf6829\",\"type\":\"LegendItem\"},{\"id\":\"de6b1e55-09e2-416b-a22e-9f803934a6d9\",\"type\":\"LegendItem\"}],\"location\":\"bottom_right\",\"plot\":{\"id\":\"1de471c8-cb0c-4de2-9004-73dceeafcfc5\",\"subtype\":\"Figure\",\"type\":\"Plot\"}},\"id\":\"11563f3c-a616-4b64-82d3-4ba36d7e1b17\",\"type\":\"Legend\"},{\"attributes\":{\"data_source\":{\"id\":\"83597d15-8a17-408f-aa33-a534c1574e86\",\"type\":\"ColumnDataSource\"},\"glyph\":{\"id\":\"d55f2414-360b-41ff-bc4d-db92d8ac5782\",\"type\":\"Circle\"},\"hover_glyph\":null,\"muted_glyph\":null,\"nonselection_glyph\":{\"id\":\"05357603-f52f-48b9-b5c6-d49835e986c5\",\"type\":\"Circle\"},\"selection_glyph\":null,\"view\":{\"id\":\"928983a4-0845-4fe7-b6f5-b82c1dbda630\",\"type\":\"CDSView\"}},\"id\":\"a6b19442-4ef4-47b8-984f-f59929e68e4a\",\"type\":\"GlyphRenderer\"},{\"attributes\":{\"fill_color\":{\"value\":\"white\"},\"line_color\":{\"value\":\"firebrick\"},\"size\":{\"units\":\"screen\",\"value\":5},\"x\":{\"field\":\"x\"},\"y\":{\"field\":\"y\"}},\"id\":\"d55f2414-360b-41ff-bc4d-db92d8ac5782\",\"type\":\"Circle\"},{\"attributes\":{\"active_drag\":\"auto\",\"active_inspect\":\"auto\",\"active_scroll\":\"auto\",\"active_tap\":\"auto\",\"tools\":[{\"id\":\"3dc6791c-c859-41ef-ad55-147846111a4f\",\"type\":\"PanTool\"},{\"id\":\"cf43b5aa-62e4-4c5a-be79-1189149308bc\",\"type\":\"WheelZoomTool\"},{\"id\":\"c9a33659-4fb5-4be7-adc4-23f4562888cb\",\"type\":\"BoxZoomTool\"},{\"id\":\"15fbb8ec-792b-406f-84cd-56b7d4515bd1\",\"type\":\"SaveTool\"},{\"id\":\"83857cc8-8e66-47af-a7f7-8beb64914929\",\"type\":\"ResetTool\"},{\"id\":\"839a30e0-2bab-4c13-ba22-bcd697731629\",\"type\":\"HelpTool\"}]},\"id\":\"c68288da-6d84-4b3b-9ac8-1be1cb8d8d31\",\"type\":\"Toolbar\"},{\"attributes\":{\"plot\":null,\"text\":\"Average Power\"},\"id\":\"b364d57c-9c9e-4687-826a-228c62899312\",\"type\":\"Title\"},{\"attributes\":{\"overlay\":{\"id\":\"455edf0b-df83-4731-9ecf-0b9eadce1ff5\",\"type\":\"BoxAnnotation\"}},\"id\":\"4f9b3992-0207-4cc2-879f-94a3d22773a4\",\"type\":\"BoxZoomTool\"},{\"attributes\":{\"line_alpha\":{\"value\":0.1},\"line_color\":{\"value\":\"#1f77b4\"},\"line_dash\":[4,4],\"x\":{\"field\":\"x\"},\"y\":{\"field\":\"y\"}},\"id\":\"6bdd0805-8e72-4d6a-bb29-cd47068bd609\",\"type\":\"Line\"},{\"attributes\":{\"callback\":null,\"column_names\":[\"x\",\"y\"],\"data\":{\"x\":{\"__ndarray__\":\"lzuMnvhVuz+XO4ye+FXLP7Is6XZ6gNQ/CsNdsrfA3j+yLOl2eoDkPw==\",\"dtype\":\"float64\",\"shape\":[5]},\"y\":{\"__ndarray__\":\"q7LviuB/6z996IL6ljnpP1+dY0D2eus/qoJRSZ2A7D9FR3L5D+nsPw==\",\"dtype\":\"float64\",\"shape\":[5]}}},\"id\":\"b24f41ed-cc7a-40d2-aa01-afebefdd9fd2\",\"type\":\"ColumnDataSource\"},{\"attributes\":{\"fill_color\":{\"value\":\"white\"},\"line_color\":{\"value\":\"navy\"},\"size\":{\"units\":\"screen\",\"value\":5},\"x\":{\"field\":\"x\"},\"y\":{\"field\":\"y\"}},\"id\":\"09a625ef-3bc8-4f0e-a698-ad54bd40dd21\",\"type\":\"Circle\"},{\"attributes\":{\"grid_line_alpha\":{\"value\":0.1},\"grid_line_dash\":[2,2],\"plot\":{\"id\":\"be514a70-eb17-4abb-8a6f-93da86d0a66d\",\"subtype\":\"Figure\",\"type\":\"Plot\"},\"ticker\":{\"id\":\"978aa1e3-1c4d-4767-a8b8-776ba76e516a\",\"type\":\"BasicTicker\"}},\"id\":\"5fe9b849-5415-4477-a271-61f5d1521414\",\"type\":\"Grid\"},{\"attributes\":{\"children\":[{\"id\":\"9c2801ea-c05c-478a-bea4-76c691d1a9d7\",\"type\":\"ToolbarBox\"},{\"id\":\"7773f2ad-cb11-4cf4-bfdc-cd45f599841d\",\"type\":\"Column\"}]},\"id\":\"958fad51-11bc-4a45-925b-342746fd128d\",\"type\":\"Column\"},{\"attributes\":{\"plot\":null,\"text\":\"Mean response time\"},\"id\":\"c83d41a9-43cd-47c7-8684-b69799ef6dde\",\"type\":\"Title\"},{\"attributes\":{\"callback\":null},\"id\":\"df29ab2a-72ea-45bc-9af3-023f121156a9\",\"type\":\"DataRange1d\"},{\"attributes\":{},\"id\":\"d4d6360d-d70a-4bf1-ae1d-8692f9dc3a4a\",\"type\":\"BasicTickFormatter\"},{\"attributes\":{},\"id\":\"839a30e0-2bab-4c13-ba22-bcd697731629\",\"type\":\"HelpTool\"},{\"attributes\":{},\"id\":\"351f83f8-21a9-4e5a-9b04-c7ba419eafc4\",\"type\":\"PanTool\"},{\"attributes\":{\"label\":{\"value\":\"LB initial policy\"},\"renderers\":[{\"id\":\"a6a0124e-5e69-4d50-a447-be29e5ad1ac8\",\"type\":\"GlyphRenderer\"}]},\"id\":\"b2a77a8e-3470-431b-869a-295b3ccf6829\",\"type\":\"LegendItem\"},{\"attributes\":{\"plot\":{\"id\":\"1de471c8-cb0c-4de2-9004-73dceeafcfc5\",\"subtype\":\"Figure\",\"type\":\"Plot\"},\"source\":{\"id\":\"cf46b25c-dc6e-4766-928c-a9bd2d53eec4\",\"type\":\"ColumnDataSource\"},\"text\":{\"field\":\"beta\"},\"text_align\":\"center\",\"text_color\":{\"value\":\"#555555\"},\"text_font_size\":{\"value\":\"8pt\"},\"x\":{\"field\":\"small_load\"},\"y\":{\"field\":\"avg_resp_time\"},\"y_offset\":{\"value\":8}},\"id\":\"773fbb53-7a2e-40a6-b83f-558511a1a093\",\"type\":\"LabelSet\"},{\"attributes\":{},\"id\":\"8b337445-ed6d-4714-af3f-c8de1d9138c9\",\"type\":\"ResetTool\"},{\"attributes\":{\"callback\":null,\"column_names\":[\"x\",\"y\"],\"data\":{\"x\":{\"__ndarray__\":\"lzuMnvhVuz+XO4ye+FXLP7Is6XZ6gNQ/CsNdsrfA3j+yLOl2eoDkPw==\",\"dtype\":\"float64\",\"shape\":[5]},\"y\":{\"__ndarray__\":\"q7LviuB/6z996IL6ljnpP1+dY0D2eus/qoJRSZ2A7D9FR3L5D+nsPw==\",\"dtype\":\"float64\",\"shape\":[5]}}},\"id\":\"7518768f-05fa-4c02-b482-968059d578ac\",\"type\":\"ColumnDataSource\"},{\"attributes\":{\"line_color\":{\"value\":\"navy\"},\"x\":{\"field\":\"x\"},\"y\":{\"field\":\"y\"}},\"id\":\"541e0545-719f-4df2-beef-86afdaf0aaa4\",\"type\":\"Line\"},{\"attributes\":{\"below\":[{\"id\":\"ae0a11c3-1807-491a-b8d6-bf768b268d13\",\"type\":\"LinearAxis\"}],\"left\":[{\"id\":\"f100faa9-ad54-4fdc-9e12-81d094fc6d8d\",\"type\":\"LinearAxis\"}],\"plot_height\":400,\"plot_width\":400,\"renderers\":[{\"id\":\"ae0a11c3-1807-491a-b8d6-bf768b268d13\",\"type\":\"LinearAxis\"},{\"id\":\"8f11b945-5a4e-4fed-9296-4f8d88dd72fd\",\"type\":\"Grid\"},{\"id\":\"f100faa9-ad54-4fdc-9e12-81d094fc6d8d\",\"type\":\"LinearAxis\"},{\"id\":\"bfd0b75c-b586-40c3-8515-28436682aa4c\",\"type\":\"Grid\"},{\"id\":\"22924a94-1285-4a40-a7b6-19be4a9c7152\",\"type\":\"BoxAnnotation\"},{\"id\":\"1b96ce38-4369-403d-a399-ad4643ed4161\",\"type\":\"GlyphRenderer\"},{\"id\":\"11563f3c-a616-4b64-82d3-4ba36d7e1b17\",\"type\":\"Legend\"},{\"id\":\"a6a0124e-5e69-4d50-a447-be29e5ad1ac8\",\"type\":\"GlyphRenderer\"},{\"id\":\"dbe288db-eeac-4d37-a764-1e103ea7a9a8\",\"type\":\"GlyphRenderer\"},{\"id\":\"7047cae9-bff5-49aa-8549-9b21cca4df58\",\"type\":\"GlyphRenderer\"},{\"id\":\"773fbb53-7a2e-40a6-b83f-558511a1a093\",\"type\":\"LabelSet\"}],\"title\":{\"id\":\"c83d41a9-43cd-47c7-8684-b69799ef6dde\",\"type\":\"Title\"},\"toolbar\":{\"id\":\"c68288da-6d84-4b3b-9ac8-1be1cb8d8d31\",\"type\":\"Toolbar\"},\"toolbar_location\":null,\"x_range\":{\"id\":\"b4a0f73c-87d0-4762-8706-05448453f14a\",\"type\":\"DataRange1d\"},\"x_scale\":{\"id\":\"14357f6a-9506-43c7-9a68-90c60a40bb57\",\"type\":\"LinearScale\"},\"y_range\":{\"id\":\"6573dc80-7f7e-49de-85ac-a07ae25653a8\",\"type\":\"DataRange1d\"},\"y_scale\":{\"id\":\"ef76433c-a3f5-4209-87ee-e5f660f2b5cb\",\"type\":\"LinearScale\"}},\"id\":\"1de471c8-cb0c-4de2-9004-73dceeafcfc5\",\"subtype\":\"Figure\",\"type\":\"Plot\"},{\"attributes\":{\"data_source\":{\"id\":\"939f875b-8b8c-41d6-a570-27c2ef76b9d2\",\"type\":\"ColumnDataSource\"},\"glyph\":{\"id\":\"2c9619ae-24ff-43ce-a3b6-103b9faaeaf5\",\"type\":\"Line\"},\"hover_glyph\":null,\"muted_glyph\":null,\"nonselection_glyph\":{\"id\":\"bb5bda08-fe15-4717-9fc5-166c56f526d0\",\"type\":\"Line\"},\"selection_glyph\":null,\"view\":{\"id\":\"3d01c98c-4270-487b-a7f9-2746904ab735\",\"type\":\"CDSView\"}},\"id\":\"dbe288db-eeac-4d37-a764-1e103ea7a9a8\",\"type\":\"GlyphRenderer\"},{\"attributes\":{\"line_color\":{\"value\":\"gray\"},\"line_dash\":[4,4],\"x\":{\"field\":\"x\"},\"y\":{\"field\":\"y\"}},\"id\":\"2c9619ae-24ff-43ce-a3b6-103b9faaeaf5\",\"type\":\"Line\"},{\"attributes\":{\"plot\":{\"id\":\"be514a70-eb17-4abb-8a6f-93da86d0a66d\",\"subtype\":\"Figure\",\"type\":\"Plot\"},\"source\":{\"id\":\"f923a2ca-a174-4c35-bed1-5283636ac7e8\",\"type\":\"ColumnDataSource\"},\"text\":{\"field\":\"beta\"},\"text_align\":\"center\",\"text_color\":{\"value\":\"#555555\"},\"text_font_size\":{\"value\":\"8pt\"},\"x\":{\"field\":\"small_load\"},\"y\":{\"field\":\"avg_power\"},\"y_offset\":{\"value\":8}},\"id\":\"5b01c522-4143-4ad1-a59f-9c106d130334\",\"type\":\"LabelSet\"},{\"attributes\":{\"line_alpha\":{\"value\":0.1},\"line_color\":{\"value\":\"#1f77b4\"},\"x\":{\"field\":\"x\"},\"y\":{\"field\":\"y\"}},\"id\":\"0442d1d0-190d-45b8-be50-040c70486177\",\"type\":\"Line\"},{\"attributes\":{\"callback\":null},\"id\":\"b4a0f73c-87d0-4762-8706-05448453f14a\",\"type\":\"DataRange1d\"},{\"attributes\":{\"source\":{\"id\":\"b24f41ed-cc7a-40d2-aa01-afebefdd9fd2\",\"type\":\"ColumnDataSource\"}},\"id\":\"f335ebab-b888-4bac-9837-b8ce0c5def62\",\"type\":\"CDSView\"}],\"root_ids\":[\"958fad51-11bc-4a45-925b-342746fd128d\"]},\"title\":\"Bokeh Application\",\"version\":\"0.12.9\"}};\n",
       "    var render_items = [{\"docid\":\"732b7603-27e4-47f6-9448-fbe4582c3c4e\",\"elementid\":\"8b8b135f-a720-4952-a71d-2d021fb1f8b9\",\"modelid\":\"958fad51-11bc-4a45-925b-342746fd128d\"}];\n",
       "\n",
       "    root.Bokeh.embed.embed_items(docs_json, render_items);\n",
       "  }\n",
       "\n",
       "  if (root.Bokeh !== undefined) {\n",
       "    embed_document(root);\n",
       "  } else {\n",
       "    var attempts = 0;\n",
       "    var timer = setInterval(function(root) {\n",
       "      if (root.Bokeh !== undefined) {\n",
       "        embed_document(root);\n",
       "        clearInterval(timer);\n",
       "      }\n",
       "      attempts++;\n",
       "      if (attempts > 100) {\n",
       "        console.log(\"Bokeh: ERROR: Unable to embed document because BokehJS library is missing\")\n",
       "        clearInterval(timer);\n",
       "      }\n",
       "    }, 10, root)\n",
       "  }\n",
       "})(window);"
      ],
      "application/vnd.bokehjs_exec.v0+json": ""
     },
     "metadata": {
      "application/vnd.bokehjs_exec.v0+json": {
       "id": "958fad51-11bc-4a45-925b-342746fd128d"
      }
     },
     "output_type": "display_data"
    }
   ],
   "source": [
    "grid = gridplot([[p,p2]])\n",
    "\n",
    "show(grid)"
   ]
  },
  {
   "cell_type": "code",
   "execution_count": 58,
   "metadata": {},
   "outputs": [
    {
     "name": "stdout",
     "output_type": "stream",
     "text": [
      "Four_small_cells_initial_plot.png  test.csv\r\n",
      "test-lb-policy.csv                 visualization.ipynb\r\n",
      "test-test.csv\r\n"
     ]
    }
   ],
   "source": [
    "%ls\n"
   ]
  },
  {
   "cell_type": "code",
   "execution_count": 60,
   "metadata": {},
   "outputs": [],
   "source": [
    "tst = pd.read_csv('test-test.csv', sep='\\t')"
   ]
  },
  {
   "cell_type": "code",
   "execution_count": 67,
   "metadata": {},
   "outputs": [],
   "source": [
    "s = tst.loc[ 0, 'Macro-Small']"
   ]
  },
  {
   "cell_type": "code",
   "execution_count": 83,
   "metadata": {},
   "outputs": [],
   "source": [
    "mac = s.split(',')[0][1:]\n",
    "sma = s.split(',')[1][1:-1]"
   ]
  },
  {
   "cell_type": "code",
   "execution_count": 86,
   "metadata": {},
   "outputs": [
    {
     "data": {
      "text/plain": [
       "1004"
      ]
     },
     "execution_count": 86,
     "metadata": {},
     "output_type": "execute_result"
    }
   ],
   "source": [
    "int(mac)"
   ]
  },
  {
   "cell_type": "code",
   "execution_count": 87,
   "metadata": {},
   "outputs": [
    {
     "data": {
      "text/plain": [
       "0"
      ]
     },
     "execution_count": 87,
     "metadata": {},
     "output_type": "execute_result"
    }
   ],
   "source": [
    "int(sma)"
   ]
  },
  {
   "cell_type": "code",
   "execution_count": null,
   "metadata": {
    "collapsed": true
   },
   "outputs": [],
   "source": []
  }
 ],
 "metadata": {
  "anaconda-cloud": {},
  "kernelspec": {
   "display_name": "Python [conda root]",
   "language": "python",
   "name": "conda-root-py"
  },
  "language_info": {
   "codemirror_mode": {
    "name": "ipython",
    "version": 3
   },
   "file_extension": ".py",
   "mimetype": "text/x-python",
   "name": "python",
   "nbconvert_exporter": "python",
   "pygments_lexer": "ipython3",
   "version": "3.5.2"
  }
 },
 "nbformat": 4,
 "nbformat_minor": 1
}
