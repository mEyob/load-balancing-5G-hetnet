{
 "cells": [
  {
   "cell_type": "code",
   "execution_count": 1,
   "metadata": {},
   "outputs": [],
   "source": [
    "from bokeh.io import output_notebook, show\n",
    "from bokeh.plotting import figure"
   ]
  },
  {
   "cell_type": "code",
   "execution_count": 2,
   "metadata": {},
   "outputs": [
    {
     "data": {
      "text/html": [
       "\n",
       "    <div class=\"bk-root\">\n",
       "        <a href=\"https://bokeh.pydata.org\" target=\"_blank\" class=\"bk-logo bk-logo-small bk-logo-notebook\"></a>\n",
       "        <span id=\"0af087ec-96b0-4c4b-9138-f907b12c2a0e\">Loading BokehJS ...</span>\n",
       "    </div>"
      ]
     },
     "metadata": {},
     "output_type": "display_data"
    },
    {
     "data": {
      "application/javascript": [
       "\n",
       "(function(root) {\n",
       "  function now() {\n",
       "    return new Date();\n",
       "  }\n",
       "\n",
       "  var force = true;\n",
       "\n",
       "  if (typeof (root._bokeh_onload_callbacks) === \"undefined\" || force === true) {\n",
       "    root._bokeh_onload_callbacks = [];\n",
       "    root._bokeh_is_loading = undefined;\n",
       "  }\n",
       "\n",
       "  var JS_MIME_TYPE = 'application/javascript';\n",
       "  var HTML_MIME_TYPE = 'text/html';\n",
       "  var EXEC_MIME_TYPE = 'application/vnd.bokehjs_exec.v0+json';\n",
       "  var CLASS_NAME = 'output_bokeh rendered_html';\n",
       "\n",
       "  /**\n",
       "   * Render data to the DOM node\n",
       "   */\n",
       "  function render(props, node) {\n",
       "    var script = document.createElement(\"script\");\n",
       "    node.appendChild(script);\n",
       "  }\n",
       "\n",
       "  /**\n",
       "   * Handle when an output is cleared or removed\n",
       "   */\n",
       "  function handleClearOutput(event, handle) {\n",
       "    var cell = handle.cell;\n",
       "\n",
       "    var id = cell.output_area._bokeh_element_id;\n",
       "    var server_id = cell.output_area._bokeh_server_id;\n",
       "    // Clean up Bokeh references\n",
       "    if (id !== undefined) {\n",
       "      Bokeh.index[id].model.document.clear();\n",
       "      delete Bokeh.index[id];\n",
       "    }\n",
       "\n",
       "    if (server_id !== undefined) {\n",
       "      // Clean up Bokeh references\n",
       "      var cmd = \"from bokeh.io.state import curstate; print(curstate().uuid_to_server['\" + server_id + \"'].get_sessions()[0].document.roots[0]._id)\";\n",
       "      cell.notebook.kernel.execute(cmd, {\n",
       "        iopub: {\n",
       "          output: function(msg) {\n",
       "            var element_id = msg.content.text.trim();\n",
       "            Bokeh.index[element_id].model.document.clear();\n",
       "            delete Bokeh.index[element_id];\n",
       "          }\n",
       "        }\n",
       "      });\n",
       "      // Destroy server and session\n",
       "      var cmd = \"import bokeh.io.notebook as ion; ion.destroy_server('\" + server_id + \"')\";\n",
       "      cell.notebook.kernel.execute(cmd);\n",
       "    }\n",
       "  }\n",
       "\n",
       "  /**\n",
       "   * Handle when a new output is added\n",
       "   */\n",
       "  function handleAddOutput(event, handle) {\n",
       "    var output_area = handle.output_area;\n",
       "    var output = handle.output;\n",
       "\n",
       "    // limit handleAddOutput to display_data with EXEC_MIME_TYPE content only\n",
       "    if ((output.output_type != \"display_data\") || (!output.data.hasOwnProperty(EXEC_MIME_TYPE))) {\n",
       "      return\n",
       "    }\n",
       "\n",
       "    var toinsert = output_area.element.find(`.${CLASS_NAME.split(' ')[0]}`);\n",
       "\n",
       "    if (output.metadata[EXEC_MIME_TYPE][\"id\"] !== undefined) {\n",
       "      toinsert[0].firstChild.textContent = output.data[JS_MIME_TYPE];\n",
       "      // store reference to embed id on output_area\n",
       "      output_area._bokeh_element_id = output.metadata[EXEC_MIME_TYPE][\"id\"];\n",
       "    }\n",
       "    if (output.metadata[EXEC_MIME_TYPE][\"server_id\"] !== undefined) {\n",
       "      var bk_div = document.createElement(\"div\");\n",
       "      bk_div.innerHTML = output.data[HTML_MIME_TYPE];\n",
       "      var script_attrs = bk_div.children[0].attributes;\n",
       "      for (var i = 0; i < script_attrs.length; i++) {\n",
       "        toinsert[0].firstChild.setAttribute(script_attrs[i].name, script_attrs[i].value);\n",
       "      }\n",
       "      // store reference to server id on output_area\n",
       "      output_area._bokeh_server_id = output.metadata[EXEC_MIME_TYPE][\"server_id\"];\n",
       "    }\n",
       "  }\n",
       "\n",
       "  function register_renderer(events, OutputArea) {\n",
       "\n",
       "    function append_mime(data, metadata, element) {\n",
       "      // create a DOM node to render to\n",
       "      var toinsert = this.create_output_subarea(\n",
       "        metadata,\n",
       "        CLASS_NAME,\n",
       "        EXEC_MIME_TYPE\n",
       "      );\n",
       "      this.keyboard_manager.register_events(toinsert);\n",
       "      // Render to node\n",
       "      var props = {data: data, metadata: metadata[EXEC_MIME_TYPE]};\n",
       "      render(props, toinsert[0]);\n",
       "      element.append(toinsert);\n",
       "      return toinsert\n",
       "    }\n",
       "\n",
       "    /* Handle when an output is cleared or removed */\n",
       "    events.on('clear_output.CodeCell', handleClearOutput);\n",
       "    events.on('delete.Cell', handleClearOutput);\n",
       "\n",
       "    /* Handle when a new output is added */\n",
       "    events.on('output_added.OutputArea', handleAddOutput);\n",
       "\n",
       "    /**\n",
       "     * Register the mime type and append_mime function with output_area\n",
       "     */\n",
       "    OutputArea.prototype.register_mime_type(EXEC_MIME_TYPE, append_mime, {\n",
       "      /* Is output safe? */\n",
       "      safe: true,\n",
       "      /* Index of renderer in `output_area.display_order` */\n",
       "      index: 0\n",
       "    });\n",
       "  }\n",
       "\n",
       "  // register the mime type if in Jupyter Notebook environment and previously unregistered\n",
       "  if (root.Jupyter !== undefined) {\n",
       "    var events = require('base/js/events');\n",
       "    var OutputArea = require('notebook/js/outputarea').OutputArea;\n",
       "\n",
       "    if (OutputArea.prototype.mime_types().indexOf(EXEC_MIME_TYPE) == -1) {\n",
       "      register_renderer(events, OutputArea);\n",
       "    }\n",
       "  }\n",
       "\n",
       "  \n",
       "  if (typeof (root._bokeh_timeout) === \"undefined\" || force === true) {\n",
       "    root._bokeh_timeout = Date.now() + 5000;\n",
       "    root._bokeh_failed_load = false;\n",
       "  }\n",
       "\n",
       "  var NB_LOAD_WARNING = {'data': {'text/html':\n",
       "     \"<div style='background-color: #fdd'>\\n\"+\n",
       "     \"<p>\\n\"+\n",
       "     \"BokehJS does not appear to have successfully loaded. If loading BokehJS from CDN, this \\n\"+\n",
       "     \"may be due to a slow or bad network connection. Possible fixes:\\n\"+\n",
       "     \"</p>\\n\"+\n",
       "     \"<ul>\\n\"+\n",
       "     \"<li>re-rerun `output_notebook()` to attempt to load from CDN again, or</li>\\n\"+\n",
       "     \"<li>use INLINE resources instead, as so:</li>\\n\"+\n",
       "     \"</ul>\\n\"+\n",
       "     \"<code>\\n\"+\n",
       "     \"from bokeh.resources import INLINE\\n\"+\n",
       "     \"output_notebook(resources=INLINE)\\n\"+\n",
       "     \"</code>\\n\"+\n",
       "     \"</div>\"}};\n",
       "\n",
       "  function display_loaded() {\n",
       "    var el = document.getElementById(\"0af087ec-96b0-4c4b-9138-f907b12c2a0e\");\n",
       "    if (el != null) {\n",
       "      el.textContent = \"BokehJS is loading...\";\n",
       "    }\n",
       "    if (root.Bokeh !== undefined) {\n",
       "      if (el != null) {\n",
       "        el.textContent = \"BokehJS \" + root.Bokeh.version + \" successfully loaded.\";\n",
       "      }\n",
       "    } else if (Date.now() < root._bokeh_timeout) {\n",
       "      setTimeout(display_loaded, 100)\n",
       "    }\n",
       "  }\n",
       "\n",
       "\n",
       "  function run_callbacks() {\n",
       "    try {\n",
       "      root._bokeh_onload_callbacks.forEach(function(callback) { callback() });\n",
       "    }\n",
       "    finally {\n",
       "      delete root._bokeh_onload_callbacks\n",
       "    }\n",
       "    console.info(\"Bokeh: all callbacks have finished\");\n",
       "  }\n",
       "\n",
       "  function load_libs(js_urls, callback) {\n",
       "    root._bokeh_onload_callbacks.push(callback);\n",
       "    if (root._bokeh_is_loading > 0) {\n",
       "      console.log(\"Bokeh: BokehJS is being loaded, scheduling callback at\", now());\n",
       "      return null;\n",
       "    }\n",
       "    if (js_urls == null || js_urls.length === 0) {\n",
       "      run_callbacks();\n",
       "      return null;\n",
       "    }\n",
       "    console.log(\"Bokeh: BokehJS not loaded, scheduling load and callback at\", now());\n",
       "    root._bokeh_is_loading = js_urls.length;\n",
       "    for (var i = 0; i < js_urls.length; i++) {\n",
       "      var url = js_urls[i];\n",
       "      var s = document.createElement('script');\n",
       "      s.src = url;\n",
       "      s.async = false;\n",
       "      s.onreadystatechange = s.onload = function() {\n",
       "        root._bokeh_is_loading--;\n",
       "        if (root._bokeh_is_loading === 0) {\n",
       "          console.log(\"Bokeh: all BokehJS libraries loaded\");\n",
       "          run_callbacks()\n",
       "        }\n",
       "      };\n",
       "      s.onerror = function() {\n",
       "        console.warn(\"failed to load library \" + url);\n",
       "      };\n",
       "      console.log(\"Bokeh: injecting script tag for BokehJS library: \", url);\n",
       "      document.getElementsByTagName(\"head\")[0].appendChild(s);\n",
       "    }\n",
       "  };var element = document.getElementById(\"0af087ec-96b0-4c4b-9138-f907b12c2a0e\");\n",
       "  if (element == null) {\n",
       "    console.log(\"Bokeh: ERROR: autoload.js configured with elementid '0af087ec-96b0-4c4b-9138-f907b12c2a0e' but no matching script tag was found. \")\n",
       "    return false;\n",
       "  }\n",
       "\n",
       "  var js_urls = [\"https://cdn.pydata.org/bokeh/release/bokeh-0.12.10.min.js\", \"https://cdn.pydata.org/bokeh/release/bokeh-widgets-0.12.10.min.js\", \"https://cdn.pydata.org/bokeh/release/bokeh-tables-0.12.10.min.js\", \"https://cdn.pydata.org/bokeh/release/bokeh-gl-0.12.10.min.js\"];\n",
       "\n",
       "  var inline_js = [\n",
       "    function(Bokeh) {\n",
       "      Bokeh.set_log_level(\"info\");\n",
       "    },\n",
       "    \n",
       "    function(Bokeh) {\n",
       "      \n",
       "    },\n",
       "    function(Bokeh) {\n",
       "      console.log(\"Bokeh: injecting CSS: https://cdn.pydata.org/bokeh/release/bokeh-0.12.10.min.css\");\n",
       "      Bokeh.embed.inject_css(\"https://cdn.pydata.org/bokeh/release/bokeh-0.12.10.min.css\");\n",
       "      console.log(\"Bokeh: injecting CSS: https://cdn.pydata.org/bokeh/release/bokeh-widgets-0.12.10.min.css\");\n",
       "      Bokeh.embed.inject_css(\"https://cdn.pydata.org/bokeh/release/bokeh-widgets-0.12.10.min.css\");\n",
       "      console.log(\"Bokeh: injecting CSS: https://cdn.pydata.org/bokeh/release/bokeh-tables-0.12.10.min.css\");\n",
       "      Bokeh.embed.inject_css(\"https://cdn.pydata.org/bokeh/release/bokeh-tables-0.12.10.min.css\");\n",
       "    }\n",
       "  ];\n",
       "\n",
       "  function run_inline_js() {\n",
       "    \n",
       "    if ((root.Bokeh !== undefined) || (force === true)) {\n",
       "      for (var i = 0; i < inline_js.length; i++) {\n",
       "        inline_js[i].call(root, root.Bokeh);\n",
       "      }if (force === true) {\n",
       "        display_loaded();\n",
       "      }} else if (Date.now() < root._bokeh_timeout) {\n",
       "      setTimeout(run_inline_js, 100);\n",
       "    } else if (!root._bokeh_failed_load) {\n",
       "      console.log(\"Bokeh: BokehJS failed to load within specified timeout.\");\n",
       "      root._bokeh_failed_load = true;\n",
       "    } else if (force !== true) {\n",
       "      var cell = $(document.getElementById(\"0af087ec-96b0-4c4b-9138-f907b12c2a0e\")).parents('.cell').data().cell;\n",
       "      cell.output_area.append_execute_result(NB_LOAD_WARNING)\n",
       "    }\n",
       "\n",
       "  }\n",
       "\n",
       "  if (root._bokeh_is_loading === 0) {\n",
       "    console.log(\"Bokeh: BokehJS loaded, going straight to plotting\");\n",
       "    run_inline_js();\n",
       "  } else {\n",
       "    load_libs(js_urls, function() {\n",
       "      console.log(\"Bokeh: BokehJS plotting callback run at\", now());\n",
       "      run_inline_js();\n",
       "    });\n",
       "  }\n",
       "}(window));"
      ],
      "application/vnd.bokehjs_load.v0+json": "\n(function(root) {\n  function now() {\n    return new Date();\n  }\n\n  var force = true;\n\n  if (typeof (root._bokeh_onload_callbacks) === \"undefined\" || force === true) {\n    root._bokeh_onload_callbacks = [];\n    root._bokeh_is_loading = undefined;\n  }\n\n  \n\n  \n  if (typeof (root._bokeh_timeout) === \"undefined\" || force === true) {\n    root._bokeh_timeout = Date.now() + 5000;\n    root._bokeh_failed_load = false;\n  }\n\n  var NB_LOAD_WARNING = {'data': {'text/html':\n     \"<div style='background-color: #fdd'>\\n\"+\n     \"<p>\\n\"+\n     \"BokehJS does not appear to have successfully loaded. If loading BokehJS from CDN, this \\n\"+\n     \"may be due to a slow or bad network connection. Possible fixes:\\n\"+\n     \"</p>\\n\"+\n     \"<ul>\\n\"+\n     \"<li>re-rerun `output_notebook()` to attempt to load from CDN again, or</li>\\n\"+\n     \"<li>use INLINE resources instead, as so:</li>\\n\"+\n     \"</ul>\\n\"+\n     \"<code>\\n\"+\n     \"from bokeh.resources import INLINE\\n\"+\n     \"output_notebook(resources=INLINE)\\n\"+\n     \"</code>\\n\"+\n     \"</div>\"}};\n\n  function display_loaded() {\n    var el = document.getElementById(\"0af087ec-96b0-4c4b-9138-f907b12c2a0e\");\n    if (el != null) {\n      el.textContent = \"BokehJS is loading...\";\n    }\n    if (root.Bokeh !== undefined) {\n      if (el != null) {\n        el.textContent = \"BokehJS \" + root.Bokeh.version + \" successfully loaded.\";\n      }\n    } else if (Date.now() < root._bokeh_timeout) {\n      setTimeout(display_loaded, 100)\n    }\n  }\n\n\n  function run_callbacks() {\n    try {\n      root._bokeh_onload_callbacks.forEach(function(callback) { callback() });\n    }\n    finally {\n      delete root._bokeh_onload_callbacks\n    }\n    console.info(\"Bokeh: all callbacks have finished\");\n  }\n\n  function load_libs(js_urls, callback) {\n    root._bokeh_onload_callbacks.push(callback);\n    if (root._bokeh_is_loading > 0) {\n      console.log(\"Bokeh: BokehJS is being loaded, scheduling callback at\", now());\n      return null;\n    }\n    if (js_urls == null || js_urls.length === 0) {\n      run_callbacks();\n      return null;\n    }\n    console.log(\"Bokeh: BokehJS not loaded, scheduling load and callback at\", now());\n    root._bokeh_is_loading = js_urls.length;\n    for (var i = 0; i < js_urls.length; i++) {\n      var url = js_urls[i];\n      var s = document.createElement('script');\n      s.src = url;\n      s.async = false;\n      s.onreadystatechange = s.onload = function() {\n        root._bokeh_is_loading--;\n        if (root._bokeh_is_loading === 0) {\n          console.log(\"Bokeh: all BokehJS libraries loaded\");\n          run_callbacks()\n        }\n      };\n      s.onerror = function() {\n        console.warn(\"failed to load library \" + url);\n      };\n      console.log(\"Bokeh: injecting script tag for BokehJS library: \", url);\n      document.getElementsByTagName(\"head\")[0].appendChild(s);\n    }\n  };var element = document.getElementById(\"0af087ec-96b0-4c4b-9138-f907b12c2a0e\");\n  if (element == null) {\n    console.log(\"Bokeh: ERROR: autoload.js configured with elementid '0af087ec-96b0-4c4b-9138-f907b12c2a0e' but no matching script tag was found. \")\n    return false;\n  }\n\n  var js_urls = [\"https://cdn.pydata.org/bokeh/release/bokeh-0.12.10.min.js\", \"https://cdn.pydata.org/bokeh/release/bokeh-widgets-0.12.10.min.js\", \"https://cdn.pydata.org/bokeh/release/bokeh-tables-0.12.10.min.js\", \"https://cdn.pydata.org/bokeh/release/bokeh-gl-0.12.10.min.js\"];\n\n  var inline_js = [\n    function(Bokeh) {\n      Bokeh.set_log_level(\"info\");\n    },\n    \n    function(Bokeh) {\n      \n    },\n    function(Bokeh) {\n      console.log(\"Bokeh: injecting CSS: https://cdn.pydata.org/bokeh/release/bokeh-0.12.10.min.css\");\n      Bokeh.embed.inject_css(\"https://cdn.pydata.org/bokeh/release/bokeh-0.12.10.min.css\");\n      console.log(\"Bokeh: injecting CSS: https://cdn.pydata.org/bokeh/release/bokeh-widgets-0.12.10.min.css\");\n      Bokeh.embed.inject_css(\"https://cdn.pydata.org/bokeh/release/bokeh-widgets-0.12.10.min.css\");\n      console.log(\"Bokeh: injecting CSS: https://cdn.pydata.org/bokeh/release/bokeh-tables-0.12.10.min.css\");\n      Bokeh.embed.inject_css(\"https://cdn.pydata.org/bokeh/release/bokeh-tables-0.12.10.min.css\");\n    }\n  ];\n\n  function run_inline_js() {\n    \n    if ((root.Bokeh !== undefined) || (force === true)) {\n      for (var i = 0; i < inline_js.length; i++) {\n        inline_js[i].call(root, root.Bokeh);\n      }if (force === true) {\n        display_loaded();\n      }} else if (Date.now() < root._bokeh_timeout) {\n      setTimeout(run_inline_js, 100);\n    } else if (!root._bokeh_failed_load) {\n      console.log(\"Bokeh: BokehJS failed to load within specified timeout.\");\n      root._bokeh_failed_load = true;\n    } else if (force !== true) {\n      var cell = $(document.getElementById(\"0af087ec-96b0-4c4b-9138-f907b12c2a0e\")).parents('.cell').data().cell;\n      cell.output_area.append_execute_result(NB_LOAD_WARNING)\n    }\n\n  }\n\n  if (root._bokeh_is_loading === 0) {\n    console.log(\"Bokeh: BokehJS loaded, going straight to plotting\");\n    run_inline_js();\n  } else {\n    load_libs(js_urls, function() {\n      console.log(\"Bokeh: BokehJS plotting callback run at\", now());\n      run_inline_js();\n    });\n  }\n}(window));"
     },
     "metadata": {},
     "output_type": "display_data"
    }
   ],
   "source": [
    "output_notebook()"
   ]
  },
  {
   "cell_type": "code",
   "execution_count": 3,
   "metadata": {},
   "outputs": [],
   "source": [
    "import pandas as pd\n",
    "\n",
    "from bokeh.models import LinearAxis, Range1d, LabelSet, ColumnDataSource\n",
    "from bokeh.layouts import gridplot, row"
   ]
  },
  {
   "cell_type": "code",
   "execution_count": 4,
   "metadata": {},
   "outputs": [],
   "source": [
    "from math import sqrt\n",
    "import numpy as np"
   ]
  },
  {
   "cell_type": "code",
   "execution_count": 17,
   "metadata": {},
   "outputs": [],
   "source": [
    "from bokeh.io import export_png"
   ]
  },
  {
   "cell_type": "code",
   "execution_count": 5,
   "metadata": {},
   "outputs": [
    {
     "name": "stdout",
     "output_type": "stream",
     "text": [
      "\u001b[34mbak\u001b[m\u001b[m/                  \u001b[34msetup_1.0\u001b[m\u001b[m/            test.csv\r\n",
      "result.csv            \u001b[34msetup_1.0_erws\u001b[m\u001b[m/       visualization.ipynb\r\n",
      "\u001b[34msetup_0.05\u001b[m\u001b[m/           test-lb-policy.csv    visualization2.ipynb\r\n",
      "\u001b[34msetup_0.05_erws\u001b[m\u001b[m/      test-test.csv\r\n"
     ]
    }
   ],
   "source": [
    "%ls"
   ]
  },
  {
   "cell_type": "markdown",
   "metadata": {},
   "source": [
    "# 1. Constrained optimization"
   ]
  },
  {
   "cell_type": "markdown",
   "metadata": {},
   "source": [
    "## 1.1 Short setup delay"
   ]
  },
  {
   "cell_type": "code",
   "execution_count": 25,
   "metadata": {},
   "outputs": [],
   "source": [
    "df=pd.read_csv('setup_0.05/output_1.csv', skiprows=1)\n",
    "\n",
    "if df.iloc[-1][0] > 0:\n",
    "    df = df.iloc[-1:]\n",
    "else:\n",
    "    df = df.iloc[1:2]\n",
    "\n",
    "for i in range(2,45):\n",
    "    df_tmp = pd.read_csv('setup_0.05/output_'+str(i)+'.csv', skiprows=1)\n",
    "    if df_tmp.iloc[-1][0] > 0:\n",
    "        df_tmp = df_tmp.iloc[-1:]\n",
    "    else:\n",
    "        df_tmp = df_tmp.iloc[1:2]\n",
    "    df = df.append(df_tmp)\n",
    "\n",
    "df['relative_idle_time'] = df.small_arrival * df.avg_idle_time\n",
    "#df.relative_idle_time    = df.relative_idle_time.apply(lambda x: round(x))\n",
    "\n",
    "#df_rnd.relative_idle_time    = df_rnd.relative_idle_time.apply(lambda x: round(x))"
   ]
  },
  {
   "cell_type": "code",
   "execution_count": 7,
   "metadata": {},
   "outputs": [],
   "source": [
    "def logscale(arrival):\n",
    "    rel_idle = df[df.small_arrival==arrival].relative_idle_time\n",
    "    rel_idle = rel_idle.apply(lambda x: np.log2(x)).tolist()\n",
    "    rel_idle.pop(0)\n",
    "    rel_idle.insert(0, -10)\n",
    "    \n",
    "    return rel_idle"
   ]
  },
  {
   "cell_type": "code",
   "execution_count": 26,
   "metadata": {},
   "outputs": [
    {
     "data": {
      "text/html": [
       "\n",
       "<div class=\"bk-root\">\n",
       "    <div class=\"bk-plotdiv\" id=\"98f63b81-ea9e-442c-b632-166af93b98bc\"></div>\n",
       "</div>"
      ]
     },
     "metadata": {},
     "output_type": "display_data"
    },
    {
     "data": {
      "application/javascript": [
       "(function(root) {\n",
       "  function embed_document(root) {\n",
       "    var docs_json = {\"38afe0cf-eaa1-4b5c-81b0-7f4d6685a386\":{\"roots\":{\"references\":[{\"attributes\":{\"fill_color\":{\"value\":\"white\"},\"line_color\":{\"value\":\"navy\"},\"size\":{\"units\":\"screen\",\"value\":5},\"x\":{\"field\":\"x\"},\"y\":{\"field\":\"y\"}},\"id\":\"79f568a6-9fe0-4930-862d-2b9d228decc5\",\"type\":\"Circle\"},{\"attributes\":{\"label\":{\"value\":\"Small cell load = 0.05\"},\"renderers\":[{\"id\":\"ef112292-4635-451e-814f-a63e634268cd\",\"type\":\"GlyphRenderer\"}]},\"id\":\"19e1b4a4-a858-4c7f-a066-fd954fd27768\",\"type\":\"LegendItem\"},{\"attributes\":{},\"id\":\"74ba97db-dc62-4fe7-85a1-aef5421d1659\",\"type\":\"LinearScale\"},{\"attributes\":{\"source\":{\"id\":\"28573b10-4763-404b-942b-02a0827d9f83\",\"type\":\"ColumnDataSource\"}},\"id\":\"6347139e-c174-441b-b3c8-a3a6342aa382\",\"type\":\"CDSView\"},{\"attributes\":{\"source\":{\"id\":\"bada02f4-8803-4a29-a245-35882d8deb6b\",\"type\":\"ColumnDataSource\"}},\"id\":\"5ebb1c29-7a2c-469d-8630-a7044c755004\",\"type\":\"CDSView\"},{\"attributes\":{\"fill_alpha\":{\"value\":0.1},\"fill_color\":{\"value\":\"#1f77b4\"},\"line_alpha\":{\"value\":0.1},\"line_color\":{\"value\":\"#1f77b4\"},\"size\":{\"units\":\"screen\",\"value\":5},\"x\":{\"field\":\"x\"},\"y\":{\"field\":\"y\"}},\"id\":\"1f117eaf-8771-4592-8fe0-b235533f6977\",\"type\":\"Circle\"},{\"attributes\":{\"bottom_units\":\"screen\",\"fill_alpha\":{\"value\":0.5},\"fill_color\":{\"value\":\"lightgrey\"},\"left_units\":\"screen\",\"level\":\"overlay\",\"line_alpha\":{\"value\":1.0},\"line_color\":{\"value\":\"black\"},\"line_dash\":[4,4],\"line_width\":{\"value\":2},\"plot\":null,\"render_mode\":\"css\",\"right_units\":\"screen\",\"top_units\":\"screen\"},\"id\":\"dd519b8d-893f-4cd6-a975-9bcc30f7d48d\",\"type\":\"BoxAnnotation\"},{\"attributes\":{\"source\":{\"id\":\"fe92a342-6faf-4411-953d-ced72a8ec99f\",\"type\":\"ColumnDataSource\"}},\"id\":\"1f12c187-e2bc-48a2-9aca-a711c98ead93\",\"type\":\"CDSView\"},{\"attributes\":{\"line_alpha\":{\"value\":0.1},\"line_color\":{\"value\":\"#1f77b4\"},\"x\":{\"field\":\"x\"},\"y\":{\"field\":\"y\"}},\"id\":\"eb6e153a-368c-4113-a8b8-683c3a28be00\",\"type\":\"Line\"},{\"attributes\":{\"data_source\":{\"id\":\"b1687c8d-f6fa-483a-8de3-4da6afd0ac15\",\"type\":\"ColumnDataSource\"},\"glyph\":{\"id\":\"79f568a6-9fe0-4930-862d-2b9d228decc5\",\"type\":\"Circle\"},\"hover_glyph\":null,\"muted_glyph\":null,\"nonselection_glyph\":{\"id\":\"0572d5d9-b3bd-493c-891f-bdf303caf715\",\"type\":\"Circle\"},\"selection_glyph\":null,\"view\":{\"id\":\"7fc7cf52-5046-42bc-a290-2eb02af741ff\",\"type\":\"CDSView\"}},\"id\":\"7ed02328-e332-4ccc-904d-92a942522c28\",\"type\":\"GlyphRenderer\"},{\"attributes\":{\"items\":[{\"id\":\"19e1b4a4-a858-4c7f-a066-fd954fd27768\",\"type\":\"LegendItem\"},{\"id\":\"2314afd1-af2d-4b53-89f5-b16c461415dc\",\"type\":\"LegendItem\"},{\"id\":\"1ab04e88-2ba7-4e38-9106-9c5362929617\",\"type\":\"LegendItem\"},{\"id\":\"21461d89-147d-4aba-b0a1-4b1c2ffe1150\",\"type\":\"LegendItem\"},{\"id\":\"54d62477-200a-4d81-b639-0f8f84fbc41f\",\"type\":\"LegendItem\"}],\"label_text_color\":{\"value\":\"black\"},\"plot\":{\"id\":\"dc3b7094-02a3-4a91-bf58-4f29f571a5b1\",\"subtype\":\"Figure\",\"type\":\"Plot\"}},\"id\":\"ba9f1d03-af6b-4c82-8490-59f15468c57c\",\"type\":\"Legend\"},{\"attributes\":{\"callback\":null,\"column_names\":[\"x\",\"y\"],\"data\":{\"x\":[-10,-3.0588936890535687,-2.0,-1.0,0.0,1.0,2.0,3.0,7.0,9.0,10.0],\"y\":{\"__ndarray__\":\"pmH4iJgSuT+Mf59x4UC4P1QdcjPcgLc/jC0EOShhtj889x4uOe60P0gWMIFbd7M/DsNHxJRIsj/04O6s3XaxP9jw9EpZhrA/7vDXZI16sD8/xty1hHywPw==\",\"dtype\":\"float64\",\"shape\":[11]}}},\"id\":\"28573b10-4763-404b-942b-02a0827d9f83\",\"type\":\"ColumnDataSource\"},{\"attributes\":{},\"id\":\"d522e6c2-3e93-4a05-8e7a-6154b315043d\",\"type\":\"BasicTicker\"},{\"attributes\":{},\"id\":\"9ddb2054-691d-4ee7-87b6-3c01342d4b7d\",\"type\":\"BasicTickFormatter\"},{\"attributes\":{\"overlay\":{\"id\":\"dd519b8d-893f-4cd6-a975-9bcc30f7d48d\",\"type\":\"BoxAnnotation\"}},\"id\":\"2ee46192-0c35-4a78-a78c-caf5d7ea3bc6\",\"type\":\"BoxZoomTool\"},{\"attributes\":{\"data_source\":{\"id\":\"339e42c1-e934-4850-ab35-f59faf246d23\",\"type\":\"ColumnDataSource\"},\"glyph\":{\"id\":\"7094cbc7-299f-43f0-aa51-65fe2443c439\",\"type\":\"Circle\"},\"hover_glyph\":null,\"muted_glyph\":null,\"nonselection_glyph\":{\"id\":\"1f117eaf-8771-4592-8fe0-b235533f6977\",\"type\":\"Circle\"},\"selection_glyph\":null,\"view\":{\"id\":\"db5b1cb0-f5e3-42fa-96c0-94004a55a471\",\"type\":\"CDSView\"}},\"id\":\"aac6b136-2f70-40cc-972f-895e9897925f\",\"type\":\"GlyphRenderer\"},{\"attributes\":{\"fill_alpha\":{\"value\":0.1},\"fill_color\":{\"value\":\"#1f77b4\"},\"line_alpha\":{\"value\":0.1},\"line_color\":{\"value\":\"#1f77b4\"},\"size\":{\"units\":\"screen\",\"value\":5},\"x\":{\"field\":\"x\"},\"y\":{\"field\":\"y\"}},\"id\":\"8451a49f-7e4b-413a-8194-91d85cbc2e8b\",\"type\":\"Circle\"},{\"attributes\":{\"line_color\":{\"value\":\"red\"},\"x\":{\"field\":\"x\"},\"y\":{\"field\":\"y\"}},\"id\":\"d31d6d49-241f-405a-8c33-d0ab032db53a\",\"type\":\"Line\"},{\"attributes\":{\"callback\":null,\"column_names\":[\"x\",\"y\"],\"data\":{\"x\":[-10,-3.0588936890535687,-2.0588936890535687,-1.0588936890535685,0.02856915219677092,0.9855004303048849,2.007195501404204,2.996388746447621,6.999774561287003,8.999943643624247,10.00002817736235],\"y\":{\"__ndarray__\":\"UfcBSG3ivD94I/PIHwy8P6FP5EnSNbs/zvxqDhDMuT9GKowtBDm4P76fGi/dJLY/ECOERxtHtD9bJVgczvyyP2lv8IXJVLE/QpqxaDo7sT9d4V0u4juxPw==\",\"dtype\":\"float64\",\"shape\":[11]}}},\"id\":\"e4bf4982-3e35-4315-b5aa-a693d3951716\",\"type\":\"ColumnDataSource\"},{\"attributes\":{\"callback\":null,\"column_names\":[\"x\",\"y\"],\"data\":{\"x\":[-10,-3.0588936890535687,-2.0588936890535687,-1.0588936890535685,0.02856915219677092,0.9855004303048849,2.007195501404204,2.996388746447621,6.999774561287003,8.999943643624247,10.00002817736235],\"y\":{\"__ndarray__\":\"UfcBSG3ivD94I/PIHwy8P6FP5EnSNbs/zvxqDhDMuT9GKowtBDm4P76fGi/dJLY/ECOERxtHtD9bJVgczvyyP2lv8IXJVLE/QpqxaDo7sT9d4V0u4juxPw==\",\"dtype\":\"float64\",\"shape\":[11]}}},\"id\":\"fe92a342-6faf-4411-953d-ced72a8ec99f\",\"type\":\"ColumnDataSource\"},{\"attributes\":{\"fill_alpha\":{\"value\":0.1},\"fill_color\":{\"value\":\"#1f77b4\"},\"line_alpha\":{\"value\":0.1},\"line_color\":{\"value\":\"#1f77b4\"},\"size\":{\"units\":\"screen\",\"value\":5},\"x\":{\"field\":\"x\"},\"y\":{\"field\":\"y\"}},\"id\":\"0572d5d9-b3bd-493c-891f-bdf303caf715\",\"type\":\"Circle\"},{\"attributes\":{\"callback\":null,\"column_names\":[\"x\",\"y\"],\"data\":{\"x\":[-10,-3.473931188332412,-1.8889686876112561,-0.888968687611256,-0.014499569695115089,0.9855004303048849,1.9855004303048849,3.0018022426339854,6.999774561287003,9.00002817736235,10.00002817736235],\"y\":{\"__ndarray__\":\"oI7HDFTGvz9L5e0IpwW/P6VmD7QCQ74/C7CPTl35vD/RlnMpriq7P35S7dPxmLk/MEeP39v0tz9z9Pi9TX+2P6kwthDkoLQ/JQaBlUOLtD9wlLw6x4C0Pw==\",\"dtype\":\"float64\",\"shape\":[11]}}},\"id\":\"b1687c8d-f6fa-483a-8de3-4da6afd0ac15\",\"type\":\"ColumnDataSource\"},{\"attributes\":{\"axis_label\":\"Mean response time\",\"axis_label_text_color\":{\"value\":\"black\"},\"axis_label_text_font_size\":{\"value\":\"12pt\"},\"formatter\":{\"id\":\"04c53849-4d54-453c-ab7d-aba6c774c1a0\",\"type\":\"BasicTickFormatter\"},\"major_label_text_color\":{\"value\":\"black\"},\"major_label_text_font_size\":{\"value\":\"10pt\"},\"plot\":{\"id\":\"dc3b7094-02a3-4a91-bf58-4f29f571a5b1\",\"subtype\":\"Figure\",\"type\":\"Plot\"},\"ticker\":{\"id\":\"d522e6c2-3e93-4a05-8e7a-6154b315043d\",\"type\":\"BasicTicker\"}},\"id\":\"ce28ee82-9e95-4485-97b8-7990273902db\",\"type\":\"LinearAxis\"},{\"attributes\":{\"data_source\":{\"id\":\"fe92a342-6faf-4411-953d-ced72a8ec99f\",\"type\":\"ColumnDataSource\"},\"glyph\":{\"id\":\"7336efa4-236f-4d61-a204-102238dc5e6f\",\"type\":\"Line\"},\"hover_glyph\":null,\"muted_glyph\":null,\"nonselection_glyph\":{\"id\":\"0afb83d8-6e38-41a9-aae4-ecf43627bc23\",\"type\":\"Line\"},\"selection_glyph\":null,\"view\":{\"id\":\"1f12c187-e2bc-48a2-9aca-a711c98ead93\",\"type\":\"CDSView\"}},\"id\":\"acc71986-ec58-4733-9adc-b1fd4d94bd42\",\"type\":\"GlyphRenderer\"},{\"attributes\":{},\"id\":\"6d306c66-4c78-4fac-a7ca-77a3f32d8f8e\",\"type\":\"SaveTool\"},{\"attributes\":{\"line_color\":{\"value\":\"navy\"},\"line_dash\":[1,4],\"x\":{\"field\":\"x\"},\"y\":{\"field\":\"y\"}},\"id\":\"00b5b86e-6341-4e2f-99f8-8327dc9e9c19\",\"type\":\"Line\"},{\"attributes\":{\"callback\":null,\"column_names\":[\"x\",\"y\"],\"data\":{\"x\":[-10,-3.0588936890535687,-2.0588936890535687,-1.0588936890535685,0.0,1.0,2.0,3.0,7.0,9.0,10.0],\"y\":{\"__ndarray__\":\"iiR6GcVyuz8AGM+goX+6P48ZqIx/n7k/LPGAsilXuD8AkX77OnC2P9dppKXydrQ/32xzY3rCsj8tfeiC+paxP4tx/iYUIrA/tXHEWnwKsD9inL8JhQiwPw==\",\"dtype\":\"float64\",\"shape\":[11]}}},\"id\":\"339e42c1-e934-4850-ab35-f59faf246d23\",\"type\":\"ColumnDataSource\"},{\"attributes\":{\"data_source\":{\"id\":\"bada02f4-8803-4a29-a245-35882d8deb6b\",\"type\":\"ColumnDataSource\"},\"glyph\":{\"id\":\"00b5b86e-6341-4e2f-99f8-8327dc9e9c19\",\"type\":\"Line\"},\"hover_glyph\":null,\"muted_glyph\":null,\"nonselection_glyph\":{\"id\":\"53a85a4d-c608-44cf-baa3-0e2506807f60\",\"type\":\"Line\"},\"selection_glyph\":null,\"view\":{\"id\":\"5ebb1c29-7a2c-469d-8630-a7044c755004\",\"type\":\"CDSView\"}},\"id\":\"d26d1b5e-320f-4b9d-8ac0-2df08d143afb\",\"type\":\"GlyphRenderer\"},{\"attributes\":{\"source\":{\"id\":\"339e42c1-e934-4850-ab35-f59faf246d23\",\"type\":\"ColumnDataSource\"}},\"id\":\"db5b1cb0-f5e3-42fa-96c0-94004a55a471\",\"type\":\"CDSView\"},{\"attributes\":{\"line_color\":{\"value\":\"navy\"},\"x\":{\"field\":\"x\"},\"y\":{\"field\":\"y\"}},\"id\":\"63404b28-5bd8-4c05-91a3-190ee65ec3a9\",\"type\":\"Line\"},{\"attributes\":{\"line_color\":{\"value\":\"navy\"},\"line_dash\":[4,4],\"x\":{\"field\":\"x\"},\"y\":{\"field\":\"y\"}},\"id\":\"7336efa4-236f-4d61-a204-102238dc5e6f\",\"type\":\"Line\"},{\"attributes\":{\"data_source\":{\"id\":\"e52a8bc0-b476-4b4b-b98a-9324a54a6c25\",\"type\":\"ColumnDataSource\"},\"glyph\":{\"id\":\"f56ffb4a-eb60-4967-86ad-5f2c87e2e4da\",\"type\":\"Circle\"},\"hover_glyph\":null,\"muted_glyph\":null,\"nonselection_glyph\":{\"id\":\"8451a49f-7e4b-413a-8194-91d85cbc2e8b\",\"type\":\"Circle\"},\"selection_glyph\":null,\"view\":{\"id\":\"841d7ee0-a8e1-4d0d-bd21-c5cf4605e981\",\"type\":\"CDSView\"}},\"id\":\"d511ecf3-2d00-4490-b873-9e66a2af8ac3\",\"type\":\"GlyphRenderer\"},{\"attributes\":{},\"id\":\"469677c1-650d-4a9c-a642-867c4739e5d4\",\"type\":\"HelpTool\"},{\"attributes\":{\"source\":{\"id\":\"00d5cbf2-43e7-4321-8265-793bcf7389d7\",\"type\":\"ColumnDataSource\"}},\"id\":\"1d7cdaef-2287-4455-b6b2-39db8b2c458d\",\"type\":\"CDSView\"},{\"attributes\":{\"axis_label\":\"idle time in logscale (relative to avg. inter-arrival time)\",\"axis_label_text_color\":{\"value\":\"black\"},\"axis_label_text_font_size\":{\"value\":\"12pt\"},\"formatter\":{\"id\":\"9ddb2054-691d-4ee7-87b6-3c01342d4b7d\",\"type\":\"BasicTickFormatter\"},\"major_label_text_color\":{\"value\":\"black\"},\"major_label_text_font_size\":{\"value\":\"10pt\"},\"plot\":{\"id\":\"dc3b7094-02a3-4a91-bf58-4f29f571a5b1\",\"subtype\":\"Figure\",\"type\":\"Plot\"},\"ticker\":{\"id\":\"a9369de8-96d5-4945-a3fa-c817d5f1fbc3\",\"type\":\"BasicTicker\"}},\"id\":\"ac733ddb-2d16-453a-9ed7-ff05489c1b48\",\"type\":\"LinearAxis\"},{\"attributes\":{\"label\":{\"value\":\"Small cell load = 0.2\"},\"renderers\":[{\"id\":\"8d26ec6b-d6a1-41e7-a4e1-8ec812bb9f83\",\"type\":\"GlyphRenderer\"}]},\"id\":\"2314afd1-af2d-4b53-89f5-b16c461415dc\",\"type\":\"LegendItem\"},{\"attributes\":{\"label\":{\"value\":\"constraint\"},\"renderers\":[{\"id\":\"fac72cd7-ecfb-42cb-a783-2179134577c7\",\"type\":\"GlyphRenderer\"}]},\"id\":\"54d62477-200a-4d81-b639-0f8f84fbc41f\",\"type\":\"LegendItem\"},{\"attributes\":{\"line_alpha\":{\"value\":0.1},\"line_color\":{\"value\":\"#1f77b4\"},\"line_dash\":[1,4],\"x\":{\"field\":\"x\"},\"y\":{\"field\":\"y\"}},\"id\":\"53a85a4d-c608-44cf-baa3-0e2506807f60\",\"type\":\"Line\"},{\"attributes\":{\"source\":{\"id\":\"e4bf4982-3e35-4315-b5aa-a693d3951716\",\"type\":\"ColumnDataSource\"}},\"id\":\"48652454-6771-40a5-a366-c26440240e1f\",\"type\":\"CDSView\"},{\"attributes\":{\"data_source\":{\"id\":\"28573b10-4763-404b-942b-02a0827d9f83\",\"type\":\"ColumnDataSource\"},\"glyph\":{\"id\":\"63404b28-5bd8-4c05-91a3-190ee65ec3a9\",\"type\":\"Line\"},\"hover_glyph\":null,\"muted_glyph\":null,\"nonselection_glyph\":{\"id\":\"eb6e153a-368c-4113-a8b8-683c3a28be00\",\"type\":\"Line\"},\"selection_glyph\":null,\"view\":{\"id\":\"6347139e-c174-441b-b3c8-a3a6342aa382\",\"type\":\"CDSView\"}},\"id\":\"ef112292-4635-451e-814f-a63e634268cd\",\"type\":\"GlyphRenderer\"},{\"attributes\":{\"grid_line_alpha\":{\"value\":0.1},\"grid_line_dash\":[2,2],\"plot\":{\"id\":\"dc3b7094-02a3-4a91-bf58-4f29f571a5b1\",\"subtype\":\"Figure\",\"type\":\"Plot\"},\"ticker\":{\"id\":\"a9369de8-96d5-4945-a3fa-c817d5f1fbc3\",\"type\":\"BasicTicker\"}},\"id\":\"2ca89e30-a393-49fd-ba9c-bece236ce438\",\"type\":\"Grid\"},{\"attributes\":{\"callback\":null,\"column_names\":[\"x\",\"y\"],\"data\":{\"x\":[-10,-3.473931188332412,-1.8889686876112561,-0.888968687611256,-0.014499569695115089,0.9855004303048849,1.9855004303048849,3.0018022426339854,6.999774561287003,9.00002817736235,10.00002817736235],\"y\":{\"__ndarray__\":\"oI7HDFTGvz9L5e0IpwW/P6VmD7QCQ74/C7CPTl35vD/RlnMpriq7P35S7dPxmLk/MEeP39v0tz9z9Pi9TX+2P6kwthDkoLQ/JQaBlUOLtD9wlLw6x4C0Pw==\",\"dtype\":\"float64\",\"shape\":[11]}}},\"id\":\"bada02f4-8803-4a29-a245-35882d8deb6b\",\"type\":\"ColumnDataSource\"},{\"attributes\":{\"callback\":null,\"column_names\":[\"x\",\"y\"],\"data\":{\"x\":[-10,-3.0588936890535687,-2.0,-1.0,0.0,1.0,2.0,3.0,7.0,9.0,10.0],\"y\":{\"__ndarray__\":\"pmH4iJgSuT+Mf59x4UC4P1QdcjPcgLc/jC0EOShhtj889x4uOe60P0gWMIFbd7M/DsNHxJRIsj/04O6s3XaxP9jw9EpZhrA/7vDXZI16sD8/xty1hHywPw==\",\"dtype\":\"float64\",\"shape\":[11]}}},\"id\":\"e52a8bc0-b476-4b4b-b98a-9324a54a6c25\",\"type\":\"ColumnDataSource\"},{\"attributes\":{\"active_drag\":\"auto\",\"active_inspect\":\"auto\",\"active_scroll\":\"auto\",\"active_tap\":\"auto\",\"tools\":[{\"id\":\"49e51311-8b6c-4c3d-81a8-884c0e123fcb\",\"type\":\"PanTool\"},{\"id\":\"e6b1b4f7-fca2-44e1-bd01-243c98afe715\",\"type\":\"WheelZoomTool\"},{\"id\":\"2ee46192-0c35-4a78-a78c-caf5d7ea3bc6\",\"type\":\"BoxZoomTool\"},{\"id\":\"6d306c66-4c78-4fac-a7ca-77a3f32d8f8e\",\"type\":\"SaveTool\"},{\"id\":\"44b1b81d-992a-47f4-9f85-3560229f929e\",\"type\":\"ResetTool\"},{\"id\":\"469677c1-650d-4a9c-a642-867c4739e5d4\",\"type\":\"HelpTool\"}]},\"id\":\"185087b5-403a-4ade-91aa-bb44dc2a52c4\",\"type\":\"Toolbar\"},{\"attributes\":{\"line_alpha\":{\"value\":0.1},\"line_color\":{\"value\":\"#1f77b4\"},\"x\":{\"field\":\"x\"},\"y\":{\"field\":\"y\"}},\"id\":\"92f612ba-2443-4907-9628-e8dc6aacf77d\",\"type\":\"Line\"},{\"attributes\":{\"fill_color\":{\"value\":\"white\"},\"line_color\":{\"value\":\"navy\"},\"size\":{\"units\":\"screen\",\"value\":5},\"x\":{\"field\":\"x\"},\"y\":{\"field\":\"y\"}},\"id\":\"7094cbc7-299f-43f0-aa51-65fe2443c439\",\"type\":\"Circle\"},{\"attributes\":{},\"id\":\"e6b1b4f7-fca2-44e1-bd01-243c98afe715\",\"type\":\"WheelZoomTool\"},{\"attributes\":{\"plot\":null,\"text\":\"\"},\"id\":\"af955944-1fc2-4190-bbab-87ab264e4e9b\",\"type\":\"Title\"},{\"attributes\":{\"fill_color\":{\"value\":\"white\"},\"line_color\":{\"value\":\"navy\"},\"size\":{\"units\":\"screen\",\"value\":5},\"x\":{\"field\":\"x\"},\"y\":{\"field\":\"y\"}},\"id\":\"f56ffb4a-eb60-4967-86ad-5f2c87e2e4da\",\"type\":\"Circle\"},{\"attributes\":{\"fill_alpha\":{\"value\":0.1},\"fill_color\":{\"value\":\"#1f77b4\"},\"line_alpha\":{\"value\":0.1},\"line_color\":{\"value\":\"#1f77b4\"},\"size\":{\"units\":\"screen\",\"value\":5},\"x\":{\"field\":\"x\"},\"y\":{\"field\":\"y\"}},\"id\":\"e74abf47-f45c-4b25-b6e5-697dd8fc0b8b\",\"type\":\"Circle\"},{\"attributes\":{},\"id\":\"49e51311-8b6c-4c3d-81a8-884c0e123fcb\",\"type\":\"PanTool\"},{\"attributes\":{\"source\":{\"id\":\"b1687c8d-f6fa-483a-8de3-4da6afd0ac15\",\"type\":\"ColumnDataSource\"}},\"id\":\"7fc7cf52-5046-42bc-a290-2eb02af741ff\",\"type\":\"CDSView\"},{\"attributes\":{\"callback\":null,\"column_names\":[\"x\",\"y\"],\"data\":{\"x\":[-10,0,1,2,10],\"y\":{\"__ndarray__\":\"mpmZmZmZuT+amZmZmZm5P5qZmZmZmbk/mpmZmZmZuT+amZmZmZm5Pw==\",\"dtype\":\"float64\",\"shape\":[5]}}},\"id\":\"00d5cbf2-43e7-4321-8265-793bcf7389d7\",\"type\":\"ColumnDataSource\"},{\"attributes\":{\"source\":{\"id\":\"3ddc7563-1e0f-4261-a842-1261a4e176fa\",\"type\":\"ColumnDataSource\"}},\"id\":\"29c5a505-f09e-4625-8ce7-2f4af8b94b56\",\"type\":\"CDSView\"},{\"attributes\":{\"label\":{\"value\":\"Small cell load = 0.5\"},\"renderers\":[{\"id\":\"d26d1b5e-320f-4b9d-8ac0-2df08d143afb\",\"type\":\"GlyphRenderer\"}]},\"id\":\"21461d89-147d-4aba-b0a1-4b1c2ffe1150\",\"type\":\"LegendItem\"},{\"attributes\":{\"data_source\":{\"id\":\"e4bf4982-3e35-4315-b5aa-a693d3951716\",\"type\":\"ColumnDataSource\"},\"glyph\":{\"id\":\"be06c5de-9898-4d6c-93e5-e071f05fa909\",\"type\":\"Circle\"},\"hover_glyph\":null,\"muted_glyph\":null,\"nonselection_glyph\":{\"id\":\"e74abf47-f45c-4b25-b6e5-697dd8fc0b8b\",\"type\":\"Circle\"},\"selection_glyph\":null,\"view\":{\"id\":\"48652454-6771-40a5-a366-c26440240e1f\",\"type\":\"CDSView\"}},\"id\":\"57aba0db-9a3b-48d9-a0a2-b41cad257057\",\"type\":\"GlyphRenderer\"},{\"attributes\":{\"fill_color\":{\"value\":\"white\"},\"line_color\":{\"value\":\"navy\"},\"size\":{\"units\":\"screen\",\"value\":5},\"x\":{\"field\":\"x\"},\"y\":{\"field\":\"y\"}},\"id\":\"be06c5de-9898-4d6c-93e5-e071f05fa909\",\"type\":\"Circle\"},{\"attributes\":{\"below\":[{\"id\":\"ac733ddb-2d16-453a-9ed7-ff05489c1b48\",\"type\":\"LinearAxis\"}],\"left\":[{\"id\":\"ce28ee82-9e95-4485-97b8-7990273902db\",\"type\":\"LinearAxis\"}],\"outline_line_color\":{\"value\":\"black\"},\"plot_height\":400,\"renderers\":[{\"id\":\"ac733ddb-2d16-453a-9ed7-ff05489c1b48\",\"type\":\"LinearAxis\"},{\"id\":\"2ca89e30-a393-49fd-ba9c-bece236ce438\",\"type\":\"Grid\"},{\"id\":\"ce28ee82-9e95-4485-97b8-7990273902db\",\"type\":\"LinearAxis\"},{\"id\":\"cb7f445b-2b34-4853-a3cf-07abd091b7c0\",\"type\":\"Grid\"},{\"id\":\"dd519b8d-893f-4cd6-a975-9bcc30f7d48d\",\"type\":\"BoxAnnotation\"},{\"id\":\"ba9f1d03-af6b-4c82-8490-59f15468c57c\",\"type\":\"Legend\"},{\"id\":\"ef112292-4635-451e-814f-a63e634268cd\",\"type\":\"GlyphRenderer\"},{\"id\":\"d511ecf3-2d00-4490-b873-9e66a2af8ac3\",\"type\":\"GlyphRenderer\"},{\"id\":\"8d26ec6b-d6a1-41e7-a4e1-8ec812bb9f83\",\"type\":\"GlyphRenderer\"},{\"id\":\"aac6b136-2f70-40cc-972f-895e9897925f\",\"type\":\"GlyphRenderer\"},{\"id\":\"acc71986-ec58-4733-9adc-b1fd4d94bd42\",\"type\":\"GlyphRenderer\"},{\"id\":\"57aba0db-9a3b-48d9-a0a2-b41cad257057\",\"type\":\"GlyphRenderer\"},{\"id\":\"d26d1b5e-320f-4b9d-8ac0-2df08d143afb\",\"type\":\"GlyphRenderer\"},{\"id\":\"7ed02328-e332-4ccc-904d-92a942522c28\",\"type\":\"GlyphRenderer\"},{\"id\":\"fac72cd7-ecfb-42cb-a783-2179134577c7\",\"type\":\"GlyphRenderer\"}],\"title\":{\"id\":\"af955944-1fc2-4190-bbab-87ab264e4e9b\",\"type\":\"Title\"},\"toolbar\":{\"id\":\"185087b5-403a-4ade-91aa-bb44dc2a52c4\",\"type\":\"Toolbar\"},\"x_range\":{\"id\":\"4f6ece6e-6822-4b38-ad01-158f7b7bb6f4\",\"type\":\"DataRange1d\"},\"x_scale\":{\"id\":\"13b03763-3fdb-4ed3-90da-44d2e4b9714e\",\"type\":\"LinearScale\"},\"y_range\":{\"id\":\"6996325b-2b65-4350-96e5-42c7f9d168a2\",\"type\":\"DataRange1d\"},\"y_scale\":{\"id\":\"74ba97db-dc62-4fe7-85a1-aef5421d1659\",\"type\":\"LinearScale\"}},\"id\":\"dc3b7094-02a3-4a91-bf58-4f29f571a5b1\",\"subtype\":\"Figure\",\"type\":\"Plot\"},{\"attributes\":{\"line_alpha\":{\"value\":0.1},\"line_color\":{\"value\":\"#1f77b4\"},\"line_dash\":[15,2],\"x\":{\"field\":\"x\"},\"y\":{\"field\":\"y\"}},\"id\":\"e04d8356-df98-4639-aeb5-5c3e4702a56a\",\"type\":\"Line\"},{\"attributes\":{\"source\":{\"id\":\"e52a8bc0-b476-4b4b-b98a-9324a54a6c25\",\"type\":\"ColumnDataSource\"}},\"id\":\"841d7ee0-a8e1-4d0d-bd21-c5cf4605e981\",\"type\":\"CDSView\"},{\"attributes\":{\"callback\":null},\"id\":\"6996325b-2b65-4350-96e5-42c7f9d168a2\",\"type\":\"DataRange1d\"},{\"attributes\":{},\"id\":\"44b1b81d-992a-47f4-9f85-3560229f929e\",\"type\":\"ResetTool\"},{\"attributes\":{},\"id\":\"04c53849-4d54-453c-ab7d-aba6c774c1a0\",\"type\":\"BasicTickFormatter\"},{\"attributes\":{\"callback\":null},\"id\":\"4f6ece6e-6822-4b38-ad01-158f7b7bb6f4\",\"type\":\"DataRange1d\"},{\"attributes\":{\"line_alpha\":{\"value\":0.1},\"line_color\":{\"value\":\"#1f77b4\"},\"line_dash\":[4,4],\"x\":{\"field\":\"x\"},\"y\":{\"field\":\"y\"}},\"id\":\"0afb83d8-6e38-41a9-aae4-ecf43627bc23\",\"type\":\"Line\"},{\"attributes\":{},\"id\":\"a9369de8-96d5-4945-a3fa-c817d5f1fbc3\",\"type\":\"BasicTicker\"},{\"attributes\":{\"data_source\":{\"id\":\"00d5cbf2-43e7-4321-8265-793bcf7389d7\",\"type\":\"ColumnDataSource\"},\"glyph\":{\"id\":\"d31d6d49-241f-405a-8c33-d0ab032db53a\",\"type\":\"Line\"},\"hover_glyph\":null,\"muted_glyph\":null,\"nonselection_glyph\":{\"id\":\"92f612ba-2443-4907-9628-e8dc6aacf77d\",\"type\":\"Line\"},\"selection_glyph\":null,\"view\":{\"id\":\"1d7cdaef-2287-4455-b6b2-39db8b2c458d\",\"type\":\"CDSView\"}},\"id\":\"fac72cd7-ecfb-42cb-a783-2179134577c7\",\"type\":\"GlyphRenderer\"},{\"attributes\":{},\"id\":\"13b03763-3fdb-4ed3-90da-44d2e4b9714e\",\"type\":\"LinearScale\"},{\"attributes\":{\"line_color\":{\"value\":\"navy\"},\"line_dash\":[15,2],\"x\":{\"field\":\"x\"},\"y\":{\"field\":\"y\"}},\"id\":\"63dbad2f-50a1-4d28-ae45-ab99f71672f4\",\"type\":\"Line\"},{\"attributes\":{\"data_source\":{\"id\":\"3ddc7563-1e0f-4261-a842-1261a4e176fa\",\"type\":\"ColumnDataSource\"},\"glyph\":{\"id\":\"63dbad2f-50a1-4d28-ae45-ab99f71672f4\",\"type\":\"Line\"},\"hover_glyph\":null,\"muted_glyph\":null,\"nonselection_glyph\":{\"id\":\"e04d8356-df98-4639-aeb5-5c3e4702a56a\",\"type\":\"Line\"},\"selection_glyph\":null,\"view\":{\"id\":\"29c5a505-f09e-4625-8ce7-2f4af8b94b56\",\"type\":\"CDSView\"}},\"id\":\"8d26ec6b-d6a1-41e7-a4e1-8ec812bb9f83\",\"type\":\"GlyphRenderer\"},{\"attributes\":{\"callback\":null,\"column_names\":[\"x\",\"y\"],\"data\":{\"x\":[-10,-3.0588936890535687,-2.0588936890535687,-1.0588936890535685,0.0,1.0,2.0,3.0,7.0,9.0,10.0],\"y\":{\"__ndarray__\":\"iiR6GcVyuz8AGM+goX+6P48ZqIx/n7k/LPGAsilXuD8AkX77OnC2P9dppKXydrQ/32xzY3rCsj8tfeiC+paxP4tx/iYUIrA/tXHEWnwKsD9inL8JhQiwPw==\",\"dtype\":\"float64\",\"shape\":[11]}}},\"id\":\"3ddc7563-1e0f-4261-a842-1261a4e176fa\",\"type\":\"ColumnDataSource\"},{\"attributes\":{\"label\":{\"value\":\"Small cell load = 0.32\"},\"renderers\":[{\"id\":\"acc71986-ec58-4733-9adc-b1fd4d94bd42\",\"type\":\"GlyphRenderer\"}]},\"id\":\"1ab04e88-2ba7-4e38-9106-9c5362929617\",\"type\":\"LegendItem\"},{\"attributes\":{\"dimension\":1,\"grid_line_alpha\":{\"value\":0.1},\"grid_line_dash\":[2,2],\"plot\":{\"id\":\"dc3b7094-02a3-4a91-bf58-4f29f571a5b1\",\"subtype\":\"Figure\",\"type\":\"Plot\"},\"ticker\":{\"id\":\"d522e6c2-3e93-4a05-8e7a-6154b315043d\",\"type\":\"BasicTicker\"}},\"id\":\"cb7f445b-2b34-4853-a3cf-07abd091b7c0\",\"type\":\"Grid\"}],\"root_ids\":[\"dc3b7094-02a3-4a91-bf58-4f29f571a5b1\"]},\"title\":\"Bokeh Application\",\"version\":\"0.12.10\"}};\n",
       "    var render_items = [{\"docid\":\"38afe0cf-eaa1-4b5c-81b0-7f4d6685a386\",\"elementid\":\"98f63b81-ea9e-442c-b632-166af93b98bc\",\"modelid\":\"dc3b7094-02a3-4a91-bf58-4f29f571a5b1\"}];\n",
       "\n",
       "    root.Bokeh.embed.embed_items(docs_json, render_items);\n",
       "  }\n",
       "\n",
       "  if (root.Bokeh !== undefined) {\n",
       "    embed_document(root);\n",
       "  } else {\n",
       "    var attempts = 0;\n",
       "    var timer = setInterval(function(root) {\n",
       "      if (root.Bokeh !== undefined) {\n",
       "        embed_document(root);\n",
       "        clearInterval(timer);\n",
       "      }\n",
       "      attempts++;\n",
       "      if (attempts > 100) {\n",
       "        console.log(\"Bokeh: ERROR: Unable to embed document because BokehJS library is missing\")\n",
       "        clearInterval(timer);\n",
       "      }\n",
       "    }, 10, root)\n",
       "  }\n",
       "})(window);"
      ],
      "application/vnd.bokehjs_exec.v0+json": ""
     },
     "metadata": {
      "application/vnd.bokehjs_exec.v0+json": {
       "id": "dc3b7094-02a3-4a91-bf58-4f29f571a5b1"
      }
     },
     "output_type": "display_data"
    }
   ],
   "source": [
    "p0 = figure(plot_width=600, plot_height=400)\n",
    "\n",
    "\n",
    "p0.line(logscale(1), df[df.small_arrival==1].avg_resp_time, line_color='navy',legend='Small cell load = 0.05')\n",
    "p0.circle(logscale(1), df[df.small_arrival==1].avg_resp_time, color='white', line_color='navy',size=5)\n",
    "p0.line(logscale(4), df[df.small_arrival==4].avg_resp_time, line_color='navy',line_dash=\"15 2\",legend='Small cell load = 0.2')\n",
    "p0.circle(logscale(4), df[df.small_arrival==4].avg_resp_time, color='white', line_color='navy',size=5)\n",
    "\n",
    "p0.line(logscale(6), df[df.small_arrival==6].avg_resp_time, line_color='navy',line_dash=\"4 4\",legend='Small cell load = 0.32')\n",
    "p0.circle(logscale(6), df[df.small_arrival==6].avg_resp_time, color='white', line_color='navy',size=5)\n",
    "\n",
    "p0.line(logscale(9), df[df.small_arrival==9].avg_resp_time, line_color='navy',line_dash=\"1 4\",legend='Small cell load = 0.5')\n",
    "p0.circle(logscale(9), df[df.small_arrival==9].avg_resp_time, color='white', line_color='navy',size=5)\n",
    "\n",
    "\n",
    "\n",
    "p0.line([-10,0,1,2,10],0.1*np.ones(5),line_color='red',legend='constraint')\n",
    "\n",
    "p0.grid.grid_line_dash = [2,2]\n",
    "p0.grid.grid_line_alpha = 0.1\n",
    "p0.outline_line_color = 'black'\n",
    "\n",
    "p0.xaxis.axis_label = 'idle time in logscale (relative to avg. inter-arrival time)'\n",
    "p0.yaxis.axis_label = 'Mean response time'\n",
    "\n",
    "p0.xaxis.axis_label_text_color = 'black'\n",
    "p0.xaxis.major_label_text_color = 'black'\n",
    "p0.yaxis.axis_label_text_color = 'black'\n",
    "p0.yaxis.major_label_text_color = 'black'\n",
    "p0.legend.label_text_color = 'black'\n",
    "\n",
    "p0.axis.axis_label_text_font_size = '12pt'\n",
    "p0.axis.major_label_text_font_size = '10pt'\n",
    "\n",
    "p0.legend.location  = 'top_right'\n",
    "\n",
    "show(p0)"
   ]
  },
  {
   "cell_type": "code",
   "execution_count": 27,
   "metadata": {},
   "outputs": [
    {
     "data": {
      "text/html": [
       "\n",
       "<div class=\"bk-root\">\n",
       "    <div class=\"bk-plotdiv\" id=\"f0146ea3-3db5-4109-986e-732db3358134\"></div>\n",
       "</div>"
      ]
     },
     "metadata": {},
     "output_type": "display_data"
    },
    {
     "data": {
      "application/javascript": [
       "(function(root) {\n",
       "  function embed_document(root) {\n",
       "    var docs_json = {\"fdceeba8-1f6e-48b8-99a5-e9964504edc4\":{\"roots\":{\"references\":[{\"attributes\":{\"fill_color\":{\"value\":\"white\"},\"line_color\":{\"value\":\"navy\"},\"size\":{\"units\":\"screen\",\"value\":5},\"x\":{\"field\":\"x\"},\"y\":{\"field\":\"y\"}},\"id\":\"c954da3c-230b-4bf9-a4d5-f43b96db605a\",\"type\":\"Circle\"},{\"attributes\":{\"source\":{\"id\":\"6638ad7e-a7a9-401e-9c7d-a648c486b3f9\",\"type\":\"ColumnDataSource\"}},\"id\":\"3579191d-8732-43db-8405-77e19a9ccf6b\",\"type\":\"CDSView\"},{\"attributes\":{\"line_color\":{\"value\":\"navy\"},\"x\":{\"field\":\"x\"},\"y\":{\"field\":\"y\"}},\"id\":\"d8772009-1847-4c7d-80de-1ec8adce5e3e\",\"type\":\"Line\"},{\"attributes\":{\"axis_label\":\"Mean power\",\"axis_label_text_color\":{\"value\":\"black\"},\"axis_label_text_font_size\":{\"value\":\"12pt\"},\"formatter\":{\"id\":\"80220b34-9367-4a50-9c52-3c8ea3ad2571\",\"type\":\"BasicTickFormatter\"},\"major_label_text_color\":{\"value\":\"black\"},\"major_label_text_font_size\":{\"value\":\"10pt\"},\"plot\":{\"id\":\"231abc42-becb-4210-a7cc-689a44d12350\",\"subtype\":\"Figure\",\"type\":\"Plot\"},\"ticker\":{\"id\":\"3b56b9f3-dec8-4bc9-b47c-aff57b464306\",\"type\":\"BasicTicker\"}},\"id\":\"8e01c791-9c75-4c04-948c-2403fcc09854\",\"type\":\"LinearAxis\"},{\"attributes\":{\"source\":{\"id\":\"4dccb08b-040c-4827-ba9e-abef1a59bb7a\",\"type\":\"ColumnDataSource\"}},\"id\":\"75c6b490-55e8-49dd-8656-4f4de52770ed\",\"type\":\"CDSView\"},{\"attributes\":{\"callback\":null,\"column_names\":[\"x\",\"y\"],\"data\":{\"x\":[-10,-3.0588936890535687,-2.0588936890535687,-1.0588936890535685,0.0,1.0,2.0,3.0,7.0,9.0,10.0],\"y\":{\"__ndarray__\":\"w/UoXI/8i0B7FK5H4XaMQKRwPQrX2YxAMzMzMzMbjUD2KFyPwvWNQK5H4XoU3I5A9ihcj8Kfj0AAAAAAABSQQHE9CtejZZBAhetRuB5qkEAfhetRuGuQQA==\",\"dtype\":\"float64\",\"shape\":[11]}}},\"id\":\"0f1fc4c7-03ba-4d5c-9144-57504e6484de\",\"type\":\"ColumnDataSource\"},{\"attributes\":{},\"id\":\"fac33f88-560a-4ba5-98ed-f7134b7fdb49\",\"type\":\"LinearScale\"},{\"attributes\":{\"label\":{\"value\":\"Small cell load = 0.05\"},\"renderers\":[{\"id\":\"0dbea427-784b-4173-9eeb-0ccd832c2bdb\",\"type\":\"GlyphRenderer\"}]},\"id\":\"569b8a1f-41e1-435a-82f8-bce5221ebc3b\",\"type\":\"LegendItem\"},{\"attributes\":{\"data_source\":{\"id\":\"18616779-ac1e-4fd1-b99d-ca149f9ea511\",\"type\":\"ColumnDataSource\"},\"glyph\":{\"id\":\"ab2e794c-3f3c-46d8-886a-4a0d9c378fe0\",\"type\":\"Circle\"},\"hover_glyph\":null,\"muted_glyph\":null,\"nonselection_glyph\":{\"id\":\"f9da1da0-0b26-43a4-8767-af91ec561be2\",\"type\":\"Circle\"},\"selection_glyph\":null,\"view\":{\"id\":\"11f129f6-7d36-4ada-a751-f3b19593a7a8\",\"type\":\"CDSView\"}},\"id\":\"7b527df0-5a98-4eee-9395-3a8b1f18ddbf\",\"type\":\"GlyphRenderer\"},{\"attributes\":{\"source\":{\"id\":\"0f1fc4c7-03ba-4d5c-9144-57504e6484de\",\"type\":\"ColumnDataSource\"}},\"id\":\"cbdf3d5f-feb1-42ff-8f9a-1d33c1036caa\",\"type\":\"CDSView\"},{\"attributes\":{\"callback\":null,\"column_names\":[\"x\",\"y\"],\"data\":{\"x\":[-10,-3.473931188332412,-1.8889686876112561,-0.888968687611256,-0.014499569695115089,0.9855004303048849,1.9855004303048849,3.0018022426339854,6.999774561287003,9.00002817736235,10.00002817736235],\"y\":{\"__ndarray__\":\"mpmZmZnokEApXI/C9fyQQOF6FK5HCpFAuB6F61EdkUDD9ShcjzaRQGZmZmZmf5BAuB6F61GEkEBSuB6F66yQQHsUrkfh3ZBAmpmZmZngkEApXI/C9eCQQA==\",\"dtype\":\"float64\",\"shape\":[11]}}},\"id\":\"4dccb08b-040c-4827-ba9e-abef1a59bb7a\",\"type\":\"ColumnDataSource\"},{\"attributes\":{\"callback\":null,\"column_names\":[\"x\",\"y\"],\"data\":{\"x\":[-10,-3.0588936890535687,-2.0588936890535687,-1.0588936890535685,0.02856915219677092,0.9855004303048849,2.007195501404204,2.996388746447621,6.999774561287003,8.999943643624247,10.00002817736235],\"y\":{\"__ndarray__\":\"KVyPwvVMjkCuR+F6FKSOQNejcD0K4Y5AKVyPwvVAj0DsUbgehemOQIXrUbgem49ApHA9CtcbkEDXo3A9ClSQQOF6FK5HlZBA9ihcj8KZkEB7FK5H4ZmQQA==\",\"dtype\":\"float64\",\"shape\":[11]}}},\"id\":\"76642afd-5b78-435d-acb7-5cdcf9e100ae\",\"type\":\"ColumnDataSource\"},{\"attributes\":{\"data_source\":{\"id\":\"fd4e8af9-0b6c-4e03-a2ec-6b7f8b0e7222\",\"type\":\"ColumnDataSource\"},\"glyph\":{\"id\":\"c954da3c-230b-4bf9-a4d5-f43b96db605a\",\"type\":\"Circle\"},\"hover_glyph\":null,\"muted_glyph\":null,\"nonselection_glyph\":{\"id\":\"7e0355d3-8167-4ed5-b7f6-ad3666a29bb4\",\"type\":\"Circle\"},\"selection_glyph\":null,\"view\":{\"id\":\"3317cd3f-a731-45d6-9760-c84ee5edb9a1\",\"type\":\"CDSView\"}},\"id\":\"bc6406d8-38a7-41fe-935d-a00684766cf4\",\"type\":\"GlyphRenderer\"},{\"attributes\":{\"grid_line_alpha\":{\"value\":0.1},\"grid_line_dash\":[2,2],\"plot\":{\"id\":\"231abc42-becb-4210-a7cc-689a44d12350\",\"subtype\":\"Figure\",\"type\":\"Plot\"},\"ticker\":{\"id\":\"80cf5d5b-b17d-4080-8d64-1356949feb83\",\"type\":\"BasicTicker\"}},\"id\":\"d5259dc7-76ea-47b0-a2d0-ec8e8b3f3cd8\",\"type\":\"Grid\"},{\"attributes\":{\"line_alpha\":{\"value\":0.1},\"line_color\":{\"value\":\"#1f77b4\"},\"line_dash\":[15,2],\"x\":{\"field\":\"x\"},\"y\":{\"field\":\"y\"}},\"id\":\"3e673677-b892-4d33-9e98-f5f3027888bd\",\"type\":\"Line\"},{\"attributes\":{\"source\":{\"id\":\"2bb9e68d-8468-42c2-8a0d-0f533f3b23ff\",\"type\":\"ColumnDataSource\"}},\"id\":\"1fbe033d-aea4-41a8-ac8d-f3e6c5db0031\",\"type\":\"CDSView\"},{\"attributes\":{\"data_source\":{\"id\":\"4dccb08b-040c-4827-ba9e-abef1a59bb7a\",\"type\":\"ColumnDataSource\"},\"glyph\":{\"id\":\"bcfc8a3f-25ec-4e7d-a624-e2553f3ac5fa\",\"type\":\"Line\"},\"hover_glyph\":null,\"muted_glyph\":null,\"nonselection_glyph\":{\"id\":\"bd0119c5-c7aa-4dc9-8da5-0d93123cd11a\",\"type\":\"Line\"},\"selection_glyph\":null,\"view\":{\"id\":\"75c6b490-55e8-49dd-8656-4f4de52770ed\",\"type\":\"CDSView\"}},\"id\":\"e6726e0e-9a30-415d-aba7-5265c2cc2d8b\",\"type\":\"GlyphRenderer\"},{\"attributes\":{\"active_drag\":\"auto\",\"active_inspect\":\"auto\",\"active_scroll\":\"auto\",\"active_tap\":\"auto\",\"tools\":[{\"id\":\"30e070d0-9c1a-46ad-9fc2-227b2903e1eb\",\"type\":\"PanTool\"},{\"id\":\"a881b333-ad60-4d6e-b65b-deef22727a8d\",\"type\":\"WheelZoomTool\"},{\"id\":\"a9a130a6-2367-49ed-b215-ff374e475582\",\"type\":\"BoxZoomTool\"},{\"id\":\"82da1115-a19b-418b-b323-f69dab9c2f14\",\"type\":\"SaveTool\"},{\"id\":\"098aa118-32b3-491c-9450-6566fd7c8b54\",\"type\":\"ResetTool\"},{\"id\":\"2b678271-5735-42e5-a71e-9960a9248964\",\"type\":\"HelpTool\"}]},\"id\":\"54e6e3d0-a2fe-40fd-8d52-0908102891c9\",\"type\":\"Toolbar\"},{\"attributes\":{\"callback\":null,\"column_names\":[\"x\",\"y\"],\"data\":{\"x\":[-10,-3.0588936890535687,-2.0,-1.0,0.0,1.0,2.0,3.0,7.0,9.0,10.0],\"y\":{\"__ndarray__\":\"UrgeheuHiECuR+F6FFyJQD0K16NwBYpAFK5H4XoGi0CF61G4Hk2MQM3MzMzMmI1AzczMzMymjkBSuB6F61uPQFK4HoXrF5BArkfhehQekED2KFyPwh+QQA==\",\"dtype\":\"float64\",\"shape\":[11]}}},\"id\":\"18616779-ac1e-4fd1-b99d-ca149f9ea511\",\"type\":\"ColumnDataSource\"},{\"attributes\":{\"line_color\":{\"value\":\"navy\"},\"line_dash\":[15,2],\"x\":{\"field\":\"x\"},\"y\":{\"field\":\"y\"}},\"id\":\"4a0f8621-0ae6-43bf-a2d6-7d5cc29d8154\",\"type\":\"Line\"},{\"attributes\":{\"source\":{\"id\":\"fd4e8af9-0b6c-4e03-a2ec-6b7f8b0e7222\",\"type\":\"ColumnDataSource\"}},\"id\":\"3317cd3f-a731-45d6-9760-c84ee5edb9a1\",\"type\":\"CDSView\"},{\"attributes\":{\"callback\":null,\"column_names\":[\"x\",\"y\"],\"data\":{\"x\":[-10,-3.0588936890535687,-2.0588936890535687,-1.0588936890535685,0.02856915219677092,0.9855004303048849,2.007195501404204,2.996388746447621,6.999774561287003,8.999943643624247,10.00002817736235],\"y\":{\"__ndarray__\":\"KVyPwvVMjkCuR+F6FKSOQNejcD0K4Y5AKVyPwvVAj0DsUbgehemOQIXrUbgem49ApHA9CtcbkEDXo3A9ClSQQOF6FK5HlZBA9ihcj8KZkEB7FK5H4ZmQQA==\",\"dtype\":\"float64\",\"shape\":[11]}}},\"id\":\"2bb9e68d-8468-42c2-8a0d-0f533f3b23ff\",\"type\":\"ColumnDataSource\"},{\"attributes\":{\"callback\":null,\"column_names\":[\"x\",\"y\"],\"data\":{\"x\":[-10,-3.0588936890535687,-2.0588936890535687,-1.0588936890535685,0.0,1.0,2.0,3.0,7.0,9.0,10.0],\"y\":{\"__ndarray__\":\"w/UoXI/8i0B7FK5H4XaMQKRwPQrX2YxAMzMzMzMbjUD2KFyPwvWNQK5H4XoU3I5A9ihcj8Kfj0AAAAAAABSQQHE9CtejZZBAhetRuB5qkEAfhetRuGuQQA==\",\"dtype\":\"float64\",\"shape\":[11]}}},\"id\":\"6638ad7e-a7a9-401e-9c7d-a648c486b3f9\",\"type\":\"ColumnDataSource\"},{\"attributes\":{\"data_source\":{\"id\":\"76642afd-5b78-435d-acb7-5cdcf9e100ae\",\"type\":\"ColumnDataSource\"},\"glyph\":{\"id\":\"83f972c0-5f32-44eb-a3c8-2c68e5353655\",\"type\":\"Line\"},\"hover_glyph\":null,\"muted_glyph\":null,\"nonselection_glyph\":{\"id\":\"b1c9db9e-7def-40dd-965d-d69fc8502c9c\",\"type\":\"Line\"},\"selection_glyph\":null,\"view\":{\"id\":\"c32f667d-0e04-4b7c-8179-daad7092c7e4\",\"type\":\"CDSView\"}},\"id\":\"2f346191-1af4-4c4e-a574-63455390d958\",\"type\":\"GlyphRenderer\"},{\"attributes\":{},\"id\":\"82da1115-a19b-418b-b323-f69dab9c2f14\",\"type\":\"SaveTool\"},{\"attributes\":{\"callback\":null},\"id\":\"ed60a199-bafe-46c9-b2cb-5e2c0f81c3ef\",\"type\":\"DataRange1d\"},{\"attributes\":{\"line_alpha\":{\"value\":0.1},\"line_color\":{\"value\":\"#1f77b4\"},\"x\":{\"field\":\"x\"},\"y\":{\"field\":\"y\"}},\"id\":\"33c0a126-f2d3-4940-83cb-2c02a5062c29\",\"type\":\"Line\"},{\"attributes\":{\"fill_alpha\":{\"value\":0.1},\"fill_color\":{\"value\":\"#1f77b4\"},\"line_alpha\":{\"value\":0.1},\"line_color\":{\"value\":\"#1f77b4\"},\"size\":{\"units\":\"screen\",\"value\":5},\"x\":{\"field\":\"x\"},\"y\":{\"field\":\"y\"}},\"id\":\"f9da1da0-0b26-43a4-8767-af91ec561be2\",\"type\":\"Circle\"},{\"attributes\":{},\"id\":\"2b678271-5735-42e5-a71e-9960a9248964\",\"type\":\"HelpTool\"},{\"attributes\":{\"line_alpha\":{\"value\":0.1},\"line_color\":{\"value\":\"#1f77b4\"},\"line_dash\":[1,4],\"x\":{\"field\":\"x\"},\"y\":{\"field\":\"y\"}},\"id\":\"bd0119c5-c7aa-4dc9-8da5-0d93123cd11a\",\"type\":\"Line\"},{\"attributes\":{\"line_color\":{\"value\":\"navy\"},\"line_dash\":[1,4],\"x\":{\"field\":\"x\"},\"y\":{\"field\":\"y\"}},\"id\":\"bcfc8a3f-25ec-4e7d-a624-e2553f3ac5fa\",\"type\":\"Line\"},{\"attributes\":{\"data_source\":{\"id\":\"2bb9e68d-8468-42c2-8a0d-0f533f3b23ff\",\"type\":\"ColumnDataSource\"},\"glyph\":{\"id\":\"e9ef52cc-63e6-452c-82df-856ee669e7af\",\"type\":\"Circle\"},\"hover_glyph\":null,\"muted_glyph\":null,\"nonselection_glyph\":{\"id\":\"01f109fc-b860-46db-91fd-758b4dcda88e\",\"type\":\"Circle\"},\"selection_glyph\":null,\"view\":{\"id\":\"1fbe033d-aea4-41a8-ac8d-f3e6c5db0031\",\"type\":\"CDSView\"}},\"id\":\"18b78915-6cae-45d8-910b-2caae3ecf40d\",\"type\":\"GlyphRenderer\"},{\"attributes\":{\"label\":{\"value\":\"Small cell load = 0.2\"},\"renderers\":[{\"id\":\"2a7bdb35-9448-4aed-bede-92c3e1727558\",\"type\":\"GlyphRenderer\"}]},\"id\":\"17c65be8-0064-4be2-a02f-c25a6a26f3f0\",\"type\":\"LegendItem\"},{\"attributes\":{\"plot\":null,\"text\":\"\"},\"id\":\"973d3f91-3729-44e0-ad03-745e955a4c26\",\"type\":\"Title\"},{\"attributes\":{\"label\":{\"value\":\"Small cell load = 0.32\"},\"renderers\":[{\"id\":\"2f346191-1af4-4c4e-a574-63455390d958\",\"type\":\"GlyphRenderer\"}]},\"id\":\"0dac4281-64ed-4d89-9ed8-27522a53cd18\",\"type\":\"LegendItem\"},{\"attributes\":{\"fill_alpha\":{\"value\":0.1},\"fill_color\":{\"value\":\"#1f77b4\"},\"line_alpha\":{\"value\":0.1},\"line_color\":{\"value\":\"#1f77b4\"},\"size\":{\"units\":\"screen\",\"value\":5},\"x\":{\"field\":\"x\"},\"y\":{\"field\":\"y\"}},\"id\":\"7e0355d3-8167-4ed5-b7f6-ad3666a29bb4\",\"type\":\"Circle\"},{\"attributes\":{\"callback\":null,\"column_names\":[\"x\",\"y\"],\"data\":{\"x\":[-10,-3.0588936890535687,-2.0,-1.0,0.0,1.0,2.0,3.0,7.0,9.0,10.0],\"y\":{\"__ndarray__\":\"UrgeheuHiECuR+F6FFyJQD0K16NwBYpAFK5H4XoGi0CF61G4Hk2MQM3MzMzMmI1AzczMzMymjkBSuB6F61uPQFK4HoXrF5BArkfhehQekED2KFyPwh+QQA==\",\"dtype\":\"float64\",\"shape\":[11]}}},\"id\":\"bc9c2f36-9e4c-43c6-b920-95c9c9eae15c\",\"type\":\"ColumnDataSource\"},{\"attributes\":{\"source\":{\"id\":\"bc9c2f36-9e4c-43c6-b920-95c9c9eae15c\",\"type\":\"ColumnDataSource\"}},\"id\":\"e2375668-32ce-4903-bc19-f52d80715326\",\"type\":\"CDSView\"},{\"attributes\":{},\"id\":\"30e070d0-9c1a-46ad-9fc2-227b2903e1eb\",\"type\":\"PanTool\"},{\"attributes\":{},\"id\":\"098aa118-32b3-491c-9450-6566fd7c8b54\",\"type\":\"ResetTool\"},{\"attributes\":{},\"id\":\"c234e1db-345b-4d7b-99fe-8c22b655544b\",\"type\":\"BasicTickFormatter\"},{\"attributes\":{\"fill_alpha\":{\"value\":0.1},\"fill_color\":{\"value\":\"#1f77b4\"},\"line_alpha\":{\"value\":0.1},\"line_color\":{\"value\":\"#1f77b4\"},\"size\":{\"units\":\"screen\",\"value\":5},\"x\":{\"field\":\"x\"},\"y\":{\"field\":\"y\"}},\"id\":\"4056d5da-3382-4773-bebf-c4979f0a8cdf\",\"type\":\"Circle\"},{\"attributes\":{},\"id\":\"067954ea-9c59-4253-9622-8649ce24bef3\",\"type\":\"LinearScale\"},{\"attributes\":{\"source\":{\"id\":\"18616779-ac1e-4fd1-b99d-ca149f9ea511\",\"type\":\"ColumnDataSource\"}},\"id\":\"11f129f6-7d36-4ada-a751-f3b19593a7a8\",\"type\":\"CDSView\"},{\"attributes\":{},\"id\":\"80220b34-9367-4a50-9c52-3c8ea3ad2571\",\"type\":\"BasicTickFormatter\"},{\"attributes\":{\"fill_color\":{\"value\":\"white\"},\"line_color\":{\"value\":\"navy\"},\"size\":{\"units\":\"screen\",\"value\":5},\"x\":{\"field\":\"x\"},\"y\":{\"field\":\"y\"}},\"id\":\"46db1e84-db16-4e0d-bb25-0d646ae9a412\",\"type\":\"Circle\"},{\"attributes\":{\"fill_color\":{\"value\":\"white\"},\"line_color\":{\"value\":\"navy\"},\"size\":{\"units\":\"screen\",\"value\":5},\"x\":{\"field\":\"x\"},\"y\":{\"field\":\"y\"}},\"id\":\"e9ef52cc-63e6-452c-82df-856ee669e7af\",\"type\":\"Circle\"},{\"attributes\":{\"source\":{\"id\":\"76642afd-5b78-435d-acb7-5cdcf9e100ae\",\"type\":\"ColumnDataSource\"}},\"id\":\"c32f667d-0e04-4b7c-8179-daad7092c7e4\",\"type\":\"CDSView\"},{\"attributes\":{\"overlay\":{\"id\":\"a3adb031-b024-4c8d-84bb-eab8ab5d7d4e\",\"type\":\"BoxAnnotation\"}},\"id\":\"a9a130a6-2367-49ed-b215-ff374e475582\",\"type\":\"BoxZoomTool\"},{\"attributes\":{\"callback\":null},\"id\":\"a1d86716-9abd-408e-bafd-c1214ce5dcad\",\"type\":\"DataRange1d\"},{\"attributes\":{\"label\":{\"value\":\"Small cell load = 0.5\"},\"renderers\":[{\"id\":\"e6726e0e-9a30-415d-aba7-5265c2cc2d8b\",\"type\":\"GlyphRenderer\"}]},\"id\":\"49406ea7-673c-4f31-ab65-9650a1494efb\",\"type\":\"LegendItem\"},{\"attributes\":{},\"id\":\"a881b333-ad60-4d6e-b65b-deef22727a8d\",\"type\":\"WheelZoomTool\"},{\"attributes\":{},\"id\":\"80cf5d5b-b17d-4080-8d64-1356949feb83\",\"type\":\"BasicTicker\"},{\"attributes\":{\"axis_label\":\"idle time in logscale (relative to avg. inter-arrival time)\",\"axis_label_text_color\":{\"value\":\"black\"},\"axis_label_text_font_size\":{\"value\":\"12pt\"},\"formatter\":{\"id\":\"c234e1db-345b-4d7b-99fe-8c22b655544b\",\"type\":\"BasicTickFormatter\"},\"major_label_text_color\":{\"value\":\"black\"},\"major_label_text_font_size\":{\"value\":\"10pt\"},\"plot\":{\"id\":\"231abc42-becb-4210-a7cc-689a44d12350\",\"subtype\":\"Figure\",\"type\":\"Plot\"},\"ticker\":{\"id\":\"80cf5d5b-b17d-4080-8d64-1356949feb83\",\"type\":\"BasicTicker\"}},\"id\":\"f2334e3c-e260-4a93-a8c3-85ea7b806a86\",\"type\":\"LinearAxis\"},{\"attributes\":{\"line_color\":{\"value\":\"navy\"},\"line_dash\":[4,4],\"x\":{\"field\":\"x\"},\"y\":{\"field\":\"y\"}},\"id\":\"83f972c0-5f32-44eb-a3c8-2c68e5353655\",\"type\":\"Line\"},{\"attributes\":{\"fill_alpha\":{\"value\":0.1},\"fill_color\":{\"value\":\"#1f77b4\"},\"line_alpha\":{\"value\":0.1},\"line_color\":{\"value\":\"#1f77b4\"},\"size\":{\"units\":\"screen\",\"value\":5},\"x\":{\"field\":\"x\"},\"y\":{\"field\":\"y\"}},\"id\":\"01f109fc-b860-46db-91fd-758b4dcda88e\",\"type\":\"Circle\"},{\"attributes\":{\"line_alpha\":{\"value\":0.1},\"line_color\":{\"value\":\"#1f77b4\"},\"line_dash\":[4,4],\"x\":{\"field\":\"x\"},\"y\":{\"field\":\"y\"}},\"id\":\"b1c9db9e-7def-40dd-965d-d69fc8502c9c\",\"type\":\"Line\"},{\"attributes\":{\"bottom_units\":\"screen\",\"fill_alpha\":{\"value\":0.5},\"fill_color\":{\"value\":\"lightgrey\"},\"left_units\":\"screen\",\"level\":\"overlay\",\"line_alpha\":{\"value\":1.0},\"line_color\":{\"value\":\"black\"},\"line_dash\":[4,4],\"line_width\":{\"value\":2},\"plot\":null,\"render_mode\":\"css\",\"right_units\":\"screen\",\"top_units\":\"screen\"},\"id\":\"a3adb031-b024-4c8d-84bb-eab8ab5d7d4e\",\"type\":\"BoxAnnotation\"},{\"attributes\":{},\"id\":\"3b56b9f3-dec8-4bc9-b47c-aff57b464306\",\"type\":\"BasicTicker\"},{\"attributes\":{\"data_source\":{\"id\":\"bc9c2f36-9e4c-43c6-b920-95c9c9eae15c\",\"type\":\"ColumnDataSource\"},\"glyph\":{\"id\":\"d8772009-1847-4c7d-80de-1ec8adce5e3e\",\"type\":\"Line\"},\"hover_glyph\":null,\"muted_glyph\":null,\"nonselection_glyph\":{\"id\":\"33c0a126-f2d3-4940-83cb-2c02a5062c29\",\"type\":\"Line\"},\"selection_glyph\":null,\"view\":{\"id\":\"e2375668-32ce-4903-bc19-f52d80715326\",\"type\":\"CDSView\"}},\"id\":\"0dbea427-784b-4173-9eeb-0ccd832c2bdb\",\"type\":\"GlyphRenderer\"},{\"attributes\":{\"data_source\":{\"id\":\"0f1fc4c7-03ba-4d5c-9144-57504e6484de\",\"type\":\"ColumnDataSource\"},\"glyph\":{\"id\":\"4a0f8621-0ae6-43bf-a2d6-7d5cc29d8154\",\"type\":\"Line\"},\"hover_glyph\":null,\"muted_glyph\":null,\"nonselection_glyph\":{\"id\":\"3e673677-b892-4d33-9e98-f5f3027888bd\",\"type\":\"Line\"},\"selection_glyph\":null,\"view\":{\"id\":\"cbdf3d5f-feb1-42ff-8f9a-1d33c1036caa\",\"type\":\"CDSView\"}},\"id\":\"2a7bdb35-9448-4aed-bede-92c3e1727558\",\"type\":\"GlyphRenderer\"},{\"attributes\":{\"items\":[{\"id\":\"569b8a1f-41e1-435a-82f8-bce5221ebc3b\",\"type\":\"LegendItem\"},{\"id\":\"17c65be8-0064-4be2-a02f-c25a6a26f3f0\",\"type\":\"LegendItem\"},{\"id\":\"0dac4281-64ed-4d89-9ed8-27522a53cd18\",\"type\":\"LegendItem\"},{\"id\":\"49406ea7-673c-4f31-ab65-9650a1494efb\",\"type\":\"LegendItem\"}],\"label_text_color\":{\"value\":\"black\"},\"location\":\"bottom_right\",\"plot\":{\"id\":\"231abc42-becb-4210-a7cc-689a44d12350\",\"subtype\":\"Figure\",\"type\":\"Plot\"}},\"id\":\"c7ce3c4b-5646-433c-942c-992bd3f482bf\",\"type\":\"Legend\"},{\"attributes\":{\"fill_color\":{\"value\":\"white\"},\"line_color\":{\"value\":\"navy\"},\"size\":{\"units\":\"screen\",\"value\":5},\"x\":{\"field\":\"x\"},\"y\":{\"field\":\"y\"}},\"id\":\"ab2e794c-3f3c-46d8-886a-4a0d9c378fe0\",\"type\":\"Circle\"},{\"attributes\":{\"data_source\":{\"id\":\"6638ad7e-a7a9-401e-9c7d-a648c486b3f9\",\"type\":\"ColumnDataSource\"},\"glyph\":{\"id\":\"46db1e84-db16-4e0d-bb25-0d646ae9a412\",\"type\":\"Circle\"},\"hover_glyph\":null,\"muted_glyph\":null,\"nonselection_glyph\":{\"id\":\"4056d5da-3382-4773-bebf-c4979f0a8cdf\",\"type\":\"Circle\"},\"selection_glyph\":null,\"view\":{\"id\":\"3579191d-8732-43db-8405-77e19a9ccf6b\",\"type\":\"CDSView\"}},\"id\":\"d6438a55-6c3f-4368-b7ac-9db057f9afe6\",\"type\":\"GlyphRenderer\"},{\"attributes\":{\"below\":[{\"id\":\"f2334e3c-e260-4a93-a8c3-85ea7b806a86\",\"type\":\"LinearAxis\"}],\"left\":[{\"id\":\"8e01c791-9c75-4c04-948c-2403fcc09854\",\"type\":\"LinearAxis\"}],\"outline_line_color\":{\"value\":\"black\"},\"plot_height\":400,\"renderers\":[{\"id\":\"f2334e3c-e260-4a93-a8c3-85ea7b806a86\",\"type\":\"LinearAxis\"},{\"id\":\"d5259dc7-76ea-47b0-a2d0-ec8e8b3f3cd8\",\"type\":\"Grid\"},{\"id\":\"8e01c791-9c75-4c04-948c-2403fcc09854\",\"type\":\"LinearAxis\"},{\"id\":\"aa589447-a0f3-4e49-886b-4be6b3072813\",\"type\":\"Grid\"},{\"id\":\"a3adb031-b024-4c8d-84bb-eab8ab5d7d4e\",\"type\":\"BoxAnnotation\"},{\"id\":\"c7ce3c4b-5646-433c-942c-992bd3f482bf\",\"type\":\"Legend\"},{\"id\":\"0dbea427-784b-4173-9eeb-0ccd832c2bdb\",\"type\":\"GlyphRenderer\"},{\"id\":\"7b527df0-5a98-4eee-9395-3a8b1f18ddbf\",\"type\":\"GlyphRenderer\"},{\"id\":\"2a7bdb35-9448-4aed-bede-92c3e1727558\",\"type\":\"GlyphRenderer\"},{\"id\":\"d6438a55-6c3f-4368-b7ac-9db057f9afe6\",\"type\":\"GlyphRenderer\"},{\"id\":\"2f346191-1af4-4c4e-a574-63455390d958\",\"type\":\"GlyphRenderer\"},{\"id\":\"18b78915-6cae-45d8-910b-2caae3ecf40d\",\"type\":\"GlyphRenderer\"},{\"id\":\"e6726e0e-9a30-415d-aba7-5265c2cc2d8b\",\"type\":\"GlyphRenderer\"},{\"id\":\"bc6406d8-38a7-41fe-935d-a00684766cf4\",\"type\":\"GlyphRenderer\"}],\"title\":{\"id\":\"973d3f91-3729-44e0-ad03-745e955a4c26\",\"type\":\"Title\"},\"toolbar\":{\"id\":\"54e6e3d0-a2fe-40fd-8d52-0908102891c9\",\"type\":\"Toolbar\"},\"x_range\":{\"id\":\"ed60a199-bafe-46c9-b2cb-5e2c0f81c3ef\",\"type\":\"DataRange1d\"},\"x_scale\":{\"id\":\"067954ea-9c59-4253-9622-8649ce24bef3\",\"type\":\"LinearScale\"},\"y_range\":{\"id\":\"a1d86716-9abd-408e-bafd-c1214ce5dcad\",\"type\":\"DataRange1d\"},\"y_scale\":{\"id\":\"fac33f88-560a-4ba5-98ed-f7134b7fdb49\",\"type\":\"LinearScale\"}},\"id\":\"231abc42-becb-4210-a7cc-689a44d12350\",\"subtype\":\"Figure\",\"type\":\"Plot\"},{\"attributes\":{\"dimension\":1,\"grid_line_alpha\":{\"value\":0.1},\"grid_line_dash\":[2,2],\"plot\":{\"id\":\"231abc42-becb-4210-a7cc-689a44d12350\",\"subtype\":\"Figure\",\"type\":\"Plot\"},\"ticker\":{\"id\":\"3b56b9f3-dec8-4bc9-b47c-aff57b464306\",\"type\":\"BasicTicker\"}},\"id\":\"aa589447-a0f3-4e49-886b-4be6b3072813\",\"type\":\"Grid\"},{\"attributes\":{\"callback\":null,\"column_names\":[\"x\",\"y\"],\"data\":{\"x\":[-10,-3.473931188332412,-1.8889686876112561,-0.888968687611256,-0.014499569695115089,0.9855004303048849,1.9855004303048849,3.0018022426339854,6.999774561287003,9.00002817736235,10.00002817736235],\"y\":{\"__ndarray__\":\"mpmZmZnokEApXI/C9fyQQOF6FK5HCpFAuB6F61EdkUDD9ShcjzaRQGZmZmZmf5BAuB6F61GEkEBSuB6F66yQQHsUrkfh3ZBAmpmZmZngkEApXI/C9eCQQA==\",\"dtype\":\"float64\",\"shape\":[11]}}},\"id\":\"fd4e8af9-0b6c-4e03-a2ec-6b7f8b0e7222\",\"type\":\"ColumnDataSource\"}],\"root_ids\":[\"231abc42-becb-4210-a7cc-689a44d12350\"]},\"title\":\"Bokeh Application\",\"version\":\"0.12.10\"}};\n",
       "    var render_items = [{\"docid\":\"fdceeba8-1f6e-48b8-99a5-e9964504edc4\",\"elementid\":\"f0146ea3-3db5-4109-986e-732db3358134\",\"modelid\":\"231abc42-becb-4210-a7cc-689a44d12350\"}];\n",
       "\n",
       "    root.Bokeh.embed.embed_items(docs_json, render_items);\n",
       "  }\n",
       "\n",
       "  if (root.Bokeh !== undefined) {\n",
       "    embed_document(root);\n",
       "  } else {\n",
       "    var attempts = 0;\n",
       "    var timer = setInterval(function(root) {\n",
       "      if (root.Bokeh !== undefined) {\n",
       "        embed_document(root);\n",
       "        clearInterval(timer);\n",
       "      }\n",
       "      attempts++;\n",
       "      if (attempts > 100) {\n",
       "        console.log(\"Bokeh: ERROR: Unable to embed document because BokehJS library is missing\")\n",
       "        clearInterval(timer);\n",
       "      }\n",
       "    }, 10, root)\n",
       "  }\n",
       "})(window);"
      ],
      "application/vnd.bokehjs_exec.v0+json": ""
     },
     "metadata": {
      "application/vnd.bokehjs_exec.v0+json": {
       "id": "231abc42-becb-4210-a7cc-689a44d12350"
      }
     },
     "output_type": "display_data"
    }
   ],
   "source": [
    "p0 = figure(plot_width=600, plot_height=400)\n",
    "\n",
    "\n",
    "p0.line(logscale(1), df[df.small_arrival==1].avg_power, line_color='navy',legend='Small cell load = 0.05')\n",
    "p0.circle(logscale(1), df[df.small_arrival==1].avg_power, color='white', line_color='navy',size=5)\n",
    "p0.line(logscale(4), df[df.small_arrival==4].avg_power, line_color='navy',line_dash=\"15 2\",legend='Small cell load = 0.2')\n",
    "p0.circle(logscale(4), df[df.small_arrival==4].avg_power, color='white', line_color='navy',size=5)\n",
    "\n",
    "p0.line(logscale(6), df[df.small_arrival==6].avg_power, line_color='navy',line_dash=\"4 4\",legend='Small cell load = 0.32')\n",
    "p0.circle(logscale(6), df[df.small_arrival==6].avg_power, color='white', line_color='navy',size=5)\n",
    "\n",
    "p0.line(logscale(9), df[df.small_arrival==9].avg_power, line_color='navy',line_dash=\"1 4\",legend='Small cell load = 0.5')\n",
    "p0.circle(logscale(9), df[df.small_arrival==9].avg_power, color='white', line_color='navy',size=5)\n",
    "\n",
    "\n",
    "p0.grid.grid_line_dash = [2,2]\n",
    "p0.grid.grid_line_alpha = 0.1\n",
    "\n",
    "p0.xaxis.axis_label = 'idle time in logscale (relative to avg. inter-arrival time)'\n",
    "p0.yaxis.axis_label = 'Mean power'\n",
    "\n",
    "p0.xaxis.axis_label_text_color = 'black'\n",
    "p0.xaxis.major_label_text_color = 'black'\n",
    "p0.yaxis.axis_label_text_color = 'black'\n",
    "p0.yaxis.major_label_text_color = 'black'\n",
    "p0.legend.label_text_color = 'black'\n",
    "\n",
    "p0.legend.location  = 'bottom_right'\n",
    "p0.outline_line_color = 'black'\n",
    "\n",
    "p0.axis.axis_label_text_font_size = '12pt'\n",
    "p0.axis.major_label_text_font_size = '10pt'\n",
    "\n",
    "show(p0)"
   ]
  },
  {
   "cell_type": "markdown",
   "metadata": {},
   "source": [
    "## 1.2 Long setup delay"
   ]
  },
  {
   "cell_type": "code",
   "execution_count": 618,
   "metadata": {},
   "outputs": [
    {
     "name": "stdout",
     "output_type": "stream",
     "text": [
      "\u001b[34mbak\u001b[m\u001b[m/                 \u001b[34msetup_1.0\u001b[m\u001b[m/           test.csv\r\n",
      "result.csv           test-lb-policy.csv   visualization.ipynb\r\n",
      "\u001b[34msetup_0.05\u001b[m\u001b[m/          test-test.csv\r\n"
     ]
    }
   ],
   "source": [
    "%ls"
   ]
  },
  {
   "cell_type": "code",
   "execution_count": 21,
   "metadata": {},
   "outputs": [],
   "source": [
    "df=pd.read_csv('setup_1.0/output_1.csv', skiprows=1)\n",
    "\n",
    "if df.iloc[-1][0] > 0:\n",
    "    df = df.iloc[-1:]\n",
    "else:\n",
    "    df = df.iloc[1:2]\n",
    "\n",
    "for i in range(2,45):\n",
    "    df_tmp = pd.read_csv('setup_1.0/output_'+str(i)+'.csv', skiprows=1)\n",
    "\n",
    "    if df_tmp.iloc[-1][0] > 0:\n",
    "        df_tmp = df_tmp.iloc[-1:]\n",
    "    else:\n",
    "        df_tmp = df_tmp.iloc[1:2]\n",
    "    df = df.append(df_tmp)\n",
    "\n",
    "df['relative_idle_time'] = df.small_arrival * df.avg_idle_time"
   ]
  },
  {
   "cell_type": "code",
   "execution_count": 24,
   "metadata": {},
   "outputs": [
    {
     "data": {
      "text/html": [
       "\n",
       "<div class=\"bk-root\">\n",
       "    <div class=\"bk-plotdiv\" id=\"923dfd8f-de0f-4f02-9ed0-49964c75e0f6\"></div>\n",
       "</div>"
      ]
     },
     "metadata": {},
     "output_type": "display_data"
    },
    {
     "data": {
      "application/javascript": [
       "(function(root) {\n",
       "  function embed_document(root) {\n",
       "    var docs_json = {\"5f6707c2-0831-47a8-850f-b41e8b69e2a4\":{\"roots\":{\"references\":[{\"attributes\":{\"callback\":null,\"column_names\":[\"x\",\"y\"],\"data\":{\"x\":[-10,-3.0588936890535687,-2.0,-1.0,0.0,1.0,2.0,3.0,7.0,9.0,10.0],\"y\":{\"__ndarray__\":\"jBU1mIbhxz9qh78ma9THP+Oqsu+K4Mc/5+PaUDHOxz/+8V61MuHHP8djBirj38c/4iNiSiTRxz/HYwYq49/HPzlAMEeP38c/hs5r7BLVxz9hjh6/t+nHPw==\",\"dtype\":\"float64\",\"shape\":[11]}}},\"id\":\"389ddbfd-00a7-4885-87aa-08b6e70353eb\",\"type\":\"ColumnDataSource\"},{\"attributes\":{\"line_color\":{\"value\":\"navy\"},\"line_dash\":[1,4],\"x\":{\"field\":\"x\"},\"y\":{\"field\":\"y\"}},\"id\":\"412502c6-c940-440b-8c45-9cb3e292dace\",\"type\":\"Line\"},{\"attributes\":{\"below\":[{\"id\":\"1af2e534-cca0-46ed-870e-d3ddeea3303a\",\"type\":\"LinearAxis\"}],\"left\":[{\"id\":\"f6b9140b-ba7f-4de8-bf59-95054e0c4d1e\",\"type\":\"LinearAxis\"}],\"outline_line_color\":{\"value\":\"black\"},\"plot_height\":400,\"renderers\":[{\"id\":\"1af2e534-cca0-46ed-870e-d3ddeea3303a\",\"type\":\"LinearAxis\"},{\"id\":\"afd7e900-849f-411a-89f0-6c4174c7b8ad\",\"type\":\"Grid\"},{\"id\":\"f6b9140b-ba7f-4de8-bf59-95054e0c4d1e\",\"type\":\"LinearAxis\"},{\"id\":\"85bf6565-3e0c-40c2-9e08-d74ed0a70b4a\",\"type\":\"Grid\"},{\"id\":\"4e63fe56-6ed6-470e-8ce2-8c8b65b6707e\",\"type\":\"BoxAnnotation\"},{\"id\":\"36caece9-9d5e-4066-b669-4fa7f34bb665\",\"type\":\"Legend\"},{\"id\":\"00be9716-2d4b-4017-b20d-deabddfb057a\",\"type\":\"GlyphRenderer\"},{\"id\":\"17f89e9e-c849-43ab-9a59-68b455da3869\",\"type\":\"GlyphRenderer\"},{\"id\":\"6f3a2cd8-8dfc-46eb-8a49-2f91ab7ee317\",\"type\":\"GlyphRenderer\"},{\"id\":\"5bdecb4a-8b13-407e-8309-3452306bec8f\",\"type\":\"GlyphRenderer\"},{\"id\":\"059f0b3d-0497-4c4b-8c50-c35f07ad92ec\",\"type\":\"GlyphRenderer\"},{\"id\":\"fcc43c88-25b6-444a-b8ef-4df1c5d060db\",\"type\":\"GlyphRenderer\"},{\"id\":\"1ff385c1-16dc-4508-aab0-eb0b029b4741\",\"type\":\"GlyphRenderer\"},{\"id\":\"def155c6-b439-4ddc-8d55-a62503389f57\",\"type\":\"GlyphRenderer\"},{\"id\":\"ed55fdfb-74c8-4452-b0c9-59cb9665d06e\",\"type\":\"GlyphRenderer\"}],\"title\":{\"id\":\"3dd283cc-151d-4ad1-a793-633b0bdd7997\",\"type\":\"Title\"},\"toolbar\":{\"id\":\"e447c3ab-6ff5-4fa6-9aac-16970a2b4cda\",\"type\":\"Toolbar\"},\"x_range\":{\"id\":\"c75025a5-5bbd-4031-bffa-62906c9135fd\",\"type\":\"DataRange1d\"},\"x_scale\":{\"id\":\"cd0e9dc7-5c33-456f-bafa-c362a04734e5\",\"type\":\"LinearScale\"},\"y_range\":{\"id\":\"87547b0a-ded3-48a3-ba4f-19403b802c1a\",\"type\":\"DataRange1d\"},\"y_scale\":{\"id\":\"92d51c05-103f-448c-ac41-56241e0f809b\",\"type\":\"LinearScale\"}},\"id\":\"0cb12e02-0cb9-448b-96d4-e27a78c81d82\",\"subtype\":\"Figure\",\"type\":\"Plot\"},{\"attributes\":{},\"id\":\"305b01fa-7578-4aa6-b686-b9e72f564549\",\"type\":\"BasicTickFormatter\"},{\"attributes\":{\"data_source\":{\"id\":\"0ddb11ba-5ab9-4bdf-938d-c0e4bad7e2cb\",\"type\":\"ColumnDataSource\"},\"glyph\":{\"id\":\"4b28b54d-817e-49db-a4f1-07260874849e\",\"type\":\"Line\"},\"hover_glyph\":null,\"muted_glyph\":null,\"nonselection_glyph\":{\"id\":\"a18fa83f-de08-410e-b74c-65d23f29668c\",\"type\":\"Line\"},\"selection_glyph\":null,\"view\":{\"id\":\"13f9cd1f-2333-4b41-bd6b-ec6480c60db1\",\"type\":\"CDSView\"}},\"id\":\"00be9716-2d4b-4017-b20d-deabddfb057a\",\"type\":\"GlyphRenderer\"},{\"attributes\":{\"fill_color\":{\"value\":\"white\"},\"line_color\":{\"value\":\"navy\"},\"size\":{\"units\":\"screen\",\"value\":5},\"x\":{\"field\":\"x\"},\"y\":{\"field\":\"y\"}},\"id\":\"a66ff34c-6c8d-4d13-a11d-a5f79a547dbe\",\"type\":\"Circle\"},{\"attributes\":{\"fill_color\":{\"value\":\"white\"},\"line_color\":{\"value\":\"navy\"},\"size\":{\"units\":\"screen\",\"value\":5},\"x\":{\"field\":\"x\"},\"y\":{\"field\":\"y\"}},\"id\":\"562689c8-085d-4793-96a1-3275b6575be8\",\"type\":\"Circle\"},{\"attributes\":{\"fill_color\":{\"value\":\"white\"},\"line_color\":{\"value\":\"navy\"},\"size\":{\"units\":\"screen\",\"value\":5},\"x\":{\"field\":\"x\"},\"y\":{\"field\":\"y\"}},\"id\":\"b0fb00be-1347-43f9-9f67-d29068390fc0\",\"type\":\"Circle\"},{\"attributes\":{\"callback\":null,\"column_names\":[\"x\",\"y\"],\"data\":{\"x\":[-10,-3.473931188332412,-1.8889686876112561,-0.888968687611256,-0.014499569695115089,0.9855004303048849,1.9855004303048849,3.0018022426339854,6.999774561287003,9.00002817736235,10.00002817736235],\"y\":[0.8825799999999999,0.86703,0.8587100000000001,0.83352,0.79714,0.7219800000000001,0.60744,0.60059,0.14812,0.0979,0.08918]}},\"id\":\"2c2583d7-5d61-41a2-88ef-76a152bde533\",\"type\":\"ColumnDataSource\"},{\"attributes\":{\"dimension\":1,\"grid_line_alpha\":{\"value\":0.1},\"grid_line_dash\":[2,2],\"plot\":{\"id\":\"0cb12e02-0cb9-448b-96d4-e27a78c81d82\",\"subtype\":\"Figure\",\"type\":\"Plot\"},\"ticker\":{\"id\":\"a80b49ab-7fdb-49a6-b4b9-a6bfc418ce59\",\"type\":\"BasicTicker\"}},\"id\":\"85bf6565-3e0c-40c2-9e08-d74ed0a70b4a\",\"type\":\"Grid\"},{\"attributes\":{\"data_source\":{\"id\":\"90d32136-f689-48cf-ab06-d51ba3c296be\",\"type\":\"ColumnDataSource\"},\"glyph\":{\"id\":\"a66ff34c-6c8d-4d13-a11d-a5f79a547dbe\",\"type\":\"Circle\"},\"hover_glyph\":null,\"muted_glyph\":null,\"nonselection_glyph\":{\"id\":\"ec933850-ad18-48f3-b562-386070baac1a\",\"type\":\"Circle\"},\"selection_glyph\":null,\"view\":{\"id\":\"31f416ce-caeb-4d32-93a6-f831d74a6e74\",\"type\":\"CDSView\"}},\"id\":\"fcc43c88-25b6-444a-b8ef-4df1c5d060db\",\"type\":\"GlyphRenderer\"},{\"attributes\":{\"line_alpha\":{\"value\":0.1},\"line_color\":{\"value\":\"#1f77b4\"},\"line_dash\":[4,4],\"x\":{\"field\":\"x\"},\"y\":{\"field\":\"y\"}},\"id\":\"aaaf1393-9f4f-4a67-952a-b1551fb32a39\",\"type\":\"Line\"},{\"attributes\":{\"data_source\":{\"id\":\"2c2583d7-5d61-41a2-88ef-76a152bde533\",\"type\":\"ColumnDataSource\"},\"glyph\":{\"id\":\"412502c6-c940-440b-8c45-9cb3e292dace\",\"type\":\"Line\"},\"hover_glyph\":null,\"muted_glyph\":null,\"nonselection_glyph\":{\"id\":\"49373ee8-3667-4b6a-bc1b-db08f4c4f53b\",\"type\":\"Line\"},\"selection_glyph\":null,\"view\":{\"id\":\"0cfb0085-4b6f-43a8-bb68-c47e95fbee6d\",\"type\":\"CDSView\"}},\"id\":\"1ff385c1-16dc-4508-aab0-eb0b029b4741\",\"type\":\"GlyphRenderer\"},{\"attributes\":{\"callback\":null,\"column_names\":[\"x\",\"y\"],\"data\":{\"x\":[-10,-3.0588936890535687,-2.0,-1.0,0.0,1.0,2.0,3.0,7.0,9.0,10.0],\"y\":{\"__ndarray__\":\"jBU1mIbhxz9qh78ma9THP+Oqsu+K4Mc/5+PaUDHOxz/+8V61MuHHP8djBirj38c/4iNiSiTRxz/HYwYq49/HPzlAMEeP38c/hs5r7BLVxz9hjh6/t+nHPw==\",\"dtype\":\"float64\",\"shape\":[11]}}},\"id\":\"0ddb11ba-5ab9-4bdf-938d-c0e4bad7e2cb\",\"type\":\"ColumnDataSource\"},{\"attributes\":{\"overlay\":{\"id\":\"4e63fe56-6ed6-470e-8ce2-8c8b65b6707e\",\"type\":\"BoxAnnotation\"}},\"id\":\"32aaf194-95b2-4d76-8fb1-67ee0c772ccb\",\"type\":\"BoxZoomTool\"},{\"attributes\":{\"fill_alpha\":{\"value\":0.1},\"fill_color\":{\"value\":\"#1f77b4\"},\"line_alpha\":{\"value\":0.1},\"line_color\":{\"value\":\"#1f77b4\"},\"size\":{\"units\":\"screen\",\"value\":5},\"x\":{\"field\":\"x\"},\"y\":{\"field\":\"y\"}},\"id\":\"e2e476ab-8aed-4846-be4f-9cb10a095a8f\",\"type\":\"Circle\"},{\"attributes\":{\"line_color\":{\"value\":\"red\"},\"x\":{\"field\":\"x\"},\"y\":{\"field\":\"y\"}},\"id\":\"d83006e9-b4d1-48bf-85d7-9af5aa3605a9\",\"type\":\"Line\"},{\"attributes\":{},\"id\":\"f3ac7eb6-b84e-4b01-b7d7-ad7d6d28a04d\",\"type\":\"ResetTool\"},{\"attributes\":{\"bottom_units\":\"screen\",\"fill_alpha\":{\"value\":0.5},\"fill_color\":{\"value\":\"lightgrey\"},\"left_units\":\"screen\",\"level\":\"overlay\",\"line_alpha\":{\"value\":1.0},\"line_color\":{\"value\":\"black\"},\"line_dash\":[4,4],\"line_width\":{\"value\":2},\"plot\":null,\"render_mode\":\"css\",\"right_units\":\"screen\",\"top_units\":\"screen\"},\"id\":\"4e63fe56-6ed6-470e-8ce2-8c8b65b6707e\",\"type\":\"BoxAnnotation\"},{\"attributes\":{\"data_source\":{\"id\":\"8449d02c-245c-4b2d-ba2b-f303e056ccf9\",\"type\":\"ColumnDataSource\"},\"glyph\":{\"id\":\"562689c8-085d-4793-96a1-3275b6575be8\",\"type\":\"Circle\"},\"hover_glyph\":null,\"muted_glyph\":null,\"nonselection_glyph\":{\"id\":\"2003c26f-9877-4fa0-919a-03a5505c5ba9\",\"type\":\"Circle\"},\"selection_glyph\":null,\"view\":{\"id\":\"ecd4de82-fbc6-439a-8186-963122c522eb\",\"type\":\"CDSView\"}},\"id\":\"5bdecb4a-8b13-407e-8309-3452306bec8f\",\"type\":\"GlyphRenderer\"},{\"attributes\":{},\"id\":\"0c5bba7d-58f9-4aa1-9b97-52fa8011a05e\",\"type\":\"WheelZoomTool\"},{\"attributes\":{},\"id\":\"111a44f5-660a-4989-a077-3190e05bad73\",\"type\":\"HelpTool\"},{\"attributes\":{},\"id\":\"cd0e9dc7-5c33-456f-bafa-c362a04734e5\",\"type\":\"LinearScale\"},{\"attributes\":{\"line_alpha\":{\"value\":0.1},\"line_color\":{\"value\":\"#1f77b4\"},\"line_dash\":[15,2],\"x\":{\"field\":\"x\"},\"y\":{\"field\":\"y\"}},\"id\":\"b81de532-e42c-4ff0-9e3f-d8f1f387487d\",\"type\":\"Line\"},{\"attributes\":{\"data_source\":{\"id\":\"73d5f83e-eb00-44e8-a5b1-7d4a833872c2\",\"type\":\"ColumnDataSource\"},\"glyph\":{\"id\":\"b540543c-4ac1-43c4-a772-1e83b38776bf\",\"type\":\"Circle\"},\"hover_glyph\":null,\"muted_glyph\":null,\"nonselection_glyph\":{\"id\":\"e2e476ab-8aed-4846-be4f-9cb10a095a8f\",\"type\":\"Circle\"},\"selection_glyph\":null,\"view\":{\"id\":\"61d1e2fb-eb32-4bdb-b1d7-6c611c842a23\",\"type\":\"CDSView\"}},\"id\":\"def155c6-b439-4ddc-8d55-a62503389f57\",\"type\":\"GlyphRenderer\"},{\"attributes\":{\"callback\":null,\"column_names\":[\"x\",\"y\"],\"data\":{\"x\":[-10,-3.0588936890535687,-2.0588936890535687,-1.0588936890535685,0.02856915219677092,0.9855004303048849,2.007195501404204,2.996388746447621,6.999774561287003,8.999943643624247,10.00002817736235],\"y\":{\"__ndarray__\":\"+z+H+fIC6z+9y0V8J2bqPzVeukkMAuo/9ihcj8L16D9uL2mM1lHnP+krSDMWTeQ/lZ9U+3Q84z/MZ3ke3J3fP/eSxmgdVb0/9+l4zEBltD/kiLX4FACzPw==\",\"dtype\":\"float64\",\"shape\":[11]}}},\"id\":\"90d32136-f689-48cf-ab06-d51ba3c296be\",\"type\":\"ColumnDataSource\"},{\"attributes\":{\"fill_alpha\":{\"value\":0.1},\"fill_color\":{\"value\":\"#1f77b4\"},\"line_alpha\":{\"value\":0.1},\"line_color\":{\"value\":\"#1f77b4\"},\"size\":{\"units\":\"screen\",\"value\":5},\"x\":{\"field\":\"x\"},\"y\":{\"field\":\"y\"}},\"id\":\"ec933850-ad18-48f3-b562-386070baac1a\",\"type\":\"Circle\"},{\"attributes\":{},\"id\":\"92d51c05-103f-448c-ac41-56241e0f809b\",\"type\":\"LinearScale\"},{\"attributes\":{\"source\":{\"id\":\"ea9ee9c8-1df0-4aac-8313-2ed48d0bae18\",\"type\":\"ColumnDataSource\"}},\"id\":\"3f4d6272-9c3f-4285-9360-b8ff8dec3de4\",\"type\":\"CDSView\"},{\"attributes\":{},\"id\":\"48d2cbc1-f442-4880-9f31-ec3dc40bfd8a\",\"type\":\"SaveTool\"},{\"attributes\":{\"source\":{\"id\":\"0ddb11ba-5ab9-4bdf-938d-c0e4bad7e2cb\",\"type\":\"ColumnDataSource\"}},\"id\":\"13f9cd1f-2333-4b41-bd6b-ec6480c60db1\",\"type\":\"CDSView\"},{\"attributes\":{\"items\":[{\"id\":\"b7fe6c2c-ba49-4ed7-8047-22a003861e35\",\"type\":\"LegendItem\"},{\"id\":\"df4859ca-251a-4a3f-a973-7aefdb8acb92\",\"type\":\"LegendItem\"},{\"id\":\"7d8cd226-5ba0-4ce5-ae5a-3f2193858497\",\"type\":\"LegendItem\"},{\"id\":\"5b2bf4df-8152-4238-b7aa-de2e470b13a6\",\"type\":\"LegendItem\"},{\"id\":\"69405110-4445-436a-bac6-bbba9f048286\",\"type\":\"LegendItem\"}],\"label_text_color\":{\"value\":\"black\"},\"plot\":{\"id\":\"0cb12e02-0cb9-448b-96d4-e27a78c81d82\",\"subtype\":\"Figure\",\"type\":\"Plot\"}},\"id\":\"36caece9-9d5e-4066-b669-4fa7f34bb665\",\"type\":\"Legend\"},{\"attributes\":{\"line_color\":{\"value\":\"navy\"},\"line_dash\":[15,2],\"x\":{\"field\":\"x\"},\"y\":{\"field\":\"y\"}},\"id\":\"f8848fe8-66b6-4b7c-b3c8-c6e9ab1e84d7\",\"type\":\"Line\"},{\"attributes\":{\"callback\":null,\"column_names\":[\"x\",\"y\"],\"data\":{\"x\":[-10,-3.0588936890535687,-2.0588936890535687,-1.0588936890535685,0.0,1.0,2.0,3.0,7.0,9.0,10.0],\"y\":{\"__ndarray__\":\"E36pnzcV6D8nMQisHFrnP7dFmQ0yyeY/WFaalIJu5T/tEtVbA1vjP+NrzywJUOM/NlmjHqLR4T8xmSoYldTZPwDGM2jon7g/EfxvJTs2sj8VjErqBDSxPw==\",\"dtype\":\"float64\",\"shape\":[11]}}},\"id\":\"8449d02c-245c-4b2d-ba2b-f303e056ccf9\",\"type\":\"ColumnDataSource\"},{\"attributes\":{\"label\":{\"value\":\"constraint\"},\"renderers\":[{\"id\":\"ed55fdfb-74c8-4452-b0c9-59cb9665d06e\",\"type\":\"GlyphRenderer\"}]},\"id\":\"69405110-4445-436a-bac6-bbba9f048286\",\"type\":\"LegendItem\"},{\"attributes\":{\"data_source\":{\"id\":\"ea9ee9c8-1df0-4aac-8313-2ed48d0bae18\",\"type\":\"ColumnDataSource\"},\"glyph\":{\"id\":\"ad4618f8-ae49-473f-971b-41504e638496\",\"type\":\"Line\"},\"hover_glyph\":null,\"muted_glyph\":null,\"nonselection_glyph\":{\"id\":\"aaaf1393-9f4f-4a67-952a-b1551fb32a39\",\"type\":\"Line\"},\"selection_glyph\":null,\"view\":{\"id\":\"3f4d6272-9c3f-4285-9360-b8ff8dec3de4\",\"type\":\"CDSView\"}},\"id\":\"059f0b3d-0497-4c4b-8c50-c35f07ad92ec\",\"type\":\"GlyphRenderer\"},{\"attributes\":{\"label\":{\"value\":\"Small cell load = 0.05\"},\"renderers\":[{\"id\":\"00be9716-2d4b-4017-b20d-deabddfb057a\",\"type\":\"GlyphRenderer\"}]},\"id\":\"b7fe6c2c-ba49-4ed7-8047-22a003861e35\",\"type\":\"LegendItem\"},{\"attributes\":{\"source\":{\"id\":\"73d5f83e-eb00-44e8-a5b1-7d4a833872c2\",\"type\":\"ColumnDataSource\"}},\"id\":\"61d1e2fb-eb32-4bdb-b1d7-6c611c842a23\",\"type\":\"CDSView\"},{\"attributes\":{\"callback\":null},\"id\":\"c75025a5-5bbd-4031-bffa-62906c9135fd\",\"type\":\"DataRange1d\"},{\"attributes\":{\"fill_alpha\":{\"value\":0.1},\"fill_color\":{\"value\":\"#1f77b4\"},\"line_alpha\":{\"value\":0.1},\"line_color\":{\"value\":\"#1f77b4\"},\"size\":{\"units\":\"screen\",\"value\":5},\"x\":{\"field\":\"x\"},\"y\":{\"field\":\"y\"}},\"id\":\"bee895d1-e1b9-4be6-9eee-0a8abc655382\",\"type\":\"Circle\"},{\"attributes\":{\"callback\":null,\"column_names\":[\"x\",\"y\"],\"data\":{\"x\":[-10,-3.0588936890535687,-2.0588936890535687,-1.0588936890535685,0.02856915219677092,0.9855004303048849,2.007195501404204,2.996388746447621,6.999774561287003,8.999943643624247,10.00002817736235],\"y\":{\"__ndarray__\":\"+z+H+fIC6z+9y0V8J2bqPzVeukkMAuo/9ihcj8L16D9uL2mM1lHnP+krSDMWTeQ/lZ9U+3Q84z/MZ3ke3J3fP/eSxmgdVb0/9+l4zEBltD/kiLX4FACzPw==\",\"dtype\":\"float64\",\"shape\":[11]}}},\"id\":\"ea9ee9c8-1df0-4aac-8313-2ed48d0bae18\",\"type\":\"ColumnDataSource\"},{\"attributes\":{},\"id\":\"a80b49ab-7fdb-49a6-b4b9-a6bfc418ce59\",\"type\":\"BasicTicker\"},{\"attributes\":{\"source\":{\"id\":\"b94dad6e-c7af-4979-afa5-844fdc8b83d9\",\"type\":\"ColumnDataSource\"}},\"id\":\"fd9ae670-36f8-4ead-89f7-8db29d996aa9\",\"type\":\"CDSView\"},{\"attributes\":{\"source\":{\"id\":\"2c2583d7-5d61-41a2-88ef-76a152bde533\",\"type\":\"ColumnDataSource\"}},\"id\":\"0cfb0085-4b6f-43a8-bb68-c47e95fbee6d\",\"type\":\"CDSView\"},{\"attributes\":{\"axis_label\":\"Mean response time\",\"axis_label_text_color\":{\"value\":\"black\"},\"axis_label_text_font_size\":{\"value\":\"12pt\"},\"formatter\":{\"id\":\"305b01fa-7578-4aa6-b686-b9e72f564549\",\"type\":\"BasicTickFormatter\"},\"major_label_text_color\":{\"value\":\"black\"},\"major_label_text_font_size\":{\"value\":\"10pt\"},\"plot\":{\"id\":\"0cb12e02-0cb9-448b-96d4-e27a78c81d82\",\"subtype\":\"Figure\",\"type\":\"Plot\"},\"ticker\":{\"id\":\"a80b49ab-7fdb-49a6-b4b9-a6bfc418ce59\",\"type\":\"BasicTicker\"}},\"id\":\"f6b9140b-ba7f-4de8-bf59-95054e0c4d1e\",\"type\":\"LinearAxis\"},{\"attributes\":{\"plot\":null,\"text\":\"\"},\"id\":\"3dd283cc-151d-4ad1-a793-633b0bdd7997\",\"type\":\"Title\"},{\"attributes\":{\"active_drag\":\"auto\",\"active_inspect\":\"auto\",\"active_scroll\":\"auto\",\"active_tap\":\"auto\",\"tools\":[{\"id\":\"af9a0b37-7949-4e67-9682-963a293674c1\",\"type\":\"PanTool\"},{\"id\":\"0c5bba7d-58f9-4aa1-9b97-52fa8011a05e\",\"type\":\"WheelZoomTool\"},{\"id\":\"32aaf194-95b2-4d76-8fb1-67ee0c772ccb\",\"type\":\"BoxZoomTool\"},{\"id\":\"48d2cbc1-f442-4880-9f31-ec3dc40bfd8a\",\"type\":\"SaveTool\"},{\"id\":\"f3ac7eb6-b84e-4b01-b7d7-ad7d6d28a04d\",\"type\":\"ResetTool\"},{\"id\":\"111a44f5-660a-4989-a077-3190e05bad73\",\"type\":\"HelpTool\"}]},\"id\":\"e447c3ab-6ff5-4fa6-9aac-16970a2b4cda\",\"type\":\"Toolbar\"},{\"attributes\":{\"source\":{\"id\":\"90d32136-f689-48cf-ab06-d51ba3c296be\",\"type\":\"ColumnDataSource\"}},\"id\":\"31f416ce-caeb-4d32-93a6-f831d74a6e74\",\"type\":\"CDSView\"},{\"attributes\":{},\"id\":\"af9a0b37-7949-4e67-9682-963a293674c1\",\"type\":\"PanTool\"},{\"attributes\":{\"fill_alpha\":{\"value\":0.1},\"fill_color\":{\"value\":\"#1f77b4\"},\"line_alpha\":{\"value\":0.1},\"line_color\":{\"value\":\"#1f77b4\"},\"size\":{\"units\":\"screen\",\"value\":5},\"x\":{\"field\":\"x\"},\"y\":{\"field\":\"y\"}},\"id\":\"2003c26f-9877-4fa0-919a-03a5505c5ba9\",\"type\":\"Circle\"},{\"attributes\":{\"callback\":null,\"column_names\":[\"x\",\"y\"],\"data\":{\"x\":[-10,0,1,2,10],\"y\":{\"__ndarray__\":\"MzMzMzMz4z8zMzMzMzPjPzMzMzMzM+M/MzMzMzMz4z8zMzMzMzPjPw==\",\"dtype\":\"float64\",\"shape\":[5]}}},\"id\":\"b94dad6e-c7af-4979-afa5-844fdc8b83d9\",\"type\":\"ColumnDataSource\"},{\"attributes\":{\"line_alpha\":{\"value\":0.1},\"line_color\":{\"value\":\"#1f77b4\"},\"x\":{\"field\":\"x\"},\"y\":{\"field\":\"y\"}},\"id\":\"06843500-be53-410b-8ebf-cbc9fb9ccf41\",\"type\":\"Line\"},{\"attributes\":{\"label\":{\"value\":\"Small cell load = 0.5\"},\"renderers\":[{\"id\":\"1ff385c1-16dc-4508-aab0-eb0b029b4741\",\"type\":\"GlyphRenderer\"}]},\"id\":\"5b2bf4df-8152-4238-b7aa-de2e470b13a6\",\"type\":\"LegendItem\"},{\"attributes\":{\"label\":{\"value\":\"Small cell load = 0.32\"},\"renderers\":[{\"id\":\"059f0b3d-0497-4c4b-8c50-c35f07ad92ec\",\"type\":\"GlyphRenderer\"}]},\"id\":\"7d8cd226-5ba0-4ce5-ae5a-3f2193858497\",\"type\":\"LegendItem\"},{\"attributes\":{\"source\":{\"id\":\"8c561e33-5bb8-4465-b72c-330da1098cd0\",\"type\":\"ColumnDataSource\"}},\"id\":\"48cfa2fa-7683-4a5e-acf1-55f410c840d1\",\"type\":\"CDSView\"},{\"attributes\":{\"data_source\":{\"id\":\"8c561e33-5bb8-4465-b72c-330da1098cd0\",\"type\":\"ColumnDataSource\"},\"glyph\":{\"id\":\"f8848fe8-66b6-4b7c-b3c8-c6e9ab1e84d7\",\"type\":\"Line\"},\"hover_glyph\":null,\"muted_glyph\":null,\"nonselection_glyph\":{\"id\":\"b81de532-e42c-4ff0-9e3f-d8f1f387487d\",\"type\":\"Line\"},\"selection_glyph\":null,\"view\":{\"id\":\"48cfa2fa-7683-4a5e-acf1-55f410c840d1\",\"type\":\"CDSView\"}},\"id\":\"6f3a2cd8-8dfc-46eb-8a49-2f91ab7ee317\",\"type\":\"GlyphRenderer\"},{\"attributes\":{\"source\":{\"id\":\"8449d02c-245c-4b2d-ba2b-f303e056ccf9\",\"type\":\"ColumnDataSource\"}},\"id\":\"ecd4de82-fbc6-439a-8186-963122c522eb\",\"type\":\"CDSView\"},{\"attributes\":{\"line_color\":{\"value\":\"navy\"},\"x\":{\"field\":\"x\"},\"y\":{\"field\":\"y\"}},\"id\":\"4b28b54d-817e-49db-a4f1-07260874849e\",\"type\":\"Line\"},{\"attributes\":{\"fill_color\":{\"value\":\"white\"},\"line_color\":{\"value\":\"navy\"},\"size\":{\"units\":\"screen\",\"value\":5},\"x\":{\"field\":\"x\"},\"y\":{\"field\":\"y\"}},\"id\":\"b540543c-4ac1-43c4-a772-1e83b38776bf\",\"type\":\"Circle\"},{\"attributes\":{\"grid_line_alpha\":{\"value\":0.1},\"grid_line_dash\":[2,2],\"plot\":{\"id\":\"0cb12e02-0cb9-448b-96d4-e27a78c81d82\",\"subtype\":\"Figure\",\"type\":\"Plot\"},\"ticker\":{\"id\":\"2c41727b-a449-45b4-bbaa-6ddd22d62690\",\"type\":\"BasicTicker\"}},\"id\":\"afd7e900-849f-411a-89f0-6c4174c7b8ad\",\"type\":\"Grid\"},{\"attributes\":{\"line_color\":{\"value\":\"navy\"},\"line_dash\":[4,4],\"x\":{\"field\":\"x\"},\"y\":{\"field\":\"y\"}},\"id\":\"ad4618f8-ae49-473f-971b-41504e638496\",\"type\":\"Line\"},{\"attributes\":{},\"id\":\"76f117a2-58cf-449f-82b6-dfff95b2e778\",\"type\":\"BasicTickFormatter\"},{\"attributes\":{\"data_source\":{\"id\":\"b94dad6e-c7af-4979-afa5-844fdc8b83d9\",\"type\":\"ColumnDataSource\"},\"glyph\":{\"id\":\"d83006e9-b4d1-48bf-85d7-9af5aa3605a9\",\"type\":\"Line\"},\"hover_glyph\":null,\"muted_glyph\":null,\"nonselection_glyph\":{\"id\":\"06843500-be53-410b-8ebf-cbc9fb9ccf41\",\"type\":\"Line\"},\"selection_glyph\":null,\"view\":{\"id\":\"fd9ae670-36f8-4ead-89f7-8db29d996aa9\",\"type\":\"CDSView\"}},\"id\":\"ed55fdfb-74c8-4452-b0c9-59cb9665d06e\",\"type\":\"GlyphRenderer\"},{\"attributes\":{\"callback\":null,\"column_names\":[\"x\",\"y\"],\"data\":{\"x\":[-10,-3.473931188332412,-1.8889686876112561,-0.888968687611256,-0.014499569695115089,0.9855004303048849,1.9855004303048849,3.0018022426339854,6.999774561287003,9.00002817736235,10.00002817736235],\"y\":{\"__ndarray__\":\"WFGDaRg+7D8C1NSytb7rP+7w12SNeus/QPuRIjKs6j+Kq8q+K4LpP+62C811Guc/HAjJAiZw4z+cvwmFCDjjPy8X8Z2Y9cI/OUVHcvkPuT9NEHUfgNS2Pw==\",\"dtype\":\"float64\",\"shape\":[11]}}},\"id\":\"73d5f83e-eb00-44e8-a5b1-7d4a833872c2\",\"type\":\"ColumnDataSource\"},{\"attributes\":{\"callback\":null,\"column_names\":[\"x\",\"y\"],\"data\":{\"x\":[-10,-3.0588936890535687,-2.0588936890535687,-1.0588936890535685,0.0,1.0,2.0,3.0,7.0,9.0,10.0],\"y\":{\"__ndarray__\":\"E36pnzcV6D8nMQisHFrnP7dFmQ0yyeY/WFaalIJu5T/tEtVbA1vjP+NrzywJUOM/NlmjHqLR4T8xmSoYldTZPwDGM2jon7g/EfxvJTs2sj8VjErqBDSxPw==\",\"dtype\":\"float64\",\"shape\":[11]}}},\"id\":\"8c561e33-5bb8-4465-b72c-330da1098cd0\",\"type\":\"ColumnDataSource\"},{\"attributes\":{\"axis_label\":\"idle time in logscale (relative to avg. inter-arrival time)\",\"axis_label_text_color\":{\"value\":\"black\"},\"axis_label_text_font_size\":{\"value\":\"12pt\"},\"formatter\":{\"id\":\"76f117a2-58cf-449f-82b6-dfff95b2e778\",\"type\":\"BasicTickFormatter\"},\"major_label_text_color\":{\"value\":\"black\"},\"major_label_text_font_size\":{\"value\":\"10pt\"},\"plot\":{\"id\":\"0cb12e02-0cb9-448b-96d4-e27a78c81d82\",\"subtype\":\"Figure\",\"type\":\"Plot\"},\"ticker\":{\"id\":\"2c41727b-a449-45b4-bbaa-6ddd22d62690\",\"type\":\"BasicTicker\"}},\"id\":\"1af2e534-cca0-46ed-870e-d3ddeea3303a\",\"type\":\"LinearAxis\"},{\"attributes\":{},\"id\":\"2c41727b-a449-45b4-bbaa-6ddd22d62690\",\"type\":\"BasicTicker\"},{\"attributes\":{\"line_alpha\":{\"value\":0.1},\"line_color\":{\"value\":\"#1f77b4\"},\"x\":{\"field\":\"x\"},\"y\":{\"field\":\"y\"}},\"id\":\"a18fa83f-de08-410e-b74c-65d23f29668c\",\"type\":\"Line\"},{\"attributes\":{\"line_alpha\":{\"value\":0.1},\"line_color\":{\"value\":\"#1f77b4\"},\"line_dash\":[1,4],\"x\":{\"field\":\"x\"},\"y\":{\"field\":\"y\"}},\"id\":\"49373ee8-3667-4b6a-bc1b-db08f4c4f53b\",\"type\":\"Line\"},{\"attributes\":{\"label\":{\"value\":\"Small cell load = 0.2\"},\"renderers\":[{\"id\":\"6f3a2cd8-8dfc-46eb-8a49-2f91ab7ee317\",\"type\":\"GlyphRenderer\"}]},\"id\":\"df4859ca-251a-4a3f-a973-7aefdb8acb92\",\"type\":\"LegendItem\"},{\"attributes\":{\"data_source\":{\"id\":\"389ddbfd-00a7-4885-87aa-08b6e70353eb\",\"type\":\"ColumnDataSource\"},\"glyph\":{\"id\":\"b0fb00be-1347-43f9-9f67-d29068390fc0\",\"type\":\"Circle\"},\"hover_glyph\":null,\"muted_glyph\":null,\"nonselection_glyph\":{\"id\":\"bee895d1-e1b9-4be6-9eee-0a8abc655382\",\"type\":\"Circle\"},\"selection_glyph\":null,\"view\":{\"id\":\"5963e5a6-f60b-4f94-99c6-d00a4b20cf85\",\"type\":\"CDSView\"}},\"id\":\"17f89e9e-c849-43ab-9a59-68b455da3869\",\"type\":\"GlyphRenderer\"},{\"attributes\":{\"callback\":null},\"id\":\"87547b0a-ded3-48a3-ba4f-19403b802c1a\",\"type\":\"DataRange1d\"},{\"attributes\":{\"source\":{\"id\":\"389ddbfd-00a7-4885-87aa-08b6e70353eb\",\"type\":\"ColumnDataSource\"}},\"id\":\"5963e5a6-f60b-4f94-99c6-d00a4b20cf85\",\"type\":\"CDSView\"}],\"root_ids\":[\"0cb12e02-0cb9-448b-96d4-e27a78c81d82\"]},\"title\":\"Bokeh Application\",\"version\":\"0.12.10\"}};\n",
       "    var render_items = [{\"docid\":\"5f6707c2-0831-47a8-850f-b41e8b69e2a4\",\"elementid\":\"923dfd8f-de0f-4f02-9ed0-49964c75e0f6\",\"modelid\":\"0cb12e02-0cb9-448b-96d4-e27a78c81d82\"}];\n",
       "\n",
       "    root.Bokeh.embed.embed_items(docs_json, render_items);\n",
       "  }\n",
       "\n",
       "  if (root.Bokeh !== undefined) {\n",
       "    embed_document(root);\n",
       "  } else {\n",
       "    var attempts = 0;\n",
       "    var timer = setInterval(function(root) {\n",
       "      if (root.Bokeh !== undefined) {\n",
       "        embed_document(root);\n",
       "        clearInterval(timer);\n",
       "      }\n",
       "      attempts++;\n",
       "      if (attempts > 100) {\n",
       "        console.log(\"Bokeh: ERROR: Unable to embed document because BokehJS library is missing\")\n",
       "        clearInterval(timer);\n",
       "      }\n",
       "    }, 10, root)\n",
       "  }\n",
       "})(window);"
      ],
      "application/vnd.bokehjs_exec.v0+json": ""
     },
     "metadata": {
      "application/vnd.bokehjs_exec.v0+json": {
       "id": "0cb12e02-0cb9-448b-96d4-e27a78c81d82"
      }
     },
     "output_type": "display_data"
    }
   ],
   "source": [
    "p0 = figure(plot_width=600, plot_height=400)\n",
    "\n",
    "#source = ColumnDataSource(df.loc[0:27])\n",
    "\n",
    "p0.line(logscale(1), df[df.small_arrival==1].avg_resp_time, line_color='navy',legend='Small cell load = 0.05')\n",
    "p0.circle(logscale(1), df[df.small_arrival==1].avg_resp_time, color='white', line_color='navy',size=5)\n",
    "p0.line(logscale(4), df[df.small_arrival==4].avg_resp_time, line_color='navy',line_dash=\"15 2\",legend='Small cell load = 0.2')\n",
    "p0.circle(logscale(4), df[df.small_arrival==4].avg_resp_time, color='white', line_color='navy',size=5)\n",
    "\n",
    "p0.line(logscale(6), df[df.small_arrival==6].avg_resp_time, line_color='navy',line_dash=\"4 4\",legend='Small cell load = 0.32')\n",
    "p0.circle(logscale(6), df[df.small_arrival==6].avg_resp_time, color='white', line_color='navy',size=5)\n",
    "\n",
    "p0.line(logscale(9), df[df.small_arrival==9].avg_resp_time.tolist(), line_color='navy',line_dash=\"1 4\",legend='Small cell load = 0.5')\n",
    "p0.circle(logscale(9), df[df.small_arrival==9].avg_resp_time, color='white', line_color='navy',size=5)\n",
    "\n",
    "\n",
    "\n",
    "p0.line([-10, 0,1,2,10],0.6*np.ones(5),line_color='red',legend='constraint')\n",
    "\n",
    "p0.grid.grid_line_dash = [2,2]\n",
    "p0.grid.grid_line_alpha = 0.1\n",
    "\n",
    "p0.xaxis.axis_label = 'idle time in logscale (relative to avg. inter-arrival time)'\n",
    "p0.yaxis.axis_label = 'Mean response time'\n",
    "\n",
    "p0.xaxis.axis_label_text_color = 'black'\n",
    "p0.xaxis.major_label_text_color = 'black'\n",
    "p0.yaxis.axis_label_text_color = 'black'\n",
    "p0.yaxis.major_label_text_color = 'black'\n",
    "p0.legend.label_text_color = 'black'\n",
    "\n",
    "p0.legend.location  = 'top_right'\n",
    "p0.outline_line_color = 'black'\n",
    "\n",
    "p0.axis.axis_label_text_font_size = '12pt'\n",
    "p0.axis.major_label_text_font_size = '10pt'\n",
    "\n",
    "show(p0)"
   ]
  },
  {
   "cell_type": "code",
   "execution_count": 22,
   "metadata": {},
   "outputs": [
    {
     "data": {
      "text/html": [
       "\n",
       "<div class=\"bk-root\">\n",
       "    <div class=\"bk-plotdiv\" id=\"4678b8b5-7613-44e0-9422-6b230f22425e\"></div>\n",
       "</div>"
      ]
     },
     "metadata": {},
     "output_type": "display_data"
    },
    {
     "data": {
      "application/javascript": [
       "(function(root) {\n",
       "  function embed_document(root) {\n",
       "    var docs_json = {\"44e937fa-c37c-4f54-a89d-a2ce10059a1f\":{\"roots\":{\"references\":[{\"attributes\":{\"data_source\":{\"id\":\"396d464a-97ff-47c4-acce-fb49d5f7d967\",\"type\":\"ColumnDataSource\"},\"glyph\":{\"id\":\"35b55d23-1336-4391-9ec6-eea5dfc4ec2b\",\"type\":\"Circle\"},\"hover_glyph\":null,\"muted_glyph\":null,\"nonselection_glyph\":{\"id\":\"269f0543-cf6d-40f0-9b2e-5e117280c687\",\"type\":\"Circle\"},\"selection_glyph\":null,\"view\":{\"id\":\"5781a2ab-3076-45e8-aada-2324ae03fdad\",\"type\":\"CDSView\"}},\"id\":\"d42e2893-bc63-442b-9ee0-07f5ae8f5b95\",\"type\":\"GlyphRenderer\"},{\"attributes\":{\"line_color\":{\"value\":\"navy\"},\"x\":{\"field\":\"x\"},\"y\":{\"field\":\"y\"}},\"id\":\"c2bc1263-7bd4-4b4e-90c4-c11017bc90da\",\"type\":\"Line\"},{\"attributes\":{\"fill_color\":{\"value\":\"white\"},\"line_color\":{\"value\":\"navy\"},\"size\":{\"units\":\"screen\",\"value\":5},\"x\":{\"field\":\"x\"},\"y\":{\"field\":\"y\"}},\"id\":\"036322fe-9fb2-46b3-8080-dbec9e4b349c\",\"type\":\"Circle\"},{\"attributes\":{\"plot\":null,\"text\":\"\"},\"id\":\"c6f2e79d-c6cb-416d-80b9-eb81197a22e1\",\"type\":\"Title\"},{\"attributes\":{\"dimension\":1,\"grid_line_alpha\":{\"value\":0.1},\"grid_line_dash\":[2,2],\"plot\":{\"id\":\"fc7f9528-bd18-4515-be9a-8b5fd8e05fc8\",\"subtype\":\"Figure\",\"type\":\"Plot\"},\"ticker\":{\"id\":\"c46b1e6a-a346-4a46-9701-5b81d26b42f5\",\"type\":\"BasicTicker\"}},\"id\":\"9ad5ebcd-5014-4859-a0fc-c73c60360b75\",\"type\":\"Grid\"},{\"attributes\":{\"source\":{\"id\":\"a1f3f7c7-ac5d-4851-8dfd-df0868c4fed1\",\"type\":\"ColumnDataSource\"}},\"id\":\"bcffce45-ab74-4b87-926b-2046e38d01f1\",\"type\":\"CDSView\"},{\"attributes\":{\"callback\":null},\"id\":\"61b49dcf-b585-482b-aaac-329aea9f99a9\",\"type\":\"DataRange1d\"},{\"attributes\":{\"data_source\":{\"id\":\"7df5eb4b-3afa-436f-8550-9be9ac978e06\",\"type\":\"ColumnDataSource\"},\"glyph\":{\"id\":\"8f3147b5-8413-42c9-b8ed-81b7c5726aac\",\"type\":\"Circle\"},\"hover_glyph\":null,\"muted_glyph\":null,\"nonselection_glyph\":{\"id\":\"e245c8e2-3e0c-4240-838d-10130ae22bb0\",\"type\":\"Circle\"},\"selection_glyph\":null,\"view\":{\"id\":\"c1a89768-b189-4e88-95ba-cf38da568053\",\"type\":\"CDSView\"}},\"id\":\"3bd37679-dd13-43f9-b5dd-0dfc7b56cff1\",\"type\":\"GlyphRenderer\"},{\"attributes\":{\"callback\":null,\"column_names\":[\"x\",\"y\"],\"data\":{\"x\":[-10,-3.0588936890535687,-2.0588936890535687,-1.0588936890535685,0.0,1.0,2.0,3.0,7.0,9.0,10.0],\"y\":{\"__ndarray__\":\"CtejcD0FlEA9CtejcC2UQD0K16NwJJRArkfhehQjlEApXI/C9f6TQOF6FK5Hi5FAexSuR+GxkEAfhetRuJyQQHE9CtejcJBAUrgehetskEAK16NwPW2QQA==\",\"dtype\":\"float64\",\"shape\":[11]}}},\"id\":\"ef4365ed-d5c0-42a7-8992-29e83c939f2a\",\"type\":\"ColumnDataSource\"},{\"attributes\":{},\"id\":\"4db982f0-c6c8-409a-b9be-393235d6053d\",\"type\":\"BasicTicker\"},{\"attributes\":{\"source\":{\"id\":\"64764f5e-277a-4f12-9089-9041f5f61afa\",\"type\":\"ColumnDataSource\"}},\"id\":\"561fcfaf-68e4-46b4-b57f-7520f333b659\",\"type\":\"CDSView\"},{\"attributes\":{\"line_alpha\":{\"value\":0.1},\"line_color\":{\"value\":\"#1f77b4\"},\"line_dash\":[15,2],\"x\":{\"field\":\"x\"},\"y\":{\"field\":\"y\"}},\"id\":\"2b4bbaa2-c240-486c-9237-6185445ea334\",\"type\":\"Line\"},{\"attributes\":{\"fill_alpha\":{\"value\":0.1},\"fill_color\":{\"value\":\"#1f77b4\"},\"line_alpha\":{\"value\":0.1},\"line_color\":{\"value\":\"#1f77b4\"},\"size\":{\"units\":\"screen\",\"value\":5},\"x\":{\"field\":\"x\"},\"y\":{\"field\":\"y\"}},\"id\":\"eba6cd75-a8c4-4fd0-87b7-6e682f46af7b\",\"type\":\"Circle\"},{\"attributes\":{\"callback\":null,\"column_names\":[\"x\",\"y\"],\"data\":{\"x\":[-10,-3.0588936890535687,-2.0,-1.0,0.0,1.0,2.0,3.0,7.0,9.0,10.0],\"y\":{\"__ndarray__\":\"9ihcj8J1i0BmZmZmZnSLQLgehetRdItACtejcD10i0CamZmZmXWLQOF6FK5HdYtA7FG4HoVzi0AK16NwPXaLQKRwPQrXc4tAH4XrUbhyi0CkcD0K13WLQA==\",\"dtype\":\"float64\",\"shape\":[11]}}},\"id\":\"396d464a-97ff-47c4-acce-fb49d5f7d967\",\"type\":\"ColumnDataSource\"},{\"attributes\":{\"items\":[{\"id\":\"e446c3c9-a921-46b1-a9b7-1a46d32691be\",\"type\":\"LegendItem\"},{\"id\":\"7b695fac-76ba-4ab6-ac10-00086e4a5043\",\"type\":\"LegendItem\"},{\"id\":\"a06db11b-1376-436a-9552-e912005d62c4\",\"type\":\"LegendItem\"},{\"id\":\"f923c30d-2071-461d-8792-b48c61982492\",\"type\":\"LegendItem\"}],\"label_text_color\":{\"value\":\"black\"},\"plot\":{\"id\":\"fc7f9528-bd18-4515-be9a-8b5fd8e05fc8\",\"subtype\":\"Figure\",\"type\":\"Plot\"}},\"id\":\"1b054a1a-2779-44c8-943c-ed6559111d0e\",\"type\":\"Legend\"},{\"attributes\":{\"fill_alpha\":{\"value\":0.1},\"fill_color\":{\"value\":\"#1f77b4\"},\"line_alpha\":{\"value\":0.1},\"line_color\":{\"value\":\"#1f77b4\"},\"size\":{\"units\":\"screen\",\"value\":5},\"x\":{\"field\":\"x\"},\"y\":{\"field\":\"y\"}},\"id\":\"e245c8e2-3e0c-4240-838d-10130ae22bb0\",\"type\":\"Circle\"},{\"attributes\":{\"axis_label\":\"Mean power\",\"axis_label_text_color\":{\"value\":\"black\"},\"axis_label_text_font_size\":{\"value\":\"12pt\"},\"formatter\":{\"id\":\"a4fd4cdc-dd25-45c3-9d3d-3a0023bec729\",\"type\":\"BasicTickFormatter\"},\"major_label_text_color\":{\"value\":\"black\"},\"major_label_text_font_size\":{\"value\":\"10pt\"},\"plot\":{\"id\":\"fc7f9528-bd18-4515-be9a-8b5fd8e05fc8\",\"subtype\":\"Figure\",\"type\":\"Plot\"},\"ticker\":{\"id\":\"c46b1e6a-a346-4a46-9701-5b81d26b42f5\",\"type\":\"BasicTicker\"}},\"id\":\"3990c16c-dde4-402c-b1b4-32b0c1e868e0\",\"type\":\"LinearAxis\"},{\"attributes\":{},\"id\":\"a4fd4cdc-dd25-45c3-9d3d-3a0023bec729\",\"type\":\"BasicTickFormatter\"},{\"attributes\":{\"data_source\":{\"id\":\"ef4365ed-d5c0-42a7-8992-29e83c939f2a\",\"type\":\"ColumnDataSource\"},\"glyph\":{\"id\":\"fed3911b-8635-4ed0-938f-8750027010cc\",\"type\":\"Line\"},\"hover_glyph\":null,\"muted_glyph\":null,\"nonselection_glyph\":{\"id\":\"2b4bbaa2-c240-486c-9237-6185445ea334\",\"type\":\"Line\"},\"selection_glyph\":null,\"view\":{\"id\":\"d1ad7160-6e44-4a40-bddc-be1fac032a0c\",\"type\":\"CDSView\"}},\"id\":\"ed56308f-7f65-4135-87c9-a3ba7a35d64c\",\"type\":\"GlyphRenderer\"},{\"attributes\":{\"line_alpha\":{\"value\":0.1},\"line_color\":{\"value\":\"#1f77b4\"},\"line_dash\":[4,4],\"x\":{\"field\":\"x\"},\"y\":{\"field\":\"y\"}},\"id\":\"bfda8ba4-d574-4077-b4c5-9b7ed326edbd\",\"type\":\"Line\"},{\"attributes\":{\"callback\":null},\"id\":\"03dfdbe3-4104-4ecd-91da-fa753416f121\",\"type\":\"DataRange1d\"},{\"attributes\":{\"fill_color\":{\"value\":\"white\"},\"line_color\":{\"value\":\"navy\"},\"size\":{\"units\":\"screen\",\"value\":5},\"x\":{\"field\":\"x\"},\"y\":{\"field\":\"y\"}},\"id\":\"a4795db2-5dfc-45c0-a6e7-46151b2c7d05\",\"type\":\"Circle\"},{\"attributes\":{},\"id\":\"91f2177b-0deb-410d-abfc-3e379b72db33\",\"type\":\"SaveTool\"},{\"attributes\":{},\"id\":\"c46b1e6a-a346-4a46-9701-5b81d26b42f5\",\"type\":\"BasicTicker\"},{\"attributes\":{\"label\":{\"value\":\"Small cell load = 0.32\"},\"renderers\":[{\"id\":\"5e6d2a91-10eb-497e-b359-004fef65ef30\",\"type\":\"GlyphRenderer\"}]},\"id\":\"a06db11b-1376-436a-9552-e912005d62c4\",\"type\":\"LegendItem\"},{\"attributes\":{\"callback\":null,\"column_names\":[\"x\",\"y\"],\"data\":{\"x\":[-10,-3.0588936890535687,-2.0,-1.0,0.0,1.0,2.0,3.0,7.0,9.0,10.0],\"y\":{\"__ndarray__\":\"9ihcj8J1i0BmZmZmZnSLQLgehetRdItACtejcD10i0CamZmZmXWLQOF6FK5HdYtA7FG4HoVzi0AK16NwPXaLQKRwPQrXc4tAH4XrUbhyi0CkcD0K13WLQA==\",\"dtype\":\"float64\",\"shape\":[11]}}},\"id\":\"a5611f68-31c0-42eb-b43d-358d2571984a\",\"type\":\"ColumnDataSource\"},{\"attributes\":{\"source\":{\"id\":\"396d464a-97ff-47c4-acce-fb49d5f7d967\",\"type\":\"ColumnDataSource\"}},\"id\":\"5781a2ab-3076-45e8-aada-2324ae03fdad\",\"type\":\"CDSView\"},{\"attributes\":{\"grid_line_alpha\":{\"value\":0.1},\"grid_line_dash\":[2,2],\"plot\":{\"id\":\"fc7f9528-bd18-4515-be9a-8b5fd8e05fc8\",\"subtype\":\"Figure\",\"type\":\"Plot\"},\"ticker\":{\"id\":\"4db982f0-c6c8-409a-b9be-393235d6053d\",\"type\":\"BasicTicker\"}},\"id\":\"35b738b8-43c9-462d-b79e-eeb425e26a0f\",\"type\":\"Grid\"},{\"attributes\":{\"source\":{\"id\":\"ef4365ed-d5c0-42a7-8992-29e83c939f2a\",\"type\":\"ColumnDataSource\"}},\"id\":\"d1ad7160-6e44-4a40-bddc-be1fac032a0c\",\"type\":\"CDSView\"},{\"attributes\":{\"data_source\":{\"id\":\"a1f3f7c7-ac5d-4851-8dfd-df0868c4fed1\",\"type\":\"ColumnDataSource\"},\"glyph\":{\"id\":\"036322fe-9fb2-46b3-8080-dbec9e4b349c\",\"type\":\"Circle\"},\"hover_glyph\":null,\"muted_glyph\":null,\"nonselection_glyph\":{\"id\":\"eba6cd75-a8c4-4fd0-87b7-6e682f46af7b\",\"type\":\"Circle\"},\"selection_glyph\":null,\"view\":{\"id\":\"bcffce45-ab74-4b87-926b-2046e38d01f1\",\"type\":\"CDSView\"}},\"id\":\"b5169572-4e6f-42ee-b796-ab9b4892e881\",\"type\":\"GlyphRenderer\"},{\"attributes\":{\"label\":{\"value\":\"Small cell load = 0.2\"},\"renderers\":[{\"id\":\"ed56308f-7f65-4135-87c9-a3ba7a35d64c\",\"type\":\"GlyphRenderer\"}]},\"id\":\"7b695fac-76ba-4ab6-ac10-00086e4a5043\",\"type\":\"LegendItem\"},{\"attributes\":{\"active_drag\":\"auto\",\"active_inspect\":\"auto\",\"active_scroll\":\"auto\",\"active_tap\":\"auto\",\"tools\":[{\"id\":\"41a341af-9e79-4f05-8a81-ee694fbde185\",\"type\":\"PanTool\"},{\"id\":\"4c26ae05-b01e-484d-b4ad-be87102ba9d2\",\"type\":\"WheelZoomTool\"},{\"id\":\"59c71236-d8de-4d93-8060-ed280fac2eeb\",\"type\":\"BoxZoomTool\"},{\"id\":\"91f2177b-0deb-410d-abfc-3e379b72db33\",\"type\":\"SaveTool\"},{\"id\":\"23c843de-bd2a-45a0-91ad-80df7b1457f0\",\"type\":\"ResetTool\"},{\"id\":\"52a33c4b-efab-472d-8992-11259c21b2b0\",\"type\":\"HelpTool\"}]},\"id\":\"535aa021-7eb3-4ca5-83ee-cb57e2a6db1f\",\"type\":\"Toolbar\"},{\"attributes\":{\"fill_color\":{\"value\":\"white\"},\"line_color\":{\"value\":\"navy\"},\"size\":{\"units\":\"screen\",\"value\":5},\"x\":{\"field\":\"x\"},\"y\":{\"field\":\"y\"}},\"id\":\"8f3147b5-8413-42c9-b8ed-81b7c5726aac\",\"type\":\"Circle\"},{\"attributes\":{\"data_source\":{\"id\":\"a5611f68-31c0-42eb-b43d-358d2571984a\",\"type\":\"ColumnDataSource\"},\"glyph\":{\"id\":\"c2bc1263-7bd4-4b4e-90c4-c11017bc90da\",\"type\":\"Line\"},\"hover_glyph\":null,\"muted_glyph\":null,\"nonselection_glyph\":{\"id\":\"2d51b00b-56a0-4c70-9680-d7a008fb11ef\",\"type\":\"Line\"},\"selection_glyph\":null,\"view\":{\"id\":\"22c96093-2365-49ba-86a9-c455c54b6152\",\"type\":\"CDSView\"}},\"id\":\"8cfc074d-dce8-44e2-848f-7a1b3fc19eef\",\"type\":\"GlyphRenderer\"},{\"attributes\":{\"label\":{\"value\":\"Small cell load = 0.05\"},\"renderers\":[{\"id\":\"8cfc074d-dce8-44e2-848f-7a1b3fc19eef\",\"type\":\"GlyphRenderer\"}]},\"id\":\"e446c3c9-a921-46b1-a9b7-1a46d32691be\",\"type\":\"LegendItem\"},{\"attributes\":{\"source\":{\"id\":\"e20c9fd5-3064-47ae-a7cc-efd7acc4b4ef\",\"type\":\"ColumnDataSource\"}},\"id\":\"dbc732dc-e5f0-4850-8270-a911d1c2e65f\",\"type\":\"CDSView\"},{\"attributes\":{\"axis_label\":\"idle time in logscale (relative to avg. inter-arrival time)\",\"axis_label_text_color\":{\"value\":\"black\"},\"axis_label_text_font_size\":{\"value\":\"12pt\"},\"formatter\":{\"id\":\"5f581b82-ea5d-4ea2-a970-78ef086d5624\",\"type\":\"BasicTickFormatter\"},\"major_label_text_color\":{\"value\":\"black\"},\"major_label_text_font_size\":{\"value\":\"10pt\"},\"plot\":{\"id\":\"fc7f9528-bd18-4515-be9a-8b5fd8e05fc8\",\"subtype\":\"Figure\",\"type\":\"Plot\"},\"ticker\":{\"id\":\"4db982f0-c6c8-409a-b9be-393235d6053d\",\"type\":\"BasicTicker\"}},\"id\":\"39f4b948-cefe-4e1e-af31-d3be4ad76f29\",\"type\":\"LinearAxis\"},{\"attributes\":{},\"id\":\"5f581b82-ea5d-4ea2-a970-78ef086d5624\",\"type\":\"BasicTickFormatter\"},{\"attributes\":{},\"id\":\"4c26ae05-b01e-484d-b4ad-be87102ba9d2\",\"type\":\"WheelZoomTool\"},{\"attributes\":{\"source\":{\"id\":\"7df5eb4b-3afa-436f-8550-9be9ac978e06\",\"type\":\"ColumnDataSource\"}},\"id\":\"c1a89768-b189-4e88-95ba-cf38da568053\",\"type\":\"CDSView\"},{\"attributes\":{\"source\":{\"id\":\"94709bab-2186-47d3-9c0e-543fc3d2b7c3\",\"type\":\"ColumnDataSource\"}},\"id\":\"bad8511f-551c-457f-995f-6ba6c3095770\",\"type\":\"CDSView\"},{\"attributes\":{},\"id\":\"2e3f189b-6a07-4869-b91d-a6e46be383e5\",\"type\":\"LinearScale\"},{\"attributes\":{\"fill_alpha\":{\"value\":0.1},\"fill_color\":{\"value\":\"#1f77b4\"},\"line_alpha\":{\"value\":0.1},\"line_color\":{\"value\":\"#1f77b4\"},\"size\":{\"units\":\"screen\",\"value\":5},\"x\":{\"field\":\"x\"},\"y\":{\"field\":\"y\"}},\"id\":\"269f0543-cf6d-40f0-9b2e-5e117280c687\",\"type\":\"Circle\"},{\"attributes\":{\"line_color\":{\"value\":\"navy\"},\"line_dash\":[4,4],\"x\":{\"field\":\"x\"},\"y\":{\"field\":\"y\"}},\"id\":\"0ead677b-a810-4e71-a94f-879a6b2ed459\",\"type\":\"Line\"},{\"attributes\":{\"source\":{\"id\":\"a5611f68-31c0-42eb-b43d-358d2571984a\",\"type\":\"ColumnDataSource\"}},\"id\":\"22c96093-2365-49ba-86a9-c455c54b6152\",\"type\":\"CDSView\"},{\"attributes\":{\"bottom_units\":\"screen\",\"fill_alpha\":{\"value\":0.5},\"fill_color\":{\"value\":\"lightgrey\"},\"left_units\":\"screen\",\"level\":\"overlay\",\"line_alpha\":{\"value\":1.0},\"line_color\":{\"value\":\"black\"},\"line_dash\":[4,4],\"line_width\":{\"value\":2},\"plot\":null,\"render_mode\":\"css\",\"right_units\":\"screen\",\"top_units\":\"screen\"},\"id\":\"5c1646b4-b303-4cff-afdc-0afdb510762d\",\"type\":\"BoxAnnotation\"},{\"attributes\":{\"callback\":null,\"column_names\":[\"x\",\"y\"],\"data\":{\"x\":[-10,-3.0588936890535687,-2.0588936890535687,-1.0588936890535685,0.02856915219677092,0.9855004303048849,2.007195501404204,2.996388746447621,6.999774561287003,8.999943643624247,10.00002817736235],\"y\":{\"__ndarray__\":\"hetRuB4ElUCamZmZmf6UQHsUrkfh+JRAKVyPwvXvlED2KFyPwu+UQArXo3A9zpRAXI/C9Sh4kUBI4XoUru2QQAAAAAAApZBAw/UoXI+ekECkcD0K152QQA==\",\"dtype\":\"float64\",\"shape\":[11]}}},\"id\":\"e20c9fd5-3064-47ae-a7cc-efd7acc4b4ef\",\"type\":\"ColumnDataSource\"},{\"attributes\":{\"line_color\":{\"value\":\"navy\"},\"line_dash\":[15,2],\"x\":{\"field\":\"x\"},\"y\":{\"field\":\"y\"}},\"id\":\"fed3911b-8635-4ed0-938f-8750027010cc\",\"type\":\"Line\"},{\"attributes\":{\"line_alpha\":{\"value\":0.1},\"line_color\":{\"value\":\"#1f77b4\"},\"line_dash\":[1,4],\"x\":{\"field\":\"x\"},\"y\":{\"field\":\"y\"}},\"id\":\"5c2f598d-828c-4ad4-a7bf-04c0ee5b8bf4\",\"type\":\"Line\"},{\"attributes\":{\"callback\":null,\"column_names\":[\"x\",\"y\"],\"data\":{\"x\":[-10,-3.473931188332412,-1.8889686876112561,-0.888968687611256,-0.014499569695115089,0.9855004303048849,1.9855004303048849,3.0018022426339854,6.999774561287003,9.00002817736235,10.00002817736235],\"y\":{\"__ndarray__\":\"uB6F61FtlUAfhetRuGmVQClcj8L1ZpVAj8L1KFxhlUBmZmZmZlaVQArXo3A9QJVAcT0K16MalUBcj8L1KEqRQDMzMzMz7ZBAAAAAAADkkEA9CtejcOOQQA==\",\"dtype\":\"float64\",\"shape\":[11]}}},\"id\":\"94709bab-2186-47d3-9c0e-543fc3d2b7c3\",\"type\":\"ColumnDataSource\"},{\"attributes\":{\"callback\":null,\"column_names\":[\"x\",\"y\"],\"data\":{\"x\":[-10,-3.0588936890535687,-2.0588936890535687,-1.0588936890535685,0.02856915219677092,0.9855004303048849,2.007195501404204,2.996388746447621,6.999774561287003,8.999943643624247,10.00002817736235],\"y\":{\"__ndarray__\":\"hetRuB4ElUCamZmZmf6UQHsUrkfh+JRAKVyPwvXvlED2KFyPwu+UQArXo3A9zpRAXI/C9Sh4kUBI4XoUru2QQAAAAAAApZBAw/UoXI+ekECkcD0K152QQA==\",\"dtype\":\"float64\",\"shape\":[11]}}},\"id\":\"64764f5e-277a-4f12-9089-9041f5f61afa\",\"type\":\"ColumnDataSource\"},{\"attributes\":{},\"id\":\"a25a0312-793a-481b-a34e-0f4a22e59434\",\"type\":\"LinearScale\"},{\"attributes\":{\"line_color\":{\"value\":\"navy\"},\"line_dash\":[1,4],\"x\":{\"field\":\"x\"},\"y\":{\"field\":\"y\"}},\"id\":\"33706bbd-f4de-492c-8c43-deae4e2f54fc\",\"type\":\"Line\"},{\"attributes\":{\"below\":[{\"id\":\"39f4b948-cefe-4e1e-af31-d3be4ad76f29\",\"type\":\"LinearAxis\"}],\"left\":[{\"id\":\"3990c16c-dde4-402c-b1b4-32b0c1e868e0\",\"type\":\"LinearAxis\"}],\"outline_line_color\":{\"value\":\"black\"},\"plot_height\":400,\"renderers\":[{\"id\":\"39f4b948-cefe-4e1e-af31-d3be4ad76f29\",\"type\":\"LinearAxis\"},{\"id\":\"35b738b8-43c9-462d-b79e-eeb425e26a0f\",\"type\":\"Grid\"},{\"id\":\"3990c16c-dde4-402c-b1b4-32b0c1e868e0\",\"type\":\"LinearAxis\"},{\"id\":\"9ad5ebcd-5014-4859-a0fc-c73c60360b75\",\"type\":\"Grid\"},{\"id\":\"5c1646b4-b303-4cff-afdc-0afdb510762d\",\"type\":\"BoxAnnotation\"},{\"id\":\"1b054a1a-2779-44c8-943c-ed6559111d0e\",\"type\":\"Legend\"},{\"id\":\"8cfc074d-dce8-44e2-848f-7a1b3fc19eef\",\"type\":\"GlyphRenderer\"},{\"id\":\"d42e2893-bc63-442b-9ee0-07f5ae8f5b95\",\"type\":\"GlyphRenderer\"},{\"id\":\"ed56308f-7f65-4135-87c9-a3ba7a35d64c\",\"type\":\"GlyphRenderer\"},{\"id\":\"b5169572-4e6f-42ee-b796-ab9b4892e881\",\"type\":\"GlyphRenderer\"},{\"id\":\"5e6d2a91-10eb-497e-b359-004fef65ef30\",\"type\":\"GlyphRenderer\"},{\"id\":\"35feb960-5755-4dba-97f7-42491aad7886\",\"type\":\"GlyphRenderer\"},{\"id\":\"2d76dc0b-5eb7-4fa4-bc9d-f46144323f88\",\"type\":\"GlyphRenderer\"},{\"id\":\"3bd37679-dd13-43f9-b5dd-0dfc7b56cff1\",\"type\":\"GlyphRenderer\"}],\"title\":{\"id\":\"c6f2e79d-c6cb-416d-80b9-eb81197a22e1\",\"type\":\"Title\"},\"toolbar\":{\"id\":\"535aa021-7eb3-4ca5-83ee-cb57e2a6db1f\",\"type\":\"Toolbar\"},\"x_range\":{\"id\":\"61b49dcf-b585-482b-aaac-329aea9f99a9\",\"type\":\"DataRange1d\"},\"x_scale\":{\"id\":\"a25a0312-793a-481b-a34e-0f4a22e59434\",\"type\":\"LinearScale\"},\"y_range\":{\"id\":\"03dfdbe3-4104-4ecd-91da-fa753416f121\",\"type\":\"DataRange1d\"},\"y_scale\":{\"id\":\"2e3f189b-6a07-4869-b91d-a6e46be383e5\",\"type\":\"LinearScale\"}},\"id\":\"fc7f9528-bd18-4515-be9a-8b5fd8e05fc8\",\"subtype\":\"Figure\",\"type\":\"Plot\"},{\"attributes\":{\"data_source\":{\"id\":\"e20c9fd5-3064-47ae-a7cc-efd7acc4b4ef\",\"type\":\"ColumnDataSource\"},\"glyph\":{\"id\":\"0ead677b-a810-4e71-a94f-879a6b2ed459\",\"type\":\"Line\"},\"hover_glyph\":null,\"muted_glyph\":null,\"nonselection_glyph\":{\"id\":\"bfda8ba4-d574-4077-b4c5-9b7ed326edbd\",\"type\":\"Line\"},\"selection_glyph\":null,\"view\":{\"id\":\"dbc732dc-e5f0-4850-8270-a911d1c2e65f\",\"type\":\"CDSView\"}},\"id\":\"5e6d2a91-10eb-497e-b359-004fef65ef30\",\"type\":\"GlyphRenderer\"},{\"attributes\":{\"data_source\":{\"id\":\"64764f5e-277a-4f12-9089-9041f5f61afa\",\"type\":\"ColumnDataSource\"},\"glyph\":{\"id\":\"a4795db2-5dfc-45c0-a6e7-46151b2c7d05\",\"type\":\"Circle\"},\"hover_glyph\":null,\"muted_glyph\":null,\"nonselection_glyph\":{\"id\":\"943d7594-775c-4c6b-81b3-9d0455a61e2f\",\"type\":\"Circle\"},\"selection_glyph\":null,\"view\":{\"id\":\"561fcfaf-68e4-46b4-b57f-7520f333b659\",\"type\":\"CDSView\"}},\"id\":\"35feb960-5755-4dba-97f7-42491aad7886\",\"type\":\"GlyphRenderer\"},{\"attributes\":{},\"id\":\"52a33c4b-efab-472d-8992-11259c21b2b0\",\"type\":\"HelpTool\"},{\"attributes\":{\"fill_color\":{\"value\":\"white\"},\"line_color\":{\"value\":\"navy\"},\"size\":{\"units\":\"screen\",\"value\":5},\"x\":{\"field\":\"x\"},\"y\":{\"field\":\"y\"}},\"id\":\"35b55d23-1336-4391-9ec6-eea5dfc4ec2b\",\"type\":\"Circle\"},{\"attributes\":{\"overlay\":{\"id\":\"5c1646b4-b303-4cff-afdc-0afdb510762d\",\"type\":\"BoxAnnotation\"}},\"id\":\"59c71236-d8de-4d93-8060-ed280fac2eeb\",\"type\":\"BoxZoomTool\"},{\"attributes\":{\"fill_alpha\":{\"value\":0.1},\"fill_color\":{\"value\":\"#1f77b4\"},\"line_alpha\":{\"value\":0.1},\"line_color\":{\"value\":\"#1f77b4\"},\"size\":{\"units\":\"screen\",\"value\":5},\"x\":{\"field\":\"x\"},\"y\":{\"field\":\"y\"}},\"id\":\"943d7594-775c-4c6b-81b3-9d0455a61e2f\",\"type\":\"Circle\"},{\"attributes\":{\"callback\":null,\"column_names\":[\"x\",\"y\"],\"data\":{\"x\":[-10,-3.473931188332412,-1.8889686876112561,-0.888968687611256,-0.014499569695115089,0.9855004303048849,1.9855004303048849,3.0018022426339854,6.999774561287003,9.00002817736235,10.00002817736235],\"y\":{\"__ndarray__\":\"uB6F61FtlUAfhetRuGmVQClcj8L1ZpVAj8L1KFxhlUBmZmZmZlaVQArXo3A9QJVAcT0K16MalUBcj8L1KEqRQDMzMzMz7ZBAAAAAAADkkEA9CtejcOOQQA==\",\"dtype\":\"float64\",\"shape\":[11]}}},\"id\":\"7df5eb4b-3afa-436f-8550-9be9ac978e06\",\"type\":\"ColumnDataSource\"},{\"attributes\":{},\"id\":\"41a341af-9e79-4f05-8a81-ee694fbde185\",\"type\":\"PanTool\"},{\"attributes\":{\"callback\":null,\"column_names\":[\"x\",\"y\"],\"data\":{\"x\":[-10,-3.0588936890535687,-2.0588936890535687,-1.0588936890535685,0.0,1.0,2.0,3.0,7.0,9.0,10.0],\"y\":{\"__ndarray__\":\"CtejcD0FlEA9CtejcC2UQD0K16NwJJRArkfhehQjlEApXI/C9f6TQOF6FK5Hi5FAexSuR+GxkEAfhetRuJyQQHE9CtejcJBAUrgehetskEAK16NwPW2QQA==\",\"dtype\":\"float64\",\"shape\":[11]}}},\"id\":\"a1f3f7c7-ac5d-4851-8dfd-df0868c4fed1\",\"type\":\"ColumnDataSource\"},{\"attributes\":{\"label\":{\"value\":\"Small cell load = 0.5\"},\"renderers\":[{\"id\":\"2d76dc0b-5eb7-4fa4-bc9d-f46144323f88\",\"type\":\"GlyphRenderer\"}]},\"id\":\"f923c30d-2071-461d-8792-b48c61982492\",\"type\":\"LegendItem\"},{\"attributes\":{\"data_source\":{\"id\":\"94709bab-2186-47d3-9c0e-543fc3d2b7c3\",\"type\":\"ColumnDataSource\"},\"glyph\":{\"id\":\"33706bbd-f4de-492c-8c43-deae4e2f54fc\",\"type\":\"Line\"},\"hover_glyph\":null,\"muted_glyph\":null,\"nonselection_glyph\":{\"id\":\"5c2f598d-828c-4ad4-a7bf-04c0ee5b8bf4\",\"type\":\"Line\"},\"selection_glyph\":null,\"view\":{\"id\":\"bad8511f-551c-457f-995f-6ba6c3095770\",\"type\":\"CDSView\"}},\"id\":\"2d76dc0b-5eb7-4fa4-bc9d-f46144323f88\",\"type\":\"GlyphRenderer\"},{\"attributes\":{\"line_alpha\":{\"value\":0.1},\"line_color\":{\"value\":\"#1f77b4\"},\"x\":{\"field\":\"x\"},\"y\":{\"field\":\"y\"}},\"id\":\"2d51b00b-56a0-4c70-9680-d7a008fb11ef\",\"type\":\"Line\"},{\"attributes\":{},\"id\":\"23c843de-bd2a-45a0-91ad-80df7b1457f0\",\"type\":\"ResetTool\"}],\"root_ids\":[\"fc7f9528-bd18-4515-be9a-8b5fd8e05fc8\"]},\"title\":\"Bokeh Application\",\"version\":\"0.12.10\"}};\n",
       "    var render_items = [{\"docid\":\"44e937fa-c37c-4f54-a89d-a2ce10059a1f\",\"elementid\":\"4678b8b5-7613-44e0-9422-6b230f22425e\",\"modelid\":\"fc7f9528-bd18-4515-be9a-8b5fd8e05fc8\"}];\n",
       "\n",
       "    root.Bokeh.embed.embed_items(docs_json, render_items);\n",
       "  }\n",
       "\n",
       "  if (root.Bokeh !== undefined) {\n",
       "    embed_document(root);\n",
       "  } else {\n",
       "    var attempts = 0;\n",
       "    var timer = setInterval(function(root) {\n",
       "      if (root.Bokeh !== undefined) {\n",
       "        embed_document(root);\n",
       "        clearInterval(timer);\n",
       "      }\n",
       "      attempts++;\n",
       "      if (attempts > 100) {\n",
       "        console.log(\"Bokeh: ERROR: Unable to embed document because BokehJS library is missing\")\n",
       "        clearInterval(timer);\n",
       "      }\n",
       "    }, 10, root)\n",
       "  }\n",
       "})(window);"
      ],
      "application/vnd.bokehjs_exec.v0+json": ""
     },
     "metadata": {
      "application/vnd.bokehjs_exec.v0+json": {
       "id": "fc7f9528-bd18-4515-be9a-8b5fd8e05fc8"
      }
     },
     "output_type": "display_data"
    }
   ],
   "source": [
    "p0 = figure(plot_width=600, plot_height=400)\n",
    "\n",
    "\n",
    "p0.line(logscale(1), df[df.small_arrival==1].avg_power, line_color='navy',legend='Small cell load = 0.05')\n",
    "p0.circle(logscale(1), df[df.small_arrival==1].avg_power, color='white', line_color='navy',size=5)\n",
    "p0.line(logscale(4), df[df.small_arrival==4].avg_power, line_color='navy',line_dash=\"15 2\",legend='Small cell load = 0.2')\n",
    "p0.circle(logscale(4), df[df.small_arrival==4].avg_power, color='white', line_color='navy',size=5)\n",
    "\n",
    "p0.line(logscale(6), df[df.small_arrival==6].avg_power, line_color='navy',line_dash=\"4 4\",legend='Small cell load = 0.32')\n",
    "p0.circle(logscale(6), df[df.small_arrival==6].avg_power, color='white', line_color='navy',size=5)\n",
    "\n",
    "p0.line(logscale(9), df[df.small_arrival==9].avg_power, line_color='navy',line_dash=\"1 4\",legend='Small cell load = 0.5')\n",
    "p0.circle(logscale(9), df[df.small_arrival==9].avg_power, color='white', line_color='navy',size=5)\n",
    "\n",
    "\n",
    "p0.grid.grid_line_dash = [2,2]\n",
    "p0.grid.grid_line_alpha = 0.1\n",
    "\n",
    "p0.xaxis.axis_label = 'idle time in logscale (relative to avg. inter-arrival time)'\n",
    "p0.yaxis.axis_label = 'Mean power'\n",
    "\n",
    "p0.xaxis.axis_label_text_color = 'black'\n",
    "p0.xaxis.major_label_text_color = 'black'\n",
    "p0.yaxis.axis_label_text_color = 'black'\n",
    "p0.yaxis.major_label_text_color = 'black'\n",
    "p0.legend.label_text_color = 'black'\n",
    "\n",
    "p0.legend.location  = 'top_right'\n",
    "p0.outline_line_color = 'black'\n",
    "\n",
    "p0.axis.axis_label_text_font_size = '12pt'\n",
    "p0.axis.major_label_text_font_size = '10pt'\n",
    "#export_png(p0, filename='/Users/misikir/Google Drive/EIT-project/documentation/Figures/power-vs-idle-logscale.png')\n",
    "\n",
    "\n",
    "show(p0)"
   ]
  },
  {
   "cell_type": "markdown",
   "metadata": {},
   "source": [
    "# 2. Weighted sum cost"
   ]
  },
  {
   "cell_type": "code",
   "execution_count": 1,
   "metadata": {},
   "outputs": [
    {
     "name": "stdout",
     "output_type": "stream",
     "text": [
      "\u001b[34mbak\u001b[m\u001b[m/                  \u001b[34msetup_1.0\u001b[m\u001b[m/            test.csv\r\n",
      "result.csv            \u001b[34msetup_1.0_erws\u001b[m\u001b[m/       visualization.ipynb\r\n",
      "\u001b[34msetup_0.05\u001b[m\u001b[m/           test-lb-policy.csv    visualization2.ipynb\r\n",
      "\u001b[34msetup_0.05_erws\u001b[m\u001b[m/      test-test.csv\r\n"
     ]
    }
   ],
   "source": [
    "%ls "
   ]
  },
  {
   "cell_type": "code",
   "execution_count": 3,
   "metadata": {},
   "outputs": [
    {
     "name": "stdout",
     "output_type": "stream",
     "text": [
      "output_1.csv   output_18.csv  output_26.csv  output_34.csv  output_42.csv\r\n",
      "output_10.csv  output_19.csv  output_27.csv  output_35.csv  output_43.csv\r\n",
      "output_11.csv  output_2.csv   output_28.csv  output_36.csv  output_44.csv\r\n",
      "output_12.csv  output_20.csv  output_29.csv  output_37.csv  output_5.csv\r\n",
      "output_13.csv  output_21.csv  output_3.csv   output_38.csv  output_6.csv\r\n",
      "output_14.csv  output_22.csv  output_30.csv  output_39.csv  output_7.csv\r\n",
      "output_15.csv  output_23.csv  output_31.csv  output_4.csv   output_8.csv\r\n",
      "output_16.csv  output_24.csv  output_32.csv  output_40.csv  output_9.csv\r\n",
      "output_17.csv  output_25.csv  output_33.csv  output_41.csv\r\n"
     ]
    }
   ],
   "source": [
    "%ls setup_1.0_erws/"
   ]
  },
  {
   "cell_type": "markdown",
   "metadata": {},
   "source": [
    "## 2.1 Short setup delay"
   ]
  },
  {
   "cell_type": "code",
   "execution_count": 19,
   "metadata": {},
   "outputs": [
    {
     "data": {
      "text/html": [
       "\n",
       "<div class=\"bk-root\">\n",
       "    <div class=\"bk-plotdiv\" id=\"20fc8825-b7ab-4288-86c5-ea2f81513f27\"></div>\n",
       "</div>"
      ]
     },
     "metadata": {},
     "output_type": "display_data"
    },
    {
     "data": {
      "application/javascript": [
       "(function(root) {\n",
       "  function embed_document(root) {\n",
       "    var docs_json = {\"1ae6d365-1311-4654-bcc8-81afb860a855\":{\"roots\":{\"references\":[{\"attributes\":{\"line_alpha\":{\"value\":0.1},\"line_color\":{\"value\":\"#1f77b4\"},\"line_dash\":[1,4],\"x\":{\"field\":\"x\"},\"y\":{\"field\":\"y\"}},\"id\":\"a11085d8-2e71-48a8-8d6f-84ae66f128eb\",\"type\":\"Line\"},{\"attributes\":{\"data_source\":{\"id\":\"0432e3a8-3fd4-4f7c-8baa-ad78871244de\",\"type\":\"ColumnDataSource\"},\"glyph\":{\"id\":\"697cf73d-0f29-45d2-b5cb-48fed56356af\",\"type\":\"Circle\"},\"hover_glyph\":null,\"muted_glyph\":null,\"nonselection_glyph\":{\"id\":\"0f1a2105-33fd-4a0e-9640-0593c6983427\",\"type\":\"Circle\"},\"selection_glyph\":null,\"view\":{\"id\":\"c162ffb8-e007-48e8-81da-145d2540f34a\",\"type\":\"CDSView\"}},\"id\":\"edf51319-e7e6-4c90-abae-72311b832125\",\"type\":\"GlyphRenderer\"},{\"attributes\":{\"line_color\":{\"value\":\"navy\"},\"line_dash\":[15,2],\"x\":{\"field\":\"x\"},\"y\":{\"field\":\"y\"}},\"id\":\"0ddbd3a0-39a5-4a99-a508-4cbb10eb6b2b\",\"type\":\"Line\"},{\"attributes\":{\"callback\":null,\"column_names\":[\"x\",\"y\"],\"data\":{\"x\":[-10,-3.0588936890535687,-2.0588936890535687,-1.0588936890535685,0.0,1.0,2.0,3.0,7.0,9.0,10.0],\"y\":{\"__ndarray__\":\"LDBkdavXIUDt0/GYgSoiQOuoaoKoayJA/MbXnlnSIkAOMsnIWVgjQO6x9KEL6iNAqAAYz6BhJEBGIF7XL7gkQMwolltaHSVAbLJGPUQjJUBOC170FSQlQA==\",\"dtype\":\"float64\",\"shape\":[11]}}},\"id\":\"c93b0ad5-5d50-4231-90cd-f116f36753da\",\"type\":\"ColumnDataSource\"},{\"attributes\":{\"data_source\":{\"id\":\"aaf17447-a220-4736-ac79-e844db4fbab1\",\"type\":\"ColumnDataSource\"},\"glyph\":{\"id\":\"9f56b57e-4d9a-4e69-ba5f-23d03d9f53ea\",\"type\":\"Circle\"},\"hover_glyph\":null,\"muted_glyph\":null,\"nonselection_glyph\":{\"id\":\"ca589d45-6690-499d-a37a-a093022e28cc\",\"type\":\"Circle\"},\"selection_glyph\":null,\"view\":{\"id\":\"be0dfd24-3bb2-4f68-afd7-8db2708b54c8\",\"type\":\"CDSView\"}},\"id\":\"10f73d00-525e-47d5-929a-afa9b1fce276\",\"type\":\"GlyphRenderer\"},{\"attributes\":{\"callback\":null},\"id\":\"84c791a5-a19b-4205-9a38-094421c64dd7\",\"type\":\"DataRange1d\"},{\"attributes\":{},\"id\":\"d14e1ecb-9d03-4f9d-ab96-4127d8538b95\",\"type\":\"BasicTicker\"},{\"attributes\":{\"line_color\":{\"value\":\"navy\"},\"line_dash\":[4,4],\"x\":{\"field\":\"x\"},\"y\":{\"field\":\"y\"}},\"id\":\"4ebc9301-02f8-4b57-8fd5-c33f24e4667c\",\"type\":\"Line\"},{\"attributes\":{\"callback\":null,\"column_names\":[\"x\",\"y\"],\"data\":{\"x\":[-10,-3.473931188332412,-1.8889686876112561,-0.888968687611256,-0.014499569695115089,0.9855004303048849,1.9855004303048849,3.0018022426339854,6.999774561287003,9.00002817736235,10.00002817736235],\"y\":{\"__ndarray__\":\"OL72zJIwJEAwuycPC1UkQFPQ7SWNcSRA6KT3ja+dJEDO34RCBNwkQK6jqgmiHiVAW7vtQnNdJUDSOqqaIIolQPbuj/eqxSVA9RWkGYvGJUB+BWnGosklQA==\",\"dtype\":\"float64\",\"shape\":[11]}}},\"id\":\"834465b6-e1db-46c7-8d8b-17fee04d7992\",\"type\":\"ColumnDataSource\"},{\"attributes\":{\"dimension\":1,\"grid_line_alpha\":{\"value\":0.1},\"grid_line_dash\":[2,2],\"plot\":{\"id\":\"3d1e586b-f060-4ca3-bb27-cd0c7d13557b\",\"subtype\":\"Figure\",\"type\":\"Plot\"},\"ticker\":{\"id\":\"03585268-3991-4c9c-bbc0-96cf17a82c85\",\"type\":\"BasicTicker\"}},\"id\":\"f15ceed2-1199-4634-be22-27a8341594f1\",\"type\":\"Grid\"},{\"attributes\":{\"line_alpha\":{\"value\":0.1},\"line_color\":{\"value\":\"#1f77b4\"},\"x\":{\"field\":\"x\"},\"y\":{\"field\":\"y\"}},\"id\":\"a626b614-1765-47ee-8e47-577cf82a5d3f\",\"type\":\"Line\"},{\"attributes\":{\"source\":{\"id\":\"43284d10-9bd9-430d-9d5c-00f05c074a57\",\"type\":\"ColumnDataSource\"}},\"id\":\"e9e0c1d5-390b-4a71-8a40-b47a397d986c\",\"type\":\"CDSView\"},{\"attributes\":{},\"id\":\"3cbd8f75-d051-46a2-8999-e7a017051283\",\"type\":\"ResetTool\"},{\"attributes\":{\"plot\":null,\"text\":\"\"},\"id\":\"af7eedd4-f6ae-4d3f-a306-4e8e049aba52\",\"type\":\"Title\"},{\"attributes\":{\"data_source\":{\"id\":\"834465b6-e1db-46c7-8d8b-17fee04d7992\",\"type\":\"ColumnDataSource\"},\"glyph\":{\"id\":\"157abb09-00a2-455f-98ee-217cf9f9c39d\",\"type\":\"Line\"},\"hover_glyph\":null,\"muted_glyph\":null,\"nonselection_glyph\":{\"id\":\"a11085d8-2e71-48a8-8d6f-84ae66f128eb\",\"type\":\"Line\"},\"selection_glyph\":null,\"view\":{\"id\":\"892e11a4-54cd-4c52-a2af-c4cf631e3f71\",\"type\":\"CDSView\"}},\"id\":\"598be112-05f1-4f90-8bba-0d263ba45e5f\",\"type\":\"GlyphRenderer\"},{\"attributes\":{\"callback\":null,\"column_names\":[\"x\",\"y\"],\"data\":{\"x\":[-10,-3.0588936890535687,-2.0588936890535687,-1.0588936890535685,0.02856915219677092,0.9855004303048849,2.007195501404204,2.996388746447621,6.999774561287003,8.999943643624247,10.00002817736235],\"y\":{\"__ndarray__\":\"PnlYqDXdIkB96IL6lhkjQA0a+ie4SCNA+mabG9OTI0CZu5aQD/ojQIBlpUkpaCRAD9HoDmLHJECWW1oNiQslQHaOAdnrXSVA+ye4WFFjJUBr8SkAxmMlQA==\",\"dtype\":\"float64\",\"shape\":[11]}}},\"id\":\"0c561a76-f53e-4f53-a34b-2fb2b4aa2550\",\"type\":\"ColumnDataSource\"},{\"attributes\":{\"line_color\":{\"value\":\"navy\"},\"line_dash\":[1,4],\"x\":{\"field\":\"x\"},\"y\":{\"field\":\"y\"}},\"id\":\"157abb09-00a2-455f-98ee-217cf9f9c39d\",\"type\":\"Line\"},{\"attributes\":{\"fill_alpha\":{\"value\":0.1},\"fill_color\":{\"value\":\"#1f77b4\"},\"line_alpha\":{\"value\":0.1},\"line_color\":{\"value\":\"#1f77b4\"},\"size\":{\"units\":\"screen\",\"value\":5},\"x\":{\"field\":\"x\"},\"y\":{\"field\":\"y\"}},\"id\":\"ca589d45-6690-499d-a37a-a093022e28cc\",\"type\":\"Circle\"},{\"attributes\":{\"callback\":null,\"column_names\":[\"x\",\"y\"],\"data\":{\"x\":[-10,-3.0588936890535687,-2.0,-1.0,0.0,1.0,2.0,3.0,7.0,9.0,10.0],\"y\":{\"__ndarray__\":\"DCk/qfbJH0B7/N6mP2sgQPOrOUAw1yBAKjqSy394IUAuymyQSUYiQJ0Rpb3BFyNAqDrkZrjBI0CHokCfyDMkQLRZ9bnauiRAinYVUn7CJEAxJZLoZcQkQA==\",\"dtype\":\"float64\",\"shape\":[11]}}},\"id\":\"5666f708-081a-436f-865e-db0e45d9964d\",\"type\":\"ColumnDataSource\"},{\"attributes\":{},\"id\":\"7dbce6f1-ff08-4f35-b0b1-a569f73ba57b\",\"type\":\"BasicTickFormatter\"},{\"attributes\":{\"data_source\":{\"id\":\"43284d10-9bd9-430d-9d5c-00f05c074a57\",\"type\":\"ColumnDataSource\"},\"glyph\":{\"id\":\"4ebc9301-02f8-4b57-8fd5-c33f24e4667c\",\"type\":\"Line\"},\"hover_glyph\":null,\"muted_glyph\":null,\"nonselection_glyph\":{\"id\":\"d0b111cc-7c85-441c-9398-4d1b6bfd8780\",\"type\":\"Line\"},\"selection_glyph\":null,\"view\":{\"id\":\"e9e0c1d5-390b-4a71-8a40-b47a397d986c\",\"type\":\"CDSView\"}},\"id\":\"4d5aecde-b305-4387-b51c-2ad5ba49e153\",\"type\":\"GlyphRenderer\"},{\"attributes\":{\"source\":{\"id\":\"5ca59e16-5d90-44b2-8c60-6670b0556e29\",\"type\":\"ColumnDataSource\"}},\"id\":\"ad2afd01-6cf6-4710-a05f-12e51e6c667c\",\"type\":\"CDSView\"},{\"attributes\":{\"label\":{\"value\":\"Small cell load = 0.05\"},\"renderers\":[{\"id\":\"41654ea4-df3a-4710-852f-0f3f05cc8199\",\"type\":\"GlyphRenderer\"}]},\"id\":\"e46046bc-b6b2-4252-b28a-c165941f9f7e\",\"type\":\"LegendItem\"},{\"attributes\":{\"data_source\":{\"id\":\"c93b0ad5-5d50-4231-90cd-f116f36753da\",\"type\":\"ColumnDataSource\"},\"glyph\":{\"id\":\"0ddbd3a0-39a5-4a99-a508-4cbb10eb6b2b\",\"type\":\"Line\"},\"hover_glyph\":null,\"muted_glyph\":null,\"nonselection_glyph\":{\"id\":\"cc5d6f66-311e-4b83-a1ca-a672e0e65edc\",\"type\":\"Line\"},\"selection_glyph\":null,\"view\":{\"id\":\"7be70377-4094-4f68-8d3c-6d570b8f5570\",\"type\":\"CDSView\"}},\"id\":\"89cdba48-8545-4f5d-afab-1423bd1e0ae1\",\"type\":\"GlyphRenderer\"},{\"attributes\":{\"active_drag\":\"auto\",\"active_inspect\":\"auto\",\"active_scroll\":\"auto\",\"active_tap\":\"auto\",\"tools\":[{\"id\":\"9f04ddc6-4880-4add-8305-f0f3ab1e946a\",\"type\":\"PanTool\"},{\"id\":\"7c969ac6-6758-4699-9bad-8f6fbc571bf3\",\"type\":\"WheelZoomTool\"},{\"id\":\"8d92e4e0-1eb5-49b8-a02e-90d86444ab4d\",\"type\":\"BoxZoomTool\"},{\"id\":\"36867221-cc82-49ba-bc08-67afd39eb625\",\"type\":\"SaveTool\"},{\"id\":\"3cbd8f75-d051-46a2-8999-e7a017051283\",\"type\":\"ResetTool\"},{\"id\":\"2e6fab59-703d-45fa-8988-d225f185d59d\",\"type\":\"HelpTool\"}]},\"id\":\"7c6bad7e-58e7-441c-9a24-14f70a9dad4b\",\"type\":\"Toolbar\"},{\"attributes\":{\"label\":{\"value\":\"Small cell load = 0.2\"},\"renderers\":[{\"id\":\"89cdba48-8545-4f5d-afab-1423bd1e0ae1\",\"type\":\"GlyphRenderer\"}]},\"id\":\"97fbba59-e9ea-4e4e-82c8-42dc958d4a8f\",\"type\":\"LegendItem\"},{\"attributes\":{\"axis_label\":\"Weighted sum cost\",\"axis_label_text_color\":{\"value\":\"black\"},\"axis_label_text_font_size\":{\"value\":\"12pt\"},\"formatter\":{\"id\":\"7dbce6f1-ff08-4f35-b0b1-a569f73ba57b\",\"type\":\"BasicTickFormatter\"},\"major_label_text_color\":{\"value\":\"black\"},\"major_label_text_font_size\":{\"value\":\"10pt\"},\"plot\":{\"id\":\"3d1e586b-f060-4ca3-bb27-cd0c7d13557b\",\"subtype\":\"Figure\",\"type\":\"Plot\"},\"ticker\":{\"id\":\"03585268-3991-4c9c-bbc0-96cf17a82c85\",\"type\":\"BasicTicker\"}},\"id\":\"5b8f366b-58de-4b1f-931f-bdacd2b785de\",\"type\":\"LinearAxis\"},{\"attributes\":{\"line_color\":{\"value\":\"navy\"},\"x\":{\"field\":\"x\"},\"y\":{\"field\":\"y\"}},\"id\":\"a07e6fdd-3998-4e50-8fbc-093b61aa840d\",\"type\":\"Line\"},{\"attributes\":{\"source\":{\"id\":\"c93b0ad5-5d50-4231-90cd-f116f36753da\",\"type\":\"ColumnDataSource\"}},\"id\":\"7be70377-4094-4f68-8d3c-6d570b8f5570\",\"type\":\"CDSView\"},{\"attributes\":{},\"id\":\"36867221-cc82-49ba-bc08-67afd39eb625\",\"type\":\"SaveTool\"},{\"attributes\":{\"data_source\":{\"id\":\"0c561a76-f53e-4f53-a34b-2fb2b4aa2550\",\"type\":\"ColumnDataSource\"},\"glyph\":{\"id\":\"40d581ba-43e1-4cdc-963e-06ca6206cce3\",\"type\":\"Circle\"},\"hover_glyph\":null,\"muted_glyph\":null,\"nonselection_glyph\":{\"id\":\"68dda550-5868-4e71-b7bc-8ce168d12509\",\"type\":\"Circle\"},\"selection_glyph\":null,\"view\":{\"id\":\"b25c1ece-c9cf-4c37-b75a-35fbc6759829\",\"type\":\"CDSView\"}},\"id\":\"874d564a-66f0-4bb4-93fa-fc80745ec20e\",\"type\":\"GlyphRenderer\"},{\"attributes\":{\"label\":{\"value\":\"Small cell load = 0.5\"},\"renderers\":[{\"id\":\"598be112-05f1-4f90-8bba-0d263ba45e5f\",\"type\":\"GlyphRenderer\"}]},\"id\":\"9e85e20d-f09e-4967-947a-34cb44ea85c0\",\"type\":\"LegendItem\"},{\"attributes\":{\"items\":[{\"id\":\"e46046bc-b6b2-4252-b28a-c165941f9f7e\",\"type\":\"LegendItem\"},{\"id\":\"97fbba59-e9ea-4e4e-82c8-42dc958d4a8f\",\"type\":\"LegendItem\"},{\"id\":\"5bd235dd-73e5-4197-a9d2-33842d3c938e\",\"type\":\"LegendItem\"},{\"id\":\"9e85e20d-f09e-4967-947a-34cb44ea85c0\",\"type\":\"LegendItem\"}],\"label_text_color\":{\"value\":\"black\"},\"location\":\"bottom_right\",\"plot\":{\"id\":\"3d1e586b-f060-4ca3-bb27-cd0c7d13557b\",\"subtype\":\"Figure\",\"type\":\"Plot\"}},\"id\":\"938a1976-47b0-4eee-873c-8663aced4255\",\"type\":\"Legend\"},{\"attributes\":{\"data_source\":{\"id\":\"5666f708-081a-436f-865e-db0e45d9964d\",\"type\":\"ColumnDataSource\"},\"glyph\":{\"id\":\"a07e6fdd-3998-4e50-8fbc-093b61aa840d\",\"type\":\"Line\"},\"hover_glyph\":null,\"muted_glyph\":null,\"nonselection_glyph\":{\"id\":\"a626b614-1765-47ee-8e47-577cf82a5d3f\",\"type\":\"Line\"},\"selection_glyph\":null,\"view\":{\"id\":\"0d7b7af8-5466-4a18-9f89-3edd96142b73\",\"type\":\"CDSView\"}},\"id\":\"41654ea4-df3a-4710-852f-0f3f05cc8199\",\"type\":\"GlyphRenderer\"},{\"attributes\":{\"source\":{\"id\":\"0c561a76-f53e-4f53-a34b-2fb2b4aa2550\",\"type\":\"ColumnDataSource\"}},\"id\":\"b25c1ece-c9cf-4c37-b75a-35fbc6759829\",\"type\":\"CDSView\"},{\"attributes\":{\"line_alpha\":{\"value\":0.1},\"line_color\":{\"value\":\"#1f77b4\"},\"line_dash\":[15,2],\"x\":{\"field\":\"x\"},\"y\":{\"field\":\"y\"}},\"id\":\"cc5d6f66-311e-4b83-a1ca-a672e0e65edc\",\"type\":\"Line\"},{\"attributes\":{},\"id\":\"9f04ddc6-4880-4add-8305-f0f3ab1e946a\",\"type\":\"PanTool\"},{\"attributes\":{\"source\":{\"id\":\"834465b6-e1db-46c7-8d8b-17fee04d7992\",\"type\":\"ColumnDataSource\"}},\"id\":\"892e11a4-54cd-4c52-a2af-c4cf631e3f71\",\"type\":\"CDSView\"},{\"attributes\":{},\"id\":\"7c969ac6-6758-4699-9bad-8f6fbc571bf3\",\"type\":\"WheelZoomTool\"},{\"attributes\":{\"callback\":null},\"id\":\"786bdbc4-2efa-4202-9c39-ee3a2fb94b7a\",\"type\":\"DataRange1d\"},{\"attributes\":{\"line_alpha\":{\"value\":0.1},\"line_color\":{\"value\":\"#1f77b4\"},\"line_dash\":[4,4],\"x\":{\"field\":\"x\"},\"y\":{\"field\":\"y\"}},\"id\":\"d0b111cc-7c85-441c-9398-4d1b6bfd8780\",\"type\":\"Line\"},{\"attributes\":{},\"id\":\"03585268-3991-4c9c-bbc0-96cf17a82c85\",\"type\":\"BasicTicker\"},{\"attributes\":{\"axis_label\":\"idle time in logscale (relative to avg. inter-arrival time)\",\"axis_label_text_color\":{\"value\":\"black\"},\"axis_label_text_font_size\":{\"value\":\"12pt\"},\"formatter\":{\"id\":\"6da66843-2366-4383-9d54-0d3f494b01ab\",\"type\":\"BasicTickFormatter\"},\"major_label_text_color\":{\"value\":\"black\"},\"major_label_text_font_size\":{\"value\":\"10pt\"},\"plot\":{\"id\":\"3d1e586b-f060-4ca3-bb27-cd0c7d13557b\",\"subtype\":\"Figure\",\"type\":\"Plot\"},\"ticker\":{\"id\":\"d14e1ecb-9d03-4f9d-ab96-4127d8538b95\",\"type\":\"BasicTicker\"}},\"id\":\"3bb69fb5-6fc3-4562-bbcb-e5be3264c2bd\",\"type\":\"LinearAxis\"},{\"attributes\":{\"fill_alpha\":{\"value\":0.1},\"fill_color\":{\"value\":\"#1f77b4\"},\"line_alpha\":{\"value\":0.1},\"line_color\":{\"value\":\"#1f77b4\"},\"size\":{\"units\":\"screen\",\"value\":5},\"x\":{\"field\":\"x\"},\"y\":{\"field\":\"y\"}},\"id\":\"cd1116ef-0ee9-4eb2-a923-f5ecd3729b90\",\"type\":\"Circle\"},{\"attributes\":{\"fill_color\":{\"value\":\"white\"},\"line_color\":{\"value\":\"navy\"},\"size\":{\"units\":\"screen\",\"value\":5},\"x\":{\"field\":\"x\"},\"y\":{\"field\":\"y\"}},\"id\":\"40d581ba-43e1-4cdc-963e-06ca6206cce3\",\"type\":\"Circle\"},{\"attributes\":{\"callback\":null,\"column_names\":[\"x\",\"y\"],\"data\":{\"x\":[-10,-3.0588936890535687,-2.0,-1.0,0.0,1.0,2.0,3.0,7.0,9.0,10.0],\"y\":{\"__ndarray__\":\"DCk/qfbJH0B7/N6mP2sgQPOrOUAw1yBAKjqSy394IUAuymyQSUYiQJ0Rpb3BFyNAqDrkZrjBI0CHokCfyDMkQLRZ9bnauiRAinYVUn7CJEAxJZLoZcQkQA==\",\"dtype\":\"float64\",\"shape\":[11]}}},\"id\":\"aaf17447-a220-4736-ac79-e844db4fbab1\",\"type\":\"ColumnDataSource\"},{\"attributes\":{},\"id\":\"ed2b378c-660a-4d15-aff7-c6a7349f13a3\",\"type\":\"LinearScale\"},{\"attributes\":{\"source\":{\"id\":\"0432e3a8-3fd4-4f7c-8baa-ad78871244de\",\"type\":\"ColumnDataSource\"}},\"id\":\"c162ffb8-e007-48e8-81da-145d2540f34a\",\"type\":\"CDSView\"},{\"attributes\":{\"overlay\":{\"id\":\"959a7ace-32a2-481a-99c1-d9b795c25830\",\"type\":\"BoxAnnotation\"}},\"id\":\"8d92e4e0-1eb5-49b8-a02e-90d86444ab4d\",\"type\":\"BoxZoomTool\"},{\"attributes\":{\"fill_color\":{\"value\":\"white\"},\"line_color\":{\"value\":\"navy\"},\"size\":{\"units\":\"screen\",\"value\":5},\"x\":{\"field\":\"x\"},\"y\":{\"field\":\"y\"}},\"id\":\"697cf73d-0f29-45d2-b5cb-48fed56356af\",\"type\":\"Circle\"},{\"attributes\":{\"callback\":null,\"column_names\":[\"x\",\"y\"],\"data\":{\"x\":[-10,-3.473931188332412,-1.8889686876112561,-0.888968687611256,-0.014499569695115089,0.9855004303048849,1.9855004303048849,3.0018022426339854,6.999774561287003,9.00002817736235,10.00002817736235],\"y\":{\"__ndarray__\":\"OL72zJIwJEAwuycPC1UkQFPQ7SWNcSRA6KT3ja+dJEDO34RCBNwkQK6jqgmiHiVAW7vtQnNdJUDSOqqaIIolQPbuj/eqxSVA9RWkGYvGJUB+BWnGosklQA==\",\"dtype\":\"float64\",\"shape\":[11]}}},\"id\":\"0432e3a8-3fd4-4f7c-8baa-ad78871244de\",\"type\":\"ColumnDataSource\"},{\"attributes\":{\"data_source\":{\"id\":\"5ca59e16-5d90-44b2-8c60-6670b0556e29\",\"type\":\"ColumnDataSource\"},\"glyph\":{\"id\":\"ced3e1e2-6c2f-4f86-8d0b-61a3af820d90\",\"type\":\"Circle\"},\"hover_glyph\":null,\"muted_glyph\":null,\"nonselection_glyph\":{\"id\":\"cd1116ef-0ee9-4eb2-a923-f5ecd3729b90\",\"type\":\"Circle\"},\"selection_glyph\":null,\"view\":{\"id\":\"ad2afd01-6cf6-4710-a05f-12e51e6c667c\",\"type\":\"CDSView\"}},\"id\":\"249a9734-1e10-4a28-bc64-3bf3cde31812\",\"type\":\"GlyphRenderer\"},{\"attributes\":{},\"id\":\"452684bd-c773-4d75-8513-171d8517e7a4\",\"type\":\"LinearScale\"},{\"attributes\":{\"callback\":null,\"column_names\":[\"x\",\"y\"],\"data\":{\"x\":[-10,-3.0588936890535687,-2.0588936890535687,-1.0588936890535685,0.02856915219677092,0.9855004303048849,2.007195501404204,2.996388746447621,6.999774561287003,8.999943643624247,10.00002817736235],\"y\":{\"__ndarray__\":\"PnlYqDXdIkB96IL6lhkjQA0a+ie4SCNA+mabG9OTI0CZu5aQD/ojQIBlpUkpaCRAD9HoDmLHJECWW1oNiQslQHaOAdnrXSVA+ye4WFFjJUBr8SkAxmMlQA==\",\"dtype\":\"float64\",\"shape\":[11]}}},\"id\":\"43284d10-9bd9-430d-9d5c-00f05c074a57\",\"type\":\"ColumnDataSource\"},{\"attributes\":{\"fill_color\":{\"value\":\"white\"},\"line_color\":{\"value\":\"navy\"},\"size\":{\"units\":\"screen\",\"value\":5},\"x\":{\"field\":\"x\"},\"y\":{\"field\":\"y\"}},\"id\":\"ced3e1e2-6c2f-4f86-8d0b-61a3af820d90\",\"type\":\"Circle\"},{\"attributes\":{\"callback\":null,\"column_names\":[\"x\",\"y\"],\"data\":{\"x\":[-10,-3.0588936890535687,-2.0588936890535687,-1.0588936890535685,0.0,1.0,2.0,3.0,7.0,9.0,10.0],\"y\":{\"__ndarray__\":\"LDBkdavXIUDt0/GYgSoiQOuoaoKoayJA/MbXnlnSIkAOMsnIWVgjQO6x9KEL6iNAqAAYz6BhJEBGIF7XL7gkQMwolltaHSVAbLJGPUQjJUBOC170FSQlQA==\",\"dtype\":\"float64\",\"shape\":[11]}}},\"id\":\"5ca59e16-5d90-44b2-8c60-6670b0556e29\",\"type\":\"ColumnDataSource\"},{\"attributes\":{\"source\":{\"id\":\"5666f708-081a-436f-865e-db0e45d9964d\",\"type\":\"ColumnDataSource\"}},\"id\":\"0d7b7af8-5466-4a18-9f89-3edd96142b73\",\"type\":\"CDSView\"},{\"attributes\":{},\"id\":\"6da66843-2366-4383-9d54-0d3f494b01ab\",\"type\":\"BasicTickFormatter\"},{\"attributes\":{\"below\":[{\"id\":\"3bb69fb5-6fc3-4562-bbcb-e5be3264c2bd\",\"type\":\"LinearAxis\"}],\"left\":[{\"id\":\"5b8f366b-58de-4b1f-931f-bdacd2b785de\",\"type\":\"LinearAxis\"}],\"outline_line_color\":{\"value\":\"black\"},\"plot_height\":400,\"renderers\":[{\"id\":\"3bb69fb5-6fc3-4562-bbcb-e5be3264c2bd\",\"type\":\"LinearAxis\"},{\"id\":\"20e2a9a5-e9c7-4a37-bfb7-aacac2f37076\",\"type\":\"Grid\"},{\"id\":\"5b8f366b-58de-4b1f-931f-bdacd2b785de\",\"type\":\"LinearAxis\"},{\"id\":\"f15ceed2-1199-4634-be22-27a8341594f1\",\"type\":\"Grid\"},{\"id\":\"959a7ace-32a2-481a-99c1-d9b795c25830\",\"type\":\"BoxAnnotation\"},{\"id\":\"938a1976-47b0-4eee-873c-8663aced4255\",\"type\":\"Legend\"},{\"id\":\"41654ea4-df3a-4710-852f-0f3f05cc8199\",\"type\":\"GlyphRenderer\"},{\"id\":\"10f73d00-525e-47d5-929a-afa9b1fce276\",\"type\":\"GlyphRenderer\"},{\"id\":\"89cdba48-8545-4f5d-afab-1423bd1e0ae1\",\"type\":\"GlyphRenderer\"},{\"id\":\"249a9734-1e10-4a28-bc64-3bf3cde31812\",\"type\":\"GlyphRenderer\"},{\"id\":\"4d5aecde-b305-4387-b51c-2ad5ba49e153\",\"type\":\"GlyphRenderer\"},{\"id\":\"874d564a-66f0-4bb4-93fa-fc80745ec20e\",\"type\":\"GlyphRenderer\"},{\"id\":\"598be112-05f1-4f90-8bba-0d263ba45e5f\",\"type\":\"GlyphRenderer\"},{\"id\":\"edf51319-e7e6-4c90-abae-72311b832125\",\"type\":\"GlyphRenderer\"}],\"title\":{\"id\":\"af7eedd4-f6ae-4d3f-a306-4e8e049aba52\",\"type\":\"Title\"},\"toolbar\":{\"id\":\"7c6bad7e-58e7-441c-9a24-14f70a9dad4b\",\"type\":\"Toolbar\"},\"x_range\":{\"id\":\"786bdbc4-2efa-4202-9c39-ee3a2fb94b7a\",\"type\":\"DataRange1d\"},\"x_scale\":{\"id\":\"452684bd-c773-4d75-8513-171d8517e7a4\",\"type\":\"LinearScale\"},\"y_range\":{\"id\":\"84c791a5-a19b-4205-9a38-094421c64dd7\",\"type\":\"DataRange1d\"},\"y_scale\":{\"id\":\"ed2b378c-660a-4d15-aff7-c6a7349f13a3\",\"type\":\"LinearScale\"}},\"id\":\"3d1e586b-f060-4ca3-bb27-cd0c7d13557b\",\"subtype\":\"Figure\",\"type\":\"Plot\"},{\"attributes\":{\"label\":{\"value\":\"Small cell load = 0.32\"},\"renderers\":[{\"id\":\"4d5aecde-b305-4387-b51c-2ad5ba49e153\",\"type\":\"GlyphRenderer\"}]},\"id\":\"5bd235dd-73e5-4197-a9d2-33842d3c938e\",\"type\":\"LegendItem\"},{\"attributes\":{\"fill_alpha\":{\"value\":0.1},\"fill_color\":{\"value\":\"#1f77b4\"},\"line_alpha\":{\"value\":0.1},\"line_color\":{\"value\":\"#1f77b4\"},\"size\":{\"units\":\"screen\",\"value\":5},\"x\":{\"field\":\"x\"},\"y\":{\"field\":\"y\"}},\"id\":\"68dda550-5868-4e71-b7bc-8ce168d12509\",\"type\":\"Circle\"},{\"attributes\":{\"bottom_units\":\"screen\",\"fill_alpha\":{\"value\":0.5},\"fill_color\":{\"value\":\"lightgrey\"},\"left_units\":\"screen\",\"level\":\"overlay\",\"line_alpha\":{\"value\":1.0},\"line_color\":{\"value\":\"black\"},\"line_dash\":[4,4],\"line_width\":{\"value\":2},\"plot\":null,\"render_mode\":\"css\",\"right_units\":\"screen\",\"top_units\":\"screen\"},\"id\":\"959a7ace-32a2-481a-99c1-d9b795c25830\",\"type\":\"BoxAnnotation\"},{\"attributes\":{\"fill_color\":{\"value\":\"white\"},\"line_color\":{\"value\":\"navy\"},\"size\":{\"units\":\"screen\",\"value\":5},\"x\":{\"field\":\"x\"},\"y\":{\"field\":\"y\"}},\"id\":\"9f56b57e-4d9a-4e69-ba5f-23d03d9f53ea\",\"type\":\"Circle\"},{\"attributes\":{\"source\":{\"id\":\"aaf17447-a220-4736-ac79-e844db4fbab1\",\"type\":\"ColumnDataSource\"}},\"id\":\"be0dfd24-3bb2-4f68-afd7-8db2708b54c8\",\"type\":\"CDSView\"},{\"attributes\":{\"fill_alpha\":{\"value\":0.1},\"fill_color\":{\"value\":\"#1f77b4\"},\"line_alpha\":{\"value\":0.1},\"line_color\":{\"value\":\"#1f77b4\"},\"size\":{\"units\":\"screen\",\"value\":5},\"x\":{\"field\":\"x\"},\"y\":{\"field\":\"y\"}},\"id\":\"0f1a2105-33fd-4a0e-9640-0593c6983427\",\"type\":\"Circle\"},{\"attributes\":{\"grid_line_alpha\":{\"value\":0.1},\"grid_line_dash\":[2,2],\"plot\":{\"id\":\"3d1e586b-f060-4ca3-bb27-cd0c7d13557b\",\"subtype\":\"Figure\",\"type\":\"Plot\"},\"ticker\":{\"id\":\"d14e1ecb-9d03-4f9d-ab96-4127d8538b95\",\"type\":\"BasicTicker\"}},\"id\":\"20e2a9a5-e9c7-4a37-bfb7-aacac2f37076\",\"type\":\"Grid\"},{\"attributes\":{},\"id\":\"2e6fab59-703d-45fa-8988-d225f185d59d\",\"type\":\"HelpTool\"}],\"root_ids\":[\"3d1e586b-f060-4ca3-bb27-cd0c7d13557b\"]},\"title\":\"Bokeh Application\",\"version\":\"0.12.10\"}};\n",
       "    var render_items = [{\"docid\":\"1ae6d365-1311-4654-bcc8-81afb860a855\",\"elementid\":\"20fc8825-b7ab-4288-86c5-ea2f81513f27\",\"modelid\":\"3d1e586b-f060-4ca3-bb27-cd0c7d13557b\"}];\n",
       "\n",
       "    root.Bokeh.embed.embed_items(docs_json, render_items);\n",
       "  }\n",
       "\n",
       "  if (root.Bokeh !== undefined) {\n",
       "    embed_document(root);\n",
       "  } else {\n",
       "    var attempts = 0;\n",
       "    var timer = setInterval(function(root) {\n",
       "      if (root.Bokeh !== undefined) {\n",
       "        embed_document(root);\n",
       "        clearInterval(timer);\n",
       "      }\n",
       "      attempts++;\n",
       "      if (attempts > 100) {\n",
       "        console.log(\"Bokeh: ERROR: Unable to embed document because BokehJS library is missing\")\n",
       "        clearInterval(timer);\n",
       "      }\n",
       "    }, 10, root)\n",
       "  }\n",
       "})(window);"
      ],
      "application/vnd.bokehjs_exec.v0+json": ""
     },
     "metadata": {
      "application/vnd.bokehjs_exec.v0+json": {
       "id": "3d1e586b-f060-4ca3-bb27-cd0c7d13557b"
      }
     },
     "output_type": "display_data"
    }
   ],
   "source": [
    "df=pd.read_csv('setup_0.05_erws/output_1.csv', skiprows=1)\n",
    "\n",
    "if df.iloc[-1][0] > 0:\n",
    "    df = df.iloc[-1:]\n",
    "else:\n",
    "    df = df.iloc[1:2]\n",
    "\n",
    "for i in range(2,45):\n",
    "    df_tmp = pd.read_csv('setup_0.05_erws/output_'+str(i)+'.csv', skiprows=1)\n",
    "    #df_rnd_tmp = df_tmp.loc[0,:]\n",
    "    #df_rnd = df_rnd.append(df_rnd_tmp)\n",
    "    if df_tmp.iloc[-1][0] > 0:\n",
    "        df_tmp = df_tmp.iloc[-1:]\n",
    "    else:\n",
    "        df_tmp = df_tmp.iloc[1:2]\n",
    "    df = df.append(df_tmp)\n",
    "\n",
    "df['relative_idle_time'] = df.small_arrival * df.avg_idle_time\n",
    "\n",
    "p0 = figure(plot_width=600, plot_height=400)\n",
    "\n",
    "\n",
    "p0.line(logscale(1), df[df.small_arrival==1].avg_resp_time + 0.01 * df[df.small_arrival==1].avg_power, line_color='navy',legend='Small cell load = 0.05')\n",
    "p0.circle(logscale(1), df[df.small_arrival==1].avg_resp_time + 0.01 * df[df.small_arrival==1].avg_power, color='white', line_color='navy',size=5)\n",
    "p0.line(logscale(4), df[df.small_arrival==4].avg_resp_time + 0.01 * df[df.small_arrival==4].avg_power, line_color='navy',line_dash=\"15 2\",legend='Small cell load = 0.2')\n",
    "p0.circle(logscale(4), df[df.small_arrival==4].avg_resp_time + 0.01 * df[df.small_arrival==4].avg_power, color='white', line_color='navy',size=5)\n",
    "\n",
    "p0.line(logscale(6), df[df.small_arrival==6].avg_resp_time + 0.01 * df[df.small_arrival==6].avg_power, line_color='navy',line_dash=\"4 4\",legend='Small cell load = 0.32')\n",
    "p0.circle(logscale(6), df[df.small_arrival==6].avg_resp_time + 0.01 * df[df.small_arrival==6].avg_power, color='white', line_color='navy',size=5)\n",
    "\n",
    "p0.line(logscale(9), df[df.small_arrival==9].avg_resp_time + 0.01 * df[df.small_arrival==9].avg_power, line_color='navy',line_dash=\"1 4\",legend='Small cell load = 0.5')\n",
    "p0.circle(logscale(9), df[df.small_arrival==9].avg_resp_time + 0.01 * df[df.small_arrival==9].avg_power, color='white', line_color='navy',size=5)\n",
    "\n",
    "\n",
    "p0.grid.grid_line_dash = [2,2]\n",
    "p0.grid.grid_line_alpha = 0.1\n",
    "\n",
    "p0.xaxis.axis_label = 'idle time in logscale (relative to avg. inter-arrival time)'\n",
    "p0.yaxis.axis_label = 'Weighted sum cost'\n",
    "\n",
    "p0.xaxis.axis_label_text_color = 'black'\n",
    "p0.xaxis.major_label_text_color = 'black'\n",
    "p0.yaxis.axis_label_text_color = 'black'\n",
    "p0.yaxis.major_label_text_color = 'black'\n",
    "p0.legend.label_text_color = 'black'\n",
    "\n",
    "p0.legend.location  = 'bottom_right'\n",
    "p0.outline_line_color = 'black'\n",
    "\n",
    "p0.axis.axis_label_text_font_size = '12pt'\n",
    "p0.axis.major_label_text_font_size = '10pt'\n",
    "export_png(p0, filename='/Users/misikir/Google Drive/EIT-project/documentation/Figures/weighted-sum-short-setup.png')\n",
    "\n",
    "show(p0)"
   ]
  },
  {
   "cell_type": "markdown",
   "metadata": {},
   "source": [
    "## 2.2 long setup delay"
   ]
  },
  {
   "cell_type": "code",
   "execution_count": 18,
   "metadata": {},
   "outputs": [
    {
     "data": {
      "text/html": [
       "\n",
       "<div class=\"bk-root\">\n",
       "    <div class=\"bk-plotdiv\" id=\"e34cfa1a-94ef-48c3-9a0b-fe699ba2f56b\"></div>\n",
       "</div>"
      ]
     },
     "metadata": {},
     "output_type": "display_data"
    },
    {
     "data": {
      "application/javascript": [
       "(function(root) {\n",
       "  function embed_document(root) {\n",
       "    var docs_json = {\"59c3c40b-7f5b-41e5-860a-a865725771cd\":{\"roots\":{\"references\":[{\"attributes\":{\"fill_alpha\":{\"value\":0.1},\"fill_color\":{\"value\":\"#1f77b4\"},\"line_alpha\":{\"value\":0.1},\"line_color\":{\"value\":\"#1f77b4\"},\"size\":{\"units\":\"screen\",\"value\":5},\"x\":{\"field\":\"x\"},\"y\":{\"field\":\"y\"}},\"id\":\"79a4db91-f42d-4760-b5fb-721a1372a6d2\",\"type\":\"Circle\"},{\"attributes\":{\"data_source\":{\"id\":\"78e0b9fa-ab3b-470e-8ade-82700caacab6\",\"type\":\"ColumnDataSource\"},\"glyph\":{\"id\":\"d0bf6fd8-2efd-4536-8c2a-27174a0980e8\",\"type\":\"Line\"},\"hover_glyph\":null,\"muted_glyph\":null,\"nonselection_glyph\":{\"id\":\"fe84fa13-aa58-4c0a-bb15-7d99a3a87662\",\"type\":\"Line\"},\"selection_glyph\":null,\"view\":{\"id\":\"b1d6d63e-c9fb-4cb2-8786-d07c518c7cbe\",\"type\":\"CDSView\"}},\"id\":\"231b3612-ec31-4464-b026-f7efa489ae69\",\"type\":\"GlyphRenderer\"},{\"attributes\":{\"data_source\":{\"id\":\"9be5abf0-c53f-43a7-a213-1e3f12c52b29\",\"type\":\"ColumnDataSource\"},\"glyph\":{\"id\":\"d2830c42-4bb0-4dff-9f50-2ce5431e655d\",\"type\":\"Circle\"},\"hover_glyph\":null,\"muted_glyph\":null,\"nonselection_glyph\":{\"id\":\"ac568368-5416-456f-bdff-d0868263971e\",\"type\":\"Circle\"},\"selection_glyph\":null,\"view\":{\"id\":\"4255e381-c7a6-4355-9265-ff9972097ac3\",\"type\":\"CDSView\"}},\"id\":\"2456bccb-59d1-4682-8d2a-c0ffb7737472\",\"type\":\"GlyphRenderer\"},{\"attributes\":{\"below\":[{\"id\":\"30fa3405-5af8-419c-aa0b-95e19b058212\",\"type\":\"LinearAxis\"}],\"left\":[{\"id\":\"7508d3a4-b44a-4323-8b63-2afb4cd07924\",\"type\":\"LinearAxis\"}],\"outline_line_color\":{\"value\":\"black\"},\"plot_height\":400,\"renderers\":[{\"id\":\"30fa3405-5af8-419c-aa0b-95e19b058212\",\"type\":\"LinearAxis\"},{\"id\":\"f63b613f-8c8d-456e-8c49-f0145c05fb3d\",\"type\":\"Grid\"},{\"id\":\"7508d3a4-b44a-4323-8b63-2afb4cd07924\",\"type\":\"LinearAxis\"},{\"id\":\"fa5985ae-5637-4290-aed9-ea27876e89c9\",\"type\":\"Grid\"},{\"id\":\"e9d821bd-38dc-4822-9f2d-6986304ddb4c\",\"type\":\"BoxAnnotation\"},{\"id\":\"9108e41c-40de-41b0-a75b-2d40a10aabaa\",\"type\":\"Legend\"},{\"id\":\"9c73fdfd-d4ec-4d95-b1fe-725f86b9dd54\",\"type\":\"GlyphRenderer\"},{\"id\":\"5e4264d7-b86a-4549-9027-2382e93b92bc\",\"type\":\"GlyphRenderer\"},{\"id\":\"806bbb9d-05cc-431c-917d-69a7a6118ca3\",\"type\":\"GlyphRenderer\"},{\"id\":\"8fe0a7c5-9509-4466-ba01-ae668f897fde\",\"type\":\"GlyphRenderer\"},{\"id\":\"231b3612-ec31-4464-b026-f7efa489ae69\",\"type\":\"GlyphRenderer\"},{\"id\":\"2456bccb-59d1-4682-8d2a-c0ffb7737472\",\"type\":\"GlyphRenderer\"},{\"id\":\"c3214403-06fc-4259-8689-9e297cdcac49\",\"type\":\"GlyphRenderer\"},{\"id\":\"94d111be-e18e-451b-bad4-e3f842abf59d\",\"type\":\"GlyphRenderer\"}],\"title\":{\"id\":\"ab7a08b2-0212-4111-b702-5b1274906b73\",\"type\":\"Title\"},\"toolbar\":{\"id\":\"a9a99008-0ca0-4b0a-8034-b557ca2621ff\",\"type\":\"Toolbar\"},\"x_range\":{\"id\":\"0a120b10-a88d-4b6d-aa5b-4299e92e7e90\",\"type\":\"DataRange1d\"},\"x_scale\":{\"id\":\"cb44136c-7f4c-4351-8a58-df07531c727c\",\"type\":\"LinearScale\"},\"y_range\":{\"id\":\"7795c61b-bd40-4230-9fbf-fabcd437bd94\",\"type\":\"DataRange1d\"},\"y_scale\":{\"id\":\"163db677-6e0f-4330-b0b8-301d18ce9508\",\"type\":\"LinearScale\"}},\"id\":\"48fa08f3-7bd4-4003-9954-13e90f7b16bf\",\"subtype\":\"Figure\",\"type\":\"Plot\"},{\"attributes\":{\"source\":{\"id\":\"6138262d-90c4-497e-8786-5c36a148c9ed\",\"type\":\"ColumnDataSource\"}},\"id\":\"fffbab01-0672-4879-ae35-3e194539cb8c\",\"type\":\"CDSView\"},{\"attributes\":{\"label\":{\"value\":\"Small cell load = 0.2\"},\"renderers\":[{\"id\":\"806bbb9d-05cc-431c-917d-69a7a6118ca3\",\"type\":\"GlyphRenderer\"}]},\"id\":\"c7b9207e-1da0-4874-a2e8-0a468ef8db85\",\"type\":\"LegendItem\"},{\"attributes\":{\"callback\":null,\"column_names\":[\"x\",\"y\"],\"data\":{\"x\":[-10,-3.473931188332412,-1.8889686876112561,-0.888968687611256,-0.014499569695115089,0.9855004303048849,1.9855004303048849,3.0018022426339854,6.999774561287003,9.00002817736235,10.00002817736235],\"y\":{\"__ndarray__\":\"KqkT0EQILUCskPKTav8sQNPGEWvx+SxAwvUoXI/iLEB7vfvjvbosQG7YtiizgSxA5x2n6EgOLEBHWipvRzgrQCFB8WPMvSZAIzKs4o0MJkAjnBa86OslQA==\",\"dtype\":\"float64\",\"shape\":[11]}}},\"id\":\"fe2d463e-f6e2-4259-bcab-c65d9683ce11\",\"type\":\"ColumnDataSource\"},{\"attributes\":{},\"id\":\"278aa11f-fcc9-4fda-8d50-6f4866abb87c\",\"type\":\"WheelZoomTool\"},{\"attributes\":{},\"id\":\"229a0795-0c2a-4586-9d3d-4fbb98d5212d\",\"type\":\"PanTool\"},{\"attributes\":{\"axis_label\":\"idle time in logscale (relative to avg. inter-arrival time)\",\"axis_label_text_color\":{\"value\":\"black\"},\"axis_label_text_font_size\":{\"value\":\"12pt\"},\"formatter\":{\"id\":\"70e0426b-aa80-4159-b731-bb67c8373a7f\",\"type\":\"BasicTickFormatter\"},\"major_label_text_color\":{\"value\":\"black\"},\"major_label_text_font_size\":{\"value\":\"10pt\"},\"plot\":{\"id\":\"48fa08f3-7bd4-4003-9954-13e90f7b16bf\",\"subtype\":\"Figure\",\"type\":\"Plot\"},\"ticker\":{\"id\":\"a361f9e5-4b10-4670-909e-a34e76c816b0\",\"type\":\"BasicTicker\"}},\"id\":\"30fa3405-5af8-419c-aa0b-95e19b058212\",\"type\":\"LinearAxis\"},{\"attributes\":{\"line_color\":{\"value\":\"navy\"},\"line_dash\":[15,2],\"x\":{\"field\":\"x\"},\"y\":{\"field\":\"y\"}},\"id\":\"dbe3d352-aeec-4998-946a-f49c51f7bac3\",\"type\":\"Line\"},{\"attributes\":{},\"id\":\"a361f9e5-4b10-4670-909e-a34e76c816b0\",\"type\":\"BasicTicker\"},{\"attributes\":{\"line_alpha\":{\"value\":0.1},\"line_color\":{\"value\":\"#1f77b4\"},\"line_dash\":[4,4],\"x\":{\"field\":\"x\"},\"y\":{\"field\":\"y\"}},\"id\":\"fe84fa13-aa58-4c0a-bb15-7d99a3a87662\",\"type\":\"Line\"},{\"attributes\":{\"data_source\":{\"id\":\"4ba7c945-6942-4dd7-b0f8-55afeea9ef65\",\"type\":\"ColumnDataSource\"},\"glyph\":{\"id\":\"005ca555-4411-4a8d-8dd3-1a519398c535\",\"type\":\"Line\"},\"hover_glyph\":null,\"muted_glyph\":null,\"nonselection_glyph\":{\"id\":\"85a8e080-6e38-49db-b508-6dab942d677f\",\"type\":\"Line\"},\"selection_glyph\":null,\"view\":{\"id\":\"14ac33f6-185e-49cb-8369-b0de7c583d41\",\"type\":\"CDSView\"}},\"id\":\"9c73fdfd-d4ec-4d95-b1fe-725f86b9dd54\",\"type\":\"GlyphRenderer\"},{\"attributes\":{\"callback\":null,\"column_names\":[\"x\",\"y\"],\"data\":{\"x\":[-10,-3.0588936890535687,-2.0588936890535687,-1.0588936890535685,0.0,1.0,2.0,3.0,7.0,9.0,10.0],\"y\":{\"__ndarray__\":\"nkZaKm+3KkCbG9MTlqgqQFWkwthCsCpADP0TXKyIKkBxxFp8CmAqQAx72uGvGSpAaozWUdV0KUC5x9KHLkgoQJUJv9TPeyVAzywJUFM7JUDlSdI1ky8lQA==\",\"dtype\":\"float64\",\"shape\":[11]}}},\"id\":\"41c7d51f-a548-4bb7-b87c-f5a5d58aa6ac\",\"type\":\"ColumnDataSource\"},{\"attributes\":{\"line_alpha\":{\"value\":0.1},\"line_color\":{\"value\":\"#1f77b4\"},\"line_dash\":[1,4],\"x\":{\"field\":\"x\"},\"y\":{\"field\":\"y\"}},\"id\":\"033cb881-d9ea-4225-bab2-93b0ad24b79a\",\"type\":\"Line\"},{\"attributes\":{\"grid_line_alpha\":{\"value\":0.1},\"grid_line_dash\":[2,2],\"plot\":{\"id\":\"48fa08f3-7bd4-4003-9954-13e90f7b16bf\",\"subtype\":\"Figure\",\"type\":\"Plot\"},\"ticker\":{\"id\":\"a361f9e5-4b10-4670-909e-a34e76c816b0\",\"type\":\"BasicTicker\"}},\"id\":\"f63b613f-8c8d-456e-8c49-f0145c05fb3d\",\"type\":\"Grid\"},{\"attributes\":{\"fill_alpha\":{\"value\":0.1},\"fill_color\":{\"value\":\"#1f77b4\"},\"line_alpha\":{\"value\":0.1},\"line_color\":{\"value\":\"#1f77b4\"},\"size\":{\"units\":\"screen\",\"value\":5},\"x\":{\"field\":\"x\"},\"y\":{\"field\":\"y\"}},\"id\":\"cf35805d-cf22-4e3c-a021-3069bdf262fd\",\"type\":\"Circle\"},{\"attributes\":{\"source\":{\"id\":\"78e0b9fa-ab3b-470e-8ade-82700caacab6\",\"type\":\"ColumnDataSource\"}},\"id\":\"b1d6d63e-c9fb-4cb2-8786-d07c518c7cbe\",\"type\":\"CDSView\"},{\"attributes\":{\"callback\":null,\"column_names\":[\"x\",\"y\"],\"data\":{\"x\":[-10,-3.0588936890535687,-2.0588936890535687,-1.0588936890535685,0.02856915219677092,0.9855004303048849,2.007195501404204,2.996388746447621,6.999774561287003,8.999943643624247,10.00002817736235],\"y\":{\"__ndarray__\":\"lUiil1E8LEAcyeU/pC8sQD7QCgxZHSxAkBmojH8fLEDl1TkGZP8rQLyuX7AblitAVisTfqn/KkCMEB5tHPEpQIrIsIo3AiZAA5Xx7zOOJUB86IL6lnklQA==\",\"dtype\":\"float64\",\"shape\":[11]}}},\"id\":\"9be5abf0-c53f-43a7-a213-1e3f12c52b29\",\"type\":\"ColumnDataSource\"},{\"attributes\":{\"line_color\":{\"value\":\"navy\"},\"x\":{\"field\":\"x\"},\"y\":{\"field\":\"y\"}},\"id\":\"005ca555-4411-4a8d-8dd3-1a519398c535\",\"type\":\"Line\"},{\"attributes\":{\"overlay\":{\"id\":\"e9d821bd-38dc-4822-9f2d-6986304ddb4c\",\"type\":\"BoxAnnotation\"}},\"id\":\"87a963a1-ddaa-442f-aea2-2aaa2d5d32d1\",\"type\":\"BoxZoomTool\"},{\"attributes\":{\"bottom_units\":\"screen\",\"fill_alpha\":{\"value\":0.5},\"fill_color\":{\"value\":\"lightgrey\"},\"left_units\":\"screen\",\"level\":\"overlay\",\"line_alpha\":{\"value\":1.0},\"line_color\":{\"value\":\"black\"},\"line_dash\":[4,4],\"line_width\":{\"value\":2},\"plot\":null,\"render_mode\":\"css\",\"right_units\":\"screen\",\"top_units\":\"screen\"},\"id\":\"e9d821bd-38dc-4822-9f2d-6986304ddb4c\",\"type\":\"BoxAnnotation\"},{\"attributes\":{\"callback\":null,\"column_names\":[\"x\",\"y\"],\"data\":{\"x\":[-10,-3.473931188332412,-1.8889686876112561,-0.888968687611256,-0.014499569695115089,0.9855004303048849,1.9855004303048849,3.0018022426339854,6.999774561287003,9.00002817736235,10.00002817736235],\"y\":{\"__ndarray__\":\"KqkT0EQILUCskPKTav8sQNPGEWvx+SxAwvUoXI/iLEB7vfvjvbosQG7YtiizgSxA5x2n6EgOLEBHWipvRzgrQCFB8WPMvSZAIzKs4o0MJkAjnBa86OslQA==\",\"dtype\":\"float64\",\"shape\":[11]}}},\"id\":\"6138262d-90c4-497e-8786-5c36a148c9ed\",\"type\":\"ColumnDataSource\"},{\"attributes\":{\"axis_label\":\"Weighted sum cost\",\"axis_label_text_color\":{\"value\":\"black\"},\"axis_label_text_font_size\":{\"value\":\"12pt\"},\"formatter\":{\"id\":\"6b4ff3c7-b451-4c81-921d-2300683d3d73\",\"type\":\"BasicTickFormatter\"},\"major_label_text_color\":{\"value\":\"black\"},\"major_label_text_font_size\":{\"value\":\"10pt\"},\"plot\":{\"id\":\"48fa08f3-7bd4-4003-9954-13e90f7b16bf\",\"subtype\":\"Figure\",\"type\":\"Plot\"},\"ticker\":{\"id\":\"aabc1a4f-1639-47f4-8858-64af8bf3f42f\",\"type\":\"BasicTicker\"}},\"id\":\"7508d3a4-b44a-4323-8b63-2afb4cd07924\",\"type\":\"LinearAxis\"},{\"attributes\":{\"callback\":null,\"column_names\":[\"x\",\"y\"],\"data\":{\"x\":[-10,-3.0588936890535687,-2.0,-1.0,0.0,1.0,2.0,3.0,7.0,9.0,10.0],\"y\":{\"__ndarray__\":\"7bYLzXUKIkAmWBzO/AoiQMYWghyUECJAcCpSYWwhIkBSSZ2AJkIiQAJDVrd6riJAUyKJXkZRI0CYNEbrqLojQCQLmMCtuyRAbjSAt0DCJEDdKR2s/8MkQA==\",\"dtype\":\"float64\",\"shape\":[11]}}},\"id\":\"4ba7c945-6942-4dd7-b0f8-55afeea9ef65\",\"type\":\"ColumnDataSource\"},{\"attributes\":{},\"id\":\"5aadf558-cfaa-4ed2-a2ed-6f378f803dca\",\"type\":\"ResetTool\"},{\"attributes\":{\"line_alpha\":{\"value\":0.1},\"line_color\":{\"value\":\"#1f77b4\"},\"x\":{\"field\":\"x\"},\"y\":{\"field\":\"y\"}},\"id\":\"85a8e080-6e38-49db-b508-6dab942d677f\",\"type\":\"Line\"},{\"attributes\":{\"source\":{\"id\":\"fe2d463e-f6e2-4259-bcab-c65d9683ce11\",\"type\":\"ColumnDataSource\"}},\"id\":\"9937084c-48cd-43b9-b599-8768156a0d9e\",\"type\":\"CDSView\"},{\"attributes\":{\"fill_alpha\":{\"value\":0.1},\"fill_color\":{\"value\":\"#1f77b4\"},\"line_alpha\":{\"value\":0.1},\"line_color\":{\"value\":\"#1f77b4\"},\"size\":{\"units\":\"screen\",\"value\":5},\"x\":{\"field\":\"x\"},\"y\":{\"field\":\"y\"}},\"id\":\"ac568368-5416-456f-bdff-d0868263971e\",\"type\":\"Circle\"},{\"attributes\":{\"items\":[{\"id\":\"a4e106d9-24f6-4fd6-b423-c1701317076a\",\"type\":\"LegendItem\"},{\"id\":\"c7b9207e-1da0-4874-a2e8-0a468ef8db85\",\"type\":\"LegendItem\"},{\"id\":\"a8698163-ce7d-4a9c-b859-797706d88a25\",\"type\":\"LegendItem\"},{\"id\":\"f38c9276-be9f-46f0-b346-b61073630d87\",\"type\":\"LegendItem\"}],\"label_text_color\":{\"value\":\"black\"},\"plot\":{\"id\":\"48fa08f3-7bd4-4003-9954-13e90f7b16bf\",\"subtype\":\"Figure\",\"type\":\"Plot\"}},\"id\":\"9108e41c-40de-41b0-a75b-2d40a10aabaa\",\"type\":\"Legend\"},{\"attributes\":{\"callback\":null,\"column_names\":[\"x\",\"y\"],\"data\":{\"x\":[-10,-3.0588936890535687,-2.0588936890535687,-1.0588936890535685,0.0,1.0,2.0,3.0,7.0,9.0,10.0],\"y\":{\"__ndarray__\":\"nkZaKm+3KkCbG9MTlqgqQFWkwthCsCpADP0TXKyIKkBxxFp8CmAqQAx72uGvGSpAaozWUdV0KUC5x9KHLkgoQJUJv9TPeyVAzywJUFM7JUDlSdI1ky8lQA==\",\"dtype\":\"float64\",\"shape\":[11]}}},\"id\":\"92b96a6e-30a4-466b-9822-2e5c2bc86c3e\",\"type\":\"ColumnDataSource\"},{\"attributes\":{\"plot\":null,\"text\":\"\"},\"id\":\"ab7a08b2-0212-4111-b702-5b1274906b73\",\"type\":\"Title\"},{\"attributes\":{\"source\":{\"id\":\"18860094-bff5-4e57-838f-dd58a0c2c591\",\"type\":\"ColumnDataSource\"}},\"id\":\"f4cd5706-68c1-4be9-9f8c-4458a800c6ff\",\"type\":\"CDSView\"},{\"attributes\":{\"line_color\":{\"value\":\"navy\"},\"line_dash\":[1,4],\"x\":{\"field\":\"x\"},\"y\":{\"field\":\"y\"}},\"id\":\"f9ad4273-e1dd-4dd0-9508-8c85f03a8708\",\"type\":\"Line\"},{\"attributes\":{\"source\":{\"id\":\"4ba7c945-6942-4dd7-b0f8-55afeea9ef65\",\"type\":\"ColumnDataSource\"}},\"id\":\"14ac33f6-185e-49cb-8369-b0de7c583d41\",\"type\":\"CDSView\"},{\"attributes\":{\"data_source\":{\"id\":\"41c7d51f-a548-4bb7-b87c-f5a5d58aa6ac\",\"type\":\"ColumnDataSource\"},\"glyph\":{\"id\":\"b93f1a27-e6fb-40bc-aa73-0e96ba33fc25\",\"type\":\"Circle\"},\"hover_glyph\":null,\"muted_glyph\":null,\"nonselection_glyph\":{\"id\":\"cf35805d-cf22-4e3c-a021-3069bdf262fd\",\"type\":\"Circle\"},\"selection_glyph\":null,\"view\":{\"id\":\"62f829c7-a9d5-470c-a966-40f91ce65c21\",\"type\":\"CDSView\"}},\"id\":\"8fe0a7c5-9509-4466-ba01-ae668f897fde\",\"type\":\"GlyphRenderer\"},{\"attributes\":{},\"id\":\"70e0426b-aa80-4159-b731-bb67c8373a7f\",\"type\":\"BasicTickFormatter\"},{\"attributes\":{\"active_drag\":\"auto\",\"active_inspect\":\"auto\",\"active_scroll\":\"auto\",\"active_tap\":\"auto\",\"tools\":[{\"id\":\"229a0795-0c2a-4586-9d3d-4fbb98d5212d\",\"type\":\"PanTool\"},{\"id\":\"278aa11f-fcc9-4fda-8d50-6f4866abb87c\",\"type\":\"WheelZoomTool\"},{\"id\":\"87a963a1-ddaa-442f-aea2-2aaa2d5d32d1\",\"type\":\"BoxZoomTool\"},{\"id\":\"4e323e2f-c77b-490f-8943-719dd0943ac7\",\"type\":\"SaveTool\"},{\"id\":\"5aadf558-cfaa-4ed2-a2ed-6f378f803dca\",\"type\":\"ResetTool\"},{\"id\":\"e5b6aff6-8f9b-43c6-963a-812fb5369530\",\"type\":\"HelpTool\"}]},\"id\":\"a9a99008-0ca0-4b0a-8034-b557ca2621ff\",\"type\":\"Toolbar\"},{\"attributes\":{\"fill_color\":{\"value\":\"white\"},\"line_color\":{\"value\":\"navy\"},\"size\":{\"units\":\"screen\",\"value\":5},\"x\":{\"field\":\"x\"},\"y\":{\"field\":\"y\"}},\"id\":\"b93f1a27-e6fb-40bc-aa73-0e96ba33fc25\",\"type\":\"Circle\"},{\"attributes\":{\"label\":{\"value\":\"Small cell load = 0.5\"},\"renderers\":[{\"id\":\"c3214403-06fc-4259-8689-9e297cdcac49\",\"type\":\"GlyphRenderer\"}]},\"id\":\"f38c9276-be9f-46f0-b346-b61073630d87\",\"type\":\"LegendItem\"},{\"attributes\":{\"callback\":null},\"id\":\"7795c61b-bd40-4230-9fbf-fabcd437bd94\",\"type\":\"DataRange1d\"},{\"attributes\":{\"data_source\":{\"id\":\"18860094-bff5-4e57-838f-dd58a0c2c591\",\"type\":\"ColumnDataSource\"},\"glyph\":{\"id\":\"bcde0b48-e8d8-47fd-83dd-84c0300f149c\",\"type\":\"Circle\"},\"hover_glyph\":null,\"muted_glyph\":null,\"nonselection_glyph\":{\"id\":\"f4b7fa0a-b2f9-45b6-bdc5-6e3336bcfe11\",\"type\":\"Circle\"},\"selection_glyph\":null,\"view\":{\"id\":\"f4cd5706-68c1-4be9-9f8c-4458a800c6ff\",\"type\":\"CDSView\"}},\"id\":\"5e4264d7-b86a-4549-9027-2382e93b92bc\",\"type\":\"GlyphRenderer\"},{\"attributes\":{\"line_alpha\":{\"value\":0.1},\"line_color\":{\"value\":\"#1f77b4\"},\"line_dash\":[15,2],\"x\":{\"field\":\"x\"},\"y\":{\"field\":\"y\"}},\"id\":\"dbeae28b-d77b-4402-8244-baa6df3cf72f\",\"type\":\"Line\"},{\"attributes\":{\"data_source\":{\"id\":\"6138262d-90c4-497e-8786-5c36a148c9ed\",\"type\":\"ColumnDataSource\"},\"glyph\":{\"id\":\"33815e33-ade5-4cdd-a003-adb27d7d840f\",\"type\":\"Circle\"},\"hover_glyph\":null,\"muted_glyph\":null,\"nonselection_glyph\":{\"id\":\"79a4db91-f42d-4760-b5fb-721a1372a6d2\",\"type\":\"Circle\"},\"selection_glyph\":null,\"view\":{\"id\":\"fffbab01-0672-4879-ae35-3e194539cb8c\",\"type\":\"CDSView\"}},\"id\":\"94d111be-e18e-451b-bad4-e3f842abf59d\",\"type\":\"GlyphRenderer\"},{\"attributes\":{\"line_color\":{\"value\":\"navy\"},\"line_dash\":[4,4],\"x\":{\"field\":\"x\"},\"y\":{\"field\":\"y\"}},\"id\":\"d0bf6fd8-2efd-4536-8c2a-27174a0980e8\",\"type\":\"Line\"},{\"attributes\":{\"fill_color\":{\"value\":\"white\"},\"line_color\":{\"value\":\"navy\"},\"size\":{\"units\":\"screen\",\"value\":5},\"x\":{\"field\":\"x\"},\"y\":{\"field\":\"y\"}},\"id\":\"d2830c42-4bb0-4dff-9f50-2ce5431e655d\",\"type\":\"Circle\"},{\"attributes\":{},\"id\":\"163db677-6e0f-4330-b0b8-301d18ce9508\",\"type\":\"LinearScale\"},{\"attributes\":{\"fill_color\":{\"value\":\"white\"},\"line_color\":{\"value\":\"navy\"},\"size\":{\"units\":\"screen\",\"value\":5},\"x\":{\"field\":\"x\"},\"y\":{\"field\":\"y\"}},\"id\":\"bcde0b48-e8d8-47fd-83dd-84c0300f149c\",\"type\":\"Circle\"},{\"attributes\":{\"data_source\":{\"id\":\"fe2d463e-f6e2-4259-bcab-c65d9683ce11\",\"type\":\"ColumnDataSource\"},\"glyph\":{\"id\":\"f9ad4273-e1dd-4dd0-9508-8c85f03a8708\",\"type\":\"Line\"},\"hover_glyph\":null,\"muted_glyph\":null,\"nonselection_glyph\":{\"id\":\"033cb881-d9ea-4225-bab2-93b0ad24b79a\",\"type\":\"Line\"},\"selection_glyph\":null,\"view\":{\"id\":\"9937084c-48cd-43b9-b599-8768156a0d9e\",\"type\":\"CDSView\"}},\"id\":\"c3214403-06fc-4259-8689-9e297cdcac49\",\"type\":\"GlyphRenderer\"},{\"attributes\":{\"callback\":null,\"column_names\":[\"x\",\"y\"],\"data\":{\"x\":[-10,-3.0588936890535687,-2.0,-1.0,0.0,1.0,2.0,3.0,7.0,9.0,10.0],\"y\":{\"__ndarray__\":\"7bYLzXUKIkAmWBzO/AoiQMYWghyUECJAcCpSYWwhIkBSSZ2AJkIiQAJDVrd6riJAUyKJXkZRI0CYNEbrqLojQCQLmMCtuyRAbjSAt0DCJEDdKR2s/8MkQA==\",\"dtype\":\"float64\",\"shape\":[11]}}},\"id\":\"18860094-bff5-4e57-838f-dd58a0c2c591\",\"type\":\"ColumnDataSource\"},{\"attributes\":{\"fill_color\":{\"value\":\"white\"},\"line_color\":{\"value\":\"navy\"},\"size\":{\"units\":\"screen\",\"value\":5},\"x\":{\"field\":\"x\"},\"y\":{\"field\":\"y\"}},\"id\":\"33815e33-ade5-4cdd-a003-adb27d7d840f\",\"type\":\"Circle\"},{\"attributes\":{},\"id\":\"cb44136c-7f4c-4351-8a58-df07531c727c\",\"type\":\"LinearScale\"},{\"attributes\":{},\"id\":\"aabc1a4f-1639-47f4-8858-64af8bf3f42f\",\"type\":\"BasicTicker\"},{\"attributes\":{\"callback\":null},\"id\":\"0a120b10-a88d-4b6d-aa5b-4299e92e7e90\",\"type\":\"DataRange1d\"},{\"attributes\":{\"label\":{\"value\":\"Small cell load = 0.05\"},\"renderers\":[{\"id\":\"9c73fdfd-d4ec-4d95-b1fe-725f86b9dd54\",\"type\":\"GlyphRenderer\"}]},\"id\":\"a4e106d9-24f6-4fd6-b423-c1701317076a\",\"type\":\"LegendItem\"},{\"attributes\":{},\"id\":\"6b4ff3c7-b451-4c81-921d-2300683d3d73\",\"type\":\"BasicTickFormatter\"},{\"attributes\":{\"fill_alpha\":{\"value\":0.1},\"fill_color\":{\"value\":\"#1f77b4\"},\"line_alpha\":{\"value\":0.1},\"line_color\":{\"value\":\"#1f77b4\"},\"size\":{\"units\":\"screen\",\"value\":5},\"x\":{\"field\":\"x\"},\"y\":{\"field\":\"y\"}},\"id\":\"f4b7fa0a-b2f9-45b6-bdc5-6e3336bcfe11\",\"type\":\"Circle\"},{\"attributes\":{\"source\":{\"id\":\"92b96a6e-30a4-466b-9822-2e5c2bc86c3e\",\"type\":\"ColumnDataSource\"}},\"id\":\"fe25a60b-ef0e-4f73-965c-414de5c14908\",\"type\":\"CDSView\"},{\"attributes\":{},\"id\":\"4e323e2f-c77b-490f-8943-719dd0943ac7\",\"type\":\"SaveTool\"},{\"attributes\":{},\"id\":\"e5b6aff6-8f9b-43c6-963a-812fb5369530\",\"type\":\"HelpTool\"},{\"attributes\":{\"source\":{\"id\":\"9be5abf0-c53f-43a7-a213-1e3f12c52b29\",\"type\":\"ColumnDataSource\"}},\"id\":\"4255e381-c7a6-4355-9265-ff9972097ac3\",\"type\":\"CDSView\"},{\"attributes\":{\"callback\":null,\"column_names\":[\"x\",\"y\"],\"data\":{\"x\":[-10,-3.0588936890535687,-2.0588936890535687,-1.0588936890535685,0.02856915219677092,0.9855004303048849,2.007195501404204,2.996388746447621,6.999774561287003,8.999943643624247,10.00002817736235],\"y\":{\"__ndarray__\":\"lUiil1E8LEAcyeU/pC8sQD7QCgxZHSxAkBmojH8fLEDl1TkGZP8rQLyuX7AblitAVisTfqn/KkCMEB5tHPEpQIrIsIo3AiZAA5Xx7zOOJUB86IL6lnklQA==\",\"dtype\":\"float64\",\"shape\":[11]}}},\"id\":\"78e0b9fa-ab3b-470e-8ade-82700caacab6\",\"type\":\"ColumnDataSource\"},{\"attributes\":{\"source\":{\"id\":\"41c7d51f-a548-4bb7-b87c-f5a5d58aa6ac\",\"type\":\"ColumnDataSource\"}},\"id\":\"62f829c7-a9d5-470c-a966-40f91ce65c21\",\"type\":\"CDSView\"},{\"attributes\":{\"data_source\":{\"id\":\"92b96a6e-30a4-466b-9822-2e5c2bc86c3e\",\"type\":\"ColumnDataSource\"},\"glyph\":{\"id\":\"dbe3d352-aeec-4998-946a-f49c51f7bac3\",\"type\":\"Line\"},\"hover_glyph\":null,\"muted_glyph\":null,\"nonselection_glyph\":{\"id\":\"dbeae28b-d77b-4402-8244-baa6df3cf72f\",\"type\":\"Line\"},\"selection_glyph\":null,\"view\":{\"id\":\"fe25a60b-ef0e-4f73-965c-414de5c14908\",\"type\":\"CDSView\"}},\"id\":\"806bbb9d-05cc-431c-917d-69a7a6118ca3\",\"type\":\"GlyphRenderer\"},{\"attributes\":{\"dimension\":1,\"grid_line_alpha\":{\"value\":0.1},\"grid_line_dash\":[2,2],\"plot\":{\"id\":\"48fa08f3-7bd4-4003-9954-13e90f7b16bf\",\"subtype\":\"Figure\",\"type\":\"Plot\"},\"ticker\":{\"id\":\"aabc1a4f-1639-47f4-8858-64af8bf3f42f\",\"type\":\"BasicTicker\"}},\"id\":\"fa5985ae-5637-4290-aed9-ea27876e89c9\",\"type\":\"Grid\"},{\"attributes\":{\"label\":{\"value\":\"Small cell load = 0.32\"},\"renderers\":[{\"id\":\"231b3612-ec31-4464-b026-f7efa489ae69\",\"type\":\"GlyphRenderer\"}]},\"id\":\"a8698163-ce7d-4a9c-b859-797706d88a25\",\"type\":\"LegendItem\"}],\"root_ids\":[\"48fa08f3-7bd4-4003-9954-13e90f7b16bf\"]},\"title\":\"Bokeh Application\",\"version\":\"0.12.10\"}};\n",
       "    var render_items = [{\"docid\":\"59c3c40b-7f5b-41e5-860a-a865725771cd\",\"elementid\":\"e34cfa1a-94ef-48c3-9a0b-fe699ba2f56b\",\"modelid\":\"48fa08f3-7bd4-4003-9954-13e90f7b16bf\"}];\n",
       "\n",
       "    root.Bokeh.embed.embed_items(docs_json, render_items);\n",
       "  }\n",
       "\n",
       "  if (root.Bokeh !== undefined) {\n",
       "    embed_document(root);\n",
       "  } else {\n",
       "    var attempts = 0;\n",
       "    var timer = setInterval(function(root) {\n",
       "      if (root.Bokeh !== undefined) {\n",
       "        embed_document(root);\n",
       "        clearInterval(timer);\n",
       "      }\n",
       "      attempts++;\n",
       "      if (attempts > 100) {\n",
       "        console.log(\"Bokeh: ERROR: Unable to embed document because BokehJS library is missing\")\n",
       "        clearInterval(timer);\n",
       "      }\n",
       "    }, 10, root)\n",
       "  }\n",
       "})(window);"
      ],
      "application/vnd.bokehjs_exec.v0+json": ""
     },
     "metadata": {
      "application/vnd.bokehjs_exec.v0+json": {
       "id": "48fa08f3-7bd4-4003-9954-13e90f7b16bf"
      }
     },
     "output_type": "display_data"
    }
   ],
   "source": [
    "df=pd.read_csv('setup_1.0_erws/output_1.csv', skiprows=1)\n",
    "\n",
    "if df.iloc[-1][0] > 0:\n",
    "    df = df.iloc[-1:]\n",
    "else:\n",
    "    df = df.iloc[1:2]\n",
    "\n",
    "for i in range(2,45):\n",
    "    df_tmp = pd.read_csv('setup_1.0_erws/output_'+str(i)+'.csv', skiprows=1)\n",
    "    #df_rnd_tmp = df_tmp.loc[0,:]\n",
    "    #df_rnd = df_rnd.append(df_rnd_tmp)\n",
    "    if df_tmp.iloc[-1][0] > 0:\n",
    "        df_tmp = df_tmp.iloc[-1:]\n",
    "    else:\n",
    "        df_tmp = df_tmp.iloc[1:2]\n",
    "    df = df.append(df_tmp)\n",
    "\n",
    "df['relative_idle_time'] = df.small_arrival * df.avg_idle_time\n",
    "\n",
    "p0 = figure(plot_width=600, plot_height=400)\n",
    "\n",
    "\n",
    "p0.line(logscale(1), df[df.small_arrival==1].avg_resp_time + 0.01 * df[df.small_arrival==1].avg_power, line_color='navy',legend='Small cell load = 0.05')\n",
    "p0.circle(logscale(1), df[df.small_arrival==1].avg_resp_time + 0.01 * df[df.small_arrival==1].avg_power, color='white', line_color='navy',size=5)\n",
    "p0.line(logscale(4), df[df.small_arrival==4].avg_resp_time + 0.01 * df[df.small_arrival==4].avg_power, line_color='navy',line_dash=\"15 2\",legend='Small cell load = 0.2')\n",
    "p0.circle(logscale(4), df[df.small_arrival==4].avg_resp_time + 0.01 * df[df.small_arrival==4].avg_power, color='white', line_color='navy',size=5)\n",
    "\n",
    "p0.line(logscale(6), df[df.small_arrival==6].avg_resp_time + 0.01 * df[df.small_arrival==6].avg_power, line_color='navy',line_dash=\"4 4\",legend='Small cell load = 0.32')\n",
    "p0.circle(logscale(6), df[df.small_arrival==6].avg_resp_time + 0.01 * df[df.small_arrival==6].avg_power, color='white', line_color='navy',size=5)\n",
    "\n",
    "p0.line(logscale(9), df[df.small_arrival==9].avg_resp_time + 0.01 * df[df.small_arrival==9].avg_power, line_color='navy',line_dash=\"1 4\",legend='Small cell load = 0.5')\n",
    "p0.circle(logscale(9), df[df.small_arrival==9].avg_resp_time + 0.01 * df[df.small_arrival==9].avg_power, color='white', line_color='navy',size=5)\n",
    "\n",
    "\n",
    "p0.grid.grid_line_dash = [2,2]\n",
    "p0.grid.grid_line_alpha = 0.1\n",
    "\n",
    "p0.xaxis.axis_label = 'idle time in logscale (relative to avg. inter-arrival time)'\n",
    "p0.yaxis.axis_label = 'Weighted sum cost'\n",
    "\n",
    "p0.xaxis.axis_label_text_color = 'black'\n",
    "p0.xaxis.major_label_text_color = 'black'\n",
    "p0.yaxis.axis_label_text_color = 'black'\n",
    "p0.yaxis.major_label_text_color = 'black'\n",
    "p0.legend.label_text_color = 'black'\n",
    "\n",
    "p0.legend.location  = 'top_right'\n",
    "p0.outline_line_color = 'black'\n",
    "\n",
    "p0.axis.axis_label_text_font_size = '12pt'\n",
    "p0.axis.major_label_text_font_size = '10pt'\n",
    "export_png(p0, filename='/Users/misikir/Google Drive/EIT-project/documentation/Figures/weighted-sum-long-setup.png')\n",
    "\n",
    "show(p0)"
   ]
  },
  {
   "cell_type": "code",
   "execution_count": null,
   "metadata": {},
   "outputs": [],
   "source": []
  }
 ],
 "metadata": {
  "anaconda-cloud": {},
  "kernelspec": {
   "display_name": "Python [default]",
   "language": "python",
   "name": "python3"
  },
  "language_info": {
   "codemirror_mode": {
    "name": "ipython",
    "version": 3
   },
   "file_extension": ".py",
   "mimetype": "text/x-python",
   "name": "python",
   "nbconvert_exporter": "python",
   "pygments_lexer": "ipython3",
   "version": "3.5.2"
  }
 },
 "nbformat": 4,
 "nbformat_minor": 1
}
