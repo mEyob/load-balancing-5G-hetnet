{
 "cells": [
  {
   "cell_type": "code",
   "execution_count": 1,
   "metadata": {},
   "outputs": [],
   "source": [
    "from bokeh.io import output_notebook, show\n",
    "from bokeh.plotting import figure"
   ]
  },
  {
   "cell_type": "code",
   "execution_count": 2,
   "metadata": {},
   "outputs": [
    {
     "data": {
      "text/html": [
       "\n",
       "    <div class=\"bk-root\">\n",
       "        <a href=\"https://bokeh.pydata.org\" target=\"_blank\" class=\"bk-logo bk-logo-small bk-logo-notebook\"></a>\n",
       "        <span id=\"ec1c9e7d-de27-4372-b23c-22b0b2ca4a78\">Loading BokehJS ...</span>\n",
       "    </div>"
      ]
     },
     "metadata": {},
     "output_type": "display_data"
    },
    {
     "data": {
      "application/javascript": [
       "\n",
       "(function(root) {\n",
       "  function now() {\n",
       "    return new Date();\n",
       "  }\n",
       "\n",
       "  var force = true;\n",
       "\n",
       "  if (typeof (root._bokeh_onload_callbacks) === \"undefined\" || force === true) {\n",
       "    root._bokeh_onload_callbacks = [];\n",
       "    root._bokeh_is_loading = undefined;\n",
       "  }\n",
       "\n",
       "  var JS_MIME_TYPE = 'application/javascript';\n",
       "  var HTML_MIME_TYPE = 'text/html';\n",
       "  var EXEC_MIME_TYPE = 'application/vnd.bokehjs_exec.v0+json';\n",
       "  var CLASS_NAME = 'output_bokeh rendered_html';\n",
       "\n",
       "  /**\n",
       "   * Render data to the DOM node\n",
       "   */\n",
       "  function render(props, node) {\n",
       "    var script = document.createElement(\"script\");\n",
       "    node.appendChild(script);\n",
       "  }\n",
       "\n",
       "  /**\n",
       "   * Handle when an output is cleared or removed\n",
       "   */\n",
       "  function handleClearOutput(event, handle) {\n",
       "    var cell = handle.cell;\n",
       "\n",
       "    var id = cell.output_area._bokeh_element_id;\n",
       "    var server_id = cell.output_area._bokeh_server_id;\n",
       "    // Clean up Bokeh references\n",
       "    if (id !== undefined) {\n",
       "      Bokeh.index[id].model.document.clear();\n",
       "      delete Bokeh.index[id];\n",
       "    }\n",
       "\n",
       "    if (server_id !== undefined) {\n",
       "      // Clean up Bokeh references\n",
       "      var cmd = \"from bokeh.io.state import curstate; print(curstate().uuid_to_server['\" + server_id + \"'].get_sessions()[0].document.roots[0]._id)\";\n",
       "      cell.notebook.kernel.execute(cmd, {\n",
       "        iopub: {\n",
       "          output: function(msg) {\n",
       "            var element_id = msg.content.text.trim();\n",
       "            Bokeh.index[element_id].model.document.clear();\n",
       "            delete Bokeh.index[element_id];\n",
       "          }\n",
       "        }\n",
       "      });\n",
       "      // Destroy server and session\n",
       "      var cmd = \"import bokeh.io.notebook as ion; ion.destroy_server('\" + server_id + \"')\";\n",
       "      cell.notebook.kernel.execute(cmd);\n",
       "    }\n",
       "  }\n",
       "\n",
       "  /**\n",
       "   * Handle when a new output is added\n",
       "   */\n",
       "  function handleAddOutput(event, handle) {\n",
       "    var output_area = handle.output_area;\n",
       "    var output = handle.output;\n",
       "\n",
       "    // limit handleAddOutput to display_data with EXEC_MIME_TYPE content only\n",
       "    if ((output.output_type != \"display_data\") || (!output.data.hasOwnProperty(EXEC_MIME_TYPE))) {\n",
       "      return\n",
       "    }\n",
       "\n",
       "    var toinsert = output_area.element.find(`.${CLASS_NAME.split(' ')[0]}`);\n",
       "\n",
       "    if (output.metadata[EXEC_MIME_TYPE][\"id\"] !== undefined) {\n",
       "      toinsert[0].firstChild.textContent = output.data[JS_MIME_TYPE];\n",
       "      // store reference to embed id on output_area\n",
       "      output_area._bokeh_element_id = output.metadata[EXEC_MIME_TYPE][\"id\"];\n",
       "    }\n",
       "    if (output.metadata[EXEC_MIME_TYPE][\"server_id\"] !== undefined) {\n",
       "      var bk_div = document.createElement(\"div\");\n",
       "      bk_div.innerHTML = output.data[HTML_MIME_TYPE];\n",
       "      var script_attrs = bk_div.children[0].attributes;\n",
       "      for (var i = 0; i < script_attrs.length; i++) {\n",
       "        toinsert[0].firstChild.setAttribute(script_attrs[i].name, script_attrs[i].value);\n",
       "      }\n",
       "      // store reference to server id on output_area\n",
       "      output_area._bokeh_server_id = output.metadata[EXEC_MIME_TYPE][\"server_id\"];\n",
       "    }\n",
       "  }\n",
       "\n",
       "  function register_renderer(events, OutputArea) {\n",
       "\n",
       "    function append_mime(data, metadata, element) {\n",
       "      // create a DOM node to render to\n",
       "      var toinsert = this.create_output_subarea(\n",
       "        metadata,\n",
       "        CLASS_NAME,\n",
       "        EXEC_MIME_TYPE\n",
       "      );\n",
       "      this.keyboard_manager.register_events(toinsert);\n",
       "      // Render to node\n",
       "      var props = {data: data, metadata: metadata[EXEC_MIME_TYPE]};\n",
       "      render(props, toinsert[0]);\n",
       "      element.append(toinsert);\n",
       "      return toinsert\n",
       "    }\n",
       "\n",
       "    /* Handle when an output is cleared or removed */\n",
       "    events.on('clear_output.CodeCell', handleClearOutput);\n",
       "    events.on('delete.Cell', handleClearOutput);\n",
       "\n",
       "    /* Handle when a new output is added */\n",
       "    events.on('output_added.OutputArea', handleAddOutput);\n",
       "\n",
       "    /**\n",
       "     * Register the mime type and append_mime function with output_area\n",
       "     */\n",
       "    OutputArea.prototype.register_mime_type(EXEC_MIME_TYPE, append_mime, {\n",
       "      /* Is output safe? */\n",
       "      safe: true,\n",
       "      /* Index of renderer in `output_area.display_order` */\n",
       "      index: 0\n",
       "    });\n",
       "  }\n",
       "\n",
       "  // register the mime type if in Jupyter Notebook environment and previously unregistered\n",
       "  if (root.Jupyter !== undefined) {\n",
       "    var events = require('base/js/events');\n",
       "    var OutputArea = require('notebook/js/outputarea').OutputArea;\n",
       "\n",
       "    if (OutputArea.prototype.mime_types().indexOf(EXEC_MIME_TYPE) == -1) {\n",
       "      register_renderer(events, OutputArea);\n",
       "    }\n",
       "  }\n",
       "\n",
       "  \n",
       "  if (typeof (root._bokeh_timeout) === \"undefined\" || force === true) {\n",
       "    root._bokeh_timeout = Date.now() + 5000;\n",
       "    root._bokeh_failed_load = false;\n",
       "  }\n",
       "\n",
       "  var NB_LOAD_WARNING = {'data': {'text/html':\n",
       "     \"<div style='background-color: #fdd'>\\n\"+\n",
       "     \"<p>\\n\"+\n",
       "     \"BokehJS does not appear to have successfully loaded. If loading BokehJS from CDN, this \\n\"+\n",
       "     \"may be due to a slow or bad network connection. Possible fixes:\\n\"+\n",
       "     \"</p>\\n\"+\n",
       "     \"<ul>\\n\"+\n",
       "     \"<li>re-rerun `output_notebook()` to attempt to load from CDN again, or</li>\\n\"+\n",
       "     \"<li>use INLINE resources instead, as so:</li>\\n\"+\n",
       "     \"</ul>\\n\"+\n",
       "     \"<code>\\n\"+\n",
       "     \"from bokeh.resources import INLINE\\n\"+\n",
       "     \"output_notebook(resources=INLINE)\\n\"+\n",
       "     \"</code>\\n\"+\n",
       "     \"</div>\"}};\n",
       "\n",
       "  function display_loaded() {\n",
       "    var el = document.getElementById(\"ec1c9e7d-de27-4372-b23c-22b0b2ca4a78\");\n",
       "    if (el != null) {\n",
       "      el.textContent = \"BokehJS is loading...\";\n",
       "    }\n",
       "    if (root.Bokeh !== undefined) {\n",
       "      if (el != null) {\n",
       "        el.textContent = \"BokehJS \" + root.Bokeh.version + \" successfully loaded.\";\n",
       "      }\n",
       "    } else if (Date.now() < root._bokeh_timeout) {\n",
       "      setTimeout(display_loaded, 100)\n",
       "    }\n",
       "  }\n",
       "\n",
       "\n",
       "  function run_callbacks() {\n",
       "    try {\n",
       "      root._bokeh_onload_callbacks.forEach(function(callback) { callback() });\n",
       "    }\n",
       "    finally {\n",
       "      delete root._bokeh_onload_callbacks\n",
       "    }\n",
       "    console.info(\"Bokeh: all callbacks have finished\");\n",
       "  }\n",
       "\n",
       "  function load_libs(js_urls, callback) {\n",
       "    root._bokeh_onload_callbacks.push(callback);\n",
       "    if (root._bokeh_is_loading > 0) {\n",
       "      console.log(\"Bokeh: BokehJS is being loaded, scheduling callback at\", now());\n",
       "      return null;\n",
       "    }\n",
       "    if (js_urls == null || js_urls.length === 0) {\n",
       "      run_callbacks();\n",
       "      return null;\n",
       "    }\n",
       "    console.log(\"Bokeh: BokehJS not loaded, scheduling load and callback at\", now());\n",
       "    root._bokeh_is_loading = js_urls.length;\n",
       "    for (var i = 0; i < js_urls.length; i++) {\n",
       "      var url = js_urls[i];\n",
       "      var s = document.createElement('script');\n",
       "      s.src = url;\n",
       "      s.async = false;\n",
       "      s.onreadystatechange = s.onload = function() {\n",
       "        root._bokeh_is_loading--;\n",
       "        if (root._bokeh_is_loading === 0) {\n",
       "          console.log(\"Bokeh: all BokehJS libraries loaded\");\n",
       "          run_callbacks()\n",
       "        }\n",
       "      };\n",
       "      s.onerror = function() {\n",
       "        console.warn(\"failed to load library \" + url);\n",
       "      };\n",
       "      console.log(\"Bokeh: injecting script tag for BokehJS library: \", url);\n",
       "      document.getElementsByTagName(\"head\")[0].appendChild(s);\n",
       "    }\n",
       "  };var element = document.getElementById(\"ec1c9e7d-de27-4372-b23c-22b0b2ca4a78\");\n",
       "  if (element == null) {\n",
       "    console.log(\"Bokeh: ERROR: autoload.js configured with elementid 'ec1c9e7d-de27-4372-b23c-22b0b2ca4a78' but no matching script tag was found. \")\n",
       "    return false;\n",
       "  }\n",
       "\n",
       "  var js_urls = [\"https://cdn.pydata.org/bokeh/release/bokeh-0.12.10.min.js\", \"https://cdn.pydata.org/bokeh/release/bokeh-widgets-0.12.10.min.js\", \"https://cdn.pydata.org/bokeh/release/bokeh-tables-0.12.10.min.js\", \"https://cdn.pydata.org/bokeh/release/bokeh-gl-0.12.10.min.js\"];\n",
       "\n",
       "  var inline_js = [\n",
       "    function(Bokeh) {\n",
       "      Bokeh.set_log_level(\"info\");\n",
       "    },\n",
       "    \n",
       "    function(Bokeh) {\n",
       "      \n",
       "    },\n",
       "    function(Bokeh) {\n",
       "      console.log(\"Bokeh: injecting CSS: https://cdn.pydata.org/bokeh/release/bokeh-0.12.10.min.css\");\n",
       "      Bokeh.embed.inject_css(\"https://cdn.pydata.org/bokeh/release/bokeh-0.12.10.min.css\");\n",
       "      console.log(\"Bokeh: injecting CSS: https://cdn.pydata.org/bokeh/release/bokeh-widgets-0.12.10.min.css\");\n",
       "      Bokeh.embed.inject_css(\"https://cdn.pydata.org/bokeh/release/bokeh-widgets-0.12.10.min.css\");\n",
       "      console.log(\"Bokeh: injecting CSS: https://cdn.pydata.org/bokeh/release/bokeh-tables-0.12.10.min.css\");\n",
       "      Bokeh.embed.inject_css(\"https://cdn.pydata.org/bokeh/release/bokeh-tables-0.12.10.min.css\");\n",
       "    }\n",
       "  ];\n",
       "\n",
       "  function run_inline_js() {\n",
       "    \n",
       "    if ((root.Bokeh !== undefined) || (force === true)) {\n",
       "      for (var i = 0; i < inline_js.length; i++) {\n",
       "        inline_js[i].call(root, root.Bokeh);\n",
       "      }if (force === true) {\n",
       "        display_loaded();\n",
       "      }} else if (Date.now() < root._bokeh_timeout) {\n",
       "      setTimeout(run_inline_js, 100);\n",
       "    } else if (!root._bokeh_failed_load) {\n",
       "      console.log(\"Bokeh: BokehJS failed to load within specified timeout.\");\n",
       "      root._bokeh_failed_load = true;\n",
       "    } else if (force !== true) {\n",
       "      var cell = $(document.getElementById(\"ec1c9e7d-de27-4372-b23c-22b0b2ca4a78\")).parents('.cell').data().cell;\n",
       "      cell.output_area.append_execute_result(NB_LOAD_WARNING)\n",
       "    }\n",
       "\n",
       "  }\n",
       "\n",
       "  if (root._bokeh_is_loading === 0) {\n",
       "    console.log(\"Bokeh: BokehJS loaded, going straight to plotting\");\n",
       "    run_inline_js();\n",
       "  } else {\n",
       "    load_libs(js_urls, function() {\n",
       "      console.log(\"Bokeh: BokehJS plotting callback run at\", now());\n",
       "      run_inline_js();\n",
       "    });\n",
       "  }\n",
       "}(window));"
      ],
      "application/vnd.bokehjs_load.v0+json": "\n(function(root) {\n  function now() {\n    return new Date();\n  }\n\n  var force = true;\n\n  if (typeof (root._bokeh_onload_callbacks) === \"undefined\" || force === true) {\n    root._bokeh_onload_callbacks = [];\n    root._bokeh_is_loading = undefined;\n  }\n\n  \n\n  \n  if (typeof (root._bokeh_timeout) === \"undefined\" || force === true) {\n    root._bokeh_timeout = Date.now() + 5000;\n    root._bokeh_failed_load = false;\n  }\n\n  var NB_LOAD_WARNING = {'data': {'text/html':\n     \"<div style='background-color: #fdd'>\\n\"+\n     \"<p>\\n\"+\n     \"BokehJS does not appear to have successfully loaded. If loading BokehJS from CDN, this \\n\"+\n     \"may be due to a slow or bad network connection. Possible fixes:\\n\"+\n     \"</p>\\n\"+\n     \"<ul>\\n\"+\n     \"<li>re-rerun `output_notebook()` to attempt to load from CDN again, or</li>\\n\"+\n     \"<li>use INLINE resources instead, as so:</li>\\n\"+\n     \"</ul>\\n\"+\n     \"<code>\\n\"+\n     \"from bokeh.resources import INLINE\\n\"+\n     \"output_notebook(resources=INLINE)\\n\"+\n     \"</code>\\n\"+\n     \"</div>\"}};\n\n  function display_loaded() {\n    var el = document.getElementById(\"ec1c9e7d-de27-4372-b23c-22b0b2ca4a78\");\n    if (el != null) {\n      el.textContent = \"BokehJS is loading...\";\n    }\n    if (root.Bokeh !== undefined) {\n      if (el != null) {\n        el.textContent = \"BokehJS \" + root.Bokeh.version + \" successfully loaded.\";\n      }\n    } else if (Date.now() < root._bokeh_timeout) {\n      setTimeout(display_loaded, 100)\n    }\n  }\n\n\n  function run_callbacks() {\n    try {\n      root._bokeh_onload_callbacks.forEach(function(callback) { callback() });\n    }\n    finally {\n      delete root._bokeh_onload_callbacks\n    }\n    console.info(\"Bokeh: all callbacks have finished\");\n  }\n\n  function load_libs(js_urls, callback) {\n    root._bokeh_onload_callbacks.push(callback);\n    if (root._bokeh_is_loading > 0) {\n      console.log(\"Bokeh: BokehJS is being loaded, scheduling callback at\", now());\n      return null;\n    }\n    if (js_urls == null || js_urls.length === 0) {\n      run_callbacks();\n      return null;\n    }\n    console.log(\"Bokeh: BokehJS not loaded, scheduling load and callback at\", now());\n    root._bokeh_is_loading = js_urls.length;\n    for (var i = 0; i < js_urls.length; i++) {\n      var url = js_urls[i];\n      var s = document.createElement('script');\n      s.src = url;\n      s.async = false;\n      s.onreadystatechange = s.onload = function() {\n        root._bokeh_is_loading--;\n        if (root._bokeh_is_loading === 0) {\n          console.log(\"Bokeh: all BokehJS libraries loaded\");\n          run_callbacks()\n        }\n      };\n      s.onerror = function() {\n        console.warn(\"failed to load library \" + url);\n      };\n      console.log(\"Bokeh: injecting script tag for BokehJS library: \", url);\n      document.getElementsByTagName(\"head\")[0].appendChild(s);\n    }\n  };var element = document.getElementById(\"ec1c9e7d-de27-4372-b23c-22b0b2ca4a78\");\n  if (element == null) {\n    console.log(\"Bokeh: ERROR: autoload.js configured with elementid 'ec1c9e7d-de27-4372-b23c-22b0b2ca4a78' but no matching script tag was found. \")\n    return false;\n  }\n\n  var js_urls = [\"https://cdn.pydata.org/bokeh/release/bokeh-0.12.10.min.js\", \"https://cdn.pydata.org/bokeh/release/bokeh-widgets-0.12.10.min.js\", \"https://cdn.pydata.org/bokeh/release/bokeh-tables-0.12.10.min.js\", \"https://cdn.pydata.org/bokeh/release/bokeh-gl-0.12.10.min.js\"];\n\n  var inline_js = [\n    function(Bokeh) {\n      Bokeh.set_log_level(\"info\");\n    },\n    \n    function(Bokeh) {\n      \n    },\n    function(Bokeh) {\n      console.log(\"Bokeh: injecting CSS: https://cdn.pydata.org/bokeh/release/bokeh-0.12.10.min.css\");\n      Bokeh.embed.inject_css(\"https://cdn.pydata.org/bokeh/release/bokeh-0.12.10.min.css\");\n      console.log(\"Bokeh: injecting CSS: https://cdn.pydata.org/bokeh/release/bokeh-widgets-0.12.10.min.css\");\n      Bokeh.embed.inject_css(\"https://cdn.pydata.org/bokeh/release/bokeh-widgets-0.12.10.min.css\");\n      console.log(\"Bokeh: injecting CSS: https://cdn.pydata.org/bokeh/release/bokeh-tables-0.12.10.min.css\");\n      Bokeh.embed.inject_css(\"https://cdn.pydata.org/bokeh/release/bokeh-tables-0.12.10.min.css\");\n    }\n  ];\n\n  function run_inline_js() {\n    \n    if ((root.Bokeh !== undefined) || (force === true)) {\n      for (var i = 0; i < inline_js.length; i++) {\n        inline_js[i].call(root, root.Bokeh);\n      }if (force === true) {\n        display_loaded();\n      }} else if (Date.now() < root._bokeh_timeout) {\n      setTimeout(run_inline_js, 100);\n    } else if (!root._bokeh_failed_load) {\n      console.log(\"Bokeh: BokehJS failed to load within specified timeout.\");\n      root._bokeh_failed_load = true;\n    } else if (force !== true) {\n      var cell = $(document.getElementById(\"ec1c9e7d-de27-4372-b23c-22b0b2ca4a78\")).parents('.cell').data().cell;\n      cell.output_area.append_execute_result(NB_LOAD_WARNING)\n    }\n\n  }\n\n  if (root._bokeh_is_loading === 0) {\n    console.log(\"Bokeh: BokehJS loaded, going straight to plotting\");\n    run_inline_js();\n  } else {\n    load_libs(js_urls, function() {\n      console.log(\"Bokeh: BokehJS plotting callback run at\", now());\n      run_inline_js();\n    });\n  }\n}(window));"
     },
     "metadata": {},
     "output_type": "display_data"
    }
   ],
   "source": [
    "output_notebook()"
   ]
  },
  {
   "cell_type": "code",
   "execution_count": 3,
   "metadata": {},
   "outputs": [],
   "source": [
    "import pandas as pd\n",
    "\n",
    "from bokeh.models import LinearAxis, Range1d, LabelSet, ColumnDataSource\n",
    "from bokeh.layouts import gridplot, row"
   ]
  },
  {
   "cell_type": "code",
   "execution_count": 4,
   "metadata": {},
   "outputs": [],
   "source": [
    "from math import sqrt\n",
    "import numpy as np"
   ]
  },
  {
   "cell_type": "code",
   "execution_count": 5,
   "metadata": {},
   "outputs": [],
   "source": [
    "from bokeh.io import export_png"
   ]
  },
  {
   "cell_type": "code",
   "execution_count": 6,
   "metadata": {},
   "outputs": [
    {
     "name": "stdout",
     "output_type": "stream",
     "text": [
      "1510419211.csv        \u001b[34msetup_0.05_erws\u001b[m\u001b[m/      test-test.csv\r\n",
      "\u001b[34mbak\u001b[m\u001b[m/                  \u001b[34msetup_1.0\u001b[m\u001b[m/            test.csv\r\n",
      "result.csv            \u001b[34msetup_1.0_erws\u001b[m\u001b[m/       visualization.ipynb\r\n",
      "\u001b[34msetup_0.05\u001b[m\u001b[m/           test-lb-policy.csv    visualization2.ipynb\r\n"
     ]
    }
   ],
   "source": [
    "%ls"
   ]
  },
  {
   "cell_type": "markdown",
   "metadata": {},
   "source": [
    "# 1. Constrained optimization"
   ]
  },
  {
   "cell_type": "markdown",
   "metadata": {},
   "source": [
    "## 1.1 Short setup delay"
   ]
  },
  {
   "cell_type": "code",
   "execution_count": 7,
   "metadata": {},
   "outputs": [],
   "source": [
    "df=pd.read_csv('setup_0.05/output_1.csv', skiprows=1)\n",
    "\n",
    "if df.iloc[-1][0] > 0:\n",
    "    df = df.iloc[-1:]\n",
    "else:\n",
    "    df = df.iloc[1:2]\n",
    "\n",
    "for i in range(2,45):\n",
    "    df_tmp = pd.read_csv('setup_0.05/output_'+str(i)+'.csv', skiprows=1)\n",
    "    if df_tmp.iloc[-1][0] > 0:\n",
    "        df_tmp = df_tmp.iloc[-1:]\n",
    "    else:\n",
    "        df_tmp = df_tmp.iloc[1:2]\n",
    "    df = df.append(df_tmp)\n",
    "\n",
    "df['relative_idle_time'] = df.small_arrival * df.avg_idle_time\n",
    "#df.relative_idle_time    = df.relative_idle_time.apply(lambda x: round(x))\n",
    "\n",
    "#df_rnd.relative_idle_time    = df_rnd.relative_idle_time.apply(lambda x: round(x))"
   ]
  },
  {
   "cell_type": "code",
   "execution_count": 8,
   "metadata": {},
   "outputs": [],
   "source": [
    "def logscale(arrival):\n",
    "    rel_idle = df[df.small_arrival==arrival].relative_idle_time\n",
    "    rel_idle = rel_idle.apply(lambda x: np.log2(x)).tolist()\n",
    "    rel_idle.pop(0)\n",
    "    rel_idle.insert(0, -10)\n",
    "    \n",
    "    return rel_idle"
   ]
  },
  {
   "cell_type": "code",
   "execution_count": 9,
   "metadata": {},
   "outputs": [
    {
     "data": {
      "text/html": [
       "\n",
       "<div class=\"bk-root\">\n",
       "    <div class=\"bk-plotdiv\" id=\"84b39ba0-98f0-43f1-b06d-c7745ea190b0\"></div>\n",
       "</div>"
      ]
     },
     "metadata": {},
     "output_type": "display_data"
    },
    {
     "data": {
      "application/javascript": [
       "(function(root) {\n",
       "  function embed_document(root) {\n",
       "    var docs_json = {\"710c51df-660d-47f3-865b-8ae5705a96e6\":{\"roots\":{\"references\":[{\"attributes\":{\"line_color\":{\"value\":\"navy\"},\"line_dash\":[15,2],\"x\":{\"field\":\"x\"},\"y\":{\"field\":\"y\"}},\"id\":\"85b279bf-d172-4c49-a2f6-a99de1b23e0f\",\"type\":\"Line\"},{\"attributes\":{},\"id\":\"60636c3e-5c1e-44f1-bbad-3811fb75d6ab\",\"type\":\"HelpTool\"},{\"attributes\":{\"dimension\":1,\"grid_line_alpha\":{\"value\":0.1},\"grid_line_dash\":[2,2],\"plot\":{\"id\":\"da5e1866-1fe1-4020-bb9d-e831a913291b\",\"subtype\":\"Figure\",\"type\":\"Plot\"},\"ticker\":{\"id\":\"eea69820-d295-4f15-b4e0-05263d67afc4\",\"type\":\"BasicTicker\"}},\"id\":\"cba6ba03-8aa1-4450-b054-656001d8e632\",\"type\":\"Grid\"},{\"attributes\":{\"source\":{\"id\":\"3ab950ef-3256-40a7-bd51-9fed61f07f21\",\"type\":\"ColumnDataSource\"}},\"id\":\"5f1c248f-2e31-44d5-9477-363bef99263a\",\"type\":\"CDSView\"},{\"attributes\":{\"data_source\":{\"id\":\"33f8e6da-7699-4eae-ac0f-efcbb860d18c\",\"type\":\"ColumnDataSource\"},\"glyph\":{\"id\":\"85b279bf-d172-4c49-a2f6-a99de1b23e0f\",\"type\":\"Line\"},\"hover_glyph\":null,\"muted_glyph\":null,\"nonselection_glyph\":{\"id\":\"62df9951-a0ff-4c28-9459-f9a1bf14ca46\",\"type\":\"Line\"},\"selection_glyph\":null,\"view\":{\"id\":\"f8dba333-cae0-4233-adc2-32e26eeca39f\",\"type\":\"CDSView\"}},\"id\":\"b45b8e40-afe6-4023-98a2-f246a4698d09\",\"type\":\"GlyphRenderer\"},{\"attributes\":{\"line_alpha\":{\"value\":0.1},\"line_color\":{\"value\":\"#1f77b4\"},\"x\":{\"field\":\"x\"},\"y\":{\"field\":\"y\"}},\"id\":\"7adccf69-2518-497e-a868-77b1fe399faa\",\"type\":\"Line\"},{\"attributes\":{},\"id\":\"4e97ca20-2153-460b-854f-f30952b69896\",\"type\":\"ResetTool\"},{\"attributes\":{\"data_source\":{\"id\":\"eba020fd-7543-46f5-bca1-f93c22ea7688\",\"type\":\"ColumnDataSource\"},\"glyph\":{\"id\":\"431e34a1-889c-4bca-ba06-6c5b2cb18581\",\"type\":\"Circle\"},\"hover_glyph\":null,\"muted_glyph\":null,\"nonselection_glyph\":{\"id\":\"3e34181f-81ac-48c4-8eef-ac71aefce328\",\"type\":\"Circle\"},\"selection_glyph\":null,\"view\":{\"id\":\"118a2ac7-6a67-4584-b53b-9771829a6232\",\"type\":\"CDSView\"}},\"id\":\"fe19418b-e2db-4a75-b252-7475ca9a27b0\",\"type\":\"GlyphRenderer\"},{\"attributes\":{\"line_alpha\":{\"value\":0.1},\"line_color\":{\"value\":\"#1f77b4\"},\"line_dash\":[15,2],\"x\":{\"field\":\"x\"},\"y\":{\"field\":\"y\"}},\"id\":\"62df9951-a0ff-4c28-9459-f9a1bf14ca46\",\"type\":\"Line\"},{\"attributes\":{\"items\":[{\"id\":\"0e5a8d72-b120-499a-90fa-c5f30e9a3932\",\"type\":\"LegendItem\"},{\"id\":\"1495b4b6-1e91-4dba-8550-0d68a12d5604\",\"type\":\"LegendItem\"},{\"id\":\"ed5fb9c3-119e-4ec0-8667-66392a48a525\",\"type\":\"LegendItem\"},{\"id\":\"93303cdc-5656-4147-b91c-0a8b890da891\",\"type\":\"LegendItem\"},{\"id\":\"7a4d3d4a-d414-42d2-b30a-497f910daf97\",\"type\":\"LegendItem\"}],\"label_text_color\":{\"value\":\"black\"},\"plot\":{\"id\":\"da5e1866-1fe1-4020-bb9d-e831a913291b\",\"subtype\":\"Figure\",\"type\":\"Plot\"}},\"id\":\"673477e8-3a2e-454b-a1c4-425695c5a62f\",\"type\":\"Legend\"},{\"attributes\":{\"line_color\":{\"value\":\"navy\"},\"x\":{\"field\":\"x\"},\"y\":{\"field\":\"y\"}},\"id\":\"9ce46831-417e-410d-a31b-d40994617d6f\",\"type\":\"Line\"},{\"attributes\":{\"axis_label\":\"Mean response time\",\"axis_label_text_color\":{\"value\":\"black\"},\"axis_label_text_font_size\":{\"value\":\"12pt\"},\"formatter\":{\"id\":\"ff7d77de-64ed-4f4a-9390-23c55ffe1249\",\"type\":\"BasicTickFormatter\"},\"major_label_text_color\":{\"value\":\"black\"},\"major_label_text_font_size\":{\"value\":\"10pt\"},\"plot\":{\"id\":\"da5e1866-1fe1-4020-bb9d-e831a913291b\",\"subtype\":\"Figure\",\"type\":\"Plot\"},\"ticker\":{\"id\":\"eea69820-d295-4f15-b4e0-05263d67afc4\",\"type\":\"BasicTicker\"}},\"id\":\"208e52ff-1236-4ba4-b2aa-9726a18d89fd\",\"type\":\"LinearAxis\"},{\"attributes\":{},\"id\":\"ff7d77de-64ed-4f4a-9390-23c55ffe1249\",\"type\":\"BasicTickFormatter\"},{\"attributes\":{},\"id\":\"f69eba82-320b-40b1-894f-9a823cb0c81c\",\"type\":\"LinearScale\"},{\"attributes\":{},\"id\":\"eea69820-d295-4f15-b4e0-05263d67afc4\",\"type\":\"BasicTicker\"},{\"attributes\":{\"fill_alpha\":{\"value\":0.1},\"fill_color\":{\"value\":\"#1f77b4\"},\"line_alpha\":{\"value\":0.1},\"line_color\":{\"value\":\"#1f77b4\"},\"size\":{\"units\":\"screen\",\"value\":5},\"x\":{\"field\":\"x\"},\"y\":{\"field\":\"y\"}},\"id\":\"3e34181f-81ac-48c4-8eef-ac71aefce328\",\"type\":\"Circle\"},{\"attributes\":{\"label\":{\"value\":\"Small cell load = 0.05\"},\"renderers\":[{\"id\":\"1707738b-9621-4dd8-af8e-b798bd215373\",\"type\":\"GlyphRenderer\"}]},\"id\":\"0e5a8d72-b120-499a-90fa-c5f30e9a3932\",\"type\":\"LegendItem\"},{\"attributes\":{},\"id\":\"7d540693-2b4e-4c39-89c2-c35fcec04b71\",\"type\":\"SaveTool\"},{\"attributes\":{\"source\":{\"id\":\"49a46622-5182-4cc0-9544-5a637911792f\",\"type\":\"ColumnDataSource\"}},\"id\":\"7f77e83a-85ef-4217-a9b1-33e35db0979f\",\"type\":\"CDSView\"},{\"attributes\":{\"callback\":null,\"column_names\":[\"y\",\"x\"],\"data\":{\"x\":[-10,-3.0588936890535687,-2.0588936890535687,-1.0588936890535685,0.02856915219677092,0.9855004303048849,2.007195501404204,2.996388746447621,6.999774561287003,8.999943643624247,10.00002817736235],\"y\":{\"__ndarray__\":\"UfcBSG3ivD94I/PIHwy8P6FP5EnSNbs/zvxqDhDMuT9GKowtBDm4P76fGi/dJLY/ECOERxtHtD9bJVgczvyyP2lv8IXJVLE/QpqxaDo7sT9d4V0u4juxPw==\",\"dtype\":\"float64\",\"shape\":[11]}}},\"id\":\"41077ec8-2656-4024-8026-28aa76e0e33d\",\"type\":\"ColumnDataSource\"},{\"attributes\":{},\"id\":\"3208e1a6-2289-4a8f-847d-35762c3961d3\",\"type\":\"WheelZoomTool\"},{\"attributes\":{\"line_color\":{\"value\":\"navy\"},\"line_dash\":[1,4],\"x\":{\"field\":\"x\"},\"y\":{\"field\":\"y\"}},\"id\":\"de2c0353-c8d5-40eb-8c53-4b42882dcb5e\",\"type\":\"Line\"},{\"attributes\":{\"line_alpha\":{\"value\":0.1},\"line_color\":{\"value\":\"#1f77b4\"},\"x\":{\"field\":\"x\"},\"y\":{\"field\":\"y\"}},\"id\":\"3791a661-3461-4c15-94f3-23e9aae67d6e\",\"type\":\"Line\"},{\"attributes\":{\"data_source\":{\"id\":\"4db58e7d-b6d7-41de-a67a-947335bb6317\",\"type\":\"ColumnDataSource\"},\"glyph\":{\"id\":\"26f36238-89dd-4420-bf44-be569b188401\",\"type\":\"Circle\"},\"hover_glyph\":null,\"muted_glyph\":null,\"nonselection_glyph\":{\"id\":\"82e32583-1149-4cf0-85ec-f80ad8a8325f\",\"type\":\"Circle\"},\"selection_glyph\":null,\"view\":{\"id\":\"198c6d74-639f-4032-a40d-f388d699a118\",\"type\":\"CDSView\"}},\"id\":\"80a2a993-5f2e-4876-8dd4-415729c75ce9\",\"type\":\"GlyphRenderer\"},{\"attributes\":{\"overlay\":{\"id\":\"312cfaed-7569-4fc9-8783-440802a9e9bd\",\"type\":\"BoxAnnotation\"}},\"id\":\"1502b60c-44f6-413b-81f6-dc4d6a18aa2d\",\"type\":\"BoxZoomTool\"},{\"attributes\":{\"label\":{\"value\":\"constraint\"},\"renderers\":[{\"id\":\"a9e4b44f-b63f-4986-97f6-ed914504ef7b\",\"type\":\"GlyphRenderer\"}]},\"id\":\"7a4d3d4a-d414-42d2-b30a-497f910daf97\",\"type\":\"LegendItem\"},{\"attributes\":{\"callback\":null,\"column_names\":[\"y\",\"x\"],\"data\":{\"x\":[-10,-3.473931188332412,-1.8889686876112561,-0.888968687611256,-0.014499569695115089,0.9855004303048849,1.9855004303048849,3.0018022426339854,6.999774561287003,9.00002817736235,10.00002817736235],\"y\":{\"__ndarray__\":\"oI7HDFTGvz9L5e0IpwW/P6VmD7QCQ74/C7CPTl35vD/RlnMpriq7P35S7dPxmLk/MEeP39v0tz9z9Pi9TX+2P6kwthDkoLQ/JQaBlUOLtD9wlLw6x4C0Pw==\",\"dtype\":\"float64\",\"shape\":[11]}}},\"id\":\"3ab950ef-3256-40a7-bd51-9fed61f07f21\",\"type\":\"ColumnDataSource\"},{\"attributes\":{\"source\":{\"id\":\"33f8e6da-7699-4eae-ac0f-efcbb860d18c\",\"type\":\"ColumnDataSource\"}},\"id\":\"f8dba333-cae0-4233-adc2-32e26eeca39f\",\"type\":\"CDSView\"},{\"attributes\":{\"source\":{\"id\":\"6dacd9b0-4f53-4b01-b5b7-d7562d5a5d93\",\"type\":\"ColumnDataSource\"}},\"id\":\"3665313b-226e-4e59-892c-0e0987c5b83b\",\"type\":\"CDSView\"},{\"attributes\":{\"data_source\":{\"id\":\"41077ec8-2656-4024-8026-28aa76e0e33d\",\"type\":\"ColumnDataSource\"},\"glyph\":{\"id\":\"5f90ee26-fd3c-474f-aa6c-d4dd0b05d54c\",\"type\":\"Circle\"},\"hover_glyph\":null,\"muted_glyph\":null,\"nonselection_glyph\":{\"id\":\"28c7ab8a-f35e-4f0e-93d8-2b4995684783\",\"type\":\"Circle\"},\"selection_glyph\":null,\"view\":{\"id\":\"6ffe3b16-684d-437a-9aec-ffc0d4a14c83\",\"type\":\"CDSView\"}},\"id\":\"004eeebc-25d1-41c1-adc3-16346b65e381\",\"type\":\"GlyphRenderer\"},{\"attributes\":{\"line_color\":{\"value\":\"navy\"},\"line_dash\":[4,4],\"x\":{\"field\":\"x\"},\"y\":{\"field\":\"y\"}},\"id\":\"01ad27e5-52cc-4bcb-94d0-1a615dcc56ad\",\"type\":\"Line\"},{\"attributes\":{\"plot\":null,\"text\":\"\"},\"id\":\"69cc7304-86ea-4c7e-b5e7-2c124abdbb4a\",\"type\":\"Title\"},{\"attributes\":{\"line_alpha\":{\"value\":0.1},\"line_color\":{\"value\":\"#1f77b4\"},\"line_dash\":[4,4],\"x\":{\"field\":\"x\"},\"y\":{\"field\":\"y\"}},\"id\":\"60ae3f96-e1ee-4928-b5df-c1a7761aef58\",\"type\":\"Line\"},{\"attributes\":{\"source\":{\"id\":\"eba020fd-7543-46f5-bca1-f93c22ea7688\",\"type\":\"ColumnDataSource\"}},\"id\":\"118a2ac7-6a67-4584-b53b-9771829a6232\",\"type\":\"CDSView\"},{\"attributes\":{\"axis_label\":\"idle time in logscale (relative to avg. inter-arrival time)\",\"axis_label_text_color\":{\"value\":\"black\"},\"axis_label_text_font_size\":{\"value\":\"12pt\"},\"formatter\":{\"id\":\"4c990488-14aa-49a5-ab0f-f41abc6c0f2b\",\"type\":\"BasicTickFormatter\"},\"major_label_text_color\":{\"value\":\"black\"},\"major_label_text_font_size\":{\"value\":\"10pt\"},\"plot\":{\"id\":\"da5e1866-1fe1-4020-bb9d-e831a913291b\",\"subtype\":\"Figure\",\"type\":\"Plot\"},\"ticker\":{\"id\":\"7f2b6337-bc15-41cc-9e3f-442c5e7e60d4\",\"type\":\"BasicTicker\"}},\"id\":\"4454a9ff-e46e-4aec-a4ac-7bc2f8a67918\",\"type\":\"LinearAxis\"},{\"attributes\":{\"data_source\":{\"id\":\"4314f700-5113-4b33-8bd0-037223f7585f\",\"type\":\"ColumnDataSource\"},\"glyph\":{\"id\":\"e5dd67a9-786f-4fcb-80d0-06c1974e9d0e\",\"type\":\"Circle\"},\"hover_glyph\":null,\"muted_glyph\":null,\"nonselection_glyph\":{\"id\":\"c5aa69ae-d88a-4dff-903d-75fe6f908b7c\",\"type\":\"Circle\"},\"selection_glyph\":null,\"view\":{\"id\":\"f4ab6081-336a-49fa-835d-1e24e06410e8\",\"type\":\"CDSView\"}},\"id\":\"51869610-9ada-4725-a4f5-f3da99700975\",\"type\":\"GlyphRenderer\"},{\"attributes\":{\"data_source\":{\"id\":\"49a46622-5182-4cc0-9544-5a637911792f\",\"type\":\"ColumnDataSource\"},\"glyph\":{\"id\":\"9ce46831-417e-410d-a31b-d40994617d6f\",\"type\":\"Line\"},\"hover_glyph\":null,\"muted_glyph\":null,\"nonselection_glyph\":{\"id\":\"7adccf69-2518-497e-a868-77b1fe399faa\",\"type\":\"Line\"},\"selection_glyph\":null,\"view\":{\"id\":\"7f77e83a-85ef-4217-a9b1-33e35db0979f\",\"type\":\"CDSView\"}},\"id\":\"1707738b-9621-4dd8-af8e-b798bd215373\",\"type\":\"GlyphRenderer\"},{\"attributes\":{\"label\":{\"value\":\"Small cell load = 0.2\"},\"renderers\":[{\"id\":\"b45b8e40-afe6-4023-98a2-f246a4698d09\",\"type\":\"GlyphRenderer\"}]},\"id\":\"1495b4b6-1e91-4dba-8550-0d68a12d5604\",\"type\":\"LegendItem\"},{\"attributes\":{\"data_source\":{\"id\":\"6dacd9b0-4f53-4b01-b5b7-d7562d5a5d93\",\"type\":\"ColumnDataSource\"},\"glyph\":{\"id\":\"01ad27e5-52cc-4bcb-94d0-1a615dcc56ad\",\"type\":\"Line\"},\"hover_glyph\":null,\"muted_glyph\":null,\"nonselection_glyph\":{\"id\":\"60ae3f96-e1ee-4928-b5df-c1a7761aef58\",\"type\":\"Line\"},\"selection_glyph\":null,\"view\":{\"id\":\"3665313b-226e-4e59-892c-0e0987c5b83b\",\"type\":\"CDSView\"}},\"id\":\"1bbc044d-57e7-493d-bed6-c89e493b0c3f\",\"type\":\"GlyphRenderer\"},{\"attributes\":{\"callback\":null},\"id\":\"787515f8-dc89-47cb-8e72-8c56eddd4382\",\"type\":\"DataRange1d\"},{\"attributes\":{\"callback\":null},\"id\":\"30269c26-3ab5-4fbb-8424-b813f30cce37\",\"type\":\"DataRange1d\"},{\"attributes\":{\"label\":{\"value\":\"Small cell load = 0.32\"},\"renderers\":[{\"id\":\"1bbc044d-57e7-493d-bed6-c89e493b0c3f\",\"type\":\"GlyphRenderer\"}]},\"id\":\"ed5fb9c3-119e-4ec0-8667-66392a48a525\",\"type\":\"LegendItem\"},{\"attributes\":{\"fill_color\":{\"value\":\"white\"},\"line_color\":{\"value\":\"navy\"},\"size\":{\"units\":\"screen\",\"value\":5},\"x\":{\"field\":\"x\"},\"y\":{\"field\":\"y\"}},\"id\":\"431e34a1-889c-4bca-ba06-6c5b2cb18581\",\"type\":\"Circle\"},{\"attributes\":{\"source\":{\"id\":\"4314f700-5113-4b33-8bd0-037223f7585f\",\"type\":\"ColumnDataSource\"}},\"id\":\"f4ab6081-336a-49fa-835d-1e24e06410e8\",\"type\":\"CDSView\"},{\"attributes\":{\"callback\":null,\"column_names\":[\"y\",\"x\"],\"data\":{\"x\":[-10,0,1,2,10],\"y\":{\"__ndarray__\":\"mpmZmZmZuT+amZmZmZm5P5qZmZmZmbk/mpmZmZmZuT+amZmZmZm5Pw==\",\"dtype\":\"float64\",\"shape\":[5]}}},\"id\":\"53da3c67-ae63-4601-b845-5e2e5e92050d\",\"type\":\"ColumnDataSource\"},{\"attributes\":{},\"id\":\"7f2b6337-bc15-41cc-9e3f-442c5e7e60d4\",\"type\":\"BasicTicker\"},{\"attributes\":{\"line_alpha\":{\"value\":0.1},\"line_color\":{\"value\":\"#1f77b4\"},\"line_dash\":[1,4],\"x\":{\"field\":\"x\"},\"y\":{\"field\":\"y\"}},\"id\":\"f54c181c-30b0-4448-8007-432602edaed9\",\"type\":\"Line\"},{\"attributes\":{\"fill_alpha\":{\"value\":0.1},\"fill_color\":{\"value\":\"#1f77b4\"},\"line_alpha\":{\"value\":0.1},\"line_color\":{\"value\":\"#1f77b4\"},\"size\":{\"units\":\"screen\",\"value\":5},\"x\":{\"field\":\"x\"},\"y\":{\"field\":\"y\"}},\"id\":\"c5aa69ae-d88a-4dff-903d-75fe6f908b7c\",\"type\":\"Circle\"},{\"attributes\":{\"data_source\":{\"id\":\"53da3c67-ae63-4601-b845-5e2e5e92050d\",\"type\":\"ColumnDataSource\"},\"glyph\":{\"id\":\"b18866d2-9030-44fb-ac85-441e13ce1745\",\"type\":\"Line\"},\"hover_glyph\":null,\"muted_glyph\":null,\"nonselection_glyph\":{\"id\":\"3791a661-3461-4c15-94f3-23e9aae67d6e\",\"type\":\"Line\"},\"selection_glyph\":null,\"view\":{\"id\":\"a8639973-16ff-407a-951c-b3db42039a74\",\"type\":\"CDSView\"}},\"id\":\"a9e4b44f-b63f-4986-97f6-ed914504ef7b\",\"type\":\"GlyphRenderer\"},{\"attributes\":{\"bottom_units\":\"screen\",\"fill_alpha\":{\"value\":0.5},\"fill_color\":{\"value\":\"lightgrey\"},\"left_units\":\"screen\",\"level\":\"overlay\",\"line_alpha\":{\"value\":1.0},\"line_color\":{\"value\":\"black\"},\"line_dash\":[4,4],\"line_width\":{\"value\":2},\"plot\":null,\"render_mode\":\"css\",\"right_units\":\"screen\",\"top_units\":\"screen\"},\"id\":\"312cfaed-7569-4fc9-8783-440802a9e9bd\",\"type\":\"BoxAnnotation\"},{\"attributes\":{\"source\":{\"id\":\"4db58e7d-b6d7-41de-a67a-947335bb6317\",\"type\":\"ColumnDataSource\"}},\"id\":\"198c6d74-639f-4032-a40d-f388d699a118\",\"type\":\"CDSView\"},{\"attributes\":{\"label\":{\"value\":\"Small cell load = 0.5\"},\"renderers\":[{\"id\":\"25dea6d1-27f4-4990-aa60-a0b340b91a9e\",\"type\":\"GlyphRenderer\"}]},\"id\":\"93303cdc-5656-4147-b91c-0a8b890da891\",\"type\":\"LegendItem\"},{\"attributes\":{\"below\":[{\"id\":\"4454a9ff-e46e-4aec-a4ac-7bc2f8a67918\",\"type\":\"LinearAxis\"}],\"left\":[{\"id\":\"208e52ff-1236-4ba4-b2aa-9726a18d89fd\",\"type\":\"LinearAxis\"}],\"outline_line_color\":{\"value\":\"black\"},\"plot_height\":400,\"renderers\":[{\"id\":\"4454a9ff-e46e-4aec-a4ac-7bc2f8a67918\",\"type\":\"LinearAxis\"},{\"id\":\"5e3bcac1-2104-4b81-881d-880c9c072741\",\"type\":\"Grid\"},{\"id\":\"208e52ff-1236-4ba4-b2aa-9726a18d89fd\",\"type\":\"LinearAxis\"},{\"id\":\"cba6ba03-8aa1-4450-b054-656001d8e632\",\"type\":\"Grid\"},{\"id\":\"312cfaed-7569-4fc9-8783-440802a9e9bd\",\"type\":\"BoxAnnotation\"},{\"id\":\"673477e8-3a2e-454b-a1c4-425695c5a62f\",\"type\":\"Legend\"},{\"id\":\"1707738b-9621-4dd8-af8e-b798bd215373\",\"type\":\"GlyphRenderer\"},{\"id\":\"51869610-9ada-4725-a4f5-f3da99700975\",\"type\":\"GlyphRenderer\"},{\"id\":\"b45b8e40-afe6-4023-98a2-f246a4698d09\",\"type\":\"GlyphRenderer\"},{\"id\":\"80a2a993-5f2e-4876-8dd4-415729c75ce9\",\"type\":\"GlyphRenderer\"},{\"id\":\"1bbc044d-57e7-493d-bed6-c89e493b0c3f\",\"type\":\"GlyphRenderer\"},{\"id\":\"004eeebc-25d1-41c1-adc3-16346b65e381\",\"type\":\"GlyphRenderer\"},{\"id\":\"25dea6d1-27f4-4990-aa60-a0b340b91a9e\",\"type\":\"GlyphRenderer\"},{\"id\":\"fe19418b-e2db-4a75-b252-7475ca9a27b0\",\"type\":\"GlyphRenderer\"},{\"id\":\"a9e4b44f-b63f-4986-97f6-ed914504ef7b\",\"type\":\"GlyphRenderer\"}],\"title\":{\"id\":\"69cc7304-86ea-4c7e-b5e7-2c124abdbb4a\",\"type\":\"Title\"},\"toolbar\":{\"id\":\"a66ff5cd-7045-493b-9963-e8cd9b631d64\",\"type\":\"Toolbar\"},\"x_range\":{\"id\":\"30269c26-3ab5-4fbb-8424-b813f30cce37\",\"type\":\"DataRange1d\"},\"x_scale\":{\"id\":\"f69eba82-320b-40b1-894f-9a823cb0c81c\",\"type\":\"LinearScale\"},\"y_range\":{\"id\":\"787515f8-dc89-47cb-8e72-8c56eddd4382\",\"type\":\"DataRange1d\"},\"y_scale\":{\"id\":\"6465a8fb-7ae5-4142-8fc7-a2377025d897\",\"type\":\"LinearScale\"}},\"id\":\"da5e1866-1fe1-4020-bb9d-e831a913291b\",\"subtype\":\"Figure\",\"type\":\"Plot\"},{\"attributes\":{},\"id\":\"6465a8fb-7ae5-4142-8fc7-a2377025d897\",\"type\":\"LinearScale\"},{\"attributes\":{\"callback\":null,\"column_names\":[\"y\",\"x\"],\"data\":{\"x\":[-10,-3.0588936890535687,-2.0588936890535687,-1.0588936890535685,0.0,1.0,2.0,3.0,7.0,9.0,10.0],\"y\":{\"__ndarray__\":\"iiR6GcVyuz8AGM+goX+6P48ZqIx/n7k/LPGAsilXuD8AkX77OnC2P9dppKXydrQ/32xzY3rCsj8tfeiC+paxP4tx/iYUIrA/tXHEWnwKsD9inL8JhQiwPw==\",\"dtype\":\"float64\",\"shape\":[11]}}},\"id\":\"4db58e7d-b6d7-41de-a67a-947335bb6317\",\"type\":\"ColumnDataSource\"},{\"attributes\":{\"callback\":null,\"column_names\":[\"y\",\"x\"],\"data\":{\"x\":[-10,-3.0588936890535687,-2.0588936890535687,-1.0588936890535685,0.0,1.0,2.0,3.0,7.0,9.0,10.0],\"y\":{\"__ndarray__\":\"iiR6GcVyuz8AGM+goX+6P48ZqIx/n7k/LPGAsilXuD8AkX77OnC2P9dppKXydrQ/32xzY3rCsj8tfeiC+paxP4tx/iYUIrA/tXHEWnwKsD9inL8JhQiwPw==\",\"dtype\":\"float64\",\"shape\":[11]}}},\"id\":\"33f8e6da-7699-4eae-ac0f-efcbb860d18c\",\"type\":\"ColumnDataSource\"},{\"attributes\":{},\"id\":\"98c44f26-bd14-4cf7-8417-b09cec201136\",\"type\":\"PanTool\"},{\"attributes\":{\"callback\":null,\"column_names\":[\"y\",\"x\"],\"data\":{\"x\":[-10,-3.0588936890535687,-2.0,-1.0,0.0,1.0,2.0,3.0,7.0,9.0,10.0],\"y\":{\"__ndarray__\":\"pmH4iJgSuT+Mf59x4UC4P1QdcjPcgLc/jC0EOShhtj889x4uOe60P0gWMIFbd7M/DsNHxJRIsj/04O6s3XaxP9jw9EpZhrA/7vDXZI16sD8/xty1hHywPw==\",\"dtype\":\"float64\",\"shape\":[11]}}},\"id\":\"49a46622-5182-4cc0-9544-5a637911792f\",\"type\":\"ColumnDataSource\"},{\"attributes\":{\"fill_color\":{\"value\":\"white\"},\"line_color\":{\"value\":\"navy\"},\"size\":{\"units\":\"screen\",\"value\":5},\"x\":{\"field\":\"x\"},\"y\":{\"field\":\"y\"}},\"id\":\"26f36238-89dd-4420-bf44-be569b188401\",\"type\":\"Circle\"},{\"attributes\":{\"source\":{\"id\":\"41077ec8-2656-4024-8026-28aa76e0e33d\",\"type\":\"ColumnDataSource\"}},\"id\":\"6ffe3b16-684d-437a-9aec-ffc0d4a14c83\",\"type\":\"CDSView\"},{\"attributes\":{\"data_source\":{\"id\":\"3ab950ef-3256-40a7-bd51-9fed61f07f21\",\"type\":\"ColumnDataSource\"},\"glyph\":{\"id\":\"de2c0353-c8d5-40eb-8c53-4b42882dcb5e\",\"type\":\"Line\"},\"hover_glyph\":null,\"muted_glyph\":null,\"nonselection_glyph\":{\"id\":\"f54c181c-30b0-4448-8007-432602edaed9\",\"type\":\"Line\"},\"selection_glyph\":null,\"view\":{\"id\":\"5f1c248f-2e31-44d5-9477-363bef99263a\",\"type\":\"CDSView\"}},\"id\":\"25dea6d1-27f4-4990-aa60-a0b340b91a9e\",\"type\":\"GlyphRenderer\"},{\"attributes\":{\"grid_line_alpha\":{\"value\":0.1},\"grid_line_dash\":[2,2],\"plot\":{\"id\":\"da5e1866-1fe1-4020-bb9d-e831a913291b\",\"subtype\":\"Figure\",\"type\":\"Plot\"},\"ticker\":{\"id\":\"7f2b6337-bc15-41cc-9e3f-442c5e7e60d4\",\"type\":\"BasicTicker\"}},\"id\":\"5e3bcac1-2104-4b81-881d-880c9c072741\",\"type\":\"Grid\"},{\"attributes\":{\"callback\":null,\"column_names\":[\"y\",\"x\"],\"data\":{\"x\":[-10,-3.0588936890535687,-2.0588936890535687,-1.0588936890535685,0.02856915219677092,0.9855004303048849,2.007195501404204,2.996388746447621,6.999774561287003,8.999943643624247,10.00002817736235],\"y\":{\"__ndarray__\":\"UfcBSG3ivD94I/PIHwy8P6FP5EnSNbs/zvxqDhDMuT9GKowtBDm4P76fGi/dJLY/ECOERxtHtD9bJVgczvyyP2lv8IXJVLE/QpqxaDo7sT9d4V0u4juxPw==\",\"dtype\":\"float64\",\"shape\":[11]}}},\"id\":\"6dacd9b0-4f53-4b01-b5b7-d7562d5a5d93\",\"type\":\"ColumnDataSource\"},{\"attributes\":{\"source\":{\"id\":\"53da3c67-ae63-4601-b845-5e2e5e92050d\",\"type\":\"ColumnDataSource\"}},\"id\":\"a8639973-16ff-407a-951c-b3db42039a74\",\"type\":\"CDSView\"},{\"attributes\":{\"active_drag\":\"auto\",\"active_inspect\":\"auto\",\"active_scroll\":\"auto\",\"active_tap\":\"auto\",\"tools\":[{\"id\":\"98c44f26-bd14-4cf7-8417-b09cec201136\",\"type\":\"PanTool\"},{\"id\":\"3208e1a6-2289-4a8f-847d-35762c3961d3\",\"type\":\"WheelZoomTool\"},{\"id\":\"1502b60c-44f6-413b-81f6-dc4d6a18aa2d\",\"type\":\"BoxZoomTool\"},{\"id\":\"7d540693-2b4e-4c39-89c2-c35fcec04b71\",\"type\":\"SaveTool\"},{\"id\":\"4e97ca20-2153-460b-854f-f30952b69896\",\"type\":\"ResetTool\"},{\"id\":\"60636c3e-5c1e-44f1-bbad-3811fb75d6ab\",\"type\":\"HelpTool\"}]},\"id\":\"a66ff5cd-7045-493b-9963-e8cd9b631d64\",\"type\":\"Toolbar\"},{\"attributes\":{\"fill_alpha\":{\"value\":0.1},\"fill_color\":{\"value\":\"#1f77b4\"},\"line_alpha\":{\"value\":0.1},\"line_color\":{\"value\":\"#1f77b4\"},\"size\":{\"units\":\"screen\",\"value\":5},\"x\":{\"field\":\"x\"},\"y\":{\"field\":\"y\"}},\"id\":\"28c7ab8a-f35e-4f0e-93d8-2b4995684783\",\"type\":\"Circle\"},{\"attributes\":{\"fill_color\":{\"value\":\"white\"},\"line_color\":{\"value\":\"navy\"},\"size\":{\"units\":\"screen\",\"value\":5},\"x\":{\"field\":\"x\"},\"y\":{\"field\":\"y\"}},\"id\":\"5f90ee26-fd3c-474f-aa6c-d4dd0b05d54c\",\"type\":\"Circle\"},{\"attributes\":{\"callback\":null,\"column_names\":[\"y\",\"x\"],\"data\":{\"x\":[-10,-3.0588936890535687,-2.0,-1.0,0.0,1.0,2.0,3.0,7.0,9.0,10.0],\"y\":{\"__ndarray__\":\"pmH4iJgSuT+Mf59x4UC4P1QdcjPcgLc/jC0EOShhtj889x4uOe60P0gWMIFbd7M/DsNHxJRIsj/04O6s3XaxP9jw9EpZhrA/7vDXZI16sD8/xty1hHywPw==\",\"dtype\":\"float64\",\"shape\":[11]}}},\"id\":\"4314f700-5113-4b33-8bd0-037223f7585f\",\"type\":\"ColumnDataSource\"},{\"attributes\":{},\"id\":\"4c990488-14aa-49a5-ab0f-f41abc6c0f2b\",\"type\":\"BasicTickFormatter\"},{\"attributes\":{\"callback\":null,\"column_names\":[\"y\",\"x\"],\"data\":{\"x\":[-10,-3.473931188332412,-1.8889686876112561,-0.888968687611256,-0.014499569695115089,0.9855004303048849,1.9855004303048849,3.0018022426339854,6.999774561287003,9.00002817736235,10.00002817736235],\"y\":{\"__ndarray__\":\"oI7HDFTGvz9L5e0IpwW/P6VmD7QCQ74/C7CPTl35vD/RlnMpriq7P35S7dPxmLk/MEeP39v0tz9z9Pi9TX+2P6kwthDkoLQ/JQaBlUOLtD9wlLw6x4C0Pw==\",\"dtype\":\"float64\",\"shape\":[11]}}},\"id\":\"eba020fd-7543-46f5-bca1-f93c22ea7688\",\"type\":\"ColumnDataSource\"},{\"attributes\":{\"fill_color\":{\"value\":\"white\"},\"line_color\":{\"value\":\"navy\"},\"size\":{\"units\":\"screen\",\"value\":5},\"x\":{\"field\":\"x\"},\"y\":{\"field\":\"y\"}},\"id\":\"e5dd67a9-786f-4fcb-80d0-06c1974e9d0e\",\"type\":\"Circle\"},{\"attributes\":{\"fill_alpha\":{\"value\":0.1},\"fill_color\":{\"value\":\"#1f77b4\"},\"line_alpha\":{\"value\":0.1},\"line_color\":{\"value\":\"#1f77b4\"},\"size\":{\"units\":\"screen\",\"value\":5},\"x\":{\"field\":\"x\"},\"y\":{\"field\":\"y\"}},\"id\":\"82e32583-1149-4cf0-85ec-f80ad8a8325f\",\"type\":\"Circle\"},{\"attributes\":{\"line_color\":{\"value\":\"red\"},\"x\":{\"field\":\"x\"},\"y\":{\"field\":\"y\"}},\"id\":\"b18866d2-9030-44fb-ac85-441e13ce1745\",\"type\":\"Line\"}],\"root_ids\":[\"da5e1866-1fe1-4020-bb9d-e831a913291b\"]},\"title\":\"Bokeh Application\",\"version\":\"0.12.10\"}};\n",
       "    var render_items = [{\"docid\":\"710c51df-660d-47f3-865b-8ae5705a96e6\",\"elementid\":\"84b39ba0-98f0-43f1-b06d-c7745ea190b0\",\"modelid\":\"da5e1866-1fe1-4020-bb9d-e831a913291b\"}];\n",
       "\n",
       "    root.Bokeh.embed.embed_items(docs_json, render_items);\n",
       "  }\n",
       "\n",
       "  if (root.Bokeh !== undefined) {\n",
       "    embed_document(root);\n",
       "  } else {\n",
       "    var attempts = 0;\n",
       "    var timer = setInterval(function(root) {\n",
       "      if (root.Bokeh !== undefined) {\n",
       "        embed_document(root);\n",
       "        clearInterval(timer);\n",
       "      }\n",
       "      attempts++;\n",
       "      if (attempts > 100) {\n",
       "        console.log(\"Bokeh: ERROR: Unable to embed document because BokehJS library is missing\")\n",
       "        clearInterval(timer);\n",
       "      }\n",
       "    }, 10, root)\n",
       "  }\n",
       "})(window);"
      ],
      "application/vnd.bokehjs_exec.v0+json": ""
     },
     "metadata": {
      "application/vnd.bokehjs_exec.v0+json": {
       "id": "da5e1866-1fe1-4020-bb9d-e831a913291b"
      }
     },
     "output_type": "display_data"
    }
   ],
   "source": [
    "p0 = figure(plot_width=600, plot_height=400)\n",
    "\n",
    "\n",
    "p0.line(logscale(1), df[df.small_arrival==1].avg_resp_time, line_color='navy',legend='Small cell load = 0.05')\n",
    "p0.circle(logscale(1), df[df.small_arrival==1].avg_resp_time, color='white', line_color='navy',size=5)\n",
    "p0.line(logscale(4), df[df.small_arrival==4].avg_resp_time, line_color='navy',line_dash=\"15 2\",legend='Small cell load = 0.2')\n",
    "p0.circle(logscale(4), df[df.small_arrival==4].avg_resp_time, color='white', line_color='navy',size=5)\n",
    "\n",
    "p0.line(logscale(6), df[df.small_arrival==6].avg_resp_time, line_color='navy',line_dash=\"4 4\",legend='Small cell load = 0.32')\n",
    "p0.circle(logscale(6), df[df.small_arrival==6].avg_resp_time, color='white', line_color='navy',size=5)\n",
    "\n",
    "p0.line(logscale(9), df[df.small_arrival==9].avg_resp_time, line_color='navy',line_dash=\"1 4\",legend='Small cell load = 0.5')\n",
    "p0.circle(logscale(9), df[df.small_arrival==9].avg_resp_time, color='white', line_color='navy',size=5)\n",
    "\n",
    "\n",
    "\n",
    "p0.line([-10,0,1,2,10],0.1*np.ones(5),line_color='red',legend='constraint')\n",
    "\n",
    "p0.grid.grid_line_dash = [2,2]\n",
    "p0.grid.grid_line_alpha = 0.1\n",
    "p0.outline_line_color = 'black'\n",
    "\n",
    "p0.xaxis.axis_label = 'idle time in logscale (relative to avg. inter-arrival time)'\n",
    "p0.yaxis.axis_label = 'Mean response time'\n",
    "\n",
    "p0.xaxis.axis_label_text_color = 'black'\n",
    "p0.xaxis.major_label_text_color = 'black'\n",
    "p0.yaxis.axis_label_text_color = 'black'\n",
    "p0.yaxis.major_label_text_color = 'black'\n",
    "p0.legend.label_text_color = 'black'\n",
    "\n",
    "p0.axis.axis_label_text_font_size = '12pt'\n",
    "p0.axis.major_label_text_font_size = '10pt'\n",
    "\n",
    "p0.legend.location  = 'top_right'\n",
    "\n",
    "show(p0)"
   ]
  },
  {
   "cell_type": "code",
   "execution_count": 10,
   "metadata": {},
   "outputs": [
    {
     "data": {
      "text/html": [
       "\n",
       "<div class=\"bk-root\">\n",
       "    <div class=\"bk-plotdiv\" id=\"9915ce34-a95d-4354-b945-f60b1ce5adbf\"></div>\n",
       "</div>"
      ]
     },
     "metadata": {},
     "output_type": "display_data"
    },
    {
     "data": {
      "application/javascript": [
       "(function(root) {\n",
       "  function embed_document(root) {\n",
       "    var docs_json = {\"b746e999-0ac7-404a-9d13-11cc0297218e\":{\"roots\":{\"references\":[{\"attributes\":{\"fill_color\":{\"value\":\"white\"},\"line_color\":{\"value\":\"navy\"},\"size\":{\"units\":\"screen\",\"value\":5},\"x\":{\"field\":\"x\"},\"y\":{\"field\":\"y\"}},\"id\":\"d51f191d-83a9-4379-b133-712222a8fcb1\",\"type\":\"Circle\"},{\"attributes\":{\"fill_alpha\":{\"value\":0.1},\"fill_color\":{\"value\":\"#1f77b4\"},\"line_alpha\":{\"value\":0.1},\"line_color\":{\"value\":\"#1f77b4\"},\"size\":{\"units\":\"screen\",\"value\":5},\"x\":{\"field\":\"x\"},\"y\":{\"field\":\"y\"}},\"id\":\"1a09a14d-0cff-467c-b8e7-1c32d4e0a2e7\",\"type\":\"Circle\"},{\"attributes\":{\"callback\":null,\"column_names\":[\"y\",\"x\"],\"data\":{\"x\":[-10,-3.473931188332412,-1.8889686876112561,-0.888968687611256,-0.014499569695115089,0.9855004303048849,1.9855004303048849,3.0018022426339854,6.999774561287003,9.00002817736235,10.00002817736235],\"y\":{\"__ndarray__\":\"mpmZmZnokEApXI/C9fyQQOF6FK5HCpFAuB6F61EdkUDD9ShcjzaRQGZmZmZmf5BAuB6F61GEkEBSuB6F66yQQHsUrkfh3ZBAmpmZmZngkEApXI/C9eCQQA==\",\"dtype\":\"float64\",\"shape\":[11]}}},\"id\":\"65fb22ae-e852-4674-ba22-1d41ef3d9acd\",\"type\":\"ColumnDataSource\"},{\"attributes\":{\"line_alpha\":{\"value\":0.1},\"line_color\":{\"value\":\"#1f77b4\"},\"line_dash\":[1,4],\"x\":{\"field\":\"x\"},\"y\":{\"field\":\"y\"}},\"id\":\"9a0df708-2ed7-426c-addc-3502deb96a4b\",\"type\":\"Line\"},{\"attributes\":{\"data_source\":{\"id\":\"ed785bc4-aa49-4b12-8a22-e924e39d8c50\",\"type\":\"ColumnDataSource\"},\"glyph\":{\"id\":\"427809cc-27d0-4403-b1ba-108f9740bfd1\",\"type\":\"Circle\"},\"hover_glyph\":null,\"muted_glyph\":null,\"nonselection_glyph\":{\"id\":\"518c0f70-df76-4393-815a-645dfe3e9b41\",\"type\":\"Circle\"},\"selection_glyph\":null,\"view\":{\"id\":\"6d662dc3-6a4a-4216-bb6a-9c45f7f3fbf2\",\"type\":\"CDSView\"}},\"id\":\"080d463f-363d-4b56-8b48-941228478678\",\"type\":\"GlyphRenderer\"},{\"attributes\":{\"data_source\":{\"id\":\"cb840a72-65d8-4a49-b434-b1dbebadf2b4\",\"type\":\"ColumnDataSource\"},\"glyph\":{\"id\":\"5030c6cf-5dae-44cb-847f-9987d87e0d00\",\"type\":\"Circle\"},\"hover_glyph\":null,\"muted_glyph\":null,\"nonselection_glyph\":{\"id\":\"b6950da8-5ff8-4a66-87d5-0fbc946f7d18\",\"type\":\"Circle\"},\"selection_glyph\":null,\"view\":{\"id\":\"caaed3f8-11de-4746-b05b-733298114065\",\"type\":\"CDSView\"}},\"id\":\"67f074a5-874f-4457-9853-793c3c224a2c\",\"type\":\"GlyphRenderer\"},{\"attributes\":{\"data_source\":{\"id\":\"f6807d09-13b9-4a5b-ae16-17ffdb14bc28\",\"type\":\"ColumnDataSource\"},\"glyph\":{\"id\":\"d017cb4a-17b5-4695-93d9-75ebcc3abddc\",\"type\":\"Line\"},\"hover_glyph\":null,\"muted_glyph\":null,\"nonselection_glyph\":{\"id\":\"f3bd1b0a-ca72-4bfe-a088-23d0bb729db5\",\"type\":\"Line\"},\"selection_glyph\":null,\"view\":{\"id\":\"dfb5882a-5d6e-4e4e-a429-ac7e7714c7ca\",\"type\":\"CDSView\"}},\"id\":\"4a474230-d85a-48e0-b808-b24efa867e24\",\"type\":\"GlyphRenderer\"},{\"attributes\":{\"source\":{\"id\":\"ed785bc4-aa49-4b12-8a22-e924e39d8c50\",\"type\":\"ColumnDataSource\"}},\"id\":\"6d662dc3-6a4a-4216-bb6a-9c45f7f3fbf2\",\"type\":\"CDSView\"},{\"attributes\":{\"data_source\":{\"id\":\"65fb22ae-e852-4674-ba22-1d41ef3d9acd\",\"type\":\"ColumnDataSource\"},\"glyph\":{\"id\":\"9e8154bf-f2a2-43aa-8115-cf73e0a404ea\",\"type\":\"Circle\"},\"hover_glyph\":null,\"muted_glyph\":null,\"nonselection_glyph\":{\"id\":\"1a09a14d-0cff-467c-b8e7-1c32d4e0a2e7\",\"type\":\"Circle\"},\"selection_glyph\":null,\"view\":{\"id\":\"11d01053-4da8-4d32-8413-237a6b3e3b35\",\"type\":\"CDSView\"}},\"id\":\"6ec71dcd-5495-47f4-9ff1-0b3dff2bad66\",\"type\":\"GlyphRenderer\"},{\"attributes\":{},\"id\":\"c197aeba-085e-45e6-91a8-4c680c419d0e\",\"type\":\"WheelZoomTool\"},{\"attributes\":{},\"id\":\"899ef1f8-0531-4cc0-9fef-c6a877337af3\",\"type\":\"PanTool\"},{\"attributes\":{\"source\":{\"id\":\"9f9f0576-7509-43ac-840b-90bb11c2e8a7\",\"type\":\"ColumnDataSource\"}},\"id\":\"6e7ef50b-6015-4be6-a8f1-dfd555d32908\",\"type\":\"CDSView\"},{\"attributes\":{\"fill_color\":{\"value\":\"white\"},\"line_color\":{\"value\":\"navy\"},\"size\":{\"units\":\"screen\",\"value\":5},\"x\":{\"field\":\"x\"},\"y\":{\"field\":\"y\"}},\"id\":\"9e8154bf-f2a2-43aa-8115-cf73e0a404ea\",\"type\":\"Circle\"},{\"attributes\":{\"fill_alpha\":{\"value\":0.1},\"fill_color\":{\"value\":\"#1f77b4\"},\"line_alpha\":{\"value\":0.1},\"line_color\":{\"value\":\"#1f77b4\"},\"size\":{\"units\":\"screen\",\"value\":5},\"x\":{\"field\":\"x\"},\"y\":{\"field\":\"y\"}},\"id\":\"6427ecba-b282-4543-ab37-168b1f35d3b8\",\"type\":\"Circle\"},{\"attributes\":{},\"id\":\"30a40431-fa41-4bc5-a9da-f24f3d0015a9\",\"type\":\"SaveTool\"},{\"attributes\":{\"line_color\":{\"value\":\"navy\"},\"line_dash\":[15,2],\"x\":{\"field\":\"x\"},\"y\":{\"field\":\"y\"}},\"id\":\"38e2bb6e-4c4f-4dba-9ee2-fc4d52d240c8\",\"type\":\"Line\"},{\"attributes\":{\"data_source\":{\"id\":\"b1fc5366-8806-4b91-8739-609b73fe542d\",\"type\":\"ColumnDataSource\"},\"glyph\":{\"id\":\"d51f191d-83a9-4379-b133-712222a8fcb1\",\"type\":\"Circle\"},\"hover_glyph\":null,\"muted_glyph\":null,\"nonselection_glyph\":{\"id\":\"6427ecba-b282-4543-ab37-168b1f35d3b8\",\"type\":\"Circle\"},\"selection_glyph\":null,\"view\":{\"id\":\"070a50ca-8a44-415e-b97d-83f73d2925c2\",\"type\":\"CDSView\"}},\"id\":\"662015b8-5f6a-48a8-ad9c-51653f7bfd06\",\"type\":\"GlyphRenderer\"},{\"attributes\":{\"callback\":null,\"column_names\":[\"y\",\"x\"],\"data\":{\"x\":[-10,-3.0588936890535687,-2.0,-1.0,0.0,1.0,2.0,3.0,7.0,9.0,10.0],\"y\":{\"__ndarray__\":\"UrgeheuHiECuR+F6FFyJQD0K16NwBYpAFK5H4XoGi0CF61G4Hk2MQM3MzMzMmI1AzczMzMymjkBSuB6F61uPQFK4HoXrF5BArkfhehQekED2KFyPwh+QQA==\",\"dtype\":\"float64\",\"shape\":[11]}}},\"id\":\"ed785bc4-aa49-4b12-8a22-e924e39d8c50\",\"type\":\"ColumnDataSource\"},{\"attributes\":{\"grid_line_alpha\":{\"value\":0.1},\"grid_line_dash\":[2,2],\"plot\":{\"id\":\"0240cd1a-40cf-4975-991d-24c5263ffa86\",\"subtype\":\"Figure\",\"type\":\"Plot\"},\"ticker\":{\"id\":\"feb0ac42-3677-4a1a-8b84-d7febe944fc9\",\"type\":\"BasicTicker\"}},\"id\":\"47482bf0-7085-43e0-bd96-9cf0f6e6aaf6\",\"type\":\"Grid\"},{\"attributes\":{\"callback\":null,\"column_names\":[\"y\",\"x\"],\"data\":{\"x\":[-10,-3.473931188332412,-1.8889686876112561,-0.888968687611256,-0.014499569695115089,0.9855004303048849,1.9855004303048849,3.0018022426339854,6.999774561287003,9.00002817736235,10.00002817736235],\"y\":{\"__ndarray__\":\"mpmZmZnokEApXI/C9fyQQOF6FK5HCpFAuB6F61EdkUDD9ShcjzaRQGZmZmZmf5BAuB6F61GEkEBSuB6F66yQQHsUrkfh3ZBAmpmZmZngkEApXI/C9eCQQA==\",\"dtype\":\"float64\",\"shape\":[11]}}},\"id\":\"276fb104-b694-40e6-8042-61b5fa1d209c\",\"type\":\"ColumnDataSource\"},{\"attributes\":{\"fill_color\":{\"value\":\"white\"},\"line_color\":{\"value\":\"navy\"},\"size\":{\"units\":\"screen\",\"value\":5},\"x\":{\"field\":\"x\"},\"y\":{\"field\":\"y\"}},\"id\":\"427809cc-27d0-4403-b1ba-108f9740bfd1\",\"type\":\"Circle\"},{\"attributes\":{\"items\":[{\"id\":\"b0c9c8b2-83c2-467f-ad73-7e9bcf44ecec\",\"type\":\"LegendItem\"},{\"id\":\"16ab1232-e3b8-43f3-a46f-c93a48f81ec6\",\"type\":\"LegendItem\"},{\"id\":\"afb98e30-84e3-4a95-870e-4559d8ad9da6\",\"type\":\"LegendItem\"},{\"id\":\"8649476a-0844-45f4-83c9-742c376896d7\",\"type\":\"LegendItem\"}],\"label_text_color\":{\"value\":\"black\"},\"location\":\"bottom_right\",\"plot\":{\"id\":\"0240cd1a-40cf-4975-991d-24c5263ffa86\",\"subtype\":\"Figure\",\"type\":\"Plot\"}},\"id\":\"010cdfa0-ecd4-4739-910d-21b2d5137ce6\",\"type\":\"Legend\"},{\"attributes\":{\"callback\":null},\"id\":\"905d78f7-b4a4-4d9d-804c-31676b012fef\",\"type\":\"DataRange1d\"},{\"attributes\":{\"label\":{\"value\":\"Small cell load = 0.2\"},\"renderers\":[{\"id\":\"f13eb28e-d4e0-4eb3-b088-f35ebae6ce23\",\"type\":\"GlyphRenderer\"}]},\"id\":\"16ab1232-e3b8-43f3-a46f-c93a48f81ec6\",\"type\":\"LegendItem\"},{\"attributes\":{\"dimension\":1,\"grid_line_alpha\":{\"value\":0.1},\"grid_line_dash\":[2,2],\"plot\":{\"id\":\"0240cd1a-40cf-4975-991d-24c5263ffa86\",\"subtype\":\"Figure\",\"type\":\"Plot\"},\"ticker\":{\"id\":\"a74c5500-3bce-4987-b269-13ee2d27be41\",\"type\":\"BasicTicker\"}},\"id\":\"20bce358-3208-479c-aa81-9695708ef807\",\"type\":\"Grid\"},{\"attributes\":{},\"id\":\"9a17d829-63e9-4b24-ad28-2e986a154c3f\",\"type\":\"LinearScale\"},{\"attributes\":{\"axis_label\":\"idle time in logscale (relative to avg. inter-arrival time)\",\"axis_label_text_color\":{\"value\":\"black\"},\"axis_label_text_font_size\":{\"value\":\"12pt\"},\"formatter\":{\"id\":\"7a51a5a0-6b03-4e63-97b6-6caba40c1ed1\",\"type\":\"BasicTickFormatter\"},\"major_label_text_color\":{\"value\":\"black\"},\"major_label_text_font_size\":{\"value\":\"10pt\"},\"plot\":{\"id\":\"0240cd1a-40cf-4975-991d-24c5263ffa86\",\"subtype\":\"Figure\",\"type\":\"Plot\"},\"ticker\":{\"id\":\"feb0ac42-3677-4a1a-8b84-d7febe944fc9\",\"type\":\"BasicTicker\"}},\"id\":\"d446649f-7c6c-46de-a5c3-998f38710cc2\",\"type\":\"LinearAxis\"},{\"attributes\":{\"axis_label\":\"Mean power\",\"axis_label_text_color\":{\"value\":\"black\"},\"axis_label_text_font_size\":{\"value\":\"12pt\"},\"formatter\":{\"id\":\"d2564973-e27b-4ff2-b180-97ae4f73d527\",\"type\":\"BasicTickFormatter\"},\"major_label_text_color\":{\"value\":\"black\"},\"major_label_text_font_size\":{\"value\":\"10pt\"},\"plot\":{\"id\":\"0240cd1a-40cf-4975-991d-24c5263ffa86\",\"subtype\":\"Figure\",\"type\":\"Plot\"},\"ticker\":{\"id\":\"a74c5500-3bce-4987-b269-13ee2d27be41\",\"type\":\"BasicTicker\"}},\"id\":\"450503f8-9669-4ba6-b545-4dd00f1d5e77\",\"type\":\"LinearAxis\"},{\"attributes\":{},\"id\":\"7a51a5a0-6b03-4e63-97b6-6caba40c1ed1\",\"type\":\"BasicTickFormatter\"},{\"attributes\":{},\"id\":\"e1f298ff-7b32-41c4-9fd1-71587ccdfd0c\",\"type\":\"LinearScale\"},{\"attributes\":{\"line_color\":{\"value\":\"navy\"},\"line_dash\":[1,4],\"x\":{\"field\":\"x\"},\"y\":{\"field\":\"y\"}},\"id\":\"acf2cdb7-e6bb-4222-90ff-73676991efb0\",\"type\":\"Line\"},{\"attributes\":{\"callback\":null,\"column_names\":[\"y\",\"x\"],\"data\":{\"x\":[-10,-3.0588936890535687,-2.0588936890535687,-1.0588936890535685,0.02856915219677092,0.9855004303048849,2.007195501404204,2.996388746447621,6.999774561287003,8.999943643624247,10.00002817736235],\"y\":{\"__ndarray__\":\"KVyPwvVMjkCuR+F6FKSOQNejcD0K4Y5AKVyPwvVAj0DsUbgehemOQIXrUbgem49ApHA9CtcbkEDXo3A9ClSQQOF6FK5HlZBA9ihcj8KZkEB7FK5H4ZmQQA==\",\"dtype\":\"float64\",\"shape\":[11]}}},\"id\":\"f6807d09-13b9-4a5b-ae16-17ffdb14bc28\",\"type\":\"ColumnDataSource\"},{\"attributes\":{\"line_alpha\":{\"value\":0.1},\"line_color\":{\"value\":\"#1f77b4\"},\"line_dash\":[4,4],\"x\":{\"field\":\"x\"},\"y\":{\"field\":\"y\"}},\"id\":\"f3bd1b0a-ca72-4bfe-a088-23d0bb729db5\",\"type\":\"Line\"},{\"attributes\":{\"callback\":null,\"column_names\":[\"y\",\"x\"],\"data\":{\"x\":[-10,-3.0588936890535687,-2.0588936890535687,-1.0588936890535685,0.0,1.0,2.0,3.0,7.0,9.0,10.0],\"y\":{\"__ndarray__\":\"w/UoXI/8i0B7FK5H4XaMQKRwPQrX2YxAMzMzMzMbjUD2KFyPwvWNQK5H4XoU3I5A9ihcj8Kfj0AAAAAAABSQQHE9CtejZZBAhetRuB5qkEAfhetRuGuQQA==\",\"dtype\":\"float64\",\"shape\":[11]}}},\"id\":\"b1fc5366-8806-4b91-8739-609b73fe542d\",\"type\":\"ColumnDataSource\"},{\"attributes\":{\"source\":{\"id\":\"1c714f07-7102-4142-8c86-ae597ac193a6\",\"type\":\"ColumnDataSource\"}},\"id\":\"428a3042-5d68-4970-a69e-819febf7dc8c\",\"type\":\"CDSView\"},{\"attributes\":{},\"id\":\"feaf6ada-411c-45da-90c1-c72f8542eee4\",\"type\":\"ResetTool\"},{\"attributes\":{\"source\":{\"id\":\"276fb104-b694-40e6-8042-61b5fa1d209c\",\"type\":\"ColumnDataSource\"}},\"id\":\"8ff08e2a-a659-48f2-82d6-40b410d0b968\",\"type\":\"CDSView\"},{\"attributes\":{\"line_color\":{\"value\":\"navy\"},\"line_dash\":[4,4],\"x\":{\"field\":\"x\"},\"y\":{\"field\":\"y\"}},\"id\":\"d017cb4a-17b5-4695-93d9-75ebcc3abddc\",\"type\":\"Line\"},{\"attributes\":{\"fill_alpha\":{\"value\":0.1},\"fill_color\":{\"value\":\"#1f77b4\"},\"line_alpha\":{\"value\":0.1},\"line_color\":{\"value\":\"#1f77b4\"},\"size\":{\"units\":\"screen\",\"value\":5},\"x\":{\"field\":\"x\"},\"y\":{\"field\":\"y\"}},\"id\":\"b6950da8-5ff8-4a66-87d5-0fbc946f7d18\",\"type\":\"Circle\"},{\"attributes\":{\"plot\":null,\"text\":\"\"},\"id\":\"2c608ff5-98aa-4ec9-a5b0-c947d6e3c550\",\"type\":\"Title\"},{\"attributes\":{},\"id\":\"0703ddb4-f02d-4fa8-b014-7f14d2af5ccf\",\"type\":\"HelpTool\"},{\"attributes\":{\"data_source\":{\"id\":\"1c714f07-7102-4142-8c86-ae597ac193a6\",\"type\":\"ColumnDataSource\"},\"glyph\":{\"id\":\"1c9bf72a-07c0-4727-9b14-91a48f2a3b3c\",\"type\":\"Line\"},\"hover_glyph\":null,\"muted_glyph\":null,\"nonselection_glyph\":{\"id\":\"d581a54b-31fd-4732-bd09-7ba65bdc3b6b\",\"type\":\"Line\"},\"selection_glyph\":null,\"view\":{\"id\":\"428a3042-5d68-4970-a69e-819febf7dc8c\",\"type\":\"CDSView\"}},\"id\":\"f159c42e-68dc-4c68-abed-f6efae851a52\",\"type\":\"GlyphRenderer\"},{\"attributes\":{},\"id\":\"feb0ac42-3677-4a1a-8b84-d7febe944fc9\",\"type\":\"BasicTicker\"},{\"attributes\":{\"fill_color\":{\"value\":\"white\"},\"line_color\":{\"value\":\"navy\"},\"size\":{\"units\":\"screen\",\"value\":5},\"x\":{\"field\":\"x\"},\"y\":{\"field\":\"y\"}},\"id\":\"5030c6cf-5dae-44cb-847f-9987d87e0d00\",\"type\":\"Circle\"},{\"attributes\":{},\"id\":\"a74c5500-3bce-4987-b269-13ee2d27be41\",\"type\":\"BasicTicker\"},{\"attributes\":{\"source\":{\"id\":\"f6807d09-13b9-4a5b-ae16-17ffdb14bc28\",\"type\":\"ColumnDataSource\"}},\"id\":\"dfb5882a-5d6e-4e4e-a429-ac7e7714c7ca\",\"type\":\"CDSView\"},{\"attributes\":{\"label\":{\"value\":\"Small cell load = 0.05\"},\"renderers\":[{\"id\":\"f159c42e-68dc-4c68-abed-f6efae851a52\",\"type\":\"GlyphRenderer\"}]},\"id\":\"b0c9c8b2-83c2-467f-ad73-7e9bcf44ecec\",\"type\":\"LegendItem\"},{\"attributes\":{\"label\":{\"value\":\"Small cell load = 0.5\"},\"renderers\":[{\"id\":\"0d07d653-963a-4600-8731-7a95153e6579\",\"type\":\"GlyphRenderer\"}]},\"id\":\"8649476a-0844-45f4-83c9-742c376896d7\",\"type\":\"LegendItem\"},{\"attributes\":{\"line_alpha\":{\"value\":0.1},\"line_color\":{\"value\":\"#1f77b4\"},\"line_dash\":[15,2],\"x\":{\"field\":\"x\"},\"y\":{\"field\":\"y\"}},\"id\":\"f9efc2cf-4e63-4413-ac83-e45148d534d5\",\"type\":\"Line\"},{\"attributes\":{\"active_drag\":\"auto\",\"active_inspect\":\"auto\",\"active_scroll\":\"auto\",\"active_tap\":\"auto\",\"tools\":[{\"id\":\"899ef1f8-0531-4cc0-9fef-c6a877337af3\",\"type\":\"PanTool\"},{\"id\":\"c197aeba-085e-45e6-91a8-4c680c419d0e\",\"type\":\"WheelZoomTool\"},{\"id\":\"86c342f7-4b2d-43df-92e0-6fdae81633c4\",\"type\":\"BoxZoomTool\"},{\"id\":\"30a40431-fa41-4bc5-a9da-f24f3d0015a9\",\"type\":\"SaveTool\"},{\"id\":\"feaf6ada-411c-45da-90c1-c72f8542eee4\",\"type\":\"ResetTool\"},{\"id\":\"0703ddb4-f02d-4fa8-b014-7f14d2af5ccf\",\"type\":\"HelpTool\"}]},\"id\":\"fc5fb908-8c38-4306-bcfa-8162c257eee2\",\"type\":\"Toolbar\"},{\"attributes\":{\"callback\":null,\"column_names\":[\"y\",\"x\"],\"data\":{\"x\":[-10,-3.0588936890535687,-2.0588936890535687,-1.0588936890535685,0.02856915219677092,0.9855004303048849,2.007195501404204,2.996388746447621,6.999774561287003,8.999943643624247,10.00002817736235],\"y\":{\"__ndarray__\":\"KVyPwvVMjkCuR+F6FKSOQNejcD0K4Y5AKVyPwvVAj0DsUbgehemOQIXrUbgem49ApHA9CtcbkEDXo3A9ClSQQOF6FK5HlZBA9ihcj8KZkEB7FK5H4ZmQQA==\",\"dtype\":\"float64\",\"shape\":[11]}}},\"id\":\"cb840a72-65d8-4a49-b434-b1dbebadf2b4\",\"type\":\"ColumnDataSource\"},{\"attributes\":{\"callback\":null,\"column_names\":[\"y\",\"x\"],\"data\":{\"x\":[-10,-3.0588936890535687,-2.0588936890535687,-1.0588936890535685,0.0,1.0,2.0,3.0,7.0,9.0,10.0],\"y\":{\"__ndarray__\":\"w/UoXI/8i0B7FK5H4XaMQKRwPQrX2YxAMzMzMzMbjUD2KFyPwvWNQK5H4XoU3I5A9ihcj8Kfj0AAAAAAABSQQHE9CtejZZBAhetRuB5qkEAfhetRuGuQQA==\",\"dtype\":\"float64\",\"shape\":[11]}}},\"id\":\"9f9f0576-7509-43ac-840b-90bb11c2e8a7\",\"type\":\"ColumnDataSource\"},{\"attributes\":{\"bottom_units\":\"screen\",\"fill_alpha\":{\"value\":0.5},\"fill_color\":{\"value\":\"lightgrey\"},\"left_units\":\"screen\",\"level\":\"overlay\",\"line_alpha\":{\"value\":1.0},\"line_color\":{\"value\":\"black\"},\"line_dash\":[4,4],\"line_width\":{\"value\":2},\"plot\":null,\"render_mode\":\"css\",\"right_units\":\"screen\",\"top_units\":\"screen\"},\"id\":\"cf8eaf09-27b9-45f7-aec3-f3bdddef1b57\",\"type\":\"BoxAnnotation\"},{\"attributes\":{\"source\":{\"id\":\"b1fc5366-8806-4b91-8739-609b73fe542d\",\"type\":\"ColumnDataSource\"}},\"id\":\"070a50ca-8a44-415e-b97d-83f73d2925c2\",\"type\":\"CDSView\"},{\"attributes\":{\"label\":{\"value\":\"Small cell load = 0.32\"},\"renderers\":[{\"id\":\"4a474230-d85a-48e0-b808-b24efa867e24\",\"type\":\"GlyphRenderer\"}]},\"id\":\"afb98e30-84e3-4a95-870e-4559d8ad9da6\",\"type\":\"LegendItem\"},{\"attributes\":{\"data_source\":{\"id\":\"276fb104-b694-40e6-8042-61b5fa1d209c\",\"type\":\"ColumnDataSource\"},\"glyph\":{\"id\":\"acf2cdb7-e6bb-4222-90ff-73676991efb0\",\"type\":\"Line\"},\"hover_glyph\":null,\"muted_glyph\":null,\"nonselection_glyph\":{\"id\":\"9a0df708-2ed7-426c-addc-3502deb96a4b\",\"type\":\"Line\"},\"selection_glyph\":null,\"view\":{\"id\":\"8ff08e2a-a659-48f2-82d6-40b410d0b968\",\"type\":\"CDSView\"}},\"id\":\"0d07d653-963a-4600-8731-7a95153e6579\",\"type\":\"GlyphRenderer\"},{\"attributes\":{},\"id\":\"d2564973-e27b-4ff2-b180-97ae4f73d527\",\"type\":\"BasicTickFormatter\"},{\"attributes\":{\"source\":{\"id\":\"65fb22ae-e852-4674-ba22-1d41ef3d9acd\",\"type\":\"ColumnDataSource\"}},\"id\":\"11d01053-4da8-4d32-8413-237a6b3e3b35\",\"type\":\"CDSView\"},{\"attributes\":{\"fill_alpha\":{\"value\":0.1},\"fill_color\":{\"value\":\"#1f77b4\"},\"line_alpha\":{\"value\":0.1},\"line_color\":{\"value\":\"#1f77b4\"},\"size\":{\"units\":\"screen\",\"value\":5},\"x\":{\"field\":\"x\"},\"y\":{\"field\":\"y\"}},\"id\":\"518c0f70-df76-4393-815a-645dfe3e9b41\",\"type\":\"Circle\"},{\"attributes\":{\"callback\":null,\"column_names\":[\"y\",\"x\"],\"data\":{\"x\":[-10,-3.0588936890535687,-2.0,-1.0,0.0,1.0,2.0,3.0,7.0,9.0,10.0],\"y\":{\"__ndarray__\":\"UrgeheuHiECuR+F6FFyJQD0K16NwBYpAFK5H4XoGi0CF61G4Hk2MQM3MzMzMmI1AzczMzMymjkBSuB6F61uPQFK4HoXrF5BArkfhehQekED2KFyPwh+QQA==\",\"dtype\":\"float64\",\"shape\":[11]}}},\"id\":\"1c714f07-7102-4142-8c86-ae597ac193a6\",\"type\":\"ColumnDataSource\"},{\"attributes\":{\"source\":{\"id\":\"cb840a72-65d8-4a49-b434-b1dbebadf2b4\",\"type\":\"ColumnDataSource\"}},\"id\":\"caaed3f8-11de-4746-b05b-733298114065\",\"type\":\"CDSView\"},{\"attributes\":{\"data_source\":{\"id\":\"9f9f0576-7509-43ac-840b-90bb11c2e8a7\",\"type\":\"ColumnDataSource\"},\"glyph\":{\"id\":\"38e2bb6e-4c4f-4dba-9ee2-fc4d52d240c8\",\"type\":\"Line\"},\"hover_glyph\":null,\"muted_glyph\":null,\"nonselection_glyph\":{\"id\":\"f9efc2cf-4e63-4413-ac83-e45148d534d5\",\"type\":\"Line\"},\"selection_glyph\":null,\"view\":{\"id\":\"6e7ef50b-6015-4be6-a8f1-dfd555d32908\",\"type\":\"CDSView\"}},\"id\":\"f13eb28e-d4e0-4eb3-b088-f35ebae6ce23\",\"type\":\"GlyphRenderer\"},{\"attributes\":{\"overlay\":{\"id\":\"cf8eaf09-27b9-45f7-aec3-f3bdddef1b57\",\"type\":\"BoxAnnotation\"}},\"id\":\"86c342f7-4b2d-43df-92e0-6fdae81633c4\",\"type\":\"BoxZoomTool\"},{\"attributes\":{\"line_alpha\":{\"value\":0.1},\"line_color\":{\"value\":\"#1f77b4\"},\"x\":{\"field\":\"x\"},\"y\":{\"field\":\"y\"}},\"id\":\"d581a54b-31fd-4732-bd09-7ba65bdc3b6b\",\"type\":\"Line\"},{\"attributes\":{\"below\":[{\"id\":\"d446649f-7c6c-46de-a5c3-998f38710cc2\",\"type\":\"LinearAxis\"}],\"left\":[{\"id\":\"450503f8-9669-4ba6-b545-4dd00f1d5e77\",\"type\":\"LinearAxis\"}],\"outline_line_color\":{\"value\":\"black\"},\"plot_height\":400,\"renderers\":[{\"id\":\"d446649f-7c6c-46de-a5c3-998f38710cc2\",\"type\":\"LinearAxis\"},{\"id\":\"47482bf0-7085-43e0-bd96-9cf0f6e6aaf6\",\"type\":\"Grid\"},{\"id\":\"450503f8-9669-4ba6-b545-4dd00f1d5e77\",\"type\":\"LinearAxis\"},{\"id\":\"20bce358-3208-479c-aa81-9695708ef807\",\"type\":\"Grid\"},{\"id\":\"cf8eaf09-27b9-45f7-aec3-f3bdddef1b57\",\"type\":\"BoxAnnotation\"},{\"id\":\"010cdfa0-ecd4-4739-910d-21b2d5137ce6\",\"type\":\"Legend\"},{\"id\":\"f159c42e-68dc-4c68-abed-f6efae851a52\",\"type\":\"GlyphRenderer\"},{\"id\":\"080d463f-363d-4b56-8b48-941228478678\",\"type\":\"GlyphRenderer\"},{\"id\":\"f13eb28e-d4e0-4eb3-b088-f35ebae6ce23\",\"type\":\"GlyphRenderer\"},{\"id\":\"662015b8-5f6a-48a8-ad9c-51653f7bfd06\",\"type\":\"GlyphRenderer\"},{\"id\":\"4a474230-d85a-48e0-b808-b24efa867e24\",\"type\":\"GlyphRenderer\"},{\"id\":\"67f074a5-874f-4457-9853-793c3c224a2c\",\"type\":\"GlyphRenderer\"},{\"id\":\"0d07d653-963a-4600-8731-7a95153e6579\",\"type\":\"GlyphRenderer\"},{\"id\":\"6ec71dcd-5495-47f4-9ff1-0b3dff2bad66\",\"type\":\"GlyphRenderer\"}],\"title\":{\"id\":\"2c608ff5-98aa-4ec9-a5b0-c947d6e3c550\",\"type\":\"Title\"},\"toolbar\":{\"id\":\"fc5fb908-8c38-4306-bcfa-8162c257eee2\",\"type\":\"Toolbar\"},\"x_range\":{\"id\":\"50462c2a-7ffc-45a2-bed6-bdd923c32652\",\"type\":\"DataRange1d\"},\"x_scale\":{\"id\":\"e1f298ff-7b32-41c4-9fd1-71587ccdfd0c\",\"type\":\"LinearScale\"},\"y_range\":{\"id\":\"905d78f7-b4a4-4d9d-804c-31676b012fef\",\"type\":\"DataRange1d\"},\"y_scale\":{\"id\":\"9a17d829-63e9-4b24-ad28-2e986a154c3f\",\"type\":\"LinearScale\"}},\"id\":\"0240cd1a-40cf-4975-991d-24c5263ffa86\",\"subtype\":\"Figure\",\"type\":\"Plot\"},{\"attributes\":{\"line_color\":{\"value\":\"navy\"},\"x\":{\"field\":\"x\"},\"y\":{\"field\":\"y\"}},\"id\":\"1c9bf72a-07c0-4727-9b14-91a48f2a3b3c\",\"type\":\"Line\"},{\"attributes\":{\"callback\":null},\"id\":\"50462c2a-7ffc-45a2-bed6-bdd923c32652\",\"type\":\"DataRange1d\"}],\"root_ids\":[\"0240cd1a-40cf-4975-991d-24c5263ffa86\"]},\"title\":\"Bokeh Application\",\"version\":\"0.12.10\"}};\n",
       "    var render_items = [{\"docid\":\"b746e999-0ac7-404a-9d13-11cc0297218e\",\"elementid\":\"9915ce34-a95d-4354-b945-f60b1ce5adbf\",\"modelid\":\"0240cd1a-40cf-4975-991d-24c5263ffa86\"}];\n",
       "\n",
       "    root.Bokeh.embed.embed_items(docs_json, render_items);\n",
       "  }\n",
       "\n",
       "  if (root.Bokeh !== undefined) {\n",
       "    embed_document(root);\n",
       "  } else {\n",
       "    var attempts = 0;\n",
       "    var timer = setInterval(function(root) {\n",
       "      if (root.Bokeh !== undefined) {\n",
       "        embed_document(root);\n",
       "        clearInterval(timer);\n",
       "      }\n",
       "      attempts++;\n",
       "      if (attempts > 100) {\n",
       "        console.log(\"Bokeh: ERROR: Unable to embed document because BokehJS library is missing\")\n",
       "        clearInterval(timer);\n",
       "      }\n",
       "    }, 10, root)\n",
       "  }\n",
       "})(window);"
      ],
      "application/vnd.bokehjs_exec.v0+json": ""
     },
     "metadata": {
      "application/vnd.bokehjs_exec.v0+json": {
       "id": "0240cd1a-40cf-4975-991d-24c5263ffa86"
      }
     },
     "output_type": "display_data"
    }
   ],
   "source": [
    "p0 = figure(plot_width=600, plot_height=400)\n",
    "\n",
    "\n",
    "p0.line(logscale(1), df[df.small_arrival==1].avg_power, line_color='navy',legend='Small cell load = 0.05')\n",
    "p0.circle(logscale(1), df[df.small_arrival==1].avg_power, color='white', line_color='navy',size=5)\n",
    "p0.line(logscale(4), df[df.small_arrival==4].avg_power, line_color='navy',line_dash=\"15 2\",legend='Small cell load = 0.2')\n",
    "p0.circle(logscale(4), df[df.small_arrival==4].avg_power, color='white', line_color='navy',size=5)\n",
    "\n",
    "p0.line(logscale(6), df[df.small_arrival==6].avg_power, line_color='navy',line_dash=\"4 4\",legend='Small cell load = 0.32')\n",
    "p0.circle(logscale(6), df[df.small_arrival==6].avg_power, color='white', line_color='navy',size=5)\n",
    "\n",
    "p0.line(logscale(9), df[df.small_arrival==9].avg_power, line_color='navy',line_dash=\"1 4\",legend='Small cell load = 0.5')\n",
    "p0.circle(logscale(9), df[df.small_arrival==9].avg_power, color='white', line_color='navy',size=5)\n",
    "\n",
    "\n",
    "p0.grid.grid_line_dash = [2,2]\n",
    "p0.grid.grid_line_alpha = 0.1\n",
    "\n",
    "p0.xaxis.axis_label = 'idle time in logscale (relative to avg. inter-arrival time)'\n",
    "p0.yaxis.axis_label = 'Mean power'\n",
    "\n",
    "p0.xaxis.axis_label_text_color = 'black'\n",
    "p0.xaxis.major_label_text_color = 'black'\n",
    "p0.yaxis.axis_label_text_color = 'black'\n",
    "p0.yaxis.major_label_text_color = 'black'\n",
    "p0.legend.label_text_color = 'black'\n",
    "\n",
    "p0.legend.location  = 'bottom_right'\n",
    "p0.outline_line_color = 'black'\n",
    "\n",
    "p0.axis.axis_label_text_font_size = '12pt'\n",
    "p0.axis.major_label_text_font_size = '10pt'\n",
    "\n",
    "show(p0)"
   ]
  },
  {
   "cell_type": "markdown",
   "metadata": {},
   "source": [
    "## 1.2 Long setup delay"
   ]
  },
  {
   "cell_type": "code",
   "execution_count": 11,
   "metadata": {},
   "outputs": [
    {
     "name": "stdout",
     "output_type": "stream",
     "text": [
      "1510419211.csv        \u001b[34msetup_0.05_erws\u001b[m\u001b[m/      test-test.csv\r\n",
      "\u001b[34mbak\u001b[m\u001b[m/                  \u001b[34msetup_1.0\u001b[m\u001b[m/            test.csv\r\n",
      "result.csv            \u001b[34msetup_1.0_erws\u001b[m\u001b[m/       visualization.ipynb\r\n",
      "\u001b[34msetup_0.05\u001b[m\u001b[m/           test-lb-policy.csv    visualization2.ipynb\r\n"
     ]
    }
   ],
   "source": [
    "%ls"
   ]
  },
  {
   "cell_type": "code",
   "execution_count": 12,
   "metadata": {},
   "outputs": [],
   "source": [
    "df=pd.read_csv('setup_1.0/output_1.csv', skiprows=1)\n",
    "\n",
    "if df.iloc[-1][0] > 0:\n",
    "    df = df.iloc[-1:]\n",
    "else:\n",
    "    df = df.iloc[1:2]\n",
    "\n",
    "for i in range(2,45):\n",
    "    df_tmp = pd.read_csv('setup_1.0/output_'+str(i)+'.csv', skiprows=1)\n",
    "\n",
    "    if df_tmp.iloc[-1][0] > 0:\n",
    "        df_tmp = df_tmp.iloc[-1:]\n",
    "    else:\n",
    "        df_tmp = df_tmp.iloc[1:2]\n",
    "    df = df.append(df_tmp)\n",
    "\n",
    "df['relative_idle_time'] = df.small_arrival * df.avg_idle_time"
   ]
  },
  {
   "cell_type": "code",
   "execution_count": 13,
   "metadata": {},
   "outputs": [
    {
     "data": {
      "text/html": [
       "\n",
       "<div class=\"bk-root\">\n",
       "    <div class=\"bk-plotdiv\" id=\"d08607be-8a22-4122-a4b0-975bc8257df4\"></div>\n",
       "</div>"
      ]
     },
     "metadata": {},
     "output_type": "display_data"
    },
    {
     "data": {
      "application/javascript": [
       "(function(root) {\n",
       "  function embed_document(root) {\n",
       "    var docs_json = {\"bc4ac44a-009e-4d10-be70-40f6df463540\":{\"roots\":{\"references\":[{\"attributes\":{\"source\":{\"id\":\"813754a4-5e63-4bb1-83d9-e277bc9fc6d0\",\"type\":\"ColumnDataSource\"}},\"id\":\"924d8e6e-add7-4276-a865-2281f417cbae\",\"type\":\"CDSView\"},{\"attributes\":{\"data_source\":{\"id\":\"4f8f3df6-f1c0-4825-8e96-3f9eaeeb3f86\",\"type\":\"ColumnDataSource\"},\"glyph\":{\"id\":\"d10e665d-6434-47f9-8c3a-e74182338d79\",\"type\":\"Line\"},\"hover_glyph\":null,\"muted_glyph\":null,\"nonselection_glyph\":{\"id\":\"8665b628-6abf-4506-97dd-b2df20eae084\",\"type\":\"Line\"},\"selection_glyph\":null,\"view\":{\"id\":\"16600a7a-b04e-4710-baaa-898d536cee49\",\"type\":\"CDSView\"}},\"id\":\"b80a7ff4-40c7-4110-94cd-7ec09b5293f9\",\"type\":\"GlyphRenderer\"},{\"attributes\":{\"source\":{\"id\":\"1328b0bd-8761-45da-b4d3-522316157b10\",\"type\":\"ColumnDataSource\"}},\"id\":\"e9127e2d-3b3c-44e7-a32d-4318134566f2\",\"type\":\"CDSView\"},{\"attributes\":{\"line_alpha\":{\"value\":0.1},\"line_color\":{\"value\":\"#1f77b4\"},\"x\":{\"field\":\"x\"},\"y\":{\"field\":\"y\"}},\"id\":\"f7229c2c-1e57-4435-8da1-d18ce5a91053\",\"type\":\"Line\"},{\"attributes\":{},\"id\":\"f501b3dd-52c1-40ee-a104-07b2e085e005\",\"type\":\"HelpTool\"},{\"attributes\":{},\"id\":\"b88d0758-c0aa-421f-9ac7-45c65325ffa3\",\"type\":\"PanTool\"},{\"attributes\":{\"label\":{\"value\":\"Small cell load = 0.32\"},\"renderers\":[{\"id\":\"b80a7ff4-40c7-4110-94cd-7ec09b5293f9\",\"type\":\"GlyphRenderer\"}]},\"id\":\"eff39af9-f026-4893-85ee-9fc32f857cfb\",\"type\":\"LegendItem\"},{\"attributes\":{\"source\":{\"id\":\"4f8f3df6-f1c0-4825-8e96-3f9eaeeb3f86\",\"type\":\"ColumnDataSource\"}},\"id\":\"16600a7a-b04e-4710-baaa-898d536cee49\",\"type\":\"CDSView\"},{\"attributes\":{\"label\":{\"value\":\"Small cell load = 0.05\"},\"renderers\":[{\"id\":\"4c667684-8df4-45db-940c-61c2a96e8685\",\"type\":\"GlyphRenderer\"}]},\"id\":\"d7c9f15a-91bb-4160-b3ea-67cf1e33c1d7\",\"type\":\"LegendItem\"},{\"attributes\":{\"fill_color\":{\"value\":\"white\"},\"line_color\":{\"value\":\"navy\"},\"size\":{\"units\":\"screen\",\"value\":5},\"x\":{\"field\":\"x\"},\"y\":{\"field\":\"y\"}},\"id\":\"e8857aad-0d67-4e67-9cf6-d0bd8317b541\",\"type\":\"Circle\"},{\"attributes\":{\"callback\":null,\"column_names\":[\"y\",\"x\"],\"data\":{\"x\":[-10,-3.0588936890535687,-2.0,-1.0,0.0,1.0,2.0,3.0,7.0,9.0,10.0],\"y\":{\"__ndarray__\":\"jBU1mIbhxz9qh78ma9THP+Oqsu+K4Mc/5+PaUDHOxz/+8V61MuHHP8djBirj38c/4iNiSiTRxz/HYwYq49/HPzlAMEeP38c/hs5r7BLVxz9hjh6/t+nHPw==\",\"dtype\":\"float64\",\"shape\":[11]}}},\"id\":\"cd759d4e-a50b-4ed6-8a6f-7bfd5bfaec3f\",\"type\":\"ColumnDataSource\"},{\"attributes\":{\"callback\":null},\"id\":\"17414caa-67b7-438f-bf2b-1aae5fded744\",\"type\":\"DataRange1d\"},{\"attributes\":{\"data_source\":{\"id\":\"813754a4-5e63-4bb1-83d9-e277bc9fc6d0\",\"type\":\"ColumnDataSource\"},\"glyph\":{\"id\":\"f4b24f6f-cf15-45ce-aa33-7c16321caf2a\",\"type\":\"Circle\"},\"hover_glyph\":null,\"muted_glyph\":null,\"nonselection_glyph\":{\"id\":\"c2d03bc3-8263-4ba4-b667-46cdd91fbd9a\",\"type\":\"Circle\"},\"selection_glyph\":null,\"view\":{\"id\":\"924d8e6e-add7-4276-a865-2281f417cbae\",\"type\":\"CDSView\"}},\"id\":\"708f36bb-7454-4903-8ec7-878c1d064d87\",\"type\":\"GlyphRenderer\"},{\"attributes\":{\"axis_label\":\"idle time in logscale (relative to avg. inter-arrival time)\",\"axis_label_text_color\":{\"value\":\"black\"},\"axis_label_text_font_size\":{\"value\":\"12pt\"},\"formatter\":{\"id\":\"5844b15e-f2d9-4549-ada6-7e91cf10062d\",\"type\":\"BasicTickFormatter\"},\"major_label_text_color\":{\"value\":\"black\"},\"major_label_text_font_size\":{\"value\":\"10pt\"},\"plot\":{\"id\":\"4cb42eb5-512e-40fd-ab0f-6a2057f22a35\",\"subtype\":\"Figure\",\"type\":\"Plot\"},\"ticker\":{\"id\":\"870aab12-7cf4-4b98-a4f4-acab6e833c03\",\"type\":\"BasicTicker\"}},\"id\":\"b3d06852-a9f9-42e5-91cc-2d921007d755\",\"type\":\"LinearAxis\"},{\"attributes\":{\"callback\":null,\"column_names\":[\"y\",\"x\"],\"data\":{\"x\":[-10,-3.0588936890535687,-2.0588936890535687,-1.0588936890535685,0.0,1.0,2.0,3.0,7.0,9.0,10.0],\"y\":{\"__ndarray__\":\"E36pnzcV6D8nMQisHFrnP7dFmQ0yyeY/WFaalIJu5T/tEtVbA1vjP+NrzywJUOM/NlmjHqLR4T8xmSoYldTZPwDGM2jon7g/EfxvJTs2sj8VjErqBDSxPw==\",\"dtype\":\"float64\",\"shape\":[11]}}},\"id\":\"1328b0bd-8761-45da-b4d3-522316157b10\",\"type\":\"ColumnDataSource\"},{\"attributes\":{\"fill_alpha\":{\"value\":0.1},\"fill_color\":{\"value\":\"#1f77b4\"},\"line_alpha\":{\"value\":0.1},\"line_color\":{\"value\":\"#1f77b4\"},\"size\":{\"units\":\"screen\",\"value\":5},\"x\":{\"field\":\"x\"},\"y\":{\"field\":\"y\"}},\"id\":\"2d9ce095-c8d2-420b-b4e3-89765b63792f\",\"type\":\"Circle\"},{\"attributes\":{\"data_source\":{\"id\":\"48874a0d-2a2a-4e51-a8db-e87bbf75957c\",\"type\":\"ColumnDataSource\"},\"glyph\":{\"id\":\"e8857aad-0d67-4e67-9cf6-d0bd8317b541\",\"type\":\"Circle\"},\"hover_glyph\":null,\"muted_glyph\":null,\"nonselection_glyph\":{\"id\":\"2d9ce095-c8d2-420b-b4e3-89765b63792f\",\"type\":\"Circle\"},\"selection_glyph\":null,\"view\":{\"id\":\"db34c176-80d1-4564-a13c-8b6aa8da6d4c\",\"type\":\"CDSView\"}},\"id\":\"1652bb3d-a9ad-4ce8-a3cc-bee21909409e\",\"type\":\"GlyphRenderer\"},{\"attributes\":{\"fill_alpha\":{\"value\":0.1},\"fill_color\":{\"value\":\"#1f77b4\"},\"line_alpha\":{\"value\":0.1},\"line_color\":{\"value\":\"#1f77b4\"},\"size\":{\"units\":\"screen\",\"value\":5},\"x\":{\"field\":\"x\"},\"y\":{\"field\":\"y\"}},\"id\":\"d6a7f825-2f4b-4efc-8f4e-b62323a2b6e7\",\"type\":\"Circle\"},{\"attributes\":{\"callback\":null,\"column_names\":[\"y\",\"x\"],\"data\":{\"x\":[-10,-3.473931188332412,-1.8889686876112561,-0.888968687611256,-0.014499569695115089,0.9855004303048849,1.9855004303048849,3.0018022426339854,6.999774561287003,9.00002817736235,10.00002817736235],\"y\":{\"__ndarray__\":\"WFGDaRg+7D8C1NSytb7rP+7w12SNeus/QPuRIjKs6j+Kq8q+K4LpP+62C811Guc/HAjJAiZw4z+cvwmFCDjjPy8X8Z2Y9cI/OUVHcvkPuT9NEHUfgNS2Pw==\",\"dtype\":\"float64\",\"shape\":[11]}}},\"id\":\"48874a0d-2a2a-4e51-a8db-e87bbf75957c\",\"type\":\"ColumnDataSource\"},{\"attributes\":{\"fill_color\":{\"value\":\"white\"},\"line_color\":{\"value\":\"navy\"},\"size\":{\"units\":\"screen\",\"value\":5},\"x\":{\"field\":\"x\"},\"y\":{\"field\":\"y\"}},\"id\":\"469e4392-1dcf-4b9d-b366-309e7ee06177\",\"type\":\"Circle\"},{\"attributes\":{\"line_alpha\":{\"value\":0.1},\"line_color\":{\"value\":\"#1f77b4\"},\"line_dash\":[4,4],\"x\":{\"field\":\"x\"},\"y\":{\"field\":\"y\"}},\"id\":\"8665b628-6abf-4506-97dd-b2df20eae084\",\"type\":\"Line\"},{\"attributes\":{},\"id\":\"72bddb00-0716-4411-a79a-44d035c0d301\",\"type\":\"BasicTickFormatter\"},{\"attributes\":{\"grid_line_alpha\":{\"value\":0.1},\"grid_line_dash\":[2,2],\"plot\":{\"id\":\"4cb42eb5-512e-40fd-ab0f-6a2057f22a35\",\"subtype\":\"Figure\",\"type\":\"Plot\"},\"ticker\":{\"id\":\"870aab12-7cf4-4b98-a4f4-acab6e833c03\",\"type\":\"BasicTicker\"}},\"id\":\"9f8ff4e3-b2e8-4429-9d1a-d9420e696034\",\"type\":\"Grid\"},{\"attributes\":{\"fill_color\":{\"value\":\"white\"},\"line_color\":{\"value\":\"navy\"},\"size\":{\"units\":\"screen\",\"value\":5},\"x\":{\"field\":\"x\"},\"y\":{\"field\":\"y\"}},\"id\":\"bb5d675f-5e49-43d2-aa84-e9b7ad0c36ce\",\"type\":\"Circle\"},{\"attributes\":{\"fill_alpha\":{\"value\":0.1},\"fill_color\":{\"value\":\"#1f77b4\"},\"line_alpha\":{\"value\":0.1},\"line_color\":{\"value\":\"#1f77b4\"},\"size\":{\"units\":\"screen\",\"value\":5},\"x\":{\"field\":\"x\"},\"y\":{\"field\":\"y\"}},\"id\":\"83fdb61d-cc26-4dea-b3a1-b43fff64631e\",\"type\":\"Circle\"},{\"attributes\":{\"callback\":null,\"column_names\":[\"y\",\"x\"],\"data\":{\"x\":[-10,0,1,2,10],\"y\":{\"__ndarray__\":\"MzMzMzMz4z8zMzMzMzPjPzMzMzMzM+M/MzMzMzMz4z8zMzMzMzPjPw==\",\"dtype\":\"float64\",\"shape\":[5]}}},\"id\":\"e29aa802-d0a1-43cd-902a-cb6bfa5d34ef\",\"type\":\"ColumnDataSource\"},{\"attributes\":{\"source\":{\"id\":\"eb7bfd73-a7bc-4e93-b04c-db51cf6f29a0\",\"type\":\"ColumnDataSource\"}},\"id\":\"41b929cf-b485-4bf1-886d-613da0a05756\",\"type\":\"CDSView\"},{\"attributes\":{\"callback\":null},\"id\":\"64498d8c-b909-47da-8619-02e85ed21c9d\",\"type\":\"DataRange1d\"},{\"attributes\":{\"line_alpha\":{\"value\":0.1},\"line_color\":{\"value\":\"#1f77b4\"},\"x\":{\"field\":\"x\"},\"y\":{\"field\":\"y\"}},\"id\":\"5a26d3ad-0da5-45a5-bed3-1f602ed0f4d8\",\"type\":\"Line\"},{\"attributes\":{\"source\":{\"id\":\"71f91176-a9a7-43c9-8899-0a497ec0a727\",\"type\":\"ColumnDataSource\"}},\"id\":\"5e133250-7a6a-4bf8-8740-adc8a671ce51\",\"type\":\"CDSView\"},{\"attributes\":{\"plot\":null,\"text\":\"\"},\"id\":\"9d5697f9-a0dd-4e3d-975b-f929d632bf65\",\"type\":\"Title\"},{\"attributes\":{\"below\":[{\"id\":\"b3d06852-a9f9-42e5-91cc-2d921007d755\",\"type\":\"LinearAxis\"}],\"left\":[{\"id\":\"b2dc4ab9-3e67-483f-a566-c7d4230de601\",\"type\":\"LinearAxis\"}],\"outline_line_color\":{\"value\":\"black\"},\"plot_height\":400,\"renderers\":[{\"id\":\"b3d06852-a9f9-42e5-91cc-2d921007d755\",\"type\":\"LinearAxis\"},{\"id\":\"9f8ff4e3-b2e8-4429-9d1a-d9420e696034\",\"type\":\"Grid\"},{\"id\":\"b2dc4ab9-3e67-483f-a566-c7d4230de601\",\"type\":\"LinearAxis\"},{\"id\":\"f856e40d-4a86-4d8e-b5e1-4c63d1b14b4d\",\"type\":\"Grid\"},{\"id\":\"7e9098b3-dbcf-4cfe-bc1b-06cfba047b61\",\"type\":\"BoxAnnotation\"},{\"id\":\"a1af38c5-d6b5-4b93-925b-73ec43b245b3\",\"type\":\"Legend\"},{\"id\":\"4c667684-8df4-45db-940c-61c2a96e8685\",\"type\":\"GlyphRenderer\"},{\"id\":\"4df9eb9f-d3af-4ee5-9d65-e28e3f0c9af7\",\"type\":\"GlyphRenderer\"},{\"id\":\"be9b48e1-ea75-4c6c-b760-7cbed24b3d95\",\"type\":\"GlyphRenderer\"},{\"id\":\"7d1f53ef-0b63-4b84-b087-cf7be5ee3356\",\"type\":\"GlyphRenderer\"},{\"id\":\"b80a7ff4-40c7-4110-94cd-7ec09b5293f9\",\"type\":\"GlyphRenderer\"},{\"id\":\"708f36bb-7454-4903-8ec7-878c1d064d87\",\"type\":\"GlyphRenderer\"},{\"id\":\"2f0e8c3e-1f0e-40db-9a52-c9929d593379\",\"type\":\"GlyphRenderer\"},{\"id\":\"1652bb3d-a9ad-4ce8-a3cc-bee21909409e\",\"type\":\"GlyphRenderer\"},{\"id\":\"25dce582-bc56-49e3-b246-b6ffeae0d100\",\"type\":\"GlyphRenderer\"}],\"title\":{\"id\":\"9d5697f9-a0dd-4e3d-975b-f929d632bf65\",\"type\":\"Title\"},\"toolbar\":{\"id\":\"2c49eb29-5b08-4e5c-98ac-9b6732a7cb78\",\"type\":\"Toolbar\"},\"x_range\":{\"id\":\"17414caa-67b7-438f-bf2b-1aae5fded744\",\"type\":\"DataRange1d\"},\"x_scale\":{\"id\":\"03d6c343-e4e2-4fcb-84a3-d3dd050aff1f\",\"type\":\"LinearScale\"},\"y_range\":{\"id\":\"64498d8c-b909-47da-8619-02e85ed21c9d\",\"type\":\"DataRange1d\"},\"y_scale\":{\"id\":\"d7e72a16-2ddf-49c1-8d87-bb95b13e640f\",\"type\":\"LinearScale\"}},\"id\":\"4cb42eb5-512e-40fd-ab0f-6a2057f22a35\",\"subtype\":\"Figure\",\"type\":\"Plot\"},{\"attributes\":{\"label\":{\"value\":\"Small cell load = 0.5\"},\"renderers\":[{\"id\":\"2f0e8c3e-1f0e-40db-9a52-c9929d593379\",\"type\":\"GlyphRenderer\"}]},\"id\":\"48416a78-9f0b-4cd0-9f44-03e0e8c6e968\",\"type\":\"LegendItem\"},{\"attributes\":{\"source\":{\"id\":\"cd759d4e-a50b-4ed6-8a6f-7bfd5bfaec3f\",\"type\":\"ColumnDataSource\"}},\"id\":\"c02d23dc-217f-41a1-8b24-c6a931a78eb4\",\"type\":\"CDSView\"},{\"attributes\":{\"line_color\":{\"value\":\"navy\"},\"x\":{\"field\":\"x\"},\"y\":{\"field\":\"y\"}},\"id\":\"100df14d-bf61-4d0f-8aa8-7e1dda9e38e2\",\"type\":\"Line\"},{\"attributes\":{\"items\":[{\"id\":\"d7c9f15a-91bb-4160-b3ea-67cf1e33c1d7\",\"type\":\"LegendItem\"},{\"id\":\"a58199db-5a8b-4b40-a2e0-03cb7b8d6a7b\",\"type\":\"LegendItem\"},{\"id\":\"eff39af9-f026-4893-85ee-9fc32f857cfb\",\"type\":\"LegendItem\"},{\"id\":\"48416a78-9f0b-4cd0-9f44-03e0e8c6e968\",\"type\":\"LegendItem\"},{\"id\":\"65e29dcf-081f-45df-a2a1-5ef2f2c2abae\",\"type\":\"LegendItem\"}],\"label_text_color\":{\"value\":\"black\"},\"plot\":{\"id\":\"4cb42eb5-512e-40fd-ab0f-6a2057f22a35\",\"subtype\":\"Figure\",\"type\":\"Plot\"}},\"id\":\"a1af38c5-d6b5-4b93-925b-73ec43b245b3\",\"type\":\"Legend\"},{\"attributes\":{\"data_source\":{\"id\":\"e29aa802-d0a1-43cd-902a-cb6bfa5d34ef\",\"type\":\"ColumnDataSource\"},\"glyph\":{\"id\":\"5224e79c-6648-4285-a614-a3fb4089f8a5\",\"type\":\"Line\"},\"hover_glyph\":null,\"muted_glyph\":null,\"nonselection_glyph\":{\"id\":\"f7229c2c-1e57-4435-8da1-d18ce5a91053\",\"type\":\"Line\"},\"selection_glyph\":null,\"view\":{\"id\":\"5976f077-a7ef-4c48-91cf-1eb7a4bc1271\",\"type\":\"CDSView\"}},\"id\":\"25dce582-bc56-49e3-b246-b6ffeae0d100\",\"type\":\"GlyphRenderer\"},{\"attributes\":{\"callback\":null,\"column_names\":[\"y\",\"x\"],\"data\":{\"x\":[-10,-3.0588936890535687,-2.0588936890535687,-1.0588936890535685,0.0,1.0,2.0,3.0,7.0,9.0,10.0],\"y\":{\"__ndarray__\":\"E36pnzcV6D8nMQisHFrnP7dFmQ0yyeY/WFaalIJu5T/tEtVbA1vjP+NrzywJUOM/NlmjHqLR4T8xmSoYldTZPwDGM2jon7g/EfxvJTs2sj8VjErqBDSxPw==\",\"dtype\":\"float64\",\"shape\":[11]}}},\"id\":\"71f91176-a9a7-43c9-8899-0a497ec0a727\",\"type\":\"ColumnDataSource\"},{\"attributes\":{\"line_color\":{\"value\":\"navy\"},\"line_dash\":[15,2],\"x\":{\"field\":\"x\"},\"y\":{\"field\":\"y\"}},\"id\":\"14650f11-5ecb-49d3-be5e-2fa44ca744bb\",\"type\":\"Line\"},{\"attributes\":{\"data_source\":{\"id\":\"e863818e-ef22-48a5-84e0-ad07eacbb533\",\"type\":\"ColumnDataSource\"},\"glyph\":{\"id\":\"100df14d-bf61-4d0f-8aa8-7e1dda9e38e2\",\"type\":\"Line\"},\"hover_glyph\":null,\"muted_glyph\":null,\"nonselection_glyph\":{\"id\":\"5a26d3ad-0da5-45a5-bed3-1f602ed0f4d8\",\"type\":\"Line\"},\"selection_glyph\":null,\"view\":{\"id\":\"605cbe74-6bf6-48f6-803d-fb5bf933e99a\",\"type\":\"CDSView\"}},\"id\":\"4c667684-8df4-45db-940c-61c2a96e8685\",\"type\":\"GlyphRenderer\"},{\"attributes\":{\"source\":{\"id\":\"e863818e-ef22-48a5-84e0-ad07eacbb533\",\"type\":\"ColumnDataSource\"}},\"id\":\"605cbe74-6bf6-48f6-803d-fb5bf933e99a\",\"type\":\"CDSView\"},{\"attributes\":{\"callback\":null,\"column_names\":[\"y\",\"x\"],\"data\":{\"x\":[-10,-3.0588936890535687,-2.0,-1.0,0.0,1.0,2.0,3.0,7.0,9.0,10.0],\"y\":{\"__ndarray__\":\"jBU1mIbhxz9qh78ma9THP+Oqsu+K4Mc/5+PaUDHOxz/+8V61MuHHP8djBirj38c/4iNiSiTRxz/HYwYq49/HPzlAMEeP38c/hs5r7BLVxz9hjh6/t+nHPw==\",\"dtype\":\"float64\",\"shape\":[11]}}},\"id\":\"e863818e-ef22-48a5-84e0-ad07eacbb533\",\"type\":\"ColumnDataSource\"},{\"attributes\":{\"data_source\":{\"id\":\"eb7bfd73-a7bc-4e93-b04c-db51cf6f29a0\",\"type\":\"ColumnDataSource\"},\"glyph\":{\"id\":\"8bf36cc6-cda8-45cb-8738-2e120d625854\",\"type\":\"Line\"},\"hover_glyph\":null,\"muted_glyph\":null,\"nonselection_glyph\":{\"id\":\"e994601c-ced4-41d1-8d63-6796333c69a5\",\"type\":\"Line\"},\"selection_glyph\":null,\"view\":{\"id\":\"41b929cf-b485-4bf1-886d-613da0a05756\",\"type\":\"CDSView\"}},\"id\":\"2f0e8c3e-1f0e-40db-9a52-c9929d593379\",\"type\":\"GlyphRenderer\"},{\"attributes\":{},\"id\":\"2735918a-ade6-46ae-9d07-cf102b3e496a\",\"type\":\"SaveTool\"},{\"attributes\":{\"source\":{\"id\":\"48874a0d-2a2a-4e51-a8db-e87bbf75957c\",\"type\":\"ColumnDataSource\"}},\"id\":\"db34c176-80d1-4564-a13c-8b6aa8da6d4c\",\"type\":\"CDSView\"},{\"attributes\":{\"overlay\":{\"id\":\"7e9098b3-dbcf-4cfe-bc1b-06cfba047b61\",\"type\":\"BoxAnnotation\"}},\"id\":\"ac83207a-0af3-4c84-81b0-c07cd0dfbeee\",\"type\":\"BoxZoomTool\"},{\"attributes\":{\"line_color\":{\"value\":\"navy\"},\"line_dash\":[4,4],\"x\":{\"field\":\"x\"},\"y\":{\"field\":\"y\"}},\"id\":\"d10e665d-6434-47f9-8c3a-e74182338d79\",\"type\":\"Line\"},{\"attributes\":{},\"id\":\"03d6c343-e4e2-4fcb-84a3-d3dd050aff1f\",\"type\":\"LinearScale\"},{\"attributes\":{},\"id\":\"5844b15e-f2d9-4549-ada6-7e91cf10062d\",\"type\":\"BasicTickFormatter\"},{\"attributes\":{\"fill_alpha\":{\"value\":0.1},\"fill_color\":{\"value\":\"#1f77b4\"},\"line_alpha\":{\"value\":0.1},\"line_color\":{\"value\":\"#1f77b4\"},\"size\":{\"units\":\"screen\",\"value\":5},\"x\":{\"field\":\"x\"},\"y\":{\"field\":\"y\"}},\"id\":\"c2d03bc3-8263-4ba4-b667-46cdd91fbd9a\",\"type\":\"Circle\"},{\"attributes\":{\"data_source\":{\"id\":\"cd759d4e-a50b-4ed6-8a6f-7bfd5bfaec3f\",\"type\":\"ColumnDataSource\"},\"glyph\":{\"id\":\"bb5d675f-5e49-43d2-aa84-e9b7ad0c36ce\",\"type\":\"Circle\"},\"hover_glyph\":null,\"muted_glyph\":null,\"nonselection_glyph\":{\"id\":\"83fdb61d-cc26-4dea-b3a1-b43fff64631e\",\"type\":\"Circle\"},\"selection_glyph\":null,\"view\":{\"id\":\"c02d23dc-217f-41a1-8b24-c6a931a78eb4\",\"type\":\"CDSView\"}},\"id\":\"4df9eb9f-d3af-4ee5-9d65-e28e3f0c9af7\",\"type\":\"GlyphRenderer\"},{\"attributes\":{},\"id\":\"d7e72a16-2ddf-49c1-8d87-bb95b13e640f\",\"type\":\"LinearScale\"},{\"attributes\":{\"data_source\":{\"id\":\"1328b0bd-8761-45da-b4d3-522316157b10\",\"type\":\"ColumnDataSource\"},\"glyph\":{\"id\":\"14650f11-5ecb-49d3-be5e-2fa44ca744bb\",\"type\":\"Line\"},\"hover_glyph\":null,\"muted_glyph\":null,\"nonselection_glyph\":{\"id\":\"5470527f-3e80-4244-8053-4bf7ec8d3bfb\",\"type\":\"Line\"},\"selection_glyph\":null,\"view\":{\"id\":\"e9127e2d-3b3c-44e7-a32d-4318134566f2\",\"type\":\"CDSView\"}},\"id\":\"be9b48e1-ea75-4c6c-b760-7cbed24b3d95\",\"type\":\"GlyphRenderer\"},{\"attributes\":{},\"id\":\"870aab12-7cf4-4b98-a4f4-acab6e833c03\",\"type\":\"BasicTicker\"},{\"attributes\":{},\"id\":\"ed28aba1-a5c7-4c8a-90c0-928502597618\",\"type\":\"BasicTicker\"},{\"attributes\":{},\"id\":\"8dfdfc50-3684-481d-b9f5-af60418710d4\",\"type\":\"ResetTool\"},{\"attributes\":{\"bottom_units\":\"screen\",\"fill_alpha\":{\"value\":0.5},\"fill_color\":{\"value\":\"lightgrey\"},\"left_units\":\"screen\",\"level\":\"overlay\",\"line_alpha\":{\"value\":1.0},\"line_color\":{\"value\":\"black\"},\"line_dash\":[4,4],\"line_width\":{\"value\":2},\"plot\":null,\"render_mode\":\"css\",\"right_units\":\"screen\",\"top_units\":\"screen\"},\"id\":\"7e9098b3-dbcf-4cfe-bc1b-06cfba047b61\",\"type\":\"BoxAnnotation\"},{\"attributes\":{\"line_alpha\":{\"value\":0.1},\"line_color\":{\"value\":\"#1f77b4\"},\"line_dash\":[15,2],\"x\":{\"field\":\"x\"},\"y\":{\"field\":\"y\"}},\"id\":\"5470527f-3e80-4244-8053-4bf7ec8d3bfb\",\"type\":\"Line\"},{\"attributes\":{\"fill_color\":{\"value\":\"white\"},\"line_color\":{\"value\":\"navy\"},\"size\":{\"units\":\"screen\",\"value\":5},\"x\":{\"field\":\"x\"},\"y\":{\"field\":\"y\"}},\"id\":\"f4b24f6f-cf15-45ce-aa33-7c16321caf2a\",\"type\":\"Circle\"},{\"attributes\":{\"callback\":null,\"column_names\":[\"y\",\"x\"],\"data\":{\"x\":[-10,-3.473931188332412,-1.8889686876112561,-0.888968687611256,-0.014499569695115089,0.9855004303048849,1.9855004303048849,3.0018022426339854,6.999774561287003,9.00002817736235,10.00002817736235],\"y\":[0.8825799999999999,0.86703,0.8587100000000001,0.83352,0.79714,0.7219800000000001,0.60744,0.60059,0.14812,0.0979,0.08918]}},\"id\":\"eb7bfd73-a7bc-4e93-b04c-db51cf6f29a0\",\"type\":\"ColumnDataSource\"},{\"attributes\":{\"dimension\":1,\"grid_line_alpha\":{\"value\":0.1},\"grid_line_dash\":[2,2],\"plot\":{\"id\":\"4cb42eb5-512e-40fd-ab0f-6a2057f22a35\",\"subtype\":\"Figure\",\"type\":\"Plot\"},\"ticker\":{\"id\":\"ed28aba1-a5c7-4c8a-90c0-928502597618\",\"type\":\"BasicTicker\"}},\"id\":\"f856e40d-4a86-4d8e-b5e1-4c63d1b14b4d\",\"type\":\"Grid\"},{\"attributes\":{\"line_alpha\":{\"value\":0.1},\"line_color\":{\"value\":\"#1f77b4\"},\"line_dash\":[1,4],\"x\":{\"field\":\"x\"},\"y\":{\"field\":\"y\"}},\"id\":\"e994601c-ced4-41d1-8d63-6796333c69a5\",\"type\":\"Line\"},{\"attributes\":{\"line_color\":{\"value\":\"navy\"},\"line_dash\":[1,4],\"x\":{\"field\":\"x\"},\"y\":{\"field\":\"y\"}},\"id\":\"8bf36cc6-cda8-45cb-8738-2e120d625854\",\"type\":\"Line\"},{\"attributes\":{\"label\":{\"value\":\"Small cell load = 0.2\"},\"renderers\":[{\"id\":\"be9b48e1-ea75-4c6c-b760-7cbed24b3d95\",\"type\":\"GlyphRenderer\"}]},\"id\":\"a58199db-5a8b-4b40-a2e0-03cb7b8d6a7b\",\"type\":\"LegendItem\"},{\"attributes\":{\"callback\":null,\"column_names\":[\"y\",\"x\"],\"data\":{\"x\":[-10,-3.0588936890535687,-2.0588936890535687,-1.0588936890535685,0.02856915219677092,0.9855004303048849,2.007195501404204,2.996388746447621,6.999774561287003,8.999943643624247,10.00002817736235],\"y\":{\"__ndarray__\":\"+z+H+fIC6z+9y0V8J2bqPzVeukkMAuo/9ihcj8L16D9uL2mM1lHnP+krSDMWTeQ/lZ9U+3Q84z/MZ3ke3J3fP/eSxmgdVb0/9+l4zEBltD/kiLX4FACzPw==\",\"dtype\":\"float64\",\"shape\":[11]}}},\"id\":\"4f8f3df6-f1c0-4825-8e96-3f9eaeeb3f86\",\"type\":\"ColumnDataSource\"},{\"attributes\":{\"line_color\":{\"value\":\"red\"},\"x\":{\"field\":\"x\"},\"y\":{\"field\":\"y\"}},\"id\":\"5224e79c-6648-4285-a614-a3fb4089f8a5\",\"type\":\"Line\"},{\"attributes\":{},\"id\":\"0eeb2a8d-7750-48d6-ba01-507b83ac969d\",\"type\":\"WheelZoomTool\"},{\"attributes\":{\"callback\":null,\"column_names\":[\"y\",\"x\"],\"data\":{\"x\":[-10,-3.0588936890535687,-2.0588936890535687,-1.0588936890535685,0.02856915219677092,0.9855004303048849,2.007195501404204,2.996388746447621,6.999774561287003,8.999943643624247,10.00002817736235],\"y\":{\"__ndarray__\":\"+z+H+fIC6z+9y0V8J2bqPzVeukkMAuo/9ihcj8L16D9uL2mM1lHnP+krSDMWTeQ/lZ9U+3Q84z/MZ3ke3J3fP/eSxmgdVb0/9+l4zEBltD/kiLX4FACzPw==\",\"dtype\":\"float64\",\"shape\":[11]}}},\"id\":\"813754a4-5e63-4bb1-83d9-e277bc9fc6d0\",\"type\":\"ColumnDataSource\"},{\"attributes\":{\"active_drag\":\"auto\",\"active_inspect\":\"auto\",\"active_scroll\":\"auto\",\"active_tap\":\"auto\",\"tools\":[{\"id\":\"b88d0758-c0aa-421f-9ac7-45c65325ffa3\",\"type\":\"PanTool\"},{\"id\":\"0eeb2a8d-7750-48d6-ba01-507b83ac969d\",\"type\":\"WheelZoomTool\"},{\"id\":\"ac83207a-0af3-4c84-81b0-c07cd0dfbeee\",\"type\":\"BoxZoomTool\"},{\"id\":\"2735918a-ade6-46ae-9d07-cf102b3e496a\",\"type\":\"SaveTool\"},{\"id\":\"8dfdfc50-3684-481d-b9f5-af60418710d4\",\"type\":\"ResetTool\"},{\"id\":\"f501b3dd-52c1-40ee-a104-07b2e085e005\",\"type\":\"HelpTool\"}]},\"id\":\"2c49eb29-5b08-4e5c-98ac-9b6732a7cb78\",\"type\":\"Toolbar\"},{\"attributes\":{\"data_source\":{\"id\":\"71f91176-a9a7-43c9-8899-0a497ec0a727\",\"type\":\"ColumnDataSource\"},\"glyph\":{\"id\":\"469e4392-1dcf-4b9d-b366-309e7ee06177\",\"type\":\"Circle\"},\"hover_glyph\":null,\"muted_glyph\":null,\"nonselection_glyph\":{\"id\":\"d6a7f825-2f4b-4efc-8f4e-b62323a2b6e7\",\"type\":\"Circle\"},\"selection_glyph\":null,\"view\":{\"id\":\"5e133250-7a6a-4bf8-8740-adc8a671ce51\",\"type\":\"CDSView\"}},\"id\":\"7d1f53ef-0b63-4b84-b087-cf7be5ee3356\",\"type\":\"GlyphRenderer\"},{\"attributes\":{\"axis_label\":\"Mean response time\",\"axis_label_text_color\":{\"value\":\"black\"},\"axis_label_text_font_size\":{\"value\":\"12pt\"},\"formatter\":{\"id\":\"72bddb00-0716-4411-a79a-44d035c0d301\",\"type\":\"BasicTickFormatter\"},\"major_label_text_color\":{\"value\":\"black\"},\"major_label_text_font_size\":{\"value\":\"10pt\"},\"plot\":{\"id\":\"4cb42eb5-512e-40fd-ab0f-6a2057f22a35\",\"subtype\":\"Figure\",\"type\":\"Plot\"},\"ticker\":{\"id\":\"ed28aba1-a5c7-4c8a-90c0-928502597618\",\"type\":\"BasicTicker\"}},\"id\":\"b2dc4ab9-3e67-483f-a566-c7d4230de601\",\"type\":\"LinearAxis\"},{\"attributes\":{\"source\":{\"id\":\"e29aa802-d0a1-43cd-902a-cb6bfa5d34ef\",\"type\":\"ColumnDataSource\"}},\"id\":\"5976f077-a7ef-4c48-91cf-1eb7a4bc1271\",\"type\":\"CDSView\"},{\"attributes\":{\"label\":{\"value\":\"constraint\"},\"renderers\":[{\"id\":\"25dce582-bc56-49e3-b246-b6ffeae0d100\",\"type\":\"GlyphRenderer\"}]},\"id\":\"65e29dcf-081f-45df-a2a1-5ef2f2c2abae\",\"type\":\"LegendItem\"}],\"root_ids\":[\"4cb42eb5-512e-40fd-ab0f-6a2057f22a35\"]},\"title\":\"Bokeh Application\",\"version\":\"0.12.10\"}};\n",
       "    var render_items = [{\"docid\":\"bc4ac44a-009e-4d10-be70-40f6df463540\",\"elementid\":\"d08607be-8a22-4122-a4b0-975bc8257df4\",\"modelid\":\"4cb42eb5-512e-40fd-ab0f-6a2057f22a35\"}];\n",
       "\n",
       "    root.Bokeh.embed.embed_items(docs_json, render_items);\n",
       "  }\n",
       "\n",
       "  if (root.Bokeh !== undefined) {\n",
       "    embed_document(root);\n",
       "  } else {\n",
       "    var attempts = 0;\n",
       "    var timer = setInterval(function(root) {\n",
       "      if (root.Bokeh !== undefined) {\n",
       "        embed_document(root);\n",
       "        clearInterval(timer);\n",
       "      }\n",
       "      attempts++;\n",
       "      if (attempts > 100) {\n",
       "        console.log(\"Bokeh: ERROR: Unable to embed document because BokehJS library is missing\")\n",
       "        clearInterval(timer);\n",
       "      }\n",
       "    }, 10, root)\n",
       "  }\n",
       "})(window);"
      ],
      "application/vnd.bokehjs_exec.v0+json": ""
     },
     "metadata": {
      "application/vnd.bokehjs_exec.v0+json": {
       "id": "4cb42eb5-512e-40fd-ab0f-6a2057f22a35"
      }
     },
     "output_type": "display_data"
    }
   ],
   "source": [
    "p0 = figure(plot_width=600, plot_height=400)\n",
    "\n",
    "#source = ColumnDataSource(df.loc[0:27])\n",
    "\n",
    "p0.line(logscale(1), df[df.small_arrival==1].avg_resp_time, line_color='navy',legend='Small cell load = 0.05')\n",
    "p0.circle(logscale(1), df[df.small_arrival==1].avg_resp_time, color='white', line_color='navy',size=5)\n",
    "p0.line(logscale(4), df[df.small_arrival==4].avg_resp_time, line_color='navy',line_dash=\"15 2\",legend='Small cell load = 0.2')\n",
    "p0.circle(logscale(4), df[df.small_arrival==4].avg_resp_time, color='white', line_color='navy',size=5)\n",
    "\n",
    "p0.line(logscale(6), df[df.small_arrival==6].avg_resp_time, line_color='navy',line_dash=\"4 4\",legend='Small cell load = 0.32')\n",
    "p0.circle(logscale(6), df[df.small_arrival==6].avg_resp_time, color='white', line_color='navy',size=5)\n",
    "\n",
    "p0.line(logscale(9), df[df.small_arrival==9].avg_resp_time.tolist(), line_color='navy',line_dash=\"1 4\",legend='Small cell load = 0.5')\n",
    "p0.circle(logscale(9), df[df.small_arrival==9].avg_resp_time, color='white', line_color='navy',size=5)\n",
    "\n",
    "\n",
    "\n",
    "p0.line([-10, 0,1,2,10],0.6*np.ones(5),line_color='red',legend='constraint')\n",
    "\n",
    "p0.grid.grid_line_dash = [2,2]\n",
    "p0.grid.grid_line_alpha = 0.1\n",
    "\n",
    "p0.xaxis.axis_label = 'idle time in logscale (relative to avg. inter-arrival time)'\n",
    "p0.yaxis.axis_label = 'Mean response time'\n",
    "\n",
    "p0.xaxis.axis_label_text_color = 'black'\n",
    "p0.xaxis.major_label_text_color = 'black'\n",
    "p0.yaxis.axis_label_text_color = 'black'\n",
    "p0.yaxis.major_label_text_color = 'black'\n",
    "p0.legend.label_text_color = 'black'\n",
    "\n",
    "p0.legend.location  = 'top_right'\n",
    "p0.outline_line_color = 'black'\n",
    "\n",
    "p0.axis.axis_label_text_font_size = '12pt'\n",
    "p0.axis.major_label_text_font_size = '10pt'\n",
    "\n",
    "show(p0)"
   ]
  },
  {
   "cell_type": "code",
   "execution_count": 14,
   "metadata": {},
   "outputs": [
    {
     "data": {
      "text/html": [
       "\n",
       "<div class=\"bk-root\">\n",
       "    <div class=\"bk-plotdiv\" id=\"c56d08b6-a92c-4839-95dc-e5eaaaa29a6a\"></div>\n",
       "</div>"
      ]
     },
     "metadata": {},
     "output_type": "display_data"
    },
    {
     "data": {
      "application/javascript": [
       "(function(root) {\n",
       "  function embed_document(root) {\n",
       "    var docs_json = {\"d1dfb85f-3b2a-49e0-8134-436e89852d4d\":{\"roots\":{\"references\":[{\"attributes\":{\"data_source\":{\"id\":\"7c39573b-5381-42d2-aa28-574630c8d68b\",\"type\":\"ColumnDataSource\"},\"glyph\":{\"id\":\"3214503f-5340-4244-91fd-b85a592548a4\",\"type\":\"Line\"},\"hover_glyph\":null,\"muted_glyph\":null,\"nonselection_glyph\":{\"id\":\"3f47cb0d-cb70-4bfa-afd9-28af03c1f98a\",\"type\":\"Line\"},\"selection_glyph\":null,\"view\":{\"id\":\"05599874-3a7a-4b28-9231-b8011e4eaeba\",\"type\":\"CDSView\"}},\"id\":\"3c542ac6-7ab8-4d1d-a4d7-4447e6de5950\",\"type\":\"GlyphRenderer\"},{\"attributes\":{\"line_alpha\":{\"value\":0.1},\"line_color\":{\"value\":\"#1f77b4\"},\"x\":{\"field\":\"x\"},\"y\":{\"field\":\"y\"}},\"id\":\"ac5196d0-ea0b-439e-b769-36f27d03e29c\",\"type\":\"Line\"},{\"attributes\":{\"callback\":null,\"column_names\":[\"y\",\"x\"],\"data\":{\"x\":[-10,-3.0588936890535687,-2.0,-1.0,0.0,1.0,2.0,3.0,7.0,9.0,10.0],\"y\":{\"__ndarray__\":\"9ihcj8J1i0BmZmZmZnSLQLgehetRdItACtejcD10i0CamZmZmXWLQOF6FK5HdYtA7FG4HoVzi0AK16NwPXaLQKRwPQrXc4tAH4XrUbhyi0CkcD0K13WLQA==\",\"dtype\":\"float64\",\"shape\":[11]}}},\"id\":\"fbd40017-743a-48fc-abcb-0ed3d28b2361\",\"type\":\"ColumnDataSource\"},{\"attributes\":{\"label\":{\"value\":\"Small cell load = 0.5\"},\"renderers\":[{\"id\":\"3c542ac6-7ab8-4d1d-a4d7-4447e6de5950\",\"type\":\"GlyphRenderer\"}]},\"id\":\"33695795-3645-4eb8-afc7-0e9844046bd5\",\"type\":\"LegendItem\"},{\"attributes\":{\"fill_color\":{\"value\":\"white\"},\"line_color\":{\"value\":\"navy\"},\"size\":{\"units\":\"screen\",\"value\":5},\"x\":{\"field\":\"x\"},\"y\":{\"field\":\"y\"}},\"id\":\"a2ce2b11-1a75-478f-b332-ed74d75f3513\",\"type\":\"Circle\"},{\"attributes\":{\"callback\":null},\"id\":\"79357419-dde8-42fc-82e7-904f650bc082\",\"type\":\"DataRange1d\"},{\"attributes\":{\"line_alpha\":{\"value\":0.1},\"line_color\":{\"value\":\"#1f77b4\"},\"line_dash\":[15,2],\"x\":{\"field\":\"x\"},\"y\":{\"field\":\"y\"}},\"id\":\"f4a9183a-7b63-4f50-b86b-ef225581ea16\",\"type\":\"Line\"},{\"attributes\":{\"label\":{\"value\":\"Small cell load = 0.2\"},\"renderers\":[{\"id\":\"9bbfbcb5-7314-4a20-ba3e-7fd0b49372f1\",\"type\":\"GlyphRenderer\"}]},\"id\":\"d720e156-235f-4593-9950-259e416f64cd\",\"type\":\"LegendItem\"},{\"attributes\":{\"data_source\":{\"id\":\"ca166d77-c9e1-4976-aaac-c7ac039b8f73\",\"type\":\"ColumnDataSource\"},\"glyph\":{\"id\":\"b7a89677-1a43-4bec-bb6f-bc34839f0f93\",\"type\":\"Circle\"},\"hover_glyph\":null,\"muted_glyph\":null,\"nonselection_glyph\":{\"id\":\"26fcbb8e-03df-4652-aa0b-03c8322e8c17\",\"type\":\"Circle\"},\"selection_glyph\":null,\"view\":{\"id\":\"327f7719-736a-4b26-9530-a5792489fcd3\",\"type\":\"CDSView\"}},\"id\":\"96e754a2-1c7c-484c-804b-e60a72e49022\",\"type\":\"GlyphRenderer\"},{\"attributes\":{\"line_color\":{\"value\":\"navy\"},\"line_dash\":[15,2],\"x\":{\"field\":\"x\"},\"y\":{\"field\":\"y\"}},\"id\":\"3dc0c828-0e52-4919-bc52-69c4778de26a\",\"type\":\"Line\"},{\"attributes\":{\"line_color\":{\"value\":\"navy\"},\"x\":{\"field\":\"x\"},\"y\":{\"field\":\"y\"}},\"id\":\"f3c31b5c-5470-46c1-b743-8183624ac4ab\",\"type\":\"Line\"},{\"attributes\":{\"axis_label\":\"idle time in logscale (relative to avg. inter-arrival time)\",\"axis_label_text_color\":{\"value\":\"black\"},\"axis_label_text_font_size\":{\"value\":\"12pt\"},\"formatter\":{\"id\":\"6b8e9240-07a7-45ef-abe7-f7a28f1f8849\",\"type\":\"BasicTickFormatter\"},\"major_label_text_color\":{\"value\":\"black\"},\"major_label_text_font_size\":{\"value\":\"10pt\"},\"plot\":{\"id\":\"b589d498-56dc-4019-9137-c1af63bf66b4\",\"subtype\":\"Figure\",\"type\":\"Plot\"},\"ticker\":{\"id\":\"2d13e191-cbb9-4887-aba8-4d73e2439113\",\"type\":\"BasicTicker\"}},\"id\":\"9b4bfdc8-c3a6-4dac-b6eb-61808f8f9a56\",\"type\":\"LinearAxis\"},{\"attributes\":{\"source\":{\"id\":\"fbd40017-743a-48fc-abcb-0ed3d28b2361\",\"type\":\"ColumnDataSource\"}},\"id\":\"bbf3f43a-3922-4986-91bf-ddb44cb57ea6\",\"type\":\"CDSView\"},{\"attributes\":{\"fill_color\":{\"value\":\"white\"},\"line_color\":{\"value\":\"navy\"},\"size\":{\"units\":\"screen\",\"value\":5},\"x\":{\"field\":\"x\"},\"y\":{\"field\":\"y\"}},\"id\":\"71339291-e61b-463c-a914-6b7f4cb21dcb\",\"type\":\"Circle\"},{\"attributes\":{\"source\":{\"id\":\"34d6a7e5-2801-4658-adbd-9c28aa95e05b\",\"type\":\"ColumnDataSource\"}},\"id\":\"3a1c67f2-f0ba-45ed-a7f2-fea9c4834d9e\",\"type\":\"CDSView\"},{\"attributes\":{\"data_source\":{\"id\":\"fbd40017-743a-48fc-abcb-0ed3d28b2361\",\"type\":\"ColumnDataSource\"},\"glyph\":{\"id\":\"a2ce2b11-1a75-478f-b332-ed74d75f3513\",\"type\":\"Circle\"},\"hover_glyph\":null,\"muted_glyph\":null,\"nonselection_glyph\":{\"id\":\"b507ea62-0c66-4d51-8666-759858613a9d\",\"type\":\"Circle\"},\"selection_glyph\":null,\"view\":{\"id\":\"bbf3f43a-3922-4986-91bf-ddb44cb57ea6\",\"type\":\"CDSView\"}},\"id\":\"f0ba213b-f80d-4351-9140-8aaf0d93f921\",\"type\":\"GlyphRenderer\"},{\"attributes\":{\"data_source\":{\"id\":\"f0b318d8-344d-40e7-9383-878246a6121c\",\"type\":\"ColumnDataSource\"},\"glyph\":{\"id\":\"c4d85047-6006-4f0f-91f6-2de11ee61d04\",\"type\":\"Line\"},\"hover_glyph\":null,\"muted_glyph\":null,\"nonselection_glyph\":{\"id\":\"93327e30-1b84-4f9f-a333-4a72a2287c4c\",\"type\":\"Line\"},\"selection_glyph\":null,\"view\":{\"id\":\"d7354d54-34d5-487d-80c7-9f76cb12cb40\",\"type\":\"CDSView\"}},\"id\":\"71664c18-a581-46bd-b45f-6a219f2f383c\",\"type\":\"GlyphRenderer\"},{\"attributes\":{\"source\":{\"id\":\"7c39573b-5381-42d2-aa28-574630c8d68b\",\"type\":\"ColumnDataSource\"}},\"id\":\"05599874-3a7a-4b28-9231-b8011e4eaeba\",\"type\":\"CDSView\"},{\"attributes\":{},\"id\":\"2d13e191-cbb9-4887-aba8-4d73e2439113\",\"type\":\"BasicTicker\"},{\"attributes\":{\"callback\":null,\"column_names\":[\"y\",\"x\"],\"data\":{\"x\":[-10,-3.473931188332412,-1.8889686876112561,-0.888968687611256,-0.014499569695115089,0.9855004303048849,1.9855004303048849,3.0018022426339854,6.999774561287003,9.00002817736235,10.00002817736235],\"y\":{\"__ndarray__\":\"uB6F61FtlUAfhetRuGmVQClcj8L1ZpVAj8L1KFxhlUBmZmZmZlaVQArXo3A9QJVAcT0K16MalUBcj8L1KEqRQDMzMzMz7ZBAAAAAAADkkEA9CtejcOOQQA==\",\"dtype\":\"float64\",\"shape\":[11]}}},\"id\":\"7c39573b-5381-42d2-aa28-574630c8d68b\",\"type\":\"ColumnDataSource\"},{\"attributes\":{\"active_drag\":\"auto\",\"active_inspect\":\"auto\",\"active_scroll\":\"auto\",\"active_tap\":\"auto\",\"tools\":[{\"id\":\"1e957633-15ec-4def-a050-c4f2bcaface7\",\"type\":\"PanTool\"},{\"id\":\"31dae976-603c-4d9c-952c-641c0424ad79\",\"type\":\"WheelZoomTool\"},{\"id\":\"97e36cce-4ee3-4830-a67c-c84a41154e9f\",\"type\":\"BoxZoomTool\"},{\"id\":\"44d1d5d9-e9ac-4fec-b812-f27afa577939\",\"type\":\"SaveTool\"},{\"id\":\"f144d6f0-1b04-40d2-9ef3-37c23a81cb9b\",\"type\":\"ResetTool\"},{\"id\":\"28e2b470-5d23-4b08-bc58-dc9ea29bb606\",\"type\":\"HelpTool\"}]},\"id\":\"efebe7bd-3201-4fac-b0bf-9a0dddba6233\",\"type\":\"Toolbar\"},{\"attributes\":{},\"id\":\"1e957633-15ec-4def-a050-c4f2bcaface7\",\"type\":\"PanTool\"},{\"attributes\":{\"callback\":null,\"column_names\":[\"y\",\"x\"],\"data\":{\"x\":[-10,-3.0588936890535687,-2.0588936890535687,-1.0588936890535685,0.02856915219677092,0.9855004303048849,2.007195501404204,2.996388746447621,6.999774561287003,8.999943643624247,10.00002817736235],\"y\":{\"__ndarray__\":\"hetRuB4ElUCamZmZmf6UQHsUrkfh+JRAKVyPwvXvlED2KFyPwu+UQArXo3A9zpRAXI/C9Sh4kUBI4XoUru2QQAAAAAAApZBAw/UoXI+ekECkcD0K152QQA==\",\"dtype\":\"float64\",\"shape\":[11]}}},\"id\":\"f0b318d8-344d-40e7-9383-878246a6121c\",\"type\":\"ColumnDataSource\"},{\"attributes\":{\"data_source\":{\"id\":\"3bb2240a-f511-4652-acde-be910332a873\",\"type\":\"ColumnDataSource\"},\"glyph\":{\"id\":\"f3c31b5c-5470-46c1-b743-8183624ac4ab\",\"type\":\"Line\"},\"hover_glyph\":null,\"muted_glyph\":null,\"nonselection_glyph\":{\"id\":\"ac5196d0-ea0b-439e-b769-36f27d03e29c\",\"type\":\"Line\"},\"selection_glyph\":null,\"view\":{\"id\":\"ab6204ad-07d3-4602-9e68-b87403112d4d\",\"type\":\"CDSView\"}},\"id\":\"63df582a-bc7a-4aa8-8ac7-38395c261f83\",\"type\":\"GlyphRenderer\"},{\"attributes\":{\"fill_alpha\":{\"value\":0.1},\"fill_color\":{\"value\":\"#1f77b4\"},\"line_alpha\":{\"value\":0.1},\"line_color\":{\"value\":\"#1f77b4\"},\"size\":{\"units\":\"screen\",\"value\":5},\"x\":{\"field\":\"x\"},\"y\":{\"field\":\"y\"}},\"id\":\"26fcbb8e-03df-4652-aa0b-03c8322e8c17\",\"type\":\"Circle\"},{\"attributes\":{\"plot\":null,\"text\":\"\"},\"id\":\"b3b5bd83-c69b-4ea0-a850-44048c28b395\",\"type\":\"Title\"},{\"attributes\":{\"source\":{\"id\":\"ca166d77-c9e1-4976-aaac-c7ac039b8f73\",\"type\":\"ColumnDataSource\"}},\"id\":\"327f7719-736a-4b26-9530-a5792489fcd3\",\"type\":\"CDSView\"},{\"attributes\":{\"callback\":null,\"column_names\":[\"y\",\"x\"],\"data\":{\"x\":[-10,-3.0588936890535687,-2.0,-1.0,0.0,1.0,2.0,3.0,7.0,9.0,10.0],\"y\":{\"__ndarray__\":\"9ihcj8J1i0BmZmZmZnSLQLgehetRdItACtejcD10i0CamZmZmXWLQOF6FK5HdYtA7FG4HoVzi0AK16NwPXaLQKRwPQrXc4tAH4XrUbhyi0CkcD0K13WLQA==\",\"dtype\":\"float64\",\"shape\":[11]}}},\"id\":\"3bb2240a-f511-4652-acde-be910332a873\",\"type\":\"ColumnDataSource\"},{\"attributes\":{\"callback\":null,\"column_names\":[\"y\",\"x\"],\"data\":{\"x\":[-10,-3.0588936890535687,-2.0588936890535687,-1.0588936890535685,0.0,1.0,2.0,3.0,7.0,9.0,10.0],\"y\":{\"__ndarray__\":\"CtejcD0FlEA9CtejcC2UQD0K16NwJJRArkfhehQjlEApXI/C9f6TQOF6FK5Hi5FAexSuR+GxkEAfhetRuJyQQHE9CtejcJBAUrgehetskEAK16NwPW2QQA==\",\"dtype\":\"float64\",\"shape\":[11]}}},\"id\":\"ca166d77-c9e1-4976-aaac-c7ac039b8f73\",\"type\":\"ColumnDataSource\"},{\"attributes\":{},\"id\":\"f55b41b5-1281-45b3-b3d2-eea62bf7859a\",\"type\":\"BasicTicker\"},{\"attributes\":{\"fill_color\":{\"value\":\"white\"},\"line_color\":{\"value\":\"navy\"},\"size\":{\"units\":\"screen\",\"value\":5},\"x\":{\"field\":\"x\"},\"y\":{\"field\":\"y\"}},\"id\":\"2bb6d4d0-1fa5-488c-9b4d-0749d7db20f3\",\"type\":\"Circle\"},{\"attributes\":{\"data_source\":{\"id\":\"4df0120b-6ca0-4270-808e-446870cf4a38\",\"type\":\"ColumnDataSource\"},\"glyph\":{\"id\":\"3dc0c828-0e52-4919-bc52-69c4778de26a\",\"type\":\"Line\"},\"hover_glyph\":null,\"muted_glyph\":null,\"nonselection_glyph\":{\"id\":\"f4a9183a-7b63-4f50-b86b-ef225581ea16\",\"type\":\"Line\"},\"selection_glyph\":null,\"view\":{\"id\":\"0cea6df6-6182-47ca-8739-d2c189e3151d\",\"type\":\"CDSView\"}},\"id\":\"9bbfbcb5-7314-4a20-ba3e-7fd0b49372f1\",\"type\":\"GlyphRenderer\"},{\"attributes\":{\"fill_alpha\":{\"value\":0.1},\"fill_color\":{\"value\":\"#1f77b4\"},\"line_alpha\":{\"value\":0.1},\"line_color\":{\"value\":\"#1f77b4\"},\"size\":{\"units\":\"screen\",\"value\":5},\"x\":{\"field\":\"x\"},\"y\":{\"field\":\"y\"}},\"id\":\"43085cc8-2e47-4d27-8231-932ceaa7b0ca\",\"type\":\"Circle\"},{\"attributes\":{\"line_alpha\":{\"value\":0.1},\"line_color\":{\"value\":\"#1f77b4\"},\"line_dash\":[1,4],\"x\":{\"field\":\"x\"},\"y\":{\"field\":\"y\"}},\"id\":\"3f47cb0d-cb70-4bfa-afd9-28af03c1f98a\",\"type\":\"Line\"},{\"attributes\":{\"callback\":null,\"column_names\":[\"y\",\"x\"],\"data\":{\"x\":[-10,-3.473931188332412,-1.8889686876112561,-0.888968687611256,-0.014499569695115089,0.9855004303048849,1.9855004303048849,3.0018022426339854,6.999774561287003,9.00002817736235,10.00002817736235],\"y\":{\"__ndarray__\":\"uB6F61FtlUAfhetRuGmVQClcj8L1ZpVAj8L1KFxhlUBmZmZmZlaVQArXo3A9QJVAcT0K16MalUBcj8L1KEqRQDMzMzMz7ZBAAAAAAADkkEA9CtejcOOQQA==\",\"dtype\":\"float64\",\"shape\":[11]}}},\"id\":\"a8212acc-fbd1-4555-9b18-3cc48865cca0\",\"type\":\"ColumnDataSource\"},{\"attributes\":{\"data_source\":{\"id\":\"34d6a7e5-2801-4658-adbd-9c28aa95e05b\",\"type\":\"ColumnDataSource\"},\"glyph\":{\"id\":\"71339291-e61b-463c-a914-6b7f4cb21dcb\",\"type\":\"Circle\"},\"hover_glyph\":null,\"muted_glyph\":null,\"nonselection_glyph\":{\"id\":\"4671270d-f837-49fe-abd6-68b1f8ea02a6\",\"type\":\"Circle\"},\"selection_glyph\":null,\"view\":{\"id\":\"3a1c67f2-f0ba-45ed-a7f2-fea9c4834d9e\",\"type\":\"CDSView\"}},\"id\":\"61ef9b1a-45aa-4e24-bc58-6d4e81575d63\",\"type\":\"GlyphRenderer\"},{\"attributes\":{\"below\":[{\"id\":\"9b4bfdc8-c3a6-4dac-b6eb-61808f8f9a56\",\"type\":\"LinearAxis\"}],\"left\":[{\"id\":\"d8be17fa-c71c-4b84-830f-2c235978b547\",\"type\":\"LinearAxis\"}],\"outline_line_color\":{\"value\":\"black\"},\"plot_height\":400,\"renderers\":[{\"id\":\"9b4bfdc8-c3a6-4dac-b6eb-61808f8f9a56\",\"type\":\"LinearAxis\"},{\"id\":\"8a842dde-dee7-4374-b79c-cb18593c03a8\",\"type\":\"Grid\"},{\"id\":\"d8be17fa-c71c-4b84-830f-2c235978b547\",\"type\":\"LinearAxis\"},{\"id\":\"3e84545e-3b75-4a51-a6e4-a8b77c07c328\",\"type\":\"Grid\"},{\"id\":\"e1362ddc-737b-4ba3-81c4-b8058cc2797c\",\"type\":\"BoxAnnotation\"},{\"id\":\"42799519-837b-4a71-bf6d-ed9f4e13faf5\",\"type\":\"Legend\"},{\"id\":\"63df582a-bc7a-4aa8-8ac7-38395c261f83\",\"type\":\"GlyphRenderer\"},{\"id\":\"f0ba213b-f80d-4351-9140-8aaf0d93f921\",\"type\":\"GlyphRenderer\"},{\"id\":\"9bbfbcb5-7314-4a20-ba3e-7fd0b49372f1\",\"type\":\"GlyphRenderer\"},{\"id\":\"96e754a2-1c7c-484c-804b-e60a72e49022\",\"type\":\"GlyphRenderer\"},{\"id\":\"71664c18-a581-46bd-b45f-6a219f2f383c\",\"type\":\"GlyphRenderer\"},{\"id\":\"61ef9b1a-45aa-4e24-bc58-6d4e81575d63\",\"type\":\"GlyphRenderer\"},{\"id\":\"3c542ac6-7ab8-4d1d-a4d7-4447e6de5950\",\"type\":\"GlyphRenderer\"},{\"id\":\"b4cc78d1-85e8-4917-9bd0-6011ef257ee1\",\"type\":\"GlyphRenderer\"}],\"title\":{\"id\":\"b3b5bd83-c69b-4ea0-a850-44048c28b395\",\"type\":\"Title\"},\"toolbar\":{\"id\":\"efebe7bd-3201-4fac-b0bf-9a0dddba6233\",\"type\":\"Toolbar\"},\"x_range\":{\"id\":\"79357419-dde8-42fc-82e7-904f650bc082\",\"type\":\"DataRange1d\"},\"x_scale\":{\"id\":\"b7d87a38-226a-40f6-8cc1-479e2dd5f2b0\",\"type\":\"LinearScale\"},\"y_range\":{\"id\":\"c1398a42-757c-4a33-83a7-21af39666215\",\"type\":\"DataRange1d\"},\"y_scale\":{\"id\":\"b2a12da4-4db6-4dc2-912c-b0325fbd1dca\",\"type\":\"LinearScale\"}},\"id\":\"b589d498-56dc-4019-9137-c1af63bf66b4\",\"subtype\":\"Figure\",\"type\":\"Plot\"},{\"attributes\":{\"fill_alpha\":{\"value\":0.1},\"fill_color\":{\"value\":\"#1f77b4\"},\"line_alpha\":{\"value\":0.1},\"line_color\":{\"value\":\"#1f77b4\"},\"size\":{\"units\":\"screen\",\"value\":5},\"x\":{\"field\":\"x\"},\"y\":{\"field\":\"y\"}},\"id\":\"b507ea62-0c66-4d51-8666-759858613a9d\",\"type\":\"Circle\"},{\"attributes\":{\"fill_color\":{\"value\":\"white\"},\"line_color\":{\"value\":\"navy\"},\"size\":{\"units\":\"screen\",\"value\":5},\"x\":{\"field\":\"x\"},\"y\":{\"field\":\"y\"}},\"id\":\"b7a89677-1a43-4bec-bb6f-bc34839f0f93\",\"type\":\"Circle\"},{\"attributes\":{},\"id\":\"31dae976-603c-4d9c-952c-641c0424ad79\",\"type\":\"WheelZoomTool\"},{\"attributes\":{\"callback\":null,\"column_names\":[\"y\",\"x\"],\"data\":{\"x\":[-10,-3.0588936890535687,-2.0588936890535687,-1.0588936890535685,0.02856915219677092,0.9855004303048849,2.007195501404204,2.996388746447621,6.999774561287003,8.999943643624247,10.00002817736235],\"y\":{\"__ndarray__\":\"hetRuB4ElUCamZmZmf6UQHsUrkfh+JRAKVyPwvXvlED2KFyPwu+UQArXo3A9zpRAXI/C9Sh4kUBI4XoUru2QQAAAAAAApZBAw/UoXI+ekECkcD0K152QQA==\",\"dtype\":\"float64\",\"shape\":[11]}}},\"id\":\"34d6a7e5-2801-4658-adbd-9c28aa95e05b\",\"type\":\"ColumnDataSource\"},{\"attributes\":{\"source\":{\"id\":\"4df0120b-6ca0-4270-808e-446870cf4a38\",\"type\":\"ColumnDataSource\"}},\"id\":\"0cea6df6-6182-47ca-8739-d2c189e3151d\",\"type\":\"CDSView\"},{\"attributes\":{\"callback\":null,\"column_names\":[\"y\",\"x\"],\"data\":{\"x\":[-10,-3.0588936890535687,-2.0588936890535687,-1.0588936890535685,0.0,1.0,2.0,3.0,7.0,9.0,10.0],\"y\":{\"__ndarray__\":\"CtejcD0FlEA9CtejcC2UQD0K16NwJJRArkfhehQjlEApXI/C9f6TQOF6FK5Hi5FAexSuR+GxkEAfhetRuJyQQHE9CtejcJBAUrgehetskEAK16NwPW2QQA==\",\"dtype\":\"float64\",\"shape\":[11]}}},\"id\":\"4df0120b-6ca0-4270-808e-446870cf4a38\",\"type\":\"ColumnDataSource\"},{\"attributes\":{},\"id\":\"b7d87a38-226a-40f6-8cc1-479e2dd5f2b0\",\"type\":\"LinearScale\"},{\"attributes\":{\"line_color\":{\"value\":\"navy\"},\"line_dash\":[4,4],\"x\":{\"field\":\"x\"},\"y\":{\"field\":\"y\"}},\"id\":\"c4d85047-6006-4f0f-91f6-2de11ee61d04\",\"type\":\"Line\"},{\"attributes\":{\"axis_label\":\"Mean power\",\"axis_label_text_color\":{\"value\":\"black\"},\"axis_label_text_font_size\":{\"value\":\"12pt\"},\"formatter\":{\"id\":\"e778fc5d-1882-4f97-990c-b35f1ad7fcfb\",\"type\":\"BasicTickFormatter\"},\"major_label_text_color\":{\"value\":\"black\"},\"major_label_text_font_size\":{\"value\":\"10pt\"},\"plot\":{\"id\":\"b589d498-56dc-4019-9137-c1af63bf66b4\",\"subtype\":\"Figure\",\"type\":\"Plot\"},\"ticker\":{\"id\":\"f55b41b5-1281-45b3-b3d2-eea62bf7859a\",\"type\":\"BasicTicker\"}},\"id\":\"d8be17fa-c71c-4b84-830f-2c235978b547\",\"type\":\"LinearAxis\"},{\"attributes\":{\"dimension\":1,\"grid_line_alpha\":{\"value\":0.1},\"grid_line_dash\":[2,2],\"plot\":{\"id\":\"b589d498-56dc-4019-9137-c1af63bf66b4\",\"subtype\":\"Figure\",\"type\":\"Plot\"},\"ticker\":{\"id\":\"f55b41b5-1281-45b3-b3d2-eea62bf7859a\",\"type\":\"BasicTicker\"}},\"id\":\"3e84545e-3b75-4a51-a6e4-a8b77c07c328\",\"type\":\"Grid\"},{\"attributes\":{\"source\":{\"id\":\"f0b318d8-344d-40e7-9383-878246a6121c\",\"type\":\"ColumnDataSource\"}},\"id\":\"d7354d54-34d5-487d-80c7-9f76cb12cb40\",\"type\":\"CDSView\"},{\"attributes\":{\"source\":{\"id\":\"3bb2240a-f511-4652-acde-be910332a873\",\"type\":\"ColumnDataSource\"}},\"id\":\"ab6204ad-07d3-4602-9e68-b87403112d4d\",\"type\":\"CDSView\"},{\"attributes\":{\"grid_line_alpha\":{\"value\":0.1},\"grid_line_dash\":[2,2],\"plot\":{\"id\":\"b589d498-56dc-4019-9137-c1af63bf66b4\",\"subtype\":\"Figure\",\"type\":\"Plot\"},\"ticker\":{\"id\":\"2d13e191-cbb9-4887-aba8-4d73e2439113\",\"type\":\"BasicTicker\"}},\"id\":\"8a842dde-dee7-4374-b79c-cb18593c03a8\",\"type\":\"Grid\"},{\"attributes\":{\"label\":{\"value\":\"Small cell load = 0.32\"},\"renderers\":[{\"id\":\"71664c18-a581-46bd-b45f-6a219f2f383c\",\"type\":\"GlyphRenderer\"}]},\"id\":\"925eb407-1663-48a8-8306-a7ca76958b08\",\"type\":\"LegendItem\"},{\"attributes\":{\"callback\":null},\"id\":\"c1398a42-757c-4a33-83a7-21af39666215\",\"type\":\"DataRange1d\"},{\"attributes\":{\"overlay\":{\"id\":\"e1362ddc-737b-4ba3-81c4-b8058cc2797c\",\"type\":\"BoxAnnotation\"}},\"id\":\"97e36cce-4ee3-4830-a67c-c84a41154e9f\",\"type\":\"BoxZoomTool\"},{\"attributes\":{\"bottom_units\":\"screen\",\"fill_alpha\":{\"value\":0.5},\"fill_color\":{\"value\":\"lightgrey\"},\"left_units\":\"screen\",\"level\":\"overlay\",\"line_alpha\":{\"value\":1.0},\"line_color\":{\"value\":\"black\"},\"line_dash\":[4,4],\"line_width\":{\"value\":2},\"plot\":null,\"render_mode\":\"css\",\"right_units\":\"screen\",\"top_units\":\"screen\"},\"id\":\"e1362ddc-737b-4ba3-81c4-b8058cc2797c\",\"type\":\"BoxAnnotation\"},{\"attributes\":{},\"id\":\"28e2b470-5d23-4b08-bc58-dc9ea29bb606\",\"type\":\"HelpTool\"},{\"attributes\":{},\"id\":\"e778fc5d-1882-4f97-990c-b35f1ad7fcfb\",\"type\":\"BasicTickFormatter\"},{\"attributes\":{},\"id\":\"f144d6f0-1b04-40d2-9ef3-37c23a81cb9b\",\"type\":\"ResetTool\"},{\"attributes\":{\"source\":{\"id\":\"a8212acc-fbd1-4555-9b18-3cc48865cca0\",\"type\":\"ColumnDataSource\"}},\"id\":\"7fc87e44-dff1-43a8-bb43-6e2706c4b050\",\"type\":\"CDSView\"},{\"attributes\":{\"items\":[{\"id\":\"4a1537bb-996f-443b-8f17-26f947249e23\",\"type\":\"LegendItem\"},{\"id\":\"d720e156-235f-4593-9950-259e416f64cd\",\"type\":\"LegendItem\"},{\"id\":\"925eb407-1663-48a8-8306-a7ca76958b08\",\"type\":\"LegendItem\"},{\"id\":\"33695795-3645-4eb8-afc7-0e9844046bd5\",\"type\":\"LegendItem\"}],\"label_text_color\":{\"value\":\"black\"},\"plot\":{\"id\":\"b589d498-56dc-4019-9137-c1af63bf66b4\",\"subtype\":\"Figure\",\"type\":\"Plot\"}},\"id\":\"42799519-837b-4a71-bf6d-ed9f4e13faf5\",\"type\":\"Legend\"},{\"attributes\":{\"line_color\":{\"value\":\"navy\"},\"line_dash\":[1,4],\"x\":{\"field\":\"x\"},\"y\":{\"field\":\"y\"}},\"id\":\"3214503f-5340-4244-91fd-b85a592548a4\",\"type\":\"Line\"},{\"attributes\":{},\"id\":\"6b8e9240-07a7-45ef-abe7-f7a28f1f8849\",\"type\":\"BasicTickFormatter\"},{\"attributes\":{},\"id\":\"b2a12da4-4db6-4dc2-912c-b0325fbd1dca\",\"type\":\"LinearScale\"},{\"attributes\":{\"line_alpha\":{\"value\":0.1},\"line_color\":{\"value\":\"#1f77b4\"},\"line_dash\":[4,4],\"x\":{\"field\":\"x\"},\"y\":{\"field\":\"y\"}},\"id\":\"93327e30-1b84-4f9f-a333-4a72a2287c4c\",\"type\":\"Line\"},{\"attributes\":{\"fill_alpha\":{\"value\":0.1},\"fill_color\":{\"value\":\"#1f77b4\"},\"line_alpha\":{\"value\":0.1},\"line_color\":{\"value\":\"#1f77b4\"},\"size\":{\"units\":\"screen\",\"value\":5},\"x\":{\"field\":\"x\"},\"y\":{\"field\":\"y\"}},\"id\":\"4671270d-f837-49fe-abd6-68b1f8ea02a6\",\"type\":\"Circle\"},{\"attributes\":{},\"id\":\"44d1d5d9-e9ac-4fec-b812-f27afa577939\",\"type\":\"SaveTool\"},{\"attributes\":{\"data_source\":{\"id\":\"a8212acc-fbd1-4555-9b18-3cc48865cca0\",\"type\":\"ColumnDataSource\"},\"glyph\":{\"id\":\"2bb6d4d0-1fa5-488c-9b4d-0749d7db20f3\",\"type\":\"Circle\"},\"hover_glyph\":null,\"muted_glyph\":null,\"nonselection_glyph\":{\"id\":\"43085cc8-2e47-4d27-8231-932ceaa7b0ca\",\"type\":\"Circle\"},\"selection_glyph\":null,\"view\":{\"id\":\"7fc87e44-dff1-43a8-bb43-6e2706c4b050\",\"type\":\"CDSView\"}},\"id\":\"b4cc78d1-85e8-4917-9bd0-6011ef257ee1\",\"type\":\"GlyphRenderer\"},{\"attributes\":{\"label\":{\"value\":\"Small cell load = 0.05\"},\"renderers\":[{\"id\":\"63df582a-bc7a-4aa8-8ac7-38395c261f83\",\"type\":\"GlyphRenderer\"}]},\"id\":\"4a1537bb-996f-443b-8f17-26f947249e23\",\"type\":\"LegendItem\"}],\"root_ids\":[\"b589d498-56dc-4019-9137-c1af63bf66b4\"]},\"title\":\"Bokeh Application\",\"version\":\"0.12.10\"}};\n",
       "    var render_items = [{\"docid\":\"d1dfb85f-3b2a-49e0-8134-436e89852d4d\",\"elementid\":\"c56d08b6-a92c-4839-95dc-e5eaaaa29a6a\",\"modelid\":\"b589d498-56dc-4019-9137-c1af63bf66b4\"}];\n",
       "\n",
       "    root.Bokeh.embed.embed_items(docs_json, render_items);\n",
       "  }\n",
       "\n",
       "  if (root.Bokeh !== undefined) {\n",
       "    embed_document(root);\n",
       "  } else {\n",
       "    var attempts = 0;\n",
       "    var timer = setInterval(function(root) {\n",
       "      if (root.Bokeh !== undefined) {\n",
       "        embed_document(root);\n",
       "        clearInterval(timer);\n",
       "      }\n",
       "      attempts++;\n",
       "      if (attempts > 100) {\n",
       "        console.log(\"Bokeh: ERROR: Unable to embed document because BokehJS library is missing\")\n",
       "        clearInterval(timer);\n",
       "      }\n",
       "    }, 10, root)\n",
       "  }\n",
       "})(window);"
      ],
      "application/vnd.bokehjs_exec.v0+json": ""
     },
     "metadata": {
      "application/vnd.bokehjs_exec.v0+json": {
       "id": "b589d498-56dc-4019-9137-c1af63bf66b4"
      }
     },
     "output_type": "display_data"
    }
   ],
   "source": [
    "p0 = figure(plot_width=600, plot_height=400)\n",
    "\n",
    "\n",
    "p0.line(logscale(1), df[df.small_arrival==1].avg_power, line_color='navy',legend='Small cell load = 0.05')\n",
    "p0.circle(logscale(1), df[df.small_arrival==1].avg_power, color='white', line_color='navy',size=5)\n",
    "p0.line(logscale(4), df[df.small_arrival==4].avg_power, line_color='navy',line_dash=\"15 2\",legend='Small cell load = 0.2')\n",
    "p0.circle(logscale(4), df[df.small_arrival==4].avg_power, color='white', line_color='navy',size=5)\n",
    "\n",
    "p0.line(logscale(6), df[df.small_arrival==6].avg_power, line_color='navy',line_dash=\"4 4\",legend='Small cell load = 0.32')\n",
    "p0.circle(logscale(6), df[df.small_arrival==6].avg_power, color='white', line_color='navy',size=5)\n",
    "\n",
    "p0.line(logscale(9), df[df.small_arrival==9].avg_power, line_color='navy',line_dash=\"1 4\",legend='Small cell load = 0.5')\n",
    "p0.circle(logscale(9), df[df.small_arrival==9].avg_power, color='white', line_color='navy',size=5)\n",
    "\n",
    "\n",
    "p0.grid.grid_line_dash = [2,2]\n",
    "p0.grid.grid_line_alpha = 0.1\n",
    "\n",
    "p0.xaxis.axis_label = 'idle time in logscale (relative to avg. inter-arrival time)'\n",
    "p0.yaxis.axis_label = 'Mean power'\n",
    "\n",
    "p0.xaxis.axis_label_text_color = 'black'\n",
    "p0.xaxis.major_label_text_color = 'black'\n",
    "p0.yaxis.axis_label_text_color = 'black'\n",
    "p0.yaxis.major_label_text_color = 'black'\n",
    "p0.legend.label_text_color = 'black'\n",
    "\n",
    "p0.legend.location  = 'top_right'\n",
    "p0.outline_line_color = 'black'\n",
    "\n",
    "p0.axis.axis_label_text_font_size = '12pt'\n",
    "p0.axis.major_label_text_font_size = '10pt'\n",
    "#export_png(p0, filename='./power-vs-idle-logscale.png')\n",
    "\n",
    "\n",
    "show(p0)"
   ]
  },
  {
   "cell_type": "markdown",
   "metadata": {},
   "source": [
    "# 2. Weighted sum cost"
   ]
  },
  {
   "cell_type": "code",
   "execution_count": 15,
   "metadata": {},
   "outputs": [
    {
     "name": "stdout",
     "output_type": "stream",
     "text": [
      "1510419211.csv        \u001b[34msetup_0.05_erws\u001b[m\u001b[m/      test-test.csv\r\n",
      "\u001b[34mbak\u001b[m\u001b[m/                  \u001b[34msetup_1.0\u001b[m\u001b[m/            test.csv\r\n",
      "result.csv            \u001b[34msetup_1.0_erws\u001b[m\u001b[m/       visualization.ipynb\r\n",
      "\u001b[34msetup_0.05\u001b[m\u001b[m/           test-lb-policy.csv    visualization2.ipynb\r\n"
     ]
    }
   ],
   "source": [
    "%ls "
   ]
  },
  {
   "cell_type": "code",
   "execution_count": 16,
   "metadata": {},
   "outputs": [
    {
     "name": "stdout",
     "output_type": "stream",
     "text": [
      "output_1.csv     output_20.csv    output_31.csv    output_42.csv\r\n",
      "output_10.csv    output_21.csv    output_32.csv    output_43.csv\r\n",
      "output_11.csv    output_22.csv    output_33.csv    output_44.csv\r\n",
      "output_12.csv    output_23.csv    output_34.csv    output_5.csv\r\n",
      "output_13.csv    output_24.csv    output_35.csv    output_6.csv\r\n",
      "output_14.csv    output_25.csv    output_36.csv    output_7.csv\r\n",
      "output_15.csv    output_26.csv    output_37.csv    output_8.csv\r\n",
      "output_16.csv    output_27.csv    output_38.csv    output_9.csv\r\n",
      "output_17.csv    output_28.csv    output_39.csv    output_None.csv\r\n",
      "output_18.csv    output_29.csv    output_4.csv\r\n",
      "output_19.csv    output_3.csv     output_40.csv\r\n",
      "output_2.csv     output_30.csv    output_41.csv\r\n"
     ]
    }
   ],
   "source": [
    "%ls setup_1.0_erws/"
   ]
  },
  {
   "cell_type": "markdown",
   "metadata": {},
   "source": [
    "## 2.1 Short setup delay"
   ]
  },
  {
   "cell_type": "code",
   "execution_count": 17,
   "metadata": {},
   "outputs": [
    {
     "data": {
      "text/html": [
       "\n",
       "<div class=\"bk-root\">\n",
       "    <div class=\"bk-plotdiv\" id=\"2b600e5e-ea26-4bae-9e03-6edb4aca9342\"></div>\n",
       "</div>"
      ]
     },
     "metadata": {},
     "output_type": "display_data"
    },
    {
     "data": {
      "application/javascript": [
       "(function(root) {\n",
       "  function embed_document(root) {\n",
       "    var docs_json = {\"f36ec960-57ba-47d3-91d5-3bdff4b3893c\":{\"roots\":{\"references\":[{\"attributes\":{\"callback\":null,\"column_names\":[\"y\",\"x\"],\"data\":{\"x\":[-10,-3.0588936890535687,-2.0,-1.0,0.0,1.0,2.0,3.0,7.0,9.0,10.0],\"y\":{\"__ndarray__\":\"DCk/qfbJH0B7/N6mP2sgQPOrOUAw1yBAKjqSy394IUAuymyQSUYiQJ0Rpb3BFyNAqDrkZrjBI0CHokCfyDMkQLRZ9bnauiRAinYVUn7CJEAxJZLoZcQkQA==\",\"dtype\":\"float64\",\"shape\":[11]}}},\"id\":\"8e9df674-c832-4404-a0a0-80f7d594ed64\",\"type\":\"ColumnDataSource\"},{\"attributes\":{\"fill_alpha\":{\"value\":0.1},\"fill_color\":{\"value\":\"#1f77b4\"},\"line_alpha\":{\"value\":0.1},\"line_color\":{\"value\":\"#1f77b4\"},\"size\":{\"units\":\"screen\",\"value\":5},\"x\":{\"field\":\"x\"},\"y\":{\"field\":\"y\"}},\"id\":\"3e1ab6ef-4f1e-4dd9-bea5-17df5403068c\",\"type\":\"Circle\"},{\"attributes\":{\"label\":{\"value\":\"Small cell load = 0.05\"},\"renderers\":[{\"id\":\"ceee2ce5-d7cc-40d3-b02f-6fcd5865ad11\",\"type\":\"GlyphRenderer\"}]},\"id\":\"a79e36ba-800d-4c9a-8522-0b7350f1557b\",\"type\":\"LegendItem\"},{\"attributes\":{\"below\":[{\"id\":\"05de047e-cf22-47da-a307-b3e4e9247559\",\"type\":\"LinearAxis\"}],\"left\":[{\"id\":\"ce043fdc-66d1-4257-935c-6446d61d9839\",\"type\":\"LinearAxis\"}],\"outline_line_color\":{\"value\":\"black\"},\"plot_height\":400,\"renderers\":[{\"id\":\"05de047e-cf22-47da-a307-b3e4e9247559\",\"type\":\"LinearAxis\"},{\"id\":\"24f79fd7-0d04-4768-bcfe-0a3d3df82350\",\"type\":\"Grid\"},{\"id\":\"ce043fdc-66d1-4257-935c-6446d61d9839\",\"type\":\"LinearAxis\"},{\"id\":\"e7d62926-8cbd-4b42-84eb-73033678de6e\",\"type\":\"Grid\"},{\"id\":\"c5df7a74-ff6e-4249-a5db-745e2723c7e5\",\"type\":\"BoxAnnotation\"},{\"id\":\"12a4147c-9bd4-498e-9ecf-b0414eb47797\",\"type\":\"Legend\"},{\"id\":\"ceee2ce5-d7cc-40d3-b02f-6fcd5865ad11\",\"type\":\"GlyphRenderer\"},{\"id\":\"8cc6a549-9565-414a-b828-ef2007e1414d\",\"type\":\"GlyphRenderer\"},{\"id\":\"5f146081-3c57-43a8-a064-2027c9046f59\",\"type\":\"GlyphRenderer\"},{\"id\":\"df189e37-794a-42e3-bda9-70788e4ad7db\",\"type\":\"GlyphRenderer\"},{\"id\":\"3ecc3a21-8f95-4ace-ad36-554f806864a7\",\"type\":\"GlyphRenderer\"},{\"id\":\"42d889ca-f0ea-43e3-af46-98d8d623a498\",\"type\":\"GlyphRenderer\"},{\"id\":\"23cbdf84-95fc-496c-ba25-22627b3506a9\",\"type\":\"GlyphRenderer\"},{\"id\":\"23c39023-d223-4620-a1b5-002c7ca60ea1\",\"type\":\"GlyphRenderer\"}],\"title\":{\"id\":\"87ba0427-a595-45e1-941e-3b5a391253bf\",\"type\":\"Title\"},\"toolbar\":{\"id\":\"acc40652-e83c-4427-a781-31505ac8f40c\",\"type\":\"Toolbar\"},\"x_range\":{\"id\":\"d5f4d2db-5007-452a-b842-1296ccb7a6b1\",\"type\":\"DataRange1d\"},\"x_scale\":{\"id\":\"bddb2036-a861-4999-a949-1bfe4f6f8985\",\"type\":\"LinearScale\"},\"y_range\":{\"id\":\"f5cc4bc1-04bb-4a6e-b5e3-002d5916068b\",\"type\":\"DataRange1d\"},\"y_scale\":{\"id\":\"99f42cee-9cb9-4b4b-a3bf-d00a9e2df6c0\",\"type\":\"LinearScale\"}},\"id\":\"25e6c449-dbfc-47df-af31-d288af50ecae\",\"subtype\":\"Figure\",\"type\":\"Plot\"},{\"attributes\":{\"callback\":null,\"column_names\":[\"y\",\"x\"],\"data\":{\"x\":[-10,-3.473931188332412,-1.8889686876112561,-0.888968687611256,-0.014499569695115089,0.9855004303048849,1.9855004303048849,3.0018022426339854,6.999774561287003,9.00002817736235,10.00002817736235],\"y\":{\"__ndarray__\":\"OL72zJIwJEAwuycPC1UkQFPQ7SWNcSRA6KT3ja+dJEDO34RCBNwkQK6jqgmiHiVAW7vtQnNdJUDSOqqaIIolQPbuj/eqxSVA9RWkGYvGJUB+BWnGosklQA==\",\"dtype\":\"float64\",\"shape\":[11]}}},\"id\":\"4f91a2d3-6f3d-4f88-a4fc-f4a7e3b76562\",\"type\":\"ColumnDataSource\"},{\"attributes\":{\"label\":{\"value\":\"Small cell load = 0.32\"},\"renderers\":[{\"id\":\"3ecc3a21-8f95-4ace-ad36-554f806864a7\",\"type\":\"GlyphRenderer\"}]},\"id\":\"eee645f3-39bd-415f-965d-04f69559be3a\",\"type\":\"LegendItem\"},{\"attributes\":{},\"id\":\"7296bab3-9ba8-458b-8113-b1bc87374bbe\",\"type\":\"HelpTool\"},{\"attributes\":{\"line_color\":{\"value\":\"navy\"},\"line_dash\":[4,4],\"x\":{\"field\":\"x\"},\"y\":{\"field\":\"y\"}},\"id\":\"236b05e0-acd3-4dc8-8623-b93b8743cdc5\",\"type\":\"Line\"},{\"attributes\":{\"overlay\":{\"id\":\"c5df7a74-ff6e-4249-a5db-745e2723c7e5\",\"type\":\"BoxAnnotation\"}},\"id\":\"a02a21f2-eb0b-486a-8e17-48ef97079b09\",\"type\":\"BoxZoomTool\"},{\"attributes\":{},\"id\":\"fc96b090-a0f7-4dd8-a1bc-994cb9e21444\",\"type\":\"PanTool\"},{\"attributes\":{\"source\":{\"id\":\"38d3bee4-2583-4e04-9429-62d139a1da60\",\"type\":\"ColumnDataSource\"}},\"id\":\"ed124179-8904-4620-8d14-372312237936\",\"type\":\"CDSView\"},{\"attributes\":{\"fill_alpha\":{\"value\":0.1},\"fill_color\":{\"value\":\"#1f77b4\"},\"line_alpha\":{\"value\":0.1},\"line_color\":{\"value\":\"#1f77b4\"},\"size\":{\"units\":\"screen\",\"value\":5},\"x\":{\"field\":\"x\"},\"y\":{\"field\":\"y\"}},\"id\":\"fc82e254-7f95-45b9-9772-10f9355aaa79\",\"type\":\"Circle\"},{\"attributes\":{\"line_color\":{\"value\":\"navy\"},\"line_dash\":[15,2],\"x\":{\"field\":\"x\"},\"y\":{\"field\":\"y\"}},\"id\":\"fad69569-c939-4c24-86c3-6145bb4cd5cf\",\"type\":\"Line\"},{\"attributes\":{\"source\":{\"id\":\"d13b1f41-902e-42b4-acb7-a7b306286759\",\"type\":\"ColumnDataSource\"}},\"id\":\"0f64778e-98d8-4fee-a35d-5814f1246eab\",\"type\":\"CDSView\"},{\"attributes\":{\"data_source\":{\"id\":\"ed04f151-c07d-4b74-9734-3a0fd8815d52\",\"type\":\"ColumnDataSource\"},\"glyph\":{\"id\":\"bb2a20b5-43bc-42cf-aa5c-5d47456ed480\",\"type\":\"Circle\"},\"hover_glyph\":null,\"muted_glyph\":null,\"nonselection_glyph\":{\"id\":\"ed1f0965-d80b-4e50-9b4a-aa4bfe9332c6\",\"type\":\"Circle\"},\"selection_glyph\":null,\"view\":{\"id\":\"d1ecc693-2376-4eee-a158-c2e1b5913f80\",\"type\":\"CDSView\"}},\"id\":\"42d889ca-f0ea-43e3-af46-98d8d623a498\",\"type\":\"GlyphRenderer\"},{\"attributes\":{\"source\":{\"id\":\"ed04f151-c07d-4b74-9734-3a0fd8815d52\",\"type\":\"ColumnDataSource\"}},\"id\":\"d1ecc693-2376-4eee-a158-c2e1b5913f80\",\"type\":\"CDSView\"},{\"attributes\":{},\"id\":\"55364250-bbd3-4944-89de-bb26d3b3a4df\",\"type\":\"BasicTickFormatter\"},{\"attributes\":{\"line_alpha\":{\"value\":0.1},\"line_color\":{\"value\":\"#1f77b4\"},\"x\":{\"field\":\"x\"},\"y\":{\"field\":\"y\"}},\"id\":\"ee9940db-d492-4005-b417-034f997563e7\",\"type\":\"Line\"},{\"attributes\":{\"fill_color\":{\"value\":\"white\"},\"line_color\":{\"value\":\"navy\"},\"size\":{\"units\":\"screen\",\"value\":5},\"x\":{\"field\":\"x\"},\"y\":{\"field\":\"y\"}},\"id\":\"25c16197-b95c-49b0-aca1-6ebd15283ee8\",\"type\":\"Circle\"},{\"attributes\":{\"line_alpha\":{\"value\":0.1},\"line_color\":{\"value\":\"#1f77b4\"},\"line_dash\":[1,4],\"x\":{\"field\":\"x\"},\"y\":{\"field\":\"y\"}},\"id\":\"5cc55dae-396c-4494-9fcb-0fa377fe013c\",\"type\":\"Line\"},{\"attributes\":{},\"id\":\"4fa7c22c-619d-4594-9dc4-fc97a71fb267\",\"type\":\"BasicTickFormatter\"},{\"attributes\":{},\"id\":\"99f42cee-9cb9-4b4b-a3bf-d00a9e2df6c0\",\"type\":\"LinearScale\"},{\"attributes\":{\"source\":{\"id\":\"4f91a2d3-6f3d-4f88-a4fc-f4a7e3b76562\",\"type\":\"ColumnDataSource\"}},\"id\":\"adb3a201-d8b2-45ab-8413-5d1d118792e5\",\"type\":\"CDSView\"},{\"attributes\":{},\"id\":\"1e7ae68e-54d6-4391-9bc8-0c93144d59e5\",\"type\":\"SaveTool\"},{\"attributes\":{\"callback\":null,\"column_names\":[\"y\",\"x\"],\"data\":{\"x\":[-10,-3.0588936890535687,-2.0,-1.0,0.0,1.0,2.0,3.0,7.0,9.0,10.0],\"y\":{\"__ndarray__\":\"DCk/qfbJH0B7/N6mP2sgQPOrOUAw1yBAKjqSy394IUAuymyQSUYiQJ0Rpb3BFyNAqDrkZrjBI0CHokCfyDMkQLRZ9bnauiRAinYVUn7CJEAxJZLoZcQkQA==\",\"dtype\":\"float64\",\"shape\":[11]}}},\"id\":\"7d6cfb38-83d7-4d17-b911-c600beed7664\",\"type\":\"ColumnDataSource\"},{\"attributes\":{\"callback\":null,\"column_names\":[\"y\",\"x\"],\"data\":{\"x\":[-10,-3.0588936890535687,-2.0588936890535687,-1.0588936890535685,0.02856915219677092,0.9855004303048849,2.007195501404204,2.996388746447621,6.999774561287003,8.999943643624247,10.00002817736235],\"y\":{\"__ndarray__\":\"PnlYqDXdIkB96IL6lhkjQA0a+ie4SCNA+mabG9OTI0CZu5aQD/ojQIBlpUkpaCRAD9HoDmLHJECWW1oNiQslQHaOAdnrXSVA+ye4WFFjJUBr8SkAxmMlQA==\",\"dtype\":\"float64\",\"shape\":[11]}}},\"id\":\"ed04f151-c07d-4b74-9734-3a0fd8815d52\",\"type\":\"ColumnDataSource\"},{\"attributes\":{\"grid_line_alpha\":{\"value\":0.1},\"grid_line_dash\":[2,2],\"plot\":{\"id\":\"25e6c449-dbfc-47df-af31-d288af50ecae\",\"subtype\":\"Figure\",\"type\":\"Plot\"},\"ticker\":{\"id\":\"59750664-8a85-47f0-8a34-33abfeeba6fa\",\"type\":\"BasicTicker\"}},\"id\":\"24f79fd7-0d04-4768-bcfe-0a3d3df82350\",\"type\":\"Grid\"},{\"attributes\":{\"data_source\":{\"id\":\"38d3bee4-2583-4e04-9429-62d139a1da60\",\"type\":\"ColumnDataSource\"},\"glyph\":{\"id\":\"0ef4bda3-6628-4fcd-93c0-6b69e67dc920\",\"type\":\"Circle\"},\"hover_glyph\":null,\"muted_glyph\":null,\"nonselection_glyph\":{\"id\":\"41f08a72-3995-4a22-96be-493d540520d1\",\"type\":\"Circle\"},\"selection_glyph\":null,\"view\":{\"id\":\"ed124179-8904-4620-8d14-372312237936\",\"type\":\"CDSView\"}},\"id\":\"df189e37-794a-42e3-bda9-70788e4ad7db\",\"type\":\"GlyphRenderer\"},{\"attributes\":{},\"id\":\"fd5d3b07-585c-48ee-b8d3-81271f0e2e6d\",\"type\":\"BasicTicker\"},{\"attributes\":{\"data_source\":{\"id\":\"303367af-0d1f-434d-be17-e0ac86bba6ec\",\"type\":\"ColumnDataSource\"},\"glyph\":{\"id\":\"fad69569-c939-4c24-86c3-6145bb4cd5cf\",\"type\":\"Line\"},\"hover_glyph\":null,\"muted_glyph\":null,\"nonselection_glyph\":{\"id\":\"bc097d4c-e5a0-4003-aec1-0e20a759c3e2\",\"type\":\"Line\"},\"selection_glyph\":null,\"view\":{\"id\":\"65d5eb08-f425-4916-a854-88ac2c3aef38\",\"type\":\"CDSView\"}},\"id\":\"5f146081-3c57-43a8-a064-2027c9046f59\",\"type\":\"GlyphRenderer\"},{\"attributes\":{\"label\":{\"value\":\"Small cell load = 0.5\"},\"renderers\":[{\"id\":\"23cbdf84-95fc-496c-ba25-22627b3506a9\",\"type\":\"GlyphRenderer\"}]},\"id\":\"95e7687d-1f0f-4d8a-b0fd-15f8edcdc3bd\",\"type\":\"LegendItem\"},{\"attributes\":{\"data_source\":{\"id\":\"d13b1f41-902e-42b4-acb7-a7b306286759\",\"type\":\"ColumnDataSource\"},\"glyph\":{\"id\":\"25c16197-b95c-49b0-aca1-6ebd15283ee8\",\"type\":\"Circle\"},\"hover_glyph\":null,\"muted_glyph\":null,\"nonselection_glyph\":{\"id\":\"fc82e254-7f95-45b9-9772-10f9355aaa79\",\"type\":\"Circle\"},\"selection_glyph\":null,\"view\":{\"id\":\"0f64778e-98d8-4fee-a35d-5814f1246eab\",\"type\":\"CDSView\"}},\"id\":\"23c39023-d223-4620-a1b5-002c7ca60ea1\",\"type\":\"GlyphRenderer\"},{\"attributes\":{\"data_source\":{\"id\":\"c71a20d7-1ef5-4d77-a8a2-c168415f5e34\",\"type\":\"ColumnDataSource\"},\"glyph\":{\"id\":\"236b05e0-acd3-4dc8-8623-b93b8743cdc5\",\"type\":\"Line\"},\"hover_glyph\":null,\"muted_glyph\":null,\"nonselection_glyph\":{\"id\":\"22f18982-c0ae-4786-b7dd-489a8789e2be\",\"type\":\"Line\"},\"selection_glyph\":null,\"view\":{\"id\":\"d9675c93-8107-4894-a064-724dc9b9d133\",\"type\":\"CDSView\"}},\"id\":\"3ecc3a21-8f95-4ace-ad36-554f806864a7\",\"type\":\"GlyphRenderer\"},{\"attributes\":{\"data_source\":{\"id\":\"8e9df674-c832-4404-a0a0-80f7d594ed64\",\"type\":\"ColumnDataSource\"},\"glyph\":{\"id\":\"6b83dd93-f6e4-42d5-84d1-d6e2210e2fb6\",\"type\":\"Circle\"},\"hover_glyph\":null,\"muted_glyph\":null,\"nonselection_glyph\":{\"id\":\"3e1ab6ef-4f1e-4dd9-bea5-17df5403068c\",\"type\":\"Circle\"},\"selection_glyph\":null,\"view\":{\"id\":\"374748a4-e1ba-4bf5-b811-05d29da3623e\",\"type\":\"CDSView\"}},\"id\":\"8cc6a549-9565-414a-b828-ef2007e1414d\",\"type\":\"GlyphRenderer\"},{\"attributes\":{\"axis_label\":\"Weighted sum cost\",\"axis_label_text_color\":{\"value\":\"black\"},\"axis_label_text_font_size\":{\"value\":\"12pt\"},\"formatter\":{\"id\":\"55364250-bbd3-4944-89de-bb26d3b3a4df\",\"type\":\"BasicTickFormatter\"},\"major_label_text_color\":{\"value\":\"black\"},\"major_label_text_font_size\":{\"value\":\"10pt\"},\"plot\":{\"id\":\"25e6c449-dbfc-47df-af31-d288af50ecae\",\"subtype\":\"Figure\",\"type\":\"Plot\"},\"ticker\":{\"id\":\"fd5d3b07-585c-48ee-b8d3-81271f0e2e6d\",\"type\":\"BasicTicker\"}},\"id\":\"ce043fdc-66d1-4257-935c-6446d61d9839\",\"type\":\"LinearAxis\"},{\"attributes\":{\"fill_color\":{\"value\":\"white\"},\"line_color\":{\"value\":\"navy\"},\"size\":{\"units\":\"screen\",\"value\":5},\"x\":{\"field\":\"x\"},\"y\":{\"field\":\"y\"}},\"id\":\"6b83dd93-f6e4-42d5-84d1-d6e2210e2fb6\",\"type\":\"Circle\"},{\"attributes\":{\"axis_label\":\"idle time in logscale (relative to avg. inter-arrival time)\",\"axis_label_text_color\":{\"value\":\"black\"},\"axis_label_text_font_size\":{\"value\":\"12pt\"},\"formatter\":{\"id\":\"4fa7c22c-619d-4594-9dc4-fc97a71fb267\",\"type\":\"BasicTickFormatter\"},\"major_label_text_color\":{\"value\":\"black\"},\"major_label_text_font_size\":{\"value\":\"10pt\"},\"plot\":{\"id\":\"25e6c449-dbfc-47df-af31-d288af50ecae\",\"subtype\":\"Figure\",\"type\":\"Plot\"},\"ticker\":{\"id\":\"59750664-8a85-47f0-8a34-33abfeeba6fa\",\"type\":\"BasicTicker\"}},\"id\":\"05de047e-cf22-47da-a307-b3e4e9247559\",\"type\":\"LinearAxis\"},{\"attributes\":{},\"id\":\"bddb2036-a861-4999-a949-1bfe4f6f8985\",\"type\":\"LinearScale\"},{\"attributes\":{\"items\":[{\"id\":\"a79e36ba-800d-4c9a-8522-0b7350f1557b\",\"type\":\"LegendItem\"},{\"id\":\"d7668903-b393-4304-9321-7cbf4fe30027\",\"type\":\"LegendItem\"},{\"id\":\"eee645f3-39bd-415f-965d-04f69559be3a\",\"type\":\"LegendItem\"},{\"id\":\"95e7687d-1f0f-4d8a-b0fd-15f8edcdc3bd\",\"type\":\"LegendItem\"}],\"label_text_color\":{\"value\":\"black\"},\"location\":\"bottom_right\",\"plot\":{\"id\":\"25e6c449-dbfc-47df-af31-d288af50ecae\",\"subtype\":\"Figure\",\"type\":\"Plot\"}},\"id\":\"12a4147c-9bd4-498e-9ecf-b0414eb47797\",\"type\":\"Legend\"},{\"attributes\":{\"fill_color\":{\"value\":\"white\"},\"line_color\":{\"value\":\"navy\"},\"size\":{\"units\":\"screen\",\"value\":5},\"x\":{\"field\":\"x\"},\"y\":{\"field\":\"y\"}},\"id\":\"bb2a20b5-43bc-42cf-aa5c-5d47456ed480\",\"type\":\"Circle\"},{\"attributes\":{\"fill_color\":{\"value\":\"white\"},\"line_color\":{\"value\":\"navy\"},\"size\":{\"units\":\"screen\",\"value\":5},\"x\":{\"field\":\"x\"},\"y\":{\"field\":\"y\"}},\"id\":\"0ef4bda3-6628-4fcd-93c0-6b69e67dc920\",\"type\":\"Circle\"},{\"attributes\":{},\"id\":\"50fb1470-6828-4285-b18d-f340a7b30364\",\"type\":\"ResetTool\"},{\"attributes\":{\"fill_alpha\":{\"value\":0.1},\"fill_color\":{\"value\":\"#1f77b4\"},\"line_alpha\":{\"value\":0.1},\"line_color\":{\"value\":\"#1f77b4\"},\"size\":{\"units\":\"screen\",\"value\":5},\"x\":{\"field\":\"x\"},\"y\":{\"field\":\"y\"}},\"id\":\"41f08a72-3995-4a22-96be-493d540520d1\",\"type\":\"Circle\"},{\"attributes\":{},\"id\":\"0c17695a-10e2-4ef3-8679-3d93375df8f4\",\"type\":\"WheelZoomTool\"},{\"attributes\":{\"callback\":null},\"id\":\"d5f4d2db-5007-452a-b842-1296ccb7a6b1\",\"type\":\"DataRange1d\"},{\"attributes\":{\"callback\":null,\"column_names\":[\"y\",\"x\"],\"data\":{\"x\":[-10,-3.0588936890535687,-2.0588936890535687,-1.0588936890535685,0.02856915219677092,0.9855004303048849,2.007195501404204,2.996388746447621,6.999774561287003,8.999943643624247,10.00002817736235],\"y\":{\"__ndarray__\":\"PnlYqDXdIkB96IL6lhkjQA0a+ie4SCNA+mabG9OTI0CZu5aQD/ojQIBlpUkpaCRAD9HoDmLHJECWW1oNiQslQHaOAdnrXSVA+ye4WFFjJUBr8SkAxmMlQA==\",\"dtype\":\"float64\",\"shape\":[11]}}},\"id\":\"c71a20d7-1ef5-4d77-a8a2-c168415f5e34\",\"type\":\"ColumnDataSource\"},{\"attributes\":{\"callback\":null,\"column_names\":[\"y\",\"x\"],\"data\":{\"x\":[-10,-3.0588936890535687,-2.0588936890535687,-1.0588936890535685,0.0,1.0,2.0,3.0,7.0,9.0,10.0],\"y\":{\"__ndarray__\":\"LDBkdavXIUDt0/GYgSoiQOuoaoKoayJA/MbXnlnSIkAOMsnIWVgjQO6x9KEL6iNAqAAYz6BhJEBGIF7XL7gkQMwolltaHSVAbLJGPUQjJUBOC170FSQlQA==\",\"dtype\":\"float64\",\"shape\":[11]}}},\"id\":\"38d3bee4-2583-4e04-9429-62d139a1da60\",\"type\":\"ColumnDataSource\"},{\"attributes\":{\"callback\":null},\"id\":\"f5cc4bc1-04bb-4a6e-b5e3-002d5916068b\",\"type\":\"DataRange1d\"},{\"attributes\":{\"data_source\":{\"id\":\"4f91a2d3-6f3d-4f88-a4fc-f4a7e3b76562\",\"type\":\"ColumnDataSource\"},\"glyph\":{\"id\":\"95bfeecb-1daa-48cf-afd7-f0eced9966af\",\"type\":\"Line\"},\"hover_glyph\":null,\"muted_glyph\":null,\"nonselection_glyph\":{\"id\":\"5cc55dae-396c-4494-9fcb-0fa377fe013c\",\"type\":\"Line\"},\"selection_glyph\":null,\"view\":{\"id\":\"adb3a201-d8b2-45ab-8413-5d1d118792e5\",\"type\":\"CDSView\"}},\"id\":\"23cbdf84-95fc-496c-ba25-22627b3506a9\",\"type\":\"GlyphRenderer\"},{\"attributes\":{\"line_alpha\":{\"value\":0.1},\"line_color\":{\"value\":\"#1f77b4\"},\"line_dash\":[4,4],\"x\":{\"field\":\"x\"},\"y\":{\"field\":\"y\"}},\"id\":\"22f18982-c0ae-4786-b7dd-489a8789e2be\",\"type\":\"Line\"},{\"attributes\":{\"dimension\":1,\"grid_line_alpha\":{\"value\":0.1},\"grid_line_dash\":[2,2],\"plot\":{\"id\":\"25e6c449-dbfc-47df-af31-d288af50ecae\",\"subtype\":\"Figure\",\"type\":\"Plot\"},\"ticker\":{\"id\":\"fd5d3b07-585c-48ee-b8d3-81271f0e2e6d\",\"type\":\"BasicTicker\"}},\"id\":\"e7d62926-8cbd-4b42-84eb-73033678de6e\",\"type\":\"Grid\"},{\"attributes\":{\"callback\":null,\"column_names\":[\"y\",\"x\"],\"data\":{\"x\":[-10,-3.0588936890535687,-2.0588936890535687,-1.0588936890535685,0.0,1.0,2.0,3.0,7.0,9.0,10.0],\"y\":{\"__ndarray__\":\"LDBkdavXIUDt0/GYgSoiQOuoaoKoayJA/MbXnlnSIkAOMsnIWVgjQO6x9KEL6iNAqAAYz6BhJEBGIF7XL7gkQMwolltaHSVAbLJGPUQjJUBOC170FSQlQA==\",\"dtype\":\"float64\",\"shape\":[11]}}},\"id\":\"303367af-0d1f-434d-be17-e0ac86bba6ec\",\"type\":\"ColumnDataSource\"},{\"attributes\":{\"fill_alpha\":{\"value\":0.1},\"fill_color\":{\"value\":\"#1f77b4\"},\"line_alpha\":{\"value\":0.1},\"line_color\":{\"value\":\"#1f77b4\"},\"size\":{\"units\":\"screen\",\"value\":5},\"x\":{\"field\":\"x\"},\"y\":{\"field\":\"y\"}},\"id\":\"ed1f0965-d80b-4e50-9b4a-aa4bfe9332c6\",\"type\":\"Circle\"},{\"attributes\":{\"line_color\":{\"value\":\"navy\"},\"x\":{\"field\":\"x\"},\"y\":{\"field\":\"y\"}},\"id\":\"c97c9cf3-e880-4d88-8b13-006957476ec3\",\"type\":\"Line\"},{\"attributes\":{\"source\":{\"id\":\"c71a20d7-1ef5-4d77-a8a2-c168415f5e34\",\"type\":\"ColumnDataSource\"}},\"id\":\"d9675c93-8107-4894-a064-724dc9b9d133\",\"type\":\"CDSView\"},{\"attributes\":{\"line_color\":{\"value\":\"navy\"},\"line_dash\":[1,4],\"x\":{\"field\":\"x\"},\"y\":{\"field\":\"y\"}},\"id\":\"95bfeecb-1daa-48cf-afd7-f0eced9966af\",\"type\":\"Line\"},{\"attributes\":{},\"id\":\"59750664-8a85-47f0-8a34-33abfeeba6fa\",\"type\":\"BasicTicker\"},{\"attributes\":{\"line_alpha\":{\"value\":0.1},\"line_color\":{\"value\":\"#1f77b4\"},\"line_dash\":[15,2],\"x\":{\"field\":\"x\"},\"y\":{\"field\":\"y\"}},\"id\":\"bc097d4c-e5a0-4003-aec1-0e20a759c3e2\",\"type\":\"Line\"},{\"attributes\":{\"source\":{\"id\":\"7d6cfb38-83d7-4d17-b911-c600beed7664\",\"type\":\"ColumnDataSource\"}},\"id\":\"005c099f-8171-4969-bd2c-b8376a777e36\",\"type\":\"CDSView\"},{\"attributes\":{\"source\":{\"id\":\"8e9df674-c832-4404-a0a0-80f7d594ed64\",\"type\":\"ColumnDataSource\"}},\"id\":\"374748a4-e1ba-4bf5-b811-05d29da3623e\",\"type\":\"CDSView\"},{\"attributes\":{\"plot\":null,\"text\":\"\"},\"id\":\"87ba0427-a595-45e1-941e-3b5a391253bf\",\"type\":\"Title\"},{\"attributes\":{\"source\":{\"id\":\"303367af-0d1f-434d-be17-e0ac86bba6ec\",\"type\":\"ColumnDataSource\"}},\"id\":\"65d5eb08-f425-4916-a854-88ac2c3aef38\",\"type\":\"CDSView\"},{\"attributes\":{\"bottom_units\":\"screen\",\"fill_alpha\":{\"value\":0.5},\"fill_color\":{\"value\":\"lightgrey\"},\"left_units\":\"screen\",\"level\":\"overlay\",\"line_alpha\":{\"value\":1.0},\"line_color\":{\"value\":\"black\"},\"line_dash\":[4,4],\"line_width\":{\"value\":2},\"plot\":null,\"render_mode\":\"css\",\"right_units\":\"screen\",\"top_units\":\"screen\"},\"id\":\"c5df7a74-ff6e-4249-a5db-745e2723c7e5\",\"type\":\"BoxAnnotation\"},{\"attributes\":{\"active_drag\":\"auto\",\"active_inspect\":\"auto\",\"active_scroll\":\"auto\",\"active_tap\":\"auto\",\"tools\":[{\"id\":\"fc96b090-a0f7-4dd8-a1bc-994cb9e21444\",\"type\":\"PanTool\"},{\"id\":\"0c17695a-10e2-4ef3-8679-3d93375df8f4\",\"type\":\"WheelZoomTool\"},{\"id\":\"a02a21f2-eb0b-486a-8e17-48ef97079b09\",\"type\":\"BoxZoomTool\"},{\"id\":\"1e7ae68e-54d6-4391-9bc8-0c93144d59e5\",\"type\":\"SaveTool\"},{\"id\":\"50fb1470-6828-4285-b18d-f340a7b30364\",\"type\":\"ResetTool\"},{\"id\":\"7296bab3-9ba8-458b-8113-b1bc87374bbe\",\"type\":\"HelpTool\"}]},\"id\":\"acc40652-e83c-4427-a781-31505ac8f40c\",\"type\":\"Toolbar\"},{\"attributes\":{\"data_source\":{\"id\":\"7d6cfb38-83d7-4d17-b911-c600beed7664\",\"type\":\"ColumnDataSource\"},\"glyph\":{\"id\":\"c97c9cf3-e880-4d88-8b13-006957476ec3\",\"type\":\"Line\"},\"hover_glyph\":null,\"muted_glyph\":null,\"nonselection_glyph\":{\"id\":\"ee9940db-d492-4005-b417-034f997563e7\",\"type\":\"Line\"},\"selection_glyph\":null,\"view\":{\"id\":\"005c099f-8171-4969-bd2c-b8376a777e36\",\"type\":\"CDSView\"}},\"id\":\"ceee2ce5-d7cc-40d3-b02f-6fcd5865ad11\",\"type\":\"GlyphRenderer\"},{\"attributes\":{\"callback\":null,\"column_names\":[\"y\",\"x\"],\"data\":{\"x\":[-10,-3.473931188332412,-1.8889686876112561,-0.888968687611256,-0.014499569695115089,0.9855004303048849,1.9855004303048849,3.0018022426339854,6.999774561287003,9.00002817736235,10.00002817736235],\"y\":{\"__ndarray__\":\"OL72zJIwJEAwuycPC1UkQFPQ7SWNcSRA6KT3ja+dJEDO34RCBNwkQK6jqgmiHiVAW7vtQnNdJUDSOqqaIIolQPbuj/eqxSVA9RWkGYvGJUB+BWnGosklQA==\",\"dtype\":\"float64\",\"shape\":[11]}}},\"id\":\"d13b1f41-902e-42b4-acb7-a7b306286759\",\"type\":\"ColumnDataSource\"},{\"attributes\":{\"label\":{\"value\":\"Small cell load = 0.2\"},\"renderers\":[{\"id\":\"5f146081-3c57-43a8-a064-2027c9046f59\",\"type\":\"GlyphRenderer\"}]},\"id\":\"d7668903-b393-4304-9321-7cbf4fe30027\",\"type\":\"LegendItem\"}],\"root_ids\":[\"25e6c449-dbfc-47df-af31-d288af50ecae\"]},\"title\":\"Bokeh Application\",\"version\":\"0.12.10\"}};\n",
       "    var render_items = [{\"docid\":\"f36ec960-57ba-47d3-91d5-3bdff4b3893c\",\"elementid\":\"2b600e5e-ea26-4bae-9e03-6edb4aca9342\",\"modelid\":\"25e6c449-dbfc-47df-af31-d288af50ecae\"}];\n",
       "\n",
       "    root.Bokeh.embed.embed_items(docs_json, render_items);\n",
       "  }\n",
       "\n",
       "  if (root.Bokeh !== undefined) {\n",
       "    embed_document(root);\n",
       "  } else {\n",
       "    var attempts = 0;\n",
       "    var timer = setInterval(function(root) {\n",
       "      if (root.Bokeh !== undefined) {\n",
       "        embed_document(root);\n",
       "        clearInterval(timer);\n",
       "      }\n",
       "      attempts++;\n",
       "      if (attempts > 100) {\n",
       "        console.log(\"Bokeh: ERROR: Unable to embed document because BokehJS library is missing\")\n",
       "        clearInterval(timer);\n",
       "      }\n",
       "    }, 10, root)\n",
       "  }\n",
       "})(window);"
      ],
      "application/vnd.bokehjs_exec.v0+json": ""
     },
     "metadata": {
      "application/vnd.bokehjs_exec.v0+json": {
       "id": "25e6c449-dbfc-47df-af31-d288af50ecae"
      }
     },
     "output_type": "display_data"
    }
   ],
   "source": [
    "df=pd.read_csv('setup_0.05_erws/output_1.csv', skiprows=1)\n",
    "\n",
    "if df.iloc[-1][0] > 0:\n",
    "    df = df.iloc[-1:]\n",
    "else:\n",
    "    df = df.iloc[1:2]\n",
    "\n",
    "for i in range(2,45):\n",
    "    df_tmp = pd.read_csv('setup_0.05_erws/output_'+str(i)+'.csv', skiprows=1)\n",
    "    #df_rnd_tmp = df_tmp.loc[0,:]\n",
    "    #df_rnd = df_rnd.append(df_rnd_tmp)\n",
    "    if df_tmp.iloc[-1][0] > 0:\n",
    "        df_tmp = df_tmp.iloc[-1:]\n",
    "    else:\n",
    "        df_tmp = df_tmp.iloc[1:2]\n",
    "    df = df.append(df_tmp)\n",
    "\n",
    "df['relative_idle_time'] = df.small_arrival * df.avg_idle_time\n",
    "\n",
    "p0 = figure(plot_width=600, plot_height=400)\n",
    "\n",
    "\n",
    "p0.line(logscale(1), df[df.small_arrival==1].avg_resp_time + 0.01 * df[df.small_arrival==1].avg_power, line_color='navy',legend='Small cell load = 0.05')\n",
    "p0.circle(logscale(1), df[df.small_arrival==1].avg_resp_time + 0.01 * df[df.small_arrival==1].avg_power, color='white', line_color='navy',size=5)\n",
    "p0.line(logscale(4), df[df.small_arrival==4].avg_resp_time + 0.01 * df[df.small_arrival==4].avg_power, line_color='navy',line_dash=\"15 2\",legend='Small cell load = 0.2')\n",
    "p0.circle(logscale(4), df[df.small_arrival==4].avg_resp_time + 0.01 * df[df.small_arrival==4].avg_power, color='white', line_color='navy',size=5)\n",
    "\n",
    "p0.line(logscale(6), df[df.small_arrival==6].avg_resp_time + 0.01 * df[df.small_arrival==6].avg_power, line_color='navy',line_dash=\"4 4\",legend='Small cell load = 0.32')\n",
    "p0.circle(logscale(6), df[df.small_arrival==6].avg_resp_time + 0.01 * df[df.small_arrival==6].avg_power, color='white', line_color='navy',size=5)\n",
    "\n",
    "p0.line(logscale(9), df[df.small_arrival==9].avg_resp_time + 0.01 * df[df.small_arrival==9].avg_power, line_color='navy',line_dash=\"1 4\",legend='Small cell load = 0.5')\n",
    "p0.circle(logscale(9), df[df.small_arrival==9].avg_resp_time + 0.01 * df[df.small_arrival==9].avg_power, color='white', line_color='navy',size=5)\n",
    "\n",
    "\n",
    "p0.grid.grid_line_dash = [2,2]\n",
    "p0.grid.grid_line_alpha = 0.1\n",
    "\n",
    "p0.xaxis.axis_label = 'idle time in logscale (relative to avg. inter-arrival time)'\n",
    "p0.yaxis.axis_label = 'Weighted sum cost'\n",
    "\n",
    "p0.xaxis.axis_label_text_color = 'black'\n",
    "p0.xaxis.major_label_text_color = 'black'\n",
    "p0.yaxis.axis_label_text_color = 'black'\n",
    "p0.yaxis.major_label_text_color = 'black'\n",
    "p0.legend.label_text_color = 'black'\n",
    "\n",
    "p0.legend.location  = 'bottom_right'\n",
    "p0.outline_line_color = 'black'\n",
    "\n",
    "p0.axis.axis_label_text_font_size = '12pt'\n",
    "p0.axis.major_label_text_font_size = '10pt'\n",
    "#export_png(p0, filename='./weighted-sum-short-setup.png')\n",
    "\n",
    "show(p0)"
   ]
  },
  {
   "cell_type": "markdown",
   "metadata": {},
   "source": [
    "## 2.2 long setup delay"
   ]
  },
  {
   "cell_type": "code",
   "execution_count": 18,
   "metadata": {},
   "outputs": [
    {
     "data": {
      "text/html": [
       "\n",
       "<div class=\"bk-root\">\n",
       "    <div class=\"bk-plotdiv\" id=\"1787c75b-8477-446c-82c5-6b6f98ba4a0f\"></div>\n",
       "</div>"
      ]
     },
     "metadata": {},
     "output_type": "display_data"
    },
    {
     "data": {
      "application/javascript": [
       "(function(root) {\n",
       "  function embed_document(root) {\n",
       "    var docs_json = {\"a523b0dd-3d3b-4283-b349-efb25cfce440\":{\"roots\":{\"references\":[{\"attributes\":{\"fill_color\":{\"value\":\"white\"},\"line_color\":{\"value\":\"navy\"},\"size\":{\"units\":\"screen\",\"value\":5},\"x\":{\"field\":\"x\"},\"y\":{\"field\":\"y\"}},\"id\":\"ca20065e-eb1d-4718-b68c-51dc771ad883\",\"type\":\"Circle\"},{\"attributes\":{\"label\":{\"value\":\"Small cell load = 0.05\"},\"renderers\":[{\"id\":\"517d60ac-ce80-4544-adcc-2159e86af727\",\"type\":\"GlyphRenderer\"}]},\"id\":\"177fd067-3633-4e9d-8dfc-5fff19509584\",\"type\":\"LegendItem\"},{\"attributes\":{\"callback\":null,\"column_names\":[\"y\",\"x\"],\"data\":{\"x\":[-10,-3.0588936890535687,-2.0,-1.0,0.0,1.0,2.0,3.0,7.0,9.0,10.0],\"y\":{\"__ndarray__\":\"7bYLzXUKIkAmWBzO/AoiQMYWghyUECJAcCpSYWwhIkBSSZ2AJkIiQAJDVrd6riJAUyKJXkZRI0CYNEbrqLojQCQLmMCtuyRAbjSAt0DCJEDdKR2s/8MkQA==\",\"dtype\":\"float64\",\"shape\":[11]}}},\"id\":\"01f949b2-958f-4004-b630-638d64fd3230\",\"type\":\"ColumnDataSource\"},{\"attributes\":{},\"id\":\"ad8f3356-9452-40e8-b44a-c40bf837c4b9\",\"type\":\"BasicTicker\"},{\"attributes\":{\"fill_color\":{\"value\":\"white\"},\"line_color\":{\"value\":\"navy\"},\"size\":{\"units\":\"screen\",\"value\":5},\"x\":{\"field\":\"x\"},\"y\":{\"field\":\"y\"}},\"id\":\"c9af4cec-6481-40f2-bb55-57294f4c5b87\",\"type\":\"Circle\"},{\"attributes\":{\"callback\":null,\"column_names\":[\"y\",\"x\"],\"data\":{\"x\":[-10,-3.473931188332412,-1.8889686876112561,-0.888968687611256,-0.014499569695115089,0.9855004303048849,1.9855004303048849,3.0018022426339854,6.999774561287003,9.00002817736235,10.00002817736235],\"y\":{\"__ndarray__\":\"KqkT0EQILUCskPKTav8sQNPGEWvx+SxAwvUoXI/iLEB7vfvjvbosQG7YtiizgSxA5x2n6EgOLEBHWipvRzgrQCFB8WPMvSZAIzKs4o0MJkAjnBa86OslQA==\",\"dtype\":\"float64\",\"shape\":[11]}}},\"id\":\"c01d21fc-3ccd-4920-9100-e5af2efab8e9\",\"type\":\"ColumnDataSource\"},{\"attributes\":{\"source\":{\"id\":\"f561fd87-9e9e-49b5-b2e4-b1af53cc46de\",\"type\":\"ColumnDataSource\"}},\"id\":\"16673d09-ad8f-4663-93ad-38971056c8b4\",\"type\":\"CDSView\"},{\"attributes\":{\"background_fill_alpha\":{\"value\":0.6},\"background_fill_color\":{\"value\":\"orange\"},\"items\":[{\"id\":\"177fd067-3633-4e9d-8dfc-5fff19509584\",\"type\":\"LegendItem\"},{\"id\":\"cf8daddf-c01f-4481-a597-f63398ad6a9f\",\"type\":\"LegendItem\"},{\"id\":\"2a1fd5bb-20d4-41a7-8086-5d39d07cb481\",\"type\":\"LegendItem\"},{\"id\":\"dcd3ea22-2df1-4c04-a456-d19cb54833c3\",\"type\":\"LegendItem\"}],\"label_text_color\":{\"value\":\"black\"},\"plot\":{\"id\":\"bf5b779a-a415-48b9-9d07-4efaf693156c\",\"subtype\":\"Figure\",\"type\":\"Plot\"}},\"id\":\"7c534021-27f9-4c87-8d65-814785eb87c8\",\"type\":\"Legend\"},{\"attributes\":{\"line_alpha\":{\"value\":0.1},\"line_color\":{\"value\":\"#1f77b4\"},\"line_dash\":[15,2],\"x\":{\"field\":\"x\"},\"y\":{\"field\":\"y\"}},\"id\":\"e6649d63-0142-4013-84e4-1cc92c659c43\",\"type\":\"Line\"},{\"attributes\":{\"source\":{\"id\":\"fba1d152-2f33-4a70-a6cd-718b985c2b07\",\"type\":\"ColumnDataSource\"}},\"id\":\"b109a211-cd1a-42c5-a26f-40a238d78e52\",\"type\":\"CDSView\"},{\"attributes\":{\"data_source\":{\"id\":\"01f949b2-958f-4004-b630-638d64fd3230\",\"type\":\"ColumnDataSource\"},\"glyph\":{\"id\":\"bb5f820b-07ec-41d8-80fd-09007d5d0fd1\",\"type\":\"Line\"},\"hover_glyph\":null,\"muted_glyph\":null,\"nonselection_glyph\":{\"id\":\"63f4f63c-309d-44e2-990c-d9723e660c2d\",\"type\":\"Line\"},\"selection_glyph\":null,\"view\":{\"id\":\"7fd11f9d-bfc7-45d3-ae07-19efdc1b37fc\",\"type\":\"CDSView\"}},\"id\":\"517d60ac-ce80-4544-adcc-2159e86af727\",\"type\":\"GlyphRenderer\"},{\"attributes\":{\"line_alpha\":{\"value\":0.1},\"line_color\":{\"value\":\"#1f77b4\"},\"line_dash\":[4,4],\"x\":{\"field\":\"x\"},\"y\":{\"field\":\"y\"}},\"id\":\"1bb16f35-9851-4c0e-b6ef-3acbdbf9b328\",\"type\":\"Line\"},{\"attributes\":{\"data_source\":{\"id\":\"e4060b7f-7df2-44e4-8b6c-3776f96c6c46\",\"type\":\"ColumnDataSource\"},\"glyph\":{\"id\":\"740e782d-f98c-44d5-9756-f8f4b47e8a37\",\"type\":\"Line\"},\"hover_glyph\":null,\"muted_glyph\":null,\"nonselection_glyph\":{\"id\":\"161f6036-cbaf-4bf4-ab18-fce5b61cfdeb\",\"type\":\"Line\"},\"selection_glyph\":null,\"view\":{\"id\":\"a7df31a0-b6df-40a5-9036-c8caafb82722\",\"type\":\"CDSView\"}},\"id\":\"549df2df-f502-4565-94ab-0464d3bf8b50\",\"type\":\"GlyphRenderer\"},{\"attributes\":{\"dimension\":1,\"grid_line_alpha\":{\"value\":0.1},\"grid_line_dash\":[2,2],\"plot\":{\"id\":\"bf5b779a-a415-48b9-9d07-4efaf693156c\",\"subtype\":\"Figure\",\"type\":\"Plot\"},\"ticker\":{\"id\":\"ad8f3356-9452-40e8-b44a-c40bf837c4b9\",\"type\":\"BasicTicker\"}},\"id\":\"e43d69c2-54ea-4eee-898c-9782b3ca628f\",\"type\":\"Grid\"},{\"attributes\":{\"label\":{\"value\":\"Small cell load = 0.32\"},\"renderers\":[{\"id\":\"a47106e5-59a3-4697-af3d-a70c4484dbce\",\"type\":\"GlyphRenderer\"}]},\"id\":\"2a1fd5bb-20d4-41a7-8086-5d39d07cb481\",\"type\":\"LegendItem\"},{\"attributes\":{\"below\":[{\"id\":\"d557c1cd-7c71-48fe-ad77-4ab96fba682f\",\"type\":\"LinearAxis\"}],\"left\":[{\"id\":\"ce18f985-8585-4fce-81c9-de49b1dceef5\",\"type\":\"LinearAxis\"}],\"outline_line_color\":{\"value\":\"black\"},\"plot_height\":400,\"renderers\":[{\"id\":\"d557c1cd-7c71-48fe-ad77-4ab96fba682f\",\"type\":\"LinearAxis\"},{\"id\":\"5ab07228-8b3d-42f3-b3b4-400eaf7f0d64\",\"type\":\"Grid\"},{\"id\":\"ce18f985-8585-4fce-81c9-de49b1dceef5\",\"type\":\"LinearAxis\"},{\"id\":\"e43d69c2-54ea-4eee-898c-9782b3ca628f\",\"type\":\"Grid\"},{\"id\":\"8b74312a-0c37-409a-a949-87fd89089c91\",\"type\":\"BoxAnnotation\"},{\"id\":\"7c534021-27f9-4c87-8d65-814785eb87c8\",\"type\":\"Legend\"},{\"id\":\"517d60ac-ce80-4544-adcc-2159e86af727\",\"type\":\"GlyphRenderer\"},{\"id\":\"53c32b05-b843-427f-96b7-a2140b2ef982\",\"type\":\"GlyphRenderer\"},{\"id\":\"63e34855-41fc-45c1-a17e-5f744a2a6875\",\"type\":\"GlyphRenderer\"},{\"id\":\"70d6c291-f5a9-4e2f-8ec6-472e61797e6c\",\"type\":\"GlyphRenderer\"},{\"id\":\"a47106e5-59a3-4697-af3d-a70c4484dbce\",\"type\":\"GlyphRenderer\"},{\"id\":\"7aa0ea03-3b0e-4974-af6b-0b121a30dcf8\",\"type\":\"GlyphRenderer\"},{\"id\":\"549df2df-f502-4565-94ab-0464d3bf8b50\",\"type\":\"GlyphRenderer\"},{\"id\":\"79dbb039-0067-48f2-b0dd-9b39d4142c77\",\"type\":\"GlyphRenderer\"}],\"title\":{\"id\":\"936720dd-84ef-4673-9118-d6c7f97c6f30\",\"type\":\"Title\"},\"toolbar\":{\"id\":\"6b7c5903-5355-4bf1-a61e-2787cee2a31d\",\"type\":\"Toolbar\"},\"x_range\":{\"id\":\"b27017c9-2fcb-4339-82f0-bac079e8db1e\",\"type\":\"DataRange1d\"},\"x_scale\":{\"id\":\"d6312ffa-7fc4-40a6-837f-9e97e418051d\",\"type\":\"LinearScale\"},\"y_range\":{\"id\":\"f0856960-8693-476d-a1cf-3bb462f3bfbb\",\"type\":\"DataRange1d\"},\"y_scale\":{\"id\":\"941e7215-7aac-4ea2-aa6c-945f76143434\",\"type\":\"LinearScale\"}},\"id\":\"bf5b779a-a415-48b9-9d07-4efaf693156c\",\"subtype\":\"Figure\",\"type\":\"Plot\"},{\"attributes\":{\"line_color\":{\"value\":\"navy\"},\"line_dash\":[15,2],\"x\":{\"field\":\"x\"},\"y\":{\"field\":\"y\"}},\"id\":\"c18652fb-11d2-44cc-899f-99952817744c\",\"type\":\"Line\"},{\"attributes\":{\"line_color\":{\"value\":\"navy\"},\"line_dash\":[1,4],\"x\":{\"field\":\"x\"},\"y\":{\"field\":\"y\"}},\"id\":\"740e782d-f98c-44d5-9756-f8f4b47e8a37\",\"type\":\"Line\"},{\"attributes\":{\"source\":{\"id\":\"c01d21fc-3ccd-4920-9100-e5af2efab8e9\",\"type\":\"ColumnDataSource\"}},\"id\":\"364a0123-5115-4a26-abe5-6cd347b951af\",\"type\":\"CDSView\"},{\"attributes\":{\"callback\":null},\"id\":\"b27017c9-2fcb-4339-82f0-bac079e8db1e\",\"type\":\"DataRange1d\"},{\"attributes\":{\"source\":{\"id\":\"01f949b2-958f-4004-b630-638d64fd3230\",\"type\":\"ColumnDataSource\"}},\"id\":\"7fd11f9d-bfc7-45d3-ae07-19efdc1b37fc\",\"type\":\"CDSView\"},{\"attributes\":{},\"id\":\"aa48c5a3-789f-4493-91ce-2f9098423a2e\",\"type\":\"ResetTool\"},{\"attributes\":{\"callback\":null},\"id\":\"f0856960-8693-476d-a1cf-3bb462f3bfbb\",\"type\":\"DataRange1d\"},{\"attributes\":{\"data_source\":{\"id\":\"fdd3eb99-902e-487a-9681-74532c5729fa\",\"type\":\"ColumnDataSource\"},\"glyph\":{\"id\":\"65d2a746-25d8-4426-a29a-7b0e311c329f\",\"type\":\"Line\"},\"hover_glyph\":null,\"muted_glyph\":null,\"nonselection_glyph\":{\"id\":\"1bb16f35-9851-4c0e-b6ef-3acbdbf9b328\",\"type\":\"Line\"},\"selection_glyph\":null,\"view\":{\"id\":\"10b7b630-c71a-41cc-8c16-207166878212\",\"type\":\"CDSView\"}},\"id\":\"a47106e5-59a3-4697-af3d-a70c4484dbce\",\"type\":\"GlyphRenderer\"},{\"attributes\":{\"plot\":null,\"text\":\"\"},\"id\":\"936720dd-84ef-4673-9118-d6c7f97c6f30\",\"type\":\"Title\"},{\"attributes\":{\"active_drag\":\"auto\",\"active_inspect\":\"auto\",\"active_scroll\":\"auto\",\"active_tap\":\"auto\",\"tools\":[{\"id\":\"cb8d62c5-9c8f-4196-8f61-b4ffa7545c61\",\"type\":\"PanTool\"},{\"id\":\"d74729bc-ccaa-4793-a981-9e8cfca8bfae\",\"type\":\"WheelZoomTool\"},{\"id\":\"0442dd86-a614-4d59-b2f5-a57511661d4b\",\"type\":\"BoxZoomTool\"},{\"id\":\"fdc70dfc-1f9f-4ed2-b966-a837eef1c23e\",\"type\":\"SaveTool\"},{\"id\":\"aa48c5a3-789f-4493-91ce-2f9098423a2e\",\"type\":\"ResetTool\"},{\"id\":\"e3d53fc4-2cc7-457a-b46e-4cd0327e0021\",\"type\":\"HelpTool\"}]},\"id\":\"6b7c5903-5355-4bf1-a61e-2787cee2a31d\",\"type\":\"Toolbar\"},{\"attributes\":{\"fill_alpha\":{\"value\":0.1},\"fill_color\":{\"value\":\"#1f77b4\"},\"line_alpha\":{\"value\":0.1},\"line_color\":{\"value\":\"#1f77b4\"},\"size\":{\"units\":\"screen\",\"value\":5},\"x\":{\"field\":\"x\"},\"y\":{\"field\":\"y\"}},\"id\":\"53cb5186-9abf-4272-aafa-882df5af1941\",\"type\":\"Circle\"},{\"attributes\":{},\"id\":\"e3d53fc4-2cc7-457a-b46e-4cd0327e0021\",\"type\":\"HelpTool\"},{\"attributes\":{\"callback\":null,\"column_names\":[\"y\",\"x\"],\"data\":{\"x\":[-10,-3.473931188332412,-1.8889686876112561,-0.888968687611256,-0.014499569695115089,0.9855004303048849,1.9855004303048849,3.0018022426339854,6.999774561287003,9.00002817736235,10.00002817736235],\"y\":{\"__ndarray__\":\"KqkT0EQILUCskPKTav8sQNPGEWvx+SxAwvUoXI/iLEB7vfvjvbosQG7YtiizgSxA5x2n6EgOLEBHWipvRzgrQCFB8WPMvSZAIzKs4o0MJkAjnBa86OslQA==\",\"dtype\":\"float64\",\"shape\":[11]}}},\"id\":\"e4060b7f-7df2-44e4-8b6c-3776f96c6c46\",\"type\":\"ColumnDataSource\"},{\"attributes\":{},\"id\":\"941e7215-7aac-4ea2-aa6c-945f76143434\",\"type\":\"LinearScale\"},{\"attributes\":{},\"id\":\"334f259a-8825-44b0-8873-0036fad803e0\",\"type\":\"BasicTickFormatter\"},{\"attributes\":{\"fill_color\":{\"value\":\"white\"},\"line_color\":{\"value\":\"navy\"},\"size\":{\"units\":\"screen\",\"value\":5},\"x\":{\"field\":\"x\"},\"y\":{\"field\":\"y\"}},\"id\":\"40a1d96b-5028-4795-89b7-36ce4ea5e9b3\",\"type\":\"Circle\"},{\"attributes\":{\"data_source\":{\"id\":\"f561fd87-9e9e-49b5-b2e4-b1af53cc46de\",\"type\":\"ColumnDataSource\"},\"glyph\":{\"id\":\"ca20065e-eb1d-4718-b68c-51dc771ad883\",\"type\":\"Circle\"},\"hover_glyph\":null,\"muted_glyph\":null,\"nonselection_glyph\":{\"id\":\"53cb5186-9abf-4272-aafa-882df5af1941\",\"type\":\"Circle\"},\"selection_glyph\":null,\"view\":{\"id\":\"16673d09-ad8f-4663-93ad-38971056c8b4\",\"type\":\"CDSView\"}},\"id\":\"53c32b05-b843-427f-96b7-a2140b2ef982\",\"type\":\"GlyphRenderer\"},{\"attributes\":{\"axis_label\":\"idle time in logscale (relative to avg. inter-arrival time)\",\"axis_label_text_color\":{\"value\":\"black\"},\"axis_label_text_font_size\":{\"value\":\"12pt\"},\"formatter\":{\"id\":\"14c85e80-3b56-42ed-b30a-5f694a246679\",\"type\":\"BasicTickFormatter\"},\"major_label_text_color\":{\"value\":\"black\"},\"major_label_text_font_size\":{\"value\":\"10pt\"},\"plot\":{\"id\":\"bf5b779a-a415-48b9-9d07-4efaf693156c\",\"subtype\":\"Figure\",\"type\":\"Plot\"},\"ticker\":{\"id\":\"aada5b35-128d-4d8d-bb55-d856777cb82c\",\"type\":\"BasicTicker\"}},\"id\":\"d557c1cd-7c71-48fe-ad77-4ab96fba682f\",\"type\":\"LinearAxis\"},{\"attributes\":{\"line_color\":{\"value\":\"navy\"},\"x\":{\"field\":\"x\"},\"y\":{\"field\":\"y\"}},\"id\":\"bb5f820b-07ec-41d8-80fd-09007d5d0fd1\",\"type\":\"Line\"},{\"attributes\":{\"data_source\":{\"id\":\"ec5e885d-ca72-4318-b5c8-c1623e6671d8\",\"type\":\"ColumnDataSource\"},\"glyph\":{\"id\":\"c18652fb-11d2-44cc-899f-99952817744c\",\"type\":\"Line\"},\"hover_glyph\":null,\"muted_glyph\":null,\"nonselection_glyph\":{\"id\":\"e6649d63-0142-4013-84e4-1cc92c659c43\",\"type\":\"Line\"},\"selection_glyph\":null,\"view\":{\"id\":\"eb25e714-aa1f-43c0-b800-9eb626b4ee3f\",\"type\":\"CDSView\"}},\"id\":\"63e34855-41fc-45c1-a17e-5f744a2a6875\",\"type\":\"GlyphRenderer\"},{\"attributes\":{\"callback\":null,\"column_names\":[\"y\",\"x\"],\"data\":{\"x\":[-10,-3.0588936890535687,-2.0,-1.0,0.0,1.0,2.0,3.0,7.0,9.0,10.0],\"y\":{\"__ndarray__\":\"7bYLzXUKIkAmWBzO/AoiQMYWghyUECJAcCpSYWwhIkBSSZ2AJkIiQAJDVrd6riJAUyKJXkZRI0CYNEbrqLojQCQLmMCtuyRAbjSAt0DCJEDdKR2s/8MkQA==\",\"dtype\":\"float64\",\"shape\":[11]}}},\"id\":\"f561fd87-9e9e-49b5-b2e4-b1af53cc46de\",\"type\":\"ColumnDataSource\"},{\"attributes\":{\"fill_alpha\":{\"value\":0.1},\"fill_color\":{\"value\":\"#1f77b4\"},\"line_alpha\":{\"value\":0.1},\"line_color\":{\"value\":\"#1f77b4\"},\"size\":{\"units\":\"screen\",\"value\":5},\"x\":{\"field\":\"x\"},\"y\":{\"field\":\"y\"}},\"id\":\"79cf3e03-5e3c-4d56-8a47-89778ab57e1d\",\"type\":\"Circle\"},{\"attributes\":{\"callback\":null,\"column_names\":[\"y\",\"x\"],\"data\":{\"x\":[-10,-3.0588936890535687,-2.0588936890535687,-1.0588936890535685,0.0,1.0,2.0,3.0,7.0,9.0,10.0],\"y\":{\"__ndarray__\":\"nkZaKm+3KkCbG9MTlqgqQFWkwthCsCpADP0TXKyIKkBxxFp8CmAqQAx72uGvGSpAaozWUdV0KUC5x9KHLkgoQJUJv9TPeyVAzywJUFM7JUDlSdI1ky8lQA==\",\"dtype\":\"float64\",\"shape\":[11]}}},\"id\":\"fba1d152-2f33-4a70-a6cd-718b985c2b07\",\"type\":\"ColumnDataSource\"},{\"attributes\":{\"line_color\":{\"value\":\"navy\"},\"line_dash\":[4,4],\"x\":{\"field\":\"x\"},\"y\":{\"field\":\"y\"}},\"id\":\"65d2a746-25d8-4426-a29a-7b0e311c329f\",\"type\":\"Line\"},{\"attributes\":{\"label\":{\"value\":\"Small cell load = 0.5\"},\"renderers\":[{\"id\":\"549df2df-f502-4565-94ab-0464d3bf8b50\",\"type\":\"GlyphRenderer\"}]},\"id\":\"dcd3ea22-2df1-4c04-a456-d19cb54833c3\",\"type\":\"LegendItem\"},{\"attributes\":{},\"id\":\"14c85e80-3b56-42ed-b30a-5f694a246679\",\"type\":\"BasicTickFormatter\"},{\"attributes\":{\"line_alpha\":{\"value\":0.1},\"line_color\":{\"value\":\"#1f77b4\"},\"x\":{\"field\":\"x\"},\"y\":{\"field\":\"y\"}},\"id\":\"63f4f63c-309d-44e2-990c-d9723e660c2d\",\"type\":\"Line\"},{\"attributes\":{\"callback\":null,\"column_names\":[\"y\",\"x\"],\"data\":{\"x\":[-10,-3.0588936890535687,-2.0588936890535687,-1.0588936890535685,0.02856915219677092,0.9855004303048849,2.007195501404204,2.996388746447621,6.999774561287003,8.999943643624247,10.00002817736235],\"y\":{\"__ndarray__\":\"lUiil1E8LEAcyeU/pC8sQD7QCgxZHSxAkBmojH8fLEDl1TkGZP8rQLyuX7AblitAVisTfqn/KkCMEB5tHPEpQIrIsIo3AiZAA5Xx7zOOJUB86IL6lnklQA==\",\"dtype\":\"float64\",\"shape\":[11]}}},\"id\":\"99b41621-f626-4043-b184-ee39400cfb70\",\"type\":\"ColumnDataSource\"},{\"attributes\":{\"grid_line_alpha\":{\"value\":0.1},\"grid_line_dash\":[2,2],\"plot\":{\"id\":\"bf5b779a-a415-48b9-9d07-4efaf693156c\",\"subtype\":\"Figure\",\"type\":\"Plot\"},\"ticker\":{\"id\":\"aada5b35-128d-4d8d-bb55-d856777cb82c\",\"type\":\"BasicTicker\"}},\"id\":\"5ab07228-8b3d-42f3-b3b4-400eaf7f0d64\",\"type\":\"Grid\"},{\"attributes\":{},\"id\":\"d74729bc-ccaa-4793-a981-9e8cfca8bfae\",\"type\":\"WheelZoomTool\"},{\"attributes\":{},\"id\":\"aada5b35-128d-4d8d-bb55-d856777cb82c\",\"type\":\"BasicTicker\"},{\"attributes\":{\"data_source\":{\"id\":\"99b41621-f626-4043-b184-ee39400cfb70\",\"type\":\"ColumnDataSource\"},\"glyph\":{\"id\":\"c9af4cec-6481-40f2-bb55-57294f4c5b87\",\"type\":\"Circle\"},\"hover_glyph\":null,\"muted_glyph\":null,\"nonselection_glyph\":{\"id\":\"79cf3e03-5e3c-4d56-8a47-89778ab57e1d\",\"type\":\"Circle\"},\"selection_glyph\":null,\"view\":{\"id\":\"b6b7a0eb-9b95-4bc2-aeb2-50f7b33aa682\",\"type\":\"CDSView\"}},\"id\":\"7aa0ea03-3b0e-4974-af6b-0b121a30dcf8\",\"type\":\"GlyphRenderer\"},{\"attributes\":{\"fill_alpha\":{\"value\":0.1},\"fill_color\":{\"value\":\"#1f77b4\"},\"line_alpha\":{\"value\":0.1},\"line_color\":{\"value\":\"#1f77b4\"},\"size\":{\"units\":\"screen\",\"value\":5},\"x\":{\"field\":\"x\"},\"y\":{\"field\":\"y\"}},\"id\":\"de952b00-ec92-4d83-bbf1-f41df73ab049\",\"type\":\"Circle\"},{\"attributes\":{\"fill_color\":{\"value\":\"white\"},\"line_color\":{\"value\":\"navy\"},\"size\":{\"units\":\"screen\",\"value\":5},\"x\":{\"field\":\"x\"},\"y\":{\"field\":\"y\"}},\"id\":\"f06c19d2-2939-4443-921b-aa356bbf853d\",\"type\":\"Circle\"},{\"attributes\":{\"overlay\":{\"id\":\"8b74312a-0c37-409a-a949-87fd89089c91\",\"type\":\"BoxAnnotation\"}},\"id\":\"0442dd86-a614-4d59-b2f5-a57511661d4b\",\"type\":\"BoxZoomTool\"},{\"attributes\":{\"data_source\":{\"id\":\"fba1d152-2f33-4a70-a6cd-718b985c2b07\",\"type\":\"ColumnDataSource\"},\"glyph\":{\"id\":\"40a1d96b-5028-4795-89b7-36ce4ea5e9b3\",\"type\":\"Circle\"},\"hover_glyph\":null,\"muted_glyph\":null,\"nonselection_glyph\":{\"id\":\"80ee87a5-32b9-4eb3-a7e1-4548a402ec23\",\"type\":\"Circle\"},\"selection_glyph\":null,\"view\":{\"id\":\"b109a211-cd1a-42c5-a26f-40a238d78e52\",\"type\":\"CDSView\"}},\"id\":\"70d6c291-f5a9-4e2f-8ec6-472e61797e6c\",\"type\":\"GlyphRenderer\"},{\"attributes\":{\"fill_alpha\":{\"value\":0.1},\"fill_color\":{\"value\":\"#1f77b4\"},\"line_alpha\":{\"value\":0.1},\"line_color\":{\"value\":\"#1f77b4\"},\"size\":{\"units\":\"screen\",\"value\":5},\"x\":{\"field\":\"x\"},\"y\":{\"field\":\"y\"}},\"id\":\"80ee87a5-32b9-4eb3-a7e1-4548a402ec23\",\"type\":\"Circle\"},{\"attributes\":{\"callback\":null,\"column_names\":[\"y\",\"x\"],\"data\":{\"x\":[-10,-3.0588936890535687,-2.0588936890535687,-1.0588936890535685,0.0,1.0,2.0,3.0,7.0,9.0,10.0],\"y\":{\"__ndarray__\":\"nkZaKm+3KkCbG9MTlqgqQFWkwthCsCpADP0TXKyIKkBxxFp8CmAqQAx72uGvGSpAaozWUdV0KUC5x9KHLkgoQJUJv9TPeyVAzywJUFM7JUDlSdI1ky8lQA==\",\"dtype\":\"float64\",\"shape\":[11]}}},\"id\":\"ec5e885d-ca72-4318-b5c8-c1623e6671d8\",\"type\":\"ColumnDataSource\"},{\"attributes\":{\"source\":{\"id\":\"ec5e885d-ca72-4318-b5c8-c1623e6671d8\",\"type\":\"ColumnDataSource\"}},\"id\":\"eb25e714-aa1f-43c0-b800-9eb626b4ee3f\",\"type\":\"CDSView\"},{\"attributes\":{\"axis_label\":\"Weighted sum cost\",\"axis_label_text_color\":{\"value\":\"black\"},\"axis_label_text_font_size\":{\"value\":\"12pt\"},\"formatter\":{\"id\":\"334f259a-8825-44b0-8873-0036fad803e0\",\"type\":\"BasicTickFormatter\"},\"major_label_text_color\":{\"value\":\"black\"},\"major_label_text_font_size\":{\"value\":\"10pt\"},\"plot\":{\"id\":\"bf5b779a-a415-48b9-9d07-4efaf693156c\",\"subtype\":\"Figure\",\"type\":\"Plot\"},\"ticker\":{\"id\":\"ad8f3356-9452-40e8-b44a-c40bf837c4b9\",\"type\":\"BasicTicker\"}},\"id\":\"ce18f985-8585-4fce-81c9-de49b1dceef5\",\"type\":\"LinearAxis\"},{\"attributes\":{\"line_alpha\":{\"value\":0.1},\"line_color\":{\"value\":\"#1f77b4\"},\"line_dash\":[1,4],\"x\":{\"field\":\"x\"},\"y\":{\"field\":\"y\"}},\"id\":\"161f6036-cbaf-4bf4-ab18-fce5b61cfdeb\",\"type\":\"Line\"},{\"attributes\":{\"source\":{\"id\":\"99b41621-f626-4043-b184-ee39400cfb70\",\"type\":\"ColumnDataSource\"}},\"id\":\"b6b7a0eb-9b95-4bc2-aeb2-50f7b33aa682\",\"type\":\"CDSView\"},{\"attributes\":{\"source\":{\"id\":\"e4060b7f-7df2-44e4-8b6c-3776f96c6c46\",\"type\":\"ColumnDataSource\"}},\"id\":\"a7df31a0-b6df-40a5-9036-c8caafb82722\",\"type\":\"CDSView\"},{\"attributes\":{\"data_source\":{\"id\":\"c01d21fc-3ccd-4920-9100-e5af2efab8e9\",\"type\":\"ColumnDataSource\"},\"glyph\":{\"id\":\"f06c19d2-2939-4443-921b-aa356bbf853d\",\"type\":\"Circle\"},\"hover_glyph\":null,\"muted_glyph\":null,\"nonselection_glyph\":{\"id\":\"de952b00-ec92-4d83-bbf1-f41df73ab049\",\"type\":\"Circle\"},\"selection_glyph\":null,\"view\":{\"id\":\"364a0123-5115-4a26-abe5-6cd347b951af\",\"type\":\"CDSView\"}},\"id\":\"79dbb039-0067-48f2-b0dd-9b39d4142c77\",\"type\":\"GlyphRenderer\"},{\"attributes\":{\"callback\":null,\"column_names\":[\"y\",\"x\"],\"data\":{\"x\":[-10,-3.0588936890535687,-2.0588936890535687,-1.0588936890535685,0.02856915219677092,0.9855004303048849,2.007195501404204,2.996388746447621,6.999774561287003,8.999943643624247,10.00002817736235],\"y\":{\"__ndarray__\":\"lUiil1E8LEAcyeU/pC8sQD7QCgxZHSxAkBmojH8fLEDl1TkGZP8rQLyuX7AblitAVisTfqn/KkCMEB5tHPEpQIrIsIo3AiZAA5Xx7zOOJUB86IL6lnklQA==\",\"dtype\":\"float64\",\"shape\":[11]}}},\"id\":\"fdd3eb99-902e-487a-9681-74532c5729fa\",\"type\":\"ColumnDataSource\"},{\"attributes\":{\"source\":{\"id\":\"fdd3eb99-902e-487a-9681-74532c5729fa\",\"type\":\"ColumnDataSource\"}},\"id\":\"10b7b630-c71a-41cc-8c16-207166878212\",\"type\":\"CDSView\"},{\"attributes\":{\"label\":{\"value\":\"Small cell load = 0.2\"},\"renderers\":[{\"id\":\"63e34855-41fc-45c1-a17e-5f744a2a6875\",\"type\":\"GlyphRenderer\"}]},\"id\":\"cf8daddf-c01f-4481-a597-f63398ad6a9f\",\"type\":\"LegendItem\"},{\"attributes\":{},\"id\":\"cb8d62c5-9c8f-4196-8f61-b4ffa7545c61\",\"type\":\"PanTool\"},{\"attributes\":{},\"id\":\"d6312ffa-7fc4-40a6-837f-9e97e418051d\",\"type\":\"LinearScale\"},{\"attributes\":{\"bottom_units\":\"screen\",\"fill_alpha\":{\"value\":0.5},\"fill_color\":{\"value\":\"lightgrey\"},\"left_units\":\"screen\",\"level\":\"overlay\",\"line_alpha\":{\"value\":1.0},\"line_color\":{\"value\":\"black\"},\"line_dash\":[4,4],\"line_width\":{\"value\":2},\"plot\":null,\"render_mode\":\"css\",\"right_units\":\"screen\",\"top_units\":\"screen\"},\"id\":\"8b74312a-0c37-409a-a949-87fd89089c91\",\"type\":\"BoxAnnotation\"},{\"attributes\":{},\"id\":\"fdc70dfc-1f9f-4ed2-b966-a837eef1c23e\",\"type\":\"SaveTool\"}],\"root_ids\":[\"bf5b779a-a415-48b9-9d07-4efaf693156c\"]},\"title\":\"Bokeh Application\",\"version\":\"0.12.10\"}};\n",
       "    var render_items = [{\"docid\":\"a523b0dd-3d3b-4283-b349-efb25cfce440\",\"elementid\":\"1787c75b-8477-446c-82c5-6b6f98ba4a0f\",\"modelid\":\"bf5b779a-a415-48b9-9d07-4efaf693156c\"}];\n",
       "\n",
       "    root.Bokeh.embed.embed_items(docs_json, render_items);\n",
       "  }\n",
       "\n",
       "  if (root.Bokeh !== undefined) {\n",
       "    embed_document(root);\n",
       "  } else {\n",
       "    var attempts = 0;\n",
       "    var timer = setInterval(function(root) {\n",
       "      if (root.Bokeh !== undefined) {\n",
       "        embed_document(root);\n",
       "        clearInterval(timer);\n",
       "      }\n",
       "      attempts++;\n",
       "      if (attempts > 100) {\n",
       "        console.log(\"Bokeh: ERROR: Unable to embed document because BokehJS library is missing\")\n",
       "        clearInterval(timer);\n",
       "      }\n",
       "    }, 10, root)\n",
       "  }\n",
       "})(window);"
      ],
      "application/vnd.bokehjs_exec.v0+json": ""
     },
     "metadata": {
      "application/vnd.bokehjs_exec.v0+json": {
       "id": "bf5b779a-a415-48b9-9d07-4efaf693156c"
      }
     },
     "output_type": "display_data"
    }
   ],
   "source": [
    "df=pd.read_csv('setup_1.0_erws/output_1.csv', skiprows=1)\n",
    "\n",
    "if df.iloc[-1][0] > 0:\n",
    "    df = df.iloc[-1:]\n",
    "else:\n",
    "    df = df.iloc[1:2]\n",
    "\n",
    "for i in range(2,45):\n",
    "    df_tmp = pd.read_csv('setup_1.0_erws/output_'+str(i)+'.csv', skiprows=1)\n",
    "    #df_rnd_tmp = df_tmp.loc[0,:]\n",
    "    #df_rnd = df_rnd.append(df_rnd_tmp)\n",
    "    if df_tmp.iloc[-1][0] > 0:\n",
    "        df_tmp = df_tmp.iloc[-1:]\n",
    "    else:\n",
    "        df_tmp = df_tmp.iloc[1:2]\n",
    "    df = df.append(df_tmp)\n",
    "\n",
    "df['relative_idle_time'] = df.small_arrival * df.avg_idle_time\n",
    "\n",
    "p0 = figure(plot_width=600, plot_height=400)\n",
    "\n",
    "\n",
    "p0.line(logscale(1), df[df.small_arrival==1].avg_resp_time + 0.01 * df[df.small_arrival==1].avg_power, line_color='navy',legend='Small cell load = 0.05')\n",
    "p0.circle(logscale(1), df[df.small_arrival==1].avg_resp_time + 0.01 * df[df.small_arrival==1].avg_power, color='white', line_color='navy',size=5)\n",
    "p0.line(logscale(4), df[df.small_arrival==4].avg_resp_time + 0.01 * df[df.small_arrival==4].avg_power, line_color='navy',line_dash=\"15 2\",legend='Small cell load = 0.2')\n",
    "p0.circle(logscale(4), df[df.small_arrival==4].avg_resp_time + 0.01 * df[df.small_arrival==4].avg_power, color='white', line_color='navy',size=5)\n",
    "\n",
    "p0.line(logscale(6), df[df.small_arrival==6].avg_resp_time + 0.01 * df[df.small_arrival==6].avg_power, line_color='navy',line_dash=\"4 4\",legend='Small cell load = 0.32')\n",
    "p0.circle(logscale(6), df[df.small_arrival==6].avg_resp_time + 0.01 * df[df.small_arrival==6].avg_power, color='white', line_color='navy',size=5)\n",
    "\n",
    "p0.line(logscale(9), df[df.small_arrival==9].avg_resp_time + 0.01 * df[df.small_arrival==9].avg_power, line_color='navy',line_dash=\"1 4\",legend='Small cell load = 0.5')\n",
    "p0.circle(logscale(9), df[df.small_arrival==9].avg_resp_time + 0.01 * df[df.small_arrival==9].avg_power, color='white', line_color='navy',size=5)\n",
    "\n",
    "\n",
    "p0.grid.grid_line_dash = [2,2]\n",
    "p0.grid.grid_line_alpha = 0.1\n",
    "\n",
    "p0.xaxis.axis_label = 'idle time in logscale (relative to avg. inter-arrival time)'\n",
    "p0.yaxis.axis_label = 'Weighted sum cost'\n",
    "\n",
    "p0.xaxis.axis_label_text_color = 'black'\n",
    "p0.xaxis.axis_line_color = 'black'\n",
    "p0.xaxis.major_label_text_color = 'black'\n",
    "p0.xaxis.major_tick_line_color = 'black'\n",
    "p0.xaxis.minor_tick_line_color = 'black'\n",
    "\n",
    "p0.yaxis.axis_label_text_color = 'black'\n",
    "p0.yaxis.axis_line_color = 'black'\n",
    "p0.yaxis.major_label_text_color = 'black'\n",
    "p0.yaxis.major_tick_line_color = 'black'\n",
    "p0.yaxis.minor_tick_line_color = 'black'\n",
    "\n",
    "p0.legend.label_text_color = 'black'\n",
    "p0.legend.background_fill_alpha = 0.6\n",
    "p0.legend.background_fill_color = 'orange'\n",
    "p0.legend.location  = 'top_right'\n",
    "p0.outline_line_color = 'black'\n",
    "\n",
    "p0.axis.axis_label_text_font_size = '12pt'\n",
    "p0.axis.major_label_text_font_size = '10pt'\n",
    "#export_png(p0, filename='./weighted-sum-long-setup.png')\n",
    "\n",
    "show(p0)"
   ]
  },
  {
   "cell_type": "code",
   "execution_count": null,
   "metadata": {},
   "outputs": [],
   "source": []
  }
 ],
 "metadata": {
  "anaconda-cloud": {},
  "kernelspec": {
   "display_name": "Python [default]",
   "language": "python",
   "name": "python3"
  },
  "language_info": {
   "codemirror_mode": {
    "name": "ipython",
    "version": 3
   },
   "file_extension": ".py",
   "mimetype": "text/x-python",
   "name": "python",
   "nbconvert_exporter": "python",
   "pygments_lexer": "ipython3",
   "version": "3.5.2"
  }
 },
 "nbformat": 4,
 "nbformat_minor": 1
}
