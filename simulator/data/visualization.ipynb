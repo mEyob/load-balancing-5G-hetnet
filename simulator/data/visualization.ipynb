{
 "cells": [
  {
   "cell_type": "code",
   "execution_count": 32,
   "metadata": {},
   "outputs": [],
   "source": [
    "from bokeh.io import output_notebook, show\n",
    "from bokeh.plotting import figure"
   ]
  },
  {
   "cell_type": "code",
   "execution_count": 33,
   "metadata": {},
   "outputs": [
    {
     "data": {
      "text/html": [
       "\n",
       "    <div class=\"bk-root\">\n",
       "        <a href=\"https://bokeh.pydata.org\" target=\"_blank\" class=\"bk-logo bk-logo-small bk-logo-notebook\"></a>\n",
       "        <span id=\"578c0104-a319-4acf-af96-e7212c33e1a4\">Loading BokehJS ...</span>\n",
       "    </div>"
      ]
     },
     "metadata": {},
     "output_type": "display_data"
    },
    {
     "data": {
      "application/javascript": [
       "\n",
       "(function(root) {\n",
       "  function now() {\n",
       "    return new Date();\n",
       "  }\n",
       "\n",
       "  var force = true;\n",
       "\n",
       "  if (typeof (root._bokeh_onload_callbacks) === \"undefined\" || force === true) {\n",
       "    root._bokeh_onload_callbacks = [];\n",
       "    root._bokeh_is_loading = undefined;\n",
       "  }\n",
       "\n",
       "  var JS_MIME_TYPE = 'application/javascript';\n",
       "  var HTML_MIME_TYPE = 'text/html';\n",
       "  var EXEC_MIME_TYPE = 'application/vnd.bokehjs_exec.v0+json';\n",
       "  var CLASS_NAME = 'output_bokeh rendered_html';\n",
       "\n",
       "  /**\n",
       "   * Render data to the DOM node\n",
       "   */\n",
       "  function render(props, node) {\n",
       "    var script = document.createElement(\"script\");\n",
       "    node.appendChild(script);\n",
       "  }\n",
       "\n",
       "  /**\n",
       "   * Handle when an output is cleared or removed\n",
       "   */\n",
       "  function handleClearOutput(event, handle) {\n",
       "    var cell = handle.cell;\n",
       "\n",
       "    var id = cell.output_area._bokeh_element_id;\n",
       "    var server_id = cell.output_area._bokeh_server_id;\n",
       "    // Clean up Bokeh references\n",
       "    if (id !== undefined) {\n",
       "      Bokeh.index[id].model.document.clear();\n",
       "      delete Bokeh.index[id];\n",
       "    }\n",
       "\n",
       "    if (server_id !== undefined) {\n",
       "      // Clean up Bokeh references\n",
       "      var cmd = \"from bokeh.io.state import curstate; print(curstate().uuid_to_server['\" + server_id + \"'].get_sessions()[0].document.roots[0]._id)\";\n",
       "      cell.notebook.kernel.execute(cmd, {\n",
       "        iopub: {\n",
       "          output: function(msg) {\n",
       "            var element_id = msg.content.text.trim();\n",
       "            Bokeh.index[element_id].model.document.clear();\n",
       "            delete Bokeh.index[element_id];\n",
       "          }\n",
       "        }\n",
       "      });\n",
       "      // Destroy server and session\n",
       "      var cmd = \"import bokeh.io.notebook as ion; ion.destroy_server('\" + server_id + \"')\";\n",
       "      cell.notebook.kernel.execute(cmd);\n",
       "    }\n",
       "  }\n",
       "\n",
       "  /**\n",
       "   * Handle when a new output is added\n",
       "   */\n",
       "  function handleAddOutput(event, handle) {\n",
       "    var output_area = handle.output_area;\n",
       "    var output = handle.output;\n",
       "\n",
       "    // limit handleAddOutput to display_data with EXEC_MIME_TYPE content only\n",
       "    if ((output.output_type != \"display_data\") || (!output.data.hasOwnProperty(EXEC_MIME_TYPE))) {\n",
       "      return\n",
       "    }\n",
       "\n",
       "    var toinsert = output_area.element.find(`.${CLASS_NAME.split(' ')[0]}`);\n",
       "\n",
       "    if (output.metadata[EXEC_MIME_TYPE][\"id\"] !== undefined) {\n",
       "      toinsert[0].firstChild.textContent = output.data[JS_MIME_TYPE];\n",
       "      // store reference to embed id on output_area\n",
       "      output_area._bokeh_element_id = output.metadata[EXEC_MIME_TYPE][\"id\"];\n",
       "    }\n",
       "    if (output.metadata[EXEC_MIME_TYPE][\"server_id\"] !== undefined) {\n",
       "      var bk_div = document.createElement(\"div\");\n",
       "      bk_div.innerHTML = output.data[HTML_MIME_TYPE];\n",
       "      var script_attrs = bk_div.children[0].attributes;\n",
       "      for (var i = 0; i < script_attrs.length; i++) {\n",
       "        toinsert[0].firstChild.setAttribute(script_attrs[i].name, script_attrs[i].value);\n",
       "      }\n",
       "      // store reference to server id on output_area\n",
       "      output_area._bokeh_server_id = output.metadata[EXEC_MIME_TYPE][\"server_id\"];\n",
       "    }\n",
       "  }\n",
       "\n",
       "  function register_renderer(events, OutputArea) {\n",
       "\n",
       "    function append_mime(data, metadata, element) {\n",
       "      // create a DOM node to render to\n",
       "      var toinsert = this.create_output_subarea(\n",
       "        metadata,\n",
       "        CLASS_NAME,\n",
       "        EXEC_MIME_TYPE\n",
       "      );\n",
       "      this.keyboard_manager.register_events(toinsert);\n",
       "      // Render to node\n",
       "      var props = {data: data, metadata: metadata[EXEC_MIME_TYPE]};\n",
       "      render(props, toinsert[0]);\n",
       "      element.append(toinsert);\n",
       "      return toinsert\n",
       "    }\n",
       "\n",
       "    /* Handle when an output is cleared or removed */\n",
       "    events.on('clear_output.CodeCell', handleClearOutput);\n",
       "    events.on('delete.Cell', handleClearOutput);\n",
       "\n",
       "    /* Handle when a new output is added */\n",
       "    events.on('output_added.OutputArea', handleAddOutput);\n",
       "\n",
       "    /**\n",
       "     * Register the mime type and append_mime function with output_area\n",
       "     */\n",
       "    OutputArea.prototype.register_mime_type(EXEC_MIME_TYPE, append_mime, {\n",
       "      /* Is output safe? */\n",
       "      safe: true,\n",
       "      /* Index of renderer in `output_area.display_order` */\n",
       "      index: 0\n",
       "    });\n",
       "  }\n",
       "\n",
       "  // register the mime type if in Jupyter Notebook environment and previously unregistered\n",
       "  if (root.Jupyter !== undefined) {\n",
       "    var events = require('base/js/events');\n",
       "    var OutputArea = require('notebook/js/outputarea').OutputArea;\n",
       "\n",
       "    if (OutputArea.prototype.mime_types().indexOf(EXEC_MIME_TYPE) == -1) {\n",
       "      register_renderer(events, OutputArea);\n",
       "    }\n",
       "  }\n",
       "\n",
       "  \n",
       "  if (typeof (root._bokeh_timeout) === \"undefined\" || force === true) {\n",
       "    root._bokeh_timeout = Date.now() + 5000;\n",
       "    root._bokeh_failed_load = false;\n",
       "  }\n",
       "\n",
       "  var NB_LOAD_WARNING = {'data': {'text/html':\n",
       "     \"<div style='background-color: #fdd'>\\n\"+\n",
       "     \"<p>\\n\"+\n",
       "     \"BokehJS does not appear to have successfully loaded. If loading BokehJS from CDN, this \\n\"+\n",
       "     \"may be due to a slow or bad network connection. Possible fixes:\\n\"+\n",
       "     \"</p>\\n\"+\n",
       "     \"<ul>\\n\"+\n",
       "     \"<li>re-rerun `output_notebook()` to attempt to load from CDN again, or</li>\\n\"+\n",
       "     \"<li>use INLINE resources instead, as so:</li>\\n\"+\n",
       "     \"</ul>\\n\"+\n",
       "     \"<code>\\n\"+\n",
       "     \"from bokeh.resources import INLINE\\n\"+\n",
       "     \"output_notebook(resources=INLINE)\\n\"+\n",
       "     \"</code>\\n\"+\n",
       "     \"</div>\"}};\n",
       "\n",
       "  function display_loaded() {\n",
       "    var el = document.getElementById(\"578c0104-a319-4acf-af96-e7212c33e1a4\");\n",
       "    if (el != null) {\n",
       "      el.textContent = \"BokehJS is loading...\";\n",
       "    }\n",
       "    if (root.Bokeh !== undefined) {\n",
       "      if (el != null) {\n",
       "        el.textContent = \"BokehJS \" + root.Bokeh.version + \" successfully loaded.\";\n",
       "      }\n",
       "    } else if (Date.now() < root._bokeh_timeout) {\n",
       "      setTimeout(display_loaded, 100)\n",
       "    }\n",
       "  }\n",
       "\n",
       "\n",
       "  function run_callbacks() {\n",
       "    try {\n",
       "      root._bokeh_onload_callbacks.forEach(function(callback) { callback() });\n",
       "    }\n",
       "    finally {\n",
       "      delete root._bokeh_onload_callbacks\n",
       "    }\n",
       "    console.info(\"Bokeh: all callbacks have finished\");\n",
       "  }\n",
       "\n",
       "  function load_libs(js_urls, callback) {\n",
       "    root._bokeh_onload_callbacks.push(callback);\n",
       "    if (root._bokeh_is_loading > 0) {\n",
       "      console.log(\"Bokeh: BokehJS is being loaded, scheduling callback at\", now());\n",
       "      return null;\n",
       "    }\n",
       "    if (js_urls == null || js_urls.length === 0) {\n",
       "      run_callbacks();\n",
       "      return null;\n",
       "    }\n",
       "    console.log(\"Bokeh: BokehJS not loaded, scheduling load and callback at\", now());\n",
       "    root._bokeh_is_loading = js_urls.length;\n",
       "    for (var i = 0; i < js_urls.length; i++) {\n",
       "      var url = js_urls[i];\n",
       "      var s = document.createElement('script');\n",
       "      s.src = url;\n",
       "      s.async = false;\n",
       "      s.onreadystatechange = s.onload = function() {\n",
       "        root._bokeh_is_loading--;\n",
       "        if (root._bokeh_is_loading === 0) {\n",
       "          console.log(\"Bokeh: all BokehJS libraries loaded\");\n",
       "          run_callbacks()\n",
       "        }\n",
       "      };\n",
       "      s.onerror = function() {\n",
       "        console.warn(\"failed to load library \" + url);\n",
       "      };\n",
       "      console.log(\"Bokeh: injecting script tag for BokehJS library: \", url);\n",
       "      document.getElementsByTagName(\"head\")[0].appendChild(s);\n",
       "    }\n",
       "  };var element = document.getElementById(\"578c0104-a319-4acf-af96-e7212c33e1a4\");\n",
       "  if (element == null) {\n",
       "    console.log(\"Bokeh: ERROR: autoload.js configured with elementid '578c0104-a319-4acf-af96-e7212c33e1a4' but no matching script tag was found. \")\n",
       "    return false;\n",
       "  }\n",
       "\n",
       "  var js_urls = [\"https://cdn.pydata.org/bokeh/release/bokeh-0.12.10.min.js\", \"https://cdn.pydata.org/bokeh/release/bokeh-widgets-0.12.10.min.js\", \"https://cdn.pydata.org/bokeh/release/bokeh-tables-0.12.10.min.js\", \"https://cdn.pydata.org/bokeh/release/bokeh-gl-0.12.10.min.js\"];\n",
       "\n",
       "  var inline_js = [\n",
       "    function(Bokeh) {\n",
       "      Bokeh.set_log_level(\"info\");\n",
       "    },\n",
       "    \n",
       "    function(Bokeh) {\n",
       "      \n",
       "    },\n",
       "    function(Bokeh) {\n",
       "      console.log(\"Bokeh: injecting CSS: https://cdn.pydata.org/bokeh/release/bokeh-0.12.10.min.css\");\n",
       "      Bokeh.embed.inject_css(\"https://cdn.pydata.org/bokeh/release/bokeh-0.12.10.min.css\");\n",
       "      console.log(\"Bokeh: injecting CSS: https://cdn.pydata.org/bokeh/release/bokeh-widgets-0.12.10.min.css\");\n",
       "      Bokeh.embed.inject_css(\"https://cdn.pydata.org/bokeh/release/bokeh-widgets-0.12.10.min.css\");\n",
       "      console.log(\"Bokeh: injecting CSS: https://cdn.pydata.org/bokeh/release/bokeh-tables-0.12.10.min.css\");\n",
       "      Bokeh.embed.inject_css(\"https://cdn.pydata.org/bokeh/release/bokeh-tables-0.12.10.min.css\");\n",
       "    }\n",
       "  ];\n",
       "\n",
       "  function run_inline_js() {\n",
       "    \n",
       "    if ((root.Bokeh !== undefined) || (force === true)) {\n",
       "      for (var i = 0; i < inline_js.length; i++) {\n",
       "        inline_js[i].call(root, root.Bokeh);\n",
       "      }if (force === true) {\n",
       "        display_loaded();\n",
       "      }} else if (Date.now() < root._bokeh_timeout) {\n",
       "      setTimeout(run_inline_js, 100);\n",
       "    } else if (!root._bokeh_failed_load) {\n",
       "      console.log(\"Bokeh: BokehJS failed to load within specified timeout.\");\n",
       "      root._bokeh_failed_load = true;\n",
       "    } else if (force !== true) {\n",
       "      var cell = $(document.getElementById(\"578c0104-a319-4acf-af96-e7212c33e1a4\")).parents('.cell').data().cell;\n",
       "      cell.output_area.append_execute_result(NB_LOAD_WARNING)\n",
       "    }\n",
       "\n",
       "  }\n",
       "\n",
       "  if (root._bokeh_is_loading === 0) {\n",
       "    console.log(\"Bokeh: BokehJS loaded, going straight to plotting\");\n",
       "    run_inline_js();\n",
       "  } else {\n",
       "    load_libs(js_urls, function() {\n",
       "      console.log(\"Bokeh: BokehJS plotting callback run at\", now());\n",
       "      run_inline_js();\n",
       "    });\n",
       "  }\n",
       "}(window));"
      ],
      "application/vnd.bokehjs_load.v0+json": "\n(function(root) {\n  function now() {\n    return new Date();\n  }\n\n  var force = true;\n\n  if (typeof (root._bokeh_onload_callbacks) === \"undefined\" || force === true) {\n    root._bokeh_onload_callbacks = [];\n    root._bokeh_is_loading = undefined;\n  }\n\n  \n\n  \n  if (typeof (root._bokeh_timeout) === \"undefined\" || force === true) {\n    root._bokeh_timeout = Date.now() + 5000;\n    root._bokeh_failed_load = false;\n  }\n\n  var NB_LOAD_WARNING = {'data': {'text/html':\n     \"<div style='background-color: #fdd'>\\n\"+\n     \"<p>\\n\"+\n     \"BokehJS does not appear to have successfully loaded. If loading BokehJS from CDN, this \\n\"+\n     \"may be due to a slow or bad network connection. Possible fixes:\\n\"+\n     \"</p>\\n\"+\n     \"<ul>\\n\"+\n     \"<li>re-rerun `output_notebook()` to attempt to load from CDN again, or</li>\\n\"+\n     \"<li>use INLINE resources instead, as so:</li>\\n\"+\n     \"</ul>\\n\"+\n     \"<code>\\n\"+\n     \"from bokeh.resources import INLINE\\n\"+\n     \"output_notebook(resources=INLINE)\\n\"+\n     \"</code>\\n\"+\n     \"</div>\"}};\n\n  function display_loaded() {\n    var el = document.getElementById(\"578c0104-a319-4acf-af96-e7212c33e1a4\");\n    if (el != null) {\n      el.textContent = \"BokehJS is loading...\";\n    }\n    if (root.Bokeh !== undefined) {\n      if (el != null) {\n        el.textContent = \"BokehJS \" + root.Bokeh.version + \" successfully loaded.\";\n      }\n    } else if (Date.now() < root._bokeh_timeout) {\n      setTimeout(display_loaded, 100)\n    }\n  }\n\n\n  function run_callbacks() {\n    try {\n      root._bokeh_onload_callbacks.forEach(function(callback) { callback() });\n    }\n    finally {\n      delete root._bokeh_onload_callbacks\n    }\n    console.info(\"Bokeh: all callbacks have finished\");\n  }\n\n  function load_libs(js_urls, callback) {\n    root._bokeh_onload_callbacks.push(callback);\n    if (root._bokeh_is_loading > 0) {\n      console.log(\"Bokeh: BokehJS is being loaded, scheduling callback at\", now());\n      return null;\n    }\n    if (js_urls == null || js_urls.length === 0) {\n      run_callbacks();\n      return null;\n    }\n    console.log(\"Bokeh: BokehJS not loaded, scheduling load and callback at\", now());\n    root._bokeh_is_loading = js_urls.length;\n    for (var i = 0; i < js_urls.length; i++) {\n      var url = js_urls[i];\n      var s = document.createElement('script');\n      s.src = url;\n      s.async = false;\n      s.onreadystatechange = s.onload = function() {\n        root._bokeh_is_loading--;\n        if (root._bokeh_is_loading === 0) {\n          console.log(\"Bokeh: all BokehJS libraries loaded\");\n          run_callbacks()\n        }\n      };\n      s.onerror = function() {\n        console.warn(\"failed to load library \" + url);\n      };\n      console.log(\"Bokeh: injecting script tag for BokehJS library: \", url);\n      document.getElementsByTagName(\"head\")[0].appendChild(s);\n    }\n  };var element = document.getElementById(\"578c0104-a319-4acf-af96-e7212c33e1a4\");\n  if (element == null) {\n    console.log(\"Bokeh: ERROR: autoload.js configured with elementid '578c0104-a319-4acf-af96-e7212c33e1a4' but no matching script tag was found. \")\n    return false;\n  }\n\n  var js_urls = [\"https://cdn.pydata.org/bokeh/release/bokeh-0.12.10.min.js\", \"https://cdn.pydata.org/bokeh/release/bokeh-widgets-0.12.10.min.js\", \"https://cdn.pydata.org/bokeh/release/bokeh-tables-0.12.10.min.js\", \"https://cdn.pydata.org/bokeh/release/bokeh-gl-0.12.10.min.js\"];\n\n  var inline_js = [\n    function(Bokeh) {\n      Bokeh.set_log_level(\"info\");\n    },\n    \n    function(Bokeh) {\n      \n    },\n    function(Bokeh) {\n      console.log(\"Bokeh: injecting CSS: https://cdn.pydata.org/bokeh/release/bokeh-0.12.10.min.css\");\n      Bokeh.embed.inject_css(\"https://cdn.pydata.org/bokeh/release/bokeh-0.12.10.min.css\");\n      console.log(\"Bokeh: injecting CSS: https://cdn.pydata.org/bokeh/release/bokeh-widgets-0.12.10.min.css\");\n      Bokeh.embed.inject_css(\"https://cdn.pydata.org/bokeh/release/bokeh-widgets-0.12.10.min.css\");\n      console.log(\"Bokeh: injecting CSS: https://cdn.pydata.org/bokeh/release/bokeh-tables-0.12.10.min.css\");\n      Bokeh.embed.inject_css(\"https://cdn.pydata.org/bokeh/release/bokeh-tables-0.12.10.min.css\");\n    }\n  ];\n\n  function run_inline_js() {\n    \n    if ((root.Bokeh !== undefined) || (force === true)) {\n      for (var i = 0; i < inline_js.length; i++) {\n        inline_js[i].call(root, root.Bokeh);\n      }if (force === true) {\n        display_loaded();\n      }} else if (Date.now() < root._bokeh_timeout) {\n      setTimeout(run_inline_js, 100);\n    } else if (!root._bokeh_failed_load) {\n      console.log(\"Bokeh: BokehJS failed to load within specified timeout.\");\n      root._bokeh_failed_load = true;\n    } else if (force !== true) {\n      var cell = $(document.getElementById(\"578c0104-a319-4acf-af96-e7212c33e1a4\")).parents('.cell').data().cell;\n      cell.output_area.append_execute_result(NB_LOAD_WARNING)\n    }\n\n  }\n\n  if (root._bokeh_is_loading === 0) {\n    console.log(\"Bokeh: BokehJS loaded, going straight to plotting\");\n    run_inline_js();\n  } else {\n    load_libs(js_urls, function() {\n      console.log(\"Bokeh: BokehJS plotting callback run at\", now());\n      run_inline_js();\n    });\n  }\n}(window));"
     },
     "metadata": {},
     "output_type": "display_data"
    }
   ],
   "source": [
    "output_notebook()"
   ]
  },
  {
   "cell_type": "code",
   "execution_count": 34,
   "metadata": {},
   "outputs": [],
   "source": [
    "import pandas as pd\n",
    "\n",
    "from bokeh.models import LinearAxis, Range1d, LabelSet, ColumnDataSource\n",
    "from bokeh.layouts import gridplot, row"
   ]
  },
  {
   "cell_type": "code",
   "execution_count": 35,
   "metadata": {},
   "outputs": [],
   "source": [
    "from math import sqrt\n",
    "import numpy as np"
   ]
  },
  {
   "cell_type": "code",
   "execution_count": 36,
   "metadata": {},
   "outputs": [],
   "source": [
    "from bokeh.io import export_png"
   ]
  },
  {
   "cell_type": "code",
   "execution_count": 37,
   "metadata": {},
   "outputs": [
    {
     "name": "stdout",
     "output_type": "stream",
     "text": [
      "\u001b[34mbak\u001b[m\u001b[m/                  \u001b[34msetup_1.0\u001b[m\u001b[m/            test.csv\r\n",
      "result.csv            \u001b[34msetup_1.0_erws\u001b[m\u001b[m/       visualization.ipynb\r\n",
      "\u001b[34msetup_0.05\u001b[m\u001b[m/           test-lb-policy.csv    visualization2.ipynb\r\n",
      "\u001b[34msetup_0.05_erws\u001b[m\u001b[m/      test-test.csv\r\n"
     ]
    }
   ],
   "source": [
    "%ls"
   ]
  },
  {
   "cell_type": "markdown",
   "metadata": {},
   "source": [
    "# 1. Constrained optimization"
   ]
  },
  {
   "cell_type": "markdown",
   "metadata": {},
   "source": [
    "## 1.1 Short setup delay"
   ]
  },
  {
   "cell_type": "code",
   "execution_count": 38,
   "metadata": {},
   "outputs": [],
   "source": [
    "df=pd.read_csv('setup_0.05/output_1.csv', skiprows=1)\n",
    "\n",
    "if df.iloc[-1][0] > 0:\n",
    "    df = df.iloc[-1:]\n",
    "else:\n",
    "    df = df.iloc[1:2]\n",
    "\n",
    "for i in range(2,45):\n",
    "    df_tmp = pd.read_csv('setup_0.05/output_'+str(i)+'.csv', skiprows=1)\n",
    "    if df_tmp.iloc[-1][0] > 0:\n",
    "        df_tmp = df_tmp.iloc[-1:]\n",
    "    else:\n",
    "        df_tmp = df_tmp.iloc[1:2]\n",
    "    df = df.append(df_tmp)\n",
    "\n",
    "df['relative_idle_time'] = df.small_arrival * df.avg_idle_time\n",
    "#df.relative_idle_time    = df.relative_idle_time.apply(lambda x: round(x))\n",
    "\n",
    "#df_rnd.relative_idle_time    = df_rnd.relative_idle_time.apply(lambda x: round(x))"
   ]
  },
  {
   "cell_type": "code",
   "execution_count": 39,
   "metadata": {},
   "outputs": [],
   "source": [
    "def logscale(arrival):\n",
    "    rel_idle = df[df.small_arrival==arrival].relative_idle_time\n",
    "    rel_idle = rel_idle.apply(lambda x: np.log2(x)).tolist()\n",
    "    rel_idle.pop(0)\n",
    "    rel_idle.insert(0, -10)\n",
    "    \n",
    "    return rel_idle"
   ]
  },
  {
   "cell_type": "code",
   "execution_count": 40,
   "metadata": {},
   "outputs": [
    {
     "data": {
      "text/html": [
       "\n",
       "<div class=\"bk-root\">\n",
       "    <div class=\"bk-plotdiv\" id=\"b70d0b1d-6566-4c5a-a32f-b3f5085ba1bf\"></div>\n",
       "</div>"
      ]
     },
     "metadata": {},
     "output_type": "display_data"
    },
    {
     "data": {
      "application/javascript": [
       "(function(root) {\n",
       "  function embed_document(root) {\n",
       "    var docs_json = {\"2a2b12b0-c9ac-4676-bf38-9a79d681d7b6\":{\"roots\":{\"references\":[{\"attributes\":{\"line_color\":{\"value\":\"navy\"},\"line_dash\":[4,4],\"x\":{\"field\":\"x\"},\"y\":{\"field\":\"y\"}},\"id\":\"0cb9fe2d-04f1-462f-884c-7b3a84bce625\",\"type\":\"Line\"},{\"attributes\":{\"callback\":null,\"column_names\":[\"x\",\"y\"],\"data\":{\"x\":[-10,-3.473931188332412,-1.8889686876112561,-0.888968687611256,-0.014499569695115089,0.9855004303048849,1.9855004303048849,3.0018022426339854,6.999774561287003,9.00002817736235,10.00002817736235],\"y\":{\"__ndarray__\":\"oI7HDFTGvz9L5e0IpwW/P6VmD7QCQ74/C7CPTl35vD/RlnMpriq7P35S7dPxmLk/MEeP39v0tz9z9Pi9TX+2P6kwthDkoLQ/JQaBlUOLtD9wlLw6x4C0Pw==\",\"dtype\":\"float64\",\"shape\":[11]}}},\"id\":\"2db48bd4-f41a-46ec-9d5d-fe4458afc76e\",\"type\":\"ColumnDataSource\"},{\"attributes\":{\"axis_label\":\"idle time in logscale (relative to avg. inter-arrival time)\",\"axis_label_text_color\":{\"value\":\"black\"},\"axis_label_text_font_size\":{\"value\":\"12pt\"},\"formatter\":{\"id\":\"8ba12fd2-e2c8-4e8a-98c8-1e4777913878\",\"type\":\"BasicTickFormatter\"},\"major_label_text_color\":{\"value\":\"black\"},\"major_label_text_font_size\":{\"value\":\"10pt\"},\"plot\":{\"id\":\"e42d20dc-b814-47ee-89bc-71cc788e8109\",\"subtype\":\"Figure\",\"type\":\"Plot\"},\"ticker\":{\"id\":\"f2b04825-9b24-4416-add9-0dc12ac040ea\",\"type\":\"BasicTicker\"}},\"id\":\"734578f9-bbea-4d68-8a39-49eac2730d01\",\"type\":\"LinearAxis\"},{\"attributes\":{\"callback\":null,\"column_names\":[\"x\",\"y\"],\"data\":{\"x\":[-10,-3.0588936890535687,-2.0588936890535687,-1.0588936890535685,0.02856915219677092,0.9855004303048849,2.007195501404204,2.996388746447621,6.999774561287003,8.999943643624247,10.00002817736235],\"y\":{\"__ndarray__\":\"UfcBSG3ivD94I/PIHwy8P6FP5EnSNbs/zvxqDhDMuT9GKowtBDm4P76fGi/dJLY/ECOERxtHtD9bJVgczvyyP2lv8IXJVLE/QpqxaDo7sT9d4V0u4juxPw==\",\"dtype\":\"float64\",\"shape\":[11]}}},\"id\":\"b2df5d70-f7f9-4475-8ad5-1f709ad4b121\",\"type\":\"ColumnDataSource\"},{\"attributes\":{\"fill_color\":{\"value\":\"white\"},\"line_color\":{\"value\":\"navy\"},\"size\":{\"units\":\"screen\",\"value\":5},\"x\":{\"field\":\"x\"},\"y\":{\"field\":\"y\"}},\"id\":\"41c53178-dcc1-4aee-926b-4bb2041de0c4\",\"type\":\"Circle\"},{\"attributes\":{\"callback\":null,\"column_names\":[\"x\",\"y\"],\"data\":{\"x\":[-10,-3.0588936890535687,-2.0,-1.0,0.0,1.0,2.0,3.0,7.0,9.0,10.0],\"y\":{\"__ndarray__\":\"pmH4iJgSuT+Mf59x4UC4P1QdcjPcgLc/jC0EOShhtj889x4uOe60P0gWMIFbd7M/DsNHxJRIsj/04O6s3XaxP9jw9EpZhrA/7vDXZI16sD8/xty1hHywPw==\",\"dtype\":\"float64\",\"shape\":[11]}}},\"id\":\"642a9403-d766-45c7-840c-8a7aec5bde7d\",\"type\":\"ColumnDataSource\"},{\"attributes\":{\"data_source\":{\"id\":\"f01b2701-d2af-4646-99d9-f952c87c0707\",\"type\":\"ColumnDataSource\"},\"glyph\":{\"id\":\"6eb61ca6-6051-4296-8215-876a1d515b1c\",\"type\":\"Line\"},\"hover_glyph\":null,\"muted_glyph\":null,\"nonselection_glyph\":{\"id\":\"7521d15e-cbc7-447e-9014-3787906c71a7\",\"type\":\"Line\"},\"selection_glyph\":null,\"view\":{\"id\":\"50ea576f-34ed-4bf9-904a-2733b4ff5b6c\",\"type\":\"CDSView\"}},\"id\":\"e0bcee75-1a1b-4544-818b-e5634e981240\",\"type\":\"GlyphRenderer\"},{\"attributes\":{\"callback\":null,\"column_names\":[\"x\",\"y\"],\"data\":{\"x\":[-10,-3.0588936890535687,-2.0588936890535687,-1.0588936890535685,0.0,1.0,2.0,3.0,7.0,9.0,10.0],\"y\":{\"__ndarray__\":\"iiR6GcVyuz8AGM+goX+6P48ZqIx/n7k/LPGAsilXuD8AkX77OnC2P9dppKXydrQ/32xzY3rCsj8tfeiC+paxP4tx/iYUIrA/tXHEWnwKsD9inL8JhQiwPw==\",\"dtype\":\"float64\",\"shape\":[11]}}},\"id\":\"fb02112a-33b9-426c-b2f6-b9d5f6661627\",\"type\":\"ColumnDataSource\"},{\"attributes\":{},\"id\":\"3281096a-74bc-4e93-8bb4-ff0ddc1c2d50\",\"type\":\"BasicTicker\"},{\"attributes\":{},\"id\":\"dd01820b-84c1-4e83-a61b-fd30a9a5de4d\",\"type\":\"LinearScale\"},{\"attributes\":{\"source\":{\"id\":\"f01b2701-d2af-4646-99d9-f952c87c0707\",\"type\":\"ColumnDataSource\"}},\"id\":\"50ea576f-34ed-4bf9-904a-2733b4ff5b6c\",\"type\":\"CDSView\"},{\"attributes\":{\"line_color\":{\"value\":\"navy\"},\"x\":{\"field\":\"x\"},\"y\":{\"field\":\"y\"}},\"id\":\"6eb61ca6-6051-4296-8215-876a1d515b1c\",\"type\":\"Line\"},{\"attributes\":{\"source\":{\"id\":\"98000eeb-42ff-4576-a671-d866f5ccaf29\",\"type\":\"ColumnDataSource\"}},\"id\":\"9380f15a-e844-42b8-ba65-9182ea0e3176\",\"type\":\"CDSView\"},{\"attributes\":{\"items\":[{\"id\":\"44bf78b8-5470-474d-b71d-fab03fbf3932\",\"type\":\"LegendItem\"},{\"id\":\"20f8c7dc-21b9-4b3d-8146-96fc33506ff2\",\"type\":\"LegendItem\"},{\"id\":\"9d02942a-6837-4d59-b9d7-7841d1634b8b\",\"type\":\"LegendItem\"},{\"id\":\"cc62fba1-77f6-470e-ba2c-b2a18b7b9e5a\",\"type\":\"LegendItem\"},{\"id\":\"0cb4f610-9234-4f11-891b-4e57664873d3\",\"type\":\"LegendItem\"}],\"label_text_color\":{\"value\":\"black\"},\"plot\":{\"id\":\"e42d20dc-b814-47ee-89bc-71cc788e8109\",\"subtype\":\"Figure\",\"type\":\"Plot\"}},\"id\":\"1c66d48d-be91-43fd-a472-e3a36ffe043b\",\"type\":\"Legend\"},{\"attributes\":{\"source\":{\"id\":\"b2df5d70-f7f9-4475-8ad5-1f709ad4b121\",\"type\":\"ColumnDataSource\"}},\"id\":\"6e924766-64b1-4c6e-9fdc-6b62e5d881cf\",\"type\":\"CDSView\"},{\"attributes\":{\"callback\":null,\"column_names\":[\"x\",\"y\"],\"data\":{\"x\":[-10,0,1,2,10],\"y\":{\"__ndarray__\":\"mpmZmZmZuT+amZmZmZm5P5qZmZmZmbk/mpmZmZmZuT+amZmZmZm5Pw==\",\"dtype\":\"float64\",\"shape\":[5]}}},\"id\":\"5fdaeba7-23a1-480d-8291-b6f54bb5aac8\",\"type\":\"ColumnDataSource\"},{\"attributes\":{\"line_alpha\":{\"value\":0.1},\"line_color\":{\"value\":\"#1f77b4\"},\"x\":{\"field\":\"x\"},\"y\":{\"field\":\"y\"}},\"id\":\"0762199c-b41e-4995-b1c2-df77c7ad282d\",\"type\":\"Line\"},{\"attributes\":{\"line_alpha\":{\"value\":0.1},\"line_color\":{\"value\":\"#1f77b4\"},\"line_dash\":[1,4],\"x\":{\"field\":\"x\"},\"y\":{\"field\":\"y\"}},\"id\":\"b7b48e6d-de99-4056-8b85-7db485616442\",\"type\":\"Line\"},{\"attributes\":{\"fill_alpha\":{\"value\":0.1},\"fill_color\":{\"value\":\"#1f77b4\"},\"line_alpha\":{\"value\":0.1},\"line_color\":{\"value\":\"#1f77b4\"},\"size\":{\"units\":\"screen\",\"value\":5},\"x\":{\"field\":\"x\"},\"y\":{\"field\":\"y\"}},\"id\":\"560233bc-6b4c-42bc-83ce-000b6800c054\",\"type\":\"Circle\"},{\"attributes\":{\"data_source\":{\"id\":\"98000eeb-42ff-4576-a671-d866f5ccaf29\",\"type\":\"ColumnDataSource\"},\"glyph\":{\"id\":\"feae66c2-c8a9-4fe0-bf06-855ea9787dfb\",\"type\":\"Line\"},\"hover_glyph\":null,\"muted_glyph\":null,\"nonselection_glyph\":{\"id\":\"b7b48e6d-de99-4056-8b85-7db485616442\",\"type\":\"Line\"},\"selection_glyph\":null,\"view\":{\"id\":\"9380f15a-e844-42b8-ba65-9182ea0e3176\",\"type\":\"CDSView\"}},\"id\":\"71fec66a-61c6-468b-8148-5b45cf0d98d8\",\"type\":\"GlyphRenderer\"},{\"attributes\":{\"source\":{\"id\":\"fb02112a-33b9-426c-b2f6-b9d5f6661627\",\"type\":\"ColumnDataSource\"}},\"id\":\"2a284493-a703-4ced-a892-29e567e733f6\",\"type\":\"CDSView\"},{\"attributes\":{},\"id\":\"00a67f16-cb11-4f13-bc86-32167ee40b34\",\"type\":\"ResetTool\"},{\"attributes\":{\"source\":{\"id\":\"7bb96211-f96b-49ac-9845-776bc32b47c3\",\"type\":\"ColumnDataSource\"}},\"id\":\"fb6d3814-86ad-41f6-9bfd-9e8d2b45c42b\",\"type\":\"CDSView\"},{\"attributes\":{\"callback\":null,\"column_names\":[\"x\",\"y\"],\"data\":{\"x\":[-10,-3.0588936890535687,-2.0588936890535687,-1.0588936890535685,0.0,1.0,2.0,3.0,7.0,9.0,10.0],\"y\":{\"__ndarray__\":\"iiR6GcVyuz8AGM+goX+6P48ZqIx/n7k/LPGAsilXuD8AkX77OnC2P9dppKXydrQ/32xzY3rCsj8tfeiC+paxP4tx/iYUIrA/tXHEWnwKsD9inL8JhQiwPw==\",\"dtype\":\"float64\",\"shape\":[11]}}},\"id\":\"7bb96211-f96b-49ac-9845-776bc32b47c3\",\"type\":\"ColumnDataSource\"},{\"attributes\":{\"data_source\":{\"id\":\"fb02112a-33b9-426c-b2f6-b9d5f6661627\",\"type\":\"ColumnDataSource\"},\"glyph\":{\"id\":\"ab1718b7-cbab-400d-ab4f-e45263e2bf38\",\"type\":\"Circle\"},\"hover_glyph\":null,\"muted_glyph\":null,\"nonselection_glyph\":{\"id\":\"e0625b37-c355-4a8d-8509-6be040ef8706\",\"type\":\"Circle\"},\"selection_glyph\":null,\"view\":{\"id\":\"2a284493-a703-4ced-a892-29e567e733f6\",\"type\":\"CDSView\"}},\"id\":\"ce60b00c-1479-4389-900c-909dc985efbf\",\"type\":\"GlyphRenderer\"},{\"attributes\":{\"bottom_units\":\"screen\",\"fill_alpha\":{\"value\":0.5},\"fill_color\":{\"value\":\"lightgrey\"},\"left_units\":\"screen\",\"level\":\"overlay\",\"line_alpha\":{\"value\":1.0},\"line_color\":{\"value\":\"black\"},\"line_dash\":[4,4],\"line_width\":{\"value\":2},\"plot\":null,\"render_mode\":\"css\",\"right_units\":\"screen\",\"top_units\":\"screen\"},\"id\":\"dc19f818-3577-4e1c-9153-5b06a052723d\",\"type\":\"BoxAnnotation\"},{\"attributes\":{\"callback\":null,\"column_names\":[\"x\",\"y\"],\"data\":{\"x\":[-10,-3.0588936890535687,-2.0588936890535687,-1.0588936890535685,0.02856915219677092,0.9855004303048849,2.007195501404204,2.996388746447621,6.999774561287003,8.999943643624247,10.00002817736235],\"y\":{\"__ndarray__\":\"UfcBSG3ivD94I/PIHwy8P6FP5EnSNbs/zvxqDhDMuT9GKowtBDm4P76fGi/dJLY/ECOERxtHtD9bJVgczvyyP2lv8IXJVLE/QpqxaDo7sT9d4V0u4juxPw==\",\"dtype\":\"float64\",\"shape\":[11]}}},\"id\":\"c45a5eaa-5463-4787-a678-916527044adb\",\"type\":\"ColumnDataSource\"},{\"attributes\":{\"line_color\":{\"value\":\"navy\"},\"line_dash\":[15,2],\"x\":{\"field\":\"x\"},\"y\":{\"field\":\"y\"}},\"id\":\"2fbbdf4d-440f-46de-b442-de26191e0a91\",\"type\":\"Line\"},{\"attributes\":{},\"id\":\"3286d2b8-c18e-43b2-ac6e-40c28f1ab350\",\"type\":\"SaveTool\"},{\"attributes\":{\"line_color\":{\"value\":\"red\"},\"x\":{\"field\":\"x\"},\"y\":{\"field\":\"y\"}},\"id\":\"ca695bac-7bb5-4ec2-a61a-49d1a8086f72\",\"type\":\"Line\"},{\"attributes\":{\"plot\":null,\"text\":\"\"},\"id\":\"5bbb5257-236c-48c7-9aa5-c84cbff09acc\",\"type\":\"Title\"},{\"attributes\":{\"label\":{\"value\":\"constraint\"},\"renderers\":[{\"id\":\"ad1a3ea7-16cf-484f-a3d3-35a35e40ac85\",\"type\":\"GlyphRenderer\"}]},\"id\":\"0cb4f610-9234-4f11-891b-4e57664873d3\",\"type\":\"LegendItem\"},{\"attributes\":{\"source\":{\"id\":\"5fdaeba7-23a1-480d-8291-b6f54bb5aac8\",\"type\":\"ColumnDataSource\"}},\"id\":\"8e18e433-9d96-46ed-ad8f-d01f7d97ed61\",\"type\":\"CDSView\"},{\"attributes\":{\"line_color\":{\"value\":\"navy\"},\"line_dash\":[1,4],\"x\":{\"field\":\"x\"},\"y\":{\"field\":\"y\"}},\"id\":\"feae66c2-c8a9-4fe0-bf06-855ea9787dfb\",\"type\":\"Line\"},{\"attributes\":{\"data_source\":{\"id\":\"7bb96211-f96b-49ac-9845-776bc32b47c3\",\"type\":\"ColumnDataSource\"},\"glyph\":{\"id\":\"2fbbdf4d-440f-46de-b442-de26191e0a91\",\"type\":\"Line\"},\"hover_glyph\":null,\"muted_glyph\":null,\"nonselection_glyph\":{\"id\":\"7ca7f53e-d946-437c-9a88-5099fc76b897\",\"type\":\"Line\"},\"selection_glyph\":null,\"view\":{\"id\":\"fb6d3814-86ad-41f6-9bfd-9e8d2b45c42b\",\"type\":\"CDSView\"}},\"id\":\"301087ac-bd1d-40c8-af1e-e66c5545607e\",\"type\":\"GlyphRenderer\"},{\"attributes\":{\"dimension\":1,\"grid_line_alpha\":{\"value\":0.1},\"grid_line_dash\":[2,2],\"plot\":{\"id\":\"e42d20dc-b814-47ee-89bc-71cc788e8109\",\"subtype\":\"Figure\",\"type\":\"Plot\"},\"ticker\":{\"id\":\"3281096a-74bc-4e93-8bb4-ff0ddc1c2d50\",\"type\":\"BasicTicker\"}},\"id\":\"1aafa2b6-503d-4763-9dc1-ab1d6adbdbdb\",\"type\":\"Grid\"},{\"attributes\":{\"fill_color\":{\"value\":\"white\"},\"line_color\":{\"value\":\"navy\"},\"size\":{\"units\":\"screen\",\"value\":5},\"x\":{\"field\":\"x\"},\"y\":{\"field\":\"y\"}},\"id\":\"ab1718b7-cbab-400d-ab4f-e45263e2bf38\",\"type\":\"Circle\"},{\"attributes\":{},\"id\":\"f2b04825-9b24-4416-add9-0dc12ac040ea\",\"type\":\"BasicTicker\"},{\"attributes\":{\"fill_color\":{\"value\":\"white\"},\"line_color\":{\"value\":\"navy\"},\"size\":{\"units\":\"screen\",\"value\":5},\"x\":{\"field\":\"x\"},\"y\":{\"field\":\"y\"}},\"id\":\"8497194b-bb3e-41aa-8d52-979fcc0aae88\",\"type\":\"Circle\"},{\"attributes\":{},\"id\":\"c33696c0-f350-48dc-aac9-9fdb0c9d6197\",\"type\":\"WheelZoomTool\"},{\"attributes\":{\"fill_alpha\":{\"value\":0.1},\"fill_color\":{\"value\":\"#1f77b4\"},\"line_alpha\":{\"value\":0.1},\"line_color\":{\"value\":\"#1f77b4\"},\"size\":{\"units\":\"screen\",\"value\":5},\"x\":{\"field\":\"x\"},\"y\":{\"field\":\"y\"}},\"id\":\"bfb8e8e7-3d48-4a86-bc84-a51a585640df\",\"type\":\"Circle\"},{\"attributes\":{\"grid_line_alpha\":{\"value\":0.1},\"grid_line_dash\":[2,2],\"plot\":{\"id\":\"e42d20dc-b814-47ee-89bc-71cc788e8109\",\"subtype\":\"Figure\",\"type\":\"Plot\"},\"ticker\":{\"id\":\"f2b04825-9b24-4416-add9-0dc12ac040ea\",\"type\":\"BasicTicker\"}},\"id\":\"94719389-4b2c-4390-9854-73583dbe7e1d\",\"type\":\"Grid\"},{\"attributes\":{\"source\":{\"id\":\"c45a5eaa-5463-4787-a678-916527044adb\",\"type\":\"ColumnDataSource\"}},\"id\":\"39b1f6d1-b296-4bc0-8d2c-eab3c15a8fb1\",\"type\":\"CDSView\"},{\"attributes\":{\"source\":{\"id\":\"2db48bd4-f41a-46ec-9d5d-fe4458afc76e\",\"type\":\"ColumnDataSource\"}},\"id\":\"fd5e48bd-b90a-4cac-aefa-0a2f68cccb38\",\"type\":\"CDSView\"},{\"attributes\":{\"axis_label\":\"Mean response time\",\"axis_label_text_color\":{\"value\":\"black\"},\"axis_label_text_font_size\":{\"value\":\"12pt\"},\"formatter\":{\"id\":\"c379ea1b-ea8d-4e89-8a62-76d5c376d69d\",\"type\":\"BasicTickFormatter\"},\"major_label_text_color\":{\"value\":\"black\"},\"major_label_text_font_size\":{\"value\":\"10pt\"},\"plot\":{\"id\":\"e42d20dc-b814-47ee-89bc-71cc788e8109\",\"subtype\":\"Figure\",\"type\":\"Plot\"},\"ticker\":{\"id\":\"3281096a-74bc-4e93-8bb4-ff0ddc1c2d50\",\"type\":\"BasicTicker\"}},\"id\":\"8d5e7961-db6b-4447-b347-46283140918f\",\"type\":\"LinearAxis\"},{\"attributes\":{\"label\":{\"value\":\"Small cell load = 0.32\"},\"renderers\":[{\"id\":\"1fd63d94-5c6f-4609-add8-b7b4f0172c03\",\"type\":\"GlyphRenderer\"}]},\"id\":\"9d02942a-6837-4d59-b9d7-7841d1634b8b\",\"type\":\"LegendItem\"},{\"attributes\":{},\"id\":\"c379ea1b-ea8d-4e89-8a62-76d5c376d69d\",\"type\":\"BasicTickFormatter\"},{\"attributes\":{\"overlay\":{\"id\":\"dc19f818-3577-4e1c-9153-5b06a052723d\",\"type\":\"BoxAnnotation\"}},\"id\":\"6adbf377-482e-4928-918a-d8d6296573b9\",\"type\":\"BoxZoomTool\"},{\"attributes\":{\"data_source\":{\"id\":\"2db48bd4-f41a-46ec-9d5d-fe4458afc76e\",\"type\":\"ColumnDataSource\"},\"glyph\":{\"id\":\"8497194b-bb3e-41aa-8d52-979fcc0aae88\",\"type\":\"Circle\"},\"hover_glyph\":null,\"muted_glyph\":null,\"nonselection_glyph\":{\"id\":\"315917e9-2e82-41a7-8da4-5ffd7fa9461e\",\"type\":\"Circle\"},\"selection_glyph\":null,\"view\":{\"id\":\"fd5e48bd-b90a-4cac-aefa-0a2f68cccb38\",\"type\":\"CDSView\"}},\"id\":\"5dd879c4-e5b9-4105-9922-c52a9750a116\",\"type\":\"GlyphRenderer\"},{\"attributes\":{\"callback\":null},\"id\":\"6910ab72-c851-4729-a568-6c978bf2f08d\",\"type\":\"DataRange1d\"},{\"attributes\":{\"label\":{\"value\":\"Small cell load = 0.5\"},\"renderers\":[{\"id\":\"71fec66a-61c6-468b-8148-5b45cf0d98d8\",\"type\":\"GlyphRenderer\"}]},\"id\":\"cc62fba1-77f6-470e-ba2c-b2a18b7b9e5a\",\"type\":\"LegendItem\"},{\"attributes\":{\"active_drag\":\"auto\",\"active_inspect\":\"auto\",\"active_scroll\":\"auto\",\"active_tap\":\"auto\",\"tools\":[{\"id\":\"64b0081c-b673-4527-91d5-03249d1450d7\",\"type\":\"PanTool\"},{\"id\":\"c33696c0-f350-48dc-aac9-9fdb0c9d6197\",\"type\":\"WheelZoomTool\"},{\"id\":\"6adbf377-482e-4928-918a-d8d6296573b9\",\"type\":\"BoxZoomTool\"},{\"id\":\"3286d2b8-c18e-43b2-ac6e-40c28f1ab350\",\"type\":\"SaveTool\"},{\"id\":\"00a67f16-cb11-4f13-bc86-32167ee40b34\",\"type\":\"ResetTool\"},{\"id\":\"8a705cc7-1816-4ec0-8d25-01f8cafb9fed\",\"type\":\"HelpTool\"}]},\"id\":\"3d5a812e-e665-4a1e-97ea-ee39167836a7\",\"type\":\"Toolbar\"},{\"attributes\":{\"data_source\":{\"id\":\"5fdaeba7-23a1-480d-8291-b6f54bb5aac8\",\"type\":\"ColumnDataSource\"},\"glyph\":{\"id\":\"ca695bac-7bb5-4ec2-a61a-49d1a8086f72\",\"type\":\"Line\"},\"hover_glyph\":null,\"muted_glyph\":null,\"nonselection_glyph\":{\"id\":\"0762199c-b41e-4995-b1c2-df77c7ad282d\",\"type\":\"Line\"},\"selection_glyph\":null,\"view\":{\"id\":\"8e18e433-9d96-46ed-ad8f-d01f7d97ed61\",\"type\":\"CDSView\"}},\"id\":\"ad1a3ea7-16cf-484f-a3d3-35a35e40ac85\",\"type\":\"GlyphRenderer\"},{\"attributes\":{\"data_source\":{\"id\":\"642a9403-d766-45c7-840c-8a7aec5bde7d\",\"type\":\"ColumnDataSource\"},\"glyph\":{\"id\":\"41c53178-dcc1-4aee-926b-4bb2041de0c4\",\"type\":\"Circle\"},\"hover_glyph\":null,\"muted_glyph\":null,\"nonselection_glyph\":{\"id\":\"560233bc-6b4c-42bc-83ce-000b6800c054\",\"type\":\"Circle\"},\"selection_glyph\":null,\"view\":{\"id\":\"dee9083f-c4a3-4cf0-afbb-c14e5ec222eb\",\"type\":\"CDSView\"}},\"id\":\"2772374c-e837-46bc-a8f7-9db7b14f9dd5\",\"type\":\"GlyphRenderer\"},{\"attributes\":{\"fill_alpha\":{\"value\":0.1},\"fill_color\":{\"value\":\"#1f77b4\"},\"line_alpha\":{\"value\":0.1},\"line_color\":{\"value\":\"#1f77b4\"},\"size\":{\"units\":\"screen\",\"value\":5},\"x\":{\"field\":\"x\"},\"y\":{\"field\":\"y\"}},\"id\":\"315917e9-2e82-41a7-8da4-5ffd7fa9461e\",\"type\":\"Circle\"},{\"attributes\":{},\"id\":\"24c53e1a-282e-4fd1-b381-25cd345e52fb\",\"type\":\"LinearScale\"},{\"attributes\":{},\"id\":\"64b0081c-b673-4527-91d5-03249d1450d7\",\"type\":\"PanTool\"},{\"attributes\":{\"line_alpha\":{\"value\":0.1},\"line_color\":{\"value\":\"#1f77b4\"},\"x\":{\"field\":\"x\"},\"y\":{\"field\":\"y\"}},\"id\":\"7521d15e-cbc7-447e-9014-3787906c71a7\",\"type\":\"Line\"},{\"attributes\":{\"source\":{\"id\":\"642a9403-d766-45c7-840c-8a7aec5bde7d\",\"type\":\"ColumnDataSource\"}},\"id\":\"dee9083f-c4a3-4cf0-afbb-c14e5ec222eb\",\"type\":\"CDSView\"},{\"attributes\":{},\"id\":\"8a705cc7-1816-4ec0-8d25-01f8cafb9fed\",\"type\":\"HelpTool\"},{\"attributes\":{\"data_source\":{\"id\":\"b2df5d70-f7f9-4475-8ad5-1f709ad4b121\",\"type\":\"ColumnDataSource\"},\"glyph\":{\"id\":\"9acc59b3-45c4-421c-8954-315fc05087e0\",\"type\":\"Circle\"},\"hover_glyph\":null,\"muted_glyph\":null,\"nonselection_glyph\":{\"id\":\"bfb8e8e7-3d48-4a86-bc84-a51a585640df\",\"type\":\"Circle\"},\"selection_glyph\":null,\"view\":{\"id\":\"6e924766-64b1-4c6e-9fdc-6b62e5d881cf\",\"type\":\"CDSView\"}},\"id\":\"b9946a26-a9a3-495e-b3cc-332705b6678b\",\"type\":\"GlyphRenderer\"},{\"attributes\":{\"callback\":null,\"column_names\":[\"x\",\"y\"],\"data\":{\"x\":[-10,-3.473931188332412,-1.8889686876112561,-0.888968687611256,-0.014499569695115089,0.9855004303048849,1.9855004303048849,3.0018022426339854,6.999774561287003,9.00002817736235,10.00002817736235],\"y\":{\"__ndarray__\":\"oI7HDFTGvz9L5e0IpwW/P6VmD7QCQ74/C7CPTl35vD/RlnMpriq7P35S7dPxmLk/MEeP39v0tz9z9Pi9TX+2P6kwthDkoLQ/JQaBlUOLtD9wlLw6x4C0Pw==\",\"dtype\":\"float64\",\"shape\":[11]}}},\"id\":\"98000eeb-42ff-4576-a671-d866f5ccaf29\",\"type\":\"ColumnDataSource\"},{\"attributes\":{},\"id\":\"8ba12fd2-e2c8-4e8a-98c8-1e4777913878\",\"type\":\"BasicTickFormatter\"},{\"attributes\":{\"below\":[{\"id\":\"734578f9-bbea-4d68-8a39-49eac2730d01\",\"type\":\"LinearAxis\"}],\"left\":[{\"id\":\"8d5e7961-db6b-4447-b347-46283140918f\",\"type\":\"LinearAxis\"}],\"outline_line_color\":{\"value\":\"black\"},\"plot_height\":400,\"renderers\":[{\"id\":\"734578f9-bbea-4d68-8a39-49eac2730d01\",\"type\":\"LinearAxis\"},{\"id\":\"94719389-4b2c-4390-9854-73583dbe7e1d\",\"type\":\"Grid\"},{\"id\":\"8d5e7961-db6b-4447-b347-46283140918f\",\"type\":\"LinearAxis\"},{\"id\":\"1aafa2b6-503d-4763-9dc1-ab1d6adbdbdb\",\"type\":\"Grid\"},{\"id\":\"dc19f818-3577-4e1c-9153-5b06a052723d\",\"type\":\"BoxAnnotation\"},{\"id\":\"1c66d48d-be91-43fd-a472-e3a36ffe043b\",\"type\":\"Legend\"},{\"id\":\"e0bcee75-1a1b-4544-818b-e5634e981240\",\"type\":\"GlyphRenderer\"},{\"id\":\"2772374c-e837-46bc-a8f7-9db7b14f9dd5\",\"type\":\"GlyphRenderer\"},{\"id\":\"301087ac-bd1d-40c8-af1e-e66c5545607e\",\"type\":\"GlyphRenderer\"},{\"id\":\"ce60b00c-1479-4389-900c-909dc985efbf\",\"type\":\"GlyphRenderer\"},{\"id\":\"1fd63d94-5c6f-4609-add8-b7b4f0172c03\",\"type\":\"GlyphRenderer\"},{\"id\":\"b9946a26-a9a3-495e-b3cc-332705b6678b\",\"type\":\"GlyphRenderer\"},{\"id\":\"71fec66a-61c6-468b-8148-5b45cf0d98d8\",\"type\":\"GlyphRenderer\"},{\"id\":\"5dd879c4-e5b9-4105-9922-c52a9750a116\",\"type\":\"GlyphRenderer\"},{\"id\":\"ad1a3ea7-16cf-484f-a3d3-35a35e40ac85\",\"type\":\"GlyphRenderer\"}],\"title\":{\"id\":\"5bbb5257-236c-48c7-9aa5-c84cbff09acc\",\"type\":\"Title\"},\"toolbar\":{\"id\":\"3d5a812e-e665-4a1e-97ea-ee39167836a7\",\"type\":\"Toolbar\"},\"x_range\":{\"id\":\"c263fec2-a0bc-42a8-9cd4-6ff24ec6382c\",\"type\":\"DataRange1d\"},\"x_scale\":{\"id\":\"24c53e1a-282e-4fd1-b381-25cd345e52fb\",\"type\":\"LinearScale\"},\"y_range\":{\"id\":\"6910ab72-c851-4729-a568-6c978bf2f08d\",\"type\":\"DataRange1d\"},\"y_scale\":{\"id\":\"dd01820b-84c1-4e83-a61b-fd30a9a5de4d\",\"type\":\"LinearScale\"}},\"id\":\"e42d20dc-b814-47ee-89bc-71cc788e8109\",\"subtype\":\"Figure\",\"type\":\"Plot\"},{\"attributes\":{\"callback\":null},\"id\":\"c263fec2-a0bc-42a8-9cd4-6ff24ec6382c\",\"type\":\"DataRange1d\"},{\"attributes\":{\"line_alpha\":{\"value\":0.1},\"line_color\":{\"value\":\"#1f77b4\"},\"line_dash\":[4,4],\"x\":{\"field\":\"x\"},\"y\":{\"field\":\"y\"}},\"id\":\"133be6d1-e068-463b-be13-16cd9cece368\",\"type\":\"Line\"},{\"attributes\":{\"callback\":null,\"column_names\":[\"x\",\"y\"],\"data\":{\"x\":[-10,-3.0588936890535687,-2.0,-1.0,0.0,1.0,2.0,3.0,7.0,9.0,10.0],\"y\":{\"__ndarray__\":\"pmH4iJgSuT+Mf59x4UC4P1QdcjPcgLc/jC0EOShhtj889x4uOe60P0gWMIFbd7M/DsNHxJRIsj/04O6s3XaxP9jw9EpZhrA/7vDXZI16sD8/xty1hHywPw==\",\"dtype\":\"float64\",\"shape\":[11]}}},\"id\":\"f01b2701-d2af-4646-99d9-f952c87c0707\",\"type\":\"ColumnDataSource\"},{\"attributes\":{\"fill_alpha\":{\"value\":0.1},\"fill_color\":{\"value\":\"#1f77b4\"},\"line_alpha\":{\"value\":0.1},\"line_color\":{\"value\":\"#1f77b4\"},\"size\":{\"units\":\"screen\",\"value\":5},\"x\":{\"field\":\"x\"},\"y\":{\"field\":\"y\"}},\"id\":\"e0625b37-c355-4a8d-8509-6be040ef8706\",\"type\":\"Circle\"},{\"attributes\":{\"label\":{\"value\":\"Small cell load = 0.2\"},\"renderers\":[{\"id\":\"301087ac-bd1d-40c8-af1e-e66c5545607e\",\"type\":\"GlyphRenderer\"}]},\"id\":\"20f8c7dc-21b9-4b3d-8146-96fc33506ff2\",\"type\":\"LegendItem\"},{\"attributes\":{\"label\":{\"value\":\"Small cell load = 0.05\"},\"renderers\":[{\"id\":\"e0bcee75-1a1b-4544-818b-e5634e981240\",\"type\":\"GlyphRenderer\"}]},\"id\":\"44bf78b8-5470-474d-b71d-fab03fbf3932\",\"type\":\"LegendItem\"},{\"attributes\":{\"fill_color\":{\"value\":\"white\"},\"line_color\":{\"value\":\"navy\"},\"size\":{\"units\":\"screen\",\"value\":5},\"x\":{\"field\":\"x\"},\"y\":{\"field\":\"y\"}},\"id\":\"9acc59b3-45c4-421c-8954-315fc05087e0\",\"type\":\"Circle\"},{\"attributes\":{\"data_source\":{\"id\":\"c45a5eaa-5463-4787-a678-916527044adb\",\"type\":\"ColumnDataSource\"},\"glyph\":{\"id\":\"0cb9fe2d-04f1-462f-884c-7b3a84bce625\",\"type\":\"Line\"},\"hover_glyph\":null,\"muted_glyph\":null,\"nonselection_glyph\":{\"id\":\"133be6d1-e068-463b-be13-16cd9cece368\",\"type\":\"Line\"},\"selection_glyph\":null,\"view\":{\"id\":\"39b1f6d1-b296-4bc0-8d2c-eab3c15a8fb1\",\"type\":\"CDSView\"}},\"id\":\"1fd63d94-5c6f-4609-add8-b7b4f0172c03\",\"type\":\"GlyphRenderer\"},{\"attributes\":{\"line_alpha\":{\"value\":0.1},\"line_color\":{\"value\":\"#1f77b4\"},\"line_dash\":[15,2],\"x\":{\"field\":\"x\"},\"y\":{\"field\":\"y\"}},\"id\":\"7ca7f53e-d946-437c-9a88-5099fc76b897\",\"type\":\"Line\"}],\"root_ids\":[\"e42d20dc-b814-47ee-89bc-71cc788e8109\"]},\"title\":\"Bokeh Application\",\"version\":\"0.12.10\"}};\n",
       "    var render_items = [{\"docid\":\"2a2b12b0-c9ac-4676-bf38-9a79d681d7b6\",\"elementid\":\"b70d0b1d-6566-4c5a-a32f-b3f5085ba1bf\",\"modelid\":\"e42d20dc-b814-47ee-89bc-71cc788e8109\"}];\n",
       "\n",
       "    root.Bokeh.embed.embed_items(docs_json, render_items);\n",
       "  }\n",
       "\n",
       "  if (root.Bokeh !== undefined) {\n",
       "    embed_document(root);\n",
       "  } else {\n",
       "    var attempts = 0;\n",
       "    var timer = setInterval(function(root) {\n",
       "      if (root.Bokeh !== undefined) {\n",
       "        embed_document(root);\n",
       "        clearInterval(timer);\n",
       "      }\n",
       "      attempts++;\n",
       "      if (attempts > 100) {\n",
       "        console.log(\"Bokeh: ERROR: Unable to embed document because BokehJS library is missing\")\n",
       "        clearInterval(timer);\n",
       "      }\n",
       "    }, 10, root)\n",
       "  }\n",
       "})(window);"
      ],
      "application/vnd.bokehjs_exec.v0+json": ""
     },
     "metadata": {
      "application/vnd.bokehjs_exec.v0+json": {
       "id": "e42d20dc-b814-47ee-89bc-71cc788e8109"
      }
     },
     "output_type": "display_data"
    }
   ],
   "source": [
    "p0 = figure(plot_width=600, plot_height=400)\n",
    "\n",
    "\n",
    "p0.line(logscale(1), df[df.small_arrival==1].avg_resp_time, line_color='navy',legend='Small cell load = 0.05')\n",
    "p0.circle(logscale(1), df[df.small_arrival==1].avg_resp_time, color='white', line_color='navy',size=5)\n",
    "p0.line(logscale(4), df[df.small_arrival==4].avg_resp_time, line_color='navy',line_dash=\"15 2\",legend='Small cell load = 0.2')\n",
    "p0.circle(logscale(4), df[df.small_arrival==4].avg_resp_time, color='white', line_color='navy',size=5)\n",
    "\n",
    "p0.line(logscale(6), df[df.small_arrival==6].avg_resp_time, line_color='navy',line_dash=\"4 4\",legend='Small cell load = 0.32')\n",
    "p0.circle(logscale(6), df[df.small_arrival==6].avg_resp_time, color='white', line_color='navy',size=5)\n",
    "\n",
    "p0.line(logscale(9), df[df.small_arrival==9].avg_resp_time, line_color='navy',line_dash=\"1 4\",legend='Small cell load = 0.5')\n",
    "p0.circle(logscale(9), df[df.small_arrival==9].avg_resp_time, color='white', line_color='navy',size=5)\n",
    "\n",
    "\n",
    "\n",
    "p0.line([-10,0,1,2,10],0.1*np.ones(5),line_color='red',legend='constraint')\n",
    "\n",
    "p0.grid.grid_line_dash = [2,2]\n",
    "p0.grid.grid_line_alpha = 0.1\n",
    "p0.outline_line_color = 'black'\n",
    "\n",
    "p0.xaxis.axis_label = 'idle time in logscale (relative to avg. inter-arrival time)'\n",
    "p0.yaxis.axis_label = 'Mean response time'\n",
    "\n",
    "p0.xaxis.axis_label_text_color = 'black'\n",
    "p0.xaxis.major_label_text_color = 'black'\n",
    "p0.yaxis.axis_label_text_color = 'black'\n",
    "p0.yaxis.major_label_text_color = 'black'\n",
    "p0.legend.label_text_color = 'black'\n",
    "\n",
    "p0.axis.axis_label_text_font_size = '12pt'\n",
    "p0.axis.major_label_text_font_size = '10pt'\n",
    "\n",
    "p0.legend.location  = 'top_right'\n",
    "\n",
    "show(p0)"
   ]
  },
  {
   "cell_type": "code",
   "execution_count": 41,
   "metadata": {},
   "outputs": [
    {
     "data": {
      "text/html": [
       "\n",
       "<div class=\"bk-root\">\n",
       "    <div class=\"bk-plotdiv\" id=\"64df2816-5579-4b53-850f-23da3d43dc41\"></div>\n",
       "</div>"
      ]
     },
     "metadata": {},
     "output_type": "display_data"
    },
    {
     "data": {
      "application/javascript": [
       "(function(root) {\n",
       "  function embed_document(root) {\n",
       "    var docs_json = {\"91b15e86-38b5-4755-ab8f-7282fb788a1b\":{\"roots\":{\"references\":[{\"attributes\":{\"fill_alpha\":{\"value\":0.1},\"fill_color\":{\"value\":\"#1f77b4\"},\"line_alpha\":{\"value\":0.1},\"line_color\":{\"value\":\"#1f77b4\"},\"size\":{\"units\":\"screen\",\"value\":5},\"x\":{\"field\":\"x\"},\"y\":{\"field\":\"y\"}},\"id\":\"c2c199e5-aa56-4d84-a7a7-8987002d221c\",\"type\":\"Circle\"},{\"attributes\":{\"fill_alpha\":{\"value\":0.1},\"fill_color\":{\"value\":\"#1f77b4\"},\"line_alpha\":{\"value\":0.1},\"line_color\":{\"value\":\"#1f77b4\"},\"size\":{\"units\":\"screen\",\"value\":5},\"x\":{\"field\":\"x\"},\"y\":{\"field\":\"y\"}},\"id\":\"78048c66-7776-4c1c-a958-71623f39d351\",\"type\":\"Circle\"},{\"attributes\":{\"fill_color\":{\"value\":\"white\"},\"line_color\":{\"value\":\"navy\"},\"size\":{\"units\":\"screen\",\"value\":5},\"x\":{\"field\":\"x\"},\"y\":{\"field\":\"y\"}},\"id\":\"23e7b263-f7a0-45d8-8b80-4d9f1aa29f78\",\"type\":\"Circle\"},{\"attributes\":{\"label\":{\"value\":\"Small cell load = 0.2\"},\"renderers\":[{\"id\":\"fbe1aa67-d04a-4ea2-80b2-003883388e28\",\"type\":\"GlyphRenderer\"}]},\"id\":\"1ab4d600-876f-4573-8196-370880ad0635\",\"type\":\"LegendItem\"},{\"attributes\":{},\"id\":\"46abd6e2-01e0-4816-b95e-b60b9ea8db3e\",\"type\":\"BasicTicker\"},{\"attributes\":{\"line_color\":{\"value\":\"navy\"},\"x\":{\"field\":\"x\"},\"y\":{\"field\":\"y\"}},\"id\":\"38d0ba2f-6ede-4b13-ba37-ecf6ee359dfa\",\"type\":\"Line\"},{\"attributes\":{\"callback\":null},\"id\":\"a145550f-1be2-4e76-a255-daa92dbd8073\",\"type\":\"DataRange1d\"},{\"attributes\":{\"line_alpha\":{\"value\":0.1},\"line_color\":{\"value\":\"#1f77b4\"},\"line_dash\":[1,4],\"x\":{\"field\":\"x\"},\"y\":{\"field\":\"y\"}},\"id\":\"6bc843cc-a39c-4c92-9469-aaa9948fa023\",\"type\":\"Line\"},{\"attributes\":{\"grid_line_alpha\":{\"value\":0.1},\"grid_line_dash\":[2,2],\"plot\":{\"id\":\"ad3a5d0b-6833-4907-bb1e-a01c572d7f69\",\"subtype\":\"Figure\",\"type\":\"Plot\"},\"ticker\":{\"id\":\"12a042d7-6f27-4212-828f-628bf2e29469\",\"type\":\"BasicTicker\"}},\"id\":\"60b67a71-d5bf-4caa-ab63-ce7bcb1ef94c\",\"type\":\"Grid\"},{\"attributes\":{\"source\":{\"id\":\"797cf3bf-2b57-431a-97c4-0b601dcf64c3\",\"type\":\"ColumnDataSource\"}},\"id\":\"e76e8c78-3691-48c4-9fc7-45defef5da72\",\"type\":\"CDSView\"},{\"attributes\":{\"below\":[{\"id\":\"cb17ff19-d495-447c-8120-f1b759a3464e\",\"type\":\"LinearAxis\"}],\"left\":[{\"id\":\"7b503c39-4600-4d16-9b53-58badb58dd41\",\"type\":\"LinearAxis\"}],\"outline_line_color\":{\"value\":\"black\"},\"plot_height\":400,\"renderers\":[{\"id\":\"cb17ff19-d495-447c-8120-f1b759a3464e\",\"type\":\"LinearAxis\"},{\"id\":\"60b67a71-d5bf-4caa-ab63-ce7bcb1ef94c\",\"type\":\"Grid\"},{\"id\":\"7b503c39-4600-4d16-9b53-58badb58dd41\",\"type\":\"LinearAxis\"},{\"id\":\"856fa3cb-94ef-4113-a8aa-2768bf648f10\",\"type\":\"Grid\"},{\"id\":\"4b92c90b-2830-4338-a7d6-0975d9274e5d\",\"type\":\"BoxAnnotation\"},{\"id\":\"3601e18d-030f-4d9f-a98f-414a3b6ec4f0\",\"type\":\"Legend\"},{\"id\":\"bc73f4d0-50a9-44d9-99f9-c96ddfb5457f\",\"type\":\"GlyphRenderer\"},{\"id\":\"b3377106-daef-45ec-b46e-f961abd34918\",\"type\":\"GlyphRenderer\"},{\"id\":\"fbe1aa67-d04a-4ea2-80b2-003883388e28\",\"type\":\"GlyphRenderer\"},{\"id\":\"9088eb53-3a68-420c-854e-b207587ea0e1\",\"type\":\"GlyphRenderer\"},{\"id\":\"4f7111ac-1aab-4f55-a388-804ae65df2da\",\"type\":\"GlyphRenderer\"},{\"id\":\"a58d3bd2-d653-4fd0-81e7-19ef79abea6f\",\"type\":\"GlyphRenderer\"},{\"id\":\"77ad1bf8-d91f-4c98-9de8-ad060beb1cba\",\"type\":\"GlyphRenderer\"},{\"id\":\"236d6cab-0cdc-40d7-a16f-6b14c744cf06\",\"type\":\"GlyphRenderer\"}],\"title\":{\"id\":\"0fc68c24-19ae-41a5-ac74-45ab2b309eae\",\"type\":\"Title\"},\"toolbar\":{\"id\":\"aa30e046-be5b-437c-88ab-b0044c67c09f\",\"type\":\"Toolbar\"},\"x_range\":{\"id\":\"63005581-a202-4597-ad18-b90c0454dbb7\",\"type\":\"DataRange1d\"},\"x_scale\":{\"id\":\"e7938ea3-d7b9-4a21-8017-dc7da9450ab7\",\"type\":\"LinearScale\"},\"y_range\":{\"id\":\"a145550f-1be2-4e76-a255-daa92dbd8073\",\"type\":\"DataRange1d\"},\"y_scale\":{\"id\":\"74c1112a-686d-494a-8ba8-3126e93395fc\",\"type\":\"LinearScale\"}},\"id\":\"ad3a5d0b-6833-4907-bb1e-a01c572d7f69\",\"subtype\":\"Figure\",\"type\":\"Plot\"},{\"attributes\":{\"overlay\":{\"id\":\"4b92c90b-2830-4338-a7d6-0975d9274e5d\",\"type\":\"BoxAnnotation\"}},\"id\":\"faa1c24e-802b-42f1-8ec2-b1022949d964\",\"type\":\"BoxZoomTool\"},{\"attributes\":{\"callback\":null,\"column_names\":[\"x\",\"y\"],\"data\":{\"x\":[-10,-3.0588936890535687,-2.0588936890535687,-1.0588936890535685,0.0,1.0,2.0,3.0,7.0,9.0,10.0],\"y\":{\"__ndarray__\":\"w/UoXI/8i0B7FK5H4XaMQKRwPQrX2YxAMzMzMzMbjUD2KFyPwvWNQK5H4XoU3I5A9ihcj8Kfj0AAAAAAABSQQHE9CtejZZBAhetRuB5qkEAfhetRuGuQQA==\",\"dtype\":\"float64\",\"shape\":[11]}}},\"id\":\"6b0f84e0-8312-4a09-bcf3-6cc4268ed546\",\"type\":\"ColumnDataSource\"},{\"attributes\":{\"axis_label\":\"Mean power\",\"axis_label_text_color\":{\"value\":\"black\"},\"axis_label_text_font_size\":{\"value\":\"12pt\"},\"formatter\":{\"id\":\"2f4a176b-4b38-4502-8b6f-148f2cefd2aa\",\"type\":\"BasicTickFormatter\"},\"major_label_text_color\":{\"value\":\"black\"},\"major_label_text_font_size\":{\"value\":\"10pt\"},\"plot\":{\"id\":\"ad3a5d0b-6833-4907-bb1e-a01c572d7f69\",\"subtype\":\"Figure\",\"type\":\"Plot\"},\"ticker\":{\"id\":\"46abd6e2-01e0-4816-b95e-b60b9ea8db3e\",\"type\":\"BasicTicker\"}},\"id\":\"7b503c39-4600-4d16-9b53-58badb58dd41\",\"type\":\"LinearAxis\"},{\"attributes\":{\"data_source\":{\"id\":\"cc7ae4ba-7a28-4f40-8703-9f423b7df289\",\"type\":\"ColumnDataSource\"},\"glyph\":{\"id\":\"338d0074-d48e-4f1b-ad38-03a647f1a794\",\"type\":\"Line\"},\"hover_glyph\":null,\"muted_glyph\":null,\"nonselection_glyph\":{\"id\":\"ba24d892-8487-4b1c-915d-dda7651e4ca9\",\"type\":\"Line\"},\"selection_glyph\":null,\"view\":{\"id\":\"27fc56b0-cd31-4e1c-9225-3e3ec302391f\",\"type\":\"CDSView\"}},\"id\":\"4f7111ac-1aab-4f55-a388-804ae65df2da\",\"type\":\"GlyphRenderer\"},{\"attributes\":{\"source\":{\"id\":\"7475fb4c-3c47-439c-97fb-0343a51dee01\",\"type\":\"ColumnDataSource\"}},\"id\":\"7392958c-2c05-4397-95dd-75304548c578\",\"type\":\"CDSView\"},{\"attributes\":{\"active_drag\":\"auto\",\"active_inspect\":\"auto\",\"active_scroll\":\"auto\",\"active_tap\":\"auto\",\"tools\":[{\"id\":\"3c9fb8fc-468b-438b-8d00-f9eb7efba455\",\"type\":\"PanTool\"},{\"id\":\"96c0b8ea-8935-4390-afc3-08e328823360\",\"type\":\"WheelZoomTool\"},{\"id\":\"faa1c24e-802b-42f1-8ec2-b1022949d964\",\"type\":\"BoxZoomTool\"},{\"id\":\"33c6d539-0772-43fc-9fa4-7fbfea26cec8\",\"type\":\"SaveTool\"},{\"id\":\"640d4d24-99c9-4767-9547-5b2287c7e7c2\",\"type\":\"ResetTool\"},{\"id\":\"3ade1105-3f64-448a-8a96-0baab04e9be3\",\"type\":\"HelpTool\"}]},\"id\":\"aa30e046-be5b-437c-88ab-b0044c67c09f\",\"type\":\"Toolbar\"},{\"attributes\":{\"fill_alpha\":{\"value\":0.1},\"fill_color\":{\"value\":\"#1f77b4\"},\"line_alpha\":{\"value\":0.1},\"line_color\":{\"value\":\"#1f77b4\"},\"size\":{\"units\":\"screen\",\"value\":5},\"x\":{\"field\":\"x\"},\"y\":{\"field\":\"y\"}},\"id\":\"6b0c8c57-f26d-4546-b0c8-ca595d7991ea\",\"type\":\"Circle\"},{\"attributes\":{},\"id\":\"74c1112a-686d-494a-8ba8-3126e93395fc\",\"type\":\"LinearScale\"},{\"attributes\":{\"callback\":null,\"column_names\":[\"x\",\"y\"],\"data\":{\"x\":[-10,-3.473931188332412,-1.8889686876112561,-0.888968687611256,-0.014499569695115089,0.9855004303048849,1.9855004303048849,3.0018022426339854,6.999774561287003,9.00002817736235,10.00002817736235],\"y\":{\"__ndarray__\":\"mpmZmZnokEApXI/C9fyQQOF6FK5HCpFAuB6F61EdkUDD9ShcjzaRQGZmZmZmf5BAuB6F61GEkEBSuB6F66yQQHsUrkfh3ZBAmpmZmZngkEApXI/C9eCQQA==\",\"dtype\":\"float64\",\"shape\":[11]}}},\"id\":\"7475fb4c-3c47-439c-97fb-0343a51dee01\",\"type\":\"ColumnDataSource\"},{\"attributes\":{},\"id\":\"a16b930d-82a7-4dbe-827f-feb3f23132a3\",\"type\":\"BasicTickFormatter\"},{\"attributes\":{\"callback\":null},\"id\":\"63005581-a202-4597-ad18-b90c0454dbb7\",\"type\":\"DataRange1d\"},{\"attributes\":{\"fill_color\":{\"value\":\"white\"},\"line_color\":{\"value\":\"navy\"},\"size\":{\"units\":\"screen\",\"value\":5},\"x\":{\"field\":\"x\"},\"y\":{\"field\":\"y\"}},\"id\":\"45a37bfb-3190-4041-bcb0-976bb9c05bd9\",\"type\":\"Circle\"},{\"attributes\":{\"callback\":null,\"column_names\":[\"x\",\"y\"],\"data\":{\"x\":[-10,-3.0588936890535687,-2.0588936890535687,-1.0588936890535685,0.0,1.0,2.0,3.0,7.0,9.0,10.0],\"y\":{\"__ndarray__\":\"w/UoXI/8i0B7FK5H4XaMQKRwPQrX2YxAMzMzMzMbjUD2KFyPwvWNQK5H4XoU3I5A9ihcj8Kfj0AAAAAAABSQQHE9CtejZZBAhetRuB5qkEAfhetRuGuQQA==\",\"dtype\":\"float64\",\"shape\":[11]}}},\"id\":\"6fdfeb46-f71b-4760-a50f-8eb6ca40f30f\",\"type\":\"ColumnDataSource\"},{\"attributes\":{\"source\":{\"id\":\"6b0f84e0-8312-4a09-bcf3-6cc4268ed546\",\"type\":\"ColumnDataSource\"}},\"id\":\"297bf1f2-fd75-4085-b3a0-840b3a6b95e5\",\"type\":\"CDSView\"},{\"attributes\":{\"bottom_units\":\"screen\",\"fill_alpha\":{\"value\":0.5},\"fill_color\":{\"value\":\"lightgrey\"},\"left_units\":\"screen\",\"level\":\"overlay\",\"line_alpha\":{\"value\":1.0},\"line_color\":{\"value\":\"black\"},\"line_dash\":[4,4],\"line_width\":{\"value\":2},\"plot\":null,\"render_mode\":\"css\",\"right_units\":\"screen\",\"top_units\":\"screen\"},\"id\":\"4b92c90b-2830-4338-a7d6-0975d9274e5d\",\"type\":\"BoxAnnotation\"},{\"attributes\":{\"line_alpha\":{\"value\":0.1},\"line_color\":{\"value\":\"#1f77b4\"},\"line_dash\":[4,4],\"x\":{\"field\":\"x\"},\"y\":{\"field\":\"y\"}},\"id\":\"ba24d892-8487-4b1c-915d-dda7651e4ca9\",\"type\":\"Line\"},{\"attributes\":{\"plot\":null,\"text\":\"\"},\"id\":\"0fc68c24-19ae-41a5-ac74-45ab2b309eae\",\"type\":\"Title\"},{\"attributes\":{},\"id\":\"33c6d539-0772-43fc-9fa4-7fbfea26cec8\",\"type\":\"SaveTool\"},{\"attributes\":{},\"id\":\"3c9fb8fc-468b-438b-8d00-f9eb7efba455\",\"type\":\"PanTool\"},{\"attributes\":{\"line_alpha\":{\"value\":0.1},\"line_color\":{\"value\":\"#1f77b4\"},\"line_dash\":[15,2],\"x\":{\"field\":\"x\"},\"y\":{\"field\":\"y\"}},\"id\":\"c094a789-22ed-4ec0-896b-597b3cad6bae\",\"type\":\"Line\"},{\"attributes\":{\"callback\":null,\"column_names\":[\"x\",\"y\"],\"data\":{\"x\":[-10,-3.473931188332412,-1.8889686876112561,-0.888968687611256,-0.014499569695115089,0.9855004303048849,1.9855004303048849,3.0018022426339854,6.999774561287003,9.00002817736235,10.00002817736235],\"y\":{\"__ndarray__\":\"mpmZmZnokEApXI/C9fyQQOF6FK5HCpFAuB6F61EdkUDD9ShcjzaRQGZmZmZmf5BAuB6F61GEkEBSuB6F66yQQHsUrkfh3ZBAmpmZmZngkEApXI/C9eCQQA==\",\"dtype\":\"float64\",\"shape\":[11]}}},\"id\":\"5679dfb9-4897-4c51-aa77-54ee6280ec76\",\"type\":\"ColumnDataSource\"},{\"attributes\":{\"label\":{\"value\":\"Small cell load = 0.05\"},\"renderers\":[{\"id\":\"bc73f4d0-50a9-44d9-99f9-c96ddfb5457f\",\"type\":\"GlyphRenderer\"}]},\"id\":\"1b274871-a59a-49dd-a78d-99f1a025766e\",\"type\":\"LegendItem\"},{\"attributes\":{\"line_color\":{\"value\":\"navy\"},\"line_dash\":[1,4],\"x\":{\"field\":\"x\"},\"y\":{\"field\":\"y\"}},\"id\":\"f6eaacfc-23fe-4725-8f8b-da7055787f73\",\"type\":\"Line\"},{\"attributes\":{\"line_color\":{\"value\":\"navy\"},\"line_dash\":[4,4],\"x\":{\"field\":\"x\"},\"y\":{\"field\":\"y\"}},\"id\":\"338d0074-d48e-4f1b-ad38-03a647f1a794\",\"type\":\"Line\"},{\"attributes\":{\"data_source\":{\"id\":\"ef1f1937-031c-4bc5-8bf6-95d16c6c9b83\",\"type\":\"ColumnDataSource\"},\"glyph\":{\"id\":\"38d0ba2f-6ede-4b13-ba37-ecf6ee359dfa\",\"type\":\"Line\"},\"hover_glyph\":null,\"muted_glyph\":null,\"nonselection_glyph\":{\"id\":\"15e557ae-6e53-486a-b712-3f26050e9fdf\",\"type\":\"Line\"},\"selection_glyph\":null,\"view\":{\"id\":\"f5362556-628f-4ed0-8a0f-0171776a0bd6\",\"type\":\"CDSView\"}},\"id\":\"bc73f4d0-50a9-44d9-99f9-c96ddfb5457f\",\"type\":\"GlyphRenderer\"},{\"attributes\":{},\"id\":\"e7938ea3-d7b9-4a21-8017-dc7da9450ab7\",\"type\":\"LinearScale\"},{\"attributes\":{\"items\":[{\"id\":\"1b274871-a59a-49dd-a78d-99f1a025766e\",\"type\":\"LegendItem\"},{\"id\":\"1ab4d600-876f-4573-8196-370880ad0635\",\"type\":\"LegendItem\"},{\"id\":\"5d2aa50f-c57f-4309-a09c-323c2af72a51\",\"type\":\"LegendItem\"},{\"id\":\"58abf17d-5b0d-469b-98e6-1bf6affed683\",\"type\":\"LegendItem\"}],\"label_text_color\":{\"value\":\"black\"},\"location\":\"bottom_right\",\"plot\":{\"id\":\"ad3a5d0b-6833-4907-bb1e-a01c572d7f69\",\"subtype\":\"Figure\",\"type\":\"Plot\"}},\"id\":\"3601e18d-030f-4d9f-a98f-414a3b6ec4f0\",\"type\":\"Legend\"},{\"attributes\":{\"source\":{\"id\":\"cc7ae4ba-7a28-4f40-8703-9f423b7df289\",\"type\":\"ColumnDataSource\"}},\"id\":\"27fc56b0-cd31-4e1c-9225-3e3ec302391f\",\"type\":\"CDSView\"},{\"attributes\":{\"data_source\":{\"id\":\"6b0f84e0-8312-4a09-bcf3-6cc4268ed546\",\"type\":\"ColumnDataSource\"},\"glyph\":{\"id\":\"2977792b-e2b8-4bb2-9fa5-36d383cf31a2\",\"type\":\"Line\"},\"hover_glyph\":null,\"muted_glyph\":null,\"nonselection_glyph\":{\"id\":\"c094a789-22ed-4ec0-896b-597b3cad6bae\",\"type\":\"Line\"},\"selection_glyph\":null,\"view\":{\"id\":\"297bf1f2-fd75-4085-b3a0-840b3a6b95e5\",\"type\":\"CDSView\"}},\"id\":\"fbe1aa67-d04a-4ea2-80b2-003883388e28\",\"type\":\"GlyphRenderer\"},{\"attributes\":{\"axis_label\":\"idle time in logscale (relative to avg. inter-arrival time)\",\"axis_label_text_color\":{\"value\":\"black\"},\"axis_label_text_font_size\":{\"value\":\"12pt\"},\"formatter\":{\"id\":\"a16b930d-82a7-4dbe-827f-feb3f23132a3\",\"type\":\"BasicTickFormatter\"},\"major_label_text_color\":{\"value\":\"black\"},\"major_label_text_font_size\":{\"value\":\"10pt\"},\"plot\":{\"id\":\"ad3a5d0b-6833-4907-bb1e-a01c572d7f69\",\"subtype\":\"Figure\",\"type\":\"Plot\"},\"ticker\":{\"id\":\"12a042d7-6f27-4212-828f-628bf2e29469\",\"type\":\"BasicTicker\"}},\"id\":\"cb17ff19-d495-447c-8120-f1b759a3464e\",\"type\":\"LinearAxis\"},{\"attributes\":{\"source\":{\"id\":\"ef1f1937-031c-4bc5-8bf6-95d16c6c9b83\",\"type\":\"ColumnDataSource\"}},\"id\":\"f5362556-628f-4ed0-8a0f-0171776a0bd6\",\"type\":\"CDSView\"},{\"attributes\":{\"dimension\":1,\"grid_line_alpha\":{\"value\":0.1},\"grid_line_dash\":[2,2],\"plot\":{\"id\":\"ad3a5d0b-6833-4907-bb1e-a01c572d7f69\",\"subtype\":\"Figure\",\"type\":\"Plot\"},\"ticker\":{\"id\":\"46abd6e2-01e0-4816-b95e-b60b9ea8db3e\",\"type\":\"BasicTicker\"}},\"id\":\"856fa3cb-94ef-4113-a8aa-2768bf648f10\",\"type\":\"Grid\"},{\"attributes\":{\"data_source\":{\"id\":\"6fdfeb46-f71b-4760-a50f-8eb6ca40f30f\",\"type\":\"ColumnDataSource\"},\"glyph\":{\"id\":\"45a37bfb-3190-4041-bcb0-976bb9c05bd9\",\"type\":\"Circle\"},\"hover_glyph\":null,\"muted_glyph\":null,\"nonselection_glyph\":{\"id\":\"c2c199e5-aa56-4d84-a7a7-8987002d221c\",\"type\":\"Circle\"},\"selection_glyph\":null,\"view\":{\"id\":\"13b6c529-281b-477e-a9df-9d10e369c275\",\"type\":\"CDSView\"}},\"id\":\"9088eb53-3a68-420c-854e-b207587ea0e1\",\"type\":\"GlyphRenderer\"},{\"attributes\":{\"source\":{\"id\":\"d49f9878-791b-4d19-a39a-fab92f88e40e\",\"type\":\"ColumnDataSource\"}},\"id\":\"a23cef0d-08d0-4ee9-ae56-d0f15433bc4c\",\"type\":\"CDSView\"},{\"attributes\":{\"data_source\":{\"id\":\"5679dfb9-4897-4c51-aa77-54ee6280ec76\",\"type\":\"ColumnDataSource\"},\"glyph\":{\"id\":\"73c26da4-c551-483d-8237-1dc09a07387c\",\"type\":\"Circle\"},\"hover_glyph\":null,\"muted_glyph\":null,\"nonselection_glyph\":{\"id\":\"6b0c8c57-f26d-4546-b0c8-ca595d7991ea\",\"type\":\"Circle\"},\"selection_glyph\":null,\"view\":{\"id\":\"cbc00e10-1ee3-4231-a78d-05fb4694503c\",\"type\":\"CDSView\"}},\"id\":\"236d6cab-0cdc-40d7-a16f-6b14c744cf06\",\"type\":\"GlyphRenderer\"},{\"attributes\":{},\"id\":\"640d4d24-99c9-4767-9547-5b2287c7e7c2\",\"type\":\"ResetTool\"},{\"attributes\":{\"fill_color\":{\"value\":\"white\"},\"line_color\":{\"value\":\"navy\"},\"size\":{\"units\":\"screen\",\"value\":5},\"x\":{\"field\":\"x\"},\"y\":{\"field\":\"y\"}},\"id\":\"73c26da4-c551-483d-8237-1dc09a07387c\",\"type\":\"Circle\"},{\"attributes\":{},\"id\":\"96c0b8ea-8935-4390-afc3-08e328823360\",\"type\":\"WheelZoomTool\"},{\"attributes\":{},\"id\":\"2f4a176b-4b38-4502-8b6f-148f2cefd2aa\",\"type\":\"BasicTickFormatter\"},{\"attributes\":{\"label\":{\"value\":\"Small cell load = 0.32\"},\"renderers\":[{\"id\":\"4f7111ac-1aab-4f55-a388-804ae65df2da\",\"type\":\"GlyphRenderer\"}]},\"id\":\"5d2aa50f-c57f-4309-a09c-323c2af72a51\",\"type\":\"LegendItem\"},{\"attributes\":{\"fill_alpha\":{\"value\":0.1},\"fill_color\":{\"value\":\"#1f77b4\"},\"line_alpha\":{\"value\":0.1},\"line_color\":{\"value\":\"#1f77b4\"},\"size\":{\"units\":\"screen\",\"value\":5},\"x\":{\"field\":\"x\"},\"y\":{\"field\":\"y\"}},\"id\":\"d3e32331-dd6a-4ba2-8d52-eedbab754498\",\"type\":\"Circle\"},{\"attributes\":{},\"id\":\"12a042d7-6f27-4212-828f-628bf2e29469\",\"type\":\"BasicTicker\"},{\"attributes\":{\"source\":{\"id\":\"5679dfb9-4897-4c51-aa77-54ee6280ec76\",\"type\":\"ColumnDataSource\"}},\"id\":\"cbc00e10-1ee3-4231-a78d-05fb4694503c\",\"type\":\"CDSView\"},{\"attributes\":{},\"id\":\"3ade1105-3f64-448a-8a96-0baab04e9be3\",\"type\":\"HelpTool\"},{\"attributes\":{\"label\":{\"value\":\"Small cell load = 0.5\"},\"renderers\":[{\"id\":\"77ad1bf8-d91f-4c98-9de8-ad060beb1cba\",\"type\":\"GlyphRenderer\"}]},\"id\":\"58abf17d-5b0d-469b-98e6-1bf6affed683\",\"type\":\"LegendItem\"},{\"attributes\":{\"callback\":null,\"column_names\":[\"x\",\"y\"],\"data\":{\"x\":[-10,-3.0588936890535687,-2.0588936890535687,-1.0588936890535685,0.02856915219677092,0.9855004303048849,2.007195501404204,2.996388746447621,6.999774561287003,8.999943643624247,10.00002817736235],\"y\":{\"__ndarray__\":\"KVyPwvVMjkCuR+F6FKSOQNejcD0K4Y5AKVyPwvVAj0DsUbgehemOQIXrUbgem49ApHA9CtcbkEDXo3A9ClSQQOF6FK5HlZBA9ihcj8KZkEB7FK5H4ZmQQA==\",\"dtype\":\"float64\",\"shape\":[11]}}},\"id\":\"cc7ae4ba-7a28-4f40-8703-9f423b7df289\",\"type\":\"ColumnDataSource\"},{\"attributes\":{\"source\":{\"id\":\"6fdfeb46-f71b-4760-a50f-8eb6ca40f30f\",\"type\":\"ColumnDataSource\"}},\"id\":\"13b6c529-281b-477e-a9df-9d10e369c275\",\"type\":\"CDSView\"},{\"attributes\":{\"data_source\":{\"id\":\"7475fb4c-3c47-439c-97fb-0343a51dee01\",\"type\":\"ColumnDataSource\"},\"glyph\":{\"id\":\"f6eaacfc-23fe-4725-8f8b-da7055787f73\",\"type\":\"Line\"},\"hover_glyph\":null,\"muted_glyph\":null,\"nonselection_glyph\":{\"id\":\"6bc843cc-a39c-4c92-9469-aaa9948fa023\",\"type\":\"Line\"},\"selection_glyph\":null,\"view\":{\"id\":\"7392958c-2c05-4397-95dd-75304548c578\",\"type\":\"CDSView\"}},\"id\":\"77ad1bf8-d91f-4c98-9de8-ad060beb1cba\",\"type\":\"GlyphRenderer\"},{\"attributes\":{\"callback\":null,\"column_names\":[\"x\",\"y\"],\"data\":{\"x\":[-10,-3.0588936890535687,-2.0588936890535687,-1.0588936890535685,0.02856915219677092,0.9855004303048849,2.007195501404204,2.996388746447621,6.999774561287003,8.999943643624247,10.00002817736235],\"y\":{\"__ndarray__\":\"KVyPwvVMjkCuR+F6FKSOQNejcD0K4Y5AKVyPwvVAj0DsUbgehemOQIXrUbgem49ApHA9CtcbkEDXo3A9ClSQQOF6FK5HlZBA9ihcj8KZkEB7FK5H4ZmQQA==\",\"dtype\":\"float64\",\"shape\":[11]}}},\"id\":\"797cf3bf-2b57-431a-97c4-0b601dcf64c3\",\"type\":\"ColumnDataSource\"},{\"attributes\":{\"fill_color\":{\"value\":\"white\"},\"line_color\":{\"value\":\"navy\"},\"size\":{\"units\":\"screen\",\"value\":5},\"x\":{\"field\":\"x\"},\"y\":{\"field\":\"y\"}},\"id\":\"1765e4b3-83fb-4700-87e7-34e53d6f7262\",\"type\":\"Circle\"},{\"attributes\":{\"data_source\":{\"id\":\"d49f9878-791b-4d19-a39a-fab92f88e40e\",\"type\":\"ColumnDataSource\"},\"glyph\":{\"id\":\"1765e4b3-83fb-4700-87e7-34e53d6f7262\",\"type\":\"Circle\"},\"hover_glyph\":null,\"muted_glyph\":null,\"nonselection_glyph\":{\"id\":\"d3e32331-dd6a-4ba2-8d52-eedbab754498\",\"type\":\"Circle\"},\"selection_glyph\":null,\"view\":{\"id\":\"a23cef0d-08d0-4ee9-ae56-d0f15433bc4c\",\"type\":\"CDSView\"}},\"id\":\"b3377106-daef-45ec-b46e-f961abd34918\",\"type\":\"GlyphRenderer\"},{\"attributes\":{\"data_source\":{\"id\":\"797cf3bf-2b57-431a-97c4-0b601dcf64c3\",\"type\":\"ColumnDataSource\"},\"glyph\":{\"id\":\"23e7b263-f7a0-45d8-8b80-4d9f1aa29f78\",\"type\":\"Circle\"},\"hover_glyph\":null,\"muted_glyph\":null,\"nonselection_glyph\":{\"id\":\"78048c66-7776-4c1c-a958-71623f39d351\",\"type\":\"Circle\"},\"selection_glyph\":null,\"view\":{\"id\":\"e76e8c78-3691-48c4-9fc7-45defef5da72\",\"type\":\"CDSView\"}},\"id\":\"a58d3bd2-d653-4fd0-81e7-19ef79abea6f\",\"type\":\"GlyphRenderer\"},{\"attributes\":{\"callback\":null,\"column_names\":[\"x\",\"y\"],\"data\":{\"x\":[-10,-3.0588936890535687,-2.0,-1.0,0.0,1.0,2.0,3.0,7.0,9.0,10.0],\"y\":{\"__ndarray__\":\"UrgeheuHiECuR+F6FFyJQD0K16NwBYpAFK5H4XoGi0CF61G4Hk2MQM3MzMzMmI1AzczMzMymjkBSuB6F61uPQFK4HoXrF5BArkfhehQekED2KFyPwh+QQA==\",\"dtype\":\"float64\",\"shape\":[11]}}},\"id\":\"d49f9878-791b-4d19-a39a-fab92f88e40e\",\"type\":\"ColumnDataSource\"},{\"attributes\":{\"line_color\":{\"value\":\"navy\"},\"line_dash\":[15,2],\"x\":{\"field\":\"x\"},\"y\":{\"field\":\"y\"}},\"id\":\"2977792b-e2b8-4bb2-9fa5-36d383cf31a2\",\"type\":\"Line\"},{\"attributes\":{\"line_alpha\":{\"value\":0.1},\"line_color\":{\"value\":\"#1f77b4\"},\"x\":{\"field\":\"x\"},\"y\":{\"field\":\"y\"}},\"id\":\"15e557ae-6e53-486a-b712-3f26050e9fdf\",\"type\":\"Line\"},{\"attributes\":{\"callback\":null,\"column_names\":[\"x\",\"y\"],\"data\":{\"x\":[-10,-3.0588936890535687,-2.0,-1.0,0.0,1.0,2.0,3.0,7.0,9.0,10.0],\"y\":{\"__ndarray__\":\"UrgeheuHiECuR+F6FFyJQD0K16NwBYpAFK5H4XoGi0CF61G4Hk2MQM3MzMzMmI1AzczMzMymjkBSuB6F61uPQFK4HoXrF5BArkfhehQekED2KFyPwh+QQA==\",\"dtype\":\"float64\",\"shape\":[11]}}},\"id\":\"ef1f1937-031c-4bc5-8bf6-95d16c6c9b83\",\"type\":\"ColumnDataSource\"}],\"root_ids\":[\"ad3a5d0b-6833-4907-bb1e-a01c572d7f69\"]},\"title\":\"Bokeh Application\",\"version\":\"0.12.10\"}};\n",
       "    var render_items = [{\"docid\":\"91b15e86-38b5-4755-ab8f-7282fb788a1b\",\"elementid\":\"64df2816-5579-4b53-850f-23da3d43dc41\",\"modelid\":\"ad3a5d0b-6833-4907-bb1e-a01c572d7f69\"}];\n",
       "\n",
       "    root.Bokeh.embed.embed_items(docs_json, render_items);\n",
       "  }\n",
       "\n",
       "  if (root.Bokeh !== undefined) {\n",
       "    embed_document(root);\n",
       "  } else {\n",
       "    var attempts = 0;\n",
       "    var timer = setInterval(function(root) {\n",
       "      if (root.Bokeh !== undefined) {\n",
       "        embed_document(root);\n",
       "        clearInterval(timer);\n",
       "      }\n",
       "      attempts++;\n",
       "      if (attempts > 100) {\n",
       "        console.log(\"Bokeh: ERROR: Unable to embed document because BokehJS library is missing\")\n",
       "        clearInterval(timer);\n",
       "      }\n",
       "    }, 10, root)\n",
       "  }\n",
       "})(window);"
      ],
      "application/vnd.bokehjs_exec.v0+json": ""
     },
     "metadata": {
      "application/vnd.bokehjs_exec.v0+json": {
       "id": "ad3a5d0b-6833-4907-bb1e-a01c572d7f69"
      }
     },
     "output_type": "display_data"
    }
   ],
   "source": [
    "p0 = figure(plot_width=600, plot_height=400)\n",
    "\n",
    "\n",
    "p0.line(logscale(1), df[df.small_arrival==1].avg_power, line_color='navy',legend='Small cell load = 0.05')\n",
    "p0.circle(logscale(1), df[df.small_arrival==1].avg_power, color='white', line_color='navy',size=5)\n",
    "p0.line(logscale(4), df[df.small_arrival==4].avg_power, line_color='navy',line_dash=\"15 2\",legend='Small cell load = 0.2')\n",
    "p0.circle(logscale(4), df[df.small_arrival==4].avg_power, color='white', line_color='navy',size=5)\n",
    "\n",
    "p0.line(logscale(6), df[df.small_arrival==6].avg_power, line_color='navy',line_dash=\"4 4\",legend='Small cell load = 0.32')\n",
    "p0.circle(logscale(6), df[df.small_arrival==6].avg_power, color='white', line_color='navy',size=5)\n",
    "\n",
    "p0.line(logscale(9), df[df.small_arrival==9].avg_power, line_color='navy',line_dash=\"1 4\",legend='Small cell load = 0.5')\n",
    "p0.circle(logscale(9), df[df.small_arrival==9].avg_power, color='white', line_color='navy',size=5)\n",
    "\n",
    "\n",
    "p0.grid.grid_line_dash = [2,2]\n",
    "p0.grid.grid_line_alpha = 0.1\n",
    "\n",
    "p0.xaxis.axis_label = 'idle time in logscale (relative to avg. inter-arrival time)'\n",
    "p0.yaxis.axis_label = 'Mean power'\n",
    "\n",
    "p0.xaxis.axis_label_text_color = 'black'\n",
    "p0.xaxis.major_label_text_color = 'black'\n",
    "p0.yaxis.axis_label_text_color = 'black'\n",
    "p0.yaxis.major_label_text_color = 'black'\n",
    "p0.legend.label_text_color = 'black'\n",
    "\n",
    "p0.legend.location  = 'bottom_right'\n",
    "p0.outline_line_color = 'black'\n",
    "\n",
    "p0.axis.axis_label_text_font_size = '12pt'\n",
    "p0.axis.major_label_text_font_size = '10pt'\n",
    "\n",
    "show(p0)"
   ]
  },
  {
   "cell_type": "markdown",
   "metadata": {},
   "source": [
    "## 1.2 Long setup delay"
   ]
  },
  {
   "cell_type": "code",
   "execution_count": 42,
   "metadata": {},
   "outputs": [
    {
     "name": "stdout",
     "output_type": "stream",
     "text": [
      "\u001b[34mbak\u001b[m\u001b[m/                  \u001b[34msetup_1.0\u001b[m\u001b[m/            test.csv\r\n",
      "result.csv            \u001b[34msetup_1.0_erws\u001b[m\u001b[m/       visualization.ipynb\r\n",
      "\u001b[34msetup_0.05\u001b[m\u001b[m/           test-lb-policy.csv    visualization2.ipynb\r\n",
      "\u001b[34msetup_0.05_erws\u001b[m\u001b[m/      test-test.csv\r\n"
     ]
    }
   ],
   "source": [
    "%ls"
   ]
  },
  {
   "cell_type": "code",
   "execution_count": 43,
   "metadata": {},
   "outputs": [],
   "source": [
    "df=pd.read_csv('setup_1.0/output_1.csv', skiprows=1)\n",
    "\n",
    "if df.iloc[-1][0] > 0:\n",
    "    df = df.iloc[-1:]\n",
    "else:\n",
    "    df = df.iloc[1:2]\n",
    "\n",
    "for i in range(2,45):\n",
    "    df_tmp = pd.read_csv('setup_1.0/output_'+str(i)+'.csv', skiprows=1)\n",
    "\n",
    "    if df_tmp.iloc[-1][0] > 0:\n",
    "        df_tmp = df_tmp.iloc[-1:]\n",
    "    else:\n",
    "        df_tmp = df_tmp.iloc[1:2]\n",
    "    df = df.append(df_tmp)\n",
    "\n",
    "df['relative_idle_time'] = df.small_arrival * df.avg_idle_time"
   ]
  },
  {
   "cell_type": "code",
   "execution_count": 44,
   "metadata": {},
   "outputs": [
    {
     "data": {
      "text/html": [
       "\n",
       "<div class=\"bk-root\">\n",
       "    <div class=\"bk-plotdiv\" id=\"3230152e-ae81-4cf1-a06d-8265e7130704\"></div>\n",
       "</div>"
      ]
     },
     "metadata": {},
     "output_type": "display_data"
    },
    {
     "data": {
      "application/javascript": [
       "(function(root) {\n",
       "  function embed_document(root) {\n",
       "    var docs_json = {\"5326f123-7c45-4735-a159-60455891237b\":{\"roots\":{\"references\":[{\"attributes\":{},\"id\":\"5a775bcb-b0cd-4c48-b6f6-5aedb2032a29\",\"type\":\"WheelZoomTool\"},{\"attributes\":{\"data_source\":{\"id\":\"3e19d2a0-394f-44a2-bc5c-d7e7d19218e5\",\"type\":\"ColumnDataSource\"},\"glyph\":{\"id\":\"bd948b8b-c8fd-4b6b-8114-2d710e468bce\",\"type\":\"Line\"},\"hover_glyph\":null,\"muted_glyph\":null,\"nonselection_glyph\":{\"id\":\"b4cb07d9-a4af-4e32-949e-2ba80ec0f070\",\"type\":\"Line\"},\"selection_glyph\":null,\"view\":{\"id\":\"bf412c65-bb8f-4de0-9229-98a32affef31\",\"type\":\"CDSView\"}},\"id\":\"567365a0-f2df-4ddd-bd44-3fc3e7c629b0\",\"type\":\"GlyphRenderer\"},{\"attributes\":{\"line_color\":{\"value\":\"navy\"},\"line_dash\":[15,2],\"x\":{\"field\":\"x\"},\"y\":{\"field\":\"y\"}},\"id\":\"fe51b5e7-4dc7-4014-bbb5-4476652c1b62\",\"type\":\"Line\"},{\"attributes\":{\"fill_color\":{\"value\":\"white\"},\"line_color\":{\"value\":\"navy\"},\"size\":{\"units\":\"screen\",\"value\":5},\"x\":{\"field\":\"x\"},\"y\":{\"field\":\"y\"}},\"id\":\"17bf0c58-2b08-4ca7-8da7-b5e4ec2564b5\",\"type\":\"Circle\"},{\"attributes\":{\"fill_alpha\":{\"value\":0.1},\"fill_color\":{\"value\":\"#1f77b4\"},\"line_alpha\":{\"value\":0.1},\"line_color\":{\"value\":\"#1f77b4\"},\"size\":{\"units\":\"screen\",\"value\":5},\"x\":{\"field\":\"x\"},\"y\":{\"field\":\"y\"}},\"id\":\"9110b62a-1454-4d3b-a216-a4be22e2fe58\",\"type\":\"Circle\"},{\"attributes\":{\"data_source\":{\"id\":\"83d130fe-eb46-4070-b6fe-33ca4155ddc4\",\"type\":\"ColumnDataSource\"},\"glyph\":{\"id\":\"2f412fb4-f5b4-411b-9fc5-96637ef5ed3b\",\"type\":\"Circle\"},\"hover_glyph\":null,\"muted_glyph\":null,\"nonselection_glyph\":{\"id\":\"9110b62a-1454-4d3b-a216-a4be22e2fe58\",\"type\":\"Circle\"},\"selection_glyph\":null,\"view\":{\"id\":\"bf22cde4-1332-4562-9be6-b8b757c7f0b5\",\"type\":\"CDSView\"}},\"id\":\"e58c90f2-d7e8-4b70-a295-807f7415544d\",\"type\":\"GlyphRenderer\"},{\"attributes\":{\"callback\":null,\"column_names\":[\"x\",\"y\"],\"data\":{\"x\":[-10,-3.0588936890535687,-2.0588936890535687,-1.0588936890535685,0.0,1.0,2.0,3.0,7.0,9.0,10.0],\"y\":{\"__ndarray__\":\"E36pnzcV6D8nMQisHFrnP7dFmQ0yyeY/WFaalIJu5T/tEtVbA1vjP+NrzywJUOM/NlmjHqLR4T8xmSoYldTZPwDGM2jon7g/EfxvJTs2sj8VjErqBDSxPw==\",\"dtype\":\"float64\",\"shape\":[11]}}},\"id\":\"8d53f680-c955-4e33-9bb4-25e9575c2931\",\"type\":\"ColumnDataSource\"},{\"attributes\":{\"grid_line_alpha\":{\"value\":0.1},\"grid_line_dash\":[2,2],\"plot\":{\"id\":\"32f46860-1b45-48b1-bcad-bf78435d63a9\",\"subtype\":\"Figure\",\"type\":\"Plot\"},\"ticker\":{\"id\":\"7f06b1de-df14-4d1f-949b-84857aa16574\",\"type\":\"BasicTicker\"}},\"id\":\"38fa11eb-d57f-4e6b-a92d-dfd0f1e6d93a\",\"type\":\"Grid\"},{\"attributes\":{},\"id\":\"15c6da71-d0fc-4c26-9693-83c53f1c29e4\",\"type\":\"HelpTool\"},{\"attributes\":{\"label\":{\"value\":\"Small cell load = 0.5\"},\"renderers\":[{\"id\":\"c0fa608e-c427-4f69-bcf7-8b9c462132d5\",\"type\":\"GlyphRenderer\"}]},\"id\":\"45de1536-3955-4e06-8f38-79b592a2d2dc\",\"type\":\"LegendItem\"},{\"attributes\":{\"data_source\":{\"id\":\"4c153632-3e22-415b-8a31-7a2715eeff53\",\"type\":\"ColumnDataSource\"},\"glyph\":{\"id\":\"44171a23-cdcd-48f2-afda-bc42e4dd43e4\",\"type\":\"Line\"},\"hover_glyph\":null,\"muted_glyph\":null,\"nonselection_glyph\":{\"id\":\"052bf86c-a333-4ae6-8511-162cc3d6cae7\",\"type\":\"Line\"},\"selection_glyph\":null,\"view\":{\"id\":\"2b01d839-a726-49a2-8de0-8b513b94b8a4\",\"type\":\"CDSView\"}},\"id\":\"c0fa608e-c427-4f69-bcf7-8b9c462132d5\",\"type\":\"GlyphRenderer\"},{\"attributes\":{\"line_alpha\":{\"value\":0.1},\"line_color\":{\"value\":\"#1f77b4\"},\"line_dash\":[1,4],\"x\":{\"field\":\"x\"},\"y\":{\"field\":\"y\"}},\"id\":\"052bf86c-a333-4ae6-8511-162cc3d6cae7\",\"type\":\"Line\"},{\"attributes\":{\"line_alpha\":{\"value\":0.1},\"line_color\":{\"value\":\"#1f77b4\"},\"line_dash\":[4,4],\"x\":{\"field\":\"x\"},\"y\":{\"field\":\"y\"}},\"id\":\"b4cb07d9-a4af-4e32-949e-2ba80ec0f070\",\"type\":\"Line\"},{\"attributes\":{\"line_color\":{\"value\":\"navy\"},\"x\":{\"field\":\"x\"},\"y\":{\"field\":\"y\"}},\"id\":\"f5a18de7-ffc3-4b37-b63e-78981d160b55\",\"type\":\"Line\"},{\"attributes\":{\"callback\":null,\"column_names\":[\"x\",\"y\"],\"data\":{\"x\":[-10,-3.473931188332412,-1.8889686876112561,-0.888968687611256,-0.014499569695115089,0.9855004303048849,1.9855004303048849,3.0018022426339854,6.999774561287003,9.00002817736235,10.00002817736235],\"y\":[0.8825799999999999,0.86703,0.8587100000000001,0.83352,0.79714,0.7219800000000001,0.60744,0.60059,0.14812,0.0979,0.08918]}},\"id\":\"4c153632-3e22-415b-8a31-7a2715eeff53\",\"type\":\"ColumnDataSource\"},{\"attributes\":{\"source\":{\"id\":\"a68039bd-728f-4c5e-bc9c-955112ed8756\",\"type\":\"ColumnDataSource\"}},\"id\":\"dada5ba0-f6e0-468b-8d9b-855e487dfb36\",\"type\":\"CDSView\"},{\"attributes\":{\"fill_color\":{\"value\":\"white\"},\"line_color\":{\"value\":\"navy\"},\"size\":{\"units\":\"screen\",\"value\":5},\"x\":{\"field\":\"x\"},\"y\":{\"field\":\"y\"}},\"id\":\"e8300c2f-3a12-4f52-bf6c-c32c1f145c93\",\"type\":\"Circle\"},{\"attributes\":{\"bottom_units\":\"screen\",\"fill_alpha\":{\"value\":0.5},\"fill_color\":{\"value\":\"lightgrey\"},\"left_units\":\"screen\",\"level\":\"overlay\",\"line_alpha\":{\"value\":1.0},\"line_color\":{\"value\":\"black\"},\"line_dash\":[4,4],\"line_width\":{\"value\":2},\"plot\":null,\"render_mode\":\"css\",\"right_units\":\"screen\",\"top_units\":\"screen\"},\"id\":\"f67738b7-2379-47fe-ae00-294eedd6e692\",\"type\":\"BoxAnnotation\"},{\"attributes\":{\"line_alpha\":{\"value\":0.1},\"line_color\":{\"value\":\"#1f77b4\"},\"x\":{\"field\":\"x\"},\"y\":{\"field\":\"y\"}},\"id\":\"1b00f090-1fa1-44fe-9ff6-d338ec52958e\",\"type\":\"Line\"},{\"attributes\":{\"label\":{\"value\":\"Small cell load = 0.32\"},\"renderers\":[{\"id\":\"567365a0-f2df-4ddd-bd44-3fc3e7c629b0\",\"type\":\"GlyphRenderer\"}]},\"id\":\"51fa8f74-9b5a-4255-866c-93ca11180d65\",\"type\":\"LegendItem\"},{\"attributes\":{\"active_drag\":\"auto\",\"active_inspect\":\"auto\",\"active_scroll\":\"auto\",\"active_tap\":\"auto\",\"tools\":[{\"id\":\"7db9b9c0-c55f-44bc-b7fc-481254639cd8\",\"type\":\"PanTool\"},{\"id\":\"5a775bcb-b0cd-4c48-b6f6-5aedb2032a29\",\"type\":\"WheelZoomTool\"},{\"id\":\"a4f3d5a9-868b-465b-b851-d67d0513fde4\",\"type\":\"BoxZoomTool\"},{\"id\":\"3e8264e8-7e0c-41f4-b11e-465bc435f5d2\",\"type\":\"SaveTool\"},{\"id\":\"920b475c-d128-45c2-ab80-c07005f64abf\",\"type\":\"ResetTool\"},{\"id\":\"15c6da71-d0fc-4c26-9693-83c53f1c29e4\",\"type\":\"HelpTool\"}]},\"id\":\"bc4c2e07-f464-49fa-933b-053012ad93c6\",\"type\":\"Toolbar\"},{\"attributes\":{\"label\":{\"value\":\"Small cell load = 0.05\"},\"renderers\":[{\"id\":\"826e3df0-08cd-43b3-8411-9394fa8c00af\",\"type\":\"GlyphRenderer\"}]},\"id\":\"47940d6d-eac6-49de-814b-080651060763\",\"type\":\"LegendItem\"},{\"attributes\":{},\"id\":\"7f06b1de-df14-4d1f-949b-84857aa16574\",\"type\":\"BasicTicker\"},{\"attributes\":{},\"id\":\"ad7150be-64a6-4d92-87c7-58f4096b493f\",\"type\":\"BasicTickFormatter\"},{\"attributes\":{\"data_source\":{\"id\":\"8d53f680-c955-4e33-9bb4-25e9575c2931\",\"type\":\"ColumnDataSource\"},\"glyph\":{\"id\":\"fe51b5e7-4dc7-4014-bbb5-4476652c1b62\",\"type\":\"Line\"},\"hover_glyph\":null,\"muted_glyph\":null,\"nonselection_glyph\":{\"id\":\"d660a3ba-e10f-4e47-ab28-847252d3395e\",\"type\":\"Line\"},\"selection_glyph\":null,\"view\":{\"id\":\"b37f8a0f-1332-4118-ad6a-93d79a5b59ae\",\"type\":\"CDSView\"}},\"id\":\"0a80b5ec-860d-4ef8-a7ac-78b25c5b097e\",\"type\":\"GlyphRenderer\"},{\"attributes\":{\"line_color\":{\"value\":\"navy\"},\"line_dash\":[4,4],\"x\":{\"field\":\"x\"},\"y\":{\"field\":\"y\"}},\"id\":\"bd948b8b-c8fd-4b6b-8114-2d710e468bce\",\"type\":\"Line\"},{\"attributes\":{\"line_alpha\":{\"value\":0.1},\"line_color\":{\"value\":\"#1f77b4\"},\"x\":{\"field\":\"x\"},\"y\":{\"field\":\"y\"}},\"id\":\"739dd2a8-a5cc-40fb-a358-95b7ae4fd468\",\"type\":\"Line\"},{\"attributes\":{},\"id\":\"920b475c-d128-45c2-ab80-c07005f64abf\",\"type\":\"ResetTool\"},{\"attributes\":{\"below\":[{\"id\":\"b8fff57a-4b9d-49a7-a4cd-a4b2b9142f09\",\"type\":\"LinearAxis\"}],\"left\":[{\"id\":\"18c4cfce-64cc-4bda-8598-356babf100d7\",\"type\":\"LinearAxis\"}],\"outline_line_color\":{\"value\":\"black\"},\"plot_height\":400,\"renderers\":[{\"id\":\"b8fff57a-4b9d-49a7-a4cd-a4b2b9142f09\",\"type\":\"LinearAxis\"},{\"id\":\"38fa11eb-d57f-4e6b-a92d-dfd0f1e6d93a\",\"type\":\"Grid\"},{\"id\":\"18c4cfce-64cc-4bda-8598-356babf100d7\",\"type\":\"LinearAxis\"},{\"id\":\"69695033-8591-4f1a-8929-40201c068506\",\"type\":\"Grid\"},{\"id\":\"f67738b7-2379-47fe-ae00-294eedd6e692\",\"type\":\"BoxAnnotation\"},{\"id\":\"7aba48f2-5ee3-40a7-a800-f98b0d335603\",\"type\":\"Legend\"},{\"id\":\"826e3df0-08cd-43b3-8411-9394fa8c00af\",\"type\":\"GlyphRenderer\"},{\"id\":\"e794e932-55a6-48d5-92d6-6cef90f3859a\",\"type\":\"GlyphRenderer\"},{\"id\":\"0a80b5ec-860d-4ef8-a7ac-78b25c5b097e\",\"type\":\"GlyphRenderer\"},{\"id\":\"e58c90f2-d7e8-4b70-a295-807f7415544d\",\"type\":\"GlyphRenderer\"},{\"id\":\"567365a0-f2df-4ddd-bd44-3fc3e7c629b0\",\"type\":\"GlyphRenderer\"},{\"id\":\"3a41ca76-79f8-4bf2-984e-abb022937e6e\",\"type\":\"GlyphRenderer\"},{\"id\":\"c0fa608e-c427-4f69-bcf7-8b9c462132d5\",\"type\":\"GlyphRenderer\"},{\"id\":\"ecd9d244-0083-4890-957a-5a008b1e5f96\",\"type\":\"GlyphRenderer\"},{\"id\":\"5ae181c2-51bd-4813-9030-813365d411c0\",\"type\":\"GlyphRenderer\"}],\"title\":{\"id\":\"7996851b-926a-4e88-bf88-85c059650903\",\"type\":\"Title\"},\"toolbar\":{\"id\":\"bc4c2e07-f464-49fa-933b-053012ad93c6\",\"type\":\"Toolbar\"},\"x_range\":{\"id\":\"822bc39e-f10d-4ac0-bb09-f068714a7c81\",\"type\":\"DataRange1d\"},\"x_scale\":{\"id\":\"1e81a53e-32ca-4285-a9b6-9e9d70fd540f\",\"type\":\"LinearScale\"},\"y_range\":{\"id\":\"671b7709-be2b-443d-9aa2-6f332e7cbd3e\",\"type\":\"DataRange1d\"},\"y_scale\":{\"id\":\"0f40dba1-1509-4b5c-b70c-26a1298bf3f1\",\"type\":\"LinearScale\"}},\"id\":\"32f46860-1b45-48b1-bcad-bf78435d63a9\",\"subtype\":\"Figure\",\"type\":\"Plot\"},{\"attributes\":{},\"id\":\"1bdd8f9a-8c88-46bb-a1b4-cc1414a501df\",\"type\":\"BasicTicker\"},{\"attributes\":{\"callback\":null,\"column_names\":[\"x\",\"y\"],\"data\":{\"x\":[-10,-3.0588936890535687,-2.0588936890535687,-1.0588936890535685,0.0,1.0,2.0,3.0,7.0,9.0,10.0],\"y\":{\"__ndarray__\":\"E36pnzcV6D8nMQisHFrnP7dFmQ0yyeY/WFaalIJu5T/tEtVbA1vjP+NrzywJUOM/NlmjHqLR4T8xmSoYldTZPwDGM2jon7g/EfxvJTs2sj8VjErqBDSxPw==\",\"dtype\":\"float64\",\"shape\":[11]}}},\"id\":\"83d130fe-eb46-4070-b6fe-33ca4155ddc4\",\"type\":\"ColumnDataSource\"},{\"attributes\":{\"callback\":null,\"column_names\":[\"x\",\"y\"],\"data\":{\"x\":[-10,-3.0588936890535687,-2.0,-1.0,0.0,1.0,2.0,3.0,7.0,9.0,10.0],\"y\":{\"__ndarray__\":\"jBU1mIbhxz9qh78ma9THP+Oqsu+K4Mc/5+PaUDHOxz/+8V61MuHHP8djBirj38c/4iNiSiTRxz/HYwYq49/HPzlAMEeP38c/hs5r7BLVxz9hjh6/t+nHPw==\",\"dtype\":\"float64\",\"shape\":[11]}}},\"id\":\"121bef59-e669-4709-a340-a77b314f835b\",\"type\":\"ColumnDataSource\"},{\"attributes\":{\"data_source\":{\"id\":\"915fb1fb-b3c3-49bb-9c23-889d5ae5f6d2\",\"type\":\"ColumnDataSource\"},\"glyph\":{\"id\":\"f5a18de7-ffc3-4b37-b63e-78981d160b55\",\"type\":\"Line\"},\"hover_glyph\":null,\"muted_glyph\":null,\"nonselection_glyph\":{\"id\":\"739dd2a8-a5cc-40fb-a358-95b7ae4fd468\",\"type\":\"Line\"},\"selection_glyph\":null,\"view\":{\"id\":\"67e6b3fe-7d2f-4409-84b7-18779dc6063c\",\"type\":\"CDSView\"}},\"id\":\"826e3df0-08cd-43b3-8411-9394fa8c00af\",\"type\":\"GlyphRenderer\"},{\"attributes\":{\"callback\":null,\"column_names\":[\"x\",\"y\"],\"data\":{\"x\":[-10,-3.0588936890535687,-2.0588936890535687,-1.0588936890535685,0.02856915219677092,0.9855004303048849,2.007195501404204,2.996388746447621,6.999774561287003,8.999943643624247,10.00002817736235],\"y\":{\"__ndarray__\":\"+z+H+fIC6z+9y0V8J2bqPzVeukkMAuo/9ihcj8L16D9uL2mM1lHnP+krSDMWTeQ/lZ9U+3Q84z/MZ3ke3J3fP/eSxmgdVb0/9+l4zEBltD/kiLX4FACzPw==\",\"dtype\":\"float64\",\"shape\":[11]}}},\"id\":\"4537f51f-2b04-4ce5-9492-dbe3cb8d6212\",\"type\":\"ColumnDataSource\"},{\"attributes\":{\"line_color\":{\"value\":\"navy\"},\"line_dash\":[1,4],\"x\":{\"field\":\"x\"},\"y\":{\"field\":\"y\"}},\"id\":\"44171a23-cdcd-48f2-afda-bc42e4dd43e4\",\"type\":\"Line\"},{\"attributes\":{\"source\":{\"id\":\"8d53f680-c955-4e33-9bb4-25e9575c2931\",\"type\":\"ColumnDataSource\"}},\"id\":\"b37f8a0f-1332-4118-ad6a-93d79a5b59ae\",\"type\":\"CDSView\"},{\"attributes\":{},\"id\":\"7db9b9c0-c55f-44bc-b7fc-481254639cd8\",\"type\":\"PanTool\"},{\"attributes\":{\"fill_alpha\":{\"value\":0.1},\"fill_color\":{\"value\":\"#1f77b4\"},\"line_alpha\":{\"value\":0.1},\"line_color\":{\"value\":\"#1f77b4\"},\"size\":{\"units\":\"screen\",\"value\":5},\"x\":{\"field\":\"x\"},\"y\":{\"field\":\"y\"}},\"id\":\"0fa13ff3-f2bd-4ea5-b96d-3fcddacec97a\",\"type\":\"Circle\"},{\"attributes\":{\"callback\":null,\"column_names\":[\"x\",\"y\"],\"data\":{\"x\":[-10,-3.0588936890535687,-2.0588936890535687,-1.0588936890535685,0.02856915219677092,0.9855004303048849,2.007195501404204,2.996388746447621,6.999774561287003,8.999943643624247,10.00002817736235],\"y\":{\"__ndarray__\":\"+z+H+fIC6z+9y0V8J2bqPzVeukkMAuo/9ihcj8L16D9uL2mM1lHnP+krSDMWTeQ/lZ9U+3Q84z/MZ3ke3J3fP/eSxmgdVb0/9+l4zEBltD/kiLX4FACzPw==\",\"dtype\":\"float64\",\"shape\":[11]}}},\"id\":\"3e19d2a0-394f-44a2-bc5c-d7e7d19218e5\",\"type\":\"ColumnDataSource\"},{\"attributes\":{\"fill_color\":{\"value\":\"white\"},\"line_color\":{\"value\":\"navy\"},\"size\":{\"units\":\"screen\",\"value\":5},\"x\":{\"field\":\"x\"},\"y\":{\"field\":\"y\"}},\"id\":\"2f412fb4-f5b4-411b-9fc5-96637ef5ed3b\",\"type\":\"Circle\"},{\"attributes\":{\"plot\":null,\"text\":\"\"},\"id\":\"7996851b-926a-4e88-bf88-85c059650903\",\"type\":\"Title\"},{\"attributes\":{\"data_source\":{\"id\":\"b6317eb0-8a04-4eb7-a3f8-69b3fbede778\",\"type\":\"ColumnDataSource\"},\"glyph\":{\"id\":\"e8300c2f-3a12-4f52-bf6c-c32c1f145c93\",\"type\":\"Circle\"},\"hover_glyph\":null,\"muted_glyph\":null,\"nonselection_glyph\":{\"id\":\"ff8f63d8-47f6-473c-89f0-e89e16736dfd\",\"type\":\"Circle\"},\"selection_glyph\":null,\"view\":{\"id\":\"85020947-cd93-4700-aeb4-66e6f22ac5ba\",\"type\":\"CDSView\"}},\"id\":\"ecd9d244-0083-4890-957a-5a008b1e5f96\",\"type\":\"GlyphRenderer\"},{\"attributes\":{\"source\":{\"id\":\"3e19d2a0-394f-44a2-bc5c-d7e7d19218e5\",\"type\":\"ColumnDataSource\"}},\"id\":\"bf412c65-bb8f-4de0-9229-98a32affef31\",\"type\":\"CDSView\"},{\"attributes\":{\"callback\":null},\"id\":\"671b7709-be2b-443d-9aa2-6f332e7cbd3e\",\"type\":\"DataRange1d\"},{\"attributes\":{\"data_source\":{\"id\":\"4537f51f-2b04-4ce5-9492-dbe3cb8d6212\",\"type\":\"ColumnDataSource\"},\"glyph\":{\"id\":\"3739bd40-2881-45bb-b69c-dbf8b191b59f\",\"type\":\"Circle\"},\"hover_glyph\":null,\"muted_glyph\":null,\"nonselection_glyph\":{\"id\":\"376b05c7-c7aa-47c8-af70-34b42d3e848c\",\"type\":\"Circle\"},\"selection_glyph\":null,\"view\":{\"id\":\"de3f3c41-b9a5-4ec8-943b-3a872999dabb\",\"type\":\"CDSView\"}},\"id\":\"3a41ca76-79f8-4bf2-984e-abb022937e6e\",\"type\":\"GlyphRenderer\"},{\"attributes\":{\"source\":{\"id\":\"4537f51f-2b04-4ce5-9492-dbe3cb8d6212\",\"type\":\"ColumnDataSource\"}},\"id\":\"de3f3c41-b9a5-4ec8-943b-3a872999dabb\",\"type\":\"CDSView\"},{\"attributes\":{\"axis_label\":\"Mean response time\",\"axis_label_text_color\":{\"value\":\"black\"},\"axis_label_text_font_size\":{\"value\":\"12pt\"},\"formatter\":{\"id\":\"bb008f28-35a0-4d7d-96a3-fe6bd9164378\",\"type\":\"BasicTickFormatter\"},\"major_label_text_color\":{\"value\":\"black\"},\"major_label_text_font_size\":{\"value\":\"10pt\"},\"plot\":{\"id\":\"32f46860-1b45-48b1-bcad-bf78435d63a9\",\"subtype\":\"Figure\",\"type\":\"Plot\"},\"ticker\":{\"id\":\"1bdd8f9a-8c88-46bb-a1b4-cc1414a501df\",\"type\":\"BasicTicker\"}},\"id\":\"18c4cfce-64cc-4bda-8598-356babf100d7\",\"type\":\"LinearAxis\"},{\"attributes\":{\"items\":[{\"id\":\"47940d6d-eac6-49de-814b-080651060763\",\"type\":\"LegendItem\"},{\"id\":\"8941917e-e7fb-451d-a1c1-b601ffc960fe\",\"type\":\"LegendItem\"},{\"id\":\"51fa8f74-9b5a-4255-866c-93ca11180d65\",\"type\":\"LegendItem\"},{\"id\":\"45de1536-3955-4e06-8f38-79b592a2d2dc\",\"type\":\"LegendItem\"},{\"id\":\"bce91940-c7f3-42cf-8be3-17e92f2437c8\",\"type\":\"LegendItem\"}],\"label_text_color\":{\"value\":\"black\"},\"plot\":{\"id\":\"32f46860-1b45-48b1-bcad-bf78435d63a9\",\"subtype\":\"Figure\",\"type\":\"Plot\"}},\"id\":\"7aba48f2-5ee3-40a7-a800-f98b0d335603\",\"type\":\"Legend\"},{\"attributes\":{\"callback\":null,\"column_names\":[\"x\",\"y\"],\"data\":{\"x\":[-10,-3.0588936890535687,-2.0,-1.0,0.0,1.0,2.0,3.0,7.0,9.0,10.0],\"y\":{\"__ndarray__\":\"jBU1mIbhxz9qh78ma9THP+Oqsu+K4Mc/5+PaUDHOxz/+8V61MuHHP8djBirj38c/4iNiSiTRxz/HYwYq49/HPzlAMEeP38c/hs5r7BLVxz9hjh6/t+nHPw==\",\"dtype\":\"float64\",\"shape\":[11]}}},\"id\":\"915fb1fb-b3c3-49bb-9c23-889d5ae5f6d2\",\"type\":\"ColumnDataSource\"},{\"attributes\":{\"line_color\":{\"value\":\"red\"},\"x\":{\"field\":\"x\"},\"y\":{\"field\":\"y\"}},\"id\":\"2d701c28-6f85-467d-bbc3-79b4c831094d\",\"type\":\"Line\"},{\"attributes\":{\"fill_color\":{\"value\":\"white\"},\"line_color\":{\"value\":\"navy\"},\"size\":{\"units\":\"screen\",\"value\":5},\"x\":{\"field\":\"x\"},\"y\":{\"field\":\"y\"}},\"id\":\"3739bd40-2881-45bb-b69c-dbf8b191b59f\",\"type\":\"Circle\"},{\"attributes\":{\"source\":{\"id\":\"915fb1fb-b3c3-49bb-9c23-889d5ae5f6d2\",\"type\":\"ColumnDataSource\"}},\"id\":\"67e6b3fe-7d2f-4409-84b7-18779dc6063c\",\"type\":\"CDSView\"},{\"attributes\":{\"callback\":null,\"column_names\":[\"x\",\"y\"],\"data\":{\"x\":[-10,-3.473931188332412,-1.8889686876112561,-0.888968687611256,-0.014499569695115089,0.9855004303048849,1.9855004303048849,3.0018022426339854,6.999774561287003,9.00002817736235,10.00002817736235],\"y\":{\"__ndarray__\":\"WFGDaRg+7D8C1NSytb7rP+7w12SNeus/QPuRIjKs6j+Kq8q+K4LpP+62C811Guc/HAjJAiZw4z+cvwmFCDjjPy8X8Z2Y9cI/OUVHcvkPuT9NEHUfgNS2Pw==\",\"dtype\":\"float64\",\"shape\":[11]}}},\"id\":\"b6317eb0-8a04-4eb7-a3f8-69b3fbede778\",\"type\":\"ColumnDataSource\"},{\"attributes\":{\"line_alpha\":{\"value\":0.1},\"line_color\":{\"value\":\"#1f77b4\"},\"line_dash\":[15,2],\"x\":{\"field\":\"x\"},\"y\":{\"field\":\"y\"}},\"id\":\"d660a3ba-e10f-4e47-ab28-847252d3395e\",\"type\":\"Line\"},{\"attributes\":{\"label\":{\"value\":\"Small cell load = 0.2\"},\"renderers\":[{\"id\":\"0a80b5ec-860d-4ef8-a7ac-78b25c5b097e\",\"type\":\"GlyphRenderer\"}]},\"id\":\"8941917e-e7fb-451d-a1c1-b601ffc960fe\",\"type\":\"LegendItem\"},{\"attributes\":{\"data_source\":{\"id\":\"121bef59-e669-4709-a340-a77b314f835b\",\"type\":\"ColumnDataSource\"},\"glyph\":{\"id\":\"17bf0c58-2b08-4ca7-8da7-b5e4ec2564b5\",\"type\":\"Circle\"},\"hover_glyph\":null,\"muted_glyph\":null,\"nonselection_glyph\":{\"id\":\"0fa13ff3-f2bd-4ea5-b96d-3fcddacec97a\",\"type\":\"Circle\"},\"selection_glyph\":null,\"view\":{\"id\":\"43c4b569-f789-437f-a5a7-f2968c9cbd68\",\"type\":\"CDSView\"}},\"id\":\"e794e932-55a6-48d5-92d6-6cef90f3859a\",\"type\":\"GlyphRenderer\"},{\"attributes\":{\"axis_label\":\"idle time in logscale (relative to avg. inter-arrival time)\",\"axis_label_text_color\":{\"value\":\"black\"},\"axis_label_text_font_size\":{\"value\":\"12pt\"},\"formatter\":{\"id\":\"ad7150be-64a6-4d92-87c7-58f4096b493f\",\"type\":\"BasicTickFormatter\"},\"major_label_text_color\":{\"value\":\"black\"},\"major_label_text_font_size\":{\"value\":\"10pt\"},\"plot\":{\"id\":\"32f46860-1b45-48b1-bcad-bf78435d63a9\",\"subtype\":\"Figure\",\"type\":\"Plot\"},\"ticker\":{\"id\":\"7f06b1de-df14-4d1f-949b-84857aa16574\",\"type\":\"BasicTicker\"}},\"id\":\"b8fff57a-4b9d-49a7-a4cd-a4b2b9142f09\",\"type\":\"LinearAxis\"},{\"attributes\":{\"source\":{\"id\":\"b6317eb0-8a04-4eb7-a3f8-69b3fbede778\",\"type\":\"ColumnDataSource\"}},\"id\":\"85020947-cd93-4700-aeb4-66e6f22ac5ba\",\"type\":\"CDSView\"},{\"attributes\":{\"fill_alpha\":{\"value\":0.1},\"fill_color\":{\"value\":\"#1f77b4\"},\"line_alpha\":{\"value\":0.1},\"line_color\":{\"value\":\"#1f77b4\"},\"size\":{\"units\":\"screen\",\"value\":5},\"x\":{\"field\":\"x\"},\"y\":{\"field\":\"y\"}},\"id\":\"376b05c7-c7aa-47c8-af70-34b42d3e848c\",\"type\":\"Circle\"},{\"attributes\":{},\"id\":\"3e8264e8-7e0c-41f4-b11e-465bc435f5d2\",\"type\":\"SaveTool\"},{\"attributes\":{\"callback\":null,\"column_names\":[\"x\",\"y\"],\"data\":{\"x\":[-10,0,1,2,10],\"y\":{\"__ndarray__\":\"MzMzMzMz4z8zMzMzMzPjPzMzMzMzM+M/MzMzMzMz4z8zMzMzMzPjPw==\",\"dtype\":\"float64\",\"shape\":[5]}}},\"id\":\"a68039bd-728f-4c5e-bc9c-955112ed8756\",\"type\":\"ColumnDataSource\"},{\"attributes\":{},\"id\":\"1e81a53e-32ca-4285-a9b6-9e9d70fd540f\",\"type\":\"LinearScale\"},{\"attributes\":{\"dimension\":1,\"grid_line_alpha\":{\"value\":0.1},\"grid_line_dash\":[2,2],\"plot\":{\"id\":\"32f46860-1b45-48b1-bcad-bf78435d63a9\",\"subtype\":\"Figure\",\"type\":\"Plot\"},\"ticker\":{\"id\":\"1bdd8f9a-8c88-46bb-a1b4-cc1414a501df\",\"type\":\"BasicTicker\"}},\"id\":\"69695033-8591-4f1a-8929-40201c068506\",\"type\":\"Grid\"},{\"attributes\":{\"source\":{\"id\":\"121bef59-e669-4709-a340-a77b314f835b\",\"type\":\"ColumnDataSource\"}},\"id\":\"43c4b569-f789-437f-a5a7-f2968c9cbd68\",\"type\":\"CDSView\"},{\"attributes\":{\"label\":{\"value\":\"constraint\"},\"renderers\":[{\"id\":\"5ae181c2-51bd-4813-9030-813365d411c0\",\"type\":\"GlyphRenderer\"}]},\"id\":\"bce91940-c7f3-42cf-8be3-17e92f2437c8\",\"type\":\"LegendItem\"},{\"attributes\":{},\"id\":\"0f40dba1-1509-4b5c-b70c-26a1298bf3f1\",\"type\":\"LinearScale\"},{\"attributes\":{\"fill_alpha\":{\"value\":0.1},\"fill_color\":{\"value\":\"#1f77b4\"},\"line_alpha\":{\"value\":0.1},\"line_color\":{\"value\":\"#1f77b4\"},\"size\":{\"units\":\"screen\",\"value\":5},\"x\":{\"field\":\"x\"},\"y\":{\"field\":\"y\"}},\"id\":\"ff8f63d8-47f6-473c-89f0-e89e16736dfd\",\"type\":\"Circle\"},{\"attributes\":{\"source\":{\"id\":\"83d130fe-eb46-4070-b6fe-33ca4155ddc4\",\"type\":\"ColumnDataSource\"}},\"id\":\"bf22cde4-1332-4562-9be6-b8b757c7f0b5\",\"type\":\"CDSView\"},{\"attributes\":{\"overlay\":{\"id\":\"f67738b7-2379-47fe-ae00-294eedd6e692\",\"type\":\"BoxAnnotation\"}},\"id\":\"a4f3d5a9-868b-465b-b851-d67d0513fde4\",\"type\":\"BoxZoomTool\"},{\"attributes\":{},\"id\":\"bb008f28-35a0-4d7d-96a3-fe6bd9164378\",\"type\":\"BasicTickFormatter\"},{\"attributes\":{\"source\":{\"id\":\"4c153632-3e22-415b-8a31-7a2715eeff53\",\"type\":\"ColumnDataSource\"}},\"id\":\"2b01d839-a726-49a2-8de0-8b513b94b8a4\",\"type\":\"CDSView\"},{\"attributes\":{\"data_source\":{\"id\":\"a68039bd-728f-4c5e-bc9c-955112ed8756\",\"type\":\"ColumnDataSource\"},\"glyph\":{\"id\":\"2d701c28-6f85-467d-bbc3-79b4c831094d\",\"type\":\"Line\"},\"hover_glyph\":null,\"muted_glyph\":null,\"nonselection_glyph\":{\"id\":\"1b00f090-1fa1-44fe-9ff6-d338ec52958e\",\"type\":\"Line\"},\"selection_glyph\":null,\"view\":{\"id\":\"dada5ba0-f6e0-468b-8d9b-855e487dfb36\",\"type\":\"CDSView\"}},\"id\":\"5ae181c2-51bd-4813-9030-813365d411c0\",\"type\":\"GlyphRenderer\"},{\"attributes\":{\"callback\":null},\"id\":\"822bc39e-f10d-4ac0-bb09-f068714a7c81\",\"type\":\"DataRange1d\"}],\"root_ids\":[\"32f46860-1b45-48b1-bcad-bf78435d63a9\"]},\"title\":\"Bokeh Application\",\"version\":\"0.12.10\"}};\n",
       "    var render_items = [{\"docid\":\"5326f123-7c45-4735-a159-60455891237b\",\"elementid\":\"3230152e-ae81-4cf1-a06d-8265e7130704\",\"modelid\":\"32f46860-1b45-48b1-bcad-bf78435d63a9\"}];\n",
       "\n",
       "    root.Bokeh.embed.embed_items(docs_json, render_items);\n",
       "  }\n",
       "\n",
       "  if (root.Bokeh !== undefined) {\n",
       "    embed_document(root);\n",
       "  } else {\n",
       "    var attempts = 0;\n",
       "    var timer = setInterval(function(root) {\n",
       "      if (root.Bokeh !== undefined) {\n",
       "        embed_document(root);\n",
       "        clearInterval(timer);\n",
       "      }\n",
       "      attempts++;\n",
       "      if (attempts > 100) {\n",
       "        console.log(\"Bokeh: ERROR: Unable to embed document because BokehJS library is missing\")\n",
       "        clearInterval(timer);\n",
       "      }\n",
       "    }, 10, root)\n",
       "  }\n",
       "})(window);"
      ],
      "application/vnd.bokehjs_exec.v0+json": ""
     },
     "metadata": {
      "application/vnd.bokehjs_exec.v0+json": {
       "id": "32f46860-1b45-48b1-bcad-bf78435d63a9"
      }
     },
     "output_type": "display_data"
    }
   ],
   "source": [
    "p0 = figure(plot_width=600, plot_height=400)\n",
    "\n",
    "#source = ColumnDataSource(df.loc[0:27])\n",
    "\n",
    "p0.line(logscale(1), df[df.small_arrival==1].avg_resp_time, line_color='navy',legend='Small cell load = 0.05')\n",
    "p0.circle(logscale(1), df[df.small_arrival==1].avg_resp_time, color='white', line_color='navy',size=5)\n",
    "p0.line(logscale(4), df[df.small_arrival==4].avg_resp_time, line_color='navy',line_dash=\"15 2\",legend='Small cell load = 0.2')\n",
    "p0.circle(logscale(4), df[df.small_arrival==4].avg_resp_time, color='white', line_color='navy',size=5)\n",
    "\n",
    "p0.line(logscale(6), df[df.small_arrival==6].avg_resp_time, line_color='navy',line_dash=\"4 4\",legend='Small cell load = 0.32')\n",
    "p0.circle(logscale(6), df[df.small_arrival==6].avg_resp_time, color='white', line_color='navy',size=5)\n",
    "\n",
    "p0.line(logscale(9), df[df.small_arrival==9].avg_resp_time.tolist(), line_color='navy',line_dash=\"1 4\",legend='Small cell load = 0.5')\n",
    "p0.circle(logscale(9), df[df.small_arrival==9].avg_resp_time, color='white', line_color='navy',size=5)\n",
    "\n",
    "\n",
    "\n",
    "p0.line([-10, 0,1,2,10],0.6*np.ones(5),line_color='red',legend='constraint')\n",
    "\n",
    "p0.grid.grid_line_dash = [2,2]\n",
    "p0.grid.grid_line_alpha = 0.1\n",
    "\n",
    "p0.xaxis.axis_label = 'idle time in logscale (relative to avg. inter-arrival time)'\n",
    "p0.yaxis.axis_label = 'Mean response time'\n",
    "\n",
    "p0.xaxis.axis_label_text_color = 'black'\n",
    "p0.xaxis.major_label_text_color = 'black'\n",
    "p0.yaxis.axis_label_text_color = 'black'\n",
    "p0.yaxis.major_label_text_color = 'black'\n",
    "p0.legend.label_text_color = 'black'\n",
    "\n",
    "p0.legend.location  = 'top_right'\n",
    "p0.outline_line_color = 'black'\n",
    "\n",
    "p0.axis.axis_label_text_font_size = '12pt'\n",
    "p0.axis.major_label_text_font_size = '10pt'\n",
    "\n",
    "show(p0)"
   ]
  },
  {
   "cell_type": "code",
   "execution_count": 45,
   "metadata": {},
   "outputs": [
    {
     "data": {
      "text/html": [
       "\n",
       "<div class=\"bk-root\">\n",
       "    <div class=\"bk-plotdiv\" id=\"bdd92ba6-8f17-49ff-b32b-d745a48a1ea9\"></div>\n",
       "</div>"
      ]
     },
     "metadata": {},
     "output_type": "display_data"
    },
    {
     "data": {
      "application/javascript": [
       "(function(root) {\n",
       "  function embed_document(root) {\n",
       "    var docs_json = {\"545a12e8-bb5e-4ef5-952b-dfa30cb575ed\":{\"roots\":{\"references\":[{\"attributes\":{\"active_drag\":\"auto\",\"active_inspect\":\"auto\",\"active_scroll\":\"auto\",\"active_tap\":\"auto\",\"tools\":[{\"id\":\"1daf3ef6-8ac7-4de4-ae20-0bf14813c355\",\"type\":\"PanTool\"},{\"id\":\"52587546-55cd-4440-8fe1-be0fd921175e\",\"type\":\"WheelZoomTool\"},{\"id\":\"b907e2cb-8489-4e54-b18f-6cc0189d2595\",\"type\":\"BoxZoomTool\"},{\"id\":\"4194d66b-1076-4840-bca8-6a9e03ea6810\",\"type\":\"SaveTool\"},{\"id\":\"44b82fe3-7437-4751-8e52-6f7fa7c56ff4\",\"type\":\"ResetTool\"},{\"id\":\"7a97cd62-3a27-4518-a223-ed8bd4d4a12d\",\"type\":\"HelpTool\"}]},\"id\":\"efac15f9-b5e8-4e9f-8d27-334b9cc4782c\",\"type\":\"Toolbar\"},{\"attributes\":{\"line_alpha\":{\"value\":0.1},\"line_color\":{\"value\":\"#1f77b4\"},\"line_dash\":[15,2],\"x\":{\"field\":\"x\"},\"y\":{\"field\":\"y\"}},\"id\":\"aed022a6-bc24-4955-9720-40253962d577\",\"type\":\"Line\"},{\"attributes\":{\"source\":{\"id\":\"1f9dadb9-f20a-4271-a255-cdb9d6309341\",\"type\":\"ColumnDataSource\"}},\"id\":\"30fa766d-e47f-4897-9674-89659e6c8c01\",\"type\":\"CDSView\"},{\"attributes\":{\"data_source\":{\"id\":\"f665880b-7461-4051-9c3b-17d46494fb87\",\"type\":\"ColumnDataSource\"},\"glyph\":{\"id\":\"be492fc2-73c8-4800-84e7-9cce25f3f48f\",\"type\":\"Circle\"},\"hover_glyph\":null,\"muted_glyph\":null,\"nonselection_glyph\":{\"id\":\"2cc0c336-df74-4b1a-ac44-95873d0b6bcc\",\"type\":\"Circle\"},\"selection_glyph\":null,\"view\":{\"id\":\"83a3bf90-7853-48b2-a3c1-dc670dbff7bd\",\"type\":\"CDSView\"}},\"id\":\"beb35d5d-42c5-46a8-909b-f80b5d0eb745\",\"type\":\"GlyphRenderer\"},{\"attributes\":{\"bottom_units\":\"screen\",\"fill_alpha\":{\"value\":0.5},\"fill_color\":{\"value\":\"lightgrey\"},\"left_units\":\"screen\",\"level\":\"overlay\",\"line_alpha\":{\"value\":1.0},\"line_color\":{\"value\":\"black\"},\"line_dash\":[4,4],\"line_width\":{\"value\":2},\"plot\":null,\"render_mode\":\"css\",\"right_units\":\"screen\",\"top_units\":\"screen\"},\"id\":\"701a6d7d-edfe-4598-a6e4-91c59ff5f0df\",\"type\":\"BoxAnnotation\"},{\"attributes\":{\"fill_color\":{\"value\":\"white\"},\"line_color\":{\"value\":\"navy\"},\"size\":{\"units\":\"screen\",\"value\":5},\"x\":{\"field\":\"x\"},\"y\":{\"field\":\"y\"}},\"id\":\"31918e23-4a8e-4801-89ed-fb7ce482534b\",\"type\":\"Circle\"},{\"attributes\":{\"data_source\":{\"id\":\"844bbbaf-770a-4795-9315-5c0580d9b10b\",\"type\":\"ColumnDataSource\"},\"glyph\":{\"id\":\"a44d9dee-634f-417f-90ca-1962c2803fa4\",\"type\":\"Line\"},\"hover_glyph\":null,\"muted_glyph\":null,\"nonselection_glyph\":{\"id\":\"66debfd2-33cc-42b9-8076-1e368dacd3eb\",\"type\":\"Line\"},\"selection_glyph\":null,\"view\":{\"id\":\"5d071a1d-a2af-4293-8509-6cb6ff9aa4bb\",\"type\":\"CDSView\"}},\"id\":\"c600fe10-3b09-4460-a357-670ce320d0ba\",\"type\":\"GlyphRenderer\"},{\"attributes\":{\"source\":{\"id\":\"f665880b-7461-4051-9c3b-17d46494fb87\",\"type\":\"ColumnDataSource\"}},\"id\":\"83a3bf90-7853-48b2-a3c1-dc670dbff7bd\",\"type\":\"CDSView\"},{\"attributes\":{\"callback\":null,\"column_names\":[\"x\",\"y\"],\"data\":{\"x\":[-10,-3.0588936890535687,-2.0588936890535687,-1.0588936890535685,0.0,1.0,2.0,3.0,7.0,9.0,10.0],\"y\":{\"__ndarray__\":\"CtejcD0FlEA9CtejcC2UQD0K16NwJJRArkfhehQjlEApXI/C9f6TQOF6FK5Hi5FAexSuR+GxkEAfhetRuJyQQHE9CtejcJBAUrgehetskEAK16NwPW2QQA==\",\"dtype\":\"float64\",\"shape\":[11]}}},\"id\":\"aee4a55e-4eb8-4f48-9212-7a6f28b996ee\",\"type\":\"ColumnDataSource\"},{\"attributes\":{\"label\":{\"value\":\"Small cell load = 0.5\"},\"renderers\":[{\"id\":\"c600fe10-3b09-4460-a357-670ce320d0ba\",\"type\":\"GlyphRenderer\"}]},\"id\":\"2b902675-37f5-48db-9a6b-1a11bee9e14f\",\"type\":\"LegendItem\"},{\"attributes\":{},\"id\":\"4194d66b-1076-4840-bca8-6a9e03ea6810\",\"type\":\"SaveTool\"},{\"attributes\":{\"line_alpha\":{\"value\":0.1},\"line_color\":{\"value\":\"#1f77b4\"},\"line_dash\":[4,4],\"x\":{\"field\":\"x\"},\"y\":{\"field\":\"y\"}},\"id\":\"50678950-048d-4514-bf8c-c746c2722864\",\"type\":\"Line\"},{\"attributes\":{},\"id\":\"a936d455-3a2b-4530-8ade-8c3eb9c4c48d\",\"type\":\"BasicTickFormatter\"},{\"attributes\":{\"source\":{\"id\":\"9deea20b-0c52-4573-8aea-8f36e4ffbac6\",\"type\":\"ColumnDataSource\"}},\"id\":\"9a8ca2da-e72a-4856-9aef-20f4f91ee2ef\",\"type\":\"CDSView\"},{\"attributes\":{\"items\":[{\"id\":\"e540a0bf-e021-4904-89ce-46a3c8708396\",\"type\":\"LegendItem\"},{\"id\":\"eb5416d8-0d46-4e34-b3f8-95436ef89287\",\"type\":\"LegendItem\"},{\"id\":\"1913860d-272e-4179-aa09-0851bd7af1b5\",\"type\":\"LegendItem\"},{\"id\":\"2b902675-37f5-48db-9a6b-1a11bee9e14f\",\"type\":\"LegendItem\"}],\"label_text_color\":{\"value\":\"black\"},\"plot\":{\"id\":\"a4a085ab-d377-4a8e-8f85-f40d6c7d3750\",\"subtype\":\"Figure\",\"type\":\"Plot\"}},\"id\":\"bdc4fa63-1ca0-47a5-8080-e716c5c6efda\",\"type\":\"Legend\"},{\"attributes\":{\"line_color\":{\"value\":\"navy\"},\"x\":{\"field\":\"x\"},\"y\":{\"field\":\"y\"}},\"id\":\"e762f675-a187-49d1-8d24-2bd5f13bc387\",\"type\":\"Line\"},{\"attributes\":{\"source\":{\"id\":\"aee4a55e-4eb8-4f48-9212-7a6f28b996ee\",\"type\":\"ColumnDataSource\"}},\"id\":\"31437e8f-6e04-4601-8617-927e35deaf5b\",\"type\":\"CDSView\"},{\"attributes\":{},\"id\":\"762784f9-3340-4776-8df5-2c03242489ad\",\"type\":\"BasicTicker\"},{\"attributes\":{},\"id\":\"44b82fe3-7437-4751-8e52-6f7fa7c56ff4\",\"type\":\"ResetTool\"},{\"attributes\":{\"below\":[{\"id\":\"0fa24368-4124-433e-9dd3-0279d1125ef6\",\"type\":\"LinearAxis\"}],\"left\":[{\"id\":\"7c2823c8-a074-45d7-80e9-3bd3b36cfeb6\",\"type\":\"LinearAxis\"}],\"outline_line_color\":{\"value\":\"black\"},\"plot_height\":400,\"renderers\":[{\"id\":\"0fa24368-4124-433e-9dd3-0279d1125ef6\",\"type\":\"LinearAxis\"},{\"id\":\"c296e4a6-faea-49ef-8d78-254654a80fe5\",\"type\":\"Grid\"},{\"id\":\"7c2823c8-a074-45d7-80e9-3bd3b36cfeb6\",\"type\":\"LinearAxis\"},{\"id\":\"250444f7-f9f4-46ce-879a-2968ff5657e2\",\"type\":\"Grid\"},{\"id\":\"701a6d7d-edfe-4598-a6e4-91c59ff5f0df\",\"type\":\"BoxAnnotation\"},{\"id\":\"bdc4fa63-1ca0-47a5-8080-e716c5c6efda\",\"type\":\"Legend\"},{\"id\":\"47b15b58-cba7-49b3-84fc-251af9e0d9dd\",\"type\":\"GlyphRenderer\"},{\"id\":\"ff7e91df-f2b0-4132-bb03-1597965d7eb5\",\"type\":\"GlyphRenderer\"},{\"id\":\"399c6e40-a5eb-4604-8e2c-50dc202c8d5b\",\"type\":\"GlyphRenderer\"},{\"id\":\"506cea5c-393a-4eef-ab48-e38d5bd56466\",\"type\":\"GlyphRenderer\"},{\"id\":\"6645debb-3eac-4b3a-bed3-bb96e106140a\",\"type\":\"GlyphRenderer\"},{\"id\":\"c75f9387-4473-4720-ba65-24eb6b77fdf3\",\"type\":\"GlyphRenderer\"},{\"id\":\"c600fe10-3b09-4460-a357-670ce320d0ba\",\"type\":\"GlyphRenderer\"},{\"id\":\"beb35d5d-42c5-46a8-909b-f80b5d0eb745\",\"type\":\"GlyphRenderer\"}],\"title\":{\"id\":\"26520ab2-87ba-4e7b-86fb-bdf4aa1b26e7\",\"type\":\"Title\"},\"toolbar\":{\"id\":\"efac15f9-b5e8-4e9f-8d27-334b9cc4782c\",\"type\":\"Toolbar\"},\"x_range\":{\"id\":\"4366b568-fc9c-44a5-9819-af4945f6e379\",\"type\":\"DataRange1d\"},\"x_scale\":{\"id\":\"6b89a699-14c5-4490-a9e1-568d564e0592\",\"type\":\"LinearScale\"},\"y_range\":{\"id\":\"f8be799c-84c9-44f9-bb9a-e8a9ebcf80a7\",\"type\":\"DataRange1d\"},\"y_scale\":{\"id\":\"e98b9e20-e3bd-4baf-838f-ca9c051201c5\",\"type\":\"LinearScale\"}},\"id\":\"a4a085ab-d377-4a8e-8f85-f40d6c7d3750\",\"subtype\":\"Figure\",\"type\":\"Plot\"},{\"attributes\":{\"data_source\":{\"id\":\"9deea20b-0c52-4573-8aea-8f36e4ffbac6\",\"type\":\"ColumnDataSource\"},\"glyph\":{\"id\":\"31918e23-4a8e-4801-89ed-fb7ce482534b\",\"type\":\"Circle\"},\"hover_glyph\":null,\"muted_glyph\":null,\"nonselection_glyph\":{\"id\":\"ee826d72-800b-46c0-a7e0-19b4cdcf5804\",\"type\":\"Circle\"},\"selection_glyph\":null,\"view\":{\"id\":\"9a8ca2da-e72a-4856-9aef-20f4f91ee2ef\",\"type\":\"CDSView\"}},\"id\":\"c75f9387-4473-4720-ba65-24eb6b77fdf3\",\"type\":\"GlyphRenderer\"},{\"attributes\":{},\"id\":\"e98b9e20-e3bd-4baf-838f-ca9c051201c5\",\"type\":\"LinearScale\"},{\"attributes\":{\"callback\":null,\"column_names\":[\"x\",\"y\"],\"data\":{\"x\":[-10,-3.0588936890535687,-2.0588936890535687,-1.0588936890535685,0.02856915219677092,0.9855004303048849,2.007195501404204,2.996388746447621,6.999774561287003,8.999943643624247,10.00002817736235],\"y\":{\"__ndarray__\":\"hetRuB4ElUCamZmZmf6UQHsUrkfh+JRAKVyPwvXvlED2KFyPwu+UQArXo3A9zpRAXI/C9Sh4kUBI4XoUru2QQAAAAAAApZBAw/UoXI+ekECkcD0K152QQA==\",\"dtype\":\"float64\",\"shape\":[11]}}},\"id\":\"6c01ea61-6c3e-4f53-aa6f-0c415efafeb2\",\"type\":\"ColumnDataSource\"},{\"attributes\":{\"dimension\":1,\"grid_line_alpha\":{\"value\":0.1},\"grid_line_dash\":[2,2],\"plot\":{\"id\":\"a4a085ab-d377-4a8e-8f85-f40d6c7d3750\",\"subtype\":\"Figure\",\"type\":\"Plot\"},\"ticker\":{\"id\":\"762784f9-3340-4776-8df5-2c03242489ad\",\"type\":\"BasicTicker\"}},\"id\":\"250444f7-f9f4-46ce-879a-2968ff5657e2\",\"type\":\"Grid\"},{\"attributes\":{\"fill_alpha\":{\"value\":0.1},\"fill_color\":{\"value\":\"#1f77b4\"},\"line_alpha\":{\"value\":0.1},\"line_color\":{\"value\":\"#1f77b4\"},\"size\":{\"units\":\"screen\",\"value\":5},\"x\":{\"field\":\"x\"},\"y\":{\"field\":\"y\"}},\"id\":\"f5784b95-a8b1-4e39-8be8-57a75fdd2b51\",\"type\":\"Circle\"},{\"attributes\":{\"source\":{\"id\":\"fb5012fc-0be7-48dc-a7ff-8faf8c88b475\",\"type\":\"ColumnDataSource\"}},\"id\":\"1286c2e3-02a0-459d-b71a-d6ccad579947\",\"type\":\"CDSView\"},{\"attributes\":{\"callback\":null,\"column_names\":[\"x\",\"y\"],\"data\":{\"x\":[-10,-3.473931188332412,-1.8889686876112561,-0.888968687611256,-0.014499569695115089,0.9855004303048849,1.9855004303048849,3.0018022426339854,6.999774561287003,9.00002817736235,10.00002817736235],\"y\":{\"__ndarray__\":\"uB6F61FtlUAfhetRuGmVQClcj8L1ZpVAj8L1KFxhlUBmZmZmZlaVQArXo3A9QJVAcT0K16MalUBcj8L1KEqRQDMzMzMz7ZBAAAAAAADkkEA9CtejcOOQQA==\",\"dtype\":\"float64\",\"shape\":[11]}}},\"id\":\"844bbbaf-770a-4795-9315-5c0580d9b10b\",\"type\":\"ColumnDataSource\"},{\"attributes\":{},\"id\":\"9af29b29-a3da-4f1b-93b6-f8d2a7606d31\",\"type\":\"BasicTicker\"},{\"attributes\":{\"callback\":null},\"id\":\"f8be799c-84c9-44f9-bb9a-e8a9ebcf80a7\",\"type\":\"DataRange1d\"},{\"attributes\":{},\"id\":\"7a97cd62-3a27-4518-a223-ed8bd4d4a12d\",\"type\":\"HelpTool\"},{\"attributes\":{\"callback\":null,\"column_names\":[\"x\",\"y\"],\"data\":{\"x\":[-10,-3.0588936890535687,-2.0,-1.0,0.0,1.0,2.0,3.0,7.0,9.0,10.0],\"y\":{\"__ndarray__\":\"9ihcj8J1i0BmZmZmZnSLQLgehetRdItACtejcD10i0CamZmZmXWLQOF6FK5HdYtA7FG4HoVzi0AK16NwPXaLQKRwPQrXc4tAH4XrUbhyi0CkcD0K13WLQA==\",\"dtype\":\"float64\",\"shape\":[11]}}},\"id\":\"8827d5ba-7ff7-401c-a527-b6684514505c\",\"type\":\"ColumnDataSource\"},{\"attributes\":{\"fill_alpha\":{\"value\":0.1},\"fill_color\":{\"value\":\"#1f77b4\"},\"line_alpha\":{\"value\":0.1},\"line_color\":{\"value\":\"#1f77b4\"},\"size\":{\"units\":\"screen\",\"value\":5},\"x\":{\"field\":\"x\"},\"y\":{\"field\":\"y\"}},\"id\":\"ee826d72-800b-46c0-a7e0-19b4cdcf5804\",\"type\":\"Circle\"},{\"attributes\":{\"fill_color\":{\"value\":\"white\"},\"line_color\":{\"value\":\"navy\"},\"size\":{\"units\":\"screen\",\"value\":5},\"x\":{\"field\":\"x\"},\"y\":{\"field\":\"y\"}},\"id\":\"03c7efa1-a746-4801-ad06-6022728c9f15\",\"type\":\"Circle\"},{\"attributes\":{},\"id\":\"807013e9-5c26-4d79-8a1e-2739be4d758d\",\"type\":\"BasicTickFormatter\"},{\"attributes\":{\"overlay\":{\"id\":\"701a6d7d-edfe-4598-a6e4-91c59ff5f0df\",\"type\":\"BoxAnnotation\"}},\"id\":\"b907e2cb-8489-4e54-b18f-6cc0189d2595\",\"type\":\"BoxZoomTool\"},{\"attributes\":{\"line_alpha\":{\"value\":0.1},\"line_color\":{\"value\":\"#1f77b4\"},\"line_dash\":[1,4],\"x\":{\"field\":\"x\"},\"y\":{\"field\":\"y\"}},\"id\":\"66debfd2-33cc-42b9-8076-1e368dacd3eb\",\"type\":\"Line\"},{\"attributes\":{\"source\":{\"id\":\"8827d5ba-7ff7-401c-a527-b6684514505c\",\"type\":\"ColumnDataSource\"}},\"id\":\"594eb494-8b60-4c7c-a555-6a9bf62aced2\",\"type\":\"CDSView\"},{\"attributes\":{\"axis_label\":\"idle time in logscale (relative to avg. inter-arrival time)\",\"axis_label_text_color\":{\"value\":\"black\"},\"axis_label_text_font_size\":{\"value\":\"12pt\"},\"formatter\":{\"id\":\"a936d455-3a2b-4530-8ade-8c3eb9c4c48d\",\"type\":\"BasicTickFormatter\"},\"major_label_text_color\":{\"value\":\"black\"},\"major_label_text_font_size\":{\"value\":\"10pt\"},\"plot\":{\"id\":\"a4a085ab-d377-4a8e-8f85-f40d6c7d3750\",\"subtype\":\"Figure\",\"type\":\"Plot\"},\"ticker\":{\"id\":\"9af29b29-a3da-4f1b-93b6-f8d2a7606d31\",\"type\":\"BasicTicker\"}},\"id\":\"0fa24368-4124-433e-9dd3-0279d1125ef6\",\"type\":\"LinearAxis\"},{\"attributes\":{\"label\":{\"value\":\"Small cell load = 0.2\"},\"renderers\":[{\"id\":\"399c6e40-a5eb-4604-8e2c-50dc202c8d5b\",\"type\":\"GlyphRenderer\"}]},\"id\":\"eb5416d8-0d46-4e34-b3f8-95436ef89287\",\"type\":\"LegendItem\"},{\"attributes\":{\"data_source\":{\"id\":\"aee4a55e-4eb8-4f48-9212-7a6f28b996ee\",\"type\":\"ColumnDataSource\"},\"glyph\":{\"id\":\"03c7efa1-a746-4801-ad06-6022728c9f15\",\"type\":\"Circle\"},\"hover_glyph\":null,\"muted_glyph\":null,\"nonselection_glyph\":{\"id\":\"f5784b95-a8b1-4e39-8be8-57a75fdd2b51\",\"type\":\"Circle\"},\"selection_glyph\":null,\"view\":{\"id\":\"31437e8f-6e04-4601-8617-927e35deaf5b\",\"type\":\"CDSView\"}},\"id\":\"506cea5c-393a-4eef-ab48-e38d5bd56466\",\"type\":\"GlyphRenderer\"},{\"attributes\":{\"source\":{\"id\":\"844bbbaf-770a-4795-9315-5c0580d9b10b\",\"type\":\"ColumnDataSource\"}},\"id\":\"5d071a1d-a2af-4293-8509-6cb6ff9aa4bb\",\"type\":\"CDSView\"},{\"attributes\":{\"fill_alpha\":{\"value\":0.1},\"fill_color\":{\"value\":\"#1f77b4\"},\"line_alpha\":{\"value\":0.1},\"line_color\":{\"value\":\"#1f77b4\"},\"size\":{\"units\":\"screen\",\"value\":5},\"x\":{\"field\":\"x\"},\"y\":{\"field\":\"y\"}},\"id\":\"5143fd99-38c5-4dd6-bdfe-f64572397dc7\",\"type\":\"Circle\"},{\"attributes\":{\"source\":{\"id\":\"6c01ea61-6c3e-4f53-aa6f-0c415efafeb2\",\"type\":\"ColumnDataSource\"}},\"id\":\"5a1236b3-e51a-4d4e-8aa7-49a6862ec9dc\",\"type\":\"CDSView\"},{\"attributes\":{\"callback\":null},\"id\":\"4366b568-fc9c-44a5-9819-af4945f6e379\",\"type\":\"DataRange1d\"},{\"attributes\":{\"line_alpha\":{\"value\":0.1},\"line_color\":{\"value\":\"#1f77b4\"},\"x\":{\"field\":\"x\"},\"y\":{\"field\":\"y\"}},\"id\":\"839953fb-e7d4-4456-b4de-8df91873b8e1\",\"type\":\"Line\"},{\"attributes\":{\"fill_color\":{\"value\":\"white\"},\"line_color\":{\"value\":\"navy\"},\"size\":{\"units\":\"screen\",\"value\":5},\"x\":{\"field\":\"x\"},\"y\":{\"field\":\"y\"}},\"id\":\"be492fc2-73c8-4800-84e7-9cce25f3f48f\",\"type\":\"Circle\"},{\"attributes\":{\"axis_label\":\"Mean power\",\"axis_label_text_color\":{\"value\":\"black\"},\"axis_label_text_font_size\":{\"value\":\"12pt\"},\"formatter\":{\"id\":\"807013e9-5c26-4d79-8a1e-2739be4d758d\",\"type\":\"BasicTickFormatter\"},\"major_label_text_color\":{\"value\":\"black\"},\"major_label_text_font_size\":{\"value\":\"10pt\"},\"plot\":{\"id\":\"a4a085ab-d377-4a8e-8f85-f40d6c7d3750\",\"subtype\":\"Figure\",\"type\":\"Plot\"},\"ticker\":{\"id\":\"762784f9-3340-4776-8df5-2c03242489ad\",\"type\":\"BasicTicker\"}},\"id\":\"7c2823c8-a074-45d7-80e9-3bd3b36cfeb6\",\"type\":\"LinearAxis\"},{\"attributes\":{\"label\":{\"value\":\"Small cell load = 0.32\"},\"renderers\":[{\"id\":\"6645debb-3eac-4b3a-bed3-bb96e106140a\",\"type\":\"GlyphRenderer\"}]},\"id\":\"1913860d-272e-4179-aa09-0851bd7af1b5\",\"type\":\"LegendItem\"},{\"attributes\":{\"callback\":null,\"column_names\":[\"x\",\"y\"],\"data\":{\"x\":[-10,-3.0588936890535687,-2.0588936890535687,-1.0588936890535685,0.02856915219677092,0.9855004303048849,2.007195501404204,2.996388746447621,6.999774561287003,8.999943643624247,10.00002817736235],\"y\":{\"__ndarray__\":\"hetRuB4ElUCamZmZmf6UQHsUrkfh+JRAKVyPwvXvlED2KFyPwu+UQArXo3A9zpRAXI/C9Sh4kUBI4XoUru2QQAAAAAAApZBAw/UoXI+ekECkcD0K152QQA==\",\"dtype\":\"float64\",\"shape\":[11]}}},\"id\":\"9deea20b-0c52-4573-8aea-8f36e4ffbac6\",\"type\":\"ColumnDataSource\"},{\"attributes\":{\"data_source\":{\"id\":\"1f9dadb9-f20a-4271-a255-cdb9d6309341\",\"type\":\"ColumnDataSource\"},\"glyph\":{\"id\":\"daa334a5-d6e0-4eb1-80a7-0964de448f40\",\"type\":\"Line\"},\"hover_glyph\":null,\"muted_glyph\":null,\"nonselection_glyph\":{\"id\":\"aed022a6-bc24-4955-9720-40253962d577\",\"type\":\"Line\"},\"selection_glyph\":null,\"view\":{\"id\":\"30fa766d-e47f-4897-9674-89659e6c8c01\",\"type\":\"CDSView\"}},\"id\":\"399c6e40-a5eb-4604-8e2c-50dc202c8d5b\",\"type\":\"GlyphRenderer\"},{\"attributes\":{\"callback\":null,\"column_names\":[\"x\",\"y\"],\"data\":{\"x\":[-10,-3.0588936890535687,-2.0588936890535687,-1.0588936890535685,0.0,1.0,2.0,3.0,7.0,9.0,10.0],\"y\":{\"__ndarray__\":\"CtejcD0FlEA9CtejcC2UQD0K16NwJJRArkfhehQjlEApXI/C9f6TQOF6FK5Hi5FAexSuR+GxkEAfhetRuJyQQHE9CtejcJBAUrgehetskEAK16NwPW2QQA==\",\"dtype\":\"float64\",\"shape\":[11]}}},\"id\":\"1f9dadb9-f20a-4271-a255-cdb9d6309341\",\"type\":\"ColumnDataSource\"},{\"attributes\":{\"label\":{\"value\":\"Small cell load = 0.05\"},\"renderers\":[{\"id\":\"47b15b58-cba7-49b3-84fc-251af9e0d9dd\",\"type\":\"GlyphRenderer\"}]},\"id\":\"e540a0bf-e021-4904-89ce-46a3c8708396\",\"type\":\"LegendItem\"},{\"attributes\":{\"data_source\":{\"id\":\"8827d5ba-7ff7-401c-a527-b6684514505c\",\"type\":\"ColumnDataSource\"},\"glyph\":{\"id\":\"94bbd19d-5105-419e-abe4-9dccc1895350\",\"type\":\"Circle\"},\"hover_glyph\":null,\"muted_glyph\":null,\"nonselection_glyph\":{\"id\":\"5143fd99-38c5-4dd6-bdfe-f64572397dc7\",\"type\":\"Circle\"},\"selection_glyph\":null,\"view\":{\"id\":\"594eb494-8b60-4c7c-a555-6a9bf62aced2\",\"type\":\"CDSView\"}},\"id\":\"ff7e91df-f2b0-4132-bb03-1597965d7eb5\",\"type\":\"GlyphRenderer\"},{\"attributes\":{\"line_color\":{\"value\":\"navy\"},\"line_dash\":[4,4],\"x\":{\"field\":\"x\"},\"y\":{\"field\":\"y\"}},\"id\":\"d4ed424d-baa0-4075-a77b-28b4dae9341a\",\"type\":\"Line\"},{\"attributes\":{\"callback\":null,\"column_names\":[\"x\",\"y\"],\"data\":{\"x\":[-10,-3.0588936890535687,-2.0,-1.0,0.0,1.0,2.0,3.0,7.0,9.0,10.0],\"y\":{\"__ndarray__\":\"9ihcj8J1i0BmZmZmZnSLQLgehetRdItACtejcD10i0CamZmZmXWLQOF6FK5HdYtA7FG4HoVzi0AK16NwPXaLQKRwPQrXc4tAH4XrUbhyi0CkcD0K13WLQA==\",\"dtype\":\"float64\",\"shape\":[11]}}},\"id\":\"fb5012fc-0be7-48dc-a7ff-8faf8c88b475\",\"type\":\"ColumnDataSource\"},{\"attributes\":{},\"id\":\"6b89a699-14c5-4490-a9e1-568d564e0592\",\"type\":\"LinearScale\"},{\"attributes\":{\"fill_alpha\":{\"value\":0.1},\"fill_color\":{\"value\":\"#1f77b4\"},\"line_alpha\":{\"value\":0.1},\"line_color\":{\"value\":\"#1f77b4\"},\"size\":{\"units\":\"screen\",\"value\":5},\"x\":{\"field\":\"x\"},\"y\":{\"field\":\"y\"}},\"id\":\"2cc0c336-df74-4b1a-ac44-95873d0b6bcc\",\"type\":\"Circle\"},{\"attributes\":{\"line_color\":{\"value\":\"navy\"},\"line_dash\":[1,4],\"x\":{\"field\":\"x\"},\"y\":{\"field\":\"y\"}},\"id\":\"a44d9dee-634f-417f-90ca-1962c2803fa4\",\"type\":\"Line\"},{\"attributes\":{},\"id\":\"52587546-55cd-4440-8fe1-be0fd921175e\",\"type\":\"WheelZoomTool\"},{\"attributes\":{\"callback\":null,\"column_names\":[\"x\",\"y\"],\"data\":{\"x\":[-10,-3.473931188332412,-1.8889686876112561,-0.888968687611256,-0.014499569695115089,0.9855004303048849,1.9855004303048849,3.0018022426339854,6.999774561287003,9.00002817736235,10.00002817736235],\"y\":{\"__ndarray__\":\"uB6F61FtlUAfhetRuGmVQClcj8L1ZpVAj8L1KFxhlUBmZmZmZlaVQArXo3A9QJVAcT0K16MalUBcj8L1KEqRQDMzMzMz7ZBAAAAAAADkkEA9CtejcOOQQA==\",\"dtype\":\"float64\",\"shape\":[11]}}},\"id\":\"f665880b-7461-4051-9c3b-17d46494fb87\",\"type\":\"ColumnDataSource\"},{\"attributes\":{\"data_source\":{\"id\":\"fb5012fc-0be7-48dc-a7ff-8faf8c88b475\",\"type\":\"ColumnDataSource\"},\"glyph\":{\"id\":\"e762f675-a187-49d1-8d24-2bd5f13bc387\",\"type\":\"Line\"},\"hover_glyph\":null,\"muted_glyph\":null,\"nonselection_glyph\":{\"id\":\"839953fb-e7d4-4456-b4de-8df91873b8e1\",\"type\":\"Line\"},\"selection_glyph\":null,\"view\":{\"id\":\"1286c2e3-02a0-459d-b71a-d6ccad579947\",\"type\":\"CDSView\"}},\"id\":\"47b15b58-cba7-49b3-84fc-251af9e0d9dd\",\"type\":\"GlyphRenderer\"},{\"attributes\":{\"data_source\":{\"id\":\"6c01ea61-6c3e-4f53-aa6f-0c415efafeb2\",\"type\":\"ColumnDataSource\"},\"glyph\":{\"id\":\"d4ed424d-baa0-4075-a77b-28b4dae9341a\",\"type\":\"Line\"},\"hover_glyph\":null,\"muted_glyph\":null,\"nonselection_glyph\":{\"id\":\"50678950-048d-4514-bf8c-c746c2722864\",\"type\":\"Line\"},\"selection_glyph\":null,\"view\":{\"id\":\"5a1236b3-e51a-4d4e-8aa7-49a6862ec9dc\",\"type\":\"CDSView\"}},\"id\":\"6645debb-3eac-4b3a-bed3-bb96e106140a\",\"type\":\"GlyphRenderer\"},{\"attributes\":{\"line_color\":{\"value\":\"navy\"},\"line_dash\":[15,2],\"x\":{\"field\":\"x\"},\"y\":{\"field\":\"y\"}},\"id\":\"daa334a5-d6e0-4eb1-80a7-0964de448f40\",\"type\":\"Line\"},{\"attributes\":{\"fill_color\":{\"value\":\"white\"},\"line_color\":{\"value\":\"navy\"},\"size\":{\"units\":\"screen\",\"value\":5},\"x\":{\"field\":\"x\"},\"y\":{\"field\":\"y\"}},\"id\":\"94bbd19d-5105-419e-abe4-9dccc1895350\",\"type\":\"Circle\"},{\"attributes\":{\"grid_line_alpha\":{\"value\":0.1},\"grid_line_dash\":[2,2],\"plot\":{\"id\":\"a4a085ab-d377-4a8e-8f85-f40d6c7d3750\",\"subtype\":\"Figure\",\"type\":\"Plot\"},\"ticker\":{\"id\":\"9af29b29-a3da-4f1b-93b6-f8d2a7606d31\",\"type\":\"BasicTicker\"}},\"id\":\"c296e4a6-faea-49ef-8d78-254654a80fe5\",\"type\":\"Grid\"},{\"attributes\":{\"plot\":null,\"text\":\"\"},\"id\":\"26520ab2-87ba-4e7b-86fb-bdf4aa1b26e7\",\"type\":\"Title\"},{\"attributes\":{},\"id\":\"1daf3ef6-8ac7-4de4-ae20-0bf14813c355\",\"type\":\"PanTool\"}],\"root_ids\":[\"a4a085ab-d377-4a8e-8f85-f40d6c7d3750\"]},\"title\":\"Bokeh Application\",\"version\":\"0.12.10\"}};\n",
       "    var render_items = [{\"docid\":\"545a12e8-bb5e-4ef5-952b-dfa30cb575ed\",\"elementid\":\"bdd92ba6-8f17-49ff-b32b-d745a48a1ea9\",\"modelid\":\"a4a085ab-d377-4a8e-8f85-f40d6c7d3750\"}];\n",
       "\n",
       "    root.Bokeh.embed.embed_items(docs_json, render_items);\n",
       "  }\n",
       "\n",
       "  if (root.Bokeh !== undefined) {\n",
       "    embed_document(root);\n",
       "  } else {\n",
       "    var attempts = 0;\n",
       "    var timer = setInterval(function(root) {\n",
       "      if (root.Bokeh !== undefined) {\n",
       "        embed_document(root);\n",
       "        clearInterval(timer);\n",
       "      }\n",
       "      attempts++;\n",
       "      if (attempts > 100) {\n",
       "        console.log(\"Bokeh: ERROR: Unable to embed document because BokehJS library is missing\")\n",
       "        clearInterval(timer);\n",
       "      }\n",
       "    }, 10, root)\n",
       "  }\n",
       "})(window);"
      ],
      "application/vnd.bokehjs_exec.v0+json": ""
     },
     "metadata": {
      "application/vnd.bokehjs_exec.v0+json": {
       "id": "a4a085ab-d377-4a8e-8f85-f40d6c7d3750"
      }
     },
     "output_type": "display_data"
    }
   ],
   "source": [
    "p0 = figure(plot_width=600, plot_height=400)\n",
    "\n",
    "\n",
    "p0.line(logscale(1), df[df.small_arrival==1].avg_power, line_color='navy',legend='Small cell load = 0.05')\n",
    "p0.circle(logscale(1), df[df.small_arrival==1].avg_power, color='white', line_color='navy',size=5)\n",
    "p0.line(logscale(4), df[df.small_arrival==4].avg_power, line_color='navy',line_dash=\"15 2\",legend='Small cell load = 0.2')\n",
    "p0.circle(logscale(4), df[df.small_arrival==4].avg_power, color='white', line_color='navy',size=5)\n",
    "\n",
    "p0.line(logscale(6), df[df.small_arrival==6].avg_power, line_color='navy',line_dash=\"4 4\",legend='Small cell load = 0.32')\n",
    "p0.circle(logscale(6), df[df.small_arrival==6].avg_power, color='white', line_color='navy',size=5)\n",
    "\n",
    "p0.line(logscale(9), df[df.small_arrival==9].avg_power, line_color='navy',line_dash=\"1 4\",legend='Small cell load = 0.5')\n",
    "p0.circle(logscale(9), df[df.small_arrival==9].avg_power, color='white', line_color='navy',size=5)\n",
    "\n",
    "\n",
    "p0.grid.grid_line_dash = [2,2]\n",
    "p0.grid.grid_line_alpha = 0.1\n",
    "\n",
    "p0.xaxis.axis_label = 'idle time in logscale (relative to avg. inter-arrival time)'\n",
    "p0.yaxis.axis_label = 'Mean power'\n",
    "\n",
    "p0.xaxis.axis_label_text_color = 'black'\n",
    "p0.xaxis.major_label_text_color = 'black'\n",
    "p0.yaxis.axis_label_text_color = 'black'\n",
    "p0.yaxis.major_label_text_color = 'black'\n",
    "p0.legend.label_text_color = 'black'\n",
    "\n",
    "p0.legend.location  = 'top_right'\n",
    "p0.outline_line_color = 'black'\n",
    "\n",
    "p0.axis.axis_label_text_font_size = '12pt'\n",
    "p0.axis.major_label_text_font_size = '10pt'\n",
    "#export_png(p0, filename='./power-vs-idle-logscale.png')\n",
    "\n",
    "\n",
    "show(p0)"
   ]
  },
  {
   "cell_type": "markdown",
   "metadata": {},
   "source": [
    "# 2. Weighted sum cost"
   ]
  },
  {
   "cell_type": "code",
   "execution_count": 46,
   "metadata": {},
   "outputs": [
    {
     "name": "stdout",
     "output_type": "stream",
     "text": [
      "\u001b[34mbak\u001b[m\u001b[m/                  \u001b[34msetup_1.0\u001b[m\u001b[m/            test.csv\r\n",
      "result.csv            \u001b[34msetup_1.0_erws\u001b[m\u001b[m/       visualization.ipynb\r\n",
      "\u001b[34msetup_0.05\u001b[m\u001b[m/           test-lb-policy.csv    visualization2.ipynb\r\n",
      "\u001b[34msetup_0.05_erws\u001b[m\u001b[m/      test-test.csv\r\n"
     ]
    }
   ],
   "source": [
    "%ls "
   ]
  },
  {
   "cell_type": "code",
   "execution_count": 47,
   "metadata": {},
   "outputs": [
    {
     "name": "stdout",
     "output_type": "stream",
     "text": [
      "output_1.csv   output_18.csv  output_26.csv  output_34.csv  output_42.csv\r\n",
      "output_10.csv  output_19.csv  output_27.csv  output_35.csv  output_43.csv\r\n",
      "output_11.csv  output_2.csv   output_28.csv  output_36.csv  output_44.csv\r\n",
      "output_12.csv  output_20.csv  output_29.csv  output_37.csv  output_5.csv\r\n",
      "output_13.csv  output_21.csv  output_3.csv   output_38.csv  output_6.csv\r\n",
      "output_14.csv  output_22.csv  output_30.csv  output_39.csv  output_7.csv\r\n",
      "output_15.csv  output_23.csv  output_31.csv  output_4.csv   output_8.csv\r\n",
      "output_16.csv  output_24.csv  output_32.csv  output_40.csv  output_9.csv\r\n",
      "output_17.csv  output_25.csv  output_33.csv  output_41.csv\r\n"
     ]
    }
   ],
   "source": [
    "%ls setup_1.0_erws/"
   ]
  },
  {
   "cell_type": "markdown",
   "metadata": {},
   "source": [
    "## 2.1 Short setup delay"
   ]
  },
  {
   "cell_type": "code",
   "execution_count": 48,
   "metadata": {},
   "outputs": [
    {
     "data": {
      "text/html": [
       "\n",
       "<div class=\"bk-root\">\n",
       "    <div class=\"bk-plotdiv\" id=\"42671b37-dd34-424f-a2c8-a0a68259a845\"></div>\n",
       "</div>"
      ]
     },
     "metadata": {},
     "output_type": "display_data"
    },
    {
     "data": {
      "application/javascript": [
       "(function(root) {\n",
       "  function embed_document(root) {\n",
       "    var docs_json = {\"2e830136-48bb-4348-9acf-bdb18e06886a\":{\"roots\":{\"references\":[{\"attributes\":{\"data_source\":{\"id\":\"c279ee88-9d63-4531-a1e9-fefecf2a91fe\",\"type\":\"ColumnDataSource\"},\"glyph\":{\"id\":\"cef2d091-9d72-4989-9f1f-87c8b9767356\",\"type\":\"Line\"},\"hover_glyph\":null,\"muted_glyph\":null,\"nonselection_glyph\":{\"id\":\"c6be6718-f7d7-456a-8155-65f7b3a2db25\",\"type\":\"Line\"},\"selection_glyph\":null,\"view\":{\"id\":\"65d21f36-3311-4531-a6b9-8b23b8cf40c9\",\"type\":\"CDSView\"}},\"id\":\"e7c0131f-35f7-494d-8e1b-a9d987f121eb\",\"type\":\"GlyphRenderer\"},{\"attributes\":{\"fill_color\":{\"value\":\"white\"},\"line_color\":{\"value\":\"navy\"},\"size\":{\"units\":\"screen\",\"value\":5},\"x\":{\"field\":\"x\"},\"y\":{\"field\":\"y\"}},\"id\":\"975c55a0-a435-4d09-94aa-2d28429df68e\",\"type\":\"Circle\"},{\"attributes\":{\"below\":[{\"id\":\"6712b9c2-5537-43f0-8740-a8840f864d85\",\"type\":\"LinearAxis\"}],\"left\":[{\"id\":\"e7f228c9-6115-4358-8225-3d40628c81bd\",\"type\":\"LinearAxis\"}],\"outline_line_color\":{\"value\":\"black\"},\"plot_height\":400,\"renderers\":[{\"id\":\"6712b9c2-5537-43f0-8740-a8840f864d85\",\"type\":\"LinearAxis\"},{\"id\":\"1d9773f2-4e65-45e2-b805-20bccb6499a4\",\"type\":\"Grid\"},{\"id\":\"e7f228c9-6115-4358-8225-3d40628c81bd\",\"type\":\"LinearAxis\"},{\"id\":\"0f6cc10b-f018-4f45-aca8-2ca17e2496d3\",\"type\":\"Grid\"},{\"id\":\"e332729c-58eb-46bc-952f-e6a4478a3462\",\"type\":\"BoxAnnotation\"},{\"id\":\"31510eca-39b2-4464-8ab3-548795281452\",\"type\":\"Legend\"},{\"id\":\"0b1301a8-07e4-4e59-8921-c8465e3eb127\",\"type\":\"GlyphRenderer\"},{\"id\":\"8275573d-9053-4682-b958-9e0b5888e31b\",\"type\":\"GlyphRenderer\"},{\"id\":\"dff6ea18-9b5f-4fbf-9b00-dbb1fb6da5e2\",\"type\":\"GlyphRenderer\"},{\"id\":\"7cfb6a3a-2943-4be1-9d0c-5549178a7b11\",\"type\":\"GlyphRenderer\"},{\"id\":\"13618dcf-471a-41b6-b32e-050621b7d73c\",\"type\":\"GlyphRenderer\"},{\"id\":\"5850dbfa-c0ee-4761-b816-394fa49c0997\",\"type\":\"GlyphRenderer\"},{\"id\":\"e7c0131f-35f7-494d-8e1b-a9d987f121eb\",\"type\":\"GlyphRenderer\"},{\"id\":\"62c201f5-e778-4e7b-b7b6-a89f9b25d25c\",\"type\":\"GlyphRenderer\"}],\"title\":{\"id\":\"b5c4b567-4860-468e-8f6c-45bb3a6a2c1d\",\"type\":\"Title\"},\"toolbar\":{\"id\":\"21911e50-f4bb-4178-8f43-43ba9bea6948\",\"type\":\"Toolbar\"},\"x_range\":{\"id\":\"0e4ba171-170f-479b-abb2-0b265b140f7c\",\"type\":\"DataRange1d\"},\"x_scale\":{\"id\":\"0dcc862c-0af3-4380-a1dc-52e39e026422\",\"type\":\"LinearScale\"},\"y_range\":{\"id\":\"55014732-7b3e-4c33-8fd5-f35b553b569a\",\"type\":\"DataRange1d\"},\"y_scale\":{\"id\":\"70b8b70f-5c1a-44e1-b92f-587755bca6bf\",\"type\":\"LinearScale\"}},\"id\":\"10e78503-b84a-4001-aa33-31e69742fa96\",\"subtype\":\"Figure\",\"type\":\"Plot\"},{\"attributes\":{\"fill_alpha\":{\"value\":0.1},\"fill_color\":{\"value\":\"#1f77b4\"},\"line_alpha\":{\"value\":0.1},\"line_color\":{\"value\":\"#1f77b4\"},\"size\":{\"units\":\"screen\",\"value\":5},\"x\":{\"field\":\"x\"},\"y\":{\"field\":\"y\"}},\"id\":\"78a5d3ca-826a-48e5-9bed-3bc4e9355b09\",\"type\":\"Circle\"},{\"attributes\":{\"source\":{\"id\":\"95780591-ca68-4ebb-93f6-2d06c0dbbf0f\",\"type\":\"ColumnDataSource\"}},\"id\":\"ebd1eecf-1d04-4a42-92d4-47bb9595b469\",\"type\":\"CDSView\"},{\"attributes\":{\"data_source\":{\"id\":\"71186da0-0f17-4831-bc29-53ad0cbefef9\",\"type\":\"ColumnDataSource\"},\"glyph\":{\"id\":\"7c38feac-6e29-44a7-90ac-aa21bdead0db\",\"type\":\"Line\"},\"hover_glyph\":null,\"muted_glyph\":null,\"nonselection_glyph\":{\"id\":\"d2c4c833-99f4-4fdd-8b3f-f77887529f8f\",\"type\":\"Line\"},\"selection_glyph\":null,\"view\":{\"id\":\"7537a975-3a50-4249-84fd-b1fe5c7b6259\",\"type\":\"CDSView\"}},\"id\":\"13618dcf-471a-41b6-b32e-050621b7d73c\",\"type\":\"GlyphRenderer\"},{\"attributes\":{\"fill_color\":{\"value\":\"white\"},\"line_color\":{\"value\":\"navy\"},\"size\":{\"units\":\"screen\",\"value\":5},\"x\":{\"field\":\"x\"},\"y\":{\"field\":\"y\"}},\"id\":\"417861e3-53b5-445d-be7d-b047fe5a9aa1\",\"type\":\"Circle\"},{\"attributes\":{\"callback\":null,\"column_names\":[\"x\",\"y\"],\"data\":{\"x\":[-10,-3.473931188332412,-1.8889686876112561,-0.888968687611256,-0.014499569695115089,0.9855004303048849,1.9855004303048849,3.0018022426339854,6.999774561287003,9.00002817736235,10.00002817736235],\"y\":{\"__ndarray__\":\"OL72zJIwJEAwuycPC1UkQFPQ7SWNcSRA6KT3ja+dJEDO34RCBNwkQK6jqgmiHiVAW7vtQnNdJUDSOqqaIIolQPbuj/eqxSVA9RWkGYvGJUB+BWnGosklQA==\",\"dtype\":\"float64\",\"shape\":[11]}}},\"id\":\"c279ee88-9d63-4531-a1e9-fefecf2a91fe\",\"type\":\"ColumnDataSource\"},{\"attributes\":{\"callback\":null,\"column_names\":[\"x\",\"y\"],\"data\":{\"x\":[-10,-3.0588936890535687,-2.0,-1.0,0.0,1.0,2.0,3.0,7.0,9.0,10.0],\"y\":{\"__ndarray__\":\"DCk/qfbJH0B7/N6mP2sgQPOrOUAw1yBAKjqSy394IUAuymyQSUYiQJ0Rpb3BFyNAqDrkZrjBI0CHokCfyDMkQLRZ9bnauiRAinYVUn7CJEAxJZLoZcQkQA==\",\"dtype\":\"float64\",\"shape\":[11]}}},\"id\":\"c29240be-a7fc-4655-a9f8-7efb205cb911\",\"type\":\"ColumnDataSource\"},{\"attributes\":{\"callback\":null,\"column_names\":[\"x\",\"y\"],\"data\":{\"x\":[-10,-3.0588936890535687,-2.0588936890535687,-1.0588936890535685,0.02856915219677092,0.9855004303048849,2.007195501404204,2.996388746447621,6.999774561287003,8.999943643624247,10.00002817736235],\"y\":{\"__ndarray__\":\"PnlYqDXdIkB96IL6lhkjQA0a+ie4SCNA+mabG9OTI0CZu5aQD/ojQIBlpUkpaCRAD9HoDmLHJECWW1oNiQslQHaOAdnrXSVA+ye4WFFjJUBr8SkAxmMlQA==\",\"dtype\":\"float64\",\"shape\":[11]}}},\"id\":\"71186da0-0f17-4831-bc29-53ad0cbefef9\",\"type\":\"ColumnDataSource\"},{\"attributes\":{\"data_source\":{\"id\":\"57d21a81-f9d3-4a79-889f-501526cb9237\",\"type\":\"ColumnDataSource\"},\"glyph\":{\"id\":\"417861e3-53b5-445d-be7d-b047fe5a9aa1\",\"type\":\"Circle\"},\"hover_glyph\":null,\"muted_glyph\":null,\"nonselection_glyph\":{\"id\":\"78a5d3ca-826a-48e5-9bed-3bc4e9355b09\",\"type\":\"Circle\"},\"selection_glyph\":null,\"view\":{\"id\":\"5b39e408-1074-4c41-bcde-e8e25daf2391\",\"type\":\"CDSView\"}},\"id\":\"5850dbfa-c0ee-4761-b816-394fa49c0997\",\"type\":\"GlyphRenderer\"},{\"attributes\":{\"callback\":null,\"column_names\":[\"x\",\"y\"],\"data\":{\"x\":[-10,-3.0588936890535687,-2.0588936890535687,-1.0588936890535685,0.0,1.0,2.0,3.0,7.0,9.0,10.0],\"y\":{\"__ndarray__\":\"LDBkdavXIUDt0/GYgSoiQOuoaoKoayJA/MbXnlnSIkAOMsnIWVgjQO6x9KEL6iNAqAAYz6BhJEBGIF7XL7gkQMwolltaHSVAbLJGPUQjJUBOC170FSQlQA==\",\"dtype\":\"float64\",\"shape\":[11]}}},\"id\":\"1a6e1041-49bf-4bba-8fa7-b5ee95c05f3d\",\"type\":\"ColumnDataSource\"},{\"attributes\":{\"callback\":null,\"column_names\":[\"x\",\"y\"],\"data\":{\"x\":[-10,-3.473931188332412,-1.8889686876112561,-0.888968687611256,-0.014499569695115089,0.9855004303048849,1.9855004303048849,3.0018022426339854,6.999774561287003,9.00002817736235,10.00002817736235],\"y\":{\"__ndarray__\":\"OL72zJIwJEAwuycPC1UkQFPQ7SWNcSRA6KT3ja+dJEDO34RCBNwkQK6jqgmiHiVAW7vtQnNdJUDSOqqaIIolQPbuj/eqxSVA9RWkGYvGJUB+BWnGosklQA==\",\"dtype\":\"float64\",\"shape\":[11]}}},\"id\":\"b660027f-acff-4e5c-8f50-d961c0584eb5\",\"type\":\"ColumnDataSource\"},{\"attributes\":{\"callback\":null,\"column_names\":[\"x\",\"y\"],\"data\":{\"x\":[-10,-3.0588936890535687,-2.0588936890535687,-1.0588936890535685,0.0,1.0,2.0,3.0,7.0,9.0,10.0],\"y\":{\"__ndarray__\":\"LDBkdavXIUDt0/GYgSoiQOuoaoKoayJA/MbXnlnSIkAOMsnIWVgjQO6x9KEL6iNAqAAYz6BhJEBGIF7XL7gkQMwolltaHSVAbLJGPUQjJUBOC170FSQlQA==\",\"dtype\":\"float64\",\"shape\":[11]}}},\"id\":\"c40bdb77-b85f-4f40-8540-a2f96868e8a7\",\"type\":\"ColumnDataSource\"},{\"attributes\":{\"plot\":null,\"text\":\"\"},\"id\":\"b5c4b567-4860-468e-8f6c-45bb3a6a2c1d\",\"type\":\"Title\"},{\"attributes\":{\"callback\":null,\"column_names\":[\"x\",\"y\"],\"data\":{\"x\":[-10,-3.0588936890535687,-2.0588936890535687,-1.0588936890535685,0.02856915219677092,0.9855004303048849,2.007195501404204,2.996388746447621,6.999774561287003,8.999943643624247,10.00002817736235],\"y\":{\"__ndarray__\":\"PnlYqDXdIkB96IL6lhkjQA0a+ie4SCNA+mabG9OTI0CZu5aQD/ojQIBlpUkpaCRAD9HoDmLHJECWW1oNiQslQHaOAdnrXSVA+ye4WFFjJUBr8SkAxmMlQA==\",\"dtype\":\"float64\",\"shape\":[11]}}},\"id\":\"57d21a81-f9d3-4a79-889f-501526cb9237\",\"type\":\"ColumnDataSource\"},{\"attributes\":{\"dimension\":1,\"grid_line_alpha\":{\"value\":0.1},\"grid_line_dash\":[2,2],\"plot\":{\"id\":\"10e78503-b84a-4001-aa33-31e69742fa96\",\"subtype\":\"Figure\",\"type\":\"Plot\"},\"ticker\":{\"id\":\"1a74c645-8762-4665-bd26-81e1d0178f55\",\"type\":\"BasicTicker\"}},\"id\":\"0f6cc10b-f018-4f45-aca8-2ca17e2496d3\",\"type\":\"Grid\"},{\"attributes\":{\"axis_label\":\"idle time in logscale (relative to avg. inter-arrival time)\",\"axis_label_text_color\":{\"value\":\"black\"},\"axis_label_text_font_size\":{\"value\":\"12pt\"},\"formatter\":{\"id\":\"694ca0ba-9cad-425f-a97f-2043684560ad\",\"type\":\"BasicTickFormatter\"},\"major_label_text_color\":{\"value\":\"black\"},\"major_label_text_font_size\":{\"value\":\"10pt\"},\"plot\":{\"id\":\"10e78503-b84a-4001-aa33-31e69742fa96\",\"subtype\":\"Figure\",\"type\":\"Plot\"},\"ticker\":{\"id\":\"7a1e6c76-c514-4531-98cb-425da30478f0\",\"type\":\"BasicTicker\"}},\"id\":\"6712b9c2-5537-43f0-8740-a8840f864d85\",\"type\":\"LinearAxis\"},{\"attributes\":{\"source\":{\"id\":\"c279ee88-9d63-4531-a1e9-fefecf2a91fe\",\"type\":\"ColumnDataSource\"}},\"id\":\"65d21f36-3311-4531-a6b9-8b23b8cf40c9\",\"type\":\"CDSView\"},{\"attributes\":{},\"id\":\"22272d1b-f7ee-4530-b6b9-a69c1cd95d61\",\"type\":\"SaveTool\"},{\"attributes\":{\"line_color\":{\"value\":\"navy\"},\"line_dash\":[1,4],\"x\":{\"field\":\"x\"},\"y\":{\"field\":\"y\"}},\"id\":\"cef2d091-9d72-4989-9f1f-87c8b9767356\",\"type\":\"Line\"},{\"attributes\":{},\"id\":\"694ca0ba-9cad-425f-a97f-2043684560ad\",\"type\":\"BasicTickFormatter\"},{\"attributes\":{\"label\":{\"value\":\"Small cell load = 0.05\"},\"renderers\":[{\"id\":\"0b1301a8-07e4-4e59-8921-c8465e3eb127\",\"type\":\"GlyphRenderer\"}]},\"id\":\"bf17c554-4459-49df-b804-a8c5c28b5bc5\",\"type\":\"LegendItem\"},{\"attributes\":{\"fill_alpha\":{\"value\":0.1},\"fill_color\":{\"value\":\"#1f77b4\"},\"line_alpha\":{\"value\":0.1},\"line_color\":{\"value\":\"#1f77b4\"},\"size\":{\"units\":\"screen\",\"value\":5},\"x\":{\"field\":\"x\"},\"y\":{\"field\":\"y\"}},\"id\":\"ba4c96a0-1744-49d4-bd44-8ad3663cf62e\",\"type\":\"Circle\"},{\"attributes\":{},\"id\":\"7a1e6c76-c514-4531-98cb-425da30478f0\",\"type\":\"BasicTicker\"},{\"attributes\":{\"source\":{\"id\":\"c29240be-a7fc-4655-a9f8-7efb205cb911\",\"type\":\"ColumnDataSource\"}},\"id\":\"bb6beceb-7bbe-478c-bc7a-642a34f0f09c\",\"type\":\"CDSView\"},{\"attributes\":{\"source\":{\"id\":\"b660027f-acff-4e5c-8f50-d961c0584eb5\",\"type\":\"ColumnDataSource\"}},\"id\":\"bd282399-d3c6-4b78-8c05-25ba9f91cc1a\",\"type\":\"CDSView\"},{\"attributes\":{\"callback\":null},\"id\":\"55014732-7b3e-4c33-8fd5-f35b553b569a\",\"type\":\"DataRange1d\"},{\"attributes\":{\"label\":{\"value\":\"Small cell load = 0.5\"},\"renderers\":[{\"id\":\"e7c0131f-35f7-494d-8e1b-a9d987f121eb\",\"type\":\"GlyphRenderer\"}]},\"id\":\"4d5e2008-bbc7-4226-ad4f-2f3b0e1a0ce0\",\"type\":\"LegendItem\"},{\"attributes\":{\"active_drag\":\"auto\",\"active_inspect\":\"auto\",\"active_scroll\":\"auto\",\"active_tap\":\"auto\",\"tools\":[{\"id\":\"dd19dd49-bdaf-4df9-ae67-ed91c75f5e18\",\"type\":\"PanTool\"},{\"id\":\"74129f54-1f0a-4cbc-87e8-5835ec490847\",\"type\":\"WheelZoomTool\"},{\"id\":\"a60f58f4-2f7c-470c-9a82-04a7077c24e9\",\"type\":\"BoxZoomTool\"},{\"id\":\"22272d1b-f7ee-4530-b6b9-a69c1cd95d61\",\"type\":\"SaveTool\"},{\"id\":\"0bf20014-bac4-44cc-bc0f-1b0535b31904\",\"type\":\"ResetTool\"},{\"id\":\"e6fd3c52-06dd-4fac-9994-56ba81d2f9f2\",\"type\":\"HelpTool\"}]},\"id\":\"21911e50-f4bb-4178-8f43-43ba9bea6948\",\"type\":\"Toolbar\"},{\"attributes\":{\"callback\":null,\"column_names\":[\"x\",\"y\"],\"data\":{\"x\":[-10,-3.0588936890535687,-2.0,-1.0,0.0,1.0,2.0,3.0,7.0,9.0,10.0],\"y\":{\"__ndarray__\":\"DCk/qfbJH0B7/N6mP2sgQPOrOUAw1yBAKjqSy394IUAuymyQSUYiQJ0Rpb3BFyNAqDrkZrjBI0CHokCfyDMkQLRZ9bnauiRAinYVUn7CJEAxJZLoZcQkQA==\",\"dtype\":\"float64\",\"shape\":[11]}}},\"id\":\"95780591-ca68-4ebb-93f6-2d06c0dbbf0f\",\"type\":\"ColumnDataSource\"},{\"attributes\":{\"data_source\":{\"id\":\"b660027f-acff-4e5c-8f50-d961c0584eb5\",\"type\":\"ColumnDataSource\"},\"glyph\":{\"id\":\"975c55a0-a435-4d09-94aa-2d28429df68e\",\"type\":\"Circle\"},\"hover_glyph\":null,\"muted_glyph\":null,\"nonselection_glyph\":{\"id\":\"e2d17ed1-e777-4e10-b2ff-aa942c8b3108\",\"type\":\"Circle\"},\"selection_glyph\":null,\"view\":{\"id\":\"bd282399-d3c6-4b78-8c05-25ba9f91cc1a\",\"type\":\"CDSView\"}},\"id\":\"62c201f5-e778-4e7b-b7b6-a89f9b25d25c\",\"type\":\"GlyphRenderer\"},{\"attributes\":{\"fill_alpha\":{\"value\":0.1},\"fill_color\":{\"value\":\"#1f77b4\"},\"line_alpha\":{\"value\":0.1},\"line_color\":{\"value\":\"#1f77b4\"},\"size\":{\"units\":\"screen\",\"value\":5},\"x\":{\"field\":\"x\"},\"y\":{\"field\":\"y\"}},\"id\":\"e2d17ed1-e777-4e10-b2ff-aa942c8b3108\",\"type\":\"Circle\"},{\"attributes\":{\"line_color\":{\"value\":\"navy\"},\"line_dash\":[4,4],\"x\":{\"field\":\"x\"},\"y\":{\"field\":\"y\"}},\"id\":\"7c38feac-6e29-44a7-90ac-aa21bdead0db\",\"type\":\"Line\"},{\"attributes\":{\"callback\":null},\"id\":\"0e4ba171-170f-479b-abb2-0b265b140f7c\",\"type\":\"DataRange1d\"},{\"attributes\":{\"source\":{\"id\":\"57d21a81-f9d3-4a79-889f-501526cb9237\",\"type\":\"ColumnDataSource\"}},\"id\":\"5b39e408-1074-4c41-bcde-e8e25daf2391\",\"type\":\"CDSView\"},{\"attributes\":{\"line_alpha\":{\"value\":0.1},\"line_color\":{\"value\":\"#1f77b4\"},\"line_dash\":[15,2],\"x\":{\"field\":\"x\"},\"y\":{\"field\":\"y\"}},\"id\":\"317e4496-1ac1-4544-9ebd-5d47ef313abc\",\"type\":\"Line\"},{\"attributes\":{\"line_color\":{\"value\":\"navy\"},\"x\":{\"field\":\"x\"},\"y\":{\"field\":\"y\"}},\"id\":\"fb784fb2-08ff-4f9a-b749-b6f4d2d3e820\",\"type\":\"Line\"},{\"attributes\":{},\"id\":\"70b8b70f-5c1a-44e1-b92f-587755bca6bf\",\"type\":\"LinearScale\"},{\"attributes\":{\"data_source\":{\"id\":\"95780591-ca68-4ebb-93f6-2d06c0dbbf0f\",\"type\":\"ColumnDataSource\"},\"glyph\":{\"id\":\"cc4bd58b-0d93-4d2c-9600-c06e7782b933\",\"type\":\"Circle\"},\"hover_glyph\":null,\"muted_glyph\":null,\"nonselection_glyph\":{\"id\":\"ba4c96a0-1744-49d4-bd44-8ad3663cf62e\",\"type\":\"Circle\"},\"selection_glyph\":null,\"view\":{\"id\":\"ebd1eecf-1d04-4a42-92d4-47bb9595b469\",\"type\":\"CDSView\"}},\"id\":\"8275573d-9053-4682-b958-9e0b5888e31b\",\"type\":\"GlyphRenderer\"},{\"attributes\":{},\"id\":\"dd19dd49-bdaf-4df9-ae67-ed91c75f5e18\",\"type\":\"PanTool\"},{\"attributes\":{\"line_alpha\":{\"value\":0.1},\"line_color\":{\"value\":\"#1f77b4\"},\"x\":{\"field\":\"x\"},\"y\":{\"field\":\"y\"}},\"id\":\"bfc536f0-2fd0-4968-84f4-2f6d1b280630\",\"type\":\"Line\"},{\"attributes\":{},\"id\":\"2aa0541a-684d-4d5c-91e2-b5c5abb48d14\",\"type\":\"BasicTickFormatter\"},{\"attributes\":{\"source\":{\"id\":\"c40bdb77-b85f-4f40-8540-a2f96868e8a7\",\"type\":\"ColumnDataSource\"}},\"id\":\"44453932-dfbd-4cb4-9eb6-26374e08a85e\",\"type\":\"CDSView\"},{\"attributes\":{\"source\":{\"id\":\"71186da0-0f17-4831-bc29-53ad0cbefef9\",\"type\":\"ColumnDataSource\"}},\"id\":\"7537a975-3a50-4249-84fd-b1fe5c7b6259\",\"type\":\"CDSView\"},{\"attributes\":{\"line_alpha\":{\"value\":0.1},\"line_color\":{\"value\":\"#1f77b4\"},\"line_dash\":[4,4],\"x\":{\"field\":\"x\"},\"y\":{\"field\":\"y\"}},\"id\":\"d2c4c833-99f4-4fdd-8b3f-f77887529f8f\",\"type\":\"Line\"},{\"attributes\":{\"axis_label\":\"Weighted sum cost\",\"axis_label_text_color\":{\"value\":\"black\"},\"axis_label_text_font_size\":{\"value\":\"12pt\"},\"formatter\":{\"id\":\"2aa0541a-684d-4d5c-91e2-b5c5abb48d14\",\"type\":\"BasicTickFormatter\"},\"major_label_text_color\":{\"value\":\"black\"},\"major_label_text_font_size\":{\"value\":\"10pt\"},\"plot\":{\"id\":\"10e78503-b84a-4001-aa33-31e69742fa96\",\"subtype\":\"Figure\",\"type\":\"Plot\"},\"ticker\":{\"id\":\"1a74c645-8762-4665-bd26-81e1d0178f55\",\"type\":\"BasicTicker\"}},\"id\":\"e7f228c9-6115-4358-8225-3d40628c81bd\",\"type\":\"LinearAxis\"},{\"attributes\":{\"data_source\":{\"id\":\"c40bdb77-b85f-4f40-8540-a2f96868e8a7\",\"type\":\"ColumnDataSource\"},\"glyph\":{\"id\":\"3e09085b-9513-49fb-a9fe-5cf5f61273dc\",\"type\":\"Line\"},\"hover_glyph\":null,\"muted_glyph\":null,\"nonselection_glyph\":{\"id\":\"317e4496-1ac1-4544-9ebd-5d47ef313abc\",\"type\":\"Line\"},\"selection_glyph\":null,\"view\":{\"id\":\"44453932-dfbd-4cb4-9eb6-26374e08a85e\",\"type\":\"CDSView\"}},\"id\":\"dff6ea18-9b5f-4fbf-9b00-dbb1fb6da5e2\",\"type\":\"GlyphRenderer\"},{\"attributes\":{\"line_color\":{\"value\":\"navy\"},\"line_dash\":[15,2],\"x\":{\"field\":\"x\"},\"y\":{\"field\":\"y\"}},\"id\":\"3e09085b-9513-49fb-a9fe-5cf5f61273dc\",\"type\":\"Line\"},{\"attributes\":{},\"id\":\"1a74c645-8762-4665-bd26-81e1d0178f55\",\"type\":\"BasicTicker\"},{\"attributes\":{},\"id\":\"0dcc862c-0af3-4380-a1dc-52e39e026422\",\"type\":\"LinearScale\"},{\"attributes\":{\"overlay\":{\"id\":\"e332729c-58eb-46bc-952f-e6a4478a3462\",\"type\":\"BoxAnnotation\"}},\"id\":\"a60f58f4-2f7c-470c-9a82-04a7077c24e9\",\"type\":\"BoxZoomTool\"},{\"attributes\":{},\"id\":\"0bf20014-bac4-44cc-bc0f-1b0535b31904\",\"type\":\"ResetTool\"},{\"attributes\":{\"fill_alpha\":{\"value\":0.1},\"fill_color\":{\"value\":\"#1f77b4\"},\"line_alpha\":{\"value\":0.1},\"line_color\":{\"value\":\"#1f77b4\"},\"size\":{\"units\":\"screen\",\"value\":5},\"x\":{\"field\":\"x\"},\"y\":{\"field\":\"y\"}},\"id\":\"e65ce481-7a2a-481c-836e-17084a15b8f6\",\"type\":\"Circle\"},{\"attributes\":{\"items\":[{\"id\":\"bf17c554-4459-49df-b804-a8c5c28b5bc5\",\"type\":\"LegendItem\"},{\"id\":\"3ea084d5-2e1f-4d45-8ad1-0f5ce8c978af\",\"type\":\"LegendItem\"},{\"id\":\"4a77a50a-ccaa-432c-b758-8ce762c259bc\",\"type\":\"LegendItem\"},{\"id\":\"4d5e2008-bbc7-4226-ad4f-2f3b0e1a0ce0\",\"type\":\"LegendItem\"}],\"label_text_color\":{\"value\":\"black\"},\"location\":\"bottom_right\",\"plot\":{\"id\":\"10e78503-b84a-4001-aa33-31e69742fa96\",\"subtype\":\"Figure\",\"type\":\"Plot\"}},\"id\":\"31510eca-39b2-4464-8ab3-548795281452\",\"type\":\"Legend\"},{\"attributes\":{\"grid_line_alpha\":{\"value\":0.1},\"grid_line_dash\":[2,2],\"plot\":{\"id\":\"10e78503-b84a-4001-aa33-31e69742fa96\",\"subtype\":\"Figure\",\"type\":\"Plot\"},\"ticker\":{\"id\":\"7a1e6c76-c514-4531-98cb-425da30478f0\",\"type\":\"BasicTicker\"}},\"id\":\"1d9773f2-4e65-45e2-b805-20bccb6499a4\",\"type\":\"Grid\"},{\"attributes\":{},\"id\":\"e6fd3c52-06dd-4fac-9994-56ba81d2f9f2\",\"type\":\"HelpTool\"},{\"attributes\":{\"data_source\":{\"id\":\"c29240be-a7fc-4655-a9f8-7efb205cb911\",\"type\":\"ColumnDataSource\"},\"glyph\":{\"id\":\"fb784fb2-08ff-4f9a-b749-b6f4d2d3e820\",\"type\":\"Line\"},\"hover_glyph\":null,\"muted_glyph\":null,\"nonselection_glyph\":{\"id\":\"bfc536f0-2fd0-4968-84f4-2f6d1b280630\",\"type\":\"Line\"},\"selection_glyph\":null,\"view\":{\"id\":\"bb6beceb-7bbe-478c-bc7a-642a34f0f09c\",\"type\":\"CDSView\"}},\"id\":\"0b1301a8-07e4-4e59-8921-c8465e3eb127\",\"type\":\"GlyphRenderer\"},{\"attributes\":{\"line_alpha\":{\"value\":0.1},\"line_color\":{\"value\":\"#1f77b4\"},\"line_dash\":[1,4],\"x\":{\"field\":\"x\"},\"y\":{\"field\":\"y\"}},\"id\":\"c6be6718-f7d7-456a-8155-65f7b3a2db25\",\"type\":\"Line\"},{\"attributes\":{},\"id\":\"74129f54-1f0a-4cbc-87e8-5835ec490847\",\"type\":\"WheelZoomTool\"},{\"attributes\":{\"bottom_units\":\"screen\",\"fill_alpha\":{\"value\":0.5},\"fill_color\":{\"value\":\"lightgrey\"},\"left_units\":\"screen\",\"level\":\"overlay\",\"line_alpha\":{\"value\":1.0},\"line_color\":{\"value\":\"black\"},\"line_dash\":[4,4],\"line_width\":{\"value\":2},\"plot\":null,\"render_mode\":\"css\",\"right_units\":\"screen\",\"top_units\":\"screen\"},\"id\":\"e332729c-58eb-46bc-952f-e6a4478a3462\",\"type\":\"BoxAnnotation\"},{\"attributes\":{\"source\":{\"id\":\"1a6e1041-49bf-4bba-8fa7-b5ee95c05f3d\",\"type\":\"ColumnDataSource\"}},\"id\":\"7b775866-354f-42bb-8be1-a576f529f13a\",\"type\":\"CDSView\"},{\"attributes\":{\"fill_color\":{\"value\":\"white\"},\"line_color\":{\"value\":\"navy\"},\"size\":{\"units\":\"screen\",\"value\":5},\"x\":{\"field\":\"x\"},\"y\":{\"field\":\"y\"}},\"id\":\"65461a35-40e4-4d16-bd65-fe1e7f83b308\",\"type\":\"Circle\"},{\"attributes\":{\"label\":{\"value\":\"Small cell load = 0.32\"},\"renderers\":[{\"id\":\"13618dcf-471a-41b6-b32e-050621b7d73c\",\"type\":\"GlyphRenderer\"}]},\"id\":\"4a77a50a-ccaa-432c-b758-8ce762c259bc\",\"type\":\"LegendItem\"},{\"attributes\":{\"fill_color\":{\"value\":\"white\"},\"line_color\":{\"value\":\"navy\"},\"size\":{\"units\":\"screen\",\"value\":5},\"x\":{\"field\":\"x\"},\"y\":{\"field\":\"y\"}},\"id\":\"cc4bd58b-0d93-4d2c-9600-c06e7782b933\",\"type\":\"Circle\"},{\"attributes\":{\"label\":{\"value\":\"Small cell load = 0.2\"},\"renderers\":[{\"id\":\"dff6ea18-9b5f-4fbf-9b00-dbb1fb6da5e2\",\"type\":\"GlyphRenderer\"}]},\"id\":\"3ea084d5-2e1f-4d45-8ad1-0f5ce8c978af\",\"type\":\"LegendItem\"},{\"attributes\":{\"data_source\":{\"id\":\"1a6e1041-49bf-4bba-8fa7-b5ee95c05f3d\",\"type\":\"ColumnDataSource\"},\"glyph\":{\"id\":\"65461a35-40e4-4d16-bd65-fe1e7f83b308\",\"type\":\"Circle\"},\"hover_glyph\":null,\"muted_glyph\":null,\"nonselection_glyph\":{\"id\":\"e65ce481-7a2a-481c-836e-17084a15b8f6\",\"type\":\"Circle\"},\"selection_glyph\":null,\"view\":{\"id\":\"7b775866-354f-42bb-8be1-a576f529f13a\",\"type\":\"CDSView\"}},\"id\":\"7cfb6a3a-2943-4be1-9d0c-5549178a7b11\",\"type\":\"GlyphRenderer\"}],\"root_ids\":[\"10e78503-b84a-4001-aa33-31e69742fa96\"]},\"title\":\"Bokeh Application\",\"version\":\"0.12.10\"}};\n",
       "    var render_items = [{\"docid\":\"2e830136-48bb-4348-9acf-bdb18e06886a\",\"elementid\":\"42671b37-dd34-424f-a2c8-a0a68259a845\",\"modelid\":\"10e78503-b84a-4001-aa33-31e69742fa96\"}];\n",
       "\n",
       "    root.Bokeh.embed.embed_items(docs_json, render_items);\n",
       "  }\n",
       "\n",
       "  if (root.Bokeh !== undefined) {\n",
       "    embed_document(root);\n",
       "  } else {\n",
       "    var attempts = 0;\n",
       "    var timer = setInterval(function(root) {\n",
       "      if (root.Bokeh !== undefined) {\n",
       "        embed_document(root);\n",
       "        clearInterval(timer);\n",
       "      }\n",
       "      attempts++;\n",
       "      if (attempts > 100) {\n",
       "        console.log(\"Bokeh: ERROR: Unable to embed document because BokehJS library is missing\")\n",
       "        clearInterval(timer);\n",
       "      }\n",
       "    }, 10, root)\n",
       "  }\n",
       "})(window);"
      ],
      "application/vnd.bokehjs_exec.v0+json": ""
     },
     "metadata": {
      "application/vnd.bokehjs_exec.v0+json": {
       "id": "10e78503-b84a-4001-aa33-31e69742fa96"
      }
     },
     "output_type": "display_data"
    }
   ],
   "source": [
    "df=pd.read_csv('setup_0.05_erws/output_1.csv', skiprows=1)\n",
    "\n",
    "if df.iloc[-1][0] > 0:\n",
    "    df = df.iloc[-1:]\n",
    "else:\n",
    "    df = df.iloc[1:2]\n",
    "\n",
    "for i in range(2,45):\n",
    "    df_tmp = pd.read_csv('setup_0.05_erws/output_'+str(i)+'.csv', skiprows=1)\n",
    "    #df_rnd_tmp = df_tmp.loc[0,:]\n",
    "    #df_rnd = df_rnd.append(df_rnd_tmp)\n",
    "    if df_tmp.iloc[-1][0] > 0:\n",
    "        df_tmp = df_tmp.iloc[-1:]\n",
    "    else:\n",
    "        df_tmp = df_tmp.iloc[1:2]\n",
    "    df = df.append(df_tmp)\n",
    "\n",
    "df['relative_idle_time'] = df.small_arrival * df.avg_idle_time\n",
    "\n",
    "p0 = figure(plot_width=600, plot_height=400)\n",
    "\n",
    "\n",
    "p0.line(logscale(1), df[df.small_arrival==1].avg_resp_time + 0.01 * df[df.small_arrival==1].avg_power, line_color='navy',legend='Small cell load = 0.05')\n",
    "p0.circle(logscale(1), df[df.small_arrival==1].avg_resp_time + 0.01 * df[df.small_arrival==1].avg_power, color='white', line_color='navy',size=5)\n",
    "p0.line(logscale(4), df[df.small_arrival==4].avg_resp_time + 0.01 * df[df.small_arrival==4].avg_power, line_color='navy',line_dash=\"15 2\",legend='Small cell load = 0.2')\n",
    "p0.circle(logscale(4), df[df.small_arrival==4].avg_resp_time + 0.01 * df[df.small_arrival==4].avg_power, color='white', line_color='navy',size=5)\n",
    "\n",
    "p0.line(logscale(6), df[df.small_arrival==6].avg_resp_time + 0.01 * df[df.small_arrival==6].avg_power, line_color='navy',line_dash=\"4 4\",legend='Small cell load = 0.32')\n",
    "p0.circle(logscale(6), df[df.small_arrival==6].avg_resp_time + 0.01 * df[df.small_arrival==6].avg_power, color='white', line_color='navy',size=5)\n",
    "\n",
    "p0.line(logscale(9), df[df.small_arrival==9].avg_resp_time + 0.01 * df[df.small_arrival==9].avg_power, line_color='navy',line_dash=\"1 4\",legend='Small cell load = 0.5')\n",
    "p0.circle(logscale(9), df[df.small_arrival==9].avg_resp_time + 0.01 * df[df.small_arrival==9].avg_power, color='white', line_color='navy',size=5)\n",
    "\n",
    "\n",
    "p0.grid.grid_line_dash = [2,2]\n",
    "p0.grid.grid_line_alpha = 0.1\n",
    "\n",
    "p0.xaxis.axis_label = 'idle time in logscale (relative to avg. inter-arrival time)'\n",
    "p0.yaxis.axis_label = 'Weighted sum cost'\n",
    "\n",
    "p0.xaxis.axis_label_text_color = 'black'\n",
    "p0.xaxis.major_label_text_color = 'black'\n",
    "p0.yaxis.axis_label_text_color = 'black'\n",
    "p0.yaxis.major_label_text_color = 'black'\n",
    "p0.legend.label_text_color = 'black'\n",
    "\n",
    "p0.legend.location  = 'bottom_right'\n",
    "p0.outline_line_color = 'black'\n",
    "\n",
    "p0.axis.axis_label_text_font_size = '12pt'\n",
    "p0.axis.major_label_text_font_size = '10pt'\n",
    "#export_png(p0, filename='./weighted-sum-short-setup.png')\n",
    "\n",
    "show(p0)"
   ]
  },
  {
   "cell_type": "markdown",
   "metadata": {},
   "source": [
    "## 2.2 long setup delay"
   ]
  },
  {
   "cell_type": "code",
   "execution_count": 49,
   "metadata": {},
   "outputs": [
    {
     "data": {
      "text/html": [
       "\n",
       "<div class=\"bk-root\">\n",
       "    <div class=\"bk-plotdiv\" id=\"e9ab6df0-f328-4b24-831e-7de04a35bd36\"></div>\n",
       "</div>"
      ]
     },
     "metadata": {},
     "output_type": "display_data"
    },
    {
     "data": {
      "application/javascript": [
       "(function(root) {\n",
       "  function embed_document(root) {\n",
       "    var docs_json = {\"94f92a10-00c0-4e15-99fd-d0027968c811\":{\"roots\":{\"references\":[{\"attributes\":{\"data_source\":{\"id\":\"ec46d894-fed2-456f-80b7-da18bf227920\",\"type\":\"ColumnDataSource\"},\"glyph\":{\"id\":\"e794eac6-6825-47bf-8142-bd456211dc78\",\"type\":\"Circle\"},\"hover_glyph\":null,\"muted_glyph\":null,\"nonselection_glyph\":{\"id\":\"0ba6c9ca-ca3e-4113-9926-2c9794b007d3\",\"type\":\"Circle\"},\"selection_glyph\":null,\"view\":{\"id\":\"5a50ca28-8d00-4636-b006-39b098a50c42\",\"type\":\"CDSView\"}},\"id\":\"813af5b0-752a-4093-a359-f3c92e75ebe2\",\"type\":\"GlyphRenderer\"},{\"attributes\":{\"data_source\":{\"id\":\"bdf002c4-5ae6-4ad9-88e0-47616d347690\",\"type\":\"ColumnDataSource\"},\"glyph\":{\"id\":\"58fb1f4d-de13-45a2-9db2-98528d2f5b07\",\"type\":\"Line\"},\"hover_glyph\":null,\"muted_glyph\":null,\"nonselection_glyph\":{\"id\":\"cef8194b-e3a9-465c-825f-4fefe67d6aa0\",\"type\":\"Line\"},\"selection_glyph\":null,\"view\":{\"id\":\"0e13533a-e26e-4cdd-8978-5ca6198614fb\",\"type\":\"CDSView\"}},\"id\":\"ff07594e-b302-4c58-abce-faffd59dfadc\",\"type\":\"GlyphRenderer\"},{\"attributes\":{\"data_source\":{\"id\":\"db6a0ec4-a529-407c-a93a-7fdafa1cc79f\",\"type\":\"ColumnDataSource\"},\"glyph\":{\"id\":\"6b6012d9-49c9-4695-98e8-4ca699172731\",\"type\":\"Line\"},\"hover_glyph\":null,\"muted_glyph\":null,\"nonselection_glyph\":{\"id\":\"04b98068-36a0-44cf-9824-1c18cc78dadb\",\"type\":\"Line\"},\"selection_glyph\":null,\"view\":{\"id\":\"48a33d3d-b6f6-4a47-a77b-90fe27093452\",\"type\":\"CDSView\"}},\"id\":\"19abe975-e09d-4590-9e8d-5790e5503879\",\"type\":\"GlyphRenderer\"},{\"attributes\":{\"bottom_units\":\"screen\",\"fill_alpha\":{\"value\":0.5},\"fill_color\":{\"value\":\"lightgrey\"},\"left_units\":\"screen\",\"level\":\"overlay\",\"line_alpha\":{\"value\":1.0},\"line_color\":{\"value\":\"black\"},\"line_dash\":[4,4],\"line_width\":{\"value\":2},\"plot\":null,\"render_mode\":\"css\",\"right_units\":\"screen\",\"top_units\":\"screen\"},\"id\":\"dde712b8-4077-4afe-936a-a1e5b0953307\",\"type\":\"BoxAnnotation\"},{\"attributes\":{},\"id\":\"87747c18-7a3b-4d9e-a035-6b5cfeae957c\",\"type\":\"BasicTickFormatter\"},{\"attributes\":{\"line_alpha\":{\"value\":0.1},\"line_color\":{\"value\":\"#1f77b4\"},\"line_dash\":[15,2],\"x\":{\"field\":\"x\"},\"y\":{\"field\":\"y\"}},\"id\":\"62284d0b-4a9c-4e0f-9005-c54e2e68fd27\",\"type\":\"Line\"},{\"attributes\":{\"line_color\":{\"value\":\"navy\"},\"line_dash\":[15,2],\"x\":{\"field\":\"x\"},\"y\":{\"field\":\"y\"}},\"id\":\"f96f4475-f5ce-4626-a2e0-e885c38383f9\",\"type\":\"Line\"},{\"attributes\":{\"source\":{\"id\":\"25a7e0e8-f840-4b8a-8c86-cd53de722e4b\",\"type\":\"ColumnDataSource\"}},\"id\":\"7fa837fc-7af7-45fc-9599-ffc62edb3227\",\"type\":\"CDSView\"},{\"attributes\":{},\"id\":\"5414e22d-f713-4042-ba31-4cd1e58223ef\",\"type\":\"BasicTicker\"},{\"attributes\":{\"callback\":null,\"column_names\":[\"x\",\"y\"],\"data\":{\"x\":[-10,-3.473931188332412,-1.8889686876112561,-0.888968687611256,-0.014499569695115089,0.9855004303048849,1.9855004303048849,3.0018022426339854,6.999774561287003,9.00002817736235,10.00002817736235],\"y\":{\"__ndarray__\":\"KqkT0EQILUCskPKTav8sQNPGEWvx+SxAwvUoXI/iLEB7vfvjvbosQG7YtiizgSxA5x2n6EgOLEBHWipvRzgrQCFB8WPMvSZAIzKs4o0MJkAjnBa86OslQA==\",\"dtype\":\"float64\",\"shape\":[11]}}},\"id\":\"db6a0ec4-a529-407c-a93a-7fdafa1cc79f\",\"type\":\"ColumnDataSource\"},{\"attributes\":{\"data_source\":{\"id\":\"6ddfe175-af07-43b4-a605-2065116469bf\",\"type\":\"ColumnDataSource\"},\"glyph\":{\"id\":\"c2bd5585-61fe-4654-adee-e9dc6bc527de\",\"type\":\"Circle\"},\"hover_glyph\":null,\"muted_glyph\":null,\"nonselection_glyph\":{\"id\":\"f08e12fa-83e9-4792-b421-1384c577d2f4\",\"type\":\"Circle\"},\"selection_glyph\":null,\"view\":{\"id\":\"a28016df-3cb2-4ffc-af09-6cab5f551ad9\",\"type\":\"CDSView\"}},\"id\":\"f81b277c-dff9-4d99-ac40-cc9000e06168\",\"type\":\"GlyphRenderer\"},{\"attributes\":{},\"id\":\"c8124817-4bab-420b-8eaa-fb393e547e9a\",\"type\":\"SaveTool\"},{\"attributes\":{\"fill_alpha\":{\"value\":0.1},\"fill_color\":{\"value\":\"#1f77b4\"},\"line_alpha\":{\"value\":0.1},\"line_color\":{\"value\":\"#1f77b4\"},\"size\":{\"units\":\"screen\",\"value\":5},\"x\":{\"field\":\"x\"},\"y\":{\"field\":\"y\"}},\"id\":\"939df869-c109-48c1-a849-a5d3550d6f03\",\"type\":\"Circle\"},{\"attributes\":{},\"id\":\"87cc313e-8c48-421a-9656-7b3aad2b0095\",\"type\":\"BasicTicker\"},{\"attributes\":{\"callback\":null,\"column_names\":[\"x\",\"y\"],\"data\":{\"x\":[-10,-3.0588936890535687,-2.0588936890535687,-1.0588936890535685,0.02856915219677092,0.9855004303048849,2.007195501404204,2.996388746447621,6.999774561287003,8.999943643624247,10.00002817736235],\"y\":{\"__ndarray__\":\"lUiil1E8LEAcyeU/pC8sQD7QCgxZHSxAkBmojH8fLEDl1TkGZP8rQLyuX7AblitAVisTfqn/KkCMEB5tHPEpQIrIsIo3AiZAA5Xx7zOOJUB86IL6lnklQA==\",\"dtype\":\"float64\",\"shape\":[11]}}},\"id\":\"9f6b4679-17ee-45e4-a324-11750e5165f1\",\"type\":\"ColumnDataSource\"},{\"attributes\":{\"axis_label\":\"Weighted sum cost\",\"axis_label_text_color\":{\"value\":\"black\"},\"axis_label_text_font_size\":{\"value\":\"12pt\"},\"formatter\":{\"id\":\"aa192e22-6faa-4060-9c30-8e766ed27c5d\",\"type\":\"BasicTickFormatter\"},\"major_label_text_color\":{\"value\":\"black\"},\"major_label_text_font_size\":{\"value\":\"10pt\"},\"plot\":{\"id\":\"64ffb1f2-fbbb-43bb-8d4c-b326228e2ab3\",\"subtype\":\"Figure\",\"type\":\"Plot\"},\"ticker\":{\"id\":\"5414e22d-f713-4042-ba31-4cd1e58223ef\",\"type\":\"BasicTicker\"}},\"id\":\"e376e435-daa1-4f31-9f09-47d7cbb050f0\",\"type\":\"LinearAxis\"},{\"attributes\":{\"label\":{\"value\":\"Small cell load = 0.2\"},\"renderers\":[{\"id\":\"020c18fc-1252-4ea7-a157-feb3fb56a5ec\",\"type\":\"GlyphRenderer\"}]},\"id\":\"6cdc079a-4063-46d0-a50c-96e649b106b3\",\"type\":\"LegendItem\"},{\"attributes\":{\"fill_color\":{\"value\":\"white\"},\"line_color\":{\"value\":\"navy\"},\"size\":{\"units\":\"screen\",\"value\":5},\"x\":{\"field\":\"x\"},\"y\":{\"field\":\"y\"}},\"id\":\"beb608ff-ccdf-4c67-917f-1bc3ece40b23\",\"type\":\"Circle\"},{\"attributes\":{},\"id\":\"7c7132c2-c1e3-42ea-a74e-4bd6d993ba2b\",\"type\":\"LinearScale\"},{\"attributes\":{\"line_color\":{\"value\":\"navy\"},\"line_dash\":[1,4],\"x\":{\"field\":\"x\"},\"y\":{\"field\":\"y\"}},\"id\":\"6b6012d9-49c9-4695-98e8-4ca699172731\",\"type\":\"Line\"},{\"attributes\":{\"source\":{\"id\":\"9f6b4679-17ee-45e4-a324-11750e5165f1\",\"type\":\"ColumnDataSource\"}},\"id\":\"5ab00772-1615-43c5-9a41-e92eda8efb5a\",\"type\":\"CDSView\"},{\"attributes\":{\"below\":[{\"id\":\"8abda848-3949-4f2c-b17a-362037e92c10\",\"type\":\"LinearAxis\"}],\"left\":[{\"id\":\"e376e435-daa1-4f31-9f09-47d7cbb050f0\",\"type\":\"LinearAxis\"}],\"outline_line_color\":{\"value\":\"black\"},\"plot_height\":400,\"renderers\":[{\"id\":\"8abda848-3949-4f2c-b17a-362037e92c10\",\"type\":\"LinearAxis\"},{\"id\":\"6df548a0-225b-4afc-93bf-8de23339c37d\",\"type\":\"Grid\"},{\"id\":\"e376e435-daa1-4f31-9f09-47d7cbb050f0\",\"type\":\"LinearAxis\"},{\"id\":\"03c7eb82-2efe-492b-bd4d-212752d6e36a\",\"type\":\"Grid\"},{\"id\":\"dde712b8-4077-4afe-936a-a1e5b0953307\",\"type\":\"BoxAnnotation\"},{\"id\":\"3cd3d805-e00e-470b-a628-a7e60f9f1473\",\"type\":\"Legend\"},{\"id\":\"ff07594e-b302-4c58-abce-faffd59dfadc\",\"type\":\"GlyphRenderer\"},{\"id\":\"813af5b0-752a-4093-a359-f3c92e75ebe2\",\"type\":\"GlyphRenderer\"},{\"id\":\"020c18fc-1252-4ea7-a157-feb3fb56a5ec\",\"type\":\"GlyphRenderer\"},{\"id\":\"f81b277c-dff9-4d99-ac40-cc9000e06168\",\"type\":\"GlyphRenderer\"},{\"id\":\"8f45e215-8e37-460b-a7fd-95caae8d1742\",\"type\":\"GlyphRenderer\"},{\"id\":\"c21861fb-c8c9-4b01-8f9f-d70228d7bc6c\",\"type\":\"GlyphRenderer\"},{\"id\":\"19abe975-e09d-4590-9e8d-5790e5503879\",\"type\":\"GlyphRenderer\"},{\"id\":\"c52a2b3e-bcc0-4856-a3fa-9846fec3e26d\",\"type\":\"GlyphRenderer\"}],\"title\":{\"id\":\"0b4ae86d-267e-4bf4-9b8d-ae3946ddcadd\",\"type\":\"Title\"},\"toolbar\":{\"id\":\"ae819320-7c26-4cde-b02d-8cda918964db\",\"type\":\"Toolbar\"},\"x_range\":{\"id\":\"c722ecba-ac5f-4819-ab25-87fa924c547d\",\"type\":\"DataRange1d\"},\"x_scale\":{\"id\":\"7c7132c2-c1e3-42ea-a74e-4bd6d993ba2b\",\"type\":\"LinearScale\"},\"y_range\":{\"id\":\"f3008cc7-2535-46ce-ab48-c66cdf38c6d1\",\"type\":\"DataRange1d\"},\"y_scale\":{\"id\":\"4519c6bc-1462-43ed-bf7b-f543a983d716\",\"type\":\"LinearScale\"}},\"id\":\"64ffb1f2-fbbb-43bb-8d4c-b326228e2ab3\",\"subtype\":\"Figure\",\"type\":\"Plot\"},{\"attributes\":{\"callback\":null,\"column_names\":[\"x\",\"y\"],\"data\":{\"x\":[-10,-3.0588936890535687,-2.0,-1.0,0.0,1.0,2.0,3.0,7.0,9.0,10.0],\"y\":{\"__ndarray__\":\"7bYLzXUKIkAmWBzO/AoiQMYWghyUECJAcCpSYWwhIkBSSZ2AJkIiQAJDVrd6riJAUyKJXkZRI0CYNEbrqLojQCQLmMCtuyRAbjSAt0DCJEDdKR2s/8MkQA==\",\"dtype\":\"float64\",\"shape\":[11]}}},\"id\":\"ec46d894-fed2-456f-80b7-da18bf227920\",\"type\":\"ColumnDataSource\"},{\"attributes\":{\"data_source\":{\"id\":\"ba6c39e9-af8d-40c1-a6d3-e4f9e7266cc8\",\"type\":\"ColumnDataSource\"},\"glyph\":{\"id\":\"f96f4475-f5ce-4626-a2e0-e885c38383f9\",\"type\":\"Line\"},\"hover_glyph\":null,\"muted_glyph\":null,\"nonselection_glyph\":{\"id\":\"62284d0b-4a9c-4e0f-9005-c54e2e68fd27\",\"type\":\"Line\"},\"selection_glyph\":null,\"view\":{\"id\":\"f53bfb7b-6b33-487f-aa66-00e55018f92a\",\"type\":\"CDSView\"}},\"id\":\"020c18fc-1252-4ea7-a157-feb3fb56a5ec\",\"type\":\"GlyphRenderer\"},{\"attributes\":{},\"id\":\"a4c8ad44-309b-485a-b5bd-3c31c6037dff\",\"type\":\"HelpTool\"},{\"attributes\":{\"data_source\":{\"id\":\"25a7e0e8-f840-4b8a-8c86-cd53de722e4b\",\"type\":\"ColumnDataSource\"},\"glyph\":{\"id\":\"914208fd-30cf-4a8c-bcd3-da86c7bbdad9\",\"type\":\"Circle\"},\"hover_glyph\":null,\"muted_glyph\":null,\"nonselection_glyph\":{\"id\":\"939df869-c109-48c1-a849-a5d3550d6f03\",\"type\":\"Circle\"},\"selection_glyph\":null,\"view\":{\"id\":\"7fa837fc-7af7-45fc-9599-ffc62edb3227\",\"type\":\"CDSView\"}},\"id\":\"c52a2b3e-bcc0-4856-a3fa-9846fec3e26d\",\"type\":\"GlyphRenderer\"},{\"attributes\":{\"line_alpha\":{\"value\":0.1},\"line_color\":{\"value\":\"#1f77b4\"},\"line_dash\":[1,4],\"x\":{\"field\":\"x\"},\"y\":{\"field\":\"y\"}},\"id\":\"04b98068-36a0-44cf-9824-1c18cc78dadb\",\"type\":\"Line\"},{\"attributes\":{\"label\":{\"value\":\"Small cell load = 0.05\"},\"renderers\":[{\"id\":\"ff07594e-b302-4c58-abce-faffd59dfadc\",\"type\":\"GlyphRenderer\"}]},\"id\":\"4ddac887-ae77-430e-8257-f41f9895d3b6\",\"type\":\"LegendItem\"},{\"attributes\":{},\"id\":\"aa192e22-6faa-4060-9c30-8e766ed27c5d\",\"type\":\"BasicTickFormatter\"},{\"attributes\":{\"source\":{\"id\":\"bdf002c4-5ae6-4ad9-88e0-47616d347690\",\"type\":\"ColumnDataSource\"}},\"id\":\"0e13533a-e26e-4cdd-8978-5ca6198614fb\",\"type\":\"CDSView\"},{\"attributes\":{\"line_color\":{\"value\":\"navy\"},\"x\":{\"field\":\"x\"},\"y\":{\"field\":\"y\"}},\"id\":\"58fb1f4d-de13-45a2-9db2-98528d2f5b07\",\"type\":\"Line\"},{\"attributes\":{\"callback\":null,\"column_names\":[\"x\",\"y\"],\"data\":{\"x\":[-10,-3.0588936890535687,-2.0588936890535687,-1.0588936890535685,0.0,1.0,2.0,3.0,7.0,9.0,10.0],\"y\":{\"__ndarray__\":\"nkZaKm+3KkCbG9MTlqgqQFWkwthCsCpADP0TXKyIKkBxxFp8CmAqQAx72uGvGSpAaozWUdV0KUC5x9KHLkgoQJUJv9TPeyVAzywJUFM7JUDlSdI1ky8lQA==\",\"dtype\":\"float64\",\"shape\":[11]}}},\"id\":\"ba6c39e9-af8d-40c1-a6d3-e4f9e7266cc8\",\"type\":\"ColumnDataSource\"},{\"attributes\":{\"callback\":null},\"id\":\"f3008cc7-2535-46ce-ab48-c66cdf38c6d1\",\"type\":\"DataRange1d\"},{\"attributes\":{\"line_color\":{\"value\":\"navy\"},\"line_dash\":[4,4],\"x\":{\"field\":\"x\"},\"y\":{\"field\":\"y\"}},\"id\":\"70c9449d-af48-44cc-a46f-dc1d6b7bdc6a\",\"type\":\"Line\"},{\"attributes\":{\"line_alpha\":{\"value\":0.1},\"line_color\":{\"value\":\"#1f77b4\"},\"line_dash\":[4,4],\"x\":{\"field\":\"x\"},\"y\":{\"field\":\"y\"}},\"id\":\"237564e3-3f05-4538-928f-94fa62242d33\",\"type\":\"Line\"},{\"attributes\":{},\"id\":\"8c617261-95e5-4860-a8a9-02217b6fd396\",\"type\":\"ResetTool\"},{\"attributes\":{\"callback\":null,\"column_names\":[\"x\",\"y\"],\"data\":{\"x\":[-10,-3.0588936890535687,-2.0588936890535687,-1.0588936890535685,0.0,1.0,2.0,3.0,7.0,9.0,10.0],\"y\":{\"__ndarray__\":\"nkZaKm+3KkCbG9MTlqgqQFWkwthCsCpADP0TXKyIKkBxxFp8CmAqQAx72uGvGSpAaozWUdV0KUC5x9KHLkgoQJUJv9TPeyVAzywJUFM7JUDlSdI1ky8lQA==\",\"dtype\":\"float64\",\"shape\":[11]}}},\"id\":\"6ddfe175-af07-43b4-a605-2065116469bf\",\"type\":\"ColumnDataSource\"},{\"attributes\":{\"grid_line_alpha\":{\"value\":0.1},\"grid_line_dash\":[2,2],\"plot\":{\"id\":\"64ffb1f2-fbbb-43bb-8d4c-b326228e2ab3\",\"subtype\":\"Figure\",\"type\":\"Plot\"},\"ticker\":{\"id\":\"87cc313e-8c48-421a-9656-7b3aad2b0095\",\"type\":\"BasicTicker\"}},\"id\":\"6df548a0-225b-4afc-93bf-8de23339c37d\",\"type\":\"Grid\"},{\"attributes\":{\"plot\":null,\"text\":\"\"},\"id\":\"0b4ae86d-267e-4bf4-9b8d-ae3946ddcadd\",\"type\":\"Title\"},{\"attributes\":{\"line_alpha\":{\"value\":0.1},\"line_color\":{\"value\":\"#1f77b4\"},\"x\":{\"field\":\"x\"},\"y\":{\"field\":\"y\"}},\"id\":\"cef8194b-e3a9-465c-825f-4fefe67d6aa0\",\"type\":\"Line\"},{\"attributes\":{\"fill_color\":{\"value\":\"white\"},\"line_color\":{\"value\":\"navy\"},\"size\":{\"units\":\"screen\",\"value\":5},\"x\":{\"field\":\"x\"},\"y\":{\"field\":\"y\"}},\"id\":\"e794eac6-6825-47bf-8142-bd456211dc78\",\"type\":\"Circle\"},{\"attributes\":{\"axis_label\":\"idle time in logscale (relative to avg. inter-arrival time)\",\"axis_label_text_color\":{\"value\":\"black\"},\"axis_label_text_font_size\":{\"value\":\"12pt\"},\"formatter\":{\"id\":\"87747c18-7a3b-4d9e-a035-6b5cfeae957c\",\"type\":\"BasicTickFormatter\"},\"major_label_text_color\":{\"value\":\"black\"},\"major_label_text_font_size\":{\"value\":\"10pt\"},\"plot\":{\"id\":\"64ffb1f2-fbbb-43bb-8d4c-b326228e2ab3\",\"subtype\":\"Figure\",\"type\":\"Plot\"},\"ticker\":{\"id\":\"87cc313e-8c48-421a-9656-7b3aad2b0095\",\"type\":\"BasicTicker\"}},\"id\":\"8abda848-3949-4f2c-b17a-362037e92c10\",\"type\":\"LinearAxis\"},{\"attributes\":{\"callback\":null,\"column_names\":[\"x\",\"y\"],\"data\":{\"x\":[-10,-3.0588936890535687,-2.0588936890535687,-1.0588936890535685,0.02856915219677092,0.9855004303048849,2.007195501404204,2.996388746447621,6.999774561287003,8.999943643624247,10.00002817736235],\"y\":{\"__ndarray__\":\"lUiil1E8LEAcyeU/pC8sQD7QCgxZHSxAkBmojH8fLEDl1TkGZP8rQLyuX7AblitAVisTfqn/KkCMEB5tHPEpQIrIsIo3AiZAA5Xx7zOOJUB86IL6lnklQA==\",\"dtype\":\"float64\",\"shape\":[11]}}},\"id\":\"6bce95d4-ec58-4444-a0c1-54c4dfe02c64\",\"type\":\"ColumnDataSource\"},{\"attributes\":{\"active_drag\":\"auto\",\"active_inspect\":\"auto\",\"active_scroll\":\"auto\",\"active_tap\":\"auto\",\"tools\":[{\"id\":\"8cf79086-6753-4d3e-94bf-a510cd578c5a\",\"type\":\"PanTool\"},{\"id\":\"bf2540c8-0f54-4db2-8c07-b163bf61583a\",\"type\":\"WheelZoomTool\"},{\"id\":\"02e33f36-b327-4459-99bb-d58bcd640ad3\",\"type\":\"BoxZoomTool\"},{\"id\":\"c8124817-4bab-420b-8eaa-fb393e547e9a\",\"type\":\"SaveTool\"},{\"id\":\"8c617261-95e5-4860-a8a9-02217b6fd396\",\"type\":\"ResetTool\"},{\"id\":\"a4c8ad44-309b-485a-b5bd-3c31c6037dff\",\"type\":\"HelpTool\"}]},\"id\":\"ae819320-7c26-4cde-b02d-8cda918964db\",\"type\":\"Toolbar\"},{\"attributes\":{\"data_source\":{\"id\":\"9f6b4679-17ee-45e4-a324-11750e5165f1\",\"type\":\"ColumnDataSource\"},\"glyph\":{\"id\":\"70c9449d-af48-44cc-a46f-dc1d6b7bdc6a\",\"type\":\"Line\"},\"hover_glyph\":null,\"muted_glyph\":null,\"nonselection_glyph\":{\"id\":\"237564e3-3f05-4538-928f-94fa62242d33\",\"type\":\"Line\"},\"selection_glyph\":null,\"view\":{\"id\":\"5ab00772-1615-43c5-9a41-e92eda8efb5a\",\"type\":\"CDSView\"}},\"id\":\"8f45e215-8e37-460b-a7fd-95caae8d1742\",\"type\":\"GlyphRenderer\"},{\"attributes\":{\"source\":{\"id\":\"ba6c39e9-af8d-40c1-a6d3-e4f9e7266cc8\",\"type\":\"ColumnDataSource\"}},\"id\":\"f53bfb7b-6b33-487f-aa66-00e55018f92a\",\"type\":\"CDSView\"},{\"attributes\":{\"source\":{\"id\":\"6bce95d4-ec58-4444-a0c1-54c4dfe02c64\",\"type\":\"ColumnDataSource\"}},\"id\":\"2cdf757d-a62b-44b7-a9fc-91e99b1fa9d2\",\"type\":\"CDSView\"},{\"attributes\":{\"source\":{\"id\":\"db6a0ec4-a529-407c-a93a-7fdafa1cc79f\",\"type\":\"ColumnDataSource\"}},\"id\":\"48a33d3d-b6f6-4a47-a77b-90fe27093452\",\"type\":\"CDSView\"},{\"attributes\":{\"callback\":null,\"column_names\":[\"x\",\"y\"],\"data\":{\"x\":[-10,-3.473931188332412,-1.8889686876112561,-0.888968687611256,-0.014499569695115089,0.9855004303048849,1.9855004303048849,3.0018022426339854,6.999774561287003,9.00002817736235,10.00002817736235],\"y\":{\"__ndarray__\":\"KqkT0EQILUCskPKTav8sQNPGEWvx+SxAwvUoXI/iLEB7vfvjvbosQG7YtiizgSxA5x2n6EgOLEBHWipvRzgrQCFB8WPMvSZAIzKs4o0MJkAjnBa86OslQA==\",\"dtype\":\"float64\",\"shape\":[11]}}},\"id\":\"25a7e0e8-f840-4b8a-8c86-cd53de722e4b\",\"type\":\"ColumnDataSource\"},{\"attributes\":{\"dimension\":1,\"grid_line_alpha\":{\"value\":0.1},\"grid_line_dash\":[2,2],\"plot\":{\"id\":\"64ffb1f2-fbbb-43bb-8d4c-b326228e2ab3\",\"subtype\":\"Figure\",\"type\":\"Plot\"},\"ticker\":{\"id\":\"5414e22d-f713-4042-ba31-4cd1e58223ef\",\"type\":\"BasicTicker\"}},\"id\":\"03c7eb82-2efe-492b-bd4d-212752d6e36a\",\"type\":\"Grid\"},{\"attributes\":{\"overlay\":{\"id\":\"dde712b8-4077-4afe-936a-a1e5b0953307\",\"type\":\"BoxAnnotation\"}},\"id\":\"02e33f36-b327-4459-99bb-d58bcd640ad3\",\"type\":\"BoxZoomTool\"},{\"attributes\":{\"label\":{\"value\":\"Small cell load = 0.5\"},\"renderers\":[{\"id\":\"19abe975-e09d-4590-9e8d-5790e5503879\",\"type\":\"GlyphRenderer\"}]},\"id\":\"b8dcd22e-268d-435f-a330-d3f4fa15560d\",\"type\":\"LegendItem\"},{\"attributes\":{\"fill_color\":{\"value\":\"white\"},\"line_color\":{\"value\":\"navy\"},\"size\":{\"units\":\"screen\",\"value\":5},\"x\":{\"field\":\"x\"},\"y\":{\"field\":\"y\"}},\"id\":\"914208fd-30cf-4a8c-bcd3-da86c7bbdad9\",\"type\":\"Circle\"},{\"attributes\":{\"fill_alpha\":{\"value\":0.1},\"fill_color\":{\"value\":\"#1f77b4\"},\"line_alpha\":{\"value\":0.1},\"line_color\":{\"value\":\"#1f77b4\"},\"size\":{\"units\":\"screen\",\"value\":5},\"x\":{\"field\":\"x\"},\"y\":{\"field\":\"y\"}},\"id\":\"f08e12fa-83e9-4792-b421-1384c577d2f4\",\"type\":\"Circle\"},{\"attributes\":{\"fill_alpha\":{\"value\":0.1},\"fill_color\":{\"value\":\"#1f77b4\"},\"line_alpha\":{\"value\":0.1},\"line_color\":{\"value\":\"#1f77b4\"},\"size\":{\"units\":\"screen\",\"value\":5},\"x\":{\"field\":\"x\"},\"y\":{\"field\":\"y\"}},\"id\":\"0ba6c9ca-ca3e-4113-9926-2c9794b007d3\",\"type\":\"Circle\"},{\"attributes\":{},\"id\":\"4519c6bc-1462-43ed-bf7b-f543a983d716\",\"type\":\"LinearScale\"},{\"attributes\":{\"callback\":null,\"column_names\":[\"x\",\"y\"],\"data\":{\"x\":[-10,-3.0588936890535687,-2.0,-1.0,0.0,1.0,2.0,3.0,7.0,9.0,10.0],\"y\":{\"__ndarray__\":\"7bYLzXUKIkAmWBzO/AoiQMYWghyUECJAcCpSYWwhIkBSSZ2AJkIiQAJDVrd6riJAUyKJXkZRI0CYNEbrqLojQCQLmMCtuyRAbjSAt0DCJEDdKR2s/8MkQA==\",\"dtype\":\"float64\",\"shape\":[11]}}},\"id\":\"bdf002c4-5ae6-4ad9-88e0-47616d347690\",\"type\":\"ColumnDataSource\"},{\"attributes\":{\"label\":{\"value\":\"Small cell load = 0.32\"},\"renderers\":[{\"id\":\"8f45e215-8e37-460b-a7fd-95caae8d1742\",\"type\":\"GlyphRenderer\"}]},\"id\":\"501c90e9-5bcd-4433-ba0c-098cd417fce6\",\"type\":\"LegendItem\"},{\"attributes\":{\"data_source\":{\"id\":\"6bce95d4-ec58-4444-a0c1-54c4dfe02c64\",\"type\":\"ColumnDataSource\"},\"glyph\":{\"id\":\"beb608ff-ccdf-4c67-917f-1bc3ece40b23\",\"type\":\"Circle\"},\"hover_glyph\":null,\"muted_glyph\":null,\"nonselection_glyph\":{\"id\":\"a842d361-e937-4930-bb5f-02f67a305ca9\",\"type\":\"Circle\"},\"selection_glyph\":null,\"view\":{\"id\":\"2cdf757d-a62b-44b7-a9fc-91e99b1fa9d2\",\"type\":\"CDSView\"}},\"id\":\"c21861fb-c8c9-4b01-8f9f-d70228d7bc6c\",\"type\":\"GlyphRenderer\"},{\"attributes\":{},\"id\":\"8cf79086-6753-4d3e-94bf-a510cd578c5a\",\"type\":\"PanTool\"},{\"attributes\":{\"background_fill_alpha\":{\"value\":0.6},\"background_fill_color\":{\"value\":\"orange\"},\"items\":[{\"id\":\"4ddac887-ae77-430e-8257-f41f9895d3b6\",\"type\":\"LegendItem\"},{\"id\":\"6cdc079a-4063-46d0-a50c-96e649b106b3\",\"type\":\"LegendItem\"},{\"id\":\"501c90e9-5bcd-4433-ba0c-098cd417fce6\",\"type\":\"LegendItem\"},{\"id\":\"b8dcd22e-268d-435f-a330-d3f4fa15560d\",\"type\":\"LegendItem\"}],\"label_text_color\":{\"value\":\"black\"},\"plot\":{\"id\":\"64ffb1f2-fbbb-43bb-8d4c-b326228e2ab3\",\"subtype\":\"Figure\",\"type\":\"Plot\"}},\"id\":\"3cd3d805-e00e-470b-a628-a7e60f9f1473\",\"type\":\"Legend\"},{\"attributes\":{},\"id\":\"bf2540c8-0f54-4db2-8c07-b163bf61583a\",\"type\":\"WheelZoomTool\"},{\"attributes\":{\"source\":{\"id\":\"6ddfe175-af07-43b4-a605-2065116469bf\",\"type\":\"ColumnDataSource\"}},\"id\":\"a28016df-3cb2-4ffc-af09-6cab5f551ad9\",\"type\":\"CDSView\"},{\"attributes\":{\"callback\":null},\"id\":\"c722ecba-ac5f-4819-ab25-87fa924c547d\",\"type\":\"DataRange1d\"},{\"attributes\":{\"fill_color\":{\"value\":\"white\"},\"line_color\":{\"value\":\"navy\"},\"size\":{\"units\":\"screen\",\"value\":5},\"x\":{\"field\":\"x\"},\"y\":{\"field\":\"y\"}},\"id\":\"c2bd5585-61fe-4654-adee-e9dc6bc527de\",\"type\":\"Circle\"},{\"attributes\":{\"source\":{\"id\":\"ec46d894-fed2-456f-80b7-da18bf227920\",\"type\":\"ColumnDataSource\"}},\"id\":\"5a50ca28-8d00-4636-b006-39b098a50c42\",\"type\":\"CDSView\"},{\"attributes\":{\"fill_alpha\":{\"value\":0.1},\"fill_color\":{\"value\":\"#1f77b4\"},\"line_alpha\":{\"value\":0.1},\"line_color\":{\"value\":\"#1f77b4\"},\"size\":{\"units\":\"screen\",\"value\":5},\"x\":{\"field\":\"x\"},\"y\":{\"field\":\"y\"}},\"id\":\"a842d361-e937-4930-bb5f-02f67a305ca9\",\"type\":\"Circle\"}],\"root_ids\":[\"64ffb1f2-fbbb-43bb-8d4c-b326228e2ab3\"]},\"title\":\"Bokeh Application\",\"version\":\"0.12.10\"}};\n",
       "    var render_items = [{\"docid\":\"94f92a10-00c0-4e15-99fd-d0027968c811\",\"elementid\":\"e9ab6df0-f328-4b24-831e-7de04a35bd36\",\"modelid\":\"64ffb1f2-fbbb-43bb-8d4c-b326228e2ab3\"}];\n",
       "\n",
       "    root.Bokeh.embed.embed_items(docs_json, render_items);\n",
       "  }\n",
       "\n",
       "  if (root.Bokeh !== undefined) {\n",
       "    embed_document(root);\n",
       "  } else {\n",
       "    var attempts = 0;\n",
       "    var timer = setInterval(function(root) {\n",
       "      if (root.Bokeh !== undefined) {\n",
       "        embed_document(root);\n",
       "        clearInterval(timer);\n",
       "      }\n",
       "      attempts++;\n",
       "      if (attempts > 100) {\n",
       "        console.log(\"Bokeh: ERROR: Unable to embed document because BokehJS library is missing\")\n",
       "        clearInterval(timer);\n",
       "      }\n",
       "    }, 10, root)\n",
       "  }\n",
       "})(window);"
      ],
      "application/vnd.bokehjs_exec.v0+json": ""
     },
     "metadata": {
      "application/vnd.bokehjs_exec.v0+json": {
       "id": "64ffb1f2-fbbb-43bb-8d4c-b326228e2ab3"
      }
     },
     "output_type": "display_data"
    }
   ],
   "source": [
    "df=pd.read_csv('setup_1.0_erws/output_1.csv', skiprows=1)\n",
    "\n",
    "if df.iloc[-1][0] > 0:\n",
    "    df = df.iloc[-1:]\n",
    "else:\n",
    "    df = df.iloc[1:2]\n",
    "\n",
    "for i in range(2,45):\n",
    "    df_tmp = pd.read_csv('setup_1.0_erws/output_'+str(i)+'.csv', skiprows=1)\n",
    "    #df_rnd_tmp = df_tmp.loc[0,:]\n",
    "    #df_rnd = df_rnd.append(df_rnd_tmp)\n",
    "    if df_tmp.iloc[-1][0] > 0:\n",
    "        df_tmp = df_tmp.iloc[-1:]\n",
    "    else:\n",
    "        df_tmp = df_tmp.iloc[1:2]\n",
    "    df = df.append(df_tmp)\n",
    "\n",
    "df['relative_idle_time'] = df.small_arrival * df.avg_idle_time\n",
    "\n",
    "p0 = figure(plot_width=600, plot_height=400)\n",
    "\n",
    "\n",
    "p0.line(logscale(1), df[df.small_arrival==1].avg_resp_time + 0.01 * df[df.small_arrival==1].avg_power, line_color='navy',legend='Small cell load = 0.05')\n",
    "p0.circle(logscale(1), df[df.small_arrival==1].avg_resp_time + 0.01 * df[df.small_arrival==1].avg_power, color='white', line_color='navy',size=5)\n",
    "p0.line(logscale(4), df[df.small_arrival==4].avg_resp_time + 0.01 * df[df.small_arrival==4].avg_power, line_color='navy',line_dash=\"15 2\",legend='Small cell load = 0.2')\n",
    "p0.circle(logscale(4), df[df.small_arrival==4].avg_resp_time + 0.01 * df[df.small_arrival==4].avg_power, color='white', line_color='navy',size=5)\n",
    "\n",
    "p0.line(logscale(6), df[df.small_arrival==6].avg_resp_time + 0.01 * df[df.small_arrival==6].avg_power, line_color='navy',line_dash=\"4 4\",legend='Small cell load = 0.32')\n",
    "p0.circle(logscale(6), df[df.small_arrival==6].avg_resp_time + 0.01 * df[df.small_arrival==6].avg_power, color='white', line_color='navy',size=5)\n",
    "\n",
    "p0.line(logscale(9), df[df.small_arrival==9].avg_resp_time + 0.01 * df[df.small_arrival==9].avg_power, line_color='navy',line_dash=\"1 4\",legend='Small cell load = 0.5')\n",
    "p0.circle(logscale(9), df[df.small_arrival==9].avg_resp_time + 0.01 * df[df.small_arrival==9].avg_power, color='white', line_color='navy',size=5)\n",
    "\n",
    "\n",
    "p0.grid.grid_line_dash = [2,2]\n",
    "p0.grid.grid_line_alpha = 0.1\n",
    "\n",
    "p0.xaxis.axis_label = 'idle time in logscale (relative to avg. inter-arrival time)'\n",
    "p0.yaxis.axis_label = 'Weighted sum cost'\n",
    "\n",
    "p0.xaxis.axis_label_text_color = 'black'\n",
    "p0.xaxis.axis_line_color = 'black'\n",
    "p0.xaxis.major_label_text_color = 'black'\n",
    "p0.xaxis.major_tick_line_color = 'black'\n",
    "p0.xaxis.minor_tick_line_color = 'black'\n",
    "\n",
    "p0.yaxis.axis_label_text_color = 'black'\n",
    "p0.yaxis.axis_line_color = 'black'\n",
    "p0.yaxis.major_label_text_color = 'black'\n",
    "p0.yaxis.major_tick_line_color = 'black'\n",
    "p0.yaxis.minor_tick_line_color = 'black'\n",
    "\n",
    "p0.legend.label_text_color = 'black'\n",
    "p0.legend.background_fill_alpha = 0.6\n",
    "p0.legend.background_fill_color = 'orange'\n",
    "p0.legend.location  = 'top_right'\n",
    "p0.outline_line_color = 'black'\n",
    "\n",
    "p0.axis.axis_label_text_font_size = '12pt'\n",
    "p0.axis.major_label_text_font_size = '10pt'\n",
    "#export_png(p0, filename='./weighted-sum-long-setup.png')\n",
    "\n",
    "show(p0)"
   ]
  },
  {
   "cell_type": "code",
   "execution_count": null,
   "metadata": {},
   "outputs": [],
   "source": []
  }
 ],
 "metadata": {
  "anaconda-cloud": {},
  "kernelspec": {
   "display_name": "Python [default]",
   "language": "python",
   "name": "python3"
  },
  "language_info": {
   "codemirror_mode": {
    "name": "ipython",
    "version": 3
   },
   "file_extension": ".py",
   "mimetype": "text/x-python",
   "name": "python",
   "nbconvert_exporter": "python",
   "pygments_lexer": "ipython3",
   "version": "3.5.2"
  }
 },
 "nbformat": 4,
 "nbformat_minor": 1
}
