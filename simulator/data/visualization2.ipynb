{
 "cells": [
  {
   "cell_type": "code",
   "execution_count": 1,
   "metadata": {},
   "outputs": [],
   "source": [
    "from bokeh.io import output_notebook, show\n",
    "from bokeh.plotting import figure"
   ]
  },
  {
   "cell_type": "code",
   "execution_count": 2,
   "metadata": {},
   "outputs": [
    {
     "data": {
      "text/html": [
       "\n",
       "    <div class=\"bk-root\">\n",
       "        <a href=\"https://bokeh.pydata.org\" target=\"_blank\" class=\"bk-logo bk-logo-small bk-logo-notebook\"></a>\n",
       "        <span id=\"bbae818b-83b5-40f5-91ee-3234d1d483c5\">Loading BokehJS ...</span>\n",
       "    </div>"
      ]
     },
     "metadata": {},
     "output_type": "display_data"
    },
    {
     "data": {
      "application/javascript": [
       "\n",
       "(function(root) {\n",
       "  function now() {\n",
       "    return new Date();\n",
       "  }\n",
       "\n",
       "  var force = true;\n",
       "\n",
       "  if (typeof (root._bokeh_onload_callbacks) === \"undefined\" || force === true) {\n",
       "    root._bokeh_onload_callbacks = [];\n",
       "    root._bokeh_is_loading = undefined;\n",
       "  }\n",
       "\n",
       "  var JS_MIME_TYPE = 'application/javascript';\n",
       "  var HTML_MIME_TYPE = 'text/html';\n",
       "  var EXEC_MIME_TYPE = 'application/vnd.bokehjs_exec.v0+json';\n",
       "  var CLASS_NAME = 'output_bokeh rendered_html';\n",
       "\n",
       "  /**\n",
       "   * Render data to the DOM node\n",
       "   */\n",
       "  function render(props, node) {\n",
       "    var script = document.createElement(\"script\");\n",
       "    node.appendChild(script);\n",
       "  }\n",
       "\n",
       "  /**\n",
       "   * Handle when an output is cleared or removed\n",
       "   */\n",
       "  function handleClearOutput(event, handle) {\n",
       "    var cell = handle.cell;\n",
       "\n",
       "    var id = cell.output_area._bokeh_element_id;\n",
       "    var server_id = cell.output_area._bokeh_server_id;\n",
       "    // Clean up Bokeh references\n",
       "    if (id !== undefined) {\n",
       "      Bokeh.index[id].model.document.clear();\n",
       "      delete Bokeh.index[id];\n",
       "    }\n",
       "\n",
       "    if (server_id !== undefined) {\n",
       "      // Clean up Bokeh references\n",
       "      var cmd = \"from bokeh.io.state import curstate; print(curstate().uuid_to_server['\" + server_id + \"'].get_sessions()[0].document.roots[0]._id)\";\n",
       "      cell.notebook.kernel.execute(cmd, {\n",
       "        iopub: {\n",
       "          output: function(msg) {\n",
       "            var element_id = msg.content.text.trim();\n",
       "            Bokeh.index[element_id].model.document.clear();\n",
       "            delete Bokeh.index[element_id];\n",
       "          }\n",
       "        }\n",
       "      });\n",
       "      // Destroy server and session\n",
       "      var cmd = \"import bokeh.io.notebook as ion; ion.destroy_server('\" + server_id + \"')\";\n",
       "      cell.notebook.kernel.execute(cmd);\n",
       "    }\n",
       "  }\n",
       "\n",
       "  /**\n",
       "   * Handle when a new output is added\n",
       "   */\n",
       "  function handleAddOutput(event, handle) {\n",
       "    var output_area = handle.output_area;\n",
       "    var output = handle.output;\n",
       "\n",
       "    // limit handleAddOutput to display_data with EXEC_MIME_TYPE content only\n",
       "    if ((output.output_type != \"display_data\") || (!output.data.hasOwnProperty(EXEC_MIME_TYPE))) {\n",
       "      return\n",
       "    }\n",
       "\n",
       "    var toinsert = output_area.element.find(`.${CLASS_NAME.split(' ')[0]}`);\n",
       "\n",
       "    if (output.metadata[EXEC_MIME_TYPE][\"id\"] !== undefined) {\n",
       "      toinsert[0].firstChild.textContent = output.data[JS_MIME_TYPE];\n",
       "      // store reference to embed id on output_area\n",
       "      output_area._bokeh_element_id = output.metadata[EXEC_MIME_TYPE][\"id\"];\n",
       "    }\n",
       "    if (output.metadata[EXEC_MIME_TYPE][\"server_id\"] !== undefined) {\n",
       "      var bk_div = document.createElement(\"div\");\n",
       "      bk_div.innerHTML = output.data[HTML_MIME_TYPE];\n",
       "      var script_attrs = bk_div.children[0].attributes;\n",
       "      for (var i = 0; i < script_attrs.length; i++) {\n",
       "        toinsert[0].firstChild.setAttribute(script_attrs[i].name, script_attrs[i].value);\n",
       "      }\n",
       "      // store reference to server id on output_area\n",
       "      output_area._bokeh_server_id = output.metadata[EXEC_MIME_TYPE][\"server_id\"];\n",
       "    }\n",
       "  }\n",
       "\n",
       "  function register_renderer(events, OutputArea) {\n",
       "\n",
       "    function append_mime(data, metadata, element) {\n",
       "      // create a DOM node to render to\n",
       "      var toinsert = this.create_output_subarea(\n",
       "        metadata,\n",
       "        CLASS_NAME,\n",
       "        EXEC_MIME_TYPE\n",
       "      );\n",
       "      this.keyboard_manager.register_events(toinsert);\n",
       "      // Render to node\n",
       "      var props = {data: data, metadata: metadata[EXEC_MIME_TYPE]};\n",
       "      render(props, toinsert[0]);\n",
       "      element.append(toinsert);\n",
       "      return toinsert\n",
       "    }\n",
       "\n",
       "    /* Handle when an output is cleared or removed */\n",
       "    events.on('clear_output.CodeCell', handleClearOutput);\n",
       "    events.on('delete.Cell', handleClearOutput);\n",
       "\n",
       "    /* Handle when a new output is added */\n",
       "    events.on('output_added.OutputArea', handleAddOutput);\n",
       "\n",
       "    /**\n",
       "     * Register the mime type and append_mime function with output_area\n",
       "     */\n",
       "    OutputArea.prototype.register_mime_type(EXEC_MIME_TYPE, append_mime, {\n",
       "      /* Is output safe? */\n",
       "      safe: true,\n",
       "      /* Index of renderer in `output_area.display_order` */\n",
       "      index: 0\n",
       "    });\n",
       "  }\n",
       "\n",
       "  // register the mime type if in Jupyter Notebook environment and previously unregistered\n",
       "  if (root.Jupyter !== undefined) {\n",
       "    var events = require('base/js/events');\n",
       "    var OutputArea = require('notebook/js/outputarea').OutputArea;\n",
       "\n",
       "    if (OutputArea.prototype.mime_types().indexOf(EXEC_MIME_TYPE) == -1) {\n",
       "      register_renderer(events, OutputArea);\n",
       "    }\n",
       "  }\n",
       "\n",
       "  \n",
       "  if (typeof (root._bokeh_timeout) === \"undefined\" || force === true) {\n",
       "    root._bokeh_timeout = Date.now() + 5000;\n",
       "    root._bokeh_failed_load = false;\n",
       "  }\n",
       "\n",
       "  var NB_LOAD_WARNING = {'data': {'text/html':\n",
       "     \"<div style='background-color: #fdd'>\\n\"+\n",
       "     \"<p>\\n\"+\n",
       "     \"BokehJS does not appear to have successfully loaded. If loading BokehJS from CDN, this \\n\"+\n",
       "     \"may be due to a slow or bad network connection. Possible fixes:\\n\"+\n",
       "     \"</p>\\n\"+\n",
       "     \"<ul>\\n\"+\n",
       "     \"<li>re-rerun `output_notebook()` to attempt to load from CDN again, or</li>\\n\"+\n",
       "     \"<li>use INLINE resources instead, as so:</li>\\n\"+\n",
       "     \"</ul>\\n\"+\n",
       "     \"<code>\\n\"+\n",
       "     \"from bokeh.resources import INLINE\\n\"+\n",
       "     \"output_notebook(resources=INLINE)\\n\"+\n",
       "     \"</code>\\n\"+\n",
       "     \"</div>\"}};\n",
       "\n",
       "  function display_loaded() {\n",
       "    var el = document.getElementById(\"bbae818b-83b5-40f5-91ee-3234d1d483c5\");\n",
       "    if (el != null) {\n",
       "      el.textContent = \"BokehJS is loading...\";\n",
       "    }\n",
       "    if (root.Bokeh !== undefined) {\n",
       "      if (el != null) {\n",
       "        el.textContent = \"BokehJS \" + root.Bokeh.version + \" successfully loaded.\";\n",
       "      }\n",
       "    } else if (Date.now() < root._bokeh_timeout) {\n",
       "      setTimeout(display_loaded, 100)\n",
       "    }\n",
       "  }\n",
       "\n",
       "\n",
       "  function run_callbacks() {\n",
       "    try {\n",
       "      root._bokeh_onload_callbacks.forEach(function(callback) { callback() });\n",
       "    }\n",
       "    finally {\n",
       "      delete root._bokeh_onload_callbacks\n",
       "    }\n",
       "    console.info(\"Bokeh: all callbacks have finished\");\n",
       "  }\n",
       "\n",
       "  function load_libs(js_urls, callback) {\n",
       "    root._bokeh_onload_callbacks.push(callback);\n",
       "    if (root._bokeh_is_loading > 0) {\n",
       "      console.log(\"Bokeh: BokehJS is being loaded, scheduling callback at\", now());\n",
       "      return null;\n",
       "    }\n",
       "    if (js_urls == null || js_urls.length === 0) {\n",
       "      run_callbacks();\n",
       "      return null;\n",
       "    }\n",
       "    console.log(\"Bokeh: BokehJS not loaded, scheduling load and callback at\", now());\n",
       "    root._bokeh_is_loading = js_urls.length;\n",
       "    for (var i = 0; i < js_urls.length; i++) {\n",
       "      var url = js_urls[i];\n",
       "      var s = document.createElement('script');\n",
       "      s.src = url;\n",
       "      s.async = false;\n",
       "      s.onreadystatechange = s.onload = function() {\n",
       "        root._bokeh_is_loading--;\n",
       "        if (root._bokeh_is_loading === 0) {\n",
       "          console.log(\"Bokeh: all BokehJS libraries loaded\");\n",
       "          run_callbacks()\n",
       "        }\n",
       "      };\n",
       "      s.onerror = function() {\n",
       "        console.warn(\"failed to load library \" + url);\n",
       "      };\n",
       "      console.log(\"Bokeh: injecting script tag for BokehJS library: \", url);\n",
       "      document.getElementsByTagName(\"head\")[0].appendChild(s);\n",
       "    }\n",
       "  };var element = document.getElementById(\"bbae818b-83b5-40f5-91ee-3234d1d483c5\");\n",
       "  if (element == null) {\n",
       "    console.log(\"Bokeh: ERROR: autoload.js configured with elementid 'bbae818b-83b5-40f5-91ee-3234d1d483c5' but no matching script tag was found. \")\n",
       "    return false;\n",
       "  }\n",
       "\n",
       "  var js_urls = [\"https://cdn.pydata.org/bokeh/release/bokeh-0.12.10.min.js\", \"https://cdn.pydata.org/bokeh/release/bokeh-widgets-0.12.10.min.js\", \"https://cdn.pydata.org/bokeh/release/bokeh-tables-0.12.10.min.js\", \"https://cdn.pydata.org/bokeh/release/bokeh-gl-0.12.10.min.js\"];\n",
       "\n",
       "  var inline_js = [\n",
       "    function(Bokeh) {\n",
       "      Bokeh.set_log_level(\"info\");\n",
       "    },\n",
       "    \n",
       "    function(Bokeh) {\n",
       "      \n",
       "    },\n",
       "    function(Bokeh) {\n",
       "      console.log(\"Bokeh: injecting CSS: https://cdn.pydata.org/bokeh/release/bokeh-0.12.10.min.css\");\n",
       "      Bokeh.embed.inject_css(\"https://cdn.pydata.org/bokeh/release/bokeh-0.12.10.min.css\");\n",
       "      console.log(\"Bokeh: injecting CSS: https://cdn.pydata.org/bokeh/release/bokeh-widgets-0.12.10.min.css\");\n",
       "      Bokeh.embed.inject_css(\"https://cdn.pydata.org/bokeh/release/bokeh-widgets-0.12.10.min.css\");\n",
       "      console.log(\"Bokeh: injecting CSS: https://cdn.pydata.org/bokeh/release/bokeh-tables-0.12.10.min.css\");\n",
       "      Bokeh.embed.inject_css(\"https://cdn.pydata.org/bokeh/release/bokeh-tables-0.12.10.min.css\");\n",
       "    }\n",
       "  ];\n",
       "\n",
       "  function run_inline_js() {\n",
       "    \n",
       "    if ((root.Bokeh !== undefined) || (force === true)) {\n",
       "      for (var i = 0; i < inline_js.length; i++) {\n",
       "        inline_js[i].call(root, root.Bokeh);\n",
       "      }if (force === true) {\n",
       "        display_loaded();\n",
       "      }} else if (Date.now() < root._bokeh_timeout) {\n",
       "      setTimeout(run_inline_js, 100);\n",
       "    } else if (!root._bokeh_failed_load) {\n",
       "      console.log(\"Bokeh: BokehJS failed to load within specified timeout.\");\n",
       "      root._bokeh_failed_load = true;\n",
       "    } else if (force !== true) {\n",
       "      var cell = $(document.getElementById(\"bbae818b-83b5-40f5-91ee-3234d1d483c5\")).parents('.cell').data().cell;\n",
       "      cell.output_area.append_execute_result(NB_LOAD_WARNING)\n",
       "    }\n",
       "\n",
       "  }\n",
       "\n",
       "  if (root._bokeh_is_loading === 0) {\n",
       "    console.log(\"Bokeh: BokehJS loaded, going straight to plotting\");\n",
       "    run_inline_js();\n",
       "  } else {\n",
       "    load_libs(js_urls, function() {\n",
       "      console.log(\"Bokeh: BokehJS plotting callback run at\", now());\n",
       "      run_inline_js();\n",
       "    });\n",
       "  }\n",
       "}(window));"
      ],
      "application/vnd.bokehjs_load.v0+json": "\n(function(root) {\n  function now() {\n    return new Date();\n  }\n\n  var force = true;\n\n  if (typeof (root._bokeh_onload_callbacks) === \"undefined\" || force === true) {\n    root._bokeh_onload_callbacks = [];\n    root._bokeh_is_loading = undefined;\n  }\n\n  \n\n  \n  if (typeof (root._bokeh_timeout) === \"undefined\" || force === true) {\n    root._bokeh_timeout = Date.now() + 5000;\n    root._bokeh_failed_load = false;\n  }\n\n  var NB_LOAD_WARNING = {'data': {'text/html':\n     \"<div style='background-color: #fdd'>\\n\"+\n     \"<p>\\n\"+\n     \"BokehJS does not appear to have successfully loaded. If loading BokehJS from CDN, this \\n\"+\n     \"may be due to a slow or bad network connection. Possible fixes:\\n\"+\n     \"</p>\\n\"+\n     \"<ul>\\n\"+\n     \"<li>re-rerun `output_notebook()` to attempt to load from CDN again, or</li>\\n\"+\n     \"<li>use INLINE resources instead, as so:</li>\\n\"+\n     \"</ul>\\n\"+\n     \"<code>\\n\"+\n     \"from bokeh.resources import INLINE\\n\"+\n     \"output_notebook(resources=INLINE)\\n\"+\n     \"</code>\\n\"+\n     \"</div>\"}};\n\n  function display_loaded() {\n    var el = document.getElementById(\"bbae818b-83b5-40f5-91ee-3234d1d483c5\");\n    if (el != null) {\n      el.textContent = \"BokehJS is loading...\";\n    }\n    if (root.Bokeh !== undefined) {\n      if (el != null) {\n        el.textContent = \"BokehJS \" + root.Bokeh.version + \" successfully loaded.\";\n      }\n    } else if (Date.now() < root._bokeh_timeout) {\n      setTimeout(display_loaded, 100)\n    }\n  }\n\n\n  function run_callbacks() {\n    try {\n      root._bokeh_onload_callbacks.forEach(function(callback) { callback() });\n    }\n    finally {\n      delete root._bokeh_onload_callbacks\n    }\n    console.info(\"Bokeh: all callbacks have finished\");\n  }\n\n  function load_libs(js_urls, callback) {\n    root._bokeh_onload_callbacks.push(callback);\n    if (root._bokeh_is_loading > 0) {\n      console.log(\"Bokeh: BokehJS is being loaded, scheduling callback at\", now());\n      return null;\n    }\n    if (js_urls == null || js_urls.length === 0) {\n      run_callbacks();\n      return null;\n    }\n    console.log(\"Bokeh: BokehJS not loaded, scheduling load and callback at\", now());\n    root._bokeh_is_loading = js_urls.length;\n    for (var i = 0; i < js_urls.length; i++) {\n      var url = js_urls[i];\n      var s = document.createElement('script');\n      s.src = url;\n      s.async = false;\n      s.onreadystatechange = s.onload = function() {\n        root._bokeh_is_loading--;\n        if (root._bokeh_is_loading === 0) {\n          console.log(\"Bokeh: all BokehJS libraries loaded\");\n          run_callbacks()\n        }\n      };\n      s.onerror = function() {\n        console.warn(\"failed to load library \" + url);\n      };\n      console.log(\"Bokeh: injecting script tag for BokehJS library: \", url);\n      document.getElementsByTagName(\"head\")[0].appendChild(s);\n    }\n  };var element = document.getElementById(\"bbae818b-83b5-40f5-91ee-3234d1d483c5\");\n  if (element == null) {\n    console.log(\"Bokeh: ERROR: autoload.js configured with elementid 'bbae818b-83b5-40f5-91ee-3234d1d483c5' but no matching script tag was found. \")\n    return false;\n  }\n\n  var js_urls = [\"https://cdn.pydata.org/bokeh/release/bokeh-0.12.10.min.js\", \"https://cdn.pydata.org/bokeh/release/bokeh-widgets-0.12.10.min.js\", \"https://cdn.pydata.org/bokeh/release/bokeh-tables-0.12.10.min.js\", \"https://cdn.pydata.org/bokeh/release/bokeh-gl-0.12.10.min.js\"];\n\n  var inline_js = [\n    function(Bokeh) {\n      Bokeh.set_log_level(\"info\");\n    },\n    \n    function(Bokeh) {\n      \n    },\n    function(Bokeh) {\n      console.log(\"Bokeh: injecting CSS: https://cdn.pydata.org/bokeh/release/bokeh-0.12.10.min.css\");\n      Bokeh.embed.inject_css(\"https://cdn.pydata.org/bokeh/release/bokeh-0.12.10.min.css\");\n      console.log(\"Bokeh: injecting CSS: https://cdn.pydata.org/bokeh/release/bokeh-widgets-0.12.10.min.css\");\n      Bokeh.embed.inject_css(\"https://cdn.pydata.org/bokeh/release/bokeh-widgets-0.12.10.min.css\");\n      console.log(\"Bokeh: injecting CSS: https://cdn.pydata.org/bokeh/release/bokeh-tables-0.12.10.min.css\");\n      Bokeh.embed.inject_css(\"https://cdn.pydata.org/bokeh/release/bokeh-tables-0.12.10.min.css\");\n    }\n  ];\n\n  function run_inline_js() {\n    \n    if ((root.Bokeh !== undefined) || (force === true)) {\n      for (var i = 0; i < inline_js.length; i++) {\n        inline_js[i].call(root, root.Bokeh);\n      }if (force === true) {\n        display_loaded();\n      }} else if (Date.now() < root._bokeh_timeout) {\n      setTimeout(run_inline_js, 100);\n    } else if (!root._bokeh_failed_load) {\n      console.log(\"Bokeh: BokehJS failed to load within specified timeout.\");\n      root._bokeh_failed_load = true;\n    } else if (force !== true) {\n      var cell = $(document.getElementById(\"bbae818b-83b5-40f5-91ee-3234d1d483c5\")).parents('.cell').data().cell;\n      cell.output_area.append_execute_result(NB_LOAD_WARNING)\n    }\n\n  }\n\n  if (root._bokeh_is_loading === 0) {\n    console.log(\"Bokeh: BokehJS loaded, going straight to plotting\");\n    run_inline_js();\n  } else {\n    load_libs(js_urls, function() {\n      console.log(\"Bokeh: BokehJS plotting callback run at\", now());\n      run_inline_js();\n    });\n  }\n}(window));"
     },
     "metadata": {},
     "output_type": "display_data"
    }
   ],
   "source": [
    "output_notebook()"
   ]
  },
  {
   "cell_type": "code",
   "execution_count": 3,
   "metadata": {},
   "outputs": [],
   "source": [
    "import pandas as pd\n",
    "\n",
    "from bokeh.models import LinearAxis, Range1d, LabelSet, ColumnDataSource\n",
    "from bokeh.layouts import gridplot, row"
   ]
  },
  {
   "cell_type": "code",
   "execution_count": 11,
   "metadata": {},
   "outputs": [],
   "source": [
    "from math import sqrt\n",
    "import numpy as np"
   ]
  },
  {
   "cell_type": "code",
   "execution_count": 37,
   "metadata": {},
   "outputs": [
    {
     "name": "stdout",
     "output_type": "stream",
     "text": [
      "test-lb-policy.csv   test.csv             visualization.ipynb\r\n"
     ]
    }
   ],
   "source": [
    "%ls"
   ]
  },
  {
   "cell_type": "code",
   "execution_count": 38,
   "metadata": {
    "collapsed": true
   },
   "outputs": [],
   "source": [
    "df = pd.read_csv('test.csv')\n",
    "df_lb = pd.read_csv('test-lb-policy.csv')"
   ]
  },
  {
   "cell_type": "code",
   "execution_count": 39,
   "metadata": {
    "collapsed": true
   },
   "outputs": [],
   "source": [
    "df['std_dev'] = df.var_resp_time.apply(sqrt)"
   ]
  },
  {
   "cell_type": "code",
   "execution_count": 40,
   "metadata": {
    "collapsed": true
   },
   "outputs": [],
   "source": [
    "df['small_load'] = df.small_arrival / 18.73\n",
    "df_lb['small_load'] = df.small_arrival / 18.73"
   ]
  },
  {
   "cell_type": "code",
   "execution_count": 56,
   "metadata": {},
   "outputs": [
    {
     "data": {
      "text/html": [
       "\n",
       "<div class=\"bk-root\">\n",
       "    <div class=\"bk-plotdiv\" id=\"c3dc17e2-cf94-4eb1-83ad-6bfab71ca9eb\"></div>\n",
       "</div>"
      ]
     },
     "metadata": {},
     "output_type": "display_data"
    },
    {
     "data": {
      "application/javascript": [
       "(function(root) {\n",
       "  function embed_document(root) {\n",
       "    var docs_json = {\"5c571e28-23bb-4c8e-b615-2e14c0601c5b\":{\"roots\":{\"references\":[{\"attributes\":{\"label\":{\"value\":\"Constraint\"},\"renderers\":[{\"id\":\"dbe288db-eeac-4d37-a764-1e103ea7a9a8\",\"type\":\"GlyphRenderer\"}]},\"id\":\"de6b1e55-09e2-416b-a22e-9f803934a6d9\",\"type\":\"LegendItem\"},{\"attributes\":{},\"id\":\"cf43b5aa-62e4-4c5a-be79-1189149308bc\",\"type\":\"WheelZoomTool\"},{\"attributes\":{\"axis_label\":\"Small cell load\",\"formatter\":{\"id\":\"d4d6360d-d70a-4bf1-ae1d-8692f9dc3a4a\",\"type\":\"BasicTickFormatter\"},\"plot\":{\"id\":\"1de471c8-cb0c-4de2-9004-73dceeafcfc5\",\"subtype\":\"Figure\",\"type\":\"Plot\"},\"ticker\":{\"id\":\"0dc9bcac-9d76-4e3c-8362-3bab35e93cb6\",\"type\":\"BasicTicker\"}},\"id\":\"ae0a11c3-1807-491a-b8d6-bf768b268d13\",\"type\":\"LinearAxis\"},{\"attributes\":{\"data_source\":{\"id\":\"b24f41ed-cc7a-40d2-aa01-afebefdd9fd2\",\"type\":\"ColumnDataSource\"},\"glyph\":{\"id\":\"09a625ef-3bc8-4f0e-a698-ad54bd40dd21\",\"type\":\"Circle\"},\"hover_glyph\":null,\"muted_glyph\":null,\"nonselection_glyph\":{\"id\":\"a04e1c74-84d8-44e5-b131-83b9b5ba1020\",\"type\":\"Circle\"},\"selection_glyph\":null,\"view\":{\"id\":\"f335ebab-b888-4bac-9837-b8ce0c5def62\",\"type\":\"CDSView\"}},\"id\":\"7047cae9-bff5-49aa-8549-9b21cca4df58\",\"type\":\"GlyphRenderer\"},{\"attributes\":{},\"id\":\"3dc6791c-c859-41ef-ad55-147846111a4f\",\"type\":\"PanTool\"},{\"attributes\":{\"source\":{\"id\":\"7518768f-05fa-4c02-b482-968059d578ac\",\"type\":\"ColumnDataSource\"}},\"id\":\"186df4de-e3f0-4610-8d82-f150a881fefb\",\"type\":\"CDSView\"},{\"attributes\":{\"grid_line_alpha\":{\"value\":0.1},\"grid_line_dash\":[2,2],\"plot\":{\"id\":\"1de471c8-cb0c-4de2-9004-73dceeafcfc5\",\"subtype\":\"Figure\",\"type\":\"Plot\"},\"ticker\":{\"id\":\"0dc9bcac-9d76-4e3c-8362-3bab35e93cb6\",\"type\":\"BasicTicker\"}},\"id\":\"8f11b945-5a4e-4fed-9296-4f8d88dd72fd\",\"type\":\"Grid\"},{\"attributes\":{},\"id\":\"15fbb8ec-792b-406f-84cd-56b7d4515bd1\",\"type\":\"SaveTool\"},{\"attributes\":{\"data_source\":{\"id\":\"939f875b-8b8c-41d6-a570-27c2ef76b9d2\",\"type\":\"ColumnDataSource\"},\"glyph\":{\"id\":\"2c9619ae-24ff-43ce-a3b6-103b9faaeaf5\",\"type\":\"Line\"},\"hover_glyph\":null,\"muted_glyph\":null,\"nonselection_glyph\":{\"id\":\"bb5bda08-fe15-4717-9fc5-166c56f526d0\",\"type\":\"Line\"},\"selection_glyph\":null,\"view\":{\"id\":\"3d01c98c-4270-487b-a7f9-2746904ab735\",\"type\":\"CDSView\"}},\"id\":\"dbe288db-eeac-4d37-a764-1e103ea7a9a8\",\"type\":\"GlyphRenderer\"},{\"attributes\":{\"overlay\":{\"id\":\"22924a94-1285-4a40-a7b6-19be4a9c7152\",\"type\":\"BoxAnnotation\"}},\"id\":\"c9a33659-4fb5-4be7-adc4-23f4562888cb\",\"type\":\"BoxZoomTool\"},{\"attributes\":{},\"id\":\"d790c0f3-d3ef-47c1-9817-68da4add06ab\",\"type\":\"BasicTicker\"},{\"attributes\":{\"callback\":null,\"column_names\":[\"x\",\"y\"],\"data\":{\"x\":{\"__ndarray__\":\"lzuMnvhVuz+XO4ye+FXLP7Is6XZ6gNQ/CsNdsrfA3j+yLOl2eoDkPw==\",\"dtype\":\"float64\",\"shape\":[5]},\"y\":{\"__ndarray__\":\"R/q0iv7Q6D+t4SL3dPXqP2vY74l1qus/NWd9yjFZ7D8AWYgOgSPtPw==\",\"dtype\":\"float64\",\"shape\":[5]}}},\"id\":\"939f875b-8b8c-41d6-a570-27c2ef76b9d2\",\"type\":\"ColumnDataSource\"},{\"attributes\":{\"data_source\":{\"id\":\"7518768f-05fa-4c02-b482-968059d578ac\",\"type\":\"ColumnDataSource\"},\"glyph\":{\"id\":\"541e0545-719f-4df2-beef-86afdaf0aaa4\",\"type\":\"Line\"},\"hover_glyph\":null,\"muted_glyph\":null,\"nonselection_glyph\":{\"id\":\"0442d1d0-190d-45b8-be50-040c70486177\",\"type\":\"Line\"},\"selection_glyph\":null,\"view\":{\"id\":\"186df4de-e3f0-4610-8d82-f150a881fefb\",\"type\":\"CDSView\"}},\"id\":\"1b96ce38-4369-403d-a399-ad4643ed4161\",\"type\":\"GlyphRenderer\"},{\"attributes\":{},\"id\":\"d4d6360d-d70a-4bf1-ae1d-8692f9dc3a4a\",\"type\":\"BasicTickFormatter\"},{\"attributes\":{\"callback\":null,\"column_names\":[\"index\",\"macro_arrival\",\"std_dev\",\"avg_power\",\"small_load\",\"avg_idle_time\",\"small_arrival\",\"avg_resp_time\",\"num_of_jobs\",\"beta\",\"var_resp_time\"],\"data\":{\"avg_idle_time\":{\"__ndarray__\":\"AAAAAAAAAAAAAAAAAAAAAAAAAAAAAAAAAAAAAAAAAAAAAAAAAAAAAA==\",\"dtype\":\"float64\",\"shape\":[5]},\"avg_power\":{\"__ndarray__\":\"bef7qfEMkECHFtnO9yCSQARWDi0ynpJADQIrhxZulUBzaJHt/EyTQA==\",\"dtype\":\"float64\",\"shape\":[5]},\"avg_resp_time\":{\"__ndarray__\":\"q7LviuB/6z996IL6ljnpP1+dY0D2eus/qoJRSZ2A7D9FR3L5D+nsPw==\",\"dtype\":\"float64\",\"shape\":[5]},\"beta\":{\"__ndarray__\":\"wM+4cCAkyz+GcqJdhZSfPz+MEB5tHKE/AAAAAAAAAAAeG4F4Xb+wPw==\",\"dtype\":\"float64\",\"shape\":[5]},\"index\":[0,1,2,3,4],\"macro_arrival\":{\"__ndarray__\":\"AAAAAAAAAEAAAAAAAAAAQAAAAAAAAABAAAAAAAAAAEAAAAAAAAAAQA==\",\"dtype\":\"float64\",\"shape\":[5]},\"num_of_jobs\":[952111,1706755,2469631,360586,4749367],\"small_arrival\":{\"__ndarray__\":\"AAAAAAAAAEAAAAAAAAAQQAAAAAAAABhAAAAAAAAAIkAAAAAAAAAoQA==\",\"dtype\":\"float64\",\"shape\":[5]},\"small_load\":{\"__ndarray__\":\"lzuMnvhVuz+XO4ye+FXLP7Is6XZ6gNQ/CsNdsrfA3j+yLOl2eoDkPw==\",\"dtype\":\"float64\",\"shape\":[5]},\"std_dev\":{\"__ndarray__\":\"Jn4V0aND8D8s3gAUAa3vP+PZSJQogfA/EMJmk4v58D/hWEEKVSvyPw==\",\"dtype\":\"float64\",\"shape\":[5]},\"var_resp_time\":{\"__ndarray__\":\"Dk+vlGWI8D8lAWpq2VrvP0q1T8djBvE/4PjaM0sC8j81JO6x9KH0Pw==\",\"dtype\":\"float64\",\"shape\":[5]}}},\"id\":\"cf46b25c-dc6e-4766-928c-a9bd2d53eec4\",\"type\":\"ColumnDataSource\"},{\"attributes\":{},\"id\":\"ef76433c-a3f5-4209-87ee-e5f660f2b5cb\",\"type\":\"LinearScale\"},{\"attributes\":{\"formatter\":{\"id\":\"6834c899-ffcb-4be7-999a-021d797163b6\",\"type\":\"BasicTickFormatter\"},\"plot\":{\"id\":\"1de471c8-cb0c-4de2-9004-73dceeafcfc5\",\"subtype\":\"Figure\",\"type\":\"Plot\"},\"ticker\":{\"id\":\"d790c0f3-d3ef-47c1-9817-68da4add06ab\",\"type\":\"BasicTicker\"}},\"id\":\"f100faa9-ad54-4fdc-9e12-81d094fc6d8d\",\"type\":\"LinearAxis\"},{\"attributes\":{\"dimension\":1,\"grid_line_alpha\":{\"value\":0.1},\"grid_line_dash\":[2,2],\"plot\":{\"id\":\"1de471c8-cb0c-4de2-9004-73dceeafcfc5\",\"subtype\":\"Figure\",\"type\":\"Plot\"},\"ticker\":{\"id\":\"d790c0f3-d3ef-47c1-9817-68da4add06ab\",\"type\":\"BasicTicker\"}},\"id\":\"bfd0b75c-b586-40c3-8515-28436682aa4c\",\"type\":\"Grid\"},{\"attributes\":{\"bottom_units\":\"screen\",\"fill_alpha\":{\"value\":0.5},\"fill_color\":{\"value\":\"lightgrey\"},\"left_units\":\"screen\",\"level\":\"overlay\",\"line_alpha\":{\"value\":1.0},\"line_color\":{\"value\":\"black\"},\"line_dash\":[4,4],\"line_width\":{\"value\":2},\"plot\":null,\"render_mode\":\"css\",\"right_units\":\"screen\",\"top_units\":\"screen\"},\"id\":\"22924a94-1285-4a40-a7b6-19be4a9c7152\",\"type\":\"BoxAnnotation\"},{\"attributes\":{\"items\":[{\"id\":\"b2a77a8e-3470-431b-869a-295b3ccf6829\",\"type\":\"LegendItem\"},{\"id\":\"de6b1e55-09e2-416b-a22e-9f803934a6d9\",\"type\":\"LegendItem\"}],\"location\":\"bottom_right\",\"plot\":{\"id\":\"1de471c8-cb0c-4de2-9004-73dceeafcfc5\",\"subtype\":\"Figure\",\"type\":\"Plot\"}},\"id\":\"11563f3c-a616-4b64-82d3-4ba36d7e1b17\",\"type\":\"Legend\"},{\"attributes\":{},\"id\":\"0dc9bcac-9d76-4e3c-8362-3bab35e93cb6\",\"type\":\"BasicTicker\"},{\"attributes\":{\"active_drag\":\"auto\",\"active_inspect\":\"auto\",\"active_scroll\":\"auto\",\"active_tap\":\"auto\",\"tools\":[{\"id\":\"3dc6791c-c859-41ef-ad55-147846111a4f\",\"type\":\"PanTool\"},{\"id\":\"cf43b5aa-62e4-4c5a-be79-1189149308bc\",\"type\":\"WheelZoomTool\"},{\"id\":\"c9a33659-4fb5-4be7-adc4-23f4562888cb\",\"type\":\"BoxZoomTool\"},{\"id\":\"15fbb8ec-792b-406f-84cd-56b7d4515bd1\",\"type\":\"SaveTool\"},{\"id\":\"83857cc8-8e66-47af-a7f7-8beb64914929\",\"type\":\"ResetTool\"},{\"id\":\"839a30e0-2bab-4c13-ba22-bcd697731629\",\"type\":\"HelpTool\"}]},\"id\":\"c68288da-6d84-4b3b-9ac8-1be1cb8d8d31\",\"type\":\"Toolbar\"},{\"attributes\":{\"callback\":null,\"column_names\":[\"x\",\"y\"],\"data\":{\"x\":{\"__ndarray__\":\"lzuMnvhVuz+XO4ye+FXLP7Is6XZ6gNQ/CsNdsrfA3j+yLOl2eoDkPw==\",\"dtype\":\"float64\",\"shape\":[5]},\"y\":{\"__ndarray__\":\"q7LviuB/6z996IL6ljnpP1+dY0D2eus/qoJRSZ2A7D9FR3L5D+nsPw==\",\"dtype\":\"float64\",\"shape\":[5]}}},\"id\":\"b24f41ed-cc7a-40d2-aa01-afebefdd9fd2\",\"type\":\"ColumnDataSource\"},{\"attributes\":{\"fill_color\":{\"value\":\"white\"},\"line_color\":{\"value\":\"navy\"},\"size\":{\"units\":\"screen\",\"value\":5},\"x\":{\"field\":\"x\"},\"y\":{\"field\":\"y\"}},\"id\":\"09a625ef-3bc8-4f0e-a698-ad54bd40dd21\",\"type\":\"Circle\"},{\"attributes\":{\"line_color\":{\"value\":\"navy\"},\"line_dash\":[4,4],\"x\":{\"field\":\"x\"},\"y\":{\"field\":\"y\"}},\"id\":\"2250a2e3-7b5c-4150-943b-80d6b7111cf5\",\"type\":\"Line\"},{\"attributes\":{\"source\":{\"id\":\"5ef2fb64-a349-4924-9d7f-2de6a00fb1a4\",\"type\":\"ColumnDataSource\"}},\"id\":\"3babf41b-cf73-41cd-a785-375f1340dfaa\",\"type\":\"CDSView\"},{\"attributes\":{\"source\":{\"id\":\"939f875b-8b8c-41d6-a570-27c2ef76b9d2\",\"type\":\"ColumnDataSource\"}},\"id\":\"3d01c98c-4270-487b-a7f9-2746904ab735\",\"type\":\"CDSView\"},{\"attributes\":{\"plot\":null,\"text\":\"Mean response time\"},\"id\":\"c83d41a9-43cd-47c7-8684-b69799ef6dde\",\"type\":\"Title\"},{\"attributes\":{},\"id\":\"83857cc8-8e66-47af-a7f7-8beb64914929\",\"type\":\"ResetTool\"},{\"attributes\":{\"fill_alpha\":{\"value\":0.1},\"fill_color\":{\"value\":\"#1f77b4\"},\"line_alpha\":{\"value\":0.1},\"line_color\":{\"value\":\"#1f77b4\"},\"size\":{\"units\":\"screen\",\"value\":5},\"x\":{\"field\":\"x\"},\"y\":{\"field\":\"y\"}},\"id\":\"a04e1c74-84d8-44e5-b131-83b9b5ba1020\",\"type\":\"Circle\"},{\"attributes\":{\"callback\":null,\"column_names\":[\"x\",\"y\"],\"data\":{\"x\":{\"__ndarray__\":\"lzuMnvhVuz+XO4ye+FXLP7Is6XZ6gNQ/CsNdsrfA3j+yLOl2eoDkPw==\",\"dtype\":\"float64\",\"shape\":[5]},\"y\":{\"__ndarray__\":\"wcBz7+GS6z/5iJgSSfTtP8xFfCdmve4/Ho8ZqIx/7z9VavZAKzDwPw==\",\"dtype\":\"float64\",\"shape\":[5]}}},\"id\":\"5ef2fb64-a349-4924-9d7f-2de6a00fb1a4\",\"type\":\"ColumnDataSource\"},{\"attributes\":{},\"id\":\"839a30e0-2bab-4c13-ba22-bcd697731629\",\"type\":\"HelpTool\"},{\"attributes\":{\"line_alpha\":{\"value\":0.1},\"line_color\":{\"value\":\"#1f77b4\"},\"line_dash\":[4,4],\"x\":{\"field\":\"x\"},\"y\":{\"field\":\"y\"}},\"id\":\"3b0b60e9-ac55-4e7a-a83f-afe257f4bfae\",\"type\":\"Line\"},{\"attributes\":{\"callback\":null},\"id\":\"6573dc80-7f7e-49de-85ac-a07ae25653a8\",\"type\":\"DataRange1d\"},{\"attributes\":{\"label\":{\"value\":\"LB initial policy\"},\"renderers\":[{\"id\":\"a6a0124e-5e69-4d50-a447-be29e5ad1ac8\",\"type\":\"GlyphRenderer\"}]},\"id\":\"b2a77a8e-3470-431b-869a-295b3ccf6829\",\"type\":\"LegendItem\"},{\"attributes\":{\"data_source\":{\"id\":\"5ef2fb64-a349-4924-9d7f-2de6a00fb1a4\",\"type\":\"ColumnDataSource\"},\"glyph\":{\"id\":\"2250a2e3-7b5c-4150-943b-80d6b7111cf5\",\"type\":\"Line\"},\"hover_glyph\":null,\"muted_glyph\":null,\"nonselection_glyph\":{\"id\":\"3b0b60e9-ac55-4e7a-a83f-afe257f4bfae\",\"type\":\"Line\"},\"selection_glyph\":null,\"view\":{\"id\":\"3babf41b-cf73-41cd-a785-375f1340dfaa\",\"type\":\"CDSView\"}},\"id\":\"a6a0124e-5e69-4d50-a447-be29e5ad1ac8\",\"type\":\"GlyphRenderer\"},{\"attributes\":{\"plot\":{\"id\":\"1de471c8-cb0c-4de2-9004-73dceeafcfc5\",\"subtype\":\"Figure\",\"type\":\"Plot\"},\"source\":{\"id\":\"cf46b25c-dc6e-4766-928c-a9bd2d53eec4\",\"type\":\"ColumnDataSource\"},\"text\":{\"field\":\"beta\"},\"text_align\":\"center\",\"text_color\":{\"value\":\"#555555\"},\"text_font_size\":{\"value\":\"8pt\"},\"x\":{\"field\":\"small_load\"},\"y\":{\"field\":\"avg_resp_time\"},\"y_offset\":{\"value\":8}},\"id\":\"773fbb53-7a2e-40a6-b83f-558511a1a093\",\"type\":\"LabelSet\"},{\"attributes\":{},\"id\":\"6834c899-ffcb-4be7-999a-021d797163b6\",\"type\":\"BasicTickFormatter\"},{\"attributes\":{\"callback\":null,\"column_names\":[\"x\",\"y\"],\"data\":{\"x\":{\"__ndarray__\":\"lzuMnvhVuz+XO4ye+FXLP7Is6XZ6gNQ/CsNdsrfA3j+yLOl2eoDkPw==\",\"dtype\":\"float64\",\"shape\":[5]},\"y\":{\"__ndarray__\":\"q7LviuB/6z996IL6ljnpP1+dY0D2eus/qoJRSZ2A7D9FR3L5D+nsPw==\",\"dtype\":\"float64\",\"shape\":[5]}}},\"id\":\"7518768f-05fa-4c02-b482-968059d578ac\",\"type\":\"ColumnDataSource\"},{\"attributes\":{\"line_color\":{\"value\":\"navy\"},\"x\":{\"field\":\"x\"},\"y\":{\"field\":\"y\"}},\"id\":\"541e0545-719f-4df2-beef-86afdaf0aaa4\",\"type\":\"Line\"},{\"attributes\":{\"below\":[{\"id\":\"ae0a11c3-1807-491a-b8d6-bf768b268d13\",\"type\":\"LinearAxis\"}],\"left\":[{\"id\":\"f100faa9-ad54-4fdc-9e12-81d094fc6d8d\",\"type\":\"LinearAxis\"}],\"plot_height\":400,\"plot_width\":400,\"renderers\":[{\"id\":\"ae0a11c3-1807-491a-b8d6-bf768b268d13\",\"type\":\"LinearAxis\"},{\"id\":\"8f11b945-5a4e-4fed-9296-4f8d88dd72fd\",\"type\":\"Grid\"},{\"id\":\"f100faa9-ad54-4fdc-9e12-81d094fc6d8d\",\"type\":\"LinearAxis\"},{\"id\":\"bfd0b75c-b586-40c3-8515-28436682aa4c\",\"type\":\"Grid\"},{\"id\":\"22924a94-1285-4a40-a7b6-19be4a9c7152\",\"type\":\"BoxAnnotation\"},{\"id\":\"1b96ce38-4369-403d-a399-ad4643ed4161\",\"type\":\"GlyphRenderer\"},{\"id\":\"11563f3c-a616-4b64-82d3-4ba36d7e1b17\",\"type\":\"Legend\"},{\"id\":\"a6a0124e-5e69-4d50-a447-be29e5ad1ac8\",\"type\":\"GlyphRenderer\"},{\"id\":\"dbe288db-eeac-4d37-a764-1e103ea7a9a8\",\"type\":\"GlyphRenderer\"},{\"id\":\"7047cae9-bff5-49aa-8549-9b21cca4df58\",\"type\":\"GlyphRenderer\"},{\"id\":\"773fbb53-7a2e-40a6-b83f-558511a1a093\",\"type\":\"LabelSet\"}],\"title\":{\"id\":\"c83d41a9-43cd-47c7-8684-b69799ef6dde\",\"type\":\"Title\"},\"toolbar\":{\"id\":\"c68288da-6d84-4b3b-9ac8-1be1cb8d8d31\",\"type\":\"Toolbar\"},\"x_range\":{\"id\":\"b4a0f73c-87d0-4762-8706-05448453f14a\",\"type\":\"DataRange1d\"},\"x_scale\":{\"id\":\"14357f6a-9506-43c7-9a68-90c60a40bb57\",\"type\":\"LinearScale\"},\"y_range\":{\"id\":\"6573dc80-7f7e-49de-85ac-a07ae25653a8\",\"type\":\"DataRange1d\"},\"y_scale\":{\"id\":\"ef76433c-a3f5-4209-87ee-e5f660f2b5cb\",\"type\":\"LinearScale\"}},\"id\":\"1de471c8-cb0c-4de2-9004-73dceeafcfc5\",\"subtype\":\"Figure\",\"type\":\"Plot\"},{\"attributes\":{\"line_alpha\":{\"value\":0.1},\"line_color\":{\"value\":\"#1f77b4\"},\"line_dash\":[4,4],\"x\":{\"field\":\"x\"},\"y\":{\"field\":\"y\"}},\"id\":\"bb5bda08-fe15-4717-9fc5-166c56f526d0\",\"type\":\"Line\"},{\"attributes\":{\"line_color\":{\"value\":\"gray\"},\"line_dash\":[4,4],\"x\":{\"field\":\"x\"},\"y\":{\"field\":\"y\"}},\"id\":\"2c9619ae-24ff-43ce-a3b6-103b9faaeaf5\",\"type\":\"Line\"},{\"attributes\":{},\"id\":\"14357f6a-9506-43c7-9a68-90c60a40bb57\",\"type\":\"LinearScale\"},{\"attributes\":{\"line_alpha\":{\"value\":0.1},\"line_color\":{\"value\":\"#1f77b4\"},\"x\":{\"field\":\"x\"},\"y\":{\"field\":\"y\"}},\"id\":\"0442d1d0-190d-45b8-be50-040c70486177\",\"type\":\"Line\"},{\"attributes\":{\"callback\":null},\"id\":\"b4a0f73c-87d0-4762-8706-05448453f14a\",\"type\":\"DataRange1d\"},{\"attributes\":{\"source\":{\"id\":\"b24f41ed-cc7a-40d2-aa01-afebefdd9fd2\",\"type\":\"ColumnDataSource\"}},\"id\":\"f335ebab-b888-4bac-9837-b8ce0c5def62\",\"type\":\"CDSView\"}],\"root_ids\":[\"1de471c8-cb0c-4de2-9004-73dceeafcfc5\"]},\"title\":\"Bokeh Application\",\"version\":\"0.12.9\"}};\n",
       "    var render_items = [{\"docid\":\"5c571e28-23bb-4c8e-b615-2e14c0601c5b\",\"elementid\":\"c3dc17e2-cf94-4eb1-83ad-6bfab71ca9eb\",\"modelid\":\"1de471c8-cb0c-4de2-9004-73dceeafcfc5\"}];\n",
       "\n",
       "    root.Bokeh.embed.embed_items(docs_json, render_items);\n",
       "  }\n",
       "\n",
       "  if (root.Bokeh !== undefined) {\n",
       "    embed_document(root);\n",
       "  } else {\n",
       "    var attempts = 0;\n",
       "    var timer = setInterval(function(root) {\n",
       "      if (root.Bokeh !== undefined) {\n",
       "        embed_document(root);\n",
       "        clearInterval(timer);\n",
       "      }\n",
       "      attempts++;\n",
       "      if (attempts > 100) {\n",
       "        console.log(\"Bokeh: ERROR: Unable to embed document because BokehJS library is missing\")\n",
       "        clearInterval(timer);\n",
       "      }\n",
       "    }, 10, root)\n",
       "  }\n",
       "})(window);"
      ],
      "application/vnd.bokehjs_exec.v0+json": ""
     },
     "metadata": {
      "application/vnd.bokehjs_exec.v0+json": {
       "id": "1de471c8-cb0c-4de2-9004-73dceeafcfc5"
      }
     },
     "output_type": "display_data"
    }
   ],
   "source": [
    "p = figure(plot_width=400, plot_height=400, title=\"Mean response time\")\n",
    "source = ColumnDataSource(df)\n",
    "\n",
    "p.line(df.small_load, df.avg_resp_time, line_color='navy')\n",
    "p.line(df_lb.small_load, df_lb.avg_resp_time, line_color='navy',line_dash=\"4 4\", legend='LB initial policy')\n",
    "p.line(df_lb.small_load, 0.9*df_lb.avg_resp_time, line_color='gray',line_dash=\"4 4\", legend='Constraint')\n",
    "p.circle(df.small_load, df.avg_resp_time, color='white', line_color='navy',size=5)\n",
    "\n",
    "labels = LabelSet(x=\"small_load\", y=\"avg_resp_time\", text=\"beta\", y_offset=8,\n",
    "                  text_font_size=\"8pt\", text_color=\"#555555\",\n",
    "                  source=source, text_align='center')\n",
    "p.add_layout(labels)\n",
    "p.grid.grid_line_dash = [2,2]\n",
    "p.grid.grid_line_alpha = 0.1\n",
    "\n",
    "p.xaxis.axis_label = 'Small cell load'\n",
    "p.legend.location  = 'bottom_right'\n",
    "\n",
    "show(p) # show the results"
   ]
  },
  {
   "cell_type": "code",
   "execution_count": 52,
   "metadata": {},
   "outputs": [
    {
     "data": {
      "text/html": [
       "\n",
       "<div class=\"bk-root\">\n",
       "    <div class=\"bk-plotdiv\" id=\"9abd2109-e968-4297-b205-8554ee0ef8f7\"></div>\n",
       "</div>"
      ]
     },
     "metadata": {},
     "output_type": "display_data"
    },
    {
     "data": {
      "application/javascript": [
       "(function(root) {\n",
       "  function embed_document(root) {\n",
       "    var docs_json = {\"aa6bc27f-de74-4e52-ac15-cff1ee11b5d8\":{\"roots\":{\"references\":[{\"attributes\":{\"source\":{\"id\":\"2328920b-25f3-4219-a55a-22c1b529fdef\",\"type\":\"ColumnDataSource\"}},\"id\":\"cb2f464c-cd03-497a-a0da-615acfb8ec17\",\"type\":\"CDSView\"},{\"attributes\":{\"grid_line_alpha\":{\"value\":0.1},\"grid_line_dash\":[2,2],\"plot\":{\"id\":\"be514a70-eb17-4abb-8a6f-93da86d0a66d\",\"subtype\":\"Figure\",\"type\":\"Plot\"},\"ticker\":{\"id\":\"978aa1e3-1c4d-4767-a8b8-776ba76e516a\",\"type\":\"BasicTicker\"}},\"id\":\"5fe9b849-5415-4477-a271-61f5d1521414\",\"type\":\"Grid\"},{\"attributes\":{\"source\":{\"id\":\"83597d15-8a17-408f-aa33-a534c1574e86\",\"type\":\"ColumnDataSource\"}},\"id\":\"928983a4-0845-4fe7-b6f5-b82c1dbda630\",\"type\":\"CDSView\"},{\"attributes\":{},\"id\":\"036827ff-855d-4e10-8a90-a0b21677c8bb\",\"type\":\"BasicTicker\"},{\"attributes\":{\"data_source\":{\"id\":\"17dd4d26-2b44-4c1f-b80c-915294060557\",\"type\":\"ColumnDataSource\"},\"glyph\":{\"id\":\"da2987cf-e8fc-4781-b363-cbb04af0e41e\",\"type\":\"Line\"},\"hover_glyph\":null,\"muted_glyph\":null,\"nonselection_glyph\":{\"id\":\"f1e78356-2110-4961-bef5-356d1203f6e5\",\"type\":\"Line\"},\"selection_glyph\":null,\"view\":{\"id\":\"39e81519-bb1e-4d86-b335-b69e818facce\",\"type\":\"CDSView\"}},\"id\":\"8637e1d9-03eb-42d3-9db5-81890b2eb20c\",\"type\":\"GlyphRenderer\"},{\"attributes\":{\"callback\":null,\"column_names\":[\"x\",\"y\"],\"data\":{\"x\":{\"__ndarray__\":\"lzuMnvhVuz+XO4ye+FXLP7Is6XZ6gNQ/CsNdsrfA3j+yLOl2eoDkPw==\",\"dtype\":\"float64\",\"shape\":[5]},\"y\":{\"__ndarray__\":\"bef7qfEMkECHFtnO9yCSQARWDi0ynpJADQIrhxZulUBzaJHt/EyTQA==\",\"dtype\":\"float64\",\"shape\":[5]}}},\"id\":\"83597d15-8a17-408f-aa33-a534c1574e86\",\"type\":\"ColumnDataSource\"},{\"attributes\":{\"plot\":null,\"text\":\"Average Power\"},\"id\":\"b364d57c-9c9e-4687-826a-228c62899312\",\"type\":\"Title\"},{\"attributes\":{\"data_source\":{\"id\":\"2328920b-25f3-4219-a55a-22c1b529fdef\",\"type\":\"ColumnDataSource\"},\"glyph\":{\"id\":\"d20282ad-4b8e-4551-8957-c06a07e52d3a\",\"type\":\"Line\"},\"hover_glyph\":null,\"muted_glyph\":null,\"nonselection_glyph\":{\"id\":\"6bdd0805-8e72-4d6a-bb29-cd47068bd609\",\"type\":\"Line\"},\"selection_glyph\":null,\"view\":{\"id\":\"cb2f464c-cd03-497a-a0da-615acfb8ec17\",\"type\":\"CDSView\"}},\"id\":\"b40dc92e-b72b-45dc-b03b-a70a2a8ecd4f\",\"type\":\"GlyphRenderer\"},{\"attributes\":{\"source\":{\"id\":\"17dd4d26-2b44-4c1f-b80c-915294060557\",\"type\":\"ColumnDataSource\"}},\"id\":\"39e81519-bb1e-4d86-b335-b69e818facce\",\"type\":\"CDSView\"},{\"attributes\":{\"axis_label\":\"Small cell load\",\"formatter\":{\"id\":\"c8342bfa-f7d8-44a0-be83-fa0184c5b367\",\"type\":\"BasicTickFormatter\"},\"plot\":{\"id\":\"be514a70-eb17-4abb-8a6f-93da86d0a66d\",\"subtype\":\"Figure\",\"type\":\"Plot\"},\"ticker\":{\"id\":\"978aa1e3-1c4d-4767-a8b8-776ba76e516a\",\"type\":\"BasicTicker\"}},\"id\":\"22b0ec59-421a-4749-a38c-9db70d1764d0\",\"type\":\"LinearAxis\"},{\"attributes\":{\"callback\":null},\"id\":\"df29ab2a-72ea-45bc-9af3-023f121156a9\",\"type\":\"DataRange1d\"},{\"attributes\":{\"line_alpha\":{\"value\":0.1},\"line_color\":{\"value\":\"#1f77b4\"},\"x\":{\"field\":\"x\"},\"y\":{\"field\":\"y\"}},\"id\":\"f1e78356-2110-4961-bef5-356d1203f6e5\",\"type\":\"Line\"},{\"attributes\":{\"items\":[{\"id\":\"ebad0181-1a62-4cab-8544-f843cb9003a5\",\"type\":\"LegendItem\"}],\"location\":\"bottom_right\",\"plot\":{\"id\":\"be514a70-eb17-4abb-8a6f-93da86d0a66d\",\"subtype\":\"Figure\",\"type\":\"Plot\"}},\"id\":\"974c2ce4-d5ec-47d0-b0b6-42634eda5376\",\"type\":\"Legend\"},{\"attributes\":{\"callback\":null,\"column_names\":[\"x\",\"y\"],\"data\":{\"x\":{\"__ndarray__\":\"lzuMnvhVuz+XO4ye+FXLP7Is6XZ6gNQ/CsNdsrfA3j+yLOl2eoDkPw==\",\"dtype\":\"float64\",\"shape\":[5]},\"y\":{\"__ndarray__\":\"RIts53sMkEBBYOXQIhyRQDMzMzOz55FAZmZmZmbakkDJdr6fGqaTQA==\",\"dtype\":\"float64\",\"shape\":[5]}}},\"id\":\"2328920b-25f3-4219-a55a-22c1b529fdef\",\"type\":\"ColumnDataSource\"},{\"attributes\":{\"below\":[{\"id\":\"22b0ec59-421a-4749-a38c-9db70d1764d0\",\"type\":\"LinearAxis\"}],\"left\":[{\"id\":\"82d5f198-3ea9-4eae-bfa7-ad19d3656e23\",\"type\":\"LinearAxis\"}],\"plot_height\":400,\"plot_width\":400,\"renderers\":[{\"id\":\"22b0ec59-421a-4749-a38c-9db70d1764d0\",\"type\":\"LinearAxis\"},{\"id\":\"5fe9b849-5415-4477-a271-61f5d1521414\",\"type\":\"Grid\"},{\"id\":\"82d5f198-3ea9-4eae-bfa7-ad19d3656e23\",\"type\":\"LinearAxis\"},{\"id\":\"0464dd70-a755-4f1f-938e-0a51a336dc8f\",\"type\":\"Grid\"},{\"id\":\"455edf0b-df83-4731-9ecf-0b9eadce1ff5\",\"type\":\"BoxAnnotation\"},{\"id\":\"8637e1d9-03eb-42d3-9db5-81890b2eb20c\",\"type\":\"GlyphRenderer\"},{\"id\":\"974c2ce4-d5ec-47d0-b0b6-42634eda5376\",\"type\":\"Legend\"},{\"id\":\"b40dc92e-b72b-45dc-b03b-a70a2a8ecd4f\",\"type\":\"GlyphRenderer\"},{\"id\":\"a6b19442-4ef4-47b8-984f-f59929e68e4a\",\"type\":\"GlyphRenderer\"},{\"id\":\"5b01c522-4143-4ad1-a59f-9c106d130334\",\"type\":\"LabelSet\"}],\"title\":{\"id\":\"b364d57c-9c9e-4687-826a-228c62899312\",\"type\":\"Title\"},\"toolbar\":{\"id\":\"c6191d54-84f6-4736-be3c-51cd25bb00eb\",\"type\":\"Toolbar\"},\"x_range\":{\"id\":\"df29ab2a-72ea-45bc-9af3-023f121156a9\",\"type\":\"DataRange1d\"},\"x_scale\":{\"id\":\"44a43fd0-1c39-44f5-85c4-56aacc8ddd11\",\"type\":\"LinearScale\"},\"y_range\":{\"id\":\"03af41a7-400b-4d8a-9cda-d974b9938486\",\"type\":\"DataRange1d\"},\"y_scale\":{\"id\":\"b4a02c97-060d-4eb8-b967-1063b34d9d06\",\"type\":\"LinearScale\"}},\"id\":\"be514a70-eb17-4abb-8a6f-93da86d0a66d\",\"subtype\":\"Figure\",\"type\":\"Plot\"},{\"attributes\":{},\"id\":\"978aa1e3-1c4d-4767-a8b8-776ba76e516a\",\"type\":\"BasicTicker\"},{\"attributes\":{},\"id\":\"351f83f8-21a9-4e5a-9b04-c7ba419eafc4\",\"type\":\"PanTool\"},{\"attributes\":{\"bottom_units\":\"screen\",\"fill_alpha\":{\"value\":0.5},\"fill_color\":{\"value\":\"lightgrey\"},\"left_units\":\"screen\",\"level\":\"overlay\",\"line_alpha\":{\"value\":1.0},\"line_color\":{\"value\":\"black\"},\"line_dash\":[4,4],\"line_width\":{\"value\":2},\"plot\":null,\"render_mode\":\"css\",\"right_units\":\"screen\",\"top_units\":\"screen\"},\"id\":\"455edf0b-df83-4731-9ecf-0b9eadce1ff5\",\"type\":\"BoxAnnotation\"},{\"attributes\":{},\"id\":\"c10b365a-0f6d-402a-829d-8a7ad2a31d97\",\"type\":\"HelpTool\"},{\"attributes\":{\"dimension\":1,\"grid_line_alpha\":{\"value\":0.1},\"grid_line_dash\":[2,2],\"plot\":{\"id\":\"be514a70-eb17-4abb-8a6f-93da86d0a66d\",\"subtype\":\"Figure\",\"type\":\"Plot\"},\"ticker\":{\"id\":\"036827ff-855d-4e10-8a90-a0b21677c8bb\",\"type\":\"BasicTicker\"}},\"id\":\"0464dd70-a755-4f1f-938e-0a51a336dc8f\",\"type\":\"Grid\"},{\"attributes\":{},\"id\":\"b4a02c97-060d-4eb8-b967-1063b34d9d06\",\"type\":\"LinearScale\"},{\"attributes\":{\"label\":{\"value\":\"LB initial policy\"},\"renderers\":[{\"id\":\"b40dc92e-b72b-45dc-b03b-a70a2a8ecd4f\",\"type\":\"GlyphRenderer\"}]},\"id\":\"ebad0181-1a62-4cab-8544-f843cb9003a5\",\"type\":\"LegendItem\"},{\"attributes\":{},\"id\":\"0b90617c-afe5-40fd-bcd6-3d213788589d\",\"type\":\"BasicTickFormatter\"},{\"attributes\":{\"active_drag\":\"auto\",\"active_inspect\":\"auto\",\"active_scroll\":\"auto\",\"active_tap\":\"auto\",\"tools\":[{\"id\":\"351f83f8-21a9-4e5a-9b04-c7ba419eafc4\",\"type\":\"PanTool\"},{\"id\":\"37d30eda-c4f5-4c9c-a62e-33e150edca9d\",\"type\":\"WheelZoomTool\"},{\"id\":\"4f9b3992-0207-4cc2-879f-94a3d22773a4\",\"type\":\"BoxZoomTool\"},{\"id\":\"ceb12a15-4db7-49ef-aa00-fc11333352c4\",\"type\":\"SaveTool\"},{\"id\":\"8b337445-ed6d-4714-af3f-c8de1d9138c9\",\"type\":\"ResetTool\"},{\"id\":\"c10b365a-0f6d-402a-829d-8a7ad2a31d97\",\"type\":\"HelpTool\"}]},\"id\":\"c6191d54-84f6-4736-be3c-51cd25bb00eb\",\"type\":\"Toolbar\"},{\"attributes\":{},\"id\":\"8b337445-ed6d-4714-af3f-c8de1d9138c9\",\"type\":\"ResetTool\"},{\"attributes\":{\"callback\":null,\"column_names\":[\"index\",\"macro_arrival\",\"std_dev\",\"avg_power\",\"small_load\",\"avg_idle_time\",\"small_arrival\",\"avg_resp_time\",\"num_of_jobs\",\"beta\",\"var_resp_time\"],\"data\":{\"avg_idle_time\":{\"__ndarray__\":\"AAAAAAAAAAAAAAAAAAAAAAAAAAAAAAAAAAAAAAAAAAAAAAAAAAAAAA==\",\"dtype\":\"float64\",\"shape\":[5]},\"avg_power\":{\"__ndarray__\":\"bef7qfEMkECHFtnO9yCSQARWDi0ynpJADQIrhxZulUBzaJHt/EyTQA==\",\"dtype\":\"float64\",\"shape\":[5]},\"avg_resp_time\":{\"__ndarray__\":\"q7LviuB/6z996IL6ljnpP1+dY0D2eus/qoJRSZ2A7D9FR3L5D+nsPw==\",\"dtype\":\"float64\",\"shape\":[5]},\"beta\":{\"__ndarray__\":\"wM+4cCAkyz+GcqJdhZSfPz+MEB5tHKE/AAAAAAAAAAAeG4F4Xb+wPw==\",\"dtype\":\"float64\",\"shape\":[5]},\"index\":[0,1,2,3,4],\"macro_arrival\":{\"__ndarray__\":\"AAAAAAAAAEAAAAAAAAAAQAAAAAAAAABAAAAAAAAAAEAAAAAAAAAAQA==\",\"dtype\":\"float64\",\"shape\":[5]},\"num_of_jobs\":[952111,1706755,2469631,360586,4749367],\"small_arrival\":{\"__ndarray__\":\"AAAAAAAAAEAAAAAAAAAQQAAAAAAAABhAAAAAAAAAIkAAAAAAAAAoQA==\",\"dtype\":\"float64\",\"shape\":[5]},\"small_load\":{\"__ndarray__\":\"lzuMnvhVuz+XO4ye+FXLP7Is6XZ6gNQ/CsNdsrfA3j+yLOl2eoDkPw==\",\"dtype\":\"float64\",\"shape\":[5]},\"std_dev\":{\"__ndarray__\":\"Jn4V0aND8D8s3gAUAa3vP+PZSJQogfA/EMJmk4v58D/hWEEKVSvyPw==\",\"dtype\":\"float64\",\"shape\":[5]},\"var_resp_time\":{\"__ndarray__\":\"Dk+vlGWI8D8lAWpq2VrvP0q1T8djBvE/4PjaM0sC8j81JO6x9KH0Pw==\",\"dtype\":\"float64\",\"shape\":[5]}}},\"id\":\"f923a2ca-a174-4c35-bed1-5283636ac7e8\",\"type\":\"ColumnDataSource\"},{\"attributes\":{},\"id\":\"37d30eda-c4f5-4c9c-a62e-33e150edca9d\",\"type\":\"WheelZoomTool\"},{\"attributes\":{\"callback\":null},\"id\":\"03af41a7-400b-4d8a-9cda-d974b9938486\",\"type\":\"DataRange1d\"},{\"attributes\":{\"line_alpha\":{\"value\":0.1},\"line_color\":{\"value\":\"#1f77b4\"},\"line_dash\":[4,4],\"x\":{\"field\":\"x\"},\"y\":{\"field\":\"y\"}},\"id\":\"6bdd0805-8e72-4d6a-bb29-cd47068bd609\",\"type\":\"Line\"},{\"attributes\":{\"line_color\":{\"value\":\"firebrick\"},\"x\":{\"field\":\"x\"},\"y\":{\"field\":\"y\"}},\"id\":\"da2987cf-e8fc-4781-b363-cbb04af0e41e\",\"type\":\"Line\"},{\"attributes\":{\"data_source\":{\"id\":\"83597d15-8a17-408f-aa33-a534c1574e86\",\"type\":\"ColumnDataSource\"},\"glyph\":{\"id\":\"d55f2414-360b-41ff-bc4d-db92d8ac5782\",\"type\":\"Circle\"},\"hover_glyph\":null,\"muted_glyph\":null,\"nonselection_glyph\":{\"id\":\"05357603-f52f-48b9-b5c6-d49835e986c5\",\"type\":\"Circle\"},\"selection_glyph\":null,\"view\":{\"id\":\"928983a4-0845-4fe7-b6f5-b82c1dbda630\",\"type\":\"CDSView\"}},\"id\":\"a6b19442-4ef4-47b8-984f-f59929e68e4a\",\"type\":\"GlyphRenderer\"},{\"attributes\":{\"fill_color\":{\"value\":\"white\"},\"line_color\":{\"value\":\"firebrick\"},\"size\":{\"units\":\"screen\",\"value\":5},\"x\":{\"field\":\"x\"},\"y\":{\"field\":\"y\"}},\"id\":\"d55f2414-360b-41ff-bc4d-db92d8ac5782\",\"type\":\"Circle\"},{\"attributes\":{},\"id\":\"ceb12a15-4db7-49ef-aa00-fc11333352c4\",\"type\":\"SaveTool\"},{\"attributes\":{\"plot\":{\"id\":\"be514a70-eb17-4abb-8a6f-93da86d0a66d\",\"subtype\":\"Figure\",\"type\":\"Plot\"},\"source\":{\"id\":\"f923a2ca-a174-4c35-bed1-5283636ac7e8\",\"type\":\"ColumnDataSource\"},\"text\":{\"field\":\"beta\"},\"text_align\":\"center\",\"text_color\":{\"value\":\"#555555\"},\"text_font_size\":{\"value\":\"8pt\"},\"x\":{\"field\":\"small_load\"},\"y\":{\"field\":\"avg_power\"},\"y_offset\":{\"value\":8}},\"id\":\"5b01c522-4143-4ad1-a59f-9c106d130334\",\"type\":\"LabelSet\"},{\"attributes\":{},\"id\":\"44a43fd0-1c39-44f5-85c4-56aacc8ddd11\",\"type\":\"LinearScale\"},{\"attributes\":{\"fill_alpha\":{\"value\":0.1},\"fill_color\":{\"value\":\"#1f77b4\"},\"line_alpha\":{\"value\":0.1},\"line_color\":{\"value\":\"#1f77b4\"},\"size\":{\"units\":\"screen\",\"value\":5},\"x\":{\"field\":\"x\"},\"y\":{\"field\":\"y\"}},\"id\":\"05357603-f52f-48b9-b5c6-d49835e986c5\",\"type\":\"Circle\"},{\"attributes\":{\"callback\":null,\"column_names\":[\"x\",\"y\"],\"data\":{\"x\":{\"__ndarray__\":\"lzuMnvhVuz+XO4ye+FXLP7Is6XZ6gNQ/CsNdsrfA3j+yLOl2eoDkPw==\",\"dtype\":\"float64\",\"shape\":[5]},\"y\":{\"__ndarray__\":\"bef7qfEMkECHFtnO9yCSQARWDi0ynpJADQIrhxZulUBzaJHt/EyTQA==\",\"dtype\":\"float64\",\"shape\":[5]}}},\"id\":\"17dd4d26-2b44-4c1f-b80c-915294060557\",\"type\":\"ColumnDataSource\"},{\"attributes\":{\"overlay\":{\"id\":\"455edf0b-df83-4731-9ecf-0b9eadce1ff5\",\"type\":\"BoxAnnotation\"}},\"id\":\"4f9b3992-0207-4cc2-879f-94a3d22773a4\",\"type\":\"BoxZoomTool\"},{\"attributes\":{\"line_color\":{\"value\":\"firebrick\"},\"line_dash\":[4,4],\"x\":{\"field\":\"x\"},\"y\":{\"field\":\"y\"}},\"id\":\"d20282ad-4b8e-4551-8957-c06a07e52d3a\",\"type\":\"Line\"},{\"attributes\":{},\"id\":\"c8342bfa-f7d8-44a0-be83-fa0184c5b367\",\"type\":\"BasicTickFormatter\"},{\"attributes\":{\"formatter\":{\"id\":\"0b90617c-afe5-40fd-bcd6-3d213788589d\",\"type\":\"BasicTickFormatter\"},\"plot\":{\"id\":\"be514a70-eb17-4abb-8a6f-93da86d0a66d\",\"subtype\":\"Figure\",\"type\":\"Plot\"},\"ticker\":{\"id\":\"036827ff-855d-4e10-8a90-a0b21677c8bb\",\"type\":\"BasicTicker\"}},\"id\":\"82d5f198-3ea9-4eae-bfa7-ad19d3656e23\",\"type\":\"LinearAxis\"}],\"root_ids\":[\"be514a70-eb17-4abb-8a6f-93da86d0a66d\"]},\"title\":\"Bokeh Application\",\"version\":\"0.12.9\"}};\n",
       "    var render_items = [{\"docid\":\"aa6bc27f-de74-4e52-ac15-cff1ee11b5d8\",\"elementid\":\"9abd2109-e968-4297-b205-8554ee0ef8f7\",\"modelid\":\"be514a70-eb17-4abb-8a6f-93da86d0a66d\"}];\n",
       "\n",
       "    root.Bokeh.embed.embed_items(docs_json, render_items);\n",
       "  }\n",
       "\n",
       "  if (root.Bokeh !== undefined) {\n",
       "    embed_document(root);\n",
       "  } else {\n",
       "    var attempts = 0;\n",
       "    var timer = setInterval(function(root) {\n",
       "      if (root.Bokeh !== undefined) {\n",
       "        embed_document(root);\n",
       "        clearInterval(timer);\n",
       "      }\n",
       "      attempts++;\n",
       "      if (attempts > 100) {\n",
       "        console.log(\"Bokeh: ERROR: Unable to embed document because BokehJS library is missing\")\n",
       "        clearInterval(timer);\n",
       "      }\n",
       "    }, 10, root)\n",
       "  }\n",
       "})(window);"
      ],
      "application/vnd.bokehjs_exec.v0+json": ""
     },
     "metadata": {
      "application/vnd.bokehjs_exec.v0+json": {
       "id": "be514a70-eb17-4abb-8a6f-93da86d0a66d"
      }
     },
     "output_type": "display_data"
    }
   ],
   "source": [
    "p2 = figure(plot_width=400, plot_height=400, title=\"Average Power\")\n",
    "\n",
    "p2.line(df.small_load, df.avg_power, line_color='firebrick')\n",
    "p2.line(df_lb.small_load, df_lb.avg_power, line_color='firebrick',line_dash=\"4 4\", legend='LB initial policy')\n",
    "p2.circle(df.small_load, df.avg_power, color='white', line_color='firebrick',size=5)\n",
    "\n",
    "labels = LabelSet(x=\"small_load\", y=\"avg_power\", text=\"beta\", y_offset=8,\n",
    "                  text_font_size=\"8pt\", text_color=\"#555555\",\n",
    "                  source=source, text_align='center')\n",
    "\n",
    "p2.add_layout(labels)\n",
    "p2.grid.grid_line_dash = [2,2]\n",
    "p2.grid.grid_line_alpha = 0.1\n",
    "\n",
    "p2.xaxis.axis_label = 'Small cell load'\n",
    "p2.legend.location  = 'bottom_right'\n",
    "\n",
    "show(p2) # show the results"
   ]
  },
  {
   "cell_type": "code",
   "execution_count": 57,
   "metadata": {},
   "outputs": [
    {
     "data": {
      "text/html": [
       "\n",
       "<div class=\"bk-root\">\n",
       "    <div class=\"bk-plotdiv\" id=\"8b8b135f-a720-4952-a71d-2d021fb1f8b9\"></div>\n",
       "</div>"
      ]
     },
     "metadata": {},
     "output_type": "display_data"
    },
    {
     "data": {
      "application/javascript": [
       "(function(root) {\n",
       "  function embed_document(root) {\n",
       "    var docs_json = {\"732b7603-27e4-47f6-9448-fbe4582c3c4e\":{\"roots\":{\"references\":[{\"attributes\":{\"active_drag\":\"auto\",\"active_inspect\":\"auto\",\"active_scroll\":\"auto\",\"active_tap\":\"auto\",\"tools\":[{\"id\":\"351f83f8-21a9-4e5a-9b04-c7ba419eafc4\",\"type\":\"PanTool\"},{\"id\":\"37d30eda-c4f5-4c9c-a62e-33e150edca9d\",\"type\":\"WheelZoomTool\"},{\"id\":\"4f9b3992-0207-4cc2-879f-94a3d22773a4\",\"type\":\"BoxZoomTool\"},{\"id\":\"ceb12a15-4db7-49ef-aa00-fc11333352c4\",\"type\":\"SaveTool\"},{\"id\":\"8b337445-ed6d-4714-af3f-c8de1d9138c9\",\"type\":\"ResetTool\"},{\"id\":\"c10b365a-0f6d-402a-829d-8a7ad2a31d97\",\"type\":\"HelpTool\"}]},\"id\":\"c6191d54-84f6-4736-be3c-51cd25bb00eb\",\"type\":\"Toolbar\"},{\"attributes\":{\"formatter\":{\"id\":\"6834c899-ffcb-4be7-999a-021d797163b6\",\"type\":\"BasicTickFormatter\"},\"plot\":{\"id\":\"1de471c8-cb0c-4de2-9004-73dceeafcfc5\",\"subtype\":\"Figure\",\"type\":\"Plot\"},\"ticker\":{\"id\":\"d790c0f3-d3ef-47c1-9817-68da4add06ab\",\"type\":\"BasicTicker\"}},\"id\":\"f100faa9-ad54-4fdc-9e12-81d094fc6d8d\",\"type\":\"LinearAxis\"},{\"attributes\":{\"axis_label\":\"Small cell load\",\"formatter\":{\"id\":\"d4d6360d-d70a-4bf1-ae1d-8692f9dc3a4a\",\"type\":\"BasicTickFormatter\"},\"plot\":{\"id\":\"1de471c8-cb0c-4de2-9004-73dceeafcfc5\",\"subtype\":\"Figure\",\"type\":\"Plot\"},\"ticker\":{\"id\":\"0dc9bcac-9d76-4e3c-8362-3bab35e93cb6\",\"type\":\"BasicTicker\"}},\"id\":\"ae0a11c3-1807-491a-b8d6-bf768b268d13\",\"type\":\"LinearAxis\"},{\"attributes\":{\"callback\":null,\"column_names\":[\"x\",\"y\"],\"data\":{\"x\":{\"__ndarray__\":\"lzuMnvhVuz+XO4ye+FXLP7Is6XZ6gNQ/CsNdsrfA3j+yLOl2eoDkPw==\",\"dtype\":\"float64\",\"shape\":[5]},\"y\":{\"__ndarray__\":\"bef7qfEMkECHFtnO9yCSQARWDi0ynpJADQIrhxZulUBzaJHt/EyTQA==\",\"dtype\":\"float64\",\"shape\":[5]}}},\"id\":\"83597d15-8a17-408f-aa33-a534c1574e86\",\"type\":\"ColumnDataSource\"},{\"attributes\":{},\"id\":\"3dc6791c-c859-41ef-ad55-147846111a4f\",\"type\":\"PanTool\"},{\"attributes\":{},\"id\":\"ceb12a15-4db7-49ef-aa00-fc11333352c4\",\"type\":\"SaveTool\"},{\"attributes\":{\"axis_label\":\"Small cell load\",\"formatter\":{\"id\":\"c8342bfa-f7d8-44a0-be83-fa0184c5b367\",\"type\":\"BasicTickFormatter\"},\"plot\":{\"id\":\"be514a70-eb17-4abb-8a6f-93da86d0a66d\",\"subtype\":\"Figure\",\"type\":\"Plot\"},\"ticker\":{\"id\":\"978aa1e3-1c4d-4767-a8b8-776ba76e516a\",\"type\":\"BasicTicker\"}},\"id\":\"22b0ec59-421a-4749-a38c-9db70d1764d0\",\"type\":\"LinearAxis\"},{\"attributes\":{\"line_alpha\":{\"value\":0.1},\"line_color\":{\"value\":\"#1f77b4\"},\"x\":{\"field\":\"x\"},\"y\":{\"field\":\"y\"}},\"id\":\"f1e78356-2110-4961-bef5-356d1203f6e5\",\"type\":\"Line\"},{\"attributes\":{\"sizing_mode\":\"scale_width\",\"toolbar_location\":\"above\",\"tools\":[{\"id\":\"3dc6791c-c859-41ef-ad55-147846111a4f\",\"type\":\"PanTool\"},{\"id\":\"cf43b5aa-62e4-4c5a-be79-1189149308bc\",\"type\":\"WheelZoomTool\"},{\"id\":\"c9a33659-4fb5-4be7-adc4-23f4562888cb\",\"type\":\"BoxZoomTool\"},{\"id\":\"15fbb8ec-792b-406f-84cd-56b7d4515bd1\",\"type\":\"SaveTool\"},{\"id\":\"83857cc8-8e66-47af-a7f7-8beb64914929\",\"type\":\"ResetTool\"},{\"id\":\"839a30e0-2bab-4c13-ba22-bcd697731629\",\"type\":\"HelpTool\"},{\"id\":\"351f83f8-21a9-4e5a-9b04-c7ba419eafc4\",\"type\":\"PanTool\"},{\"id\":\"37d30eda-c4f5-4c9c-a62e-33e150edca9d\",\"type\":\"WheelZoomTool\"},{\"id\":\"4f9b3992-0207-4cc2-879f-94a3d22773a4\",\"type\":\"BoxZoomTool\"},{\"id\":\"ceb12a15-4db7-49ef-aa00-fc11333352c4\",\"type\":\"SaveTool\"},{\"id\":\"8b337445-ed6d-4714-af3f-c8de1d9138c9\",\"type\":\"ResetTool\"},{\"id\":\"c10b365a-0f6d-402a-829d-8a7ad2a31d97\",\"type\":\"HelpTool\"}]},\"id\":\"9c2801ea-c05c-478a-bea4-76c691d1a9d7\",\"type\":\"ToolbarBox\"},{\"attributes\":{\"below\":[{\"id\":\"22b0ec59-421a-4749-a38c-9db70d1764d0\",\"type\":\"LinearAxis\"}],\"left\":[{\"id\":\"82d5f198-3ea9-4eae-bfa7-ad19d3656e23\",\"type\":\"LinearAxis\"}],\"plot_height\":400,\"plot_width\":400,\"renderers\":[{\"id\":\"22b0ec59-421a-4749-a38c-9db70d1764d0\",\"type\":\"LinearAxis\"},{\"id\":\"5fe9b849-5415-4477-a271-61f5d1521414\",\"type\":\"Grid\"},{\"id\":\"82d5f198-3ea9-4eae-bfa7-ad19d3656e23\",\"type\":\"LinearAxis\"},{\"id\":\"0464dd70-a755-4f1f-938e-0a51a336dc8f\",\"type\":\"Grid\"},{\"id\":\"455edf0b-df83-4731-9ecf-0b9eadce1ff5\",\"type\":\"BoxAnnotation\"},{\"id\":\"8637e1d9-03eb-42d3-9db5-81890b2eb20c\",\"type\":\"GlyphRenderer\"},{\"id\":\"974c2ce4-d5ec-47d0-b0b6-42634eda5376\",\"type\":\"Legend\"},{\"id\":\"b40dc92e-b72b-45dc-b03b-a70a2a8ecd4f\",\"type\":\"GlyphRenderer\"},{\"id\":\"a6b19442-4ef4-47b8-984f-f59929e68e4a\",\"type\":\"GlyphRenderer\"},{\"id\":\"5b01c522-4143-4ad1-a59f-9c106d130334\",\"type\":\"LabelSet\"}],\"title\":{\"id\":\"b364d57c-9c9e-4687-826a-228c62899312\",\"type\":\"Title\"},\"toolbar\":{\"id\":\"c6191d54-84f6-4736-be3c-51cd25bb00eb\",\"type\":\"Toolbar\"},\"toolbar_location\":null,\"x_range\":{\"id\":\"df29ab2a-72ea-45bc-9af3-023f121156a9\",\"type\":\"DataRange1d\"},\"x_scale\":{\"id\":\"44a43fd0-1c39-44f5-85c4-56aacc8ddd11\",\"type\":\"LinearScale\"},\"y_range\":{\"id\":\"03af41a7-400b-4d8a-9cda-d974b9938486\",\"type\":\"DataRange1d\"},\"y_scale\":{\"id\":\"b4a02c97-060d-4eb8-b967-1063b34d9d06\",\"type\":\"LinearScale\"}},\"id\":\"be514a70-eb17-4abb-8a6f-93da86d0a66d\",\"subtype\":\"Figure\",\"type\":\"Plot\"},{\"attributes\":{},\"id\":\"978aa1e3-1c4d-4767-a8b8-776ba76e516a\",\"type\":\"BasicTicker\"},{\"attributes\":{\"bottom_units\":\"screen\",\"fill_alpha\":{\"value\":0.5},\"fill_color\":{\"value\":\"lightgrey\"},\"left_units\":\"screen\",\"level\":\"overlay\",\"line_alpha\":{\"value\":1.0},\"line_color\":{\"value\":\"black\"},\"line_dash\":[4,4],\"line_width\":{\"value\":2},\"plot\":null,\"render_mode\":\"css\",\"right_units\":\"screen\",\"top_units\":\"screen\"},\"id\":\"455edf0b-df83-4731-9ecf-0b9eadce1ff5\",\"type\":\"BoxAnnotation\"},{\"attributes\":{\"line_alpha\":{\"value\":0.1},\"line_color\":{\"value\":\"#1f77b4\"},\"line_dash\":[4,4],\"x\":{\"field\":\"x\"},\"y\":{\"field\":\"y\"}},\"id\":\"3b0b60e9-ac55-4e7a-a83f-afe257f4bfae\",\"type\":\"Line\"},{\"attributes\":{\"callback\":null,\"column_names\":[\"x\",\"y\"],\"data\":{\"x\":{\"__ndarray__\":\"lzuMnvhVuz+XO4ye+FXLP7Is6XZ6gNQ/CsNdsrfA3j+yLOl2eoDkPw==\",\"dtype\":\"float64\",\"shape\":[5]},\"y\":{\"__ndarray__\":\"bef7qfEMkECHFtnO9yCSQARWDi0ynpJADQIrhxZulUBzaJHt/EyTQA==\",\"dtype\":\"float64\",\"shape\":[5]}}},\"id\":\"17dd4d26-2b44-4c1f-b80c-915294060557\",\"type\":\"ColumnDataSource\"},{\"attributes\":{\"callback\":null,\"column_names\":[\"index\",\"macro_arrival\",\"std_dev\",\"avg_power\",\"small_load\",\"avg_idle_time\",\"small_arrival\",\"avg_resp_time\",\"num_of_jobs\",\"beta\",\"var_resp_time\"],\"data\":{\"avg_idle_time\":{\"__ndarray__\":\"AAAAAAAAAAAAAAAAAAAAAAAAAAAAAAAAAAAAAAAAAAAAAAAAAAAAAA==\",\"dtype\":\"float64\",\"shape\":[5]},\"avg_power\":{\"__ndarray__\":\"bef7qfEMkECHFtnO9yCSQARWDi0ynpJADQIrhxZulUBzaJHt/EyTQA==\",\"dtype\":\"float64\",\"shape\":[5]},\"avg_resp_time\":{\"__ndarray__\":\"q7LviuB/6z996IL6ljnpP1+dY0D2eus/qoJRSZ2A7D9FR3L5D+nsPw==\",\"dtype\":\"float64\",\"shape\":[5]},\"beta\":{\"__ndarray__\":\"wM+4cCAkyz+GcqJdhZSfPz+MEB5tHKE/AAAAAAAAAAAeG4F4Xb+wPw==\",\"dtype\":\"float64\",\"shape\":[5]},\"index\":[0,1,2,3,4],\"macro_arrival\":{\"__ndarray__\":\"AAAAAAAAAEAAAAAAAAAAQAAAAAAAAABAAAAAAAAAAEAAAAAAAAAAQA==\",\"dtype\":\"float64\",\"shape\":[5]},\"num_of_jobs\":[952111,1706755,2469631,360586,4749367],\"small_arrival\":{\"__ndarray__\":\"AAAAAAAAAEAAAAAAAAAQQAAAAAAAABhAAAAAAAAAIkAAAAAAAAAoQA==\",\"dtype\":\"float64\",\"shape\":[5]},\"small_load\":{\"__ndarray__\":\"lzuMnvhVuz+XO4ye+FXLP7Is6XZ6gNQ/CsNdsrfA3j+yLOl2eoDkPw==\",\"dtype\":\"float64\",\"shape\":[5]},\"std_dev\":{\"__ndarray__\":\"Jn4V0aND8D8s3gAUAa3vP+PZSJQogfA/EMJmk4v58D/hWEEKVSvyPw==\",\"dtype\":\"float64\",\"shape\":[5]},\"var_resp_time\":{\"__ndarray__\":\"Dk+vlGWI8D8lAWpq2VrvP0q1T8djBvE/4PjaM0sC8j81JO6x9KH0Pw==\",\"dtype\":\"float64\",\"shape\":[5]}}},\"id\":\"cf46b25c-dc6e-4766-928c-a9bd2d53eec4\",\"type\":\"ColumnDataSource\"},{\"attributes\":{},\"id\":\"ef76433c-a3f5-4209-87ee-e5f660f2b5cb\",\"type\":\"LinearScale\"},{\"attributes\":{\"dimension\":1,\"grid_line_alpha\":{\"value\":0.1},\"grid_line_dash\":[2,2],\"plot\":{\"id\":\"1de471c8-cb0c-4de2-9004-73dceeafcfc5\",\"subtype\":\"Figure\",\"type\":\"Plot\"},\"ticker\":{\"id\":\"d790c0f3-d3ef-47c1-9817-68da4add06ab\",\"type\":\"BasicTicker\"}},\"id\":\"bfd0b75c-b586-40c3-8515-28436682aa4c\",\"type\":\"Grid\"},{\"attributes\":{\"bottom_units\":\"screen\",\"fill_alpha\":{\"value\":0.5},\"fill_color\":{\"value\":\"lightgrey\"},\"left_units\":\"screen\",\"level\":\"overlay\",\"line_alpha\":{\"value\":1.0},\"line_color\":{\"value\":\"black\"},\"line_dash\":[4,4],\"line_width\":{\"value\":2},\"plot\":null,\"render_mode\":\"css\",\"right_units\":\"screen\",\"top_units\":\"screen\"},\"id\":\"22924a94-1285-4a40-a7b6-19be4a9c7152\",\"type\":\"BoxAnnotation\"},{\"attributes\":{\"line_color\":{\"value\":\"firebrick\"},\"line_dash\":[4,4],\"x\":{\"field\":\"x\"},\"y\":{\"field\":\"y\"}},\"id\":\"d20282ad-4b8e-4551-8957-c06a07e52d3a\",\"type\":\"Line\"},{\"attributes\":{\"fill_alpha\":{\"value\":0.1},\"fill_color\":{\"value\":\"#1f77b4\"},\"line_alpha\":{\"value\":0.1},\"line_color\":{\"value\":\"#1f77b4\"},\"size\":{\"units\":\"screen\",\"value\":5},\"x\":{\"field\":\"x\"},\"y\":{\"field\":\"y\"}},\"id\":\"05357603-f52f-48b9-b5c6-d49835e986c5\",\"type\":\"Circle\"},{\"attributes\":{\"grid_line_alpha\":{\"value\":0.1},\"grid_line_dash\":[2,2],\"plot\":{\"id\":\"1de471c8-cb0c-4de2-9004-73dceeafcfc5\",\"subtype\":\"Figure\",\"type\":\"Plot\"},\"ticker\":{\"id\":\"0dc9bcac-9d76-4e3c-8362-3bab35e93cb6\",\"type\":\"BasicTicker\"}},\"id\":\"8f11b945-5a4e-4fed-9296-4f8d88dd72fd\",\"type\":\"Grid\"},{\"attributes\":{},\"id\":\"b4a02c97-060d-4eb8-b967-1063b34d9d06\",\"type\":\"LinearScale\"},{\"attributes\":{\"source\":{\"id\":\"83597d15-8a17-408f-aa33-a534c1574e86\",\"type\":\"ColumnDataSource\"}},\"id\":\"928983a4-0845-4fe7-b6f5-b82c1dbda630\",\"type\":\"CDSView\"},{\"attributes\":{},\"id\":\"036827ff-855d-4e10-8a90-a0b21677c8bb\",\"type\":\"BasicTicker\"},{\"attributes\":{\"line_color\":{\"value\":\"navy\"},\"line_dash\":[4,4],\"x\":{\"field\":\"x\"},\"y\":{\"field\":\"y\"}},\"id\":\"2250a2e3-7b5c-4150-943b-80d6b7111cf5\",\"type\":\"Line\"},{\"attributes\":{\"children\":[{\"id\":\"1de471c8-cb0c-4de2-9004-73dceeafcfc5\",\"subtype\":\"Figure\",\"type\":\"Plot\"},{\"id\":\"be514a70-eb17-4abb-8a6f-93da86d0a66d\",\"subtype\":\"Figure\",\"type\":\"Plot\"}]},\"id\":\"e706bb1d-65c1-49d9-bfde-d1ea9c4f60d6\",\"type\":\"Row\"},{\"attributes\":{\"source\":{\"id\":\"5ef2fb64-a349-4924-9d7f-2de6a00fb1a4\",\"type\":\"ColumnDataSource\"}},\"id\":\"3babf41b-cf73-41cd-a785-375f1340dfaa\",\"type\":\"CDSView\"},{\"attributes\":{\"data_source\":{\"id\":\"2328920b-25f3-4219-a55a-22c1b529fdef\",\"type\":\"ColumnDataSource\"},\"glyph\":{\"id\":\"d20282ad-4b8e-4551-8957-c06a07e52d3a\",\"type\":\"Line\"},\"hover_glyph\":null,\"muted_glyph\":null,\"nonselection_glyph\":{\"id\":\"6bdd0805-8e72-4d6a-bb29-cd47068bd609\",\"type\":\"Line\"},\"selection_glyph\":null,\"view\":{\"id\":\"cb2f464c-cd03-497a-a0da-615acfb8ec17\",\"type\":\"CDSView\"}},\"id\":\"b40dc92e-b72b-45dc-b03b-a70a2a8ecd4f\",\"type\":\"GlyphRenderer\"},{\"attributes\":{\"source\":{\"id\":\"17dd4d26-2b44-4c1f-b80c-915294060557\",\"type\":\"ColumnDataSource\"}},\"id\":\"39e81519-bb1e-4d86-b335-b69e818facce\",\"type\":\"CDSView\"},{\"attributes\":{},\"id\":\"83857cc8-8e66-47af-a7f7-8beb64914929\",\"type\":\"ResetTool\"},{\"attributes\":{},\"id\":\"0dc9bcac-9d76-4e3c-8362-3bab35e93cb6\",\"type\":\"BasicTicker\"},{\"attributes\":{\"callback\":null,\"column_names\":[\"x\",\"y\"],\"data\":{\"x\":{\"__ndarray__\":\"lzuMnvhVuz+XO4ye+FXLP7Is6XZ6gNQ/CsNdsrfA3j+yLOl2eoDkPw==\",\"dtype\":\"float64\",\"shape\":[5]},\"y\":{\"__ndarray__\":\"wcBz7+GS6z/5iJgSSfTtP8xFfCdmve4/Ho8ZqIx/7z9VavZAKzDwPw==\",\"dtype\":\"float64\",\"shape\":[5]}}},\"id\":\"5ef2fb64-a349-4924-9d7f-2de6a00fb1a4\",\"type\":\"ColumnDataSource\"},{\"attributes\":{\"callback\":null,\"column_names\":[\"x\",\"y\"],\"data\":{\"x\":{\"__ndarray__\":\"lzuMnvhVuz+XO4ye+FXLP7Is6XZ6gNQ/CsNdsrfA3j+yLOl2eoDkPw==\",\"dtype\":\"float64\",\"shape\":[5]},\"y\":{\"__ndarray__\":\"RIts53sMkEBBYOXQIhyRQDMzMzOz55FAZmZmZmbakkDJdr6fGqaTQA==\",\"dtype\":\"float64\",\"shape\":[5]}}},\"id\":\"2328920b-25f3-4219-a55a-22c1b529fdef\",\"type\":\"ColumnDataSource\"},{\"attributes\":{\"dimension\":1,\"grid_line_alpha\":{\"value\":0.1},\"grid_line_dash\":[2,2],\"plot\":{\"id\":\"be514a70-eb17-4abb-8a6f-93da86d0a66d\",\"subtype\":\"Figure\",\"type\":\"Plot\"},\"ticker\":{\"id\":\"036827ff-855d-4e10-8a90-a0b21677c8bb\",\"type\":\"BasicTicker\"}},\"id\":\"0464dd70-a755-4f1f-938e-0a51a336dc8f\",\"type\":\"Grid\"},{\"attributes\":{\"source\":{\"id\":\"2328920b-25f3-4219-a55a-22c1b529fdef\",\"type\":\"ColumnDataSource\"}},\"id\":\"cb2f464c-cd03-497a-a0da-615acfb8ec17\",\"type\":\"CDSView\"},{\"attributes\":{\"source\":{\"id\":\"7518768f-05fa-4c02-b482-968059d578ac\",\"type\":\"ColumnDataSource\"}},\"id\":\"186df4de-e3f0-4610-8d82-f150a881fefb\",\"type\":\"CDSView\"},{\"attributes\":{\"data_source\":{\"id\":\"5ef2fb64-a349-4924-9d7f-2de6a00fb1a4\",\"type\":\"ColumnDataSource\"},\"glyph\":{\"id\":\"2250a2e3-7b5c-4150-943b-80d6b7111cf5\",\"type\":\"Line\"},\"hover_glyph\":null,\"muted_glyph\":null,\"nonselection_glyph\":{\"id\":\"3b0b60e9-ac55-4e7a-a83f-afe257f4bfae\",\"type\":\"Line\"},\"selection_glyph\":null,\"view\":{\"id\":\"3babf41b-cf73-41cd-a785-375f1340dfaa\",\"type\":\"CDSView\"}},\"id\":\"a6a0124e-5e69-4d50-a447-be29e5ad1ac8\",\"type\":\"GlyphRenderer\"},{\"attributes\":{\"label\":{\"value\":\"LB initial policy\"},\"renderers\":[{\"id\":\"b40dc92e-b72b-45dc-b03b-a70a2a8ecd4f\",\"type\":\"GlyphRenderer\"}]},\"id\":\"ebad0181-1a62-4cab-8544-f843cb9003a5\",\"type\":\"LegendItem\"},{\"attributes\":{},\"id\":\"6834c899-ffcb-4be7-999a-021d797163b6\",\"type\":\"BasicTickFormatter\"},{\"attributes\":{\"line_color\":{\"value\":\"firebrick\"},\"x\":{\"field\":\"x\"},\"y\":{\"field\":\"y\"}},\"id\":\"da2987cf-e8fc-4781-b363-cbb04af0e41e\",\"type\":\"Line\"},{\"attributes\":{\"callback\":null,\"column_names\":[\"index\",\"macro_arrival\",\"std_dev\",\"avg_power\",\"small_load\",\"avg_idle_time\",\"small_arrival\",\"avg_resp_time\",\"num_of_jobs\",\"beta\",\"var_resp_time\"],\"data\":{\"avg_idle_time\":{\"__ndarray__\":\"AAAAAAAAAAAAAAAAAAAAAAAAAAAAAAAAAAAAAAAAAAAAAAAAAAAAAA==\",\"dtype\":\"float64\",\"shape\":[5]},\"avg_power\":{\"__ndarray__\":\"bef7qfEMkECHFtnO9yCSQARWDi0ynpJADQIrhxZulUBzaJHt/EyTQA==\",\"dtype\":\"float64\",\"shape\":[5]},\"avg_resp_time\":{\"__ndarray__\":\"q7LviuB/6z996IL6ljnpP1+dY0D2eus/qoJRSZ2A7D9FR3L5D+nsPw==\",\"dtype\":\"float64\",\"shape\":[5]},\"beta\":{\"__ndarray__\":\"wM+4cCAkyz+GcqJdhZSfPz+MEB5tHKE/AAAAAAAAAAAeG4F4Xb+wPw==\",\"dtype\":\"float64\",\"shape\":[5]},\"index\":[0,1,2,3,4],\"macro_arrival\":{\"__ndarray__\":\"AAAAAAAAAEAAAAAAAAAAQAAAAAAAAABAAAAAAAAAAEAAAAAAAAAAQA==\",\"dtype\":\"float64\",\"shape\":[5]},\"num_of_jobs\":[952111,1706755,2469631,360586,4749367],\"small_arrival\":{\"__ndarray__\":\"AAAAAAAAAEAAAAAAAAAQQAAAAAAAABhAAAAAAAAAIkAAAAAAAAAoQA==\",\"dtype\":\"float64\",\"shape\":[5]},\"small_load\":{\"__ndarray__\":\"lzuMnvhVuz+XO4ye+FXLP7Is6XZ6gNQ/CsNdsrfA3j+yLOl2eoDkPw==\",\"dtype\":\"float64\",\"shape\":[5]},\"std_dev\":{\"__ndarray__\":\"Jn4V0aND8D8s3gAUAa3vP+PZSJQogfA/EMJmk4v58D/hWEEKVSvyPw==\",\"dtype\":\"float64\",\"shape\":[5]},\"var_resp_time\":{\"__ndarray__\":\"Dk+vlGWI8D8lAWpq2VrvP0q1T8djBvE/4PjaM0sC8j81JO6x9KH0Pw==\",\"dtype\":\"float64\",\"shape\":[5]}}},\"id\":\"f923a2ca-a174-4c35-bed1-5283636ac7e8\",\"type\":\"ColumnDataSource\"},{\"attributes\":{\"source\":{\"id\":\"939f875b-8b8c-41d6-a570-27c2ef76b9d2\",\"type\":\"ColumnDataSource\"}},\"id\":\"3d01c98c-4270-487b-a7f9-2746904ab735\",\"type\":\"CDSView\"},{\"attributes\":{},\"id\":\"15fbb8ec-792b-406f-84cd-56b7d4515bd1\",\"type\":\"SaveTool\"},{\"attributes\":{\"line_alpha\":{\"value\":0.1},\"line_color\":{\"value\":\"#1f77b4\"},\"line_dash\":[4,4],\"x\":{\"field\":\"x\"},\"y\":{\"field\":\"y\"}},\"id\":\"bb5bda08-fe15-4717-9fc5-166c56f526d0\",\"type\":\"Line\"},{\"attributes\":{},\"id\":\"c8342bfa-f7d8-44a0-be83-fa0184c5b367\",\"type\":\"BasicTickFormatter\"},{\"attributes\":{},\"id\":\"44a43fd0-1c39-44f5-85c4-56aacc8ddd11\",\"type\":\"LinearScale\"},{\"attributes\":{},\"id\":\"14357f6a-9506-43c7-9a68-90c60a40bb57\",\"type\":\"LinearScale\"},{\"attributes\":{\"formatter\":{\"id\":\"0b90617c-afe5-40fd-bcd6-3d213788589d\",\"type\":\"BasicTickFormatter\"},\"plot\":{\"id\":\"be514a70-eb17-4abb-8a6f-93da86d0a66d\",\"subtype\":\"Figure\",\"type\":\"Plot\"},\"ticker\":{\"id\":\"036827ff-855d-4e10-8a90-a0b21677c8bb\",\"type\":\"BasicTicker\"}},\"id\":\"82d5f198-3ea9-4eae-bfa7-ad19d3656e23\",\"type\":\"LinearAxis\"},{\"attributes\":{\"fill_alpha\":{\"value\":0.1},\"fill_color\":{\"value\":\"#1f77b4\"},\"line_alpha\":{\"value\":0.1},\"line_color\":{\"value\":\"#1f77b4\"},\"size\":{\"units\":\"screen\",\"value\":5},\"x\":{\"field\":\"x\"},\"y\":{\"field\":\"y\"}},\"id\":\"a04e1c74-84d8-44e5-b131-83b9b5ba1020\",\"type\":\"Circle\"},{\"attributes\":{\"label\":{\"value\":\"Constraint\"},\"renderers\":[{\"id\":\"dbe288db-eeac-4d37-a764-1e103ea7a9a8\",\"type\":\"GlyphRenderer\"}]},\"id\":\"de6b1e55-09e2-416b-a22e-9f803934a6d9\",\"type\":\"LegendItem\"},{\"attributes\":{},\"id\":\"cf43b5aa-62e4-4c5a-be79-1189149308bc\",\"type\":\"WheelZoomTool\"},{\"attributes\":{\"data_source\":{\"id\":\"17dd4d26-2b44-4c1f-b80c-915294060557\",\"type\":\"ColumnDataSource\"},\"glyph\":{\"id\":\"da2987cf-e8fc-4781-b363-cbb04af0e41e\",\"type\":\"Line\"},\"hover_glyph\":null,\"muted_glyph\":null,\"nonselection_glyph\":{\"id\":\"f1e78356-2110-4961-bef5-356d1203f6e5\",\"type\":\"Line\"},\"selection_glyph\":null,\"view\":{\"id\":\"39e81519-bb1e-4d86-b335-b69e818facce\",\"type\":\"CDSView\"}},\"id\":\"8637e1d9-03eb-42d3-9db5-81890b2eb20c\",\"type\":\"GlyphRenderer\"},{\"attributes\":{\"data_source\":{\"id\":\"b24f41ed-cc7a-40d2-aa01-afebefdd9fd2\",\"type\":\"ColumnDataSource\"},\"glyph\":{\"id\":\"09a625ef-3bc8-4f0e-a698-ad54bd40dd21\",\"type\":\"Circle\"},\"hover_glyph\":null,\"muted_glyph\":null,\"nonselection_glyph\":{\"id\":\"a04e1c74-84d8-44e5-b131-83b9b5ba1020\",\"type\":\"Circle\"},\"selection_glyph\":null,\"view\":{\"id\":\"f335ebab-b888-4bac-9837-b8ce0c5def62\",\"type\":\"CDSView\"}},\"id\":\"7047cae9-bff5-49aa-8549-9b21cca4df58\",\"type\":\"GlyphRenderer\"},{\"attributes\":{\"callback\":null},\"id\":\"6573dc80-7f7e-49de-85ac-a07ae25653a8\",\"type\":\"DataRange1d\"},{\"attributes\":{},\"id\":\"c10b365a-0f6d-402a-829d-8a7ad2a31d97\",\"type\":\"HelpTool\"},{\"attributes\":{\"overlay\":{\"id\":\"22924a94-1285-4a40-a7b6-19be4a9c7152\",\"type\":\"BoxAnnotation\"}},\"id\":\"c9a33659-4fb5-4be7-adc4-23f4562888cb\",\"type\":\"BoxZoomTool\"},{\"attributes\":{\"items\":[{\"id\":\"ebad0181-1a62-4cab-8544-f843cb9003a5\",\"type\":\"LegendItem\"}],\"location\":\"bottom_right\",\"plot\":{\"id\":\"be514a70-eb17-4abb-8a6f-93da86d0a66d\",\"subtype\":\"Figure\",\"type\":\"Plot\"}},\"id\":\"974c2ce4-d5ec-47d0-b0b6-42634eda5376\",\"type\":\"Legend\"},{\"attributes\":{},\"id\":\"d790c0f3-d3ef-47c1-9817-68da4add06ab\",\"type\":\"BasicTicker\"},{\"attributes\":{\"callback\":null,\"column_names\":[\"x\",\"y\"],\"data\":{\"x\":{\"__ndarray__\":\"lzuMnvhVuz+XO4ye+FXLP7Is6XZ6gNQ/CsNdsrfA3j+yLOl2eoDkPw==\",\"dtype\":\"float64\",\"shape\":[5]},\"y\":{\"__ndarray__\":\"R/q0iv7Q6D+t4SL3dPXqP2vY74l1qus/NWd9yjFZ7D8AWYgOgSPtPw==\",\"dtype\":\"float64\",\"shape\":[5]}}},\"id\":\"939f875b-8b8c-41d6-a570-27c2ef76b9d2\",\"type\":\"ColumnDataSource\"},{\"attributes\":{\"data_source\":{\"id\":\"7518768f-05fa-4c02-b482-968059d578ac\",\"type\":\"ColumnDataSource\"},\"glyph\":{\"id\":\"541e0545-719f-4df2-beef-86afdaf0aaa4\",\"type\":\"Line\"},\"hover_glyph\":null,\"muted_glyph\":null,\"nonselection_glyph\":{\"id\":\"0442d1d0-190d-45b8-be50-040c70486177\",\"type\":\"Line\"},\"selection_glyph\":null,\"view\":{\"id\":\"186df4de-e3f0-4610-8d82-f150a881fefb\",\"type\":\"CDSView\"}},\"id\":\"1b96ce38-4369-403d-a399-ad4643ed4161\",\"type\":\"GlyphRenderer\"},{\"attributes\":{},\"id\":\"0b90617c-afe5-40fd-bcd6-3d213788589d\",\"type\":\"BasicTickFormatter\"},{\"attributes\":{\"children\":[{\"id\":\"e706bb1d-65c1-49d9-bfde-d1ea9c4f60d6\",\"type\":\"Row\"}]},\"id\":\"7773f2ad-cb11-4cf4-bfdc-cd45f599841d\",\"type\":\"Column\"},{\"attributes\":{},\"id\":\"37d30eda-c4f5-4c9c-a62e-33e150edca9d\",\"type\":\"WheelZoomTool\"},{\"attributes\":{\"callback\":null},\"id\":\"03af41a7-400b-4d8a-9cda-d974b9938486\",\"type\":\"DataRange1d\"},{\"attributes\":{\"items\":[{\"id\":\"b2a77a8e-3470-431b-869a-295b3ccf6829\",\"type\":\"LegendItem\"},{\"id\":\"de6b1e55-09e2-416b-a22e-9f803934a6d9\",\"type\":\"LegendItem\"}],\"location\":\"bottom_right\",\"plot\":{\"id\":\"1de471c8-cb0c-4de2-9004-73dceeafcfc5\",\"subtype\":\"Figure\",\"type\":\"Plot\"}},\"id\":\"11563f3c-a616-4b64-82d3-4ba36d7e1b17\",\"type\":\"Legend\"},{\"attributes\":{\"data_source\":{\"id\":\"83597d15-8a17-408f-aa33-a534c1574e86\",\"type\":\"ColumnDataSource\"},\"glyph\":{\"id\":\"d55f2414-360b-41ff-bc4d-db92d8ac5782\",\"type\":\"Circle\"},\"hover_glyph\":null,\"muted_glyph\":null,\"nonselection_glyph\":{\"id\":\"05357603-f52f-48b9-b5c6-d49835e986c5\",\"type\":\"Circle\"},\"selection_glyph\":null,\"view\":{\"id\":\"928983a4-0845-4fe7-b6f5-b82c1dbda630\",\"type\":\"CDSView\"}},\"id\":\"a6b19442-4ef4-47b8-984f-f59929e68e4a\",\"type\":\"GlyphRenderer\"},{\"attributes\":{\"fill_color\":{\"value\":\"white\"},\"line_color\":{\"value\":\"firebrick\"},\"size\":{\"units\":\"screen\",\"value\":5},\"x\":{\"field\":\"x\"},\"y\":{\"field\":\"y\"}},\"id\":\"d55f2414-360b-41ff-bc4d-db92d8ac5782\",\"type\":\"Circle\"},{\"attributes\":{\"active_drag\":\"auto\",\"active_inspect\":\"auto\",\"active_scroll\":\"auto\",\"active_tap\":\"auto\",\"tools\":[{\"id\":\"3dc6791c-c859-41ef-ad55-147846111a4f\",\"type\":\"PanTool\"},{\"id\":\"cf43b5aa-62e4-4c5a-be79-1189149308bc\",\"type\":\"WheelZoomTool\"},{\"id\":\"c9a33659-4fb5-4be7-adc4-23f4562888cb\",\"type\":\"BoxZoomTool\"},{\"id\":\"15fbb8ec-792b-406f-84cd-56b7d4515bd1\",\"type\":\"SaveTool\"},{\"id\":\"83857cc8-8e66-47af-a7f7-8beb64914929\",\"type\":\"ResetTool\"},{\"id\":\"839a30e0-2bab-4c13-ba22-bcd697731629\",\"type\":\"HelpTool\"}]},\"id\":\"c68288da-6d84-4b3b-9ac8-1be1cb8d8d31\",\"type\":\"Toolbar\"},{\"attributes\":{\"plot\":null,\"text\":\"Average Power\"},\"id\":\"b364d57c-9c9e-4687-826a-228c62899312\",\"type\":\"Title\"},{\"attributes\":{\"overlay\":{\"id\":\"455edf0b-df83-4731-9ecf-0b9eadce1ff5\",\"type\":\"BoxAnnotation\"}},\"id\":\"4f9b3992-0207-4cc2-879f-94a3d22773a4\",\"type\":\"BoxZoomTool\"},{\"attributes\":{\"line_alpha\":{\"value\":0.1},\"line_color\":{\"value\":\"#1f77b4\"},\"line_dash\":[4,4],\"x\":{\"field\":\"x\"},\"y\":{\"field\":\"y\"}},\"id\":\"6bdd0805-8e72-4d6a-bb29-cd47068bd609\",\"type\":\"Line\"},{\"attributes\":{\"callback\":null,\"column_names\":[\"x\",\"y\"],\"data\":{\"x\":{\"__ndarray__\":\"lzuMnvhVuz+XO4ye+FXLP7Is6XZ6gNQ/CsNdsrfA3j+yLOl2eoDkPw==\",\"dtype\":\"float64\",\"shape\":[5]},\"y\":{\"__ndarray__\":\"q7LviuB/6z996IL6ljnpP1+dY0D2eus/qoJRSZ2A7D9FR3L5D+nsPw==\",\"dtype\":\"float64\",\"shape\":[5]}}},\"id\":\"b24f41ed-cc7a-40d2-aa01-afebefdd9fd2\",\"type\":\"ColumnDataSource\"},{\"attributes\":{\"fill_color\":{\"value\":\"white\"},\"line_color\":{\"value\":\"navy\"},\"size\":{\"units\":\"screen\",\"value\":5},\"x\":{\"field\":\"x\"},\"y\":{\"field\":\"y\"}},\"id\":\"09a625ef-3bc8-4f0e-a698-ad54bd40dd21\",\"type\":\"Circle\"},{\"attributes\":{\"grid_line_alpha\":{\"value\":0.1},\"grid_line_dash\":[2,2],\"plot\":{\"id\":\"be514a70-eb17-4abb-8a6f-93da86d0a66d\",\"subtype\":\"Figure\",\"type\":\"Plot\"},\"ticker\":{\"id\":\"978aa1e3-1c4d-4767-a8b8-776ba76e516a\",\"type\":\"BasicTicker\"}},\"id\":\"5fe9b849-5415-4477-a271-61f5d1521414\",\"type\":\"Grid\"},{\"attributes\":{\"children\":[{\"id\":\"9c2801ea-c05c-478a-bea4-76c691d1a9d7\",\"type\":\"ToolbarBox\"},{\"id\":\"7773f2ad-cb11-4cf4-bfdc-cd45f599841d\",\"type\":\"Column\"}]},\"id\":\"958fad51-11bc-4a45-925b-342746fd128d\",\"type\":\"Column\"},{\"attributes\":{\"plot\":null,\"text\":\"Mean response time\"},\"id\":\"c83d41a9-43cd-47c7-8684-b69799ef6dde\",\"type\":\"Title\"},{\"attributes\":{\"callback\":null},\"id\":\"df29ab2a-72ea-45bc-9af3-023f121156a9\",\"type\":\"DataRange1d\"},{\"attributes\":{},\"id\":\"d4d6360d-d70a-4bf1-ae1d-8692f9dc3a4a\",\"type\":\"BasicTickFormatter\"},{\"attributes\":{},\"id\":\"839a30e0-2bab-4c13-ba22-bcd697731629\",\"type\":\"HelpTool\"},{\"attributes\":{},\"id\":\"351f83f8-21a9-4e5a-9b04-c7ba419eafc4\",\"type\":\"PanTool\"},{\"attributes\":{\"label\":{\"value\":\"LB initial policy\"},\"renderers\":[{\"id\":\"a6a0124e-5e69-4d50-a447-be29e5ad1ac8\",\"type\":\"GlyphRenderer\"}]},\"id\":\"b2a77a8e-3470-431b-869a-295b3ccf6829\",\"type\":\"LegendItem\"},{\"attributes\":{\"plot\":{\"id\":\"1de471c8-cb0c-4de2-9004-73dceeafcfc5\",\"subtype\":\"Figure\",\"type\":\"Plot\"},\"source\":{\"id\":\"cf46b25c-dc6e-4766-928c-a9bd2d53eec4\",\"type\":\"ColumnDataSource\"},\"text\":{\"field\":\"beta\"},\"text_align\":\"center\",\"text_color\":{\"value\":\"#555555\"},\"text_font_size\":{\"value\":\"8pt\"},\"x\":{\"field\":\"small_load\"},\"y\":{\"field\":\"avg_resp_time\"},\"y_offset\":{\"value\":8}},\"id\":\"773fbb53-7a2e-40a6-b83f-558511a1a093\",\"type\":\"LabelSet\"},{\"attributes\":{},\"id\":\"8b337445-ed6d-4714-af3f-c8de1d9138c9\",\"type\":\"ResetTool\"},{\"attributes\":{\"callback\":null,\"column_names\":[\"x\",\"y\"],\"data\":{\"x\":{\"__ndarray__\":\"lzuMnvhVuz+XO4ye+FXLP7Is6XZ6gNQ/CsNdsrfA3j+yLOl2eoDkPw==\",\"dtype\":\"float64\",\"shape\":[5]},\"y\":{\"__ndarray__\":\"q7LviuB/6z996IL6ljnpP1+dY0D2eus/qoJRSZ2A7D9FR3L5D+nsPw==\",\"dtype\":\"float64\",\"shape\":[5]}}},\"id\":\"7518768f-05fa-4c02-b482-968059d578ac\",\"type\":\"ColumnDataSource\"},{\"attributes\":{\"line_color\":{\"value\":\"navy\"},\"x\":{\"field\":\"x\"},\"y\":{\"field\":\"y\"}},\"id\":\"541e0545-719f-4df2-beef-86afdaf0aaa4\",\"type\":\"Line\"},{\"attributes\":{\"below\":[{\"id\":\"ae0a11c3-1807-491a-b8d6-bf768b268d13\",\"type\":\"LinearAxis\"}],\"left\":[{\"id\":\"f100faa9-ad54-4fdc-9e12-81d094fc6d8d\",\"type\":\"LinearAxis\"}],\"plot_height\":400,\"plot_width\":400,\"renderers\":[{\"id\":\"ae0a11c3-1807-491a-b8d6-bf768b268d13\",\"type\":\"LinearAxis\"},{\"id\":\"8f11b945-5a4e-4fed-9296-4f8d88dd72fd\",\"type\":\"Grid\"},{\"id\":\"f100faa9-ad54-4fdc-9e12-81d094fc6d8d\",\"type\":\"LinearAxis\"},{\"id\":\"bfd0b75c-b586-40c3-8515-28436682aa4c\",\"type\":\"Grid\"},{\"id\":\"22924a94-1285-4a40-a7b6-19be4a9c7152\",\"type\":\"BoxAnnotation\"},{\"id\":\"1b96ce38-4369-403d-a399-ad4643ed4161\",\"type\":\"GlyphRenderer\"},{\"id\":\"11563f3c-a616-4b64-82d3-4ba36d7e1b17\",\"type\":\"Legend\"},{\"id\":\"a6a0124e-5e69-4d50-a447-be29e5ad1ac8\",\"type\":\"GlyphRenderer\"},{\"id\":\"dbe288db-eeac-4d37-a764-1e103ea7a9a8\",\"type\":\"GlyphRenderer\"},{\"id\":\"7047cae9-bff5-49aa-8549-9b21cca4df58\",\"type\":\"GlyphRenderer\"},{\"id\":\"773fbb53-7a2e-40a6-b83f-558511a1a093\",\"type\":\"LabelSet\"}],\"title\":{\"id\":\"c83d41a9-43cd-47c7-8684-b69799ef6dde\",\"type\":\"Title\"},\"toolbar\":{\"id\":\"c68288da-6d84-4b3b-9ac8-1be1cb8d8d31\",\"type\":\"Toolbar\"},\"toolbar_location\":null,\"x_range\":{\"id\":\"b4a0f73c-87d0-4762-8706-05448453f14a\",\"type\":\"DataRange1d\"},\"x_scale\":{\"id\":\"14357f6a-9506-43c7-9a68-90c60a40bb57\",\"type\":\"LinearScale\"},\"y_range\":{\"id\":\"6573dc80-7f7e-49de-85ac-a07ae25653a8\",\"type\":\"DataRange1d\"},\"y_scale\":{\"id\":\"ef76433c-a3f5-4209-87ee-e5f660f2b5cb\",\"type\":\"LinearScale\"}},\"id\":\"1de471c8-cb0c-4de2-9004-73dceeafcfc5\",\"subtype\":\"Figure\",\"type\":\"Plot\"},{\"attributes\":{\"data_source\":{\"id\":\"939f875b-8b8c-41d6-a570-27c2ef76b9d2\",\"type\":\"ColumnDataSource\"},\"glyph\":{\"id\":\"2c9619ae-24ff-43ce-a3b6-103b9faaeaf5\",\"type\":\"Line\"},\"hover_glyph\":null,\"muted_glyph\":null,\"nonselection_glyph\":{\"id\":\"bb5bda08-fe15-4717-9fc5-166c56f526d0\",\"type\":\"Line\"},\"selection_glyph\":null,\"view\":{\"id\":\"3d01c98c-4270-487b-a7f9-2746904ab735\",\"type\":\"CDSView\"}},\"id\":\"dbe288db-eeac-4d37-a764-1e103ea7a9a8\",\"type\":\"GlyphRenderer\"},{\"attributes\":{\"line_color\":{\"value\":\"gray\"},\"line_dash\":[4,4],\"x\":{\"field\":\"x\"},\"y\":{\"field\":\"y\"}},\"id\":\"2c9619ae-24ff-43ce-a3b6-103b9faaeaf5\",\"type\":\"Line\"},{\"attributes\":{\"plot\":{\"id\":\"be514a70-eb17-4abb-8a6f-93da86d0a66d\",\"subtype\":\"Figure\",\"type\":\"Plot\"},\"source\":{\"id\":\"f923a2ca-a174-4c35-bed1-5283636ac7e8\",\"type\":\"ColumnDataSource\"},\"text\":{\"field\":\"beta\"},\"text_align\":\"center\",\"text_color\":{\"value\":\"#555555\"},\"text_font_size\":{\"value\":\"8pt\"},\"x\":{\"field\":\"small_load\"},\"y\":{\"field\":\"avg_power\"},\"y_offset\":{\"value\":8}},\"id\":\"5b01c522-4143-4ad1-a59f-9c106d130334\",\"type\":\"LabelSet\"},{\"attributes\":{\"line_alpha\":{\"value\":0.1},\"line_color\":{\"value\":\"#1f77b4\"},\"x\":{\"field\":\"x\"},\"y\":{\"field\":\"y\"}},\"id\":\"0442d1d0-190d-45b8-be50-040c70486177\",\"type\":\"Line\"},{\"attributes\":{\"callback\":null},\"id\":\"b4a0f73c-87d0-4762-8706-05448453f14a\",\"type\":\"DataRange1d\"},{\"attributes\":{\"source\":{\"id\":\"b24f41ed-cc7a-40d2-aa01-afebefdd9fd2\",\"type\":\"ColumnDataSource\"}},\"id\":\"f335ebab-b888-4bac-9837-b8ce0c5def62\",\"type\":\"CDSView\"}],\"root_ids\":[\"958fad51-11bc-4a45-925b-342746fd128d\"]},\"title\":\"Bokeh Application\",\"version\":\"0.12.9\"}};\n",
       "    var render_items = [{\"docid\":\"732b7603-27e4-47f6-9448-fbe4582c3c4e\",\"elementid\":\"8b8b135f-a720-4952-a71d-2d021fb1f8b9\",\"modelid\":\"958fad51-11bc-4a45-925b-342746fd128d\"}];\n",
       "\n",
       "    root.Bokeh.embed.embed_items(docs_json, render_items);\n",
       "  }\n",
       "\n",
       "  if (root.Bokeh !== undefined) {\n",
       "    embed_document(root);\n",
       "  } else {\n",
       "    var attempts = 0;\n",
       "    var timer = setInterval(function(root) {\n",
       "      if (root.Bokeh !== undefined) {\n",
       "        embed_document(root);\n",
       "        clearInterval(timer);\n",
       "      }\n",
       "      attempts++;\n",
       "      if (attempts > 100) {\n",
       "        console.log(\"Bokeh: ERROR: Unable to embed document because BokehJS library is missing\")\n",
       "        clearInterval(timer);\n",
       "      }\n",
       "    }, 10, root)\n",
       "  }\n",
       "})(window);"
      ],
      "application/vnd.bokehjs_exec.v0+json": ""
     },
     "metadata": {
      "application/vnd.bokehjs_exec.v0+json": {
       "id": "958fad51-11bc-4a45-925b-342746fd128d"
      }
     },
     "output_type": "display_data"
    }
   ],
   "source": [
    "grid = gridplot([[p,p2]])\n",
    "\n",
    "show(grid)"
   ]
  },
  {
   "cell_type": "code",
   "execution_count": 315,
   "metadata": {},
   "outputs": [
    {
     "data": {
      "text/html": [
       "<div>\n",
       "<style>\n",
       "    .dataframe thead tr:only-child th {\n",
       "        text-align: right;\n",
       "    }\n",
       "\n",
       "    .dataframe thead th {\n",
       "        text-align: left;\n",
       "    }\n",
       "\n",
       "    .dataframe tbody tr th {\n",
       "        vertical-align: top;\n",
       "    }\n",
       "</style>\n",
       "<table border=\"1\" class=\"dataframe\">\n",
       "  <thead>\n",
       "    <tr style=\"text-align: right;\">\n",
       "      <th></th>\n",
       "      <th>beta</th>\n",
       "      <th>relative_idle_time</th>\n",
       "      <th>small_arrival</th>\n",
       "      <th>avg_resp_time</th>\n",
       "      <th>avg_power</th>\n",
       "      <th>small_load</th>\n",
       "    </tr>\n",
       "  </thead>\n",
       "  <tbody>\n",
       "  </tbody>\n",
       "</table>\n",
       "</div>"
      ],
      "text/plain": [
       "Empty DataFrame\n",
       "Columns: [beta, relative_idle_time, small_arrival, avg_resp_time, avg_power, small_load]\n",
       "Index: []"
      ]
     },
     "execution_count": 315,
     "metadata": {},
     "output_type": "execute_result"
    }
   ],
   "source": [
    "df[5:]"
   ]
  },
  {
   "cell_type": "code",
   "execution_count": 330,
   "metadata": {
    "collapsed": true
   },
   "outputs": [],
   "source": [
    "import numpy as np\n",
    "for i in range(28):\n",
    "    if i <16:\n",
    "        r=0\n",
    "    else:\n",
    "        r=1\n",
    "    df_tmp = pd.read_csv('all_runs_'+str(i),skiprows=r,usecols=['beta','small_arrival','avg_idle_time','avg_power','avg_resp_time'],dtype={'beta':np.float64, 'small_arrival':np.float64,'avg_idle_time':np.float64,'avg_power':np.float64})\n",
    "    df = df.append(df_tmp.loc[0])"
   ]
  },
  {
   "cell_type": "code",
   "execution_count": 331,
   "metadata": {
    "collapsed": true
   },
   "outputs": [],
   "source": [
    "df['relative_idle_time'] = df.small_arrival * df.avg_idle_time"
   ]
  },
  {
   "cell_type": "code",
   "execution_count": 332,
   "metadata": {
    "collapsed": true
   },
   "outputs": [],
   "source": [
    "df['relative_idle_time']=df.relative_idle_time.apply(round)"
   ]
  },
  {
   "cell_type": "code",
   "execution_count": 333,
   "metadata": {
    "collapsed": true
   },
   "outputs": [],
   "source": [
    "import copy\n",
    "df = copy.copy(df[['beta','relative_idle_time','small_arrival','avg_resp_time','avg_power']])"
   ]
  },
  {
   "cell_type": "code",
   "execution_count": 334,
   "metadata": {},
   "outputs": [
    {
     "data": {
      "text/html": [
       "<div>\n",
       "<style>\n",
       "    .dataframe thead tr:only-child th {\n",
       "        text-align: right;\n",
       "    }\n",
       "\n",
       "    .dataframe thead th {\n",
       "        text-align: left;\n",
       "    }\n",
       "\n",
       "    .dataframe tbody tr th {\n",
       "        vertical-align: top;\n",
       "    }\n",
       "</style>\n",
       "<table border=\"1\" class=\"dataframe\">\n",
       "  <thead>\n",
       "    <tr style=\"text-align: right;\">\n",
       "      <th></th>\n",
       "      <th>beta</th>\n",
       "      <th>relative_idle_time</th>\n",
       "      <th>small_arrival</th>\n",
       "      <th>avg_resp_time</th>\n",
       "      <th>avg_power</th>\n",
       "      <th>small_load</th>\n",
       "    </tr>\n",
       "  </thead>\n",
       "  <tbody>\n",
       "    <tr>\n",
       "      <th>13</th>\n",
       "      <td>0.00000</td>\n",
       "      <td>0</td>\n",
       "      <td>4.0</td>\n",
       "      <td>0.75441</td>\n",
       "      <td>1281.31</td>\n",
       "      <td>0.213561</td>\n",
       "    </tr>\n",
       "    <tr>\n",
       "      <th>10</th>\n",
       "      <td>0.80785</td>\n",
       "      <td>2</td>\n",
       "      <td>4.0</td>\n",
       "      <td>0.69621</td>\n",
       "      <td>1073.76</td>\n",
       "      <td>0.213561</td>\n",
       "    </tr>\n",
       "    <tr>\n",
       "      <th>9</th>\n",
       "      <td>1.45908</td>\n",
       "      <td>6</td>\n",
       "      <td>4.0</td>\n",
       "      <td>0.46607</td>\n",
       "      <td>1065.65</td>\n",
       "      <td>0.213561</td>\n",
       "    </tr>\n",
       "    <tr>\n",
       "      <th>8</th>\n",
       "      <td>1.21848</td>\n",
       "      <td>4</td>\n",
       "      <td>4.0</td>\n",
       "      <td>0.55521</td>\n",
       "      <td>1068.75</td>\n",
       "      <td>0.213561</td>\n",
       "    </tr>\n",
       "    <tr>\n",
       "      <th>7</th>\n",
       "      <td>1.62559</td>\n",
       "      <td>8</td>\n",
       "      <td>4.0</td>\n",
       "      <td>0.40263</td>\n",
       "      <td>1063.25</td>\n",
       "      <td>0.213561</td>\n",
       "    </tr>\n",
       "  </tbody>\n",
       "</table>\n",
       "</div>"
      ],
      "text/plain": [
       "       beta  relative_idle_time  small_arrival  avg_resp_time  avg_power  \\\n",
       "13  0.00000                   0            4.0        0.75441    1281.31   \n",
       "10  0.80785                   2            4.0        0.69621    1073.76   \n",
       "9   1.45908                   6            4.0        0.46607    1065.65   \n",
       "8   1.21848                   4            4.0        0.55521    1068.75   \n",
       "7   1.62559                   8            4.0        0.40263    1063.25   \n",
       "\n",
       "    small_load  \n",
       "13    0.213561  \n",
       "10    0.213561  \n",
       "9     0.213561  \n",
       "8     0.213561  \n",
       "7     0.213561  "
      ]
     },
     "execution_count": 334,
     "metadata": {},
     "output_type": "execute_result"
    }
   ],
   "source": [
    "df['small_load'] = df.small_arrival / 18.73\n",
    "df.head(5)"
   ]
  },
  {
   "cell_type": "code",
   "execution_count": 338,
   "metadata": {
    "collapsed": true
   },
   "outputs": [],
   "source": [
    "df['idx'] = list(range(56))\n",
    "df.set_index('idx',inplace=True)"
   ]
  },
  {
   "cell_type": "code",
   "execution_count": 354,
   "metadata": {
    "collapsed": true
   },
   "outputs": [],
   "source": [
    "df.beta = df.beta.apply(lambda x: round(x, 4))"
   ]
  },
  {
   "cell_type": "code",
   "execution_count": 348,
   "metadata": {},
   "outputs": [
    {
     "data": {
      "text/html": [
       "<div>\n",
       "<style>\n",
       "    .dataframe thead tr:only-child th {\n",
       "        text-align: right;\n",
       "    }\n",
       "\n",
       "    .dataframe thead th {\n",
       "        text-align: left;\n",
       "    }\n",
       "\n",
       "    .dataframe tbody tr th {\n",
       "        vertical-align: top;\n",
       "    }\n",
       "</style>\n",
       "<table border=\"1\" class=\"dataframe\">\n",
       "  <thead>\n",
       "    <tr style=\"text-align: right;\">\n",
       "      <th></th>\n",
       "      <th>beta</th>\n",
       "      <th>relative_idle_time</th>\n",
       "      <th>small_arrival</th>\n",
       "      <th>avg_resp_time</th>\n",
       "      <th>avg_power</th>\n",
       "      <th>small_load</th>\n",
       "    </tr>\n",
       "    <tr>\n",
       "      <th>idx</th>\n",
       "      <th></th>\n",
       "      <th></th>\n",
       "      <th></th>\n",
       "      <th></th>\n",
       "      <th></th>\n",
       "      <th></th>\n",
       "    </tr>\n",
       "  </thead>\n",
       "  <tbody>\n",
       "    <tr>\n",
       "      <th>0</th>\n",
       "      <td>0.00000</td>\n",
       "      <td>0</td>\n",
       "      <td>4.0</td>\n",
       "      <td>0.75441</td>\n",
       "      <td>1281.31</td>\n",
       "      <td>0.213561</td>\n",
       "    </tr>\n",
       "    <tr>\n",
       "      <th>6</th>\n",
       "      <td>0.50262</td>\n",
       "      <td>1</td>\n",
       "      <td>4.0</td>\n",
       "      <td>0.80249</td>\n",
       "      <td>1077.59</td>\n",
       "      <td>0.213561</td>\n",
       "    </tr>\n",
       "    <tr>\n",
       "      <th>1</th>\n",
       "      <td>0.80785</td>\n",
       "      <td>2</td>\n",
       "      <td>4.0</td>\n",
       "      <td>0.69621</td>\n",
       "      <td>1073.76</td>\n",
       "      <td>0.213561</td>\n",
       "    </tr>\n",
       "    <tr>\n",
       "      <th>3</th>\n",
       "      <td>1.21848</td>\n",
       "      <td>4</td>\n",
       "      <td>4.0</td>\n",
       "      <td>0.55521</td>\n",
       "      <td>1068.75</td>\n",
       "      <td>0.213561</td>\n",
       "    </tr>\n",
       "    <tr>\n",
       "      <th>2</th>\n",
       "      <td>1.45908</td>\n",
       "      <td>6</td>\n",
       "      <td>4.0</td>\n",
       "      <td>0.46607</td>\n",
       "      <td>1065.65</td>\n",
       "      <td>0.213561</td>\n",
       "    </tr>\n",
       "    <tr>\n",
       "      <th>4</th>\n",
       "      <td>1.62559</td>\n",
       "      <td>8</td>\n",
       "      <td>4.0</td>\n",
       "      <td>0.40263</td>\n",
       "      <td>1063.25</td>\n",
       "      <td>0.213561</td>\n",
       "    </tr>\n",
       "    <tr>\n",
       "      <th>5</th>\n",
       "      <td>1.75193</td>\n",
       "      <td>10</td>\n",
       "      <td>4.0</td>\n",
       "      <td>0.35863</td>\n",
       "      <td>1061.62</td>\n",
       "      <td>0.213561</td>\n",
       "    </tr>\n",
       "  </tbody>\n",
       "</table>\n",
       "</div>"
      ],
      "text/plain": [
       "        beta  relative_idle_time  small_arrival  avg_resp_time  avg_power  \\\n",
       "idx                                                                         \n",
       "0    0.00000                   0            4.0        0.75441    1281.31   \n",
       "6    0.50262                   1            4.0        0.80249    1077.59   \n",
       "1    0.80785                   2            4.0        0.69621    1073.76   \n",
       "3    1.21848                   4            4.0        0.55521    1068.75   \n",
       "2    1.45908                   6            4.0        0.46607    1065.65   \n",
       "4    1.62559                   8            4.0        0.40263    1063.25   \n",
       "5    1.75193                  10            4.0        0.35863    1061.62   \n",
       "\n",
       "     small_load  \n",
       "idx              \n",
       "0      0.213561  \n",
       "6      0.213561  \n",
       "1      0.213561  \n",
       "3      0.213561  \n",
       "2      0.213561  \n",
       "4      0.213561  \n",
       "5      0.213561  "
      ]
     },
     "execution_count": 348,
     "metadata": {},
     "output_type": "execute_result"
    }
   ],
   "source": [
    "filtered(4)"
   ]
  },
  {
   "cell_type": "code",
   "execution_count": 45,
   "metadata": {},
   "outputs": [],
   "source": [
    "df=pd.read_csv('setup_0.05/output_1.csv', skiprows=1)\n",
    "\n",
    "#df_rnd = df.loc[:0]\n",
    "if df.iloc[-1][0] > 0:\n",
    "    df = df.iloc[-1:]\n",
    "else:\n",
    "    df = df.iloc[1:2]\n",
    "\n",
    "for i in range(2,45):\n",
    "    df_tmp = pd.read_csv('setup_0.05/output_'+str(i)+'.csv', skiprows=1)\n",
    "    #df_rnd_tmp = df_tmp.loc[0,:]\n",
    "    #df_rnd = df_rnd.append(df_rnd_tmp)\n",
    "    if df_tmp.iloc[-1][0] > 0:\n",
    "        df_tmp = df_tmp.iloc[-1:]\n",
    "    else:\n",
    "        df_tmp = df_tmp.iloc[1:2]\n",
    "    df = df.append(df_tmp)\n",
    "\n",
    "df['relative_idle_time'] = df.small_arrival * df.avg_idle_time\n",
    "#df.relative_idle_time    = df.relative_idle_time.apply(lambda x: round(x))\n",
    "\n",
    "#df_rnd['relative_idle_time'] = df_rnd.small_arrival * df_rnd.avg_idle_time\n",
    "#df_rnd.relative_idle_time    = df_rnd.relative_idle_time.apply(lambda x: round(x))"
   ]
  },
  {
   "cell_type": "code",
   "execution_count": 603,
   "metadata": {
    "collapsed": true
   },
   "outputs": [],
   "source": [
    "df_rel = pd.DataFrame()\n",
    "df_rel['relative_idle_time'] = df.relative_idle_time.apply(lambda x: np.log2(x))\n",
    "df_rel['small_arrival'] = df.small_arrival\n",
    "df_rel['relative_power'] = [df.avg_power.iloc[i] / df_rnd.avg_power.iloc[i] for i in range(1,45)]"
   ]
  },
  {
   "cell_type": "code",
   "execution_count": 32,
   "metadata": {},
   "outputs": [],
   "source": [
    "def logscale(arrival):\n",
    "    rel_idle = df[df.small_arrival==arrival].relative_idle_time\n",
    "    rel_idle = rel_idle.apply(lambda x: np.log2(x)).tolist()\n",
    "    rel_idle.pop(0)\n",
    "    rel_idle.insert(0, -10)\n",
    "    \n",
    "    return rel_idle"
   ]
  },
  {
   "cell_type": "code",
   "execution_count": 46,
   "metadata": {},
   "outputs": [
    {
     "data": {
      "text/html": [
       "\n",
       "<div class=\"bk-root\">\n",
       "    <div class=\"bk-plotdiv\" id=\"0666be8e-78ae-4968-91c8-0d711320de9f\"></div>\n",
       "</div>"
      ]
     },
     "metadata": {},
     "output_type": "display_data"
    },
    {
     "data": {
      "application/javascript": [
       "(function(root) {\n",
       "  function embed_document(root) {\n",
       "    var docs_json = {\"bf3f3f52-141f-4823-99b1-3410cdf46c51\":{\"roots\":{\"references\":[{\"attributes\":{\"callback\":null,\"column_names\":[\"x\",\"y\"],\"data\":{\"x\":[-10,-3.0588936890535687,-2.0588936890535687,-1.0588936890535685,0.0,1.0,2.0,3.0,7.0,9.0,10.0],\"y\":{\"__ndarray__\":\"iiR6GcVyuz8AGM+goX+6P48ZqIx/n7k/LPGAsilXuD8AkX77OnC2P9dppKXydrQ/32xzY3rCsj8tfeiC+paxP4tx/iYUIrA/tXHEWnwKsD9inL8JhQiwPw==\",\"dtype\":\"float64\",\"shape\":[11]}}},\"id\":\"a7d52ebf-36f5-467a-b419-4ca6ebc5f051\",\"type\":\"ColumnDataSource\"},{\"attributes\":{\"bottom_units\":\"screen\",\"fill_alpha\":{\"value\":0.5},\"fill_color\":{\"value\":\"lightgrey\"},\"left_units\":\"screen\",\"level\":\"overlay\",\"line_alpha\":{\"value\":1.0},\"line_color\":{\"value\":\"black\"},\"line_dash\":[4,4],\"line_width\":{\"value\":2},\"plot\":null,\"render_mode\":\"css\",\"right_units\":\"screen\",\"top_units\":\"screen\"},\"id\":\"d36a90c1-db4c-4f7c-98a6-5ba44d5db219\",\"type\":\"BoxAnnotation\"},{\"attributes\":{\"axis_label\":\"idle time in logscale (relative to avg. avarrival time)\",\"axis_label_text_color\":{\"value\":\"black\"},\"formatter\":{\"id\":\"032e0d30-a3ac-4169-aca9-07c7411f1972\",\"type\":\"BasicTickFormatter\"},\"major_label_text_color\":{\"value\":\"black\"},\"plot\":{\"id\":\"780aa804-fcbd-4030-8fc5-6ca1814997b4\",\"subtype\":\"Figure\",\"type\":\"Plot\"},\"ticker\":{\"id\":\"6c613718-a98e-4f62-95fc-846c62096bf4\",\"type\":\"BasicTicker\"}},\"id\":\"2f05f1b9-fbf3-4e84-898e-5ef7f4122a06\",\"type\":\"LinearAxis\"},{\"attributes\":{\"data_source\":{\"id\":\"4c11d238-2774-4c65-97ec-d08c8cbd283b\",\"type\":\"ColumnDataSource\"},\"glyph\":{\"id\":\"0509bb11-d405-4f1f-a7f4-a281380ec00a\",\"type\":\"Line\"},\"hover_glyph\":null,\"muted_glyph\":null,\"nonselection_glyph\":{\"id\":\"d0ec8db2-0eec-4d54-87ed-1268d6d094a4\",\"type\":\"Line\"},\"selection_glyph\":null,\"view\":{\"id\":\"e9df8baa-61cd-42a5-a26c-acef12e4331c\",\"type\":\"CDSView\"}},\"id\":\"c289650e-8384-45f1-8b3f-3c5a58d2a724\",\"type\":\"GlyphRenderer\"},{\"attributes\":{\"line_alpha\":{\"value\":0.1},\"line_color\":{\"value\":\"#1f77b4\"},\"x\":{\"field\":\"x\"},\"y\":{\"field\":\"y\"}},\"id\":\"d0ec8db2-0eec-4d54-87ed-1268d6d094a4\",\"type\":\"Line\"},{\"attributes\":{\"fill_alpha\":{\"value\":0.1},\"fill_color\":{\"value\":\"#1f77b4\"},\"line_alpha\":{\"value\":0.1},\"line_color\":{\"value\":\"#1f77b4\"},\"size\":{\"units\":\"screen\",\"value\":5},\"x\":{\"field\":\"x\"},\"y\":{\"field\":\"y\"}},\"id\":\"e792a7a6-9bdd-4ce0-9881-8fae77ed8456\",\"type\":\"Circle\"},{\"attributes\":{\"fill_color\":{\"value\":\"white\"},\"line_color\":{\"value\":\"navy\"},\"size\":{\"units\":\"screen\",\"value\":5},\"x\":{\"field\":\"x\"},\"y\":{\"field\":\"y\"}},\"id\":\"8c127e67-212a-48f0-9eb7-31486046d11d\",\"type\":\"Circle\"},{\"attributes\":{\"source\":{\"id\":\"47b9f98e-11a8-4df3-a735-425a74a673d1\",\"type\":\"ColumnDataSource\"}},\"id\":\"4e2e6e67-fc54-42ad-9eae-159075ef1cb4\",\"type\":\"CDSView\"},{\"attributes\":{\"active_drag\":\"auto\",\"active_inspect\":\"auto\",\"active_scroll\":\"auto\",\"active_tap\":\"auto\",\"tools\":[{\"id\":\"c97490ea-a331-4b27-9dd8-e29a6ddcd49a\",\"type\":\"PanTool\"},{\"id\":\"c22b0ea0-63e2-4d0a-ab1c-4f21071170f6\",\"type\":\"WheelZoomTool\"},{\"id\":\"6efc388a-8e23-49d7-9ea6-7bacf507dc19\",\"type\":\"BoxZoomTool\"},{\"id\":\"99857ca5-48ea-40d1-8676-2064a42a3f6c\",\"type\":\"SaveTool\"},{\"id\":\"df969bdd-bcd3-4587-b5a1-3dfe8203bbaa\",\"type\":\"ResetTool\"},{\"id\":\"312861b5-feb3-431b-86c2-193335e29d63\",\"type\":\"HelpTool\"}]},\"id\":\"db519b62-ae1a-48b5-8eff-6478b40baba1\",\"type\":\"Toolbar\"},{\"attributes\":{\"callback\":null,\"column_names\":[\"x\",\"y\"],\"data\":{\"x\":[-10,-3.0588936890535687,-2.0588936890535687,-1.0588936890535685,0.02856915219677092,0.9855004303048849,2.007195501404204,2.996388746447621,6.999774561287003,8.999943643624247,10.00002817736235],\"y\":{\"__ndarray__\":\"UfcBSG3ivD94I/PIHwy8P6FP5EnSNbs/zvxqDhDMuT9GKowtBDm4P76fGi/dJLY/ECOERxtHtD9bJVgczvyyP2lv8IXJVLE/QpqxaDo7sT9d4V0u4juxPw==\",\"dtype\":\"float64\",\"shape\":[11]}}},\"id\":\"7c668e6a-fe6a-4f90-bd45-29a40179d9cc\",\"type\":\"ColumnDataSource\"},{\"attributes\":{\"data_source\":{\"id\":\"2e0141d9-c0d4-4f4e-9aad-829d099e2ef5\",\"type\":\"ColumnDataSource\"},\"glyph\":{\"id\":\"8c127e67-212a-48f0-9eb7-31486046d11d\",\"type\":\"Circle\"},\"hover_glyph\":null,\"muted_glyph\":null,\"nonselection_glyph\":{\"id\":\"22c0d6e9-5f3a-40a3-95f0-187b7caea991\",\"type\":\"Circle\"},\"selection_glyph\":null,\"view\":{\"id\":\"adb839b2-fe48-4444-817a-127f6b62ac42\",\"type\":\"CDSView\"}},\"id\":\"d5bdb92a-dc66-4f04-83b5-14ace0c5e6f3\",\"type\":\"GlyphRenderer\"},{\"attributes\":{},\"id\":\"99857ca5-48ea-40d1-8676-2064a42a3f6c\",\"type\":\"SaveTool\"},{\"attributes\":{},\"id\":\"df969bdd-bcd3-4587-b5a1-3dfe8203bbaa\",\"type\":\"ResetTool\"},{\"attributes\":{\"callback\":null},\"id\":\"72ac5bdc-d3aa-44cd-a998-418a6ef1454a\",\"type\":\"DataRange1d\"},{\"attributes\":{\"callback\":null,\"column_names\":[\"x\",\"y\"],\"data\":{\"x\":[-10,-3.0588936890535687,-2.0588936890535687,-1.0588936890535685,0.02856915219677092,0.9855004303048849,2.007195501404204,2.996388746447621,6.999774561287003,8.999943643624247,10.00002817736235],\"y\":{\"__ndarray__\":\"UfcBSG3ivD94I/PIHwy8P6FP5EnSNbs/zvxqDhDMuT9GKowtBDm4P76fGi/dJLY/ECOERxtHtD9bJVgczvyyP2lv8IXJVLE/QpqxaDo7sT9d4V0u4juxPw==\",\"dtype\":\"float64\",\"shape\":[11]}}},\"id\":\"9079e38f-9e3c-4621-97e5-ee359cab9e98\",\"type\":\"ColumnDataSource\"},{\"attributes\":{\"label\":{\"value\":\"Small cell load = 0.5\"},\"renderers\":[{\"id\":\"ed2e9b95-70ff-4111-b6a2-0d986bcc506b\",\"type\":\"GlyphRenderer\"}]},\"id\":\"3f4e5e1c-60d1-4742-b3f7-267b96b4db64\",\"type\":\"LegendItem\"},{\"attributes\":{\"source\":{\"id\":\"dc8bcf91-0afb-4cf7-b29b-64de8a5f9ad8\",\"type\":\"ColumnDataSource\"}},\"id\":\"df625fa2-17c9-4345-a51f-48e783dc2d35\",\"type\":\"CDSView\"},{\"attributes\":{},\"id\":\"8b232a47-4b43-43fd-a311-f7c6888b0a36\",\"type\":\"BasicTickFormatter\"},{\"attributes\":{\"line_color\":{\"value\":\"navy\"},\"x\":{\"field\":\"x\"},\"y\":{\"field\":\"y\"}},\"id\":\"0509bb11-d405-4f1f-a7f4-a281380ec00a\",\"type\":\"Line\"},{\"attributes\":{\"below\":[{\"id\":\"2f05f1b9-fbf3-4e84-898e-5ef7f4122a06\",\"type\":\"LinearAxis\"}],\"left\":[{\"id\":\"aa1435eb-f46d-41f5-9bef-c7a73dd16425\",\"type\":\"LinearAxis\"}],\"outline_line_color\":{\"value\":\"black\"},\"plot_height\":400,\"renderers\":[{\"id\":\"2f05f1b9-fbf3-4e84-898e-5ef7f4122a06\",\"type\":\"LinearAxis\"},{\"id\":\"c494f7c1-3d14-4bb9-9c15-6b14c3b1a97e\",\"type\":\"Grid\"},{\"id\":\"aa1435eb-f46d-41f5-9bef-c7a73dd16425\",\"type\":\"LinearAxis\"},{\"id\":\"3f707b8f-7c67-4429-8384-403a2cde6f43\",\"type\":\"Grid\"},{\"id\":\"d36a90c1-db4c-4f7c-98a6-5ba44d5db219\",\"type\":\"BoxAnnotation\"},{\"id\":\"269f7377-5b1e-4d17-9bb0-1a8484d7062c\",\"type\":\"Legend\"},{\"id\":\"c289650e-8384-45f1-8b3f-3c5a58d2a724\",\"type\":\"GlyphRenderer\"},{\"id\":\"3ad45378-3003-4424-bcd9-145a3e2c1a4f\",\"type\":\"GlyphRenderer\"},{\"id\":\"9ebf59ec-dc25-49d6-8b3b-860915c44714\",\"type\":\"GlyphRenderer\"},{\"id\":\"d5bdb92a-dc66-4f04-83b5-14ace0c5e6f3\",\"type\":\"GlyphRenderer\"},{\"id\":\"5361d781-a3bd-4f54-a771-9a0eb193381d\",\"type\":\"GlyphRenderer\"},{\"id\":\"d4f2501d-3d59-463f-be97-6f52a4330b02\",\"type\":\"GlyphRenderer\"},{\"id\":\"ed2e9b95-70ff-4111-b6a2-0d986bcc506b\",\"type\":\"GlyphRenderer\"},{\"id\":\"45381d28-8d82-4ca2-b9e9-d04bd38e76a5\",\"type\":\"GlyphRenderer\"},{\"id\":\"5fc46b30-1d03-498d-a3b2-63b5efe2992c\",\"type\":\"GlyphRenderer\"}],\"title\":{\"id\":\"a2d90175-1c19-400b-ab76-2afc5ea222d7\",\"type\":\"Title\"},\"toolbar\":{\"id\":\"db519b62-ae1a-48b5-8eff-6478b40baba1\",\"type\":\"Toolbar\"},\"x_range\":{\"id\":\"56870df4-e859-4fbc-bf99-6840833de8fa\",\"type\":\"DataRange1d\"},\"x_scale\":{\"id\":\"45380d58-5aa0-4bcd-9c20-ef004367f1d9\",\"type\":\"LinearScale\"},\"y_range\":{\"id\":\"72ac5bdc-d3aa-44cd-a998-418a6ef1454a\",\"type\":\"DataRange1d\"},\"y_scale\":{\"id\":\"60f75786-964e-4840-9dd5-230f9f9dae53\",\"type\":\"LinearScale\"}},\"id\":\"780aa804-fcbd-4030-8fc5-6ca1814997b4\",\"subtype\":\"Figure\",\"type\":\"Plot\"},{\"attributes\":{\"items\":[{\"id\":\"06e87c94-b339-4ae3-bcee-2cb4eaf0f903\",\"type\":\"LegendItem\"},{\"id\":\"43c06579-4e45-4d2b-8dce-1bec11105d2b\",\"type\":\"LegendItem\"},{\"id\":\"2953ee2e-1e21-4d2b-b7a9-5cbd00b98f50\",\"type\":\"LegendItem\"},{\"id\":\"3f4e5e1c-60d1-4742-b3f7-267b96b4db64\",\"type\":\"LegendItem\"},{\"id\":\"bb9ca670-74ea-41f0-9466-e4d7f310b851\",\"type\":\"LegendItem\"}],\"label_text_color\":{\"value\":\"black\"},\"plot\":{\"id\":\"780aa804-fcbd-4030-8fc5-6ca1814997b4\",\"subtype\":\"Figure\",\"type\":\"Plot\"}},\"id\":\"269f7377-5b1e-4d17-9bb0-1a8484d7062c\",\"type\":\"Legend\"},{\"attributes\":{\"axis_label\":\"Mean response time\",\"axis_label_text_color\":{\"value\":\"black\"},\"formatter\":{\"id\":\"8b232a47-4b43-43fd-a311-f7c6888b0a36\",\"type\":\"BasicTickFormatter\"},\"major_label_text_color\":{\"value\":\"black\"},\"plot\":{\"id\":\"780aa804-fcbd-4030-8fc5-6ca1814997b4\",\"subtype\":\"Figure\",\"type\":\"Plot\"},\"ticker\":{\"id\":\"80f01b31-42c4-49ac-82cd-9774122006d5\",\"type\":\"BasicTicker\"}},\"id\":\"aa1435eb-f46d-41f5-9bef-c7a73dd16425\",\"type\":\"LinearAxis\"},{\"attributes\":{\"callback\":null,\"column_names\":[\"x\",\"y\"],\"data\":{\"x\":[-10,-3.473931188332412,-1.8889686876112561,-0.888968687611256,-0.014499569695115089,0.9855004303048849,1.9855004303048849,3.0018022426339854,6.999774561287003,9.00002817736235,10.00002817736235],\"y\":{\"__ndarray__\":\"oI7HDFTGvz9L5e0IpwW/P6VmD7QCQ74/C7CPTl35vD/RlnMpriq7P35S7dPxmLk/MEeP39v0tz9z9Pi9TX+2P6kwthDkoLQ/JQaBlUOLtD9wlLw6x4C0Pw==\",\"dtype\":\"float64\",\"shape\":[11]}}},\"id\":\"47b9f98e-11a8-4df3-a735-425a74a673d1\",\"type\":\"ColumnDataSource\"},{\"attributes\":{\"fill_alpha\":{\"value\":0.1},\"fill_color\":{\"value\":\"#1f77b4\"},\"line_alpha\":{\"value\":0.1},\"line_color\":{\"value\":\"#1f77b4\"},\"size\":{\"units\":\"screen\",\"value\":5},\"x\":{\"field\":\"x\"},\"y\":{\"field\":\"y\"}},\"id\":\"22c0d6e9-5f3a-40a3-95f0-187b7caea991\",\"type\":\"Circle\"},{\"attributes\":{\"line_color\":{\"value\":\"red\"},\"x\":{\"field\":\"x\"},\"y\":{\"field\":\"y\"}},\"id\":\"82d1bb8a-0193-4986-89b8-7d91c7b6b6f8\",\"type\":\"Line\"},{\"attributes\":{\"source\":{\"id\":\"b32cde15-dfc3-43cc-ab74-25cb3440ef25\",\"type\":\"ColumnDataSource\"}},\"id\":\"1178e306-5323-4a5b-b342-caf90048f359\",\"type\":\"CDSView\"},{\"attributes\":{},\"id\":\"c22b0ea0-63e2-4d0a-ab1c-4f21071170f6\",\"type\":\"WheelZoomTool\"},{\"attributes\":{\"callback\":null},\"id\":\"56870df4-e859-4fbc-bf99-6840833de8fa\",\"type\":\"DataRange1d\"},{\"attributes\":{\"line_color\":{\"value\":\"navy\"},\"line_dash\":[15,2],\"x\":{\"field\":\"x\"},\"y\":{\"field\":\"y\"}},\"id\":\"76b657de-2ec8-4a7d-8eab-e9f32e542687\",\"type\":\"Line\"},{\"attributes\":{\"fill_alpha\":{\"value\":0.1},\"fill_color\":{\"value\":\"#1f77b4\"},\"line_alpha\":{\"value\":0.1},\"line_color\":{\"value\":\"#1f77b4\"},\"size\":{\"units\":\"screen\",\"value\":5},\"x\":{\"field\":\"x\"},\"y\":{\"field\":\"y\"}},\"id\":\"44579461-22eb-4705-8724-dfb16c4c0440\",\"type\":\"Circle\"},{\"attributes\":{\"fill_color\":{\"value\":\"white\"},\"line_color\":{\"value\":\"navy\"},\"size\":{\"units\":\"screen\",\"value\":5},\"x\":{\"field\":\"x\"},\"y\":{\"field\":\"y\"}},\"id\":\"083607f4-bdb1-4776-8a47-ecf5b0ac29e7\",\"type\":\"Circle\"},{\"attributes\":{\"source\":{\"id\":\"2f6a7f62-23f6-4050-a86b-d08333d0028f\",\"type\":\"ColumnDataSource\"}},\"id\":\"a6b31bfc-25e0-4d06-9a66-306c593f3fab\",\"type\":\"CDSView\"},{\"attributes\":{\"dimension\":1,\"grid_line_alpha\":{\"value\":0.1},\"grid_line_dash\":[2,2],\"plot\":{\"id\":\"780aa804-fcbd-4030-8fc5-6ca1814997b4\",\"subtype\":\"Figure\",\"type\":\"Plot\"},\"ticker\":{\"id\":\"80f01b31-42c4-49ac-82cd-9774122006d5\",\"type\":\"BasicTicker\"}},\"id\":\"3f707b8f-7c67-4429-8384-403a2cde6f43\",\"type\":\"Grid\"},{\"attributes\":{\"data_source\":{\"id\":\"7c668e6a-fe6a-4f90-bd45-29a40179d9cc\",\"type\":\"ColumnDataSource\"},\"glyph\":{\"id\":\"c8b62b50-cf53-46ca-8b38-c485e102b30a\",\"type\":\"Circle\"},\"hover_glyph\":null,\"muted_glyph\":null,\"nonselection_glyph\":{\"id\":\"592d8b9e-4732-4ed6-9968-55a1c4935ed6\",\"type\":\"Circle\"},\"selection_glyph\":null,\"view\":{\"id\":\"48e2d425-2ee9-4a80-bada-90eda2b61510\",\"type\":\"CDSView\"}},\"id\":\"d4f2501d-3d59-463f-be97-6f52a4330b02\",\"type\":\"GlyphRenderer\"},{\"attributes\":{\"source\":{\"id\":\"9079e38f-9e3c-4621-97e5-ee359cab9e98\",\"type\":\"ColumnDataSource\"}},\"id\":\"13544b60-8033-41c8-9eb8-798c5156b56a\",\"type\":\"CDSView\"},{\"attributes\":{},\"id\":\"80f01b31-42c4-49ac-82cd-9774122006d5\",\"type\":\"BasicTicker\"},{\"attributes\":{\"data_source\":{\"id\":\"47b9f98e-11a8-4df3-a735-425a74a673d1\",\"type\":\"ColumnDataSource\"},\"glyph\":{\"id\":\"fd6e63b0-0f1d-40d2-b1c2-f824b2d3663e\",\"type\":\"Line\"},\"hover_glyph\":null,\"muted_glyph\":null,\"nonselection_glyph\":{\"id\":\"4f8e6b9e-d45b-437a-ad4b-5dc808ebb18b\",\"type\":\"Line\"},\"selection_glyph\":null,\"view\":{\"id\":\"4e2e6e67-fc54-42ad-9eae-159075ef1cb4\",\"type\":\"CDSView\"}},\"id\":\"ed2e9b95-70ff-4111-b6a2-0d986bcc506b\",\"type\":\"GlyphRenderer\"},{\"attributes\":{\"fill_color\":{\"value\":\"white\"},\"line_color\":{\"value\":\"navy\"},\"size\":{\"units\":\"screen\",\"value\":5},\"x\":{\"field\":\"x\"},\"y\":{\"field\":\"y\"}},\"id\":\"929e50ba-2112-44c5-ba55-0e6f6684cfc1\",\"type\":\"Circle\"},{\"attributes\":{\"source\":{\"id\":\"a7d52ebf-36f5-467a-b419-4ca6ebc5f051\",\"type\":\"ColumnDataSource\"}},\"id\":\"f23d080c-2d1c-4c11-8c24-8ab8a2e3aa48\",\"type\":\"CDSView\"},{\"attributes\":{},\"id\":\"45380d58-5aa0-4bcd-9c20-ef004367f1d9\",\"type\":\"LinearScale\"},{\"attributes\":{\"data_source\":{\"id\":\"dc8bcf91-0afb-4cf7-b29b-64de8a5f9ad8\",\"type\":\"ColumnDataSource\"},\"glyph\":{\"id\":\"82d1bb8a-0193-4986-89b8-7d91c7b6b6f8\",\"type\":\"Line\"},\"hover_glyph\":null,\"muted_glyph\":null,\"nonselection_glyph\":{\"id\":\"1eeb7ebc-9fa8-44a9-9b07-986defa406b1\",\"type\":\"Line\"},\"selection_glyph\":null,\"view\":{\"id\":\"df625fa2-17c9-4345-a51f-48e783dc2d35\",\"type\":\"CDSView\"}},\"id\":\"5fc46b30-1d03-498d-a3b2-63b5efe2992c\",\"type\":\"GlyphRenderer\"},{\"attributes\":{\"fill_alpha\":{\"value\":0.1},\"fill_color\":{\"value\":\"#1f77b4\"},\"line_alpha\":{\"value\":0.1},\"line_color\":{\"value\":\"#1f77b4\"},\"size\":{\"units\":\"screen\",\"value\":5},\"x\":{\"field\":\"x\"},\"y\":{\"field\":\"y\"}},\"id\":\"592d8b9e-4732-4ed6-9968-55a1c4935ed6\",\"type\":\"Circle\"},{\"attributes\":{\"line_color\":{\"value\":\"navy\"},\"line_dash\":[4,4],\"x\":{\"field\":\"x\"},\"y\":{\"field\":\"y\"}},\"id\":\"e1d56e93-d6c0-4b53-9889-eaa209f33628\",\"type\":\"Line\"},{\"attributes\":{\"data_source\":{\"id\":\"9079e38f-9e3c-4621-97e5-ee359cab9e98\",\"type\":\"ColumnDataSource\"},\"glyph\":{\"id\":\"e1d56e93-d6c0-4b53-9889-eaa209f33628\",\"type\":\"Line\"},\"hover_glyph\":null,\"muted_glyph\":null,\"nonselection_glyph\":{\"id\":\"a23ea29a-e87a-4660-81e4-37eccd677e1b\",\"type\":\"Line\"},\"selection_glyph\":null,\"view\":{\"id\":\"13544b60-8033-41c8-9eb8-798c5156b56a\",\"type\":\"CDSView\"}},\"id\":\"5361d781-a3bd-4f54-a771-9a0eb193381d\",\"type\":\"GlyphRenderer\"},{\"attributes\":{},\"id\":\"60f75786-964e-4840-9dd5-230f9f9dae53\",\"type\":\"LinearScale\"},{\"attributes\":{\"callback\":null,\"column_names\":[\"x\",\"y\"],\"data\":{\"x\":[-10,-3.0588936890535687,-2.0,-1.0,0.0,1.0,2.0,3.0,7.0,9.0,10.0],\"y\":{\"__ndarray__\":\"pmH4iJgSuT+Mf59x4UC4P1QdcjPcgLc/jC0EOShhtj889x4uOe60P0gWMIFbd7M/DsNHxJRIsj/04O6s3XaxP9jw9EpZhrA/7vDXZI16sD8/xty1hHywPw==\",\"dtype\":\"float64\",\"shape\":[11]}}},\"id\":\"4c11d238-2774-4c65-97ec-d08c8cbd283b\",\"type\":\"ColumnDataSource\"},{\"attributes\":{},\"id\":\"312861b5-feb3-431b-86c2-193335e29d63\",\"type\":\"HelpTool\"},{\"attributes\":{\"overlay\":{\"id\":\"d36a90c1-db4c-4f7c-98a6-5ba44d5db219\",\"type\":\"BoxAnnotation\"}},\"id\":\"6efc388a-8e23-49d7-9ea6-7bacf507dc19\",\"type\":\"BoxZoomTool\"},{\"attributes\":{\"label\":{\"value\":\"constraint\"},\"renderers\":[{\"id\":\"5fc46b30-1d03-498d-a3b2-63b5efe2992c\",\"type\":\"GlyphRenderer\"}]},\"id\":\"bb9ca670-74ea-41f0-9466-e4d7f310b851\",\"type\":\"LegendItem\"},{\"attributes\":{\"plot\":null,\"text\":\"\"},\"id\":\"a2d90175-1c19-400b-ab76-2afc5ea222d7\",\"type\":\"Title\"},{\"attributes\":{\"line_alpha\":{\"value\":0.1},\"line_color\":{\"value\":\"#1f77b4\"},\"x\":{\"field\":\"x\"},\"y\":{\"field\":\"y\"}},\"id\":\"1eeb7ebc-9fa8-44a9-9b07-986defa406b1\",\"type\":\"Line\"},{\"attributes\":{\"line_alpha\":{\"value\":0.1},\"line_color\":{\"value\":\"#1f77b4\"},\"line_dash\":[15,2],\"x\":{\"field\":\"x\"},\"y\":{\"field\":\"y\"}},\"id\":\"404061d1-3927-42e1-bffb-cb8952d3e5d1\",\"type\":\"Line\"},{\"attributes\":{\"label\":{\"value\":\"Small cell load = 0.05\"},\"renderers\":[{\"id\":\"c289650e-8384-45f1-8b3f-3c5a58d2a724\",\"type\":\"GlyphRenderer\"}]},\"id\":\"06e87c94-b339-4ae3-bcee-2cb4eaf0f903\",\"type\":\"LegendItem\"},{\"attributes\":{\"line_color\":{\"value\":\"navy\"},\"line_dash\":[1,4],\"x\":{\"field\":\"x\"},\"y\":{\"field\":\"y\"}},\"id\":\"fd6e63b0-0f1d-40d2-b1c2-f824b2d3663e\",\"type\":\"Line\"},{\"attributes\":{\"data_source\":{\"id\":\"a7d52ebf-36f5-467a-b419-4ca6ebc5f051\",\"type\":\"ColumnDataSource\"},\"glyph\":{\"id\":\"76b657de-2ec8-4a7d-8eab-e9f32e542687\",\"type\":\"Line\"},\"hover_glyph\":null,\"muted_glyph\":null,\"nonselection_glyph\":{\"id\":\"404061d1-3927-42e1-bffb-cb8952d3e5d1\",\"type\":\"Line\"},\"selection_glyph\":null,\"view\":{\"id\":\"f23d080c-2d1c-4c11-8c24-8ab8a2e3aa48\",\"type\":\"CDSView\"}},\"id\":\"9ebf59ec-dc25-49d6-8b3b-860915c44714\",\"type\":\"GlyphRenderer\"},{\"attributes\":{\"callback\":null,\"column_names\":[\"x\",\"y\"],\"data\":{\"x\":[-10,-3.0588936890535687,-2.0588936890535687,-1.0588936890535685,0.0,1.0,2.0,3.0,7.0,9.0,10.0],\"y\":{\"__ndarray__\":\"iiR6GcVyuz8AGM+goX+6P48ZqIx/n7k/LPGAsilXuD8AkX77OnC2P9dppKXydrQ/32xzY3rCsj8tfeiC+paxP4tx/iYUIrA/tXHEWnwKsD9inL8JhQiwPw==\",\"dtype\":\"float64\",\"shape\":[11]}}},\"id\":\"2e0141d9-c0d4-4f4e-9aad-829d099e2ef5\",\"type\":\"ColumnDataSource\"},{\"attributes\":{\"label\":{\"value\":\"Small cell load = 0.32\"},\"renderers\":[{\"id\":\"5361d781-a3bd-4f54-a771-9a0eb193381d\",\"type\":\"GlyphRenderer\"}]},\"id\":\"2953ee2e-1e21-4d2b-b7a9-5cbd00b98f50\",\"type\":\"LegendItem\"},{\"attributes\":{\"fill_color\":{\"value\":\"white\"},\"line_color\":{\"value\":\"navy\"},\"size\":{\"units\":\"screen\",\"value\":5},\"x\":{\"field\":\"x\"},\"y\":{\"field\":\"y\"}},\"id\":\"c8b62b50-cf53-46ca-8b38-c485e102b30a\",\"type\":\"Circle\"},{\"attributes\":{\"source\":{\"id\":\"7c668e6a-fe6a-4f90-bd45-29a40179d9cc\",\"type\":\"ColumnDataSource\"}},\"id\":\"48e2d425-2ee9-4a80-bada-90eda2b61510\",\"type\":\"CDSView\"},{\"attributes\":{\"label\":{\"value\":\"Small cell load = 0.2\"},\"renderers\":[{\"id\":\"9ebf59ec-dc25-49d6-8b3b-860915c44714\",\"type\":\"GlyphRenderer\"}]},\"id\":\"43c06579-4e45-4d2b-8dce-1bec11105d2b\",\"type\":\"LegendItem\"},{\"attributes\":{\"line_alpha\":{\"value\":0.1},\"line_color\":{\"value\":\"#1f77b4\"},\"line_dash\":[4,4],\"x\":{\"field\":\"x\"},\"y\":{\"field\":\"y\"}},\"id\":\"a23ea29a-e87a-4660-81e4-37eccd677e1b\",\"type\":\"Line\"},{\"attributes\":{\"data_source\":{\"id\":\"b32cde15-dfc3-43cc-ab74-25cb3440ef25\",\"type\":\"ColumnDataSource\"},\"glyph\":{\"id\":\"929e50ba-2112-44c5-ba55-0e6f6684cfc1\",\"type\":\"Circle\"},\"hover_glyph\":null,\"muted_glyph\":null,\"nonselection_glyph\":{\"id\":\"e792a7a6-9bdd-4ce0-9881-8fae77ed8456\",\"type\":\"Circle\"},\"selection_glyph\":null,\"view\":{\"id\":\"1178e306-5323-4a5b-b342-caf90048f359\",\"type\":\"CDSView\"}},\"id\":\"3ad45378-3003-4424-bcd9-145a3e2c1a4f\",\"type\":\"GlyphRenderer\"},{\"attributes\":{},\"id\":\"c97490ea-a331-4b27-9dd8-e29a6ddcd49a\",\"type\":\"PanTool\"},{\"attributes\":{\"callback\":null,\"column_names\":[\"x\",\"y\"],\"data\":{\"x\":[-10,-3.0588936890535687,-2.0,-1.0,0.0,1.0,2.0,3.0,7.0,9.0,10.0],\"y\":{\"__ndarray__\":\"pmH4iJgSuT+Mf59x4UC4P1QdcjPcgLc/jC0EOShhtj889x4uOe60P0gWMIFbd7M/DsNHxJRIsj/04O6s3XaxP9jw9EpZhrA/7vDXZI16sD8/xty1hHywPw==\",\"dtype\":\"float64\",\"shape\":[11]}}},\"id\":\"b32cde15-dfc3-43cc-ab74-25cb3440ef25\",\"type\":\"ColumnDataSource\"},{\"attributes\":{},\"id\":\"6c613718-a98e-4f62-95fc-846c62096bf4\",\"type\":\"BasicTicker\"},{\"attributes\":{\"grid_line_alpha\":{\"value\":0.1},\"grid_line_dash\":[2,2],\"plot\":{\"id\":\"780aa804-fcbd-4030-8fc5-6ca1814997b4\",\"subtype\":\"Figure\",\"type\":\"Plot\"},\"ticker\":{\"id\":\"6c613718-a98e-4f62-95fc-846c62096bf4\",\"type\":\"BasicTicker\"}},\"id\":\"c494f7c1-3d14-4bb9-9c15-6b14c3b1a97e\",\"type\":\"Grid\"},{\"attributes\":{\"callback\":null,\"column_names\":[\"x\",\"y\"],\"data\":{\"x\":[-10,-3.473931188332412,-1.8889686876112561,-0.888968687611256,-0.014499569695115089,0.9855004303048849,1.9855004303048849,3.0018022426339854,6.999774561287003,9.00002817736235,10.00002817736235],\"y\":{\"__ndarray__\":\"oI7HDFTGvz9L5e0IpwW/P6VmD7QCQ74/C7CPTl35vD/RlnMpriq7P35S7dPxmLk/MEeP39v0tz9z9Pi9TX+2P6kwthDkoLQ/JQaBlUOLtD9wlLw6x4C0Pw==\",\"dtype\":\"float64\",\"shape\":[11]}}},\"id\":\"2f6a7f62-23f6-4050-a86b-d08333d0028f\",\"type\":\"ColumnDataSource\"},{\"attributes\":{\"data_source\":{\"id\":\"2f6a7f62-23f6-4050-a86b-d08333d0028f\",\"type\":\"ColumnDataSource\"},\"glyph\":{\"id\":\"083607f4-bdb1-4776-8a47-ecf5b0ac29e7\",\"type\":\"Circle\"},\"hover_glyph\":null,\"muted_glyph\":null,\"nonselection_glyph\":{\"id\":\"44579461-22eb-4705-8724-dfb16c4c0440\",\"type\":\"Circle\"},\"selection_glyph\":null,\"view\":{\"id\":\"a6b31bfc-25e0-4d06-9a66-306c593f3fab\",\"type\":\"CDSView\"}},\"id\":\"45381d28-8d82-4ca2-b9e9-d04bd38e76a5\",\"type\":\"GlyphRenderer\"},{\"attributes\":{\"callback\":null,\"column_names\":[\"x\",\"y\"],\"data\":{\"x\":[-10,0,1,2,10],\"y\":{\"__ndarray__\":\"mpmZmZmZuT+amZmZmZm5P5qZmZmZmbk/mpmZmZmZuT+amZmZmZm5Pw==\",\"dtype\":\"float64\",\"shape\":[5]}}},\"id\":\"dc8bcf91-0afb-4cf7-b29b-64de8a5f9ad8\",\"type\":\"ColumnDataSource\"},{\"attributes\":{},\"id\":\"032e0d30-a3ac-4169-aca9-07c7411f1972\",\"type\":\"BasicTickFormatter\"},{\"attributes\":{\"source\":{\"id\":\"2e0141d9-c0d4-4f4e-9aad-829d099e2ef5\",\"type\":\"ColumnDataSource\"}},\"id\":\"adb839b2-fe48-4444-817a-127f6b62ac42\",\"type\":\"CDSView\"},{\"attributes\":{\"source\":{\"id\":\"4c11d238-2774-4c65-97ec-d08c8cbd283b\",\"type\":\"ColumnDataSource\"}},\"id\":\"e9df8baa-61cd-42a5-a26c-acef12e4331c\",\"type\":\"CDSView\"},{\"attributes\":{\"line_alpha\":{\"value\":0.1},\"line_color\":{\"value\":\"#1f77b4\"},\"line_dash\":[1,4],\"x\":{\"field\":\"x\"},\"y\":{\"field\":\"y\"}},\"id\":\"4f8e6b9e-d45b-437a-ad4b-5dc808ebb18b\",\"type\":\"Line\"}],\"root_ids\":[\"780aa804-fcbd-4030-8fc5-6ca1814997b4\"]},\"title\":\"Bokeh Application\",\"version\":\"0.12.10\"}};\n",
       "    var render_items = [{\"docid\":\"bf3f3f52-141f-4823-99b1-3410cdf46c51\",\"elementid\":\"0666be8e-78ae-4968-91c8-0d711320de9f\",\"modelid\":\"780aa804-fcbd-4030-8fc5-6ca1814997b4\"}];\n",
       "\n",
       "    root.Bokeh.embed.embed_items(docs_json, render_items);\n",
       "  }\n",
       "\n",
       "  if (root.Bokeh !== undefined) {\n",
       "    embed_document(root);\n",
       "  } else {\n",
       "    var attempts = 0;\n",
       "    var timer = setInterval(function(root) {\n",
       "      if (root.Bokeh !== undefined) {\n",
       "        embed_document(root);\n",
       "        clearInterval(timer);\n",
       "      }\n",
       "      attempts++;\n",
       "      if (attempts > 100) {\n",
       "        console.log(\"Bokeh: ERROR: Unable to embed document because BokehJS library is missing\")\n",
       "        clearInterval(timer);\n",
       "      }\n",
       "    }, 10, root)\n",
       "  }\n",
       "})(window);"
      ],
      "application/vnd.bokehjs_exec.v0+json": ""
     },
     "metadata": {
      "application/vnd.bokehjs_exec.v0+json": {
       "id": "780aa804-fcbd-4030-8fc5-6ca1814997b4"
      }
     },
     "output_type": "display_data"
    }
   ],
   "source": [
    "p0 = figure(plot_width=600, plot_height=400)\n",
    "\n",
    "#source = ColumnDataSource(df.loc[0:27])\n",
    "\n",
    "p0.line(logscale(1), df[df.small_arrival==1].avg_resp_time, line_color='navy',legend='Small cell load = 0.05')\n",
    "p0.circle(logscale(1), df[df.small_arrival==1].avg_resp_time, color='white', line_color='navy',size=5)\n",
    "p0.line(logscale(4), df[df.small_arrival==4].avg_resp_time, line_color='navy',line_dash=\"15 2\",legend='Small cell load = 0.2')\n",
    "p0.circle(logscale(4), df[df.small_arrival==4].avg_resp_time, color='white', line_color='navy',size=5)\n",
    "\n",
    "p0.line(logscale(6), df[df.small_arrival==6].avg_resp_time, line_color='navy',line_dash=\"4 4\",legend='Small cell load = 0.32')\n",
    "p0.circle(logscale(6), df[df.small_arrival==6].avg_resp_time, color='white', line_color='navy',size=5)\n",
    "\n",
    "p0.line(logscale(9), df[df.small_arrival==9].avg_resp_time, line_color='navy',line_dash=\"1 4\",legend='Small cell load = 0.5')\n",
    "p0.circle(logscale(9), df[df.small_arrival==9].avg_resp_time, color='white', line_color='navy',size=5)\n",
    "\n",
    "\n",
    "\n",
    "p0.line([-10,0,1,2,10],0.1*np.ones(5),line_color='red',legend='constraint')\n",
    "\n",
    "p0.grid.grid_line_dash = [2,2]\n",
    "p0.grid.grid_line_alpha = 0.1\n",
    "p0.outline_line_color = 'black'\n",
    "\n",
    "p0.xaxis.axis_label = 'idle time in logscale (relative to avg. avarrival time)'\n",
    "p0.yaxis.axis_label = 'Mean response time'\n",
    "\n",
    "p0.xaxis.axis_label_text_color = 'black'\n",
    "p0.xaxis.major_label_text_color = 'black'\n",
    "p0.yaxis.axis_label_text_color = 'black'\n",
    "p0.yaxis.major_label_text_color = 'black'\n",
    "p0.legend.label_text_color = 'black'\n",
    "\n",
    "p0.legend.location  = 'top_right'\n",
    "\n",
    "show(p0)"
   ]
  },
  {
   "cell_type": "code",
   "execution_count": 47,
   "metadata": {},
   "outputs": [
    {
     "data": {
      "text/html": [
       "\n",
       "<div class=\"bk-root\">\n",
       "    <div class=\"bk-plotdiv\" id=\"56dc6ed2-97aa-4273-b399-48173e05d708\"></div>\n",
       "</div>"
      ]
     },
     "metadata": {},
     "output_type": "display_data"
    },
    {
     "data": {
      "application/javascript": [
       "(function(root) {\n",
       "  function embed_document(root) {\n",
       "    var docs_json = {\"55d5c576-4a2e-42d3-9f5e-87aa029c6d93\":{\"roots\":{\"references\":[{\"attributes\":{\"bottom_units\":\"screen\",\"fill_alpha\":{\"value\":0.5},\"fill_color\":{\"value\":\"lightgrey\"},\"left_units\":\"screen\",\"level\":\"overlay\",\"line_alpha\":{\"value\":1.0},\"line_color\":{\"value\":\"black\"},\"line_dash\":[4,4],\"line_width\":{\"value\":2},\"plot\":null,\"render_mode\":\"css\",\"right_units\":\"screen\",\"top_units\":\"screen\"},\"id\":\"a18d0a74-98ba-4535-9258-75bbccda08d3\",\"type\":\"BoxAnnotation\"},{\"attributes\":{\"line_alpha\":{\"value\":0.1},\"line_color\":{\"value\":\"#1f77b4\"},\"line_dash\":[1,4],\"x\":{\"field\":\"x\"},\"y\":{\"field\":\"y\"}},\"id\":\"7d2debb1-4231-4edb-bb3f-62d9762e4b66\",\"type\":\"Line\"},{\"attributes\":{\"source\":{\"id\":\"87579e43-7e78-4c98-9177-9747fcc124ec\",\"type\":\"ColumnDataSource\"}},\"id\":\"46a24e34-5f01-470f-9814-447e95b43b92\",\"type\":\"CDSView\"},{\"attributes\":{},\"id\":\"037314b1-2b48-436e-b467-021c2591be14\",\"type\":\"BasicTicker\"},{\"attributes\":{\"data_source\":{\"id\":\"3ce7ba46-c9bb-41d8-b8d0-c5f413e6bc76\",\"type\":\"ColumnDataSource\"},\"glyph\":{\"id\":\"b2baa6b5-cf04-4de0-905c-c3ec6dda2b33\",\"type\":\"Line\"},\"hover_glyph\":null,\"muted_glyph\":null,\"nonselection_glyph\":{\"id\":\"9b6c9446-ae61-4267-9b70-cf0e9291cb6b\",\"type\":\"Line\"},\"selection_glyph\":null,\"view\":{\"id\":\"ea7c4b96-9d72-4052-aae3-4e95f684ad3e\",\"type\":\"CDSView\"}},\"id\":\"fde64b15-24d4-42fa-b99b-896177f68df8\",\"type\":\"GlyphRenderer\"},{\"attributes\":{\"source\":{\"id\":\"aa123e59-c32c-4874-a616-fc10357649f8\",\"type\":\"ColumnDataSource\"}},\"id\":\"4bd4f5c0-8b6c-4e27-aa39-81515ec4f56b\",\"type\":\"CDSView\"},{\"attributes\":{\"line_color\":{\"value\":\"navy\"},\"x\":{\"field\":\"x\"},\"y\":{\"field\":\"y\"}},\"id\":\"729432a5-5b88-4b36-9ff0-46efa1c420fa\",\"type\":\"Line\"},{\"attributes\":{\"plot\":null,\"text\":\"\"},\"id\":\"366b1a00-7b2d-45eb-86e6-08adba674b53\",\"type\":\"Title\"},{\"attributes\":{\"label\":{\"value\":\"Small cell load = 0.2\"},\"renderers\":[{\"id\":\"fde64b15-24d4-42fa-b99b-896177f68df8\",\"type\":\"GlyphRenderer\"}]},\"id\":\"71695d91-3f4b-4619-8fdf-44dc06783a1a\",\"type\":\"LegendItem\"},{\"attributes\":{\"callback\":null,\"column_names\":[\"x\",\"y\"],\"data\":{\"x\":[-10,-3.0588936890535687,-2.0588936890535687,-1.0588936890535685,0.02856915219677092,0.9855004303048849,2.007195501404204,2.996388746447621,6.999774561287003,8.999943643624247,10.00002817736235],\"y\":{\"__ndarray__\":\"KVyPwvVMjkCuR+F6FKSOQNejcD0K4Y5AKVyPwvVAj0DsUbgehemOQIXrUbgem49ApHA9CtcbkEDXo3A9ClSQQOF6FK5HlZBA9ihcj8KZkEB7FK5H4ZmQQA==\",\"dtype\":\"float64\",\"shape\":[11]}}},\"id\":\"25cfeb3f-5c92-4811-811c-2d791098813f\",\"type\":\"ColumnDataSource\"},{\"attributes\":{\"callback\":null,\"column_names\":[\"x\",\"y\"],\"data\":{\"x\":[-10,-3.473931188332412,-1.8889686876112561,-0.888968687611256,-0.014499569695115089,0.9855004303048849,1.9855004303048849,3.0018022426339854,6.999774561287003,9.00002817736235,10.00002817736235],\"y\":{\"__ndarray__\":\"mpmZmZnokEApXI/C9fyQQOF6FK5HCpFAuB6F61EdkUDD9ShcjzaRQGZmZmZmf5BAuB6F61GEkEBSuB6F66yQQHsUrkfh3ZBAmpmZmZngkEApXI/C9eCQQA==\",\"dtype\":\"float64\",\"shape\":[11]}}},\"id\":\"17cb68e5-4cef-4f61-ad0b-4e3ea8610cb4\",\"type\":\"ColumnDataSource\"},{\"attributes\":{},\"id\":\"37b07364-80dd-4106-8bcf-ef86cd177038\",\"type\":\"SaveTool\"},{\"attributes\":{\"dimension\":1,\"grid_line_alpha\":{\"value\":0.1},\"grid_line_dash\":[2,2],\"plot\":{\"id\":\"9a39afd8-b373-445d-86b9-961df88b3ab6\",\"subtype\":\"Figure\",\"type\":\"Plot\"},\"ticker\":{\"id\":\"037314b1-2b48-436e-b467-021c2591be14\",\"type\":\"BasicTicker\"}},\"id\":\"b7ba10fe-3b30-41ba-adf2-16378c199930\",\"type\":\"Grid\"},{\"attributes\":{\"callback\":null,\"column_names\":[\"x\",\"y\"],\"data\":{\"x\":[-10,-3.0588936890535687,-2.0,-1.0,0.0,1.0,2.0,3.0,7.0,9.0,10.0],\"y\":{\"__ndarray__\":\"UrgeheuHiECuR+F6FFyJQD0K16NwBYpAFK5H4XoGi0CF61G4Hk2MQM3MzMzMmI1AzczMzMymjkBSuB6F61uPQFK4HoXrF5BArkfhehQekED2KFyPwh+QQA==\",\"dtype\":\"float64\",\"shape\":[11]}}},\"id\":\"24f66d4f-4ec3-49e3-9303-819023393f33\",\"type\":\"ColumnDataSource\"},{\"attributes\":{},\"id\":\"348e219a-a757-415b-aff6-51105f128f9b\",\"type\":\"PanTool\"},{\"attributes\":{\"fill_alpha\":{\"value\":0.1},\"fill_color\":{\"value\":\"#1f77b4\"},\"line_alpha\":{\"value\":0.1},\"line_color\":{\"value\":\"#1f77b4\"},\"size\":{\"units\":\"screen\",\"value\":5},\"x\":{\"field\":\"x\"},\"y\":{\"field\":\"y\"}},\"id\":\"b9b58101-1ee6-4824-90be-70d603065f87\",\"type\":\"Circle\"},{\"attributes\":{\"callback\":null},\"id\":\"d596d03c-601e-4ceb-922f-b08607c471eb\",\"type\":\"DataRange1d\"},{\"attributes\":{\"label\":{\"value\":\"Small cell load = 0.5\"},\"renderers\":[{\"id\":\"7209eb71-cd47-435d-93d4-e5556bb50850\",\"type\":\"GlyphRenderer\"}]},\"id\":\"9876cb1b-8d98-4ec0-ae72-1b13453eea3b\",\"type\":\"LegendItem\"},{\"attributes\":{\"data_source\":{\"id\":\"24f66d4f-4ec3-49e3-9303-819023393f33\",\"type\":\"ColumnDataSource\"},\"glyph\":{\"id\":\"729432a5-5b88-4b36-9ff0-46efa1c420fa\",\"type\":\"Line\"},\"hover_glyph\":null,\"muted_glyph\":null,\"nonselection_glyph\":{\"id\":\"75e14e51-8dd2-4858-8cce-7645451ce164\",\"type\":\"Line\"},\"selection_glyph\":null,\"view\":{\"id\":\"bd1d0a4c-8a3d-4637-9c09-19f608b45d40\",\"type\":\"CDSView\"}},\"id\":\"c33b4822-56c7-430c-b748-aa2093ec9733\",\"type\":\"GlyphRenderer\"},{\"attributes\":{\"fill_color\":{\"value\":\"white\"},\"line_color\":{\"value\":\"navy\"},\"size\":{\"units\":\"screen\",\"value\":5},\"x\":{\"field\":\"x\"},\"y\":{\"field\":\"y\"}},\"id\":\"7d73fdca-e818-4a48-94b4-c19f6d854fa7\",\"type\":\"Circle\"},{\"attributes\":{},\"id\":\"6b06d69c-bf8c-422b-aa53-911636adae89\",\"type\":\"ResetTool\"},{\"attributes\":{\"data_source\":{\"id\":\"25cfeb3f-5c92-4811-811c-2d791098813f\",\"type\":\"ColumnDataSource\"},\"glyph\":{\"id\":\"f0c639ee-e3f7-44f3-9258-a1f09793a940\",\"type\":\"Line\"},\"hover_glyph\":null,\"muted_glyph\":null,\"nonselection_glyph\":{\"id\":\"f8ab9346-ae65-4713-9c76-8b1d9cfa7236\",\"type\":\"Line\"},\"selection_glyph\":null,\"view\":{\"id\":\"8602712d-e98e-4ec9-affa-edb6dfe171d0\",\"type\":\"CDSView\"}},\"id\":\"b55eba6f-e38b-469b-8bc3-b92f7f344d9a\",\"type\":\"GlyphRenderer\"},{\"attributes\":{},\"id\":\"fd25a55b-973f-4cc2-9c73-00cca67dcb08\",\"type\":\"LinearScale\"},{\"attributes\":{},\"id\":\"be9d4cc6-767d-4fa6-952d-7a874f34fb52\",\"type\":\"LinearScale\"},{\"attributes\":{\"data_source\":{\"id\":\"5e3b01c2-36ec-4c0b-84cb-d3cd69a8a810\",\"type\":\"ColumnDataSource\"},\"glyph\":{\"id\":\"f6a20f40-9320-4bfa-bba4-5aa46e40fa9d\",\"type\":\"Circle\"},\"hover_glyph\":null,\"muted_glyph\":null,\"nonselection_glyph\":{\"id\":\"b9b58101-1ee6-4824-90be-70d603065f87\",\"type\":\"Circle\"},\"selection_glyph\":null,\"view\":{\"id\":\"70ff699a-aff0-4ea1-9fbe-2bfdb24dfa89\",\"type\":\"CDSView\"}},\"id\":\"273f45ab-6ea4-4369-aaf9-b198f37a8244\",\"type\":\"GlyphRenderer\"},{\"attributes\":{\"callback\":null,\"column_names\":[\"x\",\"y\"],\"data\":{\"x\":[-10,-3.0588936890535687,-2.0,-1.0,0.0,1.0,2.0,3.0,7.0,9.0,10.0],\"y\":{\"__ndarray__\":\"UrgeheuHiECuR+F6FFyJQD0K16NwBYpAFK5H4XoGi0CF61G4Hk2MQM3MzMzMmI1AzczMzMymjkBSuB6F61uPQFK4HoXrF5BArkfhehQekED2KFyPwh+QQA==\",\"dtype\":\"float64\",\"shape\":[11]}}},\"id\":\"5e3b01c2-36ec-4c0b-84cb-d3cd69a8a810\",\"type\":\"ColumnDataSource\"},{\"attributes\":{\"axis_label\":\"idle time in logscale (relative to avg. avarrival time)\",\"axis_label_text_color\":{\"value\":\"black\"},\"formatter\":{\"id\":\"632b1cd5-8a5d-4405-bdb1-32b72b3cd415\",\"type\":\"BasicTickFormatter\"},\"major_label_text_color\":{\"value\":\"black\"},\"plot\":{\"id\":\"9a39afd8-b373-445d-86b9-961df88b3ab6\",\"subtype\":\"Figure\",\"type\":\"Plot\"},\"ticker\":{\"id\":\"9f4050f5-dd1a-478a-a507-8205085511e0\",\"type\":\"BasicTicker\"}},\"id\":\"2d8f8217-413e-4bb6-9e96-ed2118046fbb\",\"type\":\"LinearAxis\"},{\"attributes\":{\"items\":[{\"id\":\"c411ca9f-8abf-4f1d-8e22-0085a9fb2a3e\",\"type\":\"LegendItem\"},{\"id\":\"71695d91-3f4b-4619-8fdf-44dc06783a1a\",\"type\":\"LegendItem\"},{\"id\":\"d8aec444-dbe7-4202-919f-14f5db0ebe5c\",\"type\":\"LegendItem\"},{\"id\":\"9876cb1b-8d98-4ec0-ae72-1b13453eea3b\",\"type\":\"LegendItem\"}],\"label_text_color\":{\"value\":\"black\"},\"location\":\"bottom_right\",\"plot\":{\"id\":\"9a39afd8-b373-445d-86b9-961df88b3ab6\",\"subtype\":\"Figure\",\"type\":\"Plot\"}},\"id\":\"aca59e2b-dfe7-4876-8268-1b28285808dc\",\"type\":\"Legend\"},{\"attributes\":{},\"id\":\"4b94d0b4-dfa6-4a38-a917-8cfa3bad02d7\",\"type\":\"BasicTickFormatter\"},{\"attributes\":{\"data_source\":{\"id\":\"aa123e59-c32c-4874-a616-fc10357649f8\",\"type\":\"ColumnDataSource\"},\"glyph\":{\"id\":\"28dafeff-c9bd-49f7-8e35-e8e4843f3b2b\",\"type\":\"Circle\"},\"hover_glyph\":null,\"muted_glyph\":null,\"nonselection_glyph\":{\"id\":\"f109fed8-80e3-48d0-b086-330e82609ca7\",\"type\":\"Circle\"},\"selection_glyph\":null,\"view\":{\"id\":\"4bd4f5c0-8b6c-4e27-aa39-81515ec4f56b\",\"type\":\"CDSView\"}},\"id\":\"39b24f8a-178f-4290-a684-b097ebaa7dd3\",\"type\":\"GlyphRenderer\"},{\"attributes\":{\"grid_line_alpha\":{\"value\":0.1},\"grid_line_dash\":[2,2],\"plot\":{\"id\":\"9a39afd8-b373-445d-86b9-961df88b3ab6\",\"subtype\":\"Figure\",\"type\":\"Plot\"},\"ticker\":{\"id\":\"9f4050f5-dd1a-478a-a507-8205085511e0\",\"type\":\"BasicTicker\"}},\"id\":\"59008894-40a7-458f-a40e-5e9b9016a75a\",\"type\":\"Grid\"},{\"attributes\":{},\"id\":\"632b1cd5-8a5d-4405-bdb1-32b72b3cd415\",\"type\":\"BasicTickFormatter\"},{\"attributes\":{\"below\":[{\"id\":\"2d8f8217-413e-4bb6-9e96-ed2118046fbb\",\"type\":\"LinearAxis\"}],\"left\":[{\"id\":\"b689c9cd-a871-45b9-ada2-0eac8cbe4c36\",\"type\":\"LinearAxis\"}],\"outline_line_color\":{\"value\":\"black\"},\"plot_height\":400,\"renderers\":[{\"id\":\"2d8f8217-413e-4bb6-9e96-ed2118046fbb\",\"type\":\"LinearAxis\"},{\"id\":\"59008894-40a7-458f-a40e-5e9b9016a75a\",\"type\":\"Grid\"},{\"id\":\"b689c9cd-a871-45b9-ada2-0eac8cbe4c36\",\"type\":\"LinearAxis\"},{\"id\":\"b7ba10fe-3b30-41ba-adf2-16378c199930\",\"type\":\"Grid\"},{\"id\":\"a18d0a74-98ba-4535-9258-75bbccda08d3\",\"type\":\"BoxAnnotation\"},{\"id\":\"aca59e2b-dfe7-4876-8268-1b28285808dc\",\"type\":\"Legend\"},{\"id\":\"c33b4822-56c7-430c-b748-aa2093ec9733\",\"type\":\"GlyphRenderer\"},{\"id\":\"273f45ab-6ea4-4369-aaf9-b198f37a8244\",\"type\":\"GlyphRenderer\"},{\"id\":\"fde64b15-24d4-42fa-b99b-896177f68df8\",\"type\":\"GlyphRenderer\"},{\"id\":\"98442285-cb72-4299-bbc5-caef0ee2a601\",\"type\":\"GlyphRenderer\"},{\"id\":\"b55eba6f-e38b-469b-8bc3-b92f7f344d9a\",\"type\":\"GlyphRenderer\"},{\"id\":\"a7d223b8-0485-43bf-bb38-81aa6449416a\",\"type\":\"GlyphRenderer\"},{\"id\":\"7209eb71-cd47-435d-93d4-e5556bb50850\",\"type\":\"GlyphRenderer\"},{\"id\":\"39b24f8a-178f-4290-a684-b097ebaa7dd3\",\"type\":\"GlyphRenderer\"}],\"title\":{\"id\":\"366b1a00-7b2d-45eb-86e6-08adba674b53\",\"type\":\"Title\"},\"toolbar\":{\"id\":\"6f259f07-3de0-44d1-bd29-376181fe50dc\",\"type\":\"Toolbar\"},\"x_range\":{\"id\":\"f93997c2-cd0f-47d4-a100-3dc311c6203a\",\"type\":\"DataRange1d\"},\"x_scale\":{\"id\":\"be9d4cc6-767d-4fa6-952d-7a874f34fb52\",\"type\":\"LinearScale\"},\"y_range\":{\"id\":\"d596d03c-601e-4ceb-922f-b08607c471eb\",\"type\":\"DataRange1d\"},\"y_scale\":{\"id\":\"fd25a55b-973f-4cc2-9c73-00cca67dcb08\",\"type\":\"LinearScale\"}},\"id\":\"9a39afd8-b373-445d-86b9-961df88b3ab6\",\"subtype\":\"Figure\",\"type\":\"Plot\"},{\"attributes\":{\"label\":{\"value\":\"Small cell load = 0.05\"},\"renderers\":[{\"id\":\"c33b4822-56c7-430c-b748-aa2093ec9733\",\"type\":\"GlyphRenderer\"}]},\"id\":\"c411ca9f-8abf-4f1d-8e22-0085a9fb2a3e\",\"type\":\"LegendItem\"},{\"attributes\":{\"source\":{\"id\":\"17cb68e5-4cef-4f61-ad0b-4e3ea8610cb4\",\"type\":\"ColumnDataSource\"}},\"id\":\"bb01b459-97be-4f7e-b0e5-537a1e227d07\",\"type\":\"CDSView\"},{\"attributes\":{\"data_source\":{\"id\":\"c80fa39b-4156-49da-a6ac-76fab1f36b5c\",\"type\":\"ColumnDataSource\"},\"glyph\":{\"id\":\"7d73fdca-e818-4a48-94b4-c19f6d854fa7\",\"type\":\"Circle\"},\"hover_glyph\":null,\"muted_glyph\":null,\"nonselection_glyph\":{\"id\":\"17c4fa33-758a-40cb-bbbf-92ea9bed37b2\",\"type\":\"Circle\"},\"selection_glyph\":null,\"view\":{\"id\":\"55fe4504-3ef5-4664-8d1a-164c2202abf0\",\"type\":\"CDSView\"}},\"id\":\"a7d223b8-0485-43bf-bb38-81aa6449416a\",\"type\":\"GlyphRenderer\"},{\"attributes\":{\"fill_alpha\":{\"value\":0.1},\"fill_color\":{\"value\":\"#1f77b4\"},\"line_alpha\":{\"value\":0.1},\"line_color\":{\"value\":\"#1f77b4\"},\"size\":{\"units\":\"screen\",\"value\":5},\"x\":{\"field\":\"x\"},\"y\":{\"field\":\"y\"}},\"id\":\"f109fed8-80e3-48d0-b086-330e82609ca7\",\"type\":\"Circle\"},{\"attributes\":{\"label\":{\"value\":\"Small cell load = 0.32\"},\"renderers\":[{\"id\":\"b55eba6f-e38b-469b-8bc3-b92f7f344d9a\",\"type\":\"GlyphRenderer\"}]},\"id\":\"d8aec444-dbe7-4202-919f-14f5db0ebe5c\",\"type\":\"LegendItem\"},{\"attributes\":{\"fill_color\":{\"value\":\"white\"},\"line_color\":{\"value\":\"navy\"},\"size\":{\"units\":\"screen\",\"value\":5},\"x\":{\"field\":\"x\"},\"y\":{\"field\":\"y\"}},\"id\":\"6f18ba46-be0c-42ce-b3ff-c912596dd5b7\",\"type\":\"Circle\"},{\"attributes\":{\"fill_color\":{\"value\":\"white\"},\"line_color\":{\"value\":\"navy\"},\"size\":{\"units\":\"screen\",\"value\":5},\"x\":{\"field\":\"x\"},\"y\":{\"field\":\"y\"}},\"id\":\"f6a20f40-9320-4bfa-bba4-5aa46e40fa9d\",\"type\":\"Circle\"},{\"attributes\":{},\"id\":\"9f4050f5-dd1a-478a-a507-8205085511e0\",\"type\":\"BasicTicker\"},{\"attributes\":{\"source\":{\"id\":\"5e3b01c2-36ec-4c0b-84cb-d3cd69a8a810\",\"type\":\"ColumnDataSource\"}},\"id\":\"70ff699a-aff0-4ea1-9fbe-2bfdb24dfa89\",\"type\":\"CDSView\"},{\"attributes\":{\"data_source\":{\"id\":\"87579e43-7e78-4c98-9177-9747fcc124ec\",\"type\":\"ColumnDataSource\"},\"glyph\":{\"id\":\"6f18ba46-be0c-42ce-b3ff-c912596dd5b7\",\"type\":\"Circle\"},\"hover_glyph\":null,\"muted_glyph\":null,\"nonselection_glyph\":{\"id\":\"f7222907-91b6-4f35-a1f0-e0fdb7e22868\",\"type\":\"Circle\"},\"selection_glyph\":null,\"view\":{\"id\":\"46a24e34-5f01-470f-9814-447e95b43b92\",\"type\":\"CDSView\"}},\"id\":\"98442285-cb72-4299-bbc5-caef0ee2a601\",\"type\":\"GlyphRenderer\"},{\"attributes\":{\"line_alpha\":{\"value\":0.1},\"line_color\":{\"value\":\"#1f77b4\"},\"x\":{\"field\":\"x\"},\"y\":{\"field\":\"y\"}},\"id\":\"75e14e51-8dd2-4858-8cce-7645451ce164\",\"type\":\"Line\"},{\"attributes\":{\"source\":{\"id\":\"3ce7ba46-c9bb-41d8-b8d0-c5f413e6bc76\",\"type\":\"ColumnDataSource\"}},\"id\":\"ea7c4b96-9d72-4052-aae3-4e95f684ad3e\",\"type\":\"CDSView\"},{\"attributes\":{},\"id\":\"7471ad93-1f4c-4ac9-b9ab-4e7e545a58d1\",\"type\":\"WheelZoomTool\"},{\"attributes\":{\"fill_alpha\":{\"value\":0.1},\"fill_color\":{\"value\":\"#1f77b4\"},\"line_alpha\":{\"value\":0.1},\"line_color\":{\"value\":\"#1f77b4\"},\"size\":{\"units\":\"screen\",\"value\":5},\"x\":{\"field\":\"x\"},\"y\":{\"field\":\"y\"}},\"id\":\"17c4fa33-758a-40cb-bbbf-92ea9bed37b2\",\"type\":\"Circle\"},{\"attributes\":{\"callback\":null,\"column_names\":[\"x\",\"y\"],\"data\":{\"x\":[-10,-3.0588936890535687,-2.0588936890535687,-1.0588936890535685,0.02856915219677092,0.9855004303048849,2.007195501404204,2.996388746447621,6.999774561287003,8.999943643624247,10.00002817736235],\"y\":{\"__ndarray__\":\"KVyPwvVMjkCuR+F6FKSOQNejcD0K4Y5AKVyPwvVAj0DsUbgehemOQIXrUbgem49ApHA9CtcbkEDXo3A9ClSQQOF6FK5HlZBA9ihcj8KZkEB7FK5H4ZmQQA==\",\"dtype\":\"float64\",\"shape\":[11]}}},\"id\":\"c80fa39b-4156-49da-a6ac-76fab1f36b5c\",\"type\":\"ColumnDataSource\"},{\"attributes\":{\"data_source\":{\"id\":\"17cb68e5-4cef-4f61-ad0b-4e3ea8610cb4\",\"type\":\"ColumnDataSource\"},\"glyph\":{\"id\":\"af18e37a-10de-4ac6-982c-9be6b09576a2\",\"type\":\"Line\"},\"hover_glyph\":null,\"muted_glyph\":null,\"nonselection_glyph\":{\"id\":\"7d2debb1-4231-4edb-bb3f-62d9762e4b66\",\"type\":\"Line\"},\"selection_glyph\":null,\"view\":{\"id\":\"bb01b459-97be-4f7e-b0e5-537a1e227d07\",\"type\":\"CDSView\"}},\"id\":\"7209eb71-cd47-435d-93d4-e5556bb50850\",\"type\":\"GlyphRenderer\"},{\"attributes\":{\"overlay\":{\"id\":\"a18d0a74-98ba-4535-9258-75bbccda08d3\",\"type\":\"BoxAnnotation\"}},\"id\":\"72f949bb-e092-4d74-8585-f7c14a06ca33\",\"type\":\"BoxZoomTool\"},{\"attributes\":{\"callback\":null,\"column_names\":[\"x\",\"y\"],\"data\":{\"x\":[-10,-3.0588936890535687,-2.0588936890535687,-1.0588936890535685,0.0,1.0,2.0,3.0,7.0,9.0,10.0],\"y\":{\"__ndarray__\":\"w/UoXI/8i0B7FK5H4XaMQKRwPQrX2YxAMzMzMzMbjUD2KFyPwvWNQK5H4XoU3I5A9ihcj8Kfj0AAAAAAABSQQHE9CtejZZBAhetRuB5qkEAfhetRuGuQQA==\",\"dtype\":\"float64\",\"shape\":[11]}}},\"id\":\"87579e43-7e78-4c98-9177-9747fcc124ec\",\"type\":\"ColumnDataSource\"},{\"attributes\":{\"line_color\":{\"value\":\"navy\"},\"line_dash\":[15,2],\"x\":{\"field\":\"x\"},\"y\":{\"field\":\"y\"}},\"id\":\"b2baa6b5-cf04-4de0-905c-c3ec6dda2b33\",\"type\":\"Line\"},{\"attributes\":{\"source\":{\"id\":\"c80fa39b-4156-49da-a6ac-76fab1f36b5c\",\"type\":\"ColumnDataSource\"}},\"id\":\"55fe4504-3ef5-4664-8d1a-164c2202abf0\",\"type\":\"CDSView\"},{\"attributes\":{\"callback\":null},\"id\":\"f93997c2-cd0f-47d4-a100-3dc311c6203a\",\"type\":\"DataRange1d\"},{\"attributes\":{},\"id\":\"cf0c9cf0-fc02-429e-86b2-edd8e58879cc\",\"type\":\"HelpTool\"},{\"attributes\":{\"active_drag\":\"auto\",\"active_inspect\":\"auto\",\"active_scroll\":\"auto\",\"active_tap\":\"auto\",\"tools\":[{\"id\":\"348e219a-a757-415b-aff6-51105f128f9b\",\"type\":\"PanTool\"},{\"id\":\"7471ad93-1f4c-4ac9-b9ab-4e7e545a58d1\",\"type\":\"WheelZoomTool\"},{\"id\":\"72f949bb-e092-4d74-8585-f7c14a06ca33\",\"type\":\"BoxZoomTool\"},{\"id\":\"37b07364-80dd-4106-8bcf-ef86cd177038\",\"type\":\"SaveTool\"},{\"id\":\"6b06d69c-bf8c-422b-aa53-911636adae89\",\"type\":\"ResetTool\"},{\"id\":\"cf0c9cf0-fc02-429e-86b2-edd8e58879cc\",\"type\":\"HelpTool\"}]},\"id\":\"6f259f07-3de0-44d1-bd29-376181fe50dc\",\"type\":\"Toolbar\"},{\"attributes\":{\"source\":{\"id\":\"24f66d4f-4ec3-49e3-9303-819023393f33\",\"type\":\"ColumnDataSource\"}},\"id\":\"bd1d0a4c-8a3d-4637-9c09-19f608b45d40\",\"type\":\"CDSView\"},{\"attributes\":{\"fill_color\":{\"value\":\"white\"},\"line_color\":{\"value\":\"navy\"},\"size\":{\"units\":\"screen\",\"value\":5},\"x\":{\"field\":\"x\"},\"y\":{\"field\":\"y\"}},\"id\":\"28dafeff-c9bd-49f7-8e35-e8e4843f3b2b\",\"type\":\"Circle\"},{\"attributes\":{\"callback\":null,\"column_names\":[\"x\",\"y\"],\"data\":{\"x\":[-10,-3.0588936890535687,-2.0588936890535687,-1.0588936890535685,0.0,1.0,2.0,3.0,7.0,9.0,10.0],\"y\":{\"__ndarray__\":\"w/UoXI/8i0B7FK5H4XaMQKRwPQrX2YxAMzMzMzMbjUD2KFyPwvWNQK5H4XoU3I5A9ihcj8Kfj0AAAAAAABSQQHE9CtejZZBAhetRuB5qkEAfhetRuGuQQA==\",\"dtype\":\"float64\",\"shape\":[11]}}},\"id\":\"3ce7ba46-c9bb-41d8-b8d0-c5f413e6bc76\",\"type\":\"ColumnDataSource\"},{\"attributes\":{\"source\":{\"id\":\"25cfeb3f-5c92-4811-811c-2d791098813f\",\"type\":\"ColumnDataSource\"}},\"id\":\"8602712d-e98e-4ec9-affa-edb6dfe171d0\",\"type\":\"CDSView\"},{\"attributes\":{\"callback\":null,\"column_names\":[\"x\",\"y\"],\"data\":{\"x\":[-10,-3.473931188332412,-1.8889686876112561,-0.888968687611256,-0.014499569695115089,0.9855004303048849,1.9855004303048849,3.0018022426339854,6.999774561287003,9.00002817736235,10.00002817736235],\"y\":{\"__ndarray__\":\"mpmZmZnokEApXI/C9fyQQOF6FK5HCpFAuB6F61EdkUDD9ShcjzaRQGZmZmZmf5BAuB6F61GEkEBSuB6F66yQQHsUrkfh3ZBAmpmZmZngkEApXI/C9eCQQA==\",\"dtype\":\"float64\",\"shape\":[11]}}},\"id\":\"aa123e59-c32c-4874-a616-fc10357649f8\",\"type\":\"ColumnDataSource\"},{\"attributes\":{\"fill_alpha\":{\"value\":0.1},\"fill_color\":{\"value\":\"#1f77b4\"},\"line_alpha\":{\"value\":0.1},\"line_color\":{\"value\":\"#1f77b4\"},\"size\":{\"units\":\"screen\",\"value\":5},\"x\":{\"field\":\"x\"},\"y\":{\"field\":\"y\"}},\"id\":\"f7222907-91b6-4f35-a1f0-e0fdb7e22868\",\"type\":\"Circle\"},{\"attributes\":{\"line_alpha\":{\"value\":0.1},\"line_color\":{\"value\":\"#1f77b4\"},\"line_dash\":[4,4],\"x\":{\"field\":\"x\"},\"y\":{\"field\":\"y\"}},\"id\":\"f8ab9346-ae65-4713-9c76-8b1d9cfa7236\",\"type\":\"Line\"},{\"attributes\":{\"axis_label\":\"Mean power\",\"axis_label_text_color\":{\"value\":\"black\"},\"formatter\":{\"id\":\"4b94d0b4-dfa6-4a38-a917-8cfa3bad02d7\",\"type\":\"BasicTickFormatter\"},\"major_label_text_color\":{\"value\":\"black\"},\"plot\":{\"id\":\"9a39afd8-b373-445d-86b9-961df88b3ab6\",\"subtype\":\"Figure\",\"type\":\"Plot\"},\"ticker\":{\"id\":\"037314b1-2b48-436e-b467-021c2591be14\",\"type\":\"BasicTicker\"}},\"id\":\"b689c9cd-a871-45b9-ada2-0eac8cbe4c36\",\"type\":\"LinearAxis\"},{\"attributes\":{\"line_color\":{\"value\":\"navy\"},\"line_dash\":[1,4],\"x\":{\"field\":\"x\"},\"y\":{\"field\":\"y\"}},\"id\":\"af18e37a-10de-4ac6-982c-9be6b09576a2\",\"type\":\"Line\"},{\"attributes\":{\"line_alpha\":{\"value\":0.1},\"line_color\":{\"value\":\"#1f77b4\"},\"line_dash\":[15,2],\"x\":{\"field\":\"x\"},\"y\":{\"field\":\"y\"}},\"id\":\"9b6c9446-ae61-4267-9b70-cf0e9291cb6b\",\"type\":\"Line\"},{\"attributes\":{\"line_color\":{\"value\":\"navy\"},\"line_dash\":[4,4],\"x\":{\"field\":\"x\"},\"y\":{\"field\":\"y\"}},\"id\":\"f0c639ee-e3f7-44f3-9258-a1f09793a940\",\"type\":\"Line\"}],\"root_ids\":[\"9a39afd8-b373-445d-86b9-961df88b3ab6\"]},\"title\":\"Bokeh Application\",\"version\":\"0.12.10\"}};\n",
       "    var render_items = [{\"docid\":\"55d5c576-4a2e-42d3-9f5e-87aa029c6d93\",\"elementid\":\"56dc6ed2-97aa-4273-b399-48173e05d708\",\"modelid\":\"9a39afd8-b373-445d-86b9-961df88b3ab6\"}];\n",
       "\n",
       "    root.Bokeh.embed.embed_items(docs_json, render_items);\n",
       "  }\n",
       "\n",
       "  if (root.Bokeh !== undefined) {\n",
       "    embed_document(root);\n",
       "  } else {\n",
       "    var attempts = 0;\n",
       "    var timer = setInterval(function(root) {\n",
       "      if (root.Bokeh !== undefined) {\n",
       "        embed_document(root);\n",
       "        clearInterval(timer);\n",
       "      }\n",
       "      attempts++;\n",
       "      if (attempts > 100) {\n",
       "        console.log(\"Bokeh: ERROR: Unable to embed document because BokehJS library is missing\")\n",
       "        clearInterval(timer);\n",
       "      }\n",
       "    }, 10, root)\n",
       "  }\n",
       "})(window);"
      ],
      "application/vnd.bokehjs_exec.v0+json": ""
     },
     "metadata": {
      "application/vnd.bokehjs_exec.v0+json": {
       "id": "9a39afd8-b373-445d-86b9-961df88b3ab6"
      }
     },
     "output_type": "display_data"
    }
   ],
   "source": [
    "p0 = figure(plot_width=600, plot_height=400)\n",
    "\n",
    "\n",
    "p0.line(logscale(1), df[df.small_arrival==1].avg_power, line_color='navy',legend='Small cell load = 0.05')\n",
    "p0.circle(logscale(1), df[df.small_arrival==1].avg_power, color='white', line_color='navy',size=5)\n",
    "p0.line(logscale(4), df[df.small_arrival==4].avg_power, line_color='navy',line_dash=\"15 2\",legend='Small cell load = 0.2')\n",
    "p0.circle(logscale(4), df[df.small_arrival==4].avg_power, color='white', line_color='navy',size=5)\n",
    "\n",
    "p0.line(logscale(6), df[df.small_arrival==6].avg_power, line_color='navy',line_dash=\"4 4\",legend='Small cell load = 0.32')\n",
    "p0.circle(logscale(6), df[df.small_arrival==6].avg_power, color='white', line_color='navy',size=5)\n",
    "\n",
    "p0.line(logscale(9), df[df.small_arrival==9].avg_power, line_color='navy',line_dash=\"1 4\",legend='Small cell load = 0.5')\n",
    "p0.circle(logscale(9), df[df.small_arrival==9].avg_power, color='white', line_color='navy',size=5)\n",
    "\n",
    "\n",
    "p0.grid.grid_line_dash = [2,2]\n",
    "p0.grid.grid_line_alpha = 0.1\n",
    "\n",
    "p0.xaxis.axis_label = 'idle time in logscale (relative to avg. avarrival time)'\n",
    "p0.yaxis.axis_label = 'Mean power'\n",
    "\n",
    "p0.xaxis.axis_label_text_color = 'black'\n",
    "p0.xaxis.major_label_text_color = 'black'\n",
    "p0.yaxis.axis_label_text_color = 'black'\n",
    "p0.yaxis.major_label_text_color = 'black'\n",
    "p0.legend.label_text_color = 'black'\n",
    "\n",
    "p0.legend.location  = 'bottom_right'\n",
    "p0.outline_line_color = 'black'\n",
    "\n",
    "show(p0)"
   ]
  },
  {
   "cell_type": "code",
   "execution_count": 18,
   "metadata": {},
   "outputs": [
    {
     "ename": "NameError",
     "evalue": "name 'df_rel' is not defined",
     "output_type": "error",
     "traceback": [
      "\u001b[0;31m---------------------------------------------------------------------------\u001b[0m",
      "\u001b[0;31mNameError\u001b[0m                                 Traceback (most recent call last)",
      "\u001b[0;32m<ipython-input-18-747a8c3f4528>\u001b[0m in \u001b[0;36m<module>\u001b[0;34m()\u001b[0m\n\u001b[1;32m      2\u001b[0m \u001b[0;34m\u001b[0m\u001b[0m\n\u001b[1;32m      3\u001b[0m \u001b[0;34m\u001b[0m\u001b[0m\n\u001b[0;32m----> 4\u001b[0;31m \u001b[0mp0\u001b[0m\u001b[0;34m.\u001b[0m\u001b[0mline\u001b[0m\u001b[0;34m(\u001b[0m\u001b[0mdf_rel\u001b[0m\u001b[0;34m[\u001b[0m\u001b[0mdf_rel\u001b[0m\u001b[0;34m.\u001b[0m\u001b[0msmall_arrival\u001b[0m\u001b[0;34m==\u001b[0m\u001b[0;36m1\u001b[0m\u001b[0;34m]\u001b[0m\u001b[0;34m.\u001b[0m\u001b[0mrelative_idle_time\u001b[0m\u001b[0;34m,\u001b[0m \u001b[0mdf_rel\u001b[0m\u001b[0;34m[\u001b[0m\u001b[0mdf_rel\u001b[0m\u001b[0;34m.\u001b[0m\u001b[0msmall_arrival\u001b[0m\u001b[0;34m==\u001b[0m\u001b[0;36m1\u001b[0m\u001b[0;34m]\u001b[0m\u001b[0;34m.\u001b[0m\u001b[0mrelative_power\u001b[0m\u001b[0;34m,\u001b[0m \u001b[0mline_color\u001b[0m\u001b[0;34m=\u001b[0m\u001b[0;34m'navy'\u001b[0m\u001b[0;34m,\u001b[0m\u001b[0mlegend\u001b[0m\u001b[0;34m=\u001b[0m\u001b[0;34m'Small cell load = 0.05'\u001b[0m\u001b[0;34m)\u001b[0m\u001b[0;34m\u001b[0m\u001b[0m\n\u001b[0m\u001b[1;32m      5\u001b[0m \u001b[0mp0\u001b[0m\u001b[0;34m.\u001b[0m\u001b[0mcircle\u001b[0m\u001b[0;34m(\u001b[0m\u001b[0mdf_rel\u001b[0m\u001b[0;34m[\u001b[0m\u001b[0mdf_rel\u001b[0m\u001b[0;34m.\u001b[0m\u001b[0msmall_arrival\u001b[0m\u001b[0;34m==\u001b[0m\u001b[0;36m1\u001b[0m\u001b[0;34m]\u001b[0m\u001b[0;34m.\u001b[0m\u001b[0mrelative_idle_time\u001b[0m\u001b[0;34m,\u001b[0m \u001b[0mdf_rel\u001b[0m\u001b[0;34m[\u001b[0m\u001b[0mdf_rel\u001b[0m\u001b[0;34m.\u001b[0m\u001b[0msmall_arrival\u001b[0m\u001b[0;34m==\u001b[0m\u001b[0;36m1\u001b[0m\u001b[0;34m]\u001b[0m\u001b[0;34m.\u001b[0m\u001b[0mrelative_power\u001b[0m\u001b[0;34m,\u001b[0m \u001b[0mcolor\u001b[0m\u001b[0;34m=\u001b[0m\u001b[0;34m'white'\u001b[0m\u001b[0;34m,\u001b[0m \u001b[0mline_color\u001b[0m\u001b[0;34m=\u001b[0m\u001b[0;34m'navy'\u001b[0m\u001b[0;34m,\u001b[0m\u001b[0msize\u001b[0m\u001b[0;34m=\u001b[0m\u001b[0;36m5\u001b[0m\u001b[0;34m)\u001b[0m\u001b[0;34m\u001b[0m\u001b[0m\n\u001b[1;32m      6\u001b[0m \u001b[0;34m\u001b[0m\u001b[0m\n",
      "\u001b[0;31mNameError\u001b[0m: name 'df_rel' is not defined"
     ]
    }
   ],
   "source": [
    "p0 = figure(plot_width=600, plot_height=500, title=\"Power\")\n",
    "\n",
    "\n",
    "p0.line(df_rel[df_rel.small_arrival==1].relative_idle_time, df_rel[df_rel.small_arrival==1].relative_power, line_color='navy',legend='Small cell load = 0.05')\n",
    "p0.circle(df_rel[df_rel.small_arrival==1].relative_idle_time, df_rel[df_rel.small_arrival==1].relative_power, color='white', line_color='navy',size=5)\n",
    "\n",
    "p0.line(df_rel[df_rel.small_arrival==4].relative_idle_time, df_rel[df_rel.small_arrival==4].relative_power, line_dash=\"15 2\",line_color='navy',legend='Small cell load = 0.2')\n",
    "p0.circle(df_rel[df_rel.small_arrival==4].relative_idle_time, df_rel[df_rel.small_arrival==4].relative_power, color='white', line_color='navy',size=5)\n",
    "\n",
    "p0.line(df_rel[df_rel.small_arrival==6].relative_idle_time, df_rel[df_rel.small_arrival==6].relative_power, line_dash=\"4 4\",line_color='navy',legend='Small cell load = 0.32')\n",
    "p0.circle(df_rel[df_rel.small_arrival==6].relative_idle_time, df_rel[df_rel.small_arrival==6].relative_power, color='white', line_color='navy',size=5)\n",
    "\n",
    "p0.line(df_rel[df_rel.small_arrival==9].relative_idle_time, df_rel[df_rel.small_arrival==9].relative_power, line_dash=\"1 4\",line_color='navy',legend='Small cell load = 0.5')\n",
    "p0.circle(df_rel[df_rel.small_arrival==9].relative_idle_time, df_rel[df_rel.small_arrival==9].relative_power, color='white', line_color='navy',size=5)\n",
    "\n",
    "p0.grid.grid_line_dash = [2,2]\n",
    "p0.grid.grid_line_alpha = 0.1\n",
    "\n",
    "p0.xaxis.axis_label = 'idle time in logscale (relative to avg. avarrival time)'\n",
    "p0.legend.location  = 'top_right'\n",
    "p0.outline_line_color = 'black'\n",
    "\n",
    "show(p0)"
   ]
  },
  {
   "cell_type": "markdown",
   "metadata": {},
   "source": [
    "# Normal setup delay"
   ]
  },
  {
   "cell_type": "code",
   "execution_count": 618,
   "metadata": {},
   "outputs": [
    {
     "name": "stdout",
     "output_type": "stream",
     "text": [
      "\u001b[34mbak\u001b[m\u001b[m/                 \u001b[34msetup_1.0\u001b[m\u001b[m/           test.csv\r\n",
      "result.csv           test-lb-policy.csv   visualization.ipynb\r\n",
      "\u001b[34msetup_0.05\u001b[m\u001b[m/          test-test.csv\r\n"
     ]
    }
   ],
   "source": [
    "%ls"
   ]
  },
  {
   "cell_type": "code",
   "execution_count": 36,
   "metadata": {},
   "outputs": [],
   "source": [
    "df=pd.read_csv('setup_1.0/output_1.csv', skiprows=1)\n",
    "\n",
    "if df.iloc[-1][0] > 0:\n",
    "    df = df.iloc[-1:]\n",
    "else:\n",
    "    df = df.iloc[1:2]\n",
    "\n",
    "for i in range(2,45):\n",
    "    df_tmp = pd.read_csv('setup_1.0/output_'+str(i)+'.csv', skiprows=1)\n",
    "    #df_rnd_tmp = df_tmp.loc[0,:]\n",
    "    #df_rnd = df_rnd.append(df_rnd_tmp)\n",
    "    if df_tmp.iloc[-1][0] > 0:\n",
    "        df_tmp = df_tmp.iloc[-1:]\n",
    "    else:\n",
    "        df_tmp = df_tmp.iloc[1:2]\n",
    "    df = df.append(df_tmp)\n",
    "\n",
    "df['relative_idle_time'] = df.small_arrival * df.avg_idle_time"
   ]
  },
  {
   "cell_type": "code",
   "execution_count": 43,
   "metadata": {},
   "outputs": [
    {
     "data": {
      "text/html": [
       "\n",
       "<div class=\"bk-root\">\n",
       "    <div class=\"bk-plotdiv\" id=\"81f85b8f-a1fd-429a-a49c-769348619c5a\"></div>\n",
       "</div>"
      ]
     },
     "metadata": {},
     "output_type": "display_data"
    },
    {
     "data": {
      "application/javascript": [
       "(function(root) {\n",
       "  function embed_document(root) {\n",
       "    var docs_json = {\"e8bf8aeb-221a-4e32-8716-7077220fc191\":{\"roots\":{\"references\":[{\"attributes\":{\"fill_color\":{\"value\":\"white\"},\"line_color\":{\"value\":\"navy\"},\"size\":{\"units\":\"screen\",\"value\":5},\"x\":{\"field\":\"x\"},\"y\":{\"field\":\"y\"}},\"id\":\"73b01024-0697-4d66-a91e-7b1fbc06de45\",\"type\":\"Circle\"},{\"attributes\":{\"callback\":null,\"column_names\":[\"x\",\"y\"],\"data\":{\"x\":[-10,-3.0588936890535687,-2.0,-1.0,0.0,1.0,2.0,3.0,7.0,9.0,10.0],\"y\":{\"__ndarray__\":\"jBU1mIbhxz9qh78ma9THP+Oqsu+K4Mc/5+PaUDHOxz/+8V61MuHHP8djBirj38c/4iNiSiTRxz/HYwYq49/HPzlAMEeP38c/hs5r7BLVxz9hjh6/t+nHPw==\",\"dtype\":\"float64\",\"shape\":[11]}}},\"id\":\"601427b2-f0ad-4284-a317-d3dd6400f7dd\",\"type\":\"ColumnDataSource\"},{\"attributes\":{\"active_drag\":\"auto\",\"active_inspect\":\"auto\",\"active_scroll\":\"auto\",\"active_tap\":\"auto\",\"tools\":[{\"id\":\"efff43b6-3309-42c5-a545-b7a3a658ae96\",\"type\":\"PanTool\"},{\"id\":\"558dc9a5-20b3-4a83-b2e8-04eac67737f4\",\"type\":\"WheelZoomTool\"},{\"id\":\"d28cf33f-42fd-4317-a8e4-428507b88736\",\"type\":\"BoxZoomTool\"},{\"id\":\"1e5f6b1b-75bb-42dc-9f27-ef801e8402da\",\"type\":\"SaveTool\"},{\"id\":\"1f9d5011-9f01-4e1f-9bdf-988bb496399e\",\"type\":\"ResetTool\"},{\"id\":\"d3d44726-a475-4cb3-b71d-d6c8f3c5fa4f\",\"type\":\"HelpTool\"}]},\"id\":\"ce55dedf-7f7c-455e-ab71-dbc1c31a8c2b\",\"type\":\"Toolbar\"},{\"attributes\":{},\"id\":\"1f9d5011-9f01-4e1f-9bdf-988bb496399e\",\"type\":\"ResetTool\"},{\"attributes\":{\"axis_label\":\"Mean response time\",\"axis_label_text_color\":{\"value\":\"black\"},\"formatter\":{\"id\":\"cb97bbe6-1733-4869-904d-72f8e3f6a03f\",\"type\":\"BasicTickFormatter\"},\"major_label_text_color\":{\"value\":\"black\"},\"plot\":{\"id\":\"fb17615d-b38d-42c5-8947-f60395cca6d6\",\"subtype\":\"Figure\",\"type\":\"Plot\"},\"ticker\":{\"id\":\"67b797cf-8d83-457c-afec-2cd6f4fc771f\",\"type\":\"BasicTicker\"}},\"id\":\"8029d2a3-ce18-43fb-a952-fffe4884e614\",\"type\":\"LinearAxis\"},{\"attributes\":{},\"id\":\"efff43b6-3309-42c5-a545-b7a3a658ae96\",\"type\":\"PanTool\"},{\"attributes\":{\"plot\":null,\"text\":\"\"},\"id\":\"8395a007-dbdd-4caf-93b8-f76eff618a2a\",\"type\":\"Title\"},{\"attributes\":{\"data_source\":{\"id\":\"a32969de-a731-49db-b40f-e307b6ef3255\",\"type\":\"ColumnDataSource\"},\"glyph\":{\"id\":\"23e5640b-28a7-43ef-9da8-2461b3417005\",\"type\":\"Circle\"},\"hover_glyph\":null,\"muted_glyph\":null,\"nonselection_glyph\":{\"id\":\"373328c0-e45e-4ef8-a0bc-de303923c8fb\",\"type\":\"Circle\"},\"selection_glyph\":null,\"view\":{\"id\":\"eb17a360-065b-44f4-b687-56135b672515\",\"type\":\"CDSView\"}},\"id\":\"9397c459-40a1-470d-b261-f3b5e4bca6fc\",\"type\":\"GlyphRenderer\"},{\"attributes\":{\"label\":{\"value\":\"Small cell load = 0.5\"},\"renderers\":[{\"id\":\"868647c7-a16c-4bcd-bb06-29ec83090242\",\"type\":\"GlyphRenderer\"}]},\"id\":\"be179b81-6c49-4ff5-b8d1-6e1057e51bbb\",\"type\":\"LegendItem\"},{\"attributes\":{\"data_source\":{\"id\":\"f03675e3-8cb2-41fd-8c8f-f5c2f469ee90\",\"type\":\"ColumnDataSource\"},\"glyph\":{\"id\":\"1de6ae7a-84ca-4e3f-abef-9aa916f059ab\",\"type\":\"Circle\"},\"hover_glyph\":null,\"muted_glyph\":null,\"nonselection_glyph\":{\"id\":\"e96ca6c5-e0a5-4190-ac03-545741c50979\",\"type\":\"Circle\"},\"selection_glyph\":null,\"view\":{\"id\":\"3f4675bc-ddc3-4638-8ec5-417c88d40246\",\"type\":\"CDSView\"}},\"id\":\"f4ad03d7-9cc0-4d47-8013-1e65cbe1d62b\",\"type\":\"GlyphRenderer\"},{\"attributes\":{\"callback\":null,\"column_names\":[\"x\",\"y\"],\"data\":{\"x\":[-10,-3.473931188332412,-1.8889686876112561,-0.888968687611256,-0.014499569695115089,0.9855004303048849,1.9855004303048849,3.0018022426339854,6.999774561287003,9.00002817736235,10.00002817736235],\"y\":{\"__ndarray__\":\"WFGDaRg+7D8C1NSytb7rP+7w12SNeus/QPuRIjKs6j+Kq8q+K4LpP+62C811Guc/HAjJAiZw4z+cvwmFCDjjPy8X8Z2Y9cI/OUVHcvkPuT9NEHUfgNS2Pw==\",\"dtype\":\"float64\",\"shape\":[11]}}},\"id\":\"a32969de-a731-49db-b40f-e307b6ef3255\",\"type\":\"ColumnDataSource\"},{\"attributes\":{\"source\":{\"id\":\"6b6f03cc-de09-45fa-bf71-2e7cab11e270\",\"type\":\"ColumnDataSource\"}},\"id\":\"a43268b6-47fc-4e35-b5a2-94efedf94e00\",\"type\":\"CDSView\"},{\"attributes\":{\"data_source\":{\"id\":\"6b6f03cc-de09-45fa-bf71-2e7cab11e270\",\"type\":\"ColumnDataSource\"},\"glyph\":{\"id\":\"bad7542a-ec28-48e3-9c97-49b9a098eb5f\",\"type\":\"Line\"},\"hover_glyph\":null,\"muted_glyph\":null,\"nonselection_glyph\":{\"id\":\"3a9f9623-b7dd-45d1-980e-fab5e46073a7\",\"type\":\"Line\"},\"selection_glyph\":null,\"view\":{\"id\":\"a43268b6-47fc-4e35-b5a2-94efedf94e00\",\"type\":\"CDSView\"}},\"id\":\"d922f736-4bc2-49d5-9360-a483de51ada3\",\"type\":\"GlyphRenderer\"},{\"attributes\":{},\"id\":\"1e5f6b1b-75bb-42dc-9f27-ef801e8402da\",\"type\":\"SaveTool\"},{\"attributes\":{},\"id\":\"d3d44726-a475-4cb3-b71d-d6c8f3c5fa4f\",\"type\":\"HelpTool\"},{\"attributes\":{\"source\":{\"id\":\"f03675e3-8cb2-41fd-8c8f-f5c2f469ee90\",\"type\":\"ColumnDataSource\"}},\"id\":\"3f4675bc-ddc3-4638-8ec5-417c88d40246\",\"type\":\"CDSView\"},{\"attributes\":{\"line_color\":{\"value\":\"navy\"},\"line_dash\":[1,4],\"x\":{\"field\":\"x\"},\"y\":{\"field\":\"y\"}},\"id\":\"2a70f10f-22e7-4b26-b244-1cde39e39f5f\",\"type\":\"Line\"},{\"attributes\":{\"fill_alpha\":{\"value\":0.1},\"fill_color\":{\"value\":\"#1f77b4\"},\"line_alpha\":{\"value\":0.1},\"line_color\":{\"value\":\"#1f77b4\"},\"size\":{\"units\":\"screen\",\"value\":5},\"x\":{\"field\":\"x\"},\"y\":{\"field\":\"y\"}},\"id\":\"e96ca6c5-e0a5-4190-ac03-545741c50979\",\"type\":\"Circle\"},{\"attributes\":{\"source\":{\"id\":\"c05bec6b-2a89-402a-b8cc-821bd935e7f6\",\"type\":\"ColumnDataSource\"}},\"id\":\"405a7631-28ad-425e-8677-f2365e9710e7\",\"type\":\"CDSView\"},{\"attributes\":{\"line_color\":{\"value\":\"red\"},\"x\":{\"field\":\"x\"},\"y\":{\"field\":\"y\"}},\"id\":\"99dd816a-b7b3-45d9-bb88-58318befc685\",\"type\":\"Line\"},{\"attributes\":{\"fill_alpha\":{\"value\":0.1},\"fill_color\":{\"value\":\"#1f77b4\"},\"line_alpha\":{\"value\":0.1},\"line_color\":{\"value\":\"#1f77b4\"},\"size\":{\"units\":\"screen\",\"value\":5},\"x\":{\"field\":\"x\"},\"y\":{\"field\":\"y\"}},\"id\":\"373328c0-e45e-4ef8-a0bc-de303923c8fb\",\"type\":\"Circle\"},{\"attributes\":{},\"id\":\"558dc9a5-20b3-4a83-b2e8-04eac67737f4\",\"type\":\"WheelZoomTool\"},{\"attributes\":{\"callback\":null,\"column_names\":[\"x\",\"y\"],\"data\":{\"x\":[-10,-3.0588936890535687,-2.0588936890535687,-1.0588936890535685,0.02856915219677092,0.9855004303048849,2.007195501404204,2.996388746447621,6.999774561287003,8.999943643624247,10.00002817736235],\"y\":{\"__ndarray__\":\"+z+H+fIC6z+9y0V8J2bqPzVeukkMAuo/9ihcj8L16D9uL2mM1lHnP+krSDMWTeQ/lZ9U+3Q84z/MZ3ke3J3fP/eSxmgdVb0/9+l4zEBltD/kiLX4FACzPw==\",\"dtype\":\"float64\",\"shape\":[11]}}},\"id\":\"f11ca6a6-04be-464f-97b9-81dbbe74b174\",\"type\":\"ColumnDataSource\"},{\"attributes\":{\"axis_label\":\"idle time in logscale (relative to avg. avarrival time)\",\"axis_label_text_color\":{\"value\":\"black\"},\"formatter\":{\"id\":\"9da2fc1c-1113-4667-9333-4547f6fc08d1\",\"type\":\"BasicTickFormatter\"},\"major_label_text_color\":{\"value\":\"black\"},\"plot\":{\"id\":\"fb17615d-b38d-42c5-8947-f60395cca6d6\",\"subtype\":\"Figure\",\"type\":\"Plot\"},\"ticker\":{\"id\":\"a4f63d5a-c27e-4745-9324-22362d1cf502\",\"type\":\"BasicTicker\"}},\"id\":\"15b4d8bc-792c-49b9-8c54-93e32e59bbee\",\"type\":\"LinearAxis\"},{\"attributes\":{\"source\":{\"id\":\"a32969de-a731-49db-b40f-e307b6ef3255\",\"type\":\"ColumnDataSource\"}},\"id\":\"eb17a360-065b-44f4-b687-56135b672515\",\"type\":\"CDSView\"},{\"attributes\":{\"callback\":null,\"column_names\":[\"x\",\"y\"],\"data\":{\"x\":[-10,-3.0588936890535687,-2.0588936890535687,-1.0588936890535685,0.02856915219677092,0.9855004303048849,2.007195501404204,2.996388746447621,6.999774561287003,8.999943643624247,10.00002817736235],\"y\":{\"__ndarray__\":\"+z+H+fIC6z+9y0V8J2bqPzVeukkMAuo/9ihcj8L16D9uL2mM1lHnP+krSDMWTeQ/lZ9U+3Q84z/MZ3ke3J3fP/eSxmgdVb0/9+l4zEBltD/kiLX4FACzPw==\",\"dtype\":\"float64\",\"shape\":[11]}}},\"id\":\"6b6f03cc-de09-45fa-bf71-2e7cab11e270\",\"type\":\"ColumnDataSource\"},{\"attributes\":{\"callback\":null},\"id\":\"d4d1b0d3-a84c-4625-80bd-ba79787c94a6\",\"type\":\"DataRange1d\"},{\"attributes\":{\"dimension\":1,\"grid_line_alpha\":{\"value\":0.1},\"grid_line_dash\":[2,2],\"plot\":{\"id\":\"fb17615d-b38d-42c5-8947-f60395cca6d6\",\"subtype\":\"Figure\",\"type\":\"Plot\"},\"ticker\":{\"id\":\"67b797cf-8d83-457c-afec-2cd6f4fc771f\",\"type\":\"BasicTicker\"}},\"id\":\"90aede63-5b97-448d-b45a-b8e7e410309e\",\"type\":\"Grid\"},{\"attributes\":{\"bottom_units\":\"screen\",\"fill_alpha\":{\"value\":0.5},\"fill_color\":{\"value\":\"lightgrey\"},\"left_units\":\"screen\",\"level\":\"overlay\",\"line_alpha\":{\"value\":1.0},\"line_color\":{\"value\":\"black\"},\"line_dash\":[4,4],\"line_width\":{\"value\":2},\"plot\":null,\"render_mode\":\"css\",\"right_units\":\"screen\",\"top_units\":\"screen\"},\"id\":\"afb3e1ac-e9de-4758-a803-934fbf73bbb5\",\"type\":\"BoxAnnotation\"},{\"attributes\":{\"label\":{\"value\":\"Small cell load = 0.2\"},\"renderers\":[{\"id\":\"ac85d49d-2b98-43fe-8b48-125b3bc7539e\",\"type\":\"GlyphRenderer\"}]},\"id\":\"485a4ccf-013c-468f-a2f1-069288408d93\",\"type\":\"LegendItem\"},{\"attributes\":{\"callback\":null,\"column_names\":[\"x\",\"y\"],\"data\":{\"x\":[-10,-3.0588936890535687,-2.0588936890535687,-1.0588936890535685,0.0,1.0,2.0,3.0,7.0,9.0,10.0],\"y\":{\"__ndarray__\":\"E36pnzcV6D8nMQisHFrnP7dFmQ0yyeY/WFaalIJu5T/tEtVbA1vjP+NrzywJUOM/NlmjHqLR4T8xmSoYldTZPwDGM2jon7g/EfxvJTs2sj8VjErqBDSxPw==\",\"dtype\":\"float64\",\"shape\":[11]}}},\"id\":\"f03675e3-8cb2-41fd-8c8f-f5c2f469ee90\",\"type\":\"ColumnDataSource\"},{\"attributes\":{\"source\":{\"id\":\"64dd6598-14a5-4114-8007-ce6e865ce9e4\",\"type\":\"ColumnDataSource\"}},\"id\":\"942656d5-75da-41f9-bfd7-bf5b97eab70f\",\"type\":\"CDSView\"},{\"attributes\":{\"line_color\":{\"value\":\"navy\"},\"x\":{\"field\":\"x\"},\"y\":{\"field\":\"y\"}},\"id\":\"204f9be2-710a-42f1-83e4-0461d6e5a652\",\"type\":\"Line\"},{\"attributes\":{},\"id\":\"9da2fc1c-1113-4667-9333-4547f6fc08d1\",\"type\":\"BasicTickFormatter\"},{\"attributes\":{\"data_source\":{\"id\":\"cb223a5a-ee1f-4b4a-979f-a2f9212b718d\",\"type\":\"ColumnDataSource\"},\"glyph\":{\"id\":\"99dd816a-b7b3-45d9-bb88-58318befc685\",\"type\":\"Line\"},\"hover_glyph\":null,\"muted_glyph\":null,\"nonselection_glyph\":{\"id\":\"8d5664b9-51db-40c7-96c2-7417f4cf5f08\",\"type\":\"Line\"},\"selection_glyph\":null,\"view\":{\"id\":\"89a98a87-d0e8-49e7-8893-1a29179e230a\",\"type\":\"CDSView\"}},\"id\":\"cee198e9-6ad5-4d55-92cb-32d921f8ef21\",\"type\":\"GlyphRenderer\"},{\"attributes\":{\"line_alpha\":{\"value\":0.1},\"line_color\":{\"value\":\"#1f77b4\"},\"line_dash\":[1,4],\"x\":{\"field\":\"x\"},\"y\":{\"field\":\"y\"}},\"id\":\"ee5387df-aaf9-46e5-b961-7b016ab1abcd\",\"type\":\"Line\"},{\"attributes\":{\"source\":{\"id\":\"cb223a5a-ee1f-4b4a-979f-a2f9212b718d\",\"type\":\"ColumnDataSource\"}},\"id\":\"89a98a87-d0e8-49e7-8893-1a29179e230a\",\"type\":\"CDSView\"},{\"attributes\":{\"source\":{\"id\":\"f11ca6a6-04be-464f-97b9-81dbbe74b174\",\"type\":\"ColumnDataSource\"}},\"id\":\"d366ef5c-c01e-4e85-88dd-36e0cd62b356\",\"type\":\"CDSView\"},{\"attributes\":{\"data_source\":{\"id\":\"c05bec6b-2a89-402a-b8cc-821bd935e7f6\",\"type\":\"ColumnDataSource\"},\"glyph\":{\"id\":\"5730013f-a62f-44ff-b64d-f5051e7f98db\",\"type\":\"Line\"},\"hover_glyph\":null,\"muted_glyph\":null,\"nonselection_glyph\":{\"id\":\"f7ac6532-2004-4b88-a1f9-8274f316edc8\",\"type\":\"Line\"},\"selection_glyph\":null,\"view\":{\"id\":\"405a7631-28ad-425e-8677-f2365e9710e7\",\"type\":\"CDSView\"}},\"id\":\"ac85d49d-2b98-43fe-8b48-125b3bc7539e\",\"type\":\"GlyphRenderer\"},{\"attributes\":{\"line_alpha\":{\"value\":0.1},\"line_color\":{\"value\":\"#1f77b4\"},\"x\":{\"field\":\"x\"},\"y\":{\"field\":\"y\"}},\"id\":\"8d5664b9-51db-40c7-96c2-7417f4cf5f08\",\"type\":\"Line\"},{\"attributes\":{\"callback\":null,\"column_names\":[\"x\",\"y\"],\"data\":{\"x\":[-10,-3.473931188332412,-1.8889686876112561,-0.888968687611256,-0.014499569695115089,0.9855004303048849,1.9855004303048849,3.0018022426339854,6.999774561287003,9.00002817736235,10.00002817736235],\"y\":[0.8825799999999999,0.86703,0.8587100000000001,0.83352,0.79714,0.7219800000000001,0.60744,0.60059,0.14812,0.0979,0.08918]}},\"id\":\"64dd6598-14a5-4114-8007-ce6e865ce9e4\",\"type\":\"ColumnDataSource\"},{\"attributes\":{},\"id\":\"562a2823-093a-4313-86b8-3278e085d9ad\",\"type\":\"LinearScale\"},{\"attributes\":{},\"id\":\"a4f63d5a-c27e-4745-9324-22362d1cf502\",\"type\":\"BasicTicker\"},{\"attributes\":{\"callback\":null,\"column_names\":[\"x\",\"y\"],\"data\":{\"x\":[-10,-3.0588936890535687,-2.0588936890535687,-1.0588936890535685,0.0,1.0,2.0,3.0,7.0,9.0,10.0],\"y\":{\"__ndarray__\":\"E36pnzcV6D8nMQisHFrnP7dFmQ0yyeY/WFaalIJu5T/tEtVbA1vjP+NrzywJUOM/NlmjHqLR4T8xmSoYldTZPwDGM2jon7g/EfxvJTs2sj8VjErqBDSxPw==\",\"dtype\":\"float64\",\"shape\":[11]}}},\"id\":\"c05bec6b-2a89-402a-b8cc-821bd935e7f6\",\"type\":\"ColumnDataSource\"},{\"attributes\":{\"source\":{\"id\":\"601427b2-f0ad-4284-a317-d3dd6400f7dd\",\"type\":\"ColumnDataSource\"}},\"id\":\"e365379d-cf95-422a-a2b0-b22b33a16db3\",\"type\":\"CDSView\"},{\"attributes\":{\"items\":[{\"id\":\"4231151b-331d-4c61-b98c-6768df8f3ca0\",\"type\":\"LegendItem\"},{\"id\":\"485a4ccf-013c-468f-a2f1-069288408d93\",\"type\":\"LegendItem\"},{\"id\":\"6c0c5cf4-1b53-44b0-99c6-073a9e57fa30\",\"type\":\"LegendItem\"},{\"id\":\"be179b81-6c49-4ff5-b8d1-6e1057e51bbb\",\"type\":\"LegendItem\"},{\"id\":\"185634d3-bcdd-4d0e-9e29-54c4a6660552\",\"type\":\"LegendItem\"}],\"label_text_color\":{\"value\":\"black\"},\"plot\":{\"id\":\"fb17615d-b38d-42c5-8947-f60395cca6d6\",\"subtype\":\"Figure\",\"type\":\"Plot\"}},\"id\":\"902f3580-ba4b-41fd-a099-2475ee53e9b7\",\"type\":\"Legend\"},{\"attributes\":{\"data_source\":{\"id\":\"64dd6598-14a5-4114-8007-ce6e865ce9e4\",\"type\":\"ColumnDataSource\"},\"glyph\":{\"id\":\"2a70f10f-22e7-4b26-b244-1cde39e39f5f\",\"type\":\"Line\"},\"hover_glyph\":null,\"muted_glyph\":null,\"nonselection_glyph\":{\"id\":\"ee5387df-aaf9-46e5-b961-7b016ab1abcd\",\"type\":\"Line\"},\"selection_glyph\":null,\"view\":{\"id\":\"942656d5-75da-41f9-bfd7-bf5b97eab70f\",\"type\":\"CDSView\"}},\"id\":\"868647c7-a16c-4bcd-bb06-29ec83090242\",\"type\":\"GlyphRenderer\"},{\"attributes\":{\"data_source\":{\"id\":\"3d2e8534-58fb-472e-915c-507c652b952c\",\"type\":\"ColumnDataSource\"},\"glyph\":{\"id\":\"73b01024-0697-4d66-a91e-7b1fbc06de45\",\"type\":\"Circle\"},\"hover_glyph\":null,\"muted_glyph\":null,\"nonselection_glyph\":{\"id\":\"ac18baba-4a3d-439e-9240-b5a80b8bbf66\",\"type\":\"Circle\"},\"selection_glyph\":null,\"view\":{\"id\":\"b874f9b8-0818-4700-bbde-c77450401f05\",\"type\":\"CDSView\"}},\"id\":\"29f93b2e-e685-46b9-bcc7-f531cc88acd4\",\"type\":\"GlyphRenderer\"},{\"attributes\":{},\"id\":\"d59476da-a26d-4be2-b979-77f2d5768148\",\"type\":\"LinearScale\"},{\"attributes\":{\"data_source\":{\"id\":\"601427b2-f0ad-4284-a317-d3dd6400f7dd\",\"type\":\"ColumnDataSource\"},\"glyph\":{\"id\":\"204f9be2-710a-42f1-83e4-0461d6e5a652\",\"type\":\"Line\"},\"hover_glyph\":null,\"muted_glyph\":null,\"nonselection_glyph\":{\"id\":\"872a1174-7fbd-416b-8da0-6c30b88d5882\",\"type\":\"Line\"},\"selection_glyph\":null,\"view\":{\"id\":\"e365379d-cf95-422a-a2b0-b22b33a16db3\",\"type\":\"CDSView\"}},\"id\":\"edc4cb18-8ee6-4056-8893-a7f372361dd2\",\"type\":\"GlyphRenderer\"},{\"attributes\":{\"grid_line_alpha\":{\"value\":0.1},\"grid_line_dash\":[2,2],\"plot\":{\"id\":\"fb17615d-b38d-42c5-8947-f60395cca6d6\",\"subtype\":\"Figure\",\"type\":\"Plot\"},\"ticker\":{\"id\":\"a4f63d5a-c27e-4745-9324-22362d1cf502\",\"type\":\"BasicTicker\"}},\"id\":\"07d2de66-1f0b-469c-811e-1443c8018dd4\",\"type\":\"Grid\"},{\"attributes\":{\"fill_color\":{\"value\":\"white\"},\"line_color\":{\"value\":\"navy\"},\"size\":{\"units\":\"screen\",\"value\":5},\"x\":{\"field\":\"x\"},\"y\":{\"field\":\"y\"}},\"id\":\"16223d29-f4ab-43f2-a094-7b82e099dee3\",\"type\":\"Circle\"},{\"attributes\":{\"fill_alpha\":{\"value\":0.1},\"fill_color\":{\"value\":\"#1f77b4\"},\"line_alpha\":{\"value\":0.1},\"line_color\":{\"value\":\"#1f77b4\"},\"size\":{\"units\":\"screen\",\"value\":5},\"x\":{\"field\":\"x\"},\"y\":{\"field\":\"y\"}},\"id\":\"85fbc807-8d83-415e-9f50-afbf66255e00\",\"type\":\"Circle\"},{\"attributes\":{},\"id\":\"67b797cf-8d83-457c-afec-2cd6f4fc771f\",\"type\":\"BasicTicker\"},{\"attributes\":{\"label\":{\"value\":\"Small cell load = 0.32\"},\"renderers\":[{\"id\":\"d922f736-4bc2-49d5-9360-a483de51ada3\",\"type\":\"GlyphRenderer\"}]},\"id\":\"6c0c5cf4-1b53-44b0-99c6-073a9e57fa30\",\"type\":\"LegendItem\"},{\"attributes\":{\"label\":{\"value\":\"constraint\"},\"renderers\":[{\"id\":\"cee198e9-6ad5-4d55-92cb-32d921f8ef21\",\"type\":\"GlyphRenderer\"}]},\"id\":\"185634d3-bcdd-4d0e-9e29-54c4a6660552\",\"type\":\"LegendItem\"},{\"attributes\":{\"line_alpha\":{\"value\":0.1},\"line_color\":{\"value\":\"#1f77b4\"},\"line_dash\":[15,2],\"x\":{\"field\":\"x\"},\"y\":{\"field\":\"y\"}},\"id\":\"f7ac6532-2004-4b88-a1f9-8274f316edc8\",\"type\":\"Line\"},{\"attributes\":{\"fill_alpha\":{\"value\":0.1},\"fill_color\":{\"value\":\"#1f77b4\"},\"line_alpha\":{\"value\":0.1},\"line_color\":{\"value\":\"#1f77b4\"},\"size\":{\"units\":\"screen\",\"value\":5},\"x\":{\"field\":\"x\"},\"y\":{\"field\":\"y\"}},\"id\":\"ac18baba-4a3d-439e-9240-b5a80b8bbf66\",\"type\":\"Circle\"},{\"attributes\":{\"label\":{\"value\":\"Small cell load = 0.05\"},\"renderers\":[{\"id\":\"edc4cb18-8ee6-4056-8893-a7f372361dd2\",\"type\":\"GlyphRenderer\"}]},\"id\":\"4231151b-331d-4c61-b98c-6768df8f3ca0\",\"type\":\"LegendItem\"},{\"attributes\":{\"line_alpha\":{\"value\":0.1},\"line_color\":{\"value\":\"#1f77b4\"},\"line_dash\":[4,4],\"x\":{\"field\":\"x\"},\"y\":{\"field\":\"y\"}},\"id\":\"3a9f9623-b7dd-45d1-980e-fab5e46073a7\",\"type\":\"Line\"},{\"attributes\":{\"callback\":null,\"column_names\":[\"x\",\"y\"],\"data\":{\"x\":[-10,-3.0588936890535687,-2.0,-1.0,0.0,1.0,2.0,3.0,7.0,9.0,10.0],\"y\":{\"__ndarray__\":\"jBU1mIbhxz9qh78ma9THP+Oqsu+K4Mc/5+PaUDHOxz/+8V61MuHHP8djBirj38c/4iNiSiTRxz/HYwYq49/HPzlAMEeP38c/hs5r7BLVxz9hjh6/t+nHPw==\",\"dtype\":\"float64\",\"shape\":[11]}}},\"id\":\"3d2e8534-58fb-472e-915c-507c652b952c\",\"type\":\"ColumnDataSource\"},{\"attributes\":{\"line_color\":{\"value\":\"navy\"},\"line_dash\":[4,4],\"x\":{\"field\":\"x\"},\"y\":{\"field\":\"y\"}},\"id\":\"bad7542a-ec28-48e3-9c97-49b9a098eb5f\",\"type\":\"Line\"},{\"attributes\":{\"fill_color\":{\"value\":\"white\"},\"line_color\":{\"value\":\"navy\"},\"size\":{\"units\":\"screen\",\"value\":5},\"x\":{\"field\":\"x\"},\"y\":{\"field\":\"y\"}},\"id\":\"23e5640b-28a7-43ef-9da8-2461b3417005\",\"type\":\"Circle\"},{\"attributes\":{\"below\":[{\"id\":\"15b4d8bc-792c-49b9-8c54-93e32e59bbee\",\"type\":\"LinearAxis\"}],\"left\":[{\"id\":\"8029d2a3-ce18-43fb-a952-fffe4884e614\",\"type\":\"LinearAxis\"}],\"outline_line_color\":{\"value\":\"black\"},\"plot_height\":400,\"renderers\":[{\"id\":\"15b4d8bc-792c-49b9-8c54-93e32e59bbee\",\"type\":\"LinearAxis\"},{\"id\":\"07d2de66-1f0b-469c-811e-1443c8018dd4\",\"type\":\"Grid\"},{\"id\":\"8029d2a3-ce18-43fb-a952-fffe4884e614\",\"type\":\"LinearAxis\"},{\"id\":\"90aede63-5b97-448d-b45a-b8e7e410309e\",\"type\":\"Grid\"},{\"id\":\"afb3e1ac-e9de-4758-a803-934fbf73bbb5\",\"type\":\"BoxAnnotation\"},{\"id\":\"902f3580-ba4b-41fd-a099-2475ee53e9b7\",\"type\":\"Legend\"},{\"id\":\"edc4cb18-8ee6-4056-8893-a7f372361dd2\",\"type\":\"GlyphRenderer\"},{\"id\":\"29f93b2e-e685-46b9-bcc7-f531cc88acd4\",\"type\":\"GlyphRenderer\"},{\"id\":\"ac85d49d-2b98-43fe-8b48-125b3bc7539e\",\"type\":\"GlyphRenderer\"},{\"id\":\"f4ad03d7-9cc0-4d47-8013-1e65cbe1d62b\",\"type\":\"GlyphRenderer\"},{\"id\":\"d922f736-4bc2-49d5-9360-a483de51ada3\",\"type\":\"GlyphRenderer\"},{\"id\":\"ccaf3643-cbf8-436d-8b39-4117d2534104\",\"type\":\"GlyphRenderer\"},{\"id\":\"868647c7-a16c-4bcd-bb06-29ec83090242\",\"type\":\"GlyphRenderer\"},{\"id\":\"9397c459-40a1-470d-b261-f3b5e4bca6fc\",\"type\":\"GlyphRenderer\"},{\"id\":\"cee198e9-6ad5-4d55-92cb-32d921f8ef21\",\"type\":\"GlyphRenderer\"}],\"title\":{\"id\":\"8395a007-dbdd-4caf-93b8-f76eff618a2a\",\"type\":\"Title\"},\"toolbar\":{\"id\":\"ce55dedf-7f7c-455e-ab71-dbc1c31a8c2b\",\"type\":\"Toolbar\"},\"x_range\":{\"id\":\"d4d1b0d3-a84c-4625-80bd-ba79787c94a6\",\"type\":\"DataRange1d\"},\"x_scale\":{\"id\":\"562a2823-093a-4313-86b8-3278e085d9ad\",\"type\":\"LinearScale\"},\"y_range\":{\"id\":\"32370389-33be-4d5e-8e9e-5ea12b6a137f\",\"type\":\"DataRange1d\"},\"y_scale\":{\"id\":\"d59476da-a26d-4be2-b979-77f2d5768148\",\"type\":\"LinearScale\"}},\"id\":\"fb17615d-b38d-42c5-8947-f60395cca6d6\",\"subtype\":\"Figure\",\"type\":\"Plot\"},{\"attributes\":{},\"id\":\"cb97bbe6-1733-4869-904d-72f8e3f6a03f\",\"type\":\"BasicTickFormatter\"},{\"attributes\":{\"callback\":null,\"column_names\":[\"x\",\"y\"],\"data\":{\"x\":[-10,0,1,2,10],\"y\":{\"__ndarray__\":\"MzMzMzMz4z8zMzMzMzPjPzMzMzMzM+M/MzMzMzMz4z8zMzMzMzPjPw==\",\"dtype\":\"float64\",\"shape\":[5]}}},\"id\":\"cb223a5a-ee1f-4b4a-979f-a2f9212b718d\",\"type\":\"ColumnDataSource\"},{\"attributes\":{\"source\":{\"id\":\"3d2e8534-58fb-472e-915c-507c652b952c\",\"type\":\"ColumnDataSource\"}},\"id\":\"b874f9b8-0818-4700-bbde-c77450401f05\",\"type\":\"CDSView\"},{\"attributes\":{\"line_alpha\":{\"value\":0.1},\"line_color\":{\"value\":\"#1f77b4\"},\"x\":{\"field\":\"x\"},\"y\":{\"field\":\"y\"}},\"id\":\"872a1174-7fbd-416b-8da0-6c30b88d5882\",\"type\":\"Line\"},{\"attributes\":{\"data_source\":{\"id\":\"f11ca6a6-04be-464f-97b9-81dbbe74b174\",\"type\":\"ColumnDataSource\"},\"glyph\":{\"id\":\"16223d29-f4ab-43f2-a094-7b82e099dee3\",\"type\":\"Circle\"},\"hover_glyph\":null,\"muted_glyph\":null,\"nonselection_glyph\":{\"id\":\"85fbc807-8d83-415e-9f50-afbf66255e00\",\"type\":\"Circle\"},\"selection_glyph\":null,\"view\":{\"id\":\"d366ef5c-c01e-4e85-88dd-36e0cd62b356\",\"type\":\"CDSView\"}},\"id\":\"ccaf3643-cbf8-436d-8b39-4117d2534104\",\"type\":\"GlyphRenderer\"},{\"attributes\":{\"line_color\":{\"value\":\"navy\"},\"line_dash\":[15,2],\"x\":{\"field\":\"x\"},\"y\":{\"field\":\"y\"}},\"id\":\"5730013f-a62f-44ff-b64d-f5051e7f98db\",\"type\":\"Line\"},{\"attributes\":{\"fill_color\":{\"value\":\"white\"},\"line_color\":{\"value\":\"navy\"},\"size\":{\"units\":\"screen\",\"value\":5},\"x\":{\"field\":\"x\"},\"y\":{\"field\":\"y\"}},\"id\":\"1de6ae7a-84ca-4e3f-abef-9aa916f059ab\",\"type\":\"Circle\"},{\"attributes\":{\"callback\":null},\"id\":\"32370389-33be-4d5e-8e9e-5ea12b6a137f\",\"type\":\"DataRange1d\"},{\"attributes\":{\"overlay\":{\"id\":\"afb3e1ac-e9de-4758-a803-934fbf73bbb5\",\"type\":\"BoxAnnotation\"}},\"id\":\"d28cf33f-42fd-4317-a8e4-428507b88736\",\"type\":\"BoxZoomTool\"}],\"root_ids\":[\"fb17615d-b38d-42c5-8947-f60395cca6d6\"]},\"title\":\"Bokeh Application\",\"version\":\"0.12.10\"}};\n",
       "    var render_items = [{\"docid\":\"e8bf8aeb-221a-4e32-8716-7077220fc191\",\"elementid\":\"81f85b8f-a1fd-429a-a49c-769348619c5a\",\"modelid\":\"fb17615d-b38d-42c5-8947-f60395cca6d6\"}];\n",
       "\n",
       "    root.Bokeh.embed.embed_items(docs_json, render_items);\n",
       "  }\n",
       "\n",
       "  if (root.Bokeh !== undefined) {\n",
       "    embed_document(root);\n",
       "  } else {\n",
       "    var attempts = 0;\n",
       "    var timer = setInterval(function(root) {\n",
       "      if (root.Bokeh !== undefined) {\n",
       "        embed_document(root);\n",
       "        clearInterval(timer);\n",
       "      }\n",
       "      attempts++;\n",
       "      if (attempts > 100) {\n",
       "        console.log(\"Bokeh: ERROR: Unable to embed document because BokehJS library is missing\")\n",
       "        clearInterval(timer);\n",
       "      }\n",
       "    }, 10, root)\n",
       "  }\n",
       "})(window);"
      ],
      "application/vnd.bokehjs_exec.v0+json": ""
     },
     "metadata": {
      "application/vnd.bokehjs_exec.v0+json": {
       "id": "fb17615d-b38d-42c5-8947-f60395cca6d6"
      }
     },
     "output_type": "display_data"
    }
   ],
   "source": [
    "p0 = figure(plot_width=600, plot_height=400)\n",
    "\n",
    "#source = ColumnDataSource(df.loc[0:27])\n",
    "\n",
    "p0.line(logscale(1), df[df.small_arrival==1].avg_resp_time, line_color='navy',legend='Small cell load = 0.05')\n",
    "p0.circle(logscale(1), df[df.small_arrival==1].avg_resp_time, color='white', line_color='navy',size=5)\n",
    "p0.line(logscale(4), df[df.small_arrival==4].avg_resp_time, line_color='navy',line_dash=\"15 2\",legend='Small cell load = 0.2')\n",
    "p0.circle(logscale(4), df[df.small_arrival==4].avg_resp_time, color='white', line_color='navy',size=5)\n",
    "\n",
    "p0.line(logscale(6), df[df.small_arrival==6].avg_resp_time, line_color='navy',line_dash=\"4 4\",legend='Small cell load = 0.32')\n",
    "p0.circle(logscale(6), df[df.small_arrival==6].avg_resp_time, color='white', line_color='navy',size=5)\n",
    "\n",
    "p0.line(logscale(9), df[df.small_arrival==9].avg_resp_time.tolist(), line_color='navy',line_dash=\"1 4\",legend='Small cell load = 0.5')\n",
    "p0.circle(logscale(9), df[df.small_arrival==9].avg_resp_time, color='white', line_color='navy',size=5)\n",
    "\n",
    "\n",
    "\n",
    "p0.line([-10, 0,1,2,10],0.6*np.ones(5),line_color='red',legend='constraint')\n",
    "\n",
    "p0.grid.grid_line_dash = [2,2]\n",
    "p0.grid.grid_line_alpha = 0.1\n",
    "\n",
    "p0.xaxis.axis_label = 'idle time in logscale (relative to avg. avarrival time)'\n",
    "p0.yaxis.axis_label = 'Mean response time'\n",
    "\n",
    "p0.xaxis.axis_label_text_color = 'black'\n",
    "p0.xaxis.major_label_text_color = 'black'\n",
    "p0.yaxis.axis_label_text_color = 'black'\n",
    "p0.yaxis.major_label_text_color = 'black'\n",
    "p0.legend.label_text_color = 'black'\n",
    "\n",
    "p0.legend.location  = 'top_right'\n",
    "p0.outline_line_color = 'black'\n",
    "\n",
    "show(p0)"
   ]
  },
  {
   "cell_type": "code",
   "execution_count": 44,
   "metadata": {},
   "outputs": [
    {
     "data": {
      "text/html": [
       "\n",
       "<div class=\"bk-root\">\n",
       "    <div class=\"bk-plotdiv\" id=\"1857f128-8c39-4dfc-860a-94f8595e7be4\"></div>\n",
       "</div>"
      ]
     },
     "metadata": {},
     "output_type": "display_data"
    },
    {
     "data": {
      "application/javascript": [
       "(function(root) {\n",
       "  function embed_document(root) {\n",
       "    var docs_json = {\"8e39b9cf-2a8d-4408-b132-6f152349c8cd\":{\"roots\":{\"references\":[{\"attributes\":{\"source\":{\"id\":\"92d36bcb-966f-4630-8053-d21c28e0f553\",\"type\":\"ColumnDataSource\"}},\"id\":\"5ed7e941-44d5-4308-9e00-a4e4152a0831\",\"type\":\"CDSView\"},{\"attributes\":{\"active_drag\":\"auto\",\"active_inspect\":\"auto\",\"active_scroll\":\"auto\",\"active_tap\":\"auto\",\"tools\":[{\"id\":\"2c8d237d-d7ab-4717-8d56-ab483fbf21e8\",\"type\":\"PanTool\"},{\"id\":\"f74adce9-4191-4b16-96c7-4ff9dbc4d6ce\",\"type\":\"WheelZoomTool\"},{\"id\":\"93fe15cb-731e-4f9b-9d97-b8ab487fce05\",\"type\":\"BoxZoomTool\"},{\"id\":\"82767fb6-3733-4e64-aab5-018413f8163f\",\"type\":\"SaveTool\"},{\"id\":\"93a23f4a-f08c-472b-badf-f9c4fbb8a587\",\"type\":\"ResetTool\"},{\"id\":\"919e9fb2-a938-4fdf-b78f-4c886fb686e1\",\"type\":\"HelpTool\"}]},\"id\":\"bd56bd2d-c691-4a76-b8c8-68dcdf97843d\",\"type\":\"Toolbar\"},{\"attributes\":{\"data_source\":{\"id\":\"f2a97e3c-bc92-4dff-9e2e-cb01fad0dfb0\",\"type\":\"ColumnDataSource\"},\"glyph\":{\"id\":\"651ac3f6-da9a-4f63-a1fb-6eaa6f0a89de\",\"type\":\"Line\"},\"hover_glyph\":null,\"muted_glyph\":null,\"nonselection_glyph\":{\"id\":\"49a2442d-b215-4d8c-8204-1895ffc72553\",\"type\":\"Line\"},\"selection_glyph\":null,\"view\":{\"id\":\"6cd1f2ca-d208-4222-9e9c-3ea11fdfb7e4\",\"type\":\"CDSView\"}},\"id\":\"597df3e1-76f1-4226-afa4-518881e28753\",\"type\":\"GlyphRenderer\"},{\"attributes\":{\"source\":{\"id\":\"c5d3be1b-7645-4ed3-b154-2946f80977ad\",\"type\":\"ColumnDataSource\"}},\"id\":\"bc5de338-e698-4a06-ba7f-a3a04a716824\",\"type\":\"CDSView\"},{\"attributes\":{\"source\":{\"id\":\"1a603126-6330-45f6-a3fc-8f3e7d44719a\",\"type\":\"ColumnDataSource\"}},\"id\":\"0eaa6d78-e137-43ca-af47-e3e71ef64e14\",\"type\":\"CDSView\"},{\"attributes\":{\"axis_label\":\"Mean power\",\"axis_label_text_color\":{\"value\":\"black\"},\"formatter\":{\"id\":\"ae792de4-8970-48c2-8acb-1f434e915b57\",\"type\":\"BasicTickFormatter\"},\"major_label_text_color\":{\"value\":\"black\"},\"plot\":{\"id\":\"01a8d57f-98a3-4a07-9ce1-28653fe5a1b6\",\"subtype\":\"Figure\",\"type\":\"Plot\"},\"ticker\":{\"id\":\"301905fc-8167-4b84-93f0-0a288e6da20d\",\"type\":\"BasicTicker\"}},\"id\":\"10233353-7ff8-4452-95e6-3dbd20294c8a\",\"type\":\"LinearAxis\"},{\"attributes\":{\"line_color\":{\"value\":\"navy\"},\"x\":{\"field\":\"x\"},\"y\":{\"field\":\"y\"}},\"id\":\"ee2e29c8-a782-4be7-b81b-62d643cf69b0\",\"type\":\"Line\"},{\"attributes\":{\"fill_alpha\":{\"value\":0.1},\"fill_color\":{\"value\":\"#1f77b4\"},\"line_alpha\":{\"value\":0.1},\"line_color\":{\"value\":\"#1f77b4\"},\"size\":{\"units\":\"screen\",\"value\":5},\"x\":{\"field\":\"x\"},\"y\":{\"field\":\"y\"}},\"id\":\"79fa0edc-432f-407f-99e6-986d6495b13c\",\"type\":\"Circle\"},{\"attributes\":{\"callback\":null},\"id\":\"d01c0461-cc0e-471e-b4c3-3e29b64a7852\",\"type\":\"DataRange1d\"},{\"attributes\":{},\"id\":\"2c8d237d-d7ab-4717-8d56-ab483fbf21e8\",\"type\":\"PanTool\"},{\"attributes\":{\"line_alpha\":{\"value\":0.1},\"line_color\":{\"value\":\"#1f77b4\"},\"line_dash\":[15,2],\"x\":{\"field\":\"x\"},\"y\":{\"field\":\"y\"}},\"id\":\"c8c9a9eb-7684-4507-a50a-7acc1922ee5d\",\"type\":\"Line\"},{\"attributes\":{\"source\":{\"id\":\"f2a97e3c-bc92-4dff-9e2e-cb01fad0dfb0\",\"type\":\"ColumnDataSource\"}},\"id\":\"6cd1f2ca-d208-4222-9e9c-3ea11fdfb7e4\",\"type\":\"CDSView\"},{\"attributes\":{\"data_source\":{\"id\":\"1a603126-6330-45f6-a3fc-8f3e7d44719a\",\"type\":\"ColumnDataSource\"},\"glyph\":{\"id\":\"b9faaafd-0c85-475d-bd86-ec0d4b8db121\",\"type\":\"Circle\"},\"hover_glyph\":null,\"muted_glyph\":null,\"nonselection_glyph\":{\"id\":\"9027c267-4535-4339-8949-5e0ffe962464\",\"type\":\"Circle\"},\"selection_glyph\":null,\"view\":{\"id\":\"0eaa6d78-e137-43ca-af47-e3e71ef64e14\",\"type\":\"CDSView\"}},\"id\":\"c0fb20ba-643c-4116-b56a-e144bdcb1521\",\"type\":\"GlyphRenderer\"},{\"attributes\":{},\"id\":\"f74adce9-4191-4b16-96c7-4ff9dbc4d6ce\",\"type\":\"WheelZoomTool\"},{\"attributes\":{},\"id\":\"919e9fb2-a938-4fdf-b78f-4c886fb686e1\",\"type\":\"HelpTool\"},{\"attributes\":{\"fill_color\":{\"value\":\"white\"},\"line_color\":{\"value\":\"navy\"},\"size\":{\"units\":\"screen\",\"value\":5},\"x\":{\"field\":\"x\"},\"y\":{\"field\":\"y\"}},\"id\":\"b9faaafd-0c85-475d-bd86-ec0d4b8db121\",\"type\":\"Circle\"},{\"attributes\":{\"line_color\":{\"value\":\"navy\"},\"line_dash\":[1,4],\"x\":{\"field\":\"x\"},\"y\":{\"field\":\"y\"}},\"id\":\"f750a40b-61c4-4f18-8650-71d47149365e\",\"type\":\"Line\"},{\"attributes\":{\"label\":{\"value\":\"Small cell load = 0.05\"},\"renderers\":[{\"id\":\"99e9483f-9af3-462e-8a30-7649f1dbca2a\",\"type\":\"GlyphRenderer\"}]},\"id\":\"ff50f86e-04ee-4581-aca2-f2d0f140b0db\",\"type\":\"LegendItem\"},{\"attributes\":{\"axis_label\":\"idle time in logscale (relative to avg. avarrival time)\",\"axis_label_text_color\":{\"value\":\"black\"},\"formatter\":{\"id\":\"cf76afb0-63df-457d-8bff-6939b26f5a0b\",\"type\":\"BasicTickFormatter\"},\"major_label_text_color\":{\"value\":\"black\"},\"plot\":{\"id\":\"01a8d57f-98a3-4a07-9ce1-28653fe5a1b6\",\"subtype\":\"Figure\",\"type\":\"Plot\"},\"ticker\":{\"id\":\"bf98b966-6b05-465b-9825-30e4264934aa\",\"type\":\"BasicTicker\"}},\"id\":\"44f7c43f-9d9d-4447-b914-727d09c0f3aa\",\"type\":\"LinearAxis\"},{\"attributes\":{\"bottom_units\":\"screen\",\"fill_alpha\":{\"value\":0.5},\"fill_color\":{\"value\":\"lightgrey\"},\"left_units\":\"screen\",\"level\":\"overlay\",\"line_alpha\":{\"value\":1.0},\"line_color\":{\"value\":\"black\"},\"line_dash\":[4,4],\"line_width\":{\"value\":2},\"plot\":null,\"render_mode\":\"css\",\"right_units\":\"screen\",\"top_units\":\"screen\"},\"id\":\"8f5a0a53-cad1-4f13-8191-5001a1d67a84\",\"type\":\"BoxAnnotation\"},{\"attributes\":{\"source\":{\"id\":\"8266e6f5-7495-4ee7-8da8-31dbfb48e7c4\",\"type\":\"ColumnDataSource\"}},\"id\":\"770ac37a-8a5e-4554-98c0-3f0f81b4260b\",\"type\":\"CDSView\"},{\"attributes\":{},\"id\":\"cf76afb0-63df-457d-8bff-6939b26f5a0b\",\"type\":\"BasicTickFormatter\"},{\"attributes\":{\"data_source\":{\"id\":\"c5d3be1b-7645-4ed3-b154-2946f80977ad\",\"type\":\"ColumnDataSource\"},\"glyph\":{\"id\":\"c74ca279-fe46-4736-8220-46b001470c7b\",\"type\":\"Line\"},\"hover_glyph\":null,\"muted_glyph\":null,\"nonselection_glyph\":{\"id\":\"c8c9a9eb-7684-4507-a50a-7acc1922ee5d\",\"type\":\"Line\"},\"selection_glyph\":null,\"view\":{\"id\":\"bc5de338-e698-4a06-ba7f-a3a04a716824\",\"type\":\"CDSView\"}},\"id\":\"5205d906-afa8-4fa1-a5d2-d50feeeeec0f\",\"type\":\"GlyphRenderer\"},{\"attributes\":{\"source\":{\"id\":\"3c69d43b-64f9-4de4-8a2a-7fb3ccedd23a\",\"type\":\"ColumnDataSource\"}},\"id\":\"b16535ba-0c0e-46ea-9ef2-2f72438aeaf6\",\"type\":\"CDSView\"},{\"attributes\":{\"callback\":null,\"column_names\":[\"x\",\"y\"],\"data\":{\"x\":[-10,-3.0588936890535687,-2.0,-1.0,0.0,1.0,2.0,3.0,7.0,9.0,10.0],\"y\":{\"__ndarray__\":\"9ihcj8J1i0BmZmZmZnSLQLgehetRdItACtejcD10i0CamZmZmXWLQOF6FK5HdYtA7FG4HoVzi0AK16NwPXaLQKRwPQrXc4tAH4XrUbhyi0CkcD0K13WLQA==\",\"dtype\":\"float64\",\"shape\":[11]}}},\"id\":\"1a603126-6330-45f6-a3fc-8f3e7d44719a\",\"type\":\"ColumnDataSource\"},{\"attributes\":{\"line_alpha\":{\"value\":0.1},\"line_color\":{\"value\":\"#1f77b4\"},\"x\":{\"field\":\"x\"},\"y\":{\"field\":\"y\"}},\"id\":\"ae9c855e-4aa7-4c41-86c0-f2fe40fce981\",\"type\":\"Line\"},{\"attributes\":{\"below\":[{\"id\":\"44f7c43f-9d9d-4447-b914-727d09c0f3aa\",\"type\":\"LinearAxis\"}],\"left\":[{\"id\":\"10233353-7ff8-4452-95e6-3dbd20294c8a\",\"type\":\"LinearAxis\"}],\"outline_line_color\":{\"value\":\"black\"},\"plot_height\":400,\"renderers\":[{\"id\":\"44f7c43f-9d9d-4447-b914-727d09c0f3aa\",\"type\":\"LinearAxis\"},{\"id\":\"4fbf3d4b-1980-40b0-9707-cff76f154015\",\"type\":\"Grid\"},{\"id\":\"10233353-7ff8-4452-95e6-3dbd20294c8a\",\"type\":\"LinearAxis\"},{\"id\":\"66a3bee2-751c-4485-a885-9f01d609a82b\",\"type\":\"Grid\"},{\"id\":\"8f5a0a53-cad1-4f13-8191-5001a1d67a84\",\"type\":\"BoxAnnotation\"},{\"id\":\"80f170fe-e680-4c50-833a-633521d45169\",\"type\":\"Legend\"},{\"id\":\"99e9483f-9af3-462e-8a30-7649f1dbca2a\",\"type\":\"GlyphRenderer\"},{\"id\":\"c0fb20ba-643c-4116-b56a-e144bdcb1521\",\"type\":\"GlyphRenderer\"},{\"id\":\"5205d906-afa8-4fa1-a5d2-d50feeeeec0f\",\"type\":\"GlyphRenderer\"},{\"id\":\"e55b51d0-6595-4599-a991-77d51e2e60d1\",\"type\":\"GlyphRenderer\"},{\"id\":\"597df3e1-76f1-4226-afa4-518881e28753\",\"type\":\"GlyphRenderer\"},{\"id\":\"7b74497f-3cc9-4efb-878a-3b65dcba0609\",\"type\":\"GlyphRenderer\"},{\"id\":\"3b5cb6c4-9ed1-4fff-a9f2-13cc29d6a76d\",\"type\":\"GlyphRenderer\"},{\"id\":\"da968118-70f5-4f01-afaa-700c87faef5f\",\"type\":\"GlyphRenderer\"}],\"title\":{\"id\":\"eb0bc3cc-b36a-4b09-811f-90d91fc648cf\",\"type\":\"Title\"},\"toolbar\":{\"id\":\"bd56bd2d-c691-4a76-b8c8-68dcdf97843d\",\"type\":\"Toolbar\"},\"x_range\":{\"id\":\"fe4d9118-0841-44c7-977e-4346b2064ec6\",\"type\":\"DataRange1d\"},\"x_scale\":{\"id\":\"2a7deaed-d01a-4bdf-9c82-d6402dee918a\",\"type\":\"LinearScale\"},\"y_range\":{\"id\":\"d01c0461-cc0e-471e-b4c3-3e29b64a7852\",\"type\":\"DataRange1d\"},\"y_scale\":{\"id\":\"845af4c4-29e0-446d-a130-5109efdc3f27\",\"type\":\"LinearScale\"}},\"id\":\"01a8d57f-98a3-4a07-9ce1-28653fe5a1b6\",\"subtype\":\"Figure\",\"type\":\"Plot\"},{\"attributes\":{\"line_alpha\":{\"value\":0.1},\"line_color\":{\"value\":\"#1f77b4\"},\"line_dash\":[4,4],\"x\":{\"field\":\"x\"},\"y\":{\"field\":\"y\"}},\"id\":\"49a2442d-b215-4d8c-8204-1895ffc72553\",\"type\":\"Line\"},{\"attributes\":{\"callback\":null,\"column_names\":[\"x\",\"y\"],\"data\":{\"x\":[-10,-3.0588936890535687,-2.0,-1.0,0.0,1.0,2.0,3.0,7.0,9.0,10.0],\"y\":{\"__ndarray__\":\"9ihcj8J1i0BmZmZmZnSLQLgehetRdItACtejcD10i0CamZmZmXWLQOF6FK5HdYtA7FG4HoVzi0AK16NwPXaLQKRwPQrXc4tAH4XrUbhyi0CkcD0K13WLQA==\",\"dtype\":\"float64\",\"shape\":[11]}}},\"id\":\"92d36bcb-966f-4630-8053-d21c28e0f553\",\"type\":\"ColumnDataSource\"},{\"attributes\":{\"data_source\":{\"id\":\"8266e6f5-7495-4ee7-8da8-31dbfb48e7c4\",\"type\":\"ColumnDataSource\"},\"glyph\":{\"id\":\"c384c8bc-a6a0-4c44-9872-ffca098bc101\",\"type\":\"Circle\"},\"hover_glyph\":null,\"muted_glyph\":null,\"nonselection_glyph\":{\"id\":\"4c9cc0b5-b9e9-4a06-a2fe-467e30266499\",\"type\":\"Circle\"},\"selection_glyph\":null,\"view\":{\"id\":\"770ac37a-8a5e-4554-98c0-3f0f81b4260b\",\"type\":\"CDSView\"}},\"id\":\"da968118-70f5-4f01-afaa-700c87faef5f\",\"type\":\"GlyphRenderer\"},{\"attributes\":{\"callback\":null,\"column_names\":[\"x\",\"y\"],\"data\":{\"x\":[-10,-3.0588936890535687,-2.0588936890535687,-1.0588936890535685,0.0,1.0,2.0,3.0,7.0,9.0,10.0],\"y\":{\"__ndarray__\":\"CtejcD0FlEA9CtejcC2UQD0K16NwJJRArkfhehQjlEApXI/C9f6TQOF6FK5Hi5FAexSuR+GxkEAfhetRuJyQQHE9CtejcJBAUrgehetskEAK16NwPW2QQA==\",\"dtype\":\"float64\",\"shape\":[11]}}},\"id\":\"8200d5a3-201f-43bd-9761-ef35fc50e845\",\"type\":\"ColumnDataSource\"},{\"attributes\":{\"line_alpha\":{\"value\":0.1},\"line_color\":{\"value\":\"#1f77b4\"},\"line_dash\":[1,4],\"x\":{\"field\":\"x\"},\"y\":{\"field\":\"y\"}},\"id\":\"66480901-afca-43e1-8511-d80c8de958f3\",\"type\":\"Line\"},{\"attributes\":{\"plot\":null,\"text\":\"\"},\"id\":\"eb0bc3cc-b36a-4b09-811f-90d91fc648cf\",\"type\":\"Title\"},{\"attributes\":{},\"id\":\"ae792de4-8970-48c2-8acb-1f434e915b57\",\"type\":\"BasicTickFormatter\"},{\"attributes\":{\"callback\":null,\"column_names\":[\"x\",\"y\"],\"data\":{\"x\":[-10,-3.473931188332412,-1.8889686876112561,-0.888968687611256,-0.014499569695115089,0.9855004303048849,1.9855004303048849,3.0018022426339854,6.999774561287003,9.00002817736235,10.00002817736235],\"y\":{\"__ndarray__\":\"uB6F61FtlUAfhetRuGmVQClcj8L1ZpVAj8L1KFxhlUBmZmZmZlaVQArXo3A9QJVAcT0K16MalUBcj8L1KEqRQDMzMzMz7ZBAAAAAAADkkEA9CtejcOOQQA==\",\"dtype\":\"float64\",\"shape\":[11]}}},\"id\":\"8266e6f5-7495-4ee7-8da8-31dbfb48e7c4\",\"type\":\"ColumnDataSource\"},{\"attributes\":{\"label\":{\"value\":\"Small cell load = 0.2\"},\"renderers\":[{\"id\":\"5205d906-afa8-4fa1-a5d2-d50feeeeec0f\",\"type\":\"GlyphRenderer\"}]},\"id\":\"cbe942ee-a584-40d3-8fdd-4b2a3b176bdd\",\"type\":\"LegendItem\"},{\"attributes\":{},\"id\":\"2a7deaed-d01a-4bdf-9c82-d6402dee918a\",\"type\":\"LinearScale\"},{\"attributes\":{\"line_color\":{\"value\":\"navy\"},\"line_dash\":[15,2],\"x\":{\"field\":\"x\"},\"y\":{\"field\":\"y\"}},\"id\":\"c74ca279-fe46-4736-8220-46b001470c7b\",\"type\":\"Line\"},{\"attributes\":{\"callback\":null,\"column_names\":[\"x\",\"y\"],\"data\":{\"x\":[-10,-3.473931188332412,-1.8889686876112561,-0.888968687611256,-0.014499569695115089,0.9855004303048849,1.9855004303048849,3.0018022426339854,6.999774561287003,9.00002817736235,10.00002817736235],\"y\":{\"__ndarray__\":\"uB6F61FtlUAfhetRuGmVQClcj8L1ZpVAj8L1KFxhlUBmZmZmZlaVQArXo3A9QJVAcT0K16MalUBcj8L1KEqRQDMzMzMz7ZBAAAAAAADkkEA9CtejcOOQQA==\",\"dtype\":\"float64\",\"shape\":[11]}}},\"id\":\"d855273b-7463-4b41-8698-4b5f0120f916\",\"type\":\"ColumnDataSource\"},{\"attributes\":{\"data_source\":{\"id\":\"3c69d43b-64f9-4de4-8a2a-7fb3ccedd23a\",\"type\":\"ColumnDataSource\"},\"glyph\":{\"id\":\"d63d6336-6df0-4220-9bc1-51d56f5736b4\",\"type\":\"Circle\"},\"hover_glyph\":null,\"muted_glyph\":null,\"nonselection_glyph\":{\"id\":\"25f8f2b8-339c-45cc-8ca6-86a1a9b6793b\",\"type\":\"Circle\"},\"selection_glyph\":null,\"view\":{\"id\":\"b16535ba-0c0e-46ea-9ef2-2f72438aeaf6\",\"type\":\"CDSView\"}},\"id\":\"7b74497f-3cc9-4efb-878a-3b65dcba0609\",\"type\":\"GlyphRenderer\"},{\"attributes\":{\"fill_alpha\":{\"value\":0.1},\"fill_color\":{\"value\":\"#1f77b4\"},\"line_alpha\":{\"value\":0.1},\"line_color\":{\"value\":\"#1f77b4\"},\"size\":{\"units\":\"screen\",\"value\":5},\"x\":{\"field\":\"x\"},\"y\":{\"field\":\"y\"}},\"id\":\"25f8f2b8-339c-45cc-8ca6-86a1a9b6793b\",\"type\":\"Circle\"},{\"attributes\":{\"source\":{\"id\":\"d855273b-7463-4b41-8698-4b5f0120f916\",\"type\":\"ColumnDataSource\"}},\"id\":\"b4035ef2-5a14-4bdb-af1e-e8a9aacd2ea9\",\"type\":\"CDSView\"},{\"attributes\":{\"source\":{\"id\":\"8200d5a3-201f-43bd-9761-ef35fc50e845\",\"type\":\"ColumnDataSource\"}},\"id\":\"739a2649-a4d7-4bd5-91fd-3e95625f8f07\",\"type\":\"CDSView\"},{\"attributes\":{},\"id\":\"845af4c4-29e0-446d-a130-5109efdc3f27\",\"type\":\"LinearScale\"},{\"attributes\":{\"label\":{\"value\":\"Small cell load = 0.32\"},\"renderers\":[{\"id\":\"597df3e1-76f1-4226-afa4-518881e28753\",\"type\":\"GlyphRenderer\"}]},\"id\":\"942ca09b-7745-4e9d-9f3c-c5e3d0ffb739\",\"type\":\"LegendItem\"},{\"attributes\":{\"fill_alpha\":{\"value\":0.1},\"fill_color\":{\"value\":\"#1f77b4\"},\"line_alpha\":{\"value\":0.1},\"line_color\":{\"value\":\"#1f77b4\"},\"size\":{\"units\":\"screen\",\"value\":5},\"x\":{\"field\":\"x\"},\"y\":{\"field\":\"y\"}},\"id\":\"9027c267-4535-4339-8949-5e0ffe962464\",\"type\":\"Circle\"},{\"attributes\":{},\"id\":\"bf98b966-6b05-465b-9825-30e4264934aa\",\"type\":\"BasicTicker\"},{\"attributes\":{},\"id\":\"82767fb6-3733-4e64-aab5-018413f8163f\",\"type\":\"SaveTool\"},{\"attributes\":{\"data_source\":{\"id\":\"d855273b-7463-4b41-8698-4b5f0120f916\",\"type\":\"ColumnDataSource\"},\"glyph\":{\"id\":\"f750a40b-61c4-4f18-8650-71d47149365e\",\"type\":\"Line\"},\"hover_glyph\":null,\"muted_glyph\":null,\"nonselection_glyph\":{\"id\":\"66480901-afca-43e1-8511-d80c8de958f3\",\"type\":\"Line\"},\"selection_glyph\":null,\"view\":{\"id\":\"b4035ef2-5a14-4bdb-af1e-e8a9aacd2ea9\",\"type\":\"CDSView\"}},\"id\":\"3b5cb6c4-9ed1-4fff-a9f2-13cc29d6a76d\",\"type\":\"GlyphRenderer\"},{\"attributes\":{\"callback\":null,\"column_names\":[\"x\",\"y\"],\"data\":{\"x\":[-10,-3.0588936890535687,-2.0588936890535687,-1.0588936890535685,0.0,1.0,2.0,3.0,7.0,9.0,10.0],\"y\":{\"__ndarray__\":\"CtejcD0FlEA9CtejcC2UQD0K16NwJJRArkfhehQjlEApXI/C9f6TQOF6FK5Hi5FAexSuR+GxkEAfhetRuJyQQHE9CtejcJBAUrgehetskEAK16NwPW2QQA==\",\"dtype\":\"float64\",\"shape\":[11]}}},\"id\":\"c5d3be1b-7645-4ed3-b154-2946f80977ad\",\"type\":\"ColumnDataSource\"},{\"attributes\":{\"fill_color\":{\"value\":\"white\"},\"line_color\":{\"value\":\"navy\"},\"size\":{\"units\":\"screen\",\"value\":5},\"x\":{\"field\":\"x\"},\"y\":{\"field\":\"y\"}},\"id\":\"33f5168b-9ea5-477a-815b-d23b85a0a5c4\",\"type\":\"Circle\"},{\"attributes\":{\"data_source\":{\"id\":\"92d36bcb-966f-4630-8053-d21c28e0f553\",\"type\":\"ColumnDataSource\"},\"glyph\":{\"id\":\"ee2e29c8-a782-4be7-b81b-62d643cf69b0\",\"type\":\"Line\"},\"hover_glyph\":null,\"muted_glyph\":null,\"nonselection_glyph\":{\"id\":\"ae9c855e-4aa7-4c41-86c0-f2fe40fce981\",\"type\":\"Line\"},\"selection_glyph\":null,\"view\":{\"id\":\"5ed7e941-44d5-4308-9e00-a4e4152a0831\",\"type\":\"CDSView\"}},\"id\":\"99e9483f-9af3-462e-8a30-7649f1dbca2a\",\"type\":\"GlyphRenderer\"},{\"attributes\":{\"callback\":null,\"column_names\":[\"x\",\"y\"],\"data\":{\"x\":[-10,-3.0588936890535687,-2.0588936890535687,-1.0588936890535685,0.02856915219677092,0.9855004303048849,2.007195501404204,2.996388746447621,6.999774561287003,8.999943643624247,10.00002817736235],\"y\":{\"__ndarray__\":\"hetRuB4ElUCamZmZmf6UQHsUrkfh+JRAKVyPwvXvlED2KFyPwu+UQArXo3A9zpRAXI/C9Sh4kUBI4XoUru2QQAAAAAAApZBAw/UoXI+ekECkcD0K152QQA==\",\"dtype\":\"float64\",\"shape\":[11]}}},\"id\":\"3c69d43b-64f9-4de4-8a2a-7fb3ccedd23a\",\"type\":\"ColumnDataSource\"},{\"attributes\":{\"fill_alpha\":{\"value\":0.1},\"fill_color\":{\"value\":\"#1f77b4\"},\"line_alpha\":{\"value\":0.1},\"line_color\":{\"value\":\"#1f77b4\"},\"size\":{\"units\":\"screen\",\"value\":5},\"x\":{\"field\":\"x\"},\"y\":{\"field\":\"y\"}},\"id\":\"4c9cc0b5-b9e9-4a06-a2fe-467e30266499\",\"type\":\"Circle\"},{\"attributes\":{\"callback\":null},\"id\":\"fe4d9118-0841-44c7-977e-4346b2064ec6\",\"type\":\"DataRange1d\"},{\"attributes\":{\"overlay\":{\"id\":\"8f5a0a53-cad1-4f13-8191-5001a1d67a84\",\"type\":\"BoxAnnotation\"}},\"id\":\"93fe15cb-731e-4f9b-9d97-b8ab487fce05\",\"type\":\"BoxZoomTool\"},{\"attributes\":{\"label\":{\"value\":\"Small cell load = 0.5\"},\"renderers\":[{\"id\":\"3b5cb6c4-9ed1-4fff-a9f2-13cc29d6a76d\",\"type\":\"GlyphRenderer\"}]},\"id\":\"63076c91-1b65-4ca1-94b4-a93a87d3b581\",\"type\":\"LegendItem\"},{\"attributes\":{\"data_source\":{\"id\":\"8200d5a3-201f-43bd-9761-ef35fc50e845\",\"type\":\"ColumnDataSource\"},\"glyph\":{\"id\":\"33f5168b-9ea5-477a-815b-d23b85a0a5c4\",\"type\":\"Circle\"},\"hover_glyph\":null,\"muted_glyph\":null,\"nonselection_glyph\":{\"id\":\"79fa0edc-432f-407f-99e6-986d6495b13c\",\"type\":\"Circle\"},\"selection_glyph\":null,\"view\":{\"id\":\"739a2649-a4d7-4bd5-91fd-3e95625f8f07\",\"type\":\"CDSView\"}},\"id\":\"e55b51d0-6595-4599-a991-77d51e2e60d1\",\"type\":\"GlyphRenderer\"},{\"attributes\":{\"items\":[{\"id\":\"ff50f86e-04ee-4581-aca2-f2d0f140b0db\",\"type\":\"LegendItem\"},{\"id\":\"cbe942ee-a584-40d3-8fdd-4b2a3b176bdd\",\"type\":\"LegendItem\"},{\"id\":\"942ca09b-7745-4e9d-9f3c-c5e3d0ffb739\",\"type\":\"LegendItem\"},{\"id\":\"63076c91-1b65-4ca1-94b4-a93a87d3b581\",\"type\":\"LegendItem\"}],\"label_text_color\":{\"value\":\"black\"},\"plot\":{\"id\":\"01a8d57f-98a3-4a07-9ce1-28653fe5a1b6\",\"subtype\":\"Figure\",\"type\":\"Plot\"}},\"id\":\"80f170fe-e680-4c50-833a-633521d45169\",\"type\":\"Legend\"},{\"attributes\":{\"grid_line_alpha\":{\"value\":0.1},\"grid_line_dash\":[2,2],\"plot\":{\"id\":\"01a8d57f-98a3-4a07-9ce1-28653fe5a1b6\",\"subtype\":\"Figure\",\"type\":\"Plot\"},\"ticker\":{\"id\":\"bf98b966-6b05-465b-9825-30e4264934aa\",\"type\":\"BasicTicker\"}},\"id\":\"4fbf3d4b-1980-40b0-9707-cff76f154015\",\"type\":\"Grid\"},{\"attributes\":{\"fill_color\":{\"value\":\"white\"},\"line_color\":{\"value\":\"navy\"},\"size\":{\"units\":\"screen\",\"value\":5},\"x\":{\"field\":\"x\"},\"y\":{\"field\":\"y\"}},\"id\":\"d63d6336-6df0-4220-9bc1-51d56f5736b4\",\"type\":\"Circle\"},{\"attributes\":{},\"id\":\"301905fc-8167-4b84-93f0-0a288e6da20d\",\"type\":\"BasicTicker\"},{\"attributes\":{\"fill_color\":{\"value\":\"white\"},\"line_color\":{\"value\":\"navy\"},\"size\":{\"units\":\"screen\",\"value\":5},\"x\":{\"field\":\"x\"},\"y\":{\"field\":\"y\"}},\"id\":\"c384c8bc-a6a0-4c44-9872-ffca098bc101\",\"type\":\"Circle\"},{\"attributes\":{\"line_color\":{\"value\":\"navy\"},\"line_dash\":[4,4],\"x\":{\"field\":\"x\"},\"y\":{\"field\":\"y\"}},\"id\":\"651ac3f6-da9a-4f63-a1fb-6eaa6f0a89de\",\"type\":\"Line\"},{\"attributes\":{},\"id\":\"93a23f4a-f08c-472b-badf-f9c4fbb8a587\",\"type\":\"ResetTool\"},{\"attributes\":{\"callback\":null,\"column_names\":[\"x\",\"y\"],\"data\":{\"x\":[-10,-3.0588936890535687,-2.0588936890535687,-1.0588936890535685,0.02856915219677092,0.9855004303048849,2.007195501404204,2.996388746447621,6.999774561287003,8.999943643624247,10.00002817736235],\"y\":{\"__ndarray__\":\"hetRuB4ElUCamZmZmf6UQHsUrkfh+JRAKVyPwvXvlED2KFyPwu+UQArXo3A9zpRAXI/C9Sh4kUBI4XoUru2QQAAAAAAApZBAw/UoXI+ekECkcD0K152QQA==\",\"dtype\":\"float64\",\"shape\":[11]}}},\"id\":\"f2a97e3c-bc92-4dff-9e2e-cb01fad0dfb0\",\"type\":\"ColumnDataSource\"},{\"attributes\":{\"dimension\":1,\"grid_line_alpha\":{\"value\":0.1},\"grid_line_dash\":[2,2],\"plot\":{\"id\":\"01a8d57f-98a3-4a07-9ce1-28653fe5a1b6\",\"subtype\":\"Figure\",\"type\":\"Plot\"},\"ticker\":{\"id\":\"301905fc-8167-4b84-93f0-0a288e6da20d\",\"type\":\"BasicTicker\"}},\"id\":\"66a3bee2-751c-4485-a885-9f01d609a82b\",\"type\":\"Grid\"}],\"root_ids\":[\"01a8d57f-98a3-4a07-9ce1-28653fe5a1b6\"]},\"title\":\"Bokeh Application\",\"version\":\"0.12.10\"}};\n",
       "    var render_items = [{\"docid\":\"8e39b9cf-2a8d-4408-b132-6f152349c8cd\",\"elementid\":\"1857f128-8c39-4dfc-860a-94f8595e7be4\",\"modelid\":\"01a8d57f-98a3-4a07-9ce1-28653fe5a1b6\"}];\n",
       "\n",
       "    root.Bokeh.embed.embed_items(docs_json, render_items);\n",
       "  }\n",
       "\n",
       "  if (root.Bokeh !== undefined) {\n",
       "    embed_document(root);\n",
       "  } else {\n",
       "    var attempts = 0;\n",
       "    var timer = setInterval(function(root) {\n",
       "      if (root.Bokeh !== undefined) {\n",
       "        embed_document(root);\n",
       "        clearInterval(timer);\n",
       "      }\n",
       "      attempts++;\n",
       "      if (attempts > 100) {\n",
       "        console.log(\"Bokeh: ERROR: Unable to embed document because BokehJS library is missing\")\n",
       "        clearInterval(timer);\n",
       "      }\n",
       "    }, 10, root)\n",
       "  }\n",
       "})(window);"
      ],
      "application/vnd.bokehjs_exec.v0+json": ""
     },
     "metadata": {
      "application/vnd.bokehjs_exec.v0+json": {
       "id": "01a8d57f-98a3-4a07-9ce1-28653fe5a1b6"
      }
     },
     "output_type": "display_data"
    }
   ],
   "source": [
    "p0 = figure(plot_width=600, plot_height=400)\n",
    "\n",
    "\n",
    "p0.line(logscale(1), df[df.small_arrival==1].avg_power, line_color='navy',legend='Small cell load = 0.05')\n",
    "p0.circle(logscale(1), df[df.small_arrival==1].avg_power, color='white', line_color='navy',size=5)\n",
    "p0.line(logscale(4), df[df.small_arrival==4].avg_power, line_color='navy',line_dash=\"15 2\",legend='Small cell load = 0.2')\n",
    "p0.circle(logscale(4), df[df.small_arrival==4].avg_power, color='white', line_color='navy',size=5)\n",
    "\n",
    "p0.line(logscale(6), df[df.small_arrival==6].avg_power, line_color='navy',line_dash=\"4 4\",legend='Small cell load = 0.32')\n",
    "p0.circle(logscale(6), df[df.small_arrival==6].avg_power, color='white', line_color='navy',size=5)\n",
    "\n",
    "p0.line(logscale(9), df[df.small_arrival==9].avg_power, line_color='navy',line_dash=\"1 4\",legend='Small cell load = 0.5')\n",
    "p0.circle(logscale(9), df[df.small_arrival==9].avg_power, color='white', line_color='navy',size=5)\n",
    "\n",
    "\n",
    "p0.grid.grid_line_dash = [2,2]\n",
    "p0.grid.grid_line_alpha = 0.1\n",
    "\n",
    "p0.xaxis.axis_label = 'idle time in logscale (relative to avg. avarrival time)'\n",
    "p0.yaxis.axis_label = 'Mean power'\n",
    "\n",
    "p0.xaxis.axis_label_text_color = 'black'\n",
    "p0.xaxis.major_label_text_color = 'black'\n",
    "p0.yaxis.axis_label_text_color = 'black'\n",
    "p0.yaxis.major_label_text_color = 'black'\n",
    "p0.legend.label_text_color = 'black'\n",
    "\n",
    "p0.legend.location  = 'top_right'\n",
    "p0.outline_line_color = 'black'\n",
    "\n",
    "show(p0)"
   ]
  },
  {
   "cell_type": "code",
   "execution_count": null,
   "metadata": {},
   "outputs": [],
   "source": []
  }
 ],
 "metadata": {
  "anaconda-cloud": {},
  "kernelspec": {
   "display_name": "Python [conda root]",
   "language": "python",
   "name": "conda-root-py"
  },
  "language_info": {
   "codemirror_mode": {
    "name": "ipython",
    "version": 3
   },
   "file_extension": ".py",
   "mimetype": "text/x-python",
   "name": "python",
   "nbconvert_exporter": "python",
   "pygments_lexer": "ipython3",
   "version": "3.5.2"
  }
 },
 "nbformat": 4,
 "nbformat_minor": 1
}
